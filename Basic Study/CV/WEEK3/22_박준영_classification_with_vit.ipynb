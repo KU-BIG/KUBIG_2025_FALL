{
  "cells": [
    {
      "cell_type": "markdown",
      "metadata": {
        "id": "un0kSCKKPz_r"
      },
      "source": [
        "# ViT assignment"
      ]
    },
    {
      "cell_type": "markdown",
      "metadata": {
        "id": "-hYQBhItP4Em"
      },
      "source": [
        "colab의 경우, 런타임 유형을 GPU로 바꿔주세요."
      ]
    },
    {
      "cell_type": "markdown",
      "metadata": {
        "id": "yCaKr-jb-RuF"
      },
      "source": [
        "# 0. Setting"
      ]
    },
    {
      "cell_type": "code",
      "execution_count": 19,
      "metadata": {
        "id": "VGdid66o92_a"
      },
      "outputs": [],
      "source": [
        "import torch\n",
        "import torch.nn as nn\n",
        "import torch.optim as optim\n",
        "from torch.utils.data import DataLoader\n",
        "from torchvision import datasets, transforms\n",
        "from einops import repeat\n",
        "from einops.layers.torch import Rearrange\n",
        "from torch import Tensor\n",
        "import math\n",
        "import time\n",
        "from tqdm import tqdm"
      ]
    },
    {
      "cell_type": "markdown",
      "metadata": {
        "id": "j0FY_DkY-BOc"
      },
      "source": [
        "# 1. Project input to patches"
      ]
    },
    {
      "cell_type": "code",
      "execution_count": 2,
      "metadata": {
        "colab": {
          "base_uri": "https://localhost:8080/"
        },
        "id": "HVBEFoV7-a1u",
        "outputId": "b1b0ead5-9df9-42a4-cc52-9c7acec209ba"
      },
      "outputs": [
        {
          "output_type": "stream",
          "name": "stdout",
          "text": [
            "Input shape: torch.Size([8, 3, 224, 224])\n",
            "Patch embeddings shape: torch.Size([8, 196, 768])\n",
            "Number of patches: 196\n"
          ]
        }
      ],
      "source": [
        "class PatchProjection(nn.Module):\n",
        "    def __init__(self, in_channels=3, patch_size=16, emb_size=768, img_size=224):\n",
        "        super().__init__()\n",
        "        self.patch_size = patch_size\n",
        "        self.num_patches = (img_size * img_size) // (patch_size * patch_size) # 이미지 크기와 패치 크기에 따른 총 패치 수 계산\n",
        "\n",
        "        self.projection = nn.Sequential(\n",
        "            nn.Conv2d(in_channels, emb_size, patch_size, patch_size),\n",
        "            Rearrange('b emb_size h w -> b (h w) emb_size')\n",
        "            # TODO: 패치 임베딩을 위한 핵심 레이어 (Conv2d)와 차원 재배치(Rearrange)를 완성하세요\n",
        "            # 힌트: Conv2d 커널 크기와 스트라이드는 patch_size와 같아야 합니다. -> 커널이 겹치지 않게 하기 위해\n",
        "            #       Rearrange는 (b, emb_size, h, w) -> (b, h*w, emb_size) 형태로 변환합니다.\n",
        "        )\n",
        "\n",
        "        self._init_weights()\n",
        "\n",
        "    def _init_weights(self):\n",
        "        for m in self.modules():\n",
        "            if isinstance(m, nn.Conv2d):\n",
        "                nn.init.xavier_uniform_(m.weight)\n",
        "                if m.bias is not None:\n",
        "                    nn.init.constant_(m.bias, 0)\n",
        "\n",
        "    def forward(self, x: Tensor) -> Tensor:\n",
        "        x = self.projection(x)\n",
        "\n",
        "        return x\n",
        "\n",
        "\n",
        "# Test\n",
        "if __name__ == \"__main__\":\n",
        "    x = torch.randn(8, 3, 224, 224)\n",
        "    patch_proj = PatchProjection()\n",
        "    out = patch_proj(x)\n",
        "    print(f'Input shape: {x.shape}')\n",
        "    print(f'Patch embeddings shape: {out.shape}')\n",
        "    print(f'Number of patches: {patch_proj.num_patches}')"
      ]
    },
    {
      "cell_type": "markdown",
      "metadata": {
        "id": "9XXVMCsl-rP9"
      },
      "source": [
        "# 2. Patches embedding"
      ]
    },
    {
      "cell_type": "code",
      "execution_count": 3,
      "metadata": {
        "colab": {
          "base_uri": "https://localhost:8080/"
        },
        "id": "t5-Ulu9Z-n_W",
        "outputId": "fd61f217-45fc-4be9-d18f-feea9b5523f7"
      },
      "outputs": [
        {
          "output_type": "stream",
          "name": "stdout",
          "text": [
            "Input shape: torch.Size([8, 3, 224, 224])\n",
            "Output shape: torch.Size([8, 197, 768])\n",
            "Expected: (8, 197, 768)\n"
          ]
        }
      ],
      "source": [
        "class PatchEmbedding(nn.Module):\n",
        "    def __init__(self, in_channels=3, patch_size=16, emb_size=768, img_size=224):\n",
        "        super().__init__()\n",
        "        self.patch_size = patch_size\n",
        "        self.num_patches = (img_size * img_size) // (patch_size * patch_size) # 이미지 크기와 패치 크기에 따른 총 패치 수 계산\n",
        "\n",
        "        self.projection = nn.Sequential(\n",
        "            nn.Conv2d(in_channels, emb_size, patch_size, patch_size),\n",
        "            Rearrange('b emb_size h w -> b (h w) emb_size')\n",
        "            # TODO: 패치 임베딩을 위한 핵심 레이어 (Conv2d)와 차원 재배치(Rearrange)를 완성하세요\n",
        "            # 힌트: Conv2d 커널 크기와 스트라이드는 patch_size와 같아야 합니다. -> 커널이 겹치지 않게 하기 위해\n",
        "            #       Rearrange는 (b, emb_size, h, w) -> (b, h*w, emb_size) 형태로 변환합니다.\n",
        "        )\n",
        "\n",
        "\n",
        "        # CLS token and positional encoding\n",
        "        self.cls_token = nn.Parameter(torch.randn(1, 1, emb_size))  # 맨 앞대가리에만 붙음\n",
        "        self.positions = nn.Parameter(torch.randn(self.num_patches + 1, emb_size))  # 패치 개수 + cls_token\n",
        "\n",
        "        self._init_weights()\n",
        "\n",
        "    def _init_weights(self):\n",
        "        for m in self.modules():\n",
        "            if isinstance(m, nn.Conv2d):\n",
        "                nn.init.xavier_uniform_(m.weight)\n",
        "                if m.bias is not None:\n",
        "                    nn.init.constant_(m.bias, 0)\n",
        "\n",
        "        nn.init.trunc_normal_(self.cls_token, std=0.02)\n",
        "        nn.init.trunc_normal_(self.positions, std=0.02)\n",
        "\n",
        "    def forward(self, x: Tensor) -> Tensor:\n",
        "        B = x.shape[0]\n",
        "        x = self.projection(x)        # Project to patches\n",
        "        # TODO: self.projection을 활용해 patch embedding을 수행하세요.\n",
        "\n",
        "        cls_token = self.cls_token.expand(B, -1, -1)\n",
        "        x = torch.cat((cls_token, x), dim=1)    # Add CLS token\n",
        "        # TODO: batch 크기에 맞게 cls_token을 확장하고 입력에 연결하세요.\n",
        "\n",
        "        x = x + self.positions  # Add positional encoding\n",
        "        # TODO: positional encoding을 더하세요.\n",
        "\n",
        "        return x\n",
        "\n",
        "# Test\n",
        "if __name__ == \"__main__\":\n",
        "    x = torch.randn(8, 3, 224, 224)\n",
        "    patch_emb = PatchEmbedding()\n",
        "    out = patch_emb(x)\n",
        "    print(f'Input shape: {x.shape}')\n",
        "    print(f'Output shape: {out.shape}')\n",
        "    print(f'Expected: (8, 197, 768)') # 196 patches + 1 CLS token"
      ]
    },
    {
      "cell_type": "markdown",
      "metadata": {
        "id": "BhR6ukKj-zBJ"
      },
      "source": [
        "# 3. Multi Head Attention (MHA)"
      ]
    },
    {
      "cell_type": "code",
      "execution_count": 7,
      "metadata": {
        "colab": {
          "base_uri": "https://localhost:8080/"
        },
        "id": "YBJTJmUN-yZW",
        "outputId": "15fcc38f-2146-4c83-dfdc-4093026ac9e6"
      },
      "outputs": [
        {
          "output_type": "stream",
          "name": "stdout",
          "text": [
            "Input shape: torch.Size([8, 197, 768])\n",
            "Output shape: torch.Size([8, 197, 768])\n",
            "Parameters: 2,360,064\n"
          ]
        }
      ],
      "source": [
        "class MultiHeadAttention(nn.Module):\n",
        "    def __init__(self, emb_size=768, num_heads=12, dropout=0.1):\n",
        "        super().__init__()\n",
        "        self.emb_size = emb_size\n",
        "        self.num_heads = num_heads\n",
        "        self.head_dim = emb_size // num_heads\n",
        "        self.scale = self.head_dim ** -0.5\n",
        "\n",
        "        assert emb_size % num_heads == 0\n",
        "\n",
        "        # Q, K, V projections\n",
        "        self.qkv = nn.Linear(emb_size, emb_size * 3, bias=False)\n",
        "        self.proj = nn.Linear(emb_size, emb_size, bias=True)\n",
        "        # TODO: Q, K, V를 한 번에 만드는 선형레이어와\n",
        "        #       출력 투영 선형레이어를 선언하세요.\n",
        "        #       bias는 qkv에선 False로, proj에선 True(기본)로 둡니다.\n",
        "        self.dropout = nn.Dropout(dropout)\n",
        "        self._init_weights()\n",
        "\n",
        "    def _init_weights(self):\n",
        "        nn.init.xavier_uniform_(self.qkv.weight)\n",
        "        nn.init.xavier_uniform_(self.proj.weight)\n",
        "        nn.init.constant_(self.proj.bias, 0)\n",
        "\n",
        "    def forward(self, x: Tensor) -> Tensor:\n",
        "        B, N, C = x.shape\n",
        "\n",
        "        # Generate Q, K, V\n",
        "        x = self.qkv(x)\n",
        "        x = x.reshape(B, N, 3, self.num_heads, self.head_dim)\n",
        "        x = x.permute(2, 0, 3, 1, 4)\n",
        "        q, k, v = torch.chunk(x, 3, dim=0)\n",
        "        q = q.squeeze(0)\n",
        "        k = k.squeeze(0)\n",
        "        v = v.squeeze(0)\n",
        "\n",
        "        # TODO: qkv 선형레이어로 Q,K,V 생성 후 (B, N, 3, num_heads, head_dim)으로 reshape 하고,\n",
        "        #       (3, B, num_heads, N, head_dim)으로 permute하여 q,k,v로 분리하세요.\n",
        "\n",
        "        # Attention computation\n",
        "        x = (q @ k.transpose(-2,-1)) * self.scale\n",
        "        x = x.softmax(dim=-1)\n",
        "        x = self.dropout(x)\n",
        "        # TODO: scaled dot-product attention 계산 후 softmax, dropout 적용\n",
        "\n",
        "        # Apply attention to values\n",
        "        x = x @ v   # (B, num_heads, N, head_dim)\n",
        "        x = x.transpose(1, 2)\n",
        "        x = x.reshape(B, N, C)\n",
        "        x = self.proj(x)\n",
        "        x = self.dropout(x)\n",
        "        # TODO: attention 결과에 v를 곱하고,\n",
        "        #       (B, N, C) 형태로 reshape 후 proj와 dropout 적용\n",
        "\n",
        "        return x\n",
        "\n",
        "\n",
        "# Test\n",
        "if __name__ == \"__main__\":\n",
        "    x = torch.randn(8, 197, 768)  # (batch, patches+cls, emb_size)\n",
        "    mha = MultiHeadAttention()\n",
        "    out = mha(x)\n",
        "    print(f'Input shape: {x.shape}')\n",
        "    print(f'Output shape: {out.shape}')\n",
        "    print(f'Parameters: {sum(p.numel() for p in mha.parameters()):,}')"
      ]
    },
    {
      "cell_type": "markdown",
      "metadata": {
        "id": "91glGnw--8wB"
      },
      "source": [
        "# 4. Transformer Encoder Block"
      ]
    },
    {
      "cell_type": "code",
      "execution_count": 10,
      "metadata": {
        "colab": {
          "base_uri": "https://localhost:8080/"
        },
        "id": "4-OZsyS_-60F",
        "outputId": "67ccce68-7c3a-41be-9199-fda4ba2d97d5"
      },
      "outputs": [
        {
          "output_type": "stream",
          "name": "stdout",
          "text": [
            "Input shape: torch.Size([8, 197, 768])\n",
            "Output shape: torch.Size([8, 197, 768])\n",
            "Parameters: 7,085,568\n"
          ]
        }
      ],
      "source": [
        "class MLP(nn.Module):\n",
        "    def __init__(self, emb_size=768, mlp_ratio=4, dropout=0.1):\n",
        "        super().__init__()\n",
        "        hidden_size = int(emb_size * mlp_ratio)\n",
        "\n",
        "        self.net = nn.Sequential(\n",
        "            nn.Linear(emb_size, hidden_size),\n",
        "            nn.GELU(),\n",
        "            nn.Dropout(dropout),\n",
        "\n",
        "            nn.Linear(hidden_size, emb_size)\n",
        "            # TODO: nn.Sequential을 활용해\n",
        "            #       emb_size -> hidden_size -> emb_size 순서의 MLP를 만드세요.\n",
        "            #       중간에 GELU와 Dropout 포함\n",
        "        )\n",
        "\n",
        "        self._init_weights()\n",
        "\n",
        "    def _init_weights(self):\n",
        "        for m in self.modules():\n",
        "            if isinstance(m, nn.Linear):\n",
        "                nn.init.xavier_uniform_(m.weight)\n",
        "                nn.init.constant_(m.bias, 0)\n",
        "\n",
        "    def forward(self, x: Tensor) -> Tensor:\n",
        "        return self.net(x)\n",
        "\n",
        "\n",
        "class MultiHeadAttention(nn.Module):\n",
        "    def __init__(self, emb_size=768, num_heads=12, dropout=0.1):\n",
        "        super().__init__()\n",
        "        self.emb_size = emb_size\n",
        "        self.num_heads = num_heads\n",
        "        self.head_dim = emb_size // num_heads\n",
        "        self.scale = self.head_dim ** -0.5\n",
        "\n",
        "        assert emb_size % num_heads == 0\n",
        "\n",
        "        # Q, K, V projections\n",
        "        self.qkv = nn.Linear(emb_size, emb_size * 3, bias=False)\n",
        "        self.proj = nn.Linear(emb_size, emb_size, bias=True)\n",
        "        # TODO: Q, K, V를 한 번에 만드는 선형레이어와\n",
        "        #       출력 투영 선형레이어를 선언하세요.\n",
        "        #       bias는 qkv에선 False로, proj에선 True(기본)로 둡니다.\n",
        "        self.dropout = nn.Dropout(dropout)\n",
        "        self._init_weights()\n",
        "\n",
        "    def _init_weights(self):\n",
        "        nn.init.xavier_uniform_(self.qkv.weight)\n",
        "        nn.init.xavier_uniform_(self.proj.weight)\n",
        "        nn.init.constant_(self.proj.bias, 0)\n",
        "\n",
        "    def forward(self, x: Tensor) -> Tensor:\n",
        "        B, N, C = x.shape\n",
        "\n",
        "        # Generate Q, K, V\n",
        "        x = self.qkv(x)\n",
        "        x = x.reshape(B, N, 3, self.num_heads, self.head_dim)\n",
        "        x = x.permute(2, 0, 3, 1, 4)\n",
        "        q, k, v = torch.chunk(x, 3, dim=0)\n",
        "        q = q.squeeze(0)\n",
        "        k = k.squeeze(0)\n",
        "        v = v.squeeze(0)\n",
        "\n",
        "        # TODO: qkv 선형레이어로 Q,K,V 생성 후 (B, N, 3, num_heads, head_dim)으로 reshape 하고,\n",
        "        #       (3, B, num_heads, N, head_dim)으로 permute하여 q,k,v로 분리하세요.\n",
        "\n",
        "        # Attention computation\n",
        "        x = (q @ k.transpose(-2,-1)) * self.scale\n",
        "        x = x.softmax(dim=-1)\n",
        "        x = self.dropout(x)\n",
        "        # TODO: scaled dot-product attention 계산 후 softmax, dropout 적용\n",
        "\n",
        "        # Apply attention to values\n",
        "        x = x @ v   # (B, num_heads, N, head_dim)\n",
        "        x = x.transpose(1, 2)\n",
        "        x = x.reshape(B, N, C)\n",
        "        x = self.proj(x)\n",
        "        x = self.dropout(x)\n",
        "        # TODO: attention 결과에 v를 곱하고,\n",
        "        #       (B, N, C) 형태로 reshape 후 proj와 dropout 적용\n",
        "\n",
        "        return x\n",
        "\n",
        "\n",
        "\n",
        "class TransformerEncoderBlock(nn.Module):\n",
        "    def __init__(self, emb_size=768, num_heads=12, mlp_ratio=4, dropout=0.1):\n",
        "        super().__init__()\n",
        "\n",
        "        self.norm1 = nn.LayerNorm(emb_size)\n",
        "        self.norm2 = nn.LayerNorm(emb_size)\n",
        "\n",
        "        self.attention = MultiHeadAttention(emb_size, num_heads, dropout)\n",
        "        self.mlp = MLP(emb_size, mlp_ratio, dropout)\n",
        "\n",
        "        # TODO: LayerNorm 2개, MultiHeadAttention, MLP 선언\n",
        "\n",
        "    def forward(self, x: Tensor) -> Tensor:\n",
        "        # Pre-norm + residual connection for attention\n",
        "        x = x + self.attention(self.norm1(x))\n",
        "\n",
        "        # Pre-norm + residual connection for MLP\n",
        "        x = x + self.mlp(self.norm2(x))\n",
        "\n",
        "        return x\n",
        "\n",
        "\n",
        "# Test\n",
        "if __name__ == \"__main__\":\n",
        "    x = torch.randn(8, 197, 768)\n",
        "    block = TransformerEncoderBlock()\n",
        "    out = block(x)\n",
        "    print(f'Input shape: {x.shape}')\n",
        "    print(f'Output shape: {out.shape}')\n",
        "    print(f'Parameters: {sum(p.numel() for p in block.parameters()):,}')"
      ]
    },
    {
      "cell_type": "markdown",
      "metadata": {
        "id": "8GQ4-g8m_Cae"
      },
      "source": [
        "# 5. Complete ViT"
      ]
    },
    {
      "cell_type": "code",
      "execution_count": 12,
      "metadata": {
        "colab": {
          "base_uri": "https://localhost:8080/"
        },
        "id": "1RWUlqVx_AY1",
        "outputId": "5ccb450c-ef82-4cca-8fa5-82c3529e83f3"
      },
      "outputs": [
        {
          "output_type": "stream",
          "name": "stdout",
          "text": [
            "Input shape: torch.Size([2, 3, 224, 224])\n",
            "Output shape: torch.Size([2, 1000])\n",
            "Total parameters: 86,540,008\n",
            "\n",
            "=== ViT Configurations ===\n",
            "ViT-Tiny: 5,710,504 parameters\n",
            "ViT-Small: 22,036,840 parameters\n",
            "ViT-Base: 86,540,008 parameters\n",
            "ViT-Large: 304,252,904 parameters\n"
          ]
        }
      ],
      "source": [
        "class VisionTransformer(nn.Module):\n",
        "    def __init__(\n",
        "        self,\n",
        "        img_size=224,\n",
        "        patch_size=16,\n",
        "        in_channels=3,\n",
        "        num_classes=1000,\n",
        "        emb_size=768,\n",
        "        depth=12,\n",
        "        num_heads=12,\n",
        "        mlp_ratio=4,\n",
        "        dropout=0.1,\n",
        "        drop_path=0.0\n",
        "    ):\n",
        "        super().__init__()\n",
        "\n",
        "        # Patch embedding (from Stage 2)\n",
        "        self.patch_embed = PatchEmbedding(in_channels, patch_size, emb_size, img_size)\n",
        "\n",
        "        # Transformer encoder blocks (from Stage 4)\n",
        "        self.blocks = nn.ModuleList([\n",
        "            TransformerEncoderBlock(emb_size, num_heads, mlp_ratio, dropout)\n",
        "            for _ in range(depth)\n",
        "        ])\n",
        "\n",
        "        # Classification head\n",
        "        self.norm = nn.LayerNorm(emb_size)\n",
        "        self.head = nn.Linear(emb_size, num_classes)\n",
        "\n",
        "        self._init_weights()\n",
        "\n",
        "    def _init_weights(self):\n",
        "        nn.init.trunc_normal_(self.head.weight, std=0.02)\n",
        "        nn.init.constant_(self.head.bias, 0)\n",
        "\n",
        "    def forward(self, x: Tensor) -> Tensor:\n",
        "        x = self.patch_embed(x)\n",
        "        # TODO: patch embedding 적용\n",
        "\n",
        "        for block in self.blocks :\n",
        "            x = block(x)\n",
        "        # TODO: Transformer encoder blocks 순차 적용\n",
        "\n",
        "        # Classification head (use CLS token)\n",
        "        x = self.norm(x)\n",
        "        cls_token = x[:, 0]  # Extract CLS token\n",
        "        x = self.head(cls_token)\n",
        "\n",
        "        return x\n",
        "\n",
        "\n",
        "# Test\n",
        "if __name__ == \"__main__\":\n",
        "    # ViT-Base configuration\n",
        "    model = VisionTransformer(\n",
        "        img_size=224,\n",
        "        patch_size=16,\n",
        "        in_channels=3,\n",
        "        num_classes=1000,\n",
        "        emb_size=768,\n",
        "        depth=12,\n",
        "        num_heads=12,\n",
        "        mlp_ratio=4,\n",
        "        dropout=0.1\n",
        "    )\n",
        "\n",
        "    x = torch.randn(2, 3, 224, 224)\n",
        "    out = model(x)\n",
        "\n",
        "    print(f'Input shape: {x.shape}')\n",
        "    print(f'Output shape: {out.shape}')\n",
        "    print(f'Total parameters: {sum(p.numel() for p in model.parameters()):,}')\n",
        "\n",
        "    # Different ViT configurations\n",
        "    print('\\n=== ViT Configurations ===')\n",
        "    configs = {\n",
        "        'ViT-Tiny': {'emb_size': 192, 'depth': 12, 'num_heads': 3},\n",
        "        'ViT-Small': {'emb_size': 384, 'depth': 12, 'num_heads': 6},\n",
        "        'ViT-Base': {'emb_size': 768, 'depth': 12, 'num_heads': 12},\n",
        "        'ViT-Large': {'emb_size': 1024, 'depth': 24, 'num_heads': 16},\n",
        "    }\n",
        "\n",
        "    for name, config in configs.items():\n",
        "        model = VisionTransformer(**config, num_classes=1000)\n",
        "        params = sum(p.numel() for p in model.parameters())\n",
        "        print(f'{name}: {params:,} parameters')"
      ]
    },
    {
      "cell_type": "markdown",
      "metadata": {
        "id": "AGSRZJkAEuIx"
      },
      "source": [
        "# 6. ViT for CIFAR-10"
      ]
    },
    {
      "cell_type": "markdown",
      "metadata": {
        "id": "UGNIxhaYZlcp"
      },
      "source": [
        "위의 코드를 완성했다면, 아래 코드를 실행하여 전체 모델을 테스트할 수 있습니다."
      ]
    },
    {
      "cell_type": "code",
      "execution_count": 21,
      "metadata": {
        "colab": {
          "base_uri": "https://localhost:8080/"
        },
        "id": "DQerYjbvEt1T",
        "outputId": "851876a2-e797-4477-f766-fac7ab354c55"
      },
      "outputs": [
        {
          "output_type": "stream",
          "name": "stdout",
          "text": [
            "Input shape: torch.Size([4, 3, 32, 32])\n",
            "Output shape: torch.Size([4, 10])\n",
            "Parameters: 4,766,474\n"
          ]
        },
        {
          "output_type": "stream",
          "name": "stderr",
          "text": [
            "\r  0%|          | 0/30 [00:00<?, ?it/s]"
          ]
        },
        {
          "output_type": "stream",
          "name": "stdout",
          "text": [
            "\n",
            "Epoch 1/30\n",
            "Batch 0: Loss 2.3533, Acc 9.77%\n",
            "Batch 100: Loss 2.3398, Acc 11.17%\n"
          ]
        },
        {
          "output_type": "stream",
          "name": "stderr",
          "text": [
            "\r  3%|▎         | 1/30 [00:44<21:21, 44.20s/it]"
          ]
        },
        {
          "output_type": "stream",
          "name": "stdout",
          "text": [
            "Train Loss: 2.3290, Train Acc: 11.34%\n",
            "Test Loss: 2.3277, Test Acc: 11.89%\n",
            "LR: 0.000500, Epoch time: 44.15s\n",
            "\n",
            "Epoch 2/30\n",
            "Batch 0: Loss 2.3341, Acc 10.94%\n",
            "Batch 100: Loss 1.9605, Acc 26.14%\n"
          ]
        },
        {
          "output_type": "stream",
          "name": "stderr",
          "text": [
            "\r  7%|▋         | 2/30 [01:26<20:09, 43.20s/it]"
          ]
        },
        {
          "output_type": "stream",
          "name": "stdout",
          "text": [
            "Train Loss: 1.9489, Train Acc: 30.16%\n",
            "Test Loss: 1.7733, Test Acc: 39.28%\n",
            "LR: 0.000499, Epoch time: 42.45s\n",
            "\n",
            "Epoch 3/30\n",
            "Batch 0: Loss 1.7866, Acc 38.67%\n",
            "Batch 100: Loss 1.7769, Acc 39.26%\n"
          ]
        },
        {
          "output_type": "stream",
          "name": "stderr",
          "text": [
            "\r 10%|█         | 3/30 [02:10<19:38, 43.65s/it]"
          ]
        },
        {
          "output_type": "stream",
          "name": "stdout",
          "text": [
            "Train Loss: 1.7381, Train Acc: 41.43%\n",
            "Test Loss: 1.6473, Test Acc: 46.47%\n",
            "LR: 0.000494, Epoch time: 44.13s\n",
            "\n",
            "Epoch 4/30\n",
            "Batch 0: Loss 1.7577, Acc 46.88%\n",
            "Batch 100: Loss 1.5907, Acc 46.93%\n"
          ]
        },
        {
          "output_type": "stream",
          "name": "stderr",
          "text": [
            "\r 13%|█▎        | 4/30 [02:54<18:52, 43.57s/it]"
          ]
        },
        {
          "output_type": "stream",
          "name": "stdout",
          "text": [
            "Train Loss: 1.6079, Train Acc: 48.44%\n",
            "Test Loss: 1.5705, Test Acc: 50.38%\n",
            "LR: 0.000487, Epoch time: 43.41s\n",
            "\n",
            "Epoch 5/30\n",
            "Batch 0: Loss 1.5572, Acc 50.00%\n",
            "Batch 100: Loss 1.5119, Acc 50.89%\n"
          ]
        },
        {
          "output_type": "stream",
          "name": "stderr",
          "text": [
            "\r 17%|█▋        | 5/30 [03:37<18:09, 43.58s/it]"
          ]
        },
        {
          "output_type": "stream",
          "name": "stdout",
          "text": [
            "Train Loss: 1.5401, Train Acc: 51.72%\n",
            "Test Loss: 1.5192, Test Acc: 52.65%\n",
            "LR: 0.000477, Epoch time: 43.52s\n",
            "\n",
            "Epoch 6/30\n",
            "Batch 0: Loss 1.4863, Acc 54.30%\n",
            "Batch 100: Loss 1.5363, Acc 53.62%\n"
          ]
        },
        {
          "output_type": "stream",
          "name": "stderr",
          "text": [
            "\r 20%|██        | 6/30 [04:21<17:26, 43.61s/it]"
          ]
        },
        {
          "output_type": "stream",
          "name": "stdout",
          "text": [
            "Train Loss: 1.5004, Train Acc: 53.57%\n",
            "Test Loss: 1.4643, Test Acc: 55.04%\n",
            "LR: 0.000464, Epoch time: 43.63s\n",
            "\n",
            "Epoch 7/30\n",
            "Batch 0: Loss 1.4249, Acc 58.98%\n",
            "Batch 100: Loss 1.3975, Acc 55.34%\n"
          ]
        },
        {
          "output_type": "stream",
          "name": "stderr",
          "text": [
            "\r 23%|██▎       | 7/30 [05:05<16:41, 43.56s/it]"
          ]
        },
        {
          "output_type": "stream",
          "name": "stdout",
          "text": [
            "Train Loss: 1.4678, Train Acc: 55.27%\n",
            "Test Loss: 1.4641, Test Acc: 55.82%\n",
            "LR: 0.000449, Epoch time: 43.42s\n",
            "\n",
            "Epoch 8/30\n",
            "Batch 0: Loss 1.4750, Acc 55.08%\n",
            "Batch 100: Loss 1.4033, Acc 56.40%\n"
          ]
        },
        {
          "output_type": "stream",
          "name": "stderr",
          "text": [
            "\r 27%|██▋       | 8/30 [05:49<16:02, 43.73s/it]"
          ]
        },
        {
          "output_type": "stream",
          "name": "stdout",
          "text": [
            "Train Loss: 1.4338, Train Acc: 57.13%\n",
            "Test Loss: 1.4693, Test Acc: 56.28%\n",
            "LR: 0.000431, Epoch time: 44.05s\n",
            "\n",
            "Epoch 9/30\n",
            "Batch 0: Loss 1.4133, Acc 59.77%\n",
            "Batch 100: Loss 1.4163, Acc 58.28%\n"
          ]
        },
        {
          "output_type": "stream",
          "name": "stderr",
          "text": [
            "\r 30%|███       | 9/30 [06:32<15:16, 43.66s/it]"
          ]
        },
        {
          "output_type": "stream",
          "name": "stdout",
          "text": [
            "Train Loss: 1.4101, Train Acc: 57.97%\n",
            "Test Loss: 1.4211, Test Acc: 57.28%\n",
            "LR: 0.000412, Epoch time: 43.44s\n",
            "\n",
            "Epoch 10/30\n",
            "Batch 0: Loss 1.3806, Acc 57.03%\n",
            "Batch 100: Loss 1.4415, Acc 59.13%\n"
          ]
        },
        {
          "output_type": "stream",
          "name": "stderr",
          "text": [
            "\r 33%|███▎      | 10/30 [07:16<14:32, 43.65s/it]"
          ]
        },
        {
          "output_type": "stream",
          "name": "stdout",
          "text": [
            "Train Loss: 1.3839, Train Acc: 59.33%\n",
            "Test Loss: 1.3950, Test Acc: 58.62%\n",
            "LR: 0.000390, Epoch time: 43.58s\n",
            "\n",
            "Epoch 11/30\n",
            "Batch 0: Loss 1.3819, Acc 56.25%\n",
            "Batch 100: Loss 1.3042, Acc 60.39%\n"
          ]
        },
        {
          "output_type": "stream",
          "name": "stderr",
          "text": [
            "\r 37%|███▋      | 11/30 [08:00<13:50, 43.72s/it]"
          ]
        },
        {
          "output_type": "stream",
          "name": "stdout",
          "text": [
            "Train Loss: 1.3558, Train Acc: 60.82%\n",
            "Test Loss: 1.3792, Test Acc: 59.56%\n",
            "LR: 0.000367, Epoch time: 43.84s\n",
            "\n",
            "Epoch 12/30\n",
            "Batch 0: Loss 1.3044, Acc 64.06%\n",
            "Batch 100: Loss 1.3803, Acc 61.51%\n"
          ]
        },
        {
          "output_type": "stream",
          "name": "stderr",
          "text": [
            "\r 40%|████      | 12/30 [08:43<13:04, 43.59s/it]"
          ]
        },
        {
          "output_type": "stream",
          "name": "stdout",
          "text": [
            "Train Loss: 1.3385, Train Acc: 61.60%\n",
            "Test Loss: 1.3880, Test Acc: 60.13%\n",
            "LR: 0.000343, Epoch time: 43.23s\n",
            "\n",
            "Epoch 13/30\n",
            "Batch 0: Loss 1.3345, Acc 62.89%\n",
            "Batch 100: Loss 1.4197, Acc 62.30%\n"
          ]
        },
        {
          "output_type": "stream",
          "name": "stderr",
          "text": [
            "\r 43%|████▎     | 13/30 [09:27<12:21, 43.60s/it]"
          ]
        },
        {
          "output_type": "stream",
          "name": "stdout",
          "text": [
            "Train Loss: 1.3164, Train Acc: 62.61%\n",
            "Test Loss: 1.3621, Test Acc: 60.60%\n",
            "LR: 0.000317, Epoch time: 43.58s\n",
            "\n",
            "Epoch 14/30\n",
            "Batch 0: Loss 1.3009, Acc 64.84%\n",
            "Batch 100: Loss 1.2477, Acc 63.74%\n"
          ]
        },
        {
          "output_type": "stream",
          "name": "stderr",
          "text": [
            "\r 47%|████▋     | 14/30 [10:10<11:37, 43.61s/it]"
          ]
        },
        {
          "output_type": "stream",
          "name": "stdout",
          "text": [
            "Train Loss: 1.2869, Train Acc: 63.95%\n",
            "Test Loss: 1.2910, Test Acc: 63.54%\n",
            "LR: 0.000290, Epoch time: 43.57s\n",
            "\n",
            "Epoch 15/30\n",
            "Batch 0: Loss 1.3124, Acc 62.89%\n",
            "Batch 100: Loss 1.3135, Acc 65.05%\n"
          ]
        },
        {
          "output_type": "stream",
          "name": "stderr",
          "text": [
            "\r 50%|█████     | 15/30 [10:54<10:52, 43.52s/it]"
          ]
        },
        {
          "output_type": "stream",
          "name": "stdout",
          "text": [
            "Train Loss: 1.2616, Train Acc: 65.04%\n",
            "Test Loss: 1.3362, Test Acc: 62.02%\n",
            "LR: 0.000264, Epoch time: 43.30s\n",
            "\n",
            "Epoch 16/30\n",
            "Batch 0: Loss 1.1430, Acc 69.92%\n",
            "Batch 100: Loss 1.2600, Acc 65.69%\n"
          ]
        },
        {
          "output_type": "stream",
          "name": "stderr",
          "text": [
            "\r 53%|█████▎    | 16/30 [11:37<10:11, 43.65s/it]"
          ]
        },
        {
          "output_type": "stream",
          "name": "stdout",
          "text": [
            "Train Loss: 1.2465, Train Acc: 65.79%\n",
            "Test Loss: 1.2913, Test Acc: 63.73%\n",
            "LR: 0.000236, Epoch time: 43.93s\n",
            "\n",
            "Epoch 17/30\n",
            "Batch 0: Loss 1.1527, Acc 67.19%\n",
            "Batch 100: Loss 1.1159, Acc 66.49%\n"
          ]
        },
        {
          "output_type": "stream",
          "name": "stderr",
          "text": [
            "\r 57%|█████▋    | 17/30 [12:21<09:25, 43.52s/it]"
          ]
        },
        {
          "output_type": "stream",
          "name": "stdout",
          "text": [
            "Train Loss: 1.2247, Train Acc: 66.66%\n",
            "Test Loss: 1.2332, Test Acc: 66.86%\n",
            "LR: 0.000210, Epoch time: 43.15s\n",
            "\n",
            "Epoch 18/30\n",
            "Batch 0: Loss 1.1589, Acc 70.70%\n",
            "Batch 100: Loss 1.2698, Acc 68.08%\n"
          ]
        },
        {
          "output_type": "stream",
          "name": "stderr",
          "text": [
            "\r 60%|██████    | 18/30 [13:04<08:41, 43.49s/it]"
          ]
        },
        {
          "output_type": "stream",
          "name": "stdout",
          "text": [
            "Train Loss: 1.2008, Train Acc: 68.01%\n",
            "Test Loss: 1.2283, Test Acc: 66.44%\n",
            "LR: 0.000183, Epoch time: 43.41s\n",
            "\n",
            "Epoch 19/30\n",
            "Batch 0: Loss 1.1592, Acc 68.36%\n",
            "Batch 100: Loss 1.2030, Acc 68.92%\n"
          ]
        },
        {
          "output_type": "stream",
          "name": "stderr",
          "text": [
            "\r 63%|██████▎   | 19/30 [13:48<08:00, 43.69s/it]"
          ]
        },
        {
          "output_type": "stream",
          "name": "stdout",
          "text": [
            "Train Loss: 1.1789, Train Acc: 69.02%\n",
            "Test Loss: 1.2133, Test Acc: 67.73%\n",
            "LR: 0.000157, Epoch time: 44.12s\n",
            "\n",
            "Epoch 20/30\n",
            "Batch 0: Loss 1.0872, Acc 72.66%\n",
            "Batch 100: Loss 1.1561, Acc 69.79%\n"
          ]
        },
        {
          "output_type": "stream",
          "name": "stderr",
          "text": [
            "\r 67%|██████▋   | 20/30 [14:32<07:15, 43.58s/it]"
          ]
        },
        {
          "output_type": "stream",
          "name": "stdout",
          "text": [
            "Train Loss: 1.1536, Train Acc: 70.17%\n",
            "Test Loss: 1.1927, Test Acc: 68.16%\n",
            "LR: 0.000133, Epoch time: 43.27s\n",
            "\n",
            "Epoch 21/30\n",
            "Batch 0: Loss 1.1287, Acc 69.92%\n",
            "Batch 100: Loss 1.0940, Acc 71.16%\n"
          ]
        },
        {
          "output_type": "stream",
          "name": "stderr",
          "text": [
            "\r 70%|███████   | 21/30 [15:15<06:31, 43.48s/it]"
          ]
        },
        {
          "output_type": "stream",
          "name": "stdout",
          "text": [
            "Train Loss: 1.1371, Train Acc: 71.01%\n",
            "Test Loss: 1.2071, Test Acc: 67.83%\n",
            "LR: 0.000110, Epoch time: 43.26s\n",
            "\n",
            "Epoch 22/30\n",
            "Batch 0: Loss 1.0613, Acc 75.78%\n",
            "Batch 100: Loss 1.2173, Acc 72.10%\n"
          ]
        },
        {
          "output_type": "stream",
          "name": "stderr",
          "text": [
            "\r 73%|███████▎  | 22/30 [15:59<05:48, 43.61s/it]"
          ]
        },
        {
          "output_type": "stream",
          "name": "stdout",
          "text": [
            "Train Loss: 1.1178, Train Acc: 72.01%\n",
            "Test Loss: 1.2079, Test Acc: 68.10%\n",
            "LR: 0.000088, Epoch time: 43.90s\n",
            "\n",
            "Epoch 23/30\n",
            "Batch 0: Loss 1.0977, Acc 69.92%\n",
            "Batch 100: Loss 1.1111, Acc 73.11%\n"
          ]
        },
        {
          "output_type": "stream",
          "name": "stderr",
          "text": [
            "\r 77%|███████▋  | 23/30 [16:42<05:05, 43.59s/it]"
          ]
        },
        {
          "output_type": "stream",
          "name": "stdout",
          "text": [
            "Train Loss: 1.0977, Train Acc: 72.84%\n",
            "Test Loss: 1.1663, Test Acc: 69.37%\n",
            "LR: 0.000069, Epoch time: 43.50s\n",
            "\n",
            "Epoch 24/30\n",
            "Batch 0: Loss 1.0518, Acc 76.17%\n",
            "Batch 100: Loss 1.1036, Acc 74.04%\n"
          ]
        },
        {
          "output_type": "stream",
          "name": "stderr",
          "text": [
            "\r 80%|████████  | 24/30 [17:26<04:22, 43.67s/it]"
          ]
        },
        {
          "output_type": "stream",
          "name": "stdout",
          "text": [
            "Train Loss: 1.0801, Train Acc: 73.87%\n",
            "Test Loss: 1.1588, Test Acc: 70.24%\n",
            "LR: 0.000051, Epoch time: 43.80s\n",
            "\n",
            "Epoch 25/30\n",
            "Batch 0: Loss 1.0344, Acc 76.17%\n",
            "Batch 100: Loss 1.1219, Acc 74.44%\n"
          ]
        },
        {
          "output_type": "stream",
          "name": "stderr",
          "text": [
            "\r 83%|████████▎ | 25/30 [18:10<03:38, 43.63s/it]"
          ]
        },
        {
          "output_type": "stream",
          "name": "stdout",
          "text": [
            "Train Loss: 1.0632, Train Acc: 74.32%\n",
            "Test Loss: 1.1619, Test Acc: 70.00%\n",
            "LR: 0.000036, Epoch time: 43.53s\n",
            "\n",
            "Epoch 26/30\n",
            "Batch 0: Loss 1.0024, Acc 77.34%\n",
            "Batch 100: Loss 1.0354, Acc 75.07%\n"
          ]
        },
        {
          "output_type": "stream",
          "name": "stderr",
          "text": [
            "\r 87%|████████▋ | 26/30 [18:53<02:54, 43.53s/it]"
          ]
        },
        {
          "output_type": "stream",
          "name": "stdout",
          "text": [
            "Train Loss: 1.0524, Train Acc: 74.89%\n",
            "Test Loss: 1.1527, Test Acc: 70.73%\n",
            "LR: 0.000023, Epoch time: 43.24s\n",
            "\n",
            "Epoch 27/30\n",
            "Batch 0: Loss 1.0178, Acc 76.56%\n",
            "Batch 100: Loss 0.9869, Acc 75.80%\n"
          ]
        },
        {
          "output_type": "stream",
          "name": "stderr",
          "text": [
            "\r 90%|█████████ | 27/30 [19:37<02:11, 43.75s/it]"
          ]
        },
        {
          "output_type": "stream",
          "name": "stdout",
          "text": [
            "Train Loss: 1.0381, Train Acc: 75.77%\n",
            "Test Loss: 1.1442, Test Acc: 70.98%\n",
            "LR: 0.000013, Epoch time: 44.22s\n",
            "\n",
            "Epoch 28/30\n",
            "Batch 0: Loss 0.9816, Acc 78.12%\n",
            "Batch 100: Loss 1.0609, Acc 76.18%\n"
          ]
        },
        {
          "output_type": "stream",
          "name": "stderr",
          "text": [
            "\r 93%|█████████▎| 28/30 [20:21<01:27, 43.64s/it]"
          ]
        },
        {
          "output_type": "stream",
          "name": "stdout",
          "text": [
            "Train Loss: 1.0302, Train Acc: 75.94%\n",
            "Test Loss: 1.1435, Test Acc: 71.11%\n",
            "LR: 0.000006, Epoch time: 43.33s\n",
            "\n",
            "Epoch 29/30\n",
            "Batch 0: Loss 1.0391, Acc 75.39%\n",
            "Batch 100: Loss 1.0250, Acc 76.42%\n"
          ]
        },
        {
          "output_type": "stream",
          "name": "stderr",
          "text": [
            "\r 97%|█████████▋| 29/30 [21:04<00:43, 43.62s/it]"
          ]
        },
        {
          "output_type": "stream",
          "name": "stdout",
          "text": [
            "Train Loss: 1.0241, Train Acc: 76.33%\n",
            "Test Loss: 1.1398, Test Acc: 71.25%\n",
            "LR: 0.000001, Epoch time: 43.51s\n",
            "\n",
            "Epoch 30/30\n",
            "Batch 0: Loss 0.9441, Acc 80.08%\n",
            "Batch 100: Loss 1.0368, Acc 76.24%\n"
          ]
        },
        {
          "output_type": "stream",
          "name": "stderr",
          "text": [
            "100%|██████████| 30/30 [21:48<00:00, 43.61s/it]"
          ]
        },
        {
          "output_type": "stream",
          "name": "stdout",
          "text": [
            "Train Loss: 1.0248, Train Acc: 76.41%\n",
            "Test Loss: 1.1433, Test Acc: 71.04%\n",
            "LR: 0.000000, Epoch time: 43.59s\n",
            "\n",
            "Best Test Accuracy: 71.25%\n"
          ]
        },
        {
          "output_type": "stream",
          "name": "stderr",
          "text": [
            "\n"
          ]
        }
      ],
      "source": [
        "class ViTCIFAR10(nn.Module):\n",
        "    def __init__(\n",
        "        self,\n",
        "        img_size=32,\n",
        "        patch_size=4,\n",
        "        in_channels=3,\n",
        "        num_classes=10,\n",
        "        emb_size=256,\n",
        "        depth=6,\n",
        "        num_heads=8,\n",
        "        mlp_ratio=4,\n",
        "        dropout=0.1\n",
        "    ):\n",
        "        super().__init__()\n",
        "\n",
        "        self.patch_embed = PatchEmbedding(in_channels, patch_size, emb_size, img_size)\n",
        "\n",
        "        self.blocks = nn.ModuleList([\n",
        "            TransformerEncoderBlock(emb_size, num_heads, mlp_ratio, dropout)\n",
        "            for _ in range(depth)\n",
        "        ])\n",
        "\n",
        "        self.norm = nn.LayerNorm(emb_size)\n",
        "        self.head = nn.Linear(emb_size, num_classes)\n",
        "\n",
        "        self._init_weights()\n",
        "\n",
        "    def _init_weights(self):\n",
        "        for m in self.modules():\n",
        "            if isinstance(m, nn.Linear):\n",
        "                nn.init.trunc_normal_(m.weight, std=0.02)\n",
        "                if m.bias is not None:\n",
        "                    nn.init.constant_(m.bias, 0)\n",
        "            elif isinstance(m, nn.LayerNorm):\n",
        "                nn.init.constant_(m.bias, 0)\n",
        "                nn.init.constant_(m.weight, 1.0)\n",
        "            elif isinstance(m, nn.Conv2d):\n",
        "                nn.init.trunc_normal_(m.weight, std=0.02)\n",
        "                if m.bias is not None:\n",
        "                    nn.init.constant_(m.bias, 0)\n",
        "\n",
        "        if hasattr(self.patch_embed, 'cls_token'):\n",
        "            nn.init.trunc_normal_(self.patch_embed.cls_token, std=0.02)\n",
        "        if hasattr(self.patch_embed, 'positions'):\n",
        "            nn.init.trunc_normal_(self.patch_embed.positions, std=0.02)\n",
        "\n",
        "    def forward(self, x: Tensor) -> Tensor:\n",
        "        x = self.patch_embed(x)\n",
        "\n",
        "        for block in self.blocks:\n",
        "            x = block(x)\n",
        "\n",
        "        x = self.norm(x)\n",
        "        cls_token = x[:, 0]\n",
        "        x = self.head(cls_token)\n",
        "\n",
        "        return x\n",
        "\n",
        "\n",
        "def train_one_epoch(model, dataloader, criterion, optimizer, device):\n",
        "    model.train()\n",
        "    running_loss = 0.0\n",
        "    correct = 0\n",
        "    total = 0\n",
        "\n",
        "    for batch_idx, (data, target) in enumerate(dataloader):\n",
        "        data, target = data.to(device), target.to(device)\n",
        "\n",
        "        optimizer.zero_grad()\n",
        "        output = model(data)\n",
        "        loss = criterion(output, target)\n",
        "        loss.backward()\n",
        "\n",
        "        torch.nn.utils.clip_grad_norm_(model.parameters(), max_norm=1.0)\n",
        "\n",
        "        optimizer.step()\n",
        "\n",
        "        running_loss += loss.item()\n",
        "        _, predicted = output.max(1)\n",
        "        total += target.size(0)\n",
        "        correct += predicted.eq(target).sum().item()\n",
        "\n",
        "        if batch_idx % 100 == 0:\n",
        "            print(f'Batch {batch_idx}: Loss {loss.item():.4f}, Acc {100.*correct/total:.2f}%')\n",
        "\n",
        "    return running_loss / len(dataloader), 100. * correct / total\n",
        "\n",
        "\n",
        "def test(model, dataloader, criterion, device):\n",
        "    model.eval()\n",
        "    test_loss = 0\n",
        "    correct = 0\n",
        "    total = 0\n",
        "\n",
        "    with torch.no_grad():\n",
        "        for data, target in dataloader:\n",
        "            data, target = data.to(device), target.to(device)\n",
        "            output = model(data)\n",
        "            test_loss += criterion(output, target).item()\n",
        "\n",
        "            _, predicted = output.max(1)\n",
        "            total += target.size(0)\n",
        "            correct += predicted.eq(target).sum().item()\n",
        "\n",
        "    test_loss /= len(dataloader)\n",
        "    accuracy = 100. * correct / total\n",
        "\n",
        "    return test_loss, accuracy\n",
        "\n",
        "\n",
        "def get_cosine_schedule_with_warmup(optimizer, num_warmup_steps, num_training_steps):\n",
        "    def lr_lambda(current_step):\n",
        "        if current_step < num_warmup_steps:\n",
        "            return float(current_step) / float(max(1, num_warmup_steps))\n",
        "        progress = float(current_step - num_warmup_steps) / float(max(1, num_training_steps - num_warmup_steps))\n",
        "        return max(0.0, 0.5 * (1.0 + math.cos(math.pi * progress)))\n",
        "\n",
        "    return optim.lr_scheduler.LambdaLR(optimizer, lr_lambda)\n",
        "\n",
        "\n",
        "def main():\n",
        "    device = torch.device('cuda' if torch.cuda.is_available() else 'cpu')\n",
        "\n",
        "    transform_train = transforms.Compose([\n",
        "        transforms.RandomResizedCrop(32, scale=(0.8, 1.0)),\n",
        "        transforms.RandomHorizontalFlip(p=0.5),\n",
        "        transforms.ToTensor(),\n",
        "        transforms.Normalize((0.4914, 0.4822, 0.4465), (0.2023, 0.1994, 0.2010))\n",
        "    ])\n",
        "\n",
        "    transform_test = transforms.Compose([\n",
        "        transforms.ToTensor(),\n",
        "        transforms.Normalize((0.4914, 0.4822, 0.4465), (0.2023, 0.1994, 0.2010))\n",
        "    ])\n",
        "\n",
        "    train_dataset = datasets.CIFAR10(root='./data', train=True, download=True, transform=transform_train)\n",
        "    test_dataset = datasets.CIFAR10(root='./data', train=False, download=True, transform=transform_test)\n",
        "\n",
        "    train_loader = DataLoader(train_dataset, batch_size=256, shuffle=True, num_workers=4, pin_memory=True)\n",
        "    test_loader = DataLoader(test_dataset, batch_size=256, shuffle=False, num_workers=4, pin_memory=True)\n",
        "\n",
        "    model = ViTCIFAR10(\n",
        "        img_size=32,\n",
        "        patch_size=4,\n",
        "        num_classes=10,\n",
        "        emb_size=256,\n",
        "        depth=6,\n",
        "        num_heads=4,\n",
        "        dropout=0.1\n",
        "    ).to(device)\n",
        "\n",
        "    criterion = nn.CrossEntropyLoss(label_smoothing=0.1)\n",
        "    optimizer = optim.AdamW(\n",
        "        model.parameters(),\n",
        "        lr=5e-4,\n",
        "        weight_decay=0.03,\n",
        "        betas=(0.9, 0.999)\n",
        "    )\n",
        "\n",
        "    num_epochs = 30\n",
        "    warmup_epochs = 1\n",
        "    total_steps = len(train_loader) * num_epochs\n",
        "    warmup_steps = len(train_loader) * warmup_epochs\n",
        "    scheduler = get_cosine_schedule_with_warmup(optimizer, warmup_steps, total_steps)\n",
        "\n",
        "    best_acc = 0\n",
        "\n",
        "    for epoch in tqdm(range(num_epochs)):\n",
        "        print(f'\\nEpoch {epoch+1}/{num_epochs}')\n",
        "\n",
        "        start_time = time.time()\n",
        "        train_loss, train_acc = train_one_epoch(model, train_loader, criterion, optimizer, device)\n",
        "        test_loss, test_acc = test(model, test_loader, criterion, device)\n",
        "\n",
        "        for _ in range(len(train_loader)):\n",
        "            scheduler.step()\n",
        "\n",
        "        epoch_time = time.time() - start_time\n",
        "        current_lr = optimizer.param_groups[0]['lr']\n",
        "\n",
        "        print(f'Train Loss: {train_loss:.4f}, Train Acc: {train_acc:.2f}%')\n",
        "        print(f'Test Loss: {test_loss:.4f}, Test Acc: {test_acc:.2f}%')\n",
        "        print(f'LR: {current_lr:.6f}, Epoch time: {epoch_time:.2f}s')\n",
        "\n",
        "        if test_acc > best_acc:\n",
        "            best_acc = test_acc\n",
        "            torch.save(model.state_dict(), 'vit_cifar10_best.pth')\n",
        "\n",
        "        if test_acc > 90.0:\n",
        "            print(f\"Reached target accuracy!\")\n",
        "            break\n",
        "\n",
        "    print(f'\\nBest Test Accuracy: {best_acc:.2f}%')\n",
        "\n",
        "\n",
        "if __name__ == \"__main__\":\n",
        "    model = ViTCIFAR10(emb_size=256, depth=6, num_heads=4)\n",
        "    x = torch.randn(4, 3, 32, 32)\n",
        "    out = model(x)\n",
        "\n",
        "    print(f'Input shape: {x.shape}')\n",
        "    print(f'Output shape: {out.shape}')\n",
        "    print(f'Parameters: {sum(p.numel() for p in model.parameters()):,}')\n",
        "\n",
        "    main()"
      ]
    },
    {
      "cell_type": "markdown",
      "metadata": {
        "id": "HWvZXNO8Q_-Q"
      },
      "source": [
        "ViT는 일반적으로 대규모 데이터셋에서 사전 학습된(pretrained) 모델을 활용하는 경우가 많기 때문에, 하이퍼파라미터를 조정하거나 학습 epoch을 늘리면 성능이 개선될 수는 있지만, 소규모 데이터셋에서 처음부터 학습한 ViT의 성능이 낮은 것은 구조적 한계에 가깝습니다."
      ]
    },
    {
      "cell_type": "code",
      "execution_count": null,
      "metadata": {
        "id": "wM3TeYu8Gm8x"
      },
      "outputs": [],
      "source": []
    }
  ],
  "metadata": {
    "accelerator": "GPU",
    "colab": {
      "gpuType": "T4",
      "provenance": []
    },
    "kernelspec": {
      "display_name": "Python 3",
      "name": "python3"
    },
    "language_info": {
      "name": "python"
    }
  },
  "nbformat": 4,
  "nbformat_minor": 0
}