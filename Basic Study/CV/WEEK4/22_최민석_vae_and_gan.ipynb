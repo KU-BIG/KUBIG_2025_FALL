{
  "cells": [
    {
      "cell_type": "markdown",
      "source": [
        "# Training VAE and GAN model\n",
        "\n",
        "colab에서 돌릴 경우, 런타임 유형을 GPU로 변경해주세요.\n",
        "\n",
        "MNIST dataset을 활용해 VAE, GAN 모델을 간단하게 구현해보는 것이 이번 과제입니다."
      ],
      "metadata": {
        "id": "llgBx3J-oMRO"
      }
    },
    {
      "cell_type": "markdown",
      "source": [
        "# Imports and set seed"
      ],
      "metadata": {
        "id": "a3I5tElZFDcD"
      }
    },
    {
      "cell_type": "code",
      "source": [
        "!pip install ipywidgets -q\n",
        "# !jupyter nbextension enable --py widgetsnbextension -q"
      ],
      "metadata": {
        "id": "mS6c1dwaF45C"
      },
      "execution_count": 1,
      "outputs": []
    },
    {
      "cell_type": "code",
      "execution_count": 1,
      "metadata": {
        "id": "rL8dm3uXXEnE"
      },
      "outputs": [],
      "source": [
        "import os\n",
        "from tqdm import tqdm\n",
        "import random\n",
        "import numpy as np\n",
        "import matplotlib.pyplot as plt\n",
        "import torch\n",
        "import torch.nn as nn\n",
        "import torch.nn.functional as F\n",
        "from torch.utils.data import DataLoader\n",
        "from torch.optim import Adam\n",
        "from torchvision import datasets, transforms\n",
        "import torchvision.utils as vutils\n",
        "from IPython.display import display\n",
        "import ipywidgets as widgets\n",
        "from PIL import Image\n"
      ]
    },
    {
      "cell_type": "code",
      "source": [
        "def set_seed(seed=42):\n",
        "    random.seed(seed)\n",
        "    np.random.seed(seed)\n",
        "    torch.manual_seed(seed)\n",
        "    torch.cuda.manual_seed(seed)\n",
        "    torch.cuda.manual_seed_all(seed)  # if using multi-GPU\n",
        "    torch.backends.cudnn.deterministic = True\n",
        "    torch.backends.cudnn.benchmark = False\n",
        "    torch.use_deterministic_algorithms(False)  ##\n",
        "\n",
        "set_seed(1)"
      ],
      "metadata": {
        "id": "IjKgK9HxJdMz"
      },
      "execution_count": 2,
      "outputs": []
    },
    {
      "cell_type": "markdown",
      "source": [
        "# VAE Implementation"
      ],
      "metadata": {
        "id": "I9OOQofAIkZd"
      }
    },
    {
      "cell_type": "markdown",
      "source": [
        "### 1. Model design  - Problem 1\n",
        "\n",
        "---\n",
        "\n",
        "$Enc$, $Dec$ 모델을 자유롭게 구성해보세요.\n",
        "\n",
        "CNN 기반 아키텍쳐나 ViT 기반 아키텍쳐를 자유롭게 구성해도 좋습니다.\n",
        "\n",
        "이때 각 아키텍쳐 선택 요소에 맞게 epoch이나 여러 학습 파라미터를 Main training loop에서 수정해주셔야 합니다.\n",
        "\n",
        "입출력 $\\text{dim}$에 맞게 세팅하는 것에 유의해주세요.\n",
        "\n",
        "---\n"
      ],
      "metadata": {
        "id": "4EYzG4FUItly"
      }
    },
    {
      "cell_type": "code",
      "source": [
        "class ConvEncoder(nn.Module):\n",
        "    def __init__(self, latent_dim=32):\n",
        "        super().__init__()\n",
        "        self.conv = nn.Sequential(\n",
        "            # 작성란 -------------------------------------------------------------------------\n",
        "\n",
        "            # 아래는 예시 입니다.\n",
        "\n",
        "            # nn.Conv2d(1, 32, 4, 2, 1),  # 28->14\n",
        "            # nn.BatchNorm2d(32),\n",
        "            # nn.LeakyReLU(0.2),\n",
        "\n",
        "            # ...\n",
        "\n",
        "            # nn.Conv2d(32, 16, 3, 1, 1), # 7->7\n",
        "            # nn.BatchNorm2d(16),\n",
        "            # nn.LeakyReLU(0.2),\n",
        "\n",
        "            #---------------------------------------------------------------------------------\n",
        "            nn.Conv2d(1, 32, kernel_size=4, stride=2, padding=1),  # 28x28 → 14x14\n",
        "            nn.BatchNorm2d(32),\n",
        "            nn.LeakyReLU(0.2),\n",
        "\n",
        "            nn.Conv2d(32, 64, kernel_size=4, stride=2, padding=1),  # 14x14 → 7x7\n",
        "            nn.BatchNorm2d(64),\n",
        "            nn.LeakyReLU(0.2),\n",
        "\n",
        "            nn.Conv2d(64, 128, 3, 1, 1), # 7x7 → 7x7\n",
        "            nn.BatchNorm2d(128),\n",
        "            nn.LeakyReLU(0.2),\n",
        "\n",
        "            nn.Flatten()\n",
        "        )\n",
        "        self.fc_mu = nn.Linear(128 * 7 * 7, latent_dim)\n",
        "        self.fc_logvar = nn.Linear(128 * 7 * 7, latent_dim)\n",
        "\n",
        "    def forward(self, x):\n",
        "        h = self.conv(x)\n",
        "        return self.fc_mu(h), self.fc_logvar(h)\n",
        "\n",
        "\n",
        "class ConvDecoder(nn.Module):\n",
        "    def __init__(self, latent_dim=32):\n",
        "        super().__init__()\n",
        "        self.fc = nn.Linear(latent_dim, 128 * 7 * 7)\n",
        "\n",
        "        self.deconv = nn.Sequential(\n",
        "\n",
        "            # 작성란 -------------------------------------------------------------------------\n",
        "            # nn.ConvTranspose2d(16, 32, 3, 1, 1), # 7->7\n",
        "            # nn.BatchNorm2d(32),\n",
        "            # nn.LeakyReLU(0.2),\n",
        "\n",
        "            # ...\n",
        "\n",
        "            # nn.ConvTranspose2d(32, 1, 4, 2, 1),  # 14->28\n",
        "\n",
        "            #---------------------------------------------------------------------------------\n",
        "            nn.ConvTranspose2d(128, 64, kernel_size=3, stride=1, padding=1),  # 7x7 → 7x7\n",
        "            nn.BatchNorm2d(64),\n",
        "            nn.LeakyReLU(0.2),\n",
        "\n",
        "            nn.ConvTranspose2d(64, 32, kernel_size=4, stride=2, padding=1),  # 7x7 → 14x14\n",
        "            nn.BatchNorm2d(32),\n",
        "            nn.LeakyReLU(0.2),\n",
        "\n",
        "            nn.ConvTranspose2d(32, 1, kernel_size=4, stride=2, padding=1),   # 14x14 → 28x28\n",
        "            nn.Sigmoid()  # MNIST는 픽셀 값이 [0,1] → 시그모이드로 출력 제한\n",
        "        )\n",
        "\n",
        "    def forward(self, z):\n",
        "        # 작성란 --------------------------------\n",
        "        h = self.fc(z).view(-1, 128, 7, 7)\n",
        "        #----------------------------------------\n",
        "        return self.deconv(h)\n"
      ],
      "metadata": {
        "id": "IcStCywcE6mI"
      },
      "execution_count": null,
      "outputs": []
    },
    {
      "cell_type": "markdown",
      "source": [
        "reparameterization 과정에 대해 확인해보세요."
      ],
      "metadata": {
        "id": "EZv_xBb63_r6"
      }
    },
    {
      "cell_type": "code",
      "source": [
        "class VAE(nn.Module):\n",
        "    def __init__(self, latent_dim=64):\n",
        "        super().__init__()\n",
        "        self.encoder = ConvEncoder(latent_dim)\n",
        "        self.decoder = ConvDecoder(latent_dim)\n",
        "\n",
        "    def reparameterize(self, mu, logvar):\n",
        "        std = torch.exp(0.5 * logvar)\n",
        "        eps = torch.randn_like(std)\n",
        "        return mu + eps * std\n",
        "\n",
        "    def forward(self, x):\n",
        "        mu, logvar = self.encoder(x)\n",
        "        z = self.reparameterize(mu, logvar)\n",
        "        return self.decoder(z), mu, logvar\n"
      ],
      "metadata": {
        "id": "meqUKh45E_qD"
      },
      "execution_count": null,
      "outputs": []
    },
    {
      "cell_type": "markdown",
      "source": [
        "### 2. Loss\n",
        "\n",
        "---\n",
        "\n",
        "$(\\text{Binary Cross Entropy + KL Divergence})$의 구조입니다.\n",
        "\n",
        "KLD term이 아래와 같은 방식으로 구해지는 이유에 대해 생각해보세요."
      ],
      "metadata": {
        "id": "QF-p96SWI03Q"
      }
    },
    {
      "cell_type": "code",
      "source": [
        "def vae_loss(x, recon_logits, mu, logvar, reduction='mean'):\n",
        "    BCE = F.binary_cross_entropy_with_logits(recon_logits, x, reduction='sum')\n",
        "    KLD = -0.5 * torch.sum(1 + logvar - mu.pow(2) - logvar.exp())\n",
        "    if reduction == 'mean':\n",
        "        div = x.size(0)\n",
        "        BCE = BCE / div\n",
        "        KLD = KLD / div\n",
        "    return BCE + KLD, BCE, KLD"
      ],
      "metadata": {
        "id": "LDO3khroGVNe"
      },
      "execution_count": null,
      "outputs": []
    },
    {
      "cell_type": "markdown",
      "source": [
        "### 3. Visualization function\n",
        "\n",
        "---\n",
        "\n",
        "실행만 하고 넘어가시면 됩니다."
      ],
      "metadata": {
        "id": "Erkky9fzI_yh"
      }
    },
    {
      "cell_type": "code",
      "source": [
        "def save_step_images(model, step, imgs, z):\n",
        "    was_training = model.training\n",
        "    model.eval()\n",
        "    with torch.no_grad():\n",
        "        recon_logits, _, _ = model(imgs)\n",
        "        recon = torch.sigmoid(recon_logits)\n",
        "\n",
        "        recon_grid = torch.cat([imgs, recon], dim=0)\n",
        "        recon_grid = vutils.make_grid(recon_grid, nrow=4, normalize=True, pad_value=1)\n",
        "        vutils.save_image(recon_grid, f\"vae_recon_imgs/recon_{step:05d}.png\")\n",
        "\n",
        "        gen = torch.sigmoid(model.decoder(z))\n",
        "        gen_grid = vutils.make_grid(gen, nrow=4, normalize=True, pad_value=1)\n",
        "        vutils.save_image(gen_grid, f\"vae_gen_imgs/gen_{step:05d}.png\")\n",
        "\n",
        "    if was_training:\n",
        "        model.train(was_training)"
      ],
      "metadata": {
        "id": "yxhotu2hEoYd"
      },
      "execution_count": null,
      "outputs": []
    },
    {
      "cell_type": "markdown",
      "source": [
        "## 4. Main train loop\n",
        "\n",
        "---\n",
        "\n",
        "batch size, epoch, learning rate와\n",
        "\n",
        "VAE latent dimension을 자유롭게 조절하면서 학습시켜보세요."
      ],
      "metadata": {
        "id": "t51JcflbJD7l"
      }
    },
    {
      "cell_type": "code",
      "source": [
        "device = 'cuda' if torch.cuda.is_available() else 'cpu'\n",
        "\n",
        "transform = transforms.Compose([transforms.ToTensor(),])\n",
        "train_loader = DataLoader(\n",
        "    datasets.MNIST('.', train=True, download=True, transform=transform),\n",
        "    batch_size=64,\n",
        "    shuffle=True\n",
        "    )\n",
        "\n",
        "latent_dim = 64\n",
        "model = VAE(latent_dim=latent_dim).to(device)\n",
        "optimizer = Adam(model.parameters(), lr=1e-4)\n",
        "scaler = torch.amp.GradScaler('cuda')\n",
        "\n",
        "# for visualization\n",
        "os.makedirs(\"vae_recon_imgs\", exist_ok=True)\n",
        "os.makedirs(\"vae_gen_imgs\", exist_ok=True)\n",
        "fixed_imgs, _ = next(iter(train_loader))\n",
        "fixed_imgs = fixed_imgs[:4].to(device)\n",
        "fixed_z = torch.randn(4, latent_dim).to(device)\n",
        "\n",
        "global_step = 0\n",
        "bce_losses, kld_losses = [], []\n",
        "for epoch in (range(50)):\n",
        "    model.train()\n",
        "    pbar = tqdm(train_loader, desc=f\"Epoch {epoch}\")\n",
        "    for x, _ in pbar:\n",
        "        x = x.to(device)\n",
        "        optimizer.zero_grad()\n",
        "\n",
        "        with torch.amp.autocast('cuda'):\n",
        "            recon, mu, logvar = model(x)\n",
        "            loss, bce, kld = vae_loss(x, recon, mu, logvar)\n",
        "\n",
        "        scaler.scale(loss).backward()\n",
        "        scaler.step(optimizer)\n",
        "        scaler.update()\n",
        "\n",
        "        bce_losses.append(bce.item())\n",
        "        kld_losses.append(kld.item())\n",
        "\n",
        "        pbar.set_postfix({\"loss\": f\"{loss.item():.4f}\"})\n",
        "\n",
        "        if global_step % 100 == 0:\n",
        "            with torch.no_grad():\n",
        "                save_step_images(model, step=global_step, imgs=fixed_imgs, z=fixed_z)\n",
        "\n",
        "        global_step += 1\n"
      ],
      "metadata": {
        "colab": {
          "base_uri": "https://localhost:8080/"
        },
        "id": "foJuKIX2GXt8",
        "outputId": "dc63d4f2-4b96-4447-c135-5df9b5f05b5b"
      },
      "execution_count": null,
      "outputs": [
        {
          "output_type": "stream",
          "name": "stderr",
          "text": [
            "Epoch 0: 100%|██████████| 938/938 [00:15<00:00, 61.46it/s, loss=555.1487]\n",
            "Epoch 1: 100%|██████████| 938/938 [00:14<00:00, 62.72it/s, loss=544.1386]\n",
            "Epoch 2: 100%|██████████| 938/938 [00:15<00:00, 61.19it/s, loss=543.4343]\n",
            "Epoch 3: 100%|██████████| 938/938 [00:14<00:00, 63.90it/s, loss=537.8790]\n",
            "Epoch 4: 100%|██████████| 938/938 [00:15<00:00, 61.89it/s, loss=541.4979]\n",
            "Epoch 5: 100%|██████████| 938/938 [00:15<00:00, 59.34it/s, loss=540.3008]\n",
            "Epoch 6: 100%|██████████| 938/938 [00:15<00:00, 62.47it/s, loss=540.0854]\n",
            "Epoch 7: 100%|██████████| 938/938 [00:14<00:00, 63.95it/s, loss=537.6547]\n",
            "Epoch 8: 100%|██████████| 938/938 [00:15<00:00, 62.44it/s, loss=538.8997]\n",
            "Epoch 9: 100%|██████████| 938/938 [00:15<00:00, 61.60it/s, loss=537.6907]\n",
            "Epoch 10: 100%|██████████| 938/938 [00:14<00:00, 63.24it/s, loss=539.4346]\n",
            "Epoch 11: 100%|██████████| 938/938 [00:14<00:00, 63.52it/s, loss=538.7930]\n",
            "Epoch 12: 100%|██████████| 938/938 [00:14<00:00, 63.12it/s, loss=540.0720]\n",
            "Epoch 13: 100%|██████████| 938/938 [00:15<00:00, 61.25it/s, loss=538.8035]\n",
            "Epoch 14: 100%|██████████| 938/938 [00:14<00:00, 63.45it/s, loss=535.6368]\n",
            "Epoch 15: 100%|██████████| 938/938 [00:14<00:00, 63.47it/s, loss=537.2060]\n",
            "Epoch 16: 100%|██████████| 938/938 [00:14<00:00, 63.60it/s, loss=537.1990]\n",
            "Epoch 17: 100%|██████████| 938/938 [00:15<00:00, 62.16it/s, loss=535.4792]\n",
            "Epoch 18: 100%|██████████| 938/938 [00:15<00:00, 62.53it/s, loss=536.1091]\n",
            "Epoch 19: 100%|██████████| 938/938 [00:14<00:00, 63.64it/s, loss=537.2432]\n",
            "Epoch 20: 100%|██████████| 938/938 [00:15<00:00, 60.71it/s, loss=536.7347]\n",
            "Epoch 21: 100%|██████████| 938/938 [00:14<00:00, 62.96it/s, loss=536.8763]\n",
            "Epoch 22: 100%|██████████| 938/938 [00:15<00:00, 61.16it/s, loss=536.5035]\n",
            "Epoch 23: 100%|██████████| 938/938 [00:14<00:00, 63.44it/s, loss=537.4328]\n",
            "Epoch 24: 100%|██████████| 938/938 [00:14<00:00, 63.21it/s, loss=535.3334]\n",
            "Epoch 25: 100%|██████████| 938/938 [00:14<00:00, 62.56it/s, loss=536.0761]\n",
            "Epoch 26: 100%|██████████| 938/938 [00:15<00:00, 61.45it/s, loss=538.2234]\n",
            "Epoch 27: 100%|██████████| 938/938 [00:14<00:00, 62.54it/s, loss=538.2133]\n",
            "Epoch 28: 100%|██████████| 938/938 [00:15<00:00, 62.50it/s, loss=535.5892]\n",
            "Epoch 29: 100%|██████████| 938/938 [00:15<00:00, 62.15it/s, loss=536.9056]\n",
            "Epoch 30: 100%|██████████| 938/938 [00:15<00:00, 59.49it/s, loss=535.8203]\n",
            "Epoch 31: 100%|██████████| 938/938 [00:15<00:00, 61.17it/s, loss=535.1495]\n",
            "Epoch 32: 100%|██████████| 938/938 [00:15<00:00, 60.98it/s, loss=537.6250]\n",
            "Epoch 33: 100%|██████████| 938/938 [00:15<00:00, 61.13it/s, loss=536.0331]\n",
            "Epoch 34: 100%|██████████| 938/938 [00:16<00:00, 58.61it/s, loss=533.7670]\n",
            "Epoch 35: 100%|██████████| 938/938 [00:15<00:00, 61.02it/s, loss=539.3770]\n",
            "Epoch 36: 100%|██████████| 938/938 [00:15<00:00, 61.14it/s, loss=535.7665]\n",
            "Epoch 37: 100%|██████████| 938/938 [00:16<00:00, 57.94it/s, loss=535.6544]\n",
            "Epoch 38: 100%|██████████| 938/938 [00:16<00:00, 57.76it/s, loss=536.8759]\n",
            "Epoch 39: 100%|██████████| 938/938 [00:16<00:00, 57.17it/s, loss=540.7664]\n",
            "Epoch 40: 100%|██████████| 938/938 [00:15<00:00, 60.31it/s, loss=537.4504]\n",
            "Epoch 41: 100%|██████████| 938/938 [00:16<00:00, 57.58it/s, loss=538.8606]\n",
            "Epoch 42: 100%|██████████| 938/938 [00:15<00:00, 62.14it/s, loss=533.9089]\n",
            "Epoch 43: 100%|██████████| 938/938 [00:15<00:00, 61.42it/s, loss=535.1511]\n",
            "Epoch 44: 100%|██████████| 938/938 [00:15<00:00, 60.91it/s, loss=534.7898]\n",
            "Epoch 45: 100%|██████████| 938/938 [00:15<00:00, 60.55it/s, loss=535.6900]\n",
            "Epoch 46: 100%|██████████| 938/938 [00:15<00:00, 61.80it/s, loss=539.1879]\n",
            "Epoch 47: 100%|██████████| 938/938 [00:15<00:00, 61.99it/s, loss=535.2460]\n",
            "Epoch 48: 100%|██████████| 938/938 [00:15<00:00, 61.26it/s, loss=535.9317]\n",
            "Epoch 49: 100%|██████████| 938/938 [00:15<00:00, 60.64it/s, loss=535.7398]\n"
          ]
        }
      ]
    },
    {
      "cell_type": "markdown",
      "source": [
        "## 5. Results visualization\n",
        "\n",
        "---\n",
        "\n",
        "아래 코드는 실행만 하면 됩니다. 바를 조절해 iteration별 학습 과정을 확인할 수 있습니다."
      ],
      "metadata": {
        "id": "svsaNz6OJqwn"
      }
    },
    {
      "cell_type": "code",
      "source": [
        "def load_step_images(step, recon_dir='vae_recon_imgs', gen_dir='vae_gen_imgs'):\n",
        "    recon_path = os.path.join(recon_dir, f'recon_{step:05d}.png')\n",
        "    gen_path = os.path.join(gen_dir, f'gen_{step:05d}.png')\n",
        "    return Image.open(recon_path), Image.open(gen_path)\n",
        "\n",
        "def show_images(step):\n",
        "    recon_img, gen_img = load_step_images(step)\n",
        "    fig, axs = plt.subplots(1, 2, figsize=(8, 4))\n",
        "    axs[0].imshow(recon_img)\n",
        "    axs[0].set_title(f\"Recon Step {step}\")\n",
        "    axs[0].axis('off')\n",
        "\n",
        "    axs[1].imshow(gen_img)\n",
        "    axs[1].set_title(f\"Gen Step {step}\")\n",
        "    axs[1].axis('off')\n",
        "    plt.tight_layout()\n",
        "    plt.show()\n",
        "\n",
        "saved_steps = sorted([\n",
        "    int(f.split('_')[-1].split('.')[0])\n",
        "    for f in os.listdir('vae_recon_imgs') if f.endswith('.png')\n",
        "])\n",
        "\n",
        "step_slider = widgets.IntSlider(\n",
        "    value=saved_steps[0],\n",
        "    min=min(saved_steps),\n",
        "    max=max(saved_steps),\n",
        "    step=100,\n",
        "    description='Step:',\n",
        "    continuous_update=False\n",
        ")\n",
        "\n",
        "# widgets.interact(show_images, step=step_slider);"
      ],
      "metadata": {
        "id": "n4KkqTHOJqHf"
      },
      "execution_count": null,
      "outputs": []
    },
    {
      "cell_type": "code",
      "source": [
        "widgets.interact(show_images, step=step_slider);\n",
        "print('\\n')\n",
        "fig, axs = plt.subplots(1, 2, figsize=(12, 4), sharex=True)\n",
        "\n",
        "# BCE Loss subplot\n",
        "axs[0].plot(bce_losses, label='BCE Loss')\n",
        "axs[0].set_title('BCE Loss over Total Iteration')\n",
        "axs[0].set_xlabel('Iteration')\n",
        "axs[0].set_ylabel('BCE Loss')\n",
        "axs[0].legend()\n",
        "\n",
        "# KLD Loss subplot\n",
        "axs[1].plot(kld_losses, label='KLD Loss', color='orange')\n",
        "axs[1].set_title('KLD Loss over Total Iteration')\n",
        "axs[1].set_xlabel('Iteration')\n",
        "axs[1].set_ylabel('KLD Loss')\n",
        "axs[1].legend()\n",
        "\n",
        "plt.tight_layout()\n",
        "plt.show()\n"
      ],
      "metadata": {
        "colab": {
          "base_uri": "https://localhost:8080/",
          "height": 710,
          "referenced_widgets": [
            "a72e7db3ecca48b89751f91b8d610a1d",
            "fd033ae1a4be413e84cf45153cf246ec",
            "c71b674ccf1142a0a3396c57fa40e9fc",
            "131283c71c2240919e2cd4a8dd57aeff",
            "9b16dae9f6194e17b8310787c56f5a5c",
            "cc442582ccff49179e3ac0c6f8b10b38",
            "28fedc37ef8147abafcd0d97c35e54b7"
          ]
        },
        "id": "2Stm3zPaIVzL",
        "outputId": "ea7410cb-2251-4530-e8ba-90331d4523be"
      },
      "execution_count": null,
      "outputs": [
        {
          "output_type": "display_data",
          "data": {
            "text/plain": [
              "interactive(children=(IntSlider(value=0, continuous_update=False, description='Step:', max=46800, step=100), O…"
            ],
            "application/vnd.jupyter.widget-view+json": {
              "version_major": 2,
              "version_minor": 0,
              "model_id": "a72e7db3ecca48b89751f91b8d610a1d"
            }
          },
          "metadata": {}
        },
        {
          "output_type": "stream",
          "name": "stdout",
          "text": [
            "\n",
            "\n"
          ]
        },
        {
          "output_type": "display_data",
          "data": {
            "text/plain": [
              "<Figure size 1200x400 with 2 Axes>"
            ],
            "image/png": "[encoded data removed]"
          },
          "metadata": {}
        }
      ]
    },
    {
      "cell_type": "markdown",
      "source": [
        "---\n",
        "___\n",
        "\n",
        "# GAN Implementation"
      ],
      "metadata": {
        "id": "Tm9Op-vOJKC8"
      }
    },
    {
      "cell_type": "markdown",
      "source": [
        "## 1. Model Design - Problem 2\n",
        "\n",
        "---\n",
        "\n",
        "$Generator$, $Discriminator$ 모델을 자유롭게 구성해보세요. 입출력 $\\text{dim}$에 맞게 세팅하는 것에 유의해주세요."
      ],
      "metadata": {
        "id": "uED-DGkwlIql"
      }
    },
    {
      "cell_type": "code",
      "execution_count": 3,
      "metadata": {
        "id": "pWFzINayh3ps"
      },
      "outputs": [],
      "source": [
        "# Generator\n",
        "class Generator(nn.Module):\n",
        "    def __init__(self, z_dim=100):\n",
        "        super().__init__()\n",
        "        self.net = nn.Sequential(\n",
        "            # 작성란 -------------------------------------------------------------------------\n",
        "\n",
        "            # 입력: (z_dim, 1, 1)\n",
        "            # nn.ConvTranspose2d(z_dim, 128, 7, 1, 0, bias=False),  # -> (128, 7, 7)\n",
        "            # nn.BatchNorm2d(128),\n",
        "            # nn.ReLU(True),\n",
        "\n",
        "            # ...\n",
        "\n",
        "            # nn.ConvTranspose2d(???, 1, 4, 2, 1, bias=False),      # -> (1, 28, 28)\n",
        "            #---------------------------------------------------------------------------------\n",
        "\n",
        "            # (z_dim, 1, 1) -> (128, 7, 7)\n",
        "            nn.ConvTranspose2d(z_dim, 128, 7, 1, 0, bias=False),\n",
        "            nn.BatchNorm2d(128),\n",
        "            nn.ReLU(True),\n",
        "\n",
        "            # (128, 7, 7) -> (64, 14, 14)\n",
        "            nn.ConvTranspose2d(128, 64, 4, 2, 1, bias=False),\n",
        "            nn.BatchNorm2d(64),\n",
        "            nn.ReLU(True),\n",
        "\n",
        "            # (64, 14, 14) -> (1, 28, 28)\n",
        "            nn.ConvTranspose2d(64, 1, 4, 2, 1, bias=False),\n",
        "            nn.Tanh()\n",
        "        )\n",
        "\n",
        "    def forward(self, z):\n",
        "        return self.net(z)\n",
        "\n",
        "# Discriminator\n",
        "class Discriminator(nn.Module):\n",
        "    def __init__(self):\n",
        "        super().__init__()\n",
        "        self.net = nn.Sequential(\n",
        "            # 작성란 -------------------------------------------------------------------------\n",
        "\n",
        "            # nn.Conv2d(1, 64, 4, 2, 1, bias=False),  # (1,28,28) ->\n",
        "            # nn.LeakyReLU(0.2, inplace=True),\n",
        "\n",
        "            # ...\n",
        "\n",
        "            # nn.Conv2d(128, 1, 7, 1, 0, bias=False), # -> (1,1,1)\n",
        "            #---------------------------------------------------------------------------------\n",
        "            # (1, 28, 28) -> (64, 14, 14)\n",
        "            nn.Conv2d(1, 64, 4, 2, 1, bias=False),\n",
        "            nn.LeakyReLU(0.2, inplace=True),\n",
        "\n",
        "            # (64, 14, 14) -> (128, 7, 7)\n",
        "            nn.Conv2d(64, 128, 4, 2, 1, bias=False),\n",
        "            nn.BatchNorm2d(128),\n",
        "            nn.LeakyReLU(0.2, inplace=True),\n",
        "\n",
        "            # (128, 7, 7) -> (1, 1, 1)\n",
        "            nn.Conv2d(128, 1, 7, 1, 0, bias=False)\n",
        "          )\n",
        "\n",
        "    def forward(self, x):\n",
        "        return self.net(x).view(-1, 1)\n"
      ]
    },
    {
      "cell_type": "markdown",
      "source": [
        "## 2. Visualization fuction\n",
        "\n",
        "---"
      ],
      "metadata": {
        "id": "mD8qeD60q2qk"
      }
    },
    {
      "cell_type": "code",
      "source": [
        "def save_step_images_for_gan(model, step, z):\n",
        "    was_training = model.training\n",
        "    model.eval()\n",
        "    with torch.no_grad():\n",
        "        fake = model(z).detach()\n",
        "        # fake = (fake + 1) / 2  # [-1, 1] → [0, 1]\n",
        "        gen_grid = vutils.make_grid(fake, nrow=4, normalize=True, pad_value=1)\n",
        "        vutils.save_image(gen_grid, f\"gan_gen_imgs/gen_{step:05d}.png\")\n",
        "    if was_training:\n",
        "        model.train(was_training)"
      ],
      "metadata": {
        "id": "D8ioLX7Mq2yH"
      },
      "execution_count": 4,
      "outputs": []
    },
    {
      "cell_type": "markdown",
      "source": [
        "## 3. Main training loop\n",
        "\n",
        "---"
      ],
      "metadata": {
        "id": "R1hGgrSUsobG"
      }
    },
    {
      "cell_type": "code",
      "source": [
        "device = 'cuda' if torch.cuda.is_available() else 'cpu'\n",
        "\n",
        "z_dim = 100\n",
        "G = Generator(z_dim).to(device)\n",
        "D = Discriminator().to(device)\n",
        "opt_G = torch.optim.Adam(G.parameters(), lr=2e-4, betas=(0.5, 0.999))\n",
        "opt_D = torch.optim.Adam(D.parameters(), lr=2e-4, betas=(0.5, 0.999))\n",
        "loss_fn = nn.BCEWithLogitsLoss()\n",
        "\n",
        "transform = transforms.Compose([\n",
        "    transforms.ToTensor(),\n",
        "    transforms.Normalize([0.5],[0.5])  # [-1,1] range scaling\n",
        "])\n",
        "train_loader = DataLoader(\n",
        "    datasets.MNIST('.', train=True, download=True, transform=transform),\n",
        "    batch_size=128,\n",
        "    shuffle=True\n",
        ")\n",
        "\n",
        "os.makedirs(\"gan_gen_imgs\", exist_ok=True)\n",
        "fixed_z = torch.randn(4, z_dim, 1, 1, device=device)\n",
        "\n",
        "global_step = 0\n",
        "D_losses, G_losses = [], []\n",
        "for epoch in range(30):\n",
        "    pbar = tqdm(train_loader, desc=f\"Epoch {epoch}\")\n",
        "    for x, _ in pbar:\n",
        "        x = x.to(device)\n",
        "        batch_size = x.size(0)\n",
        "\n",
        "        # Train Discriminator\n",
        "        z = torch.randn(batch_size, z_dim, 1, 1, device=device)\n",
        "        fake = G(z).detach()\n",
        "\n",
        "        opt_D.zero_grad()\n",
        "        loss_real = loss_fn(D(x), torch.ones(batch_size, 1, device=device))\n",
        "        loss_fake = loss_fn(D(fake), torch.zeros(batch_size, 1, device=device))\n",
        "        loss_D = (loss_real + loss_fake)\n",
        "        D_losses.append(loss_D.item())\n",
        "        loss_D.backward()\n",
        "        opt_D.step()\n",
        "\n",
        "\n",
        "        # Train Generator\n",
        "        z = torch.randn(batch_size, z_dim, 1, 1, device=device)\n",
        "        fake = G(z)\n",
        "        opt_G.zero_grad()\n",
        "        loss_G = loss_fn(D(fake), torch.ones(batch_size, 1, device=device))\n",
        "        G_losses.append(loss_G.item())\n",
        "        loss_G.backward()\n",
        "        opt_G.step()\n",
        "\n",
        "        pbar.set_postfix({\"D_loss\": f\"{loss_D.item():.4f}\", \"G_loss\": f\"{loss_G.item():.4f}\"})\n",
        "\n",
        "        if global_step % 100 == 0:\n",
        "            with torch.no_grad():\n",
        "                save_step_images_for_gan(G, step=global_step, z=fixed_z)\n",
        "\n",
        "        global_step += 1\n"
      ],
      "metadata": {
        "colab": {
          "base_uri": "https://localhost:8080/"
        },
        "id": "2rEQ8E-glRhY",
        "outputId": "3daac8f0-b2a5-4bc2-b8ad-7bd75d420439"
      },
      "execution_count": 5,
      "outputs": [
        {
          "output_type": "stream",
          "name": "stderr",
          "text": [
            "Epoch 0: 100%|██████████| 469/469 [00:25<00:00, 18.12it/s, D_loss=0.7821, G_loss=1.2716]\n",
            "Epoch 1: 100%|██████████| 469/469 [00:24<00:00, 19.37it/s, D_loss=0.7372, G_loss=1.3250]\n",
            "Epoch 2: 100%|██████████| 469/469 [00:23<00:00, 19.95it/s, D_loss=0.4877, G_loss=2.0543]\n",
            "Epoch 3: 100%|██████████| 469/469 [00:23<00:00, 19.82it/s, D_loss=0.5760, G_loss=2.4751]\n",
            "Epoch 4: 100%|██████████| 469/469 [00:23<00:00, 19.90it/s, D_loss=0.5363, G_loss=1.5691]\n",
            "Epoch 5: 100%|██████████| 469/469 [00:24<00:00, 19.40it/s, D_loss=0.5965, G_loss=1.4230]\n",
            "Epoch 6: 100%|██████████| 469/469 [00:23<00:00, 19.79it/s, D_loss=0.6031, G_loss=1.9471]\n",
            "Epoch 7: 100%|██████████| 469/469 [00:23<00:00, 19.78it/s, D_loss=0.7691, G_loss=2.3315]\n",
            "Epoch 8: 100%|██████████| 469/469 [00:23<00:00, 19.67it/s, D_loss=0.7218, G_loss=1.3680]\n",
            "Epoch 9: 100%|██████████| 469/469 [00:23<00:00, 19.72it/s, D_loss=0.7702, G_loss=1.4925]\n",
            "Epoch 10: 100%|██████████| 469/469 [00:23<00:00, 19.79it/s, D_loss=0.7245, G_loss=2.4784]\n",
            "Epoch 11: 100%|██████████| 469/469 [00:23<00:00, 19.84it/s, D_loss=0.5618, G_loss=0.8675]\n",
            "Epoch 12: 100%|██████████| 469/469 [00:23<00:00, 19.63it/s, D_loss=0.6672, G_loss=1.4151]\n",
            "Epoch 13: 100%|██████████| 469/469 [00:23<00:00, 19.64it/s, D_loss=0.4853, G_loss=1.7076]\n",
            "Epoch 14: 100%|██████████| 469/469 [00:24<00:00, 19.32it/s, D_loss=0.7988, G_loss=3.2080]\n",
            "Epoch 15: 100%|██████████| 469/469 [00:24<00:00, 19.24it/s, D_loss=0.4882, G_loss=2.5078]\n",
            "Epoch 16: 100%|██████████| 469/469 [00:23<00:00, 19.81it/s, D_loss=0.6278, G_loss=1.5659]\n",
            "Epoch 17: 100%|██████████| 469/469 [00:23<00:00, 19.91it/s, D_loss=0.5035, G_loss=2.6342]\n",
            "Epoch 18: 100%|██████████| 469/469 [00:23<00:00, 20.08it/s, D_loss=0.5792, G_loss=1.7485]\n",
            "Epoch 19: 100%|██████████| 469/469 [00:23<00:00, 19.62it/s, D_loss=0.6501, G_loss=2.7657]\n",
            "Epoch 20: 100%|██████████| 469/469 [00:24<00:00, 19.38it/s, D_loss=0.5230, G_loss=2.2093]\n",
            "Epoch 21: 100%|██████████| 469/469 [00:23<00:00, 19.64it/s, D_loss=0.7594, G_loss=1.2164]\n",
            "Epoch 22: 100%|██████████| 469/469 [00:23<00:00, 19.68it/s, D_loss=0.5679, G_loss=1.5413]\n",
            "Epoch 23: 100%|██████████| 469/469 [00:23<00:00, 19.68it/s, D_loss=0.6941, G_loss=1.0810]\n",
            "Epoch 24: 100%|██████████| 469/469 [00:24<00:00, 19.40it/s, D_loss=0.5320, G_loss=1.8076]\n",
            "Epoch 25: 100%|██████████| 469/469 [00:23<00:00, 19.71it/s, D_loss=0.5814, G_loss=2.8580]\n",
            "Epoch 26: 100%|██████████| 469/469 [00:23<00:00, 19.56it/s, D_loss=0.6190, G_loss=2.7236]\n",
            "Epoch 27: 100%|██████████| 469/469 [00:24<00:00, 19.42it/s, D_loss=0.6838, G_loss=2.3171]\n",
            "Epoch 28: 100%|██████████| 469/469 [00:24<00:00, 19.33it/s, D_loss=0.4587, G_loss=1.8683]\n",
            "Epoch 29: 100%|██████████| 469/469 [00:24<00:00, 19.44it/s, D_loss=0.5068, G_loss=2.3175]\n"
          ]
        }
      ]
    },
    {
      "cell_type": "markdown",
      "source": [
        "## 4. Visualization\n",
        "\n",
        "---"
      ],
      "metadata": {
        "id": "BmvfOGKMsjKR"
      }
    },
    {
      "cell_type": "code",
      "execution_count": 6,
      "metadata": {
        "id": "fvlhH6nSzyc_"
      },
      "outputs": [],
      "source": [
        "def load_step_images(step, gen_dir='gan_gen_imgs'):\n",
        "    gen_path = os.path.join(gen_dir, f'gen_{step:05d}.png')\n",
        "    gen_img = Image.open(gen_path)\n",
        "    return gen_img\n",
        "\n",
        "def show_images(step):\n",
        "    gen_img = load_step_images(step)\n",
        "    fig, ax = plt.subplots(figsize=(4, 4))\n",
        "    ax.imshow(gen_img)\n",
        "    ax.set_title(f\"Gen Step {step}\\n(fixed z shown)\")\n",
        "    ax.axis('off')\n",
        "    plt.tight_layout()\n",
        "    plt.show()\n",
        "\n",
        "if os.path.exists('gan_gen_imgs'):\n",
        "    saved_steps = sorted([\n",
        "        int(f.split('_')[-1].split('.')[0])\n",
        "        for f in os.listdir('gan_gen_imgs') if f.endswith('.png')\n",
        "    ])\n",
        "\n",
        "    if saved_steps:\n",
        "        step_slider = widgets.IntSlider(\n",
        "            value=saved_steps[0],\n",
        "            min=min(saved_steps),\n",
        "            max=max(saved_steps),\n",
        "            step=100,\n",
        "            description='Step:',\n",
        "            continuous_update=False\n",
        "        )\n",
        "\n",
        "        # widgets.interact(show_images, step=step_slider)"
      ]
    },
    {
      "cell_type": "code",
      "source": [
        "widgets.interact(show_images, step=step_slider);\n",
        "print('\\n')\n",
        "fig, axs = plt.subplots(1, 2, figsize=(14, 4), sharex=True)\n",
        "\n",
        "axs[0].plot(D_losses, label='Discriminator Loss', color='blue')\n",
        "axs[0].set_title('Discriminator Loss (BCE) over Iteration')\n",
        "axs[0].set_xlabel('Iteration')\n",
        "axs[0].set_ylabel('Loss')\n",
        "axs[0].legend()\n",
        "axs[0].grid(True)\n",
        "\n",
        "axs[1].plot(G_losses, label='Generator Loss (BCE)', color='orange')\n",
        "axs[1].set_title('Generator Loss (BCE) over Iteration')\n",
        "axs[1].set_xlabel('Iteration')\n",
        "axs[1].set_ylabel('Loss')\n",
        "axs[1].legend()\n",
        "axs[1].grid(True)\n",
        "\n",
        "plt.tight_layout()\n",
        "plt.show()"
      ],
      "metadata": {
        "colab": {
          "base_uri": "https://localhost:8080/",
          "height": 636,
          "referenced_widgets": [
            "9245329ad10b4605a49e97b9d3bbcf88",
            "1688f5bbfede4449bca3796520256d8c",
            "c7411dcd78e644a2855337d1dd34e9e2",
            "a2210299783a410a83418930dbf09298",
            "939e8f3ba1864c16aa63a3d95e625cb9",
            "450173b9045842df9637c9f73af6ac1a",
            "f282ffc06fb342f7a7e0de75d0c518d4"
          ]
        },
        "id": "i1StRLM9si1m",
        "outputId": "657a0c36-4800-4055-8a5c-ad15cf5d2503"
      },
      "execution_count": 7,
      "outputs": [
        {
          "output_type": "display_data",
          "data": {
            "text/plain": [
              "interactive(children=(IntSlider(value=0, continuous_update=False, description='Step:', max=14000, step=100), O…"
            ],
            "application/vnd.jupyter.widget-view+json": {
              "version_major": 2,
              "version_minor": 0,
              "model_id": "9245329ad10b4605a49e97b9d3bbcf88"
            }
          },
          "metadata": {}
        },
        {
          "output_type": "stream",
          "name": "stdout",
          "text": [
            "\n",
            "\n"
          ]
        },
        {
          "output_type": "display_data",
          "data": {
            "text/plain": [
              "<Figure size 1400x400 with 2 Axes>"
            ],
            "image/png": "[encoded data removed]"
          },
          "metadata": {}
        }
      ]
    }
  ],
  "metadata": {
    "accelerator": "GPU",
    "colab": {
      "gpuType": "T4",
      "provenance": []
    },
    "kernelspec": {
      "display_name": "Python 3",
      "name": "python3"
    },
    "language_info": {
      "name": "python"
    },
    "widgets": {
      "application/vnd.jupyter.widget-state+json": {
        "a72e7db3ecca48b89751f91b8d610a1d": {
          "model_module": "@jupyter-widgets/controls",
          "model_name": "VBoxModel",
          "model_module_version": "1.5.0",
          "state": {
            "_dom_classes": [
              "widget-interact"
            ],
            "_model_module": "@jupyter-widgets/controls",
            "_model_module_version": "1.5.0",
            "_model_name": "VBoxModel",
            "_view_count": null,
            "_view_module": "@jupyter-widgets/controls",
            "_view_module_version": "1.5.0",
            "_view_name": "VBoxView",
            "box_style": "",
            "children": [
              "IPY_MODEL_fd033ae1a4be413e84cf45153cf246ec",
              "IPY_MODEL_c71b674ccf1142a0a3396c57fa40e9fc"
            ],
            "layout": "IPY_MODEL_131283c71c2240919e2cd4a8dd57aeff"
          }
        },
        "fd033ae1a4be413e84cf45153cf246ec": {
          "model_module": "@jupyter-widgets/controls",
          "model_name": "IntSliderModel",
          "model_module_version": "1.5.0",
          "state": {
            "_dom_classes": [],
            "_model_module": "@jupyter-widgets/controls",
            "_model_module_version": "1.5.0",
            "_model_name": "IntSliderModel",
            "_view_count": null,
            "_view_module": "@jupyter-widgets/controls",
            "_view_module_version": "1.5.0",
            "_view_name": "IntSliderView",
            "continuous_update": false,
            "description": "Step:",
            "description_tooltip": null,
            "disabled": false,
            "layout": "IPY_MODEL_9b16dae9f6194e17b8310787c56f5a5c",
            "max": 46800,
            "min": 0,
            "orientation": "horizontal",
            "readout": true,
            "readout_format": "d",
            "step": 100,
            "style": "IPY_MODEL_cc442582ccff49179e3ac0c6f8b10b38",
            "value": 46800
          }
        },
        "c71b674ccf1142a0a3396c57fa40e9fc": {
          "model_module": "@jupyter-widgets/output",
          "model_name": "OutputModel",
          "model_module_version": "1.0.0",
          "state": {
            "_dom_classes": [],
            "_model_module": "@jupyter-widgets/output",
            "_model_module_version": "1.0.0",
            "_model_name": "OutputModel",
            "_view_count": null,
            "_view_module": "@jupyter-widgets/output",
            "_view_module_version": "1.0.0",
            "_view_name": "OutputView",
            "layout": "IPY_MODEL_28fedc37ef8147abafcd0d97c35e54b7",
            "msg_id": "",
            "outputs": [
              {
                "output_type": "display_data",
                "data": {
                  "text/plain": "<Figure size 800x400 with 2 Axes>",
                  "image/png": "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\n"
                },
                "metadata": {}
              }
            ]
          }
        },
        "131283c71c2240919e2cd4a8dd57aeff": {
          "model_module": "@jupyter-widgets/base",
          "model_name": "LayoutModel",
          "model_module_version": "1.2.0",
          "state": {
            "_model_module": "@jupyter-widgets/base",
            "_model_module_version": "1.2.0",
            "_model_name": "LayoutModel",
            "_view_count": null,
            "_view_module": "@jupyter-widgets/base",
            "_view_module_version": "1.2.0",
            "_view_name": "LayoutView",
            "align_content": null,
            "align_items": null,
            "align_self": null,
            "border": null,
            "bottom": null,
            "display": null,
            "flex": null,
            "flex_flow": null,
            "grid_area": null,
            "grid_auto_columns": null,
            "grid_auto_flow": null,
            "grid_auto_rows": null,
            "grid_column": null,
            "grid_gap": null,
            "grid_row": null,
            "grid_template_areas": null,
            "grid_template_columns": null,
            "grid_template_rows": null,
            "height": null,
            "justify_content": null,
            "justify_items": null,
            "left": null,
            "margin": null,
            "max_height": null,
            "max_width": null,
            "min_height": null,
            "min_width": null,
            "object_fit": null,
            "object_position": null,
            "order": null,
            "overflow": null,
            "overflow_x": null,
            "overflow_y": null,
            "padding": null,
            "right": null,
            "top": null,
            "visibility": null,
            "width": null
          }
        },
        "9b16dae9f6194e17b8310787c56f5a5c": {
          "model_module": "@jupyter-widgets/base",
          "model_name": "LayoutModel",
          "model_module_version": "1.2.0",
          "state": {
            "_model_module": "@jupyter-widgets/base",
            "_model_module_version": "1.2.0",
            "_model_name": "LayoutModel",
            "_view_count": null,
            "_view_module": "@jupyter-widgets/base",
            "_view_module_version": "1.2.0",
            "_view_name": "LayoutView",
            "align_content": null,
            "align_items": null,
            "align_self": null,
            "border": null,
            "bottom": null,
            "display": null,
            "flex": null,
            "flex_flow": null,
            "grid_area": null,
            "grid_auto_columns": null,
            "grid_auto_flow": null,
            "grid_auto_rows": null,
            "grid_column": null,
            "grid_gap": null,
            "grid_row": null,
            "grid_template_areas": null,
            "grid_template_columns": null,
            "grid_template_rows": null,
            "height": null,
            "justify_content": null,
            "justify_items": null,
            "left": null,
            "margin": null,
            "max_height": null,
            "max_width": null,
            "min_height": null,
            "min_width": null,
            "object_fit": null,
            "object_position": null,
            "order": null,
            "overflow": null,
            "overflow_x": null,
            "overflow_y": null,
            "padding": null,
            "right": null,
            "top": null,
            "visibility": null,
            "width": null
          }
        },
        "cc442582ccff49179e3ac0c6f8b10b38": {
          "model_module": "@jupyter-widgets/controls",
          "model_name": "SliderStyleModel",
          "model_module_version": "1.5.0",
          "state": {
            "_model_module": "@jupyter-widgets/controls",
            "_model_module_version": "1.5.0",
            "_model_name": "SliderStyleModel",
            "_view_count": null,
            "_view_module": "@jupyter-widgets/base",
            "_view_module_version": "1.2.0",
            "_view_name": "StyleView",
            "description_width": "",
            "handle_color": null
          }
        },
        "28fedc37ef8147abafcd0d97c35e54b7": {
          "model_module": "@jupyter-widgets/base",
          "model_name": "LayoutModel",
          "model_module_version": "1.2.0",
          "state": {
            "_model_module": "@jupyter-widgets/base",
            "_model_module_version": "1.2.0",
            "_model_name": "LayoutModel",
            "_view_count": null,
            "_view_module": "@jupyter-widgets/base",
            "_view_module_version": "1.2.0",
            "_view_name": "LayoutView",
            "align_content": null,
            "align_items": null,
            "align_self": null,
            "border": null,
            "bottom": null,
            "display": null,
            "flex": null,
            "flex_flow": null,
            "grid_area": null,
            "grid_auto_columns": null,
            "grid_auto_flow": null,
            "grid_auto_rows": null,
            "grid_column": null,
            "grid_gap": null,
            "grid_row": null,
            "grid_template_areas": null,
            "grid_template_columns": null,
            "grid_template_rows": null,
            "height": null,
            "justify_content": null,
            "justify_items": null,
            "left": null,
            "margin": null,
            "max_height": null,
            "max_width": null,
            "min_height": null,
            "min_width": null,
            "object_fit": null,
            "object_position": null,
            "order": null,
            "overflow": null,
            "overflow_x": null,
            "overflow_y": null,
            "padding": null,
            "right": null,
            "top": null,
            "visibility": null,
            "width": null
          }
        },
        "9245329ad10b4605a49e97b9d3bbcf88": {
          "model_module": "@jupyter-widgets/controls",
          "model_name": "VBoxModel",
          "model_module_version": "1.5.0",
          "state": {
            "_dom_classes": [
              "widget-interact"
            ],
            "_model_module": "@jupyter-widgets/controls",
            "_model_module_version": "1.5.0",
            "_model_name": "VBoxModel",
            "_view_count": null,
            "_view_module": "@jupyter-widgets/controls",
            "_view_module_version": "1.5.0",
            "_view_name": "VBoxView",
            "box_style": "",
            "children": [
              "IPY_MODEL_1688f5bbfede4449bca3796520256d8c",
              "IPY_MODEL_c7411dcd78e644a2855337d1dd34e9e2"
            ],
            "layout": "IPY_MODEL_a2210299783a410a83418930dbf09298"
          }
        },
        "1688f5bbfede4449bca3796520256d8c": {
          "model_module": "@jupyter-widgets/controls",
          "model_name": "IntSliderModel",
          "model_module_version": "1.5.0",
          "state": {
            "_dom_classes": [],
            "_model_module": "@jupyter-widgets/controls",
            "_model_module_version": "1.5.0",
            "_model_name": "IntSliderModel",
            "_view_count": null,
            "_view_module": "@jupyter-widgets/controls",
            "_view_module_version": "1.5.0",
            "_view_name": "IntSliderView",
            "continuous_update": false,
            "description": "Step:",
            "description_tooltip": null,
            "disabled": false,
            "layout": "IPY_MODEL_939e8f3ba1864c16aa63a3d95e625cb9",
            "max": 14000,
            "min": 0,
            "orientation": "horizontal",
            "readout": true,
            "readout_format": "d",
            "step": 100,
            "style": "IPY_MODEL_450173b9045842df9637c9f73af6ac1a",
            "value": 3300
          }
        },
        "c7411dcd78e644a2855337d1dd34e9e2": {
          "model_module": "@jupyter-widgets/output",
          "model_name": "OutputModel",
          "model_module_version": "1.0.0",
          "state": {
            "_dom_classes": [],
            "_model_module": "@jupyter-widgets/output",
            "_model_module_version": "1.0.0",
            "_model_name": "OutputModel",
            "_view_count": null,
            "_view_module": "@jupyter-widgets/output",
            "_view_module_version": "1.0.0",
            "_view_name": "OutputView",
            "layout": "IPY_MODEL_f282ffc06fb342f7a7e0de75d0c518d4",
            "msg_id": "",
            "outputs": [
              {
                "output_type": "display_data",
                "data": {
                  "text/plain": "<Figure size 400x400 with 1 Axes>",
                  "image/png": "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\n"
                },
                "metadata": {}
              }
            ]
          }
        },
        "a2210299783a410a83418930dbf09298": {
          "model_module": "@jupyter-widgets/base",
          "model_name": "LayoutModel",
          "model_module_version": "1.2.0",
          "state": {
            "_model_module": "@jupyter-widgets/base",
            "_model_module_version": "1.2.0",
            "_model_name": "LayoutModel",
            "_view_count": null,
            "_view_module": "@jupyter-widgets/base",
            "_view_module_version": "1.2.0",
            "_view_name": "LayoutView",
            "align_content": null,
            "align_items": null,
            "align_self": null,
            "border": null,
            "bottom": null,
            "display": null,
            "flex": null,
            "flex_flow": null,
            "grid_area": null,
            "grid_auto_columns": null,
            "grid_auto_flow": null,
            "grid_auto_rows": null,
            "grid_column": null,
            "grid_gap": null,
            "grid_row": null,
            "grid_template_areas": null,
            "grid_template_columns": null,
            "grid_template_rows": null,
            "height": null,
            "justify_content": null,
            "justify_items": null,
            "left": null,
            "margin": null,
            "max_height": null,
            "max_width": null,
            "min_height": null,
            "min_width": null,
            "object_fit": null,
            "object_position": null,
            "order": null,
            "overflow": null,
            "overflow_x": null,
            "overflow_y": null,
            "padding": null,
            "right": null,
            "top": null,
            "visibility": null,
            "width": null
          }
        },
        "939e8f3ba1864c16aa63a3d95e625cb9": {
          "model_module": "@jupyter-widgets/base",
          "model_name": "LayoutModel",
          "model_module_version": "1.2.0",
          "state": {
            "_model_module": "@jupyter-widgets/base",
            "_model_module_version": "1.2.0",
            "_model_name": "LayoutModel",
            "_view_count": null,
            "_view_module": "@jupyter-widgets/base",
            "_view_module_version": "1.2.0",
            "_view_name": "LayoutView",
            "align_content": null,
            "align_items": null,
            "align_self": null,
            "border": null,
            "bottom": null,
            "display": null,
            "flex": null,
            "flex_flow": null,
            "grid_area": null,
            "grid_auto_columns": null,
            "grid_auto_flow": null,
            "grid_auto_rows": null,
            "grid_column": null,
            "grid_gap": null,
            "grid_row": null,
            "grid_template_areas": null,
            "grid_template_columns": null,
            "grid_template_rows": null,
            "height": null,
            "justify_content": null,
            "justify_items": null,
            "left": null,
            "margin": null,
            "max_height": null,
            "max_width": null,
            "min_height": null,
            "min_width": null,
            "object_fit": null,
            "object_position": null,
            "order": null,
            "overflow": null,
            "overflow_x": null,
            "overflow_y": null,
            "padding": null,
            "right": null,
            "top": null,
            "visibility": null,
            "width": null
          }
        },
        "450173b9045842df9637c9f73af6ac1a": {
          "model_module": "@jupyter-widgets/controls",
          "model_name": "SliderStyleModel",
          "model_module_version": "1.5.0",
          "state": {
            "_model_module": "@jupyter-widgets/controls",
            "_model_module_version": "1.5.0",
            "_model_name": "SliderStyleModel",
            "_view_count": null,
            "_view_module": "@jupyter-widgets/base",
            "_view_module_version": "1.2.0",
            "_view_name": "StyleView",
            "description_width": "",
            "handle_color": null
          }
        },
        "f282ffc06fb342f7a7e0de75d0c518d4": {
          "model_module": "@jupyter-widgets/base",
          "model_name": "LayoutModel",
          "model_module_version": "1.2.0",
          "state": {
            "_model_module": "@jupyter-widgets/base",
            "_model_module_version": "1.2.0",
            "_model_name": "LayoutModel",
            "_view_count": null,
            "_view_module": "@jupyter-widgets/base",
            "_view_module_version": "1.2.0",
            "_view_name": "LayoutView",
            "align_content": null,
            "align_items": null,
            "align_self": null,
            "border": null,
            "bottom": null,
            "display": null,
            "flex": null,
            "flex_flow": null,
            "grid_area": null,
            "grid_auto_columns": null,
            "grid_auto_flow": null,
            "grid_auto_rows": null,
            "grid_column": null,
            "grid_gap": null,
            "grid_row": null,
            "grid_template_areas": null,
            "grid_template_columns": null,
            "grid_template_rows": null,
            "height": null,
            "justify_content": null,
            "justify_items": null,
            "left": null,
            "margin": null,
            "max_height": null,
            "max_width": null,
            "min_height": null,
            "min_width": null,
            "object_fit": null,
            "object_position": null,
            "order": null,
            "overflow": null,
            "overflow_x": null,
            "overflow_y": null,
            "padding": null,
            "right": null,
            "top": null,
            "visibility": null,
            "width": null
          }
        }
      }
    }
  },
  "nbformat": 4,
  "nbformat_minor": 0
}