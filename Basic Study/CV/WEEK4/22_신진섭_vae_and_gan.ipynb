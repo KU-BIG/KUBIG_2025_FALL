{
  "cells": [
    {
      "cell_type": "markdown",
      "source": [
        "# Training VAE and GAN model\n",
        "\n",
        "colab에서 돌릴 경우, 런타임 유형을 GPU로 변경해주세요.\n",
        "\n",
        "MNIST dataset을 활용해 VAE, GAN 모델을 간단하게 구현해보는 것이 이번 과제입니다."
      ],
      "metadata": {
        "id": "llgBx3J-oMRO"
      }
    },
    {
      "cell_type": "markdown",
      "source": [
        "# Imports and set seed"
      ],
      "metadata": {
        "id": "a3I5tElZFDcD"
      }
    },
    {
      "cell_type": "code",
      "source": [
        "!pip install ipywidgets -q"
      ],
      "metadata": {
        "id": "mS6c1dwaF45C"
      },
      "execution_count": 1,
      "outputs": []
    },
    {
      "cell_type": "code",
      "execution_count": 2,
      "metadata": {
        "id": "rL8dm3uXXEnE"
      },
      "outputs": [],
      "source": [
        "import os\n",
        "from tqdm import tqdm\n",
        "import random\n",
        "import numpy as np\n",
        "import matplotlib.pyplot as plt\n",
        "import torch\n",
        "import torch.nn as nn\n",
        "import torch.nn.functional as F\n",
        "from torch.utils.data import DataLoader\n",
        "from torch.optim import Adam\n",
        "from torchvision import datasets, transforms\n",
        "import torchvision.utils as vutils\n",
        "from IPython.display import display\n",
        "import ipywidgets as widgets\n",
        "from PIL import Image"
      ]
    },
    {
      "cell_type": "code",
      "source": [
        "def set_seed(seed=42):\n",
        "    random.seed(seed)\n",
        "    np.random.seed(seed)\n",
        "    torch.manual_seed(seed)\n",
        "    torch.cuda.manual_seed(seed)\n",
        "    torch.cuda.manual_seed_all(seed)  # if using multi-GPU\n",
        "    torch.backends.cudnn.deterministic = True\n",
        "    torch.backends.cudnn.benchmark = False\n",
        "    torch.use_deterministic_algorithms(False)  ##\n",
        "\n",
        "set_seed(1)"
      ],
      "metadata": {
        "id": "IjKgK9HxJdMz"
      },
      "execution_count": 3,
      "outputs": []
    },
    {
      "cell_type": "markdown",
      "source": [
        "# VAE Implementation"
      ],
      "metadata": {
        "id": "I9OOQofAIkZd"
      }
    },
    {
      "cell_type": "markdown",
      "source": [
        "### 1. Model design  - Problem 1\n",
        "\n",
        "---\n",
        "\n",
        "$Enc$, $Dec$ 모델을 자유롭게 구성해보세요.\n",
        "\n",
        "CNN 기반 아키텍쳐나 ViT 기반 아키텍쳐를 자유롭게 구성해도 좋습니다.\n",
        "\n",
        "이때 각 아키텍쳐 선택 요소에 맞게 epoch이나 여러 학습 파라미터를 Main training loop에서 수정해주셔야 합니다.\n",
        "\n",
        "입출력 $\\text{dim}$에 맞게 세팅하는 것에 유의해주세요.\n",
        "\n",
        "---\n"
      ],
      "metadata": {
        "id": "4EYzG4FUItly"
      }
    },
    {
      "cell_type": "code",
      "source": [
        "class ConvEncoder(nn.Module):\n",
        "    def __init__(self, latent_dim=64):\n",
        "        super().__init__()\n",
        "        self.conv = nn.Sequential(\n",
        "            # 1×28×28 → 64×14×14\n",
        "            nn.Conv2d(1, 64, 4, 2, 1),\n",
        "            nn.BatchNorm2d(64),\n",
        "            nn.LeakyReLU(0.2),\n",
        "\n",
        "            # 64×14×14 → 128×7×7\n",
        "            nn.Conv2d(64, 128, 4, 2, 1),\n",
        "            nn.BatchNorm2d(128),\n",
        "            nn.LeakyReLU(0.2),\n",
        "\n",
        "            # 128×7×7 → 256×7×7\n",
        "            nn.Conv2d(128, 256, 3, 1, 1),\n",
        "            nn.BatchNorm2d(256),\n",
        "            nn.LeakyReLU(0.2),\n",
        "\n",
        "            nn.Flatten()\n",
        "        )\n",
        "        self.fc_mu = nn.Linear(256*7*7, latent_dim)\n",
        "        self.fc_logvar = nn.Linear(256*7*7, latent_dim)\n",
        "\n",
        "    def forward(self, x):\n",
        "        h = self.conv(x)\n",
        "        return self.fc_mu(h), self.fc_logvar(h)\n",
        "\n",
        "\n",
        "class ConvDecoder(nn.Module):\n",
        "    def __init__(self, latent_dim=64):\n",
        "        super().__init__()\n",
        "        self.fc = nn.Linear(latent_dim, 256*7*7)\n",
        "\n",
        "        self.deconv = nn.Sequential(\n",
        "            # 256×7×7 → 128×7×7\n",
        "            nn.ConvTranspose2d(256, 128, 3, 1, 1),\n",
        "            nn.BatchNorm2d(128),\n",
        "            nn.LeakyReLU(0.2),\n",
        "\n",
        "            # 128×7×7 → 64×14×14\n",
        "            nn.ConvTranspose2d(128, 64, 4, 2, 1),\n",
        "            nn.BatchNorm2d(64),\n",
        "            nn.LeakyReLU(0.2),\n",
        "\n",
        "            # 64×14×14 → 1×28×28\n",
        "            nn.ConvTranspose2d(64, 1, 4, 2, 1),\n",
        "            nn.Sigmoid()\n",
        "        )\n",
        "\n",
        "    def forward(self, z):\n",
        "        h = self.fc(z).view(-1, 256, 7, 7)\n",
        "        return self.deconv(h)\n"
      ],
      "metadata": {
        "id": "IcStCywcE6mI"
      },
      "execution_count": 4,
      "outputs": []
    },
    {
      "cell_type": "markdown",
      "source": [
        "reparameterization 과정에 대해 확인해보세요."
      ],
      "metadata": {
        "id": "EZv_xBb63_r6"
      }
    },
    {
      "cell_type": "code",
      "source": [
        "class VAE(nn.Module):\n",
        "    def __init__(self, latent_dim=64):\n",
        "        super().__init__()\n",
        "        self.encoder = ConvEncoder(latent_dim)\n",
        "        self.decoder = ConvDecoder(latent_dim)\n",
        "\n",
        "    def reparameterize(self, mu, logvar):\n",
        "        std = torch.exp(0.5 * logvar)\n",
        "        eps = torch.randn_like(std)\n",
        "        return mu + eps * std\n",
        "\n",
        "    def forward(self, x):\n",
        "        mu, logvar = self.encoder(x)\n",
        "        z = self.reparameterize(mu, logvar)\n",
        "        return self.decoder(z), mu, logvar\n"
      ],
      "metadata": {
        "id": "meqUKh45E_qD"
      },
      "execution_count": 5,
      "outputs": []
    },
    {
      "cell_type": "markdown",
      "source": [
        "### 2. Loss\n",
        "\n",
        "---\n",
        "\n",
        "$(\\text{Binary Cross Entropy + KL Divergence})$의 구조입니다.\n",
        "\n",
        "KLD term이 아래와 같은 방식으로 구해지는 이유에 대해 생각해보세요."
      ],
      "metadata": {
        "id": "QF-p96SWI03Q"
      }
    },
    {
      "cell_type": "code",
      "source": [
        "def vae_loss(x, recon_logits, mu, logvar, reduction='mean'):\n",
        "    BCE = F.binary_cross_entropy_with_logits(recon_logits, x, reduction='sum')\n",
        "    KLD = -0.5 * torch.sum(1 + logvar - mu.pow(2) - logvar.exp())\n",
        "    if reduction == 'mean':\n",
        "        div = x.size(0)\n",
        "        BCE = BCE / div\n",
        "        KLD = KLD / div\n",
        "    return BCE + KLD, BCE, KLD"
      ],
      "metadata": {
        "id": "LDO3khroGVNe"
      },
      "execution_count": 6,
      "outputs": []
    },
    {
      "cell_type": "markdown",
      "source": [
        "### 3. Visualization function\n",
        "\n",
        "---\n",
        "\n",
        "실행만 하고 넘어가시면 됩니다."
      ],
      "metadata": {
        "id": "Erkky9fzI_yh"
      }
    },
    {
      "cell_type": "code",
      "source": [
        "def save_step_images(model, step, imgs, z):\n",
        "    was_training = model.training\n",
        "    model.eval()\n",
        "    with torch.no_grad():\n",
        "        recon_logits, _, _ = model(imgs)\n",
        "        recon = torch.sigmoid(recon_logits)\n",
        "\n",
        "        recon_grid = torch.cat([imgs, recon], dim=0)\n",
        "        recon_grid = vutils.make_grid(recon_grid, nrow=4, normalize=True, pad_value=1)\n",
        "        vutils.save_image(recon_grid, f\"vae_recon_imgs/recon_{step:05d}.png\")\n",
        "\n",
        "        gen = torch.sigmoid(model.decoder(z))\n",
        "        gen_grid = vutils.make_grid(gen, nrow=4, normalize=True, pad_value=1)\n",
        "        vutils.save_image(gen_grid, f\"vae_gen_imgs/gen_{step:05d}.png\")\n",
        "\n",
        "    if was_training:\n",
        "        model.train(was_training)"
      ],
      "metadata": {
        "id": "yxhotu2hEoYd"
      },
      "execution_count": 7,
      "outputs": []
    },
    {
      "cell_type": "markdown",
      "source": [
        "## 4. Main train loop\n",
        "\n",
        "---\n",
        "\n",
        "batch size, epoch, learning rate와\n",
        "\n",
        "VAE latent dimension을 자유롭게 조절하면서 학습시켜보세요."
      ],
      "metadata": {
        "id": "t51JcflbJD7l"
      }
    },
    {
      "cell_type": "code",
      "source": [
        "device = 'cuda' if torch.cuda.is_available() else 'cpu'\n",
        "\n",
        "transform = transforms.Compose([transforms.ToTensor(),])\n",
        "train_loader = DataLoader(\n",
        "    datasets.MNIST('.', train=True, download=True, transform=transform),\n",
        "    batch_size=512,\n",
        "    shuffle=True\n",
        "    )\n",
        "\n",
        "latent_dim = 32\n",
        "model = VAE(latent_dim=latent_dim).to(device)\n",
        "optimizer = Adam(model.parameters(), lr=1e-3)\n",
        "scaler = torch.amp.GradScaler('cuda')\n",
        "\n",
        "# for visualization\n",
        "os.makedirs(\"vae_recon_imgs\", exist_ok=True)\n",
        "os.makedirs(\"vae_gen_imgs\", exist_ok=True)\n",
        "fixed_imgs, _ = next(iter(train_loader))\n",
        "fixed_imgs = fixed_imgs[:4].to(device)\n",
        "fixed_z = torch.randn(4, latent_dim).to(device)\n",
        "\n",
        "global_step = 0\n",
        "bce_losses, kld_losses = [], []\n",
        "for epoch in (range(20)):\n",
        "    model.train()\n",
        "    pbar = tqdm(train_loader, desc=f\"Epoch {epoch}\")\n",
        "    for x, _ in pbar:\n",
        "        x = x.to(device)\n",
        "        optimizer.zero_grad()\n",
        "\n",
        "        with torch.amp.autocast('cuda'):\n",
        "            recon, mu, logvar = model(x)\n",
        "            loss, bce, kld = vae_loss(x, recon, mu, logvar)\n",
        "\n",
        "        scaler.scale(loss).backward()\n",
        "        scaler.step(optimizer)\n",
        "        scaler.update()\n",
        "\n",
        "        bce_losses.append(bce.item())\n",
        "        kld_losses.append(kld.item())\n",
        "\n",
        "        pbar.set_postfix({\"loss\": f\"{loss.item():.4f}\"})\n",
        "\n",
        "        if global_step % 100 == 0:\n",
        "            with torch.no_grad():\n",
        "                save_step_images(model, step=global_step, imgs=fixed_imgs, z=fixed_z)\n",
        "\n",
        "        global_step += 1\n"
      ],
      "metadata": {
        "colab": {
          "base_uri": "https://localhost:8080/"
        },
        "id": "foJuKIX2GXt8",
        "outputId": "308afce0-f647-49f9-d6ca-cac145c91d57"
      },
      "execution_count": 8,
      "outputs": [
        {
          "output_type": "stream",
          "name": "stderr",
          "text": [
            "Epoch 0: 100%|██████████| 118/118 [00:08<00:00, 13.67it/s, loss=563.4075]\n",
            "Epoch 1: 100%|██████████| 118/118 [00:07<00:00, 15.28it/s, loss=545.0562]\n",
            "Epoch 2: 100%|██████████| 118/118 [00:07<00:00, 14.98it/s, loss=541.3870]\n",
            "Epoch 3: 100%|██████████| 118/118 [00:07<00:00, 14.87it/s, loss=540.8856]\n",
            "Epoch 4: 100%|██████████| 118/118 [00:07<00:00, 15.06it/s, loss=539.9973]\n",
            "Epoch 5: 100%|██████████| 118/118 [00:07<00:00, 15.26it/s, loss=540.6548]\n",
            "Epoch 6: 100%|██████████| 118/118 [00:07<00:00, 15.52it/s, loss=538.6149]\n",
            "Epoch 7: 100%|██████████| 118/118 [00:07<00:00, 15.52it/s, loss=538.3129]\n",
            "Epoch 8: 100%|██████████| 118/118 [00:07<00:00, 15.55it/s, loss=539.5728]\n",
            "Epoch 9: 100%|██████████| 118/118 [00:07<00:00, 15.40it/s, loss=537.0094]\n",
            "Epoch 10: 100%|██████████| 118/118 [00:07<00:00, 15.30it/s, loss=536.1166]\n",
            "Epoch 11: 100%|██████████| 118/118 [00:07<00:00, 15.41it/s, loss=537.8450]\n",
            "Epoch 12: 100%|██████████| 118/118 [00:07<00:00, 15.62it/s, loss=538.7977]\n",
            "Epoch 13: 100%|██████████| 118/118 [00:07<00:00, 15.62it/s, loss=539.3329]\n",
            "Epoch 14: 100%|██████████| 118/118 [00:07<00:00, 15.57it/s, loss=537.9297]\n",
            "Epoch 15: 100%|██████████| 118/118 [00:07<00:00, 15.43it/s, loss=538.5440]\n",
            "Epoch 16: 100%|██████████| 118/118 [00:07<00:00, 15.37it/s, loss=536.7204]\n",
            "Epoch 17: 100%|██████████| 118/118 [00:07<00:00, 15.13it/s, loss=536.3230]\n",
            "Epoch 18: 100%|██████████| 118/118 [00:07<00:00, 15.43it/s, loss=537.8026]\n",
            "Epoch 19: 100%|██████████| 118/118 [00:07<00:00, 15.56it/s, loss=537.7322]\n"
          ]
        }
      ]
    },
    {
      "cell_type": "markdown",
      "source": [
        "## 5. Results visualization\n",
        "\n",
        "---\n",
        "\n",
        "아래 코드는 실행만 하면 됩니다. 바를 조절해 iteration별 학습 과정을 확인할 수 있습니다."
      ],
      "metadata": {
        "id": "svsaNz6OJqwn"
      }
    },
    {
      "cell_type": "code",
      "source": [
        "def load_step_images(step, recon_dir='vae_recon_imgs', gen_dir='vae_gen_imgs'):\n",
        "    recon_path = os.path.join(recon_dir, f'recon_{step:05d}.png')\n",
        "    gen_path = os.path.join(gen_dir, f'gen_{step:05d}.png')\n",
        "    return Image.open(recon_path), Image.open(gen_path)\n",
        "\n",
        "def show_images(step):\n",
        "    recon_img, gen_img = load_step_images(step)\n",
        "    fig, axs = plt.subplots(1, 2, figsize=(8, 4))\n",
        "    axs[0].imshow(recon_img)\n",
        "    axs[0].set_title(f\"Recon Step {step}\")\n",
        "    axs[0].axis('off')\n",
        "\n",
        "    axs[1].imshow(gen_img)\n",
        "    axs[1].set_title(f\"Gen Step {step}\")\n",
        "    axs[1].axis('off')\n",
        "    plt.tight_layout()\n",
        "    plt.show()\n",
        "\n",
        "saved_steps = sorted([\n",
        "    int(f.split('_')[-1].split('.')[0])\n",
        "    for f in os.listdir('vae_recon_imgs') if f.endswith('.png')\n",
        "])\n",
        "\n",
        "step_slider = widgets.IntSlider(\n",
        "    value=saved_steps[0],\n",
        "    min=min(saved_steps),\n",
        "    max=max(saved_steps),\n",
        "    step=100,\n",
        "    description='Step:',\n",
        "    continuous_update=False\n",
        ")\n",
        "\n",
        "# widgets.interact(show_images, step=step_slider);"
      ],
      "metadata": {
        "id": "n4KkqTHOJqHf"
      },
      "execution_count": 9,
      "outputs": []
    },
    {
      "cell_type": "code",
      "source": [
        "widgets.interact(show_images, step=step_slider);\n",
        "print('\\n')\n",
        "fig, axs = plt.subplots(1, 2, figsize=(12, 4), sharex=True)\n",
        "\n",
        "# BCE Loss subplot\n",
        "axs[0].plot(bce_losses, label='BCE Loss')\n",
        "axs[0].set_title('BCE Loss over Total Iteration')\n",
        "axs[0].set_xlabel('Iteration')\n",
        "axs[0].set_ylabel('BCE Loss')\n",
        "axs[0].legend()\n",
        "\n",
        "# KLD Loss subplot\n",
        "axs[1].plot(kld_losses, label='KLD Loss', color='orange')\n",
        "axs[1].set_title('KLD Loss over Total Iteration')\n",
        "axs[1].set_xlabel('Iteration')\n",
        "axs[1].set_ylabel('KLD Loss')\n",
        "axs[1].legend()\n",
        "\n",
        "plt.tight_layout()\n",
        "plt.show()\n"
      ],
      "metadata": {
        "colab": {
          "base_uri": "https://localhost:8080/",
          "height": 593,
          "referenced_widgets": [
            "aa0d5564e12c4effa16d84a56adf7cda",
            "0837eb4e12374439a685d4f1acf6a238",
            "e4d6f02165b247e5ba3feae6ace437eb",
            "4bf161f73ae549fd8a2ba216a07781e9",
            "84a1acc193d34079a379a877a7cfb5b9",
            "25bf8c911ce14e928b63e18ebb80b887",
            "682ed556746f42a0bd5545cc85d5634e"
          ]
        },
        "id": "2Stm3zPaIVzL",
        "outputId": "78d52645-1a9f-4c2c-b41b-6a38b0e01c50"
      },
      "execution_count": 10,
      "outputs": [
        {
          "output_type": "display_data",
          "data": {
            "text/plain": [
              "interactive(children=(IntSlider(value=0, continuous_update=False, description='Step:', max=2300, step=100), Ou…"
            ],
            "application/vnd.jupyter.widget-view+json": {
              "version_major": 2,
              "version_minor": 0,
              "model_id": "aa0d5564e12c4effa16d84a56adf7cda"
            }
          },
          "metadata": {}
        },
        {
          "output_type": "stream",
          "name": "stdout",
          "text": [
            "\n",
            "\n"
          ]
        },
        {
          "output_type": "display_data",
          "data": {
            "text/plain": [
              "<Figure size 1200x400 with 2 Axes>"
            ],
            "image/png": "[encoded data removed]"
          },
          "metadata": {}
        }
      ]
    },
    {
      "cell_type": "markdown",
      "source": [
        "---\n",
        "___\n",
        "\n",
        "# GAN Implementation"
      ],
      "metadata": {
        "id": "Tm9Op-vOJKC8"
      }
    },
    {
      "cell_type": "markdown",
      "source": [
        "## 1. Model Design - Problem 2\n",
        "\n",
        "---\n",
        "\n",
        "$Generator$, $Discriminator$ 모델을 자유롭게 구성해보세요. 입출력 $\\text{dim}$에 맞게 세팅하는 것에 유의해주세요."
      ],
      "metadata": {
        "id": "uED-DGkwlIql"
      }
    },
    {
      "cell_type": "code",
      "execution_count": 11,
      "metadata": {
        "id": "pWFzINayh3ps"
      },
      "outputs": [],
      "source": [
        "# Generator\n",
        "class Generator(nn.Module):\n",
        "    def __init__(self, z_dim=100):\n",
        "        super().__init__()\n",
        "        self.net = nn.Sequential(\n",
        "            # z: (z_dim, 1, 1) → (128,7,7)\n",
        "            nn.ConvTranspose2d(z_dim, 128, 7, 1, 0, bias=False),\n",
        "            nn.BatchNorm2d(128),\n",
        "            nn.ReLU(True),\n",
        "\n",
        "            # (128,7,7) → (64,14,14)\n",
        "            nn.ConvTranspose2d(128, 64, 4, 2, 1, bias=False),\n",
        "            nn.BatchNorm2d(64),\n",
        "            nn.ReLU(True),\n",
        "\n",
        "            # (64,14,14) → (1,28,28)\n",
        "            nn.ConvTranspose2d(64, 1, 4, 2, 1, bias=False),\n",
        "            nn.Tanh()\n",
        "        )\n",
        "\n",
        "    def forward(self, z):\n",
        "        return self.net(z)\n",
        "\n",
        "# Discriminator\n",
        "class Discriminator(nn.Module):\n",
        "    def __init__(self):\n",
        "        super().__init__()\n",
        "        self.net = nn.Sequential(\n",
        "            # (1,28,28) → (64,14,14)\n",
        "            nn.Conv2d(1, 64, 4, 2, 1, bias=False),\n",
        "            nn.LeakyReLU(0.2, inplace=True),\n",
        "\n",
        "            # (64,14,14) → (128,7,7)\n",
        "            nn.Conv2d(64, 128, 4, 2, 1, bias=False),\n",
        "            nn.BatchNorm2d(128),\n",
        "            nn.LeakyReLU(0.2, inplace=True),\n",
        "\n",
        "            # (128,7,7) → (1,1,1)\n",
        "            nn.Conv2d(128, 1, 7, 1, 0, bias=False),\n",
        "            nn.Sigmoid()\n",
        "        )\n",
        "\n",
        "    def forward(self, x):\n",
        "        return self.net(x).view(-1, 1)\n"
      ]
    },
    {
      "cell_type": "markdown",
      "source": [
        "## 2. Visualization fuction\n",
        "\n",
        "---"
      ],
      "metadata": {
        "id": "mD8qeD60q2qk"
      }
    },
    {
      "cell_type": "code",
      "source": [
        "def save_step_images_for_gan(model, step, z):\n",
        "    was_training = model.training\n",
        "    model.eval()\n",
        "    with torch.no_grad():\n",
        "        fake = model(z).detach()\n",
        "        # fake = (fake + 1) / 2  # [-1, 1] → [0, 1]\n",
        "        gen_grid = vutils.make_grid(fake, nrow=4, normalize=True, pad_value=1)\n",
        "        vutils.save_image(gen_grid, f\"gan_gen_imgs/gen_{step:05d}.png\")\n",
        "    if was_training:\n",
        "        model.train(was_training)"
      ],
      "metadata": {
        "id": "D8ioLX7Mq2yH"
      },
      "execution_count": 12,
      "outputs": []
    },
    {
      "cell_type": "markdown",
      "source": [
        "## 3. Main training loop\n",
        "\n",
        "---"
      ],
      "metadata": {
        "id": "R1hGgrSUsobG"
      }
    },
    {
      "cell_type": "code",
      "source": [
        "device = 'cuda' if torch.cuda.is_available() else 'cpu'\n",
        "\n",
        "z_dim = 32\n",
        "G = Generator(z_dim).to(device)\n",
        "D = Discriminator().to(device)\n",
        "opt_G = torch.optim.Adam(G.parameters(), lr=2e-4, betas=(0.5, 0.999))\n",
        "opt_D = torch.optim.Adam(D.parameters(), lr=2e-4, betas=(0.5, 0.999))\n",
        "loss_fn = nn.BCELoss()\n",
        "\n",
        "transform = transforms.Compose([\n",
        "    transforms.ToTensor(),\n",
        "    transforms.Normalize([0.5],[0.5])  # [-1,1] range scaling\n",
        "])\n",
        "train_loader = DataLoader(\n",
        "    datasets.MNIST('.', train=True, download=True, transform=transform),\n",
        "    batch_size=512,\n",
        "    shuffle=True\n",
        ")\n",
        "\n",
        "os.makedirs(\"gan_gen_imgs\", exist_ok=True)\n",
        "fixed_z = torch.randn(4, z_dim, 1, 1, device=device)\n",
        "\n",
        "global_step = 0\n",
        "D_losses, G_losses = [], []\n",
        "for epoch in range(20):\n",
        "    pbar = tqdm(train_loader, desc=f\"Epoch {epoch}\")\n",
        "    for x, _ in pbar:\n",
        "        x = x.to(device)\n",
        "        batch_size = x.size(0)\n",
        "\n",
        "        # Train Discriminator\n",
        "        z = torch.randn(batch_size, z_dim, 1, 1, device=device)\n",
        "        fake = G(z).detach()\n",
        "\n",
        "        opt_D.zero_grad()\n",
        "        loss_real = loss_fn(D(x), torch.ones(batch_size, 1, device=device))\n",
        "        loss_fake = loss_fn(D(fake), torch.zeros(batch_size, 1, device=device))\n",
        "        loss_D = (loss_real + loss_fake)\n",
        "        D_losses.append(loss_D.item())\n",
        "        loss_D.backward()\n",
        "        opt_D.step()\n",
        "\n",
        "        # Train Generator\n",
        "        z = torch.randn(batch_size, z_dim, 1, 1, device=device)\n",
        "        fake = G(z)\n",
        "        opt_G.zero_grad()\n",
        "        loss_G = loss_fn(D(fake), torch.ones(batch_size, 1, device=device))\n",
        "        G_losses.append(loss_G.item())\n",
        "        loss_G.backward()\n",
        "        opt_G.step()\n",
        "\n",
        "        pbar.set_postfix({\"D_loss\": f\"{loss_D.item():.4f}\", \"G_loss\": f\"{loss_G.item():.4f}\"})\n",
        "\n",
        "        if global_step % 100 == 0:\n",
        "            with torch.no_grad():\n",
        "                save_step_images_for_gan(G, step=global_step, z=fixed_z)\n",
        "\n",
        "        global_step += 1\n"
      ],
      "metadata": {
        "colab": {
          "base_uri": "https://localhost:8080/"
        },
        "id": "2rEQ8E-glRhY",
        "outputId": "4b7169f6-2ebb-4f15-b351-9874b34b2646"
      },
      "execution_count": 13,
      "outputs": [
        {
          "output_type": "stream",
          "name": "stderr",
          "text": [
            "Epoch 0: 100%|██████████| 118/118 [00:14<00:00,  7.91it/s, D_loss=0.9681, G_loss=0.9809]\n",
            "Epoch 1: 100%|██████████| 118/118 [00:14<00:00,  7.95it/s, D_loss=0.7390, G_loss=1.1046]\n",
            "Epoch 2: 100%|██████████| 118/118 [00:14<00:00,  7.93it/s, D_loss=1.1495, G_loss=0.3448]\n",
            "Epoch 3: 100%|██████████| 118/118 [00:14<00:00,  7.94it/s, D_loss=1.0550, G_loss=0.5569]\n",
            "Epoch 4: 100%|██████████| 118/118 [00:14<00:00,  8.05it/s, D_loss=0.7395, G_loss=1.4786]\n",
            "Epoch 5: 100%|██████████| 118/118 [00:14<00:00,  8.02it/s, D_loss=0.7714, G_loss=1.6004]\n",
            "Epoch 6: 100%|██████████| 118/118 [00:14<00:00,  7.96it/s, D_loss=1.3436, G_loss=2.7712]\n",
            "Epoch 7: 100%|██████████| 118/118 [00:14<00:00,  8.02it/s, D_loss=0.7524, G_loss=1.5204]\n",
            "Epoch 8: 100%|██████████| 118/118 [00:14<00:00,  7.97it/s, D_loss=0.9991, G_loss=1.6885]\n",
            "Epoch 9: 100%|██████████| 118/118 [00:14<00:00,  7.99it/s, D_loss=0.8070, G_loss=0.9708]\n",
            "Epoch 10: 100%|██████████| 118/118 [00:14<00:00,  7.99it/s, D_loss=0.8663, G_loss=1.6709]\n",
            "Epoch 11: 100%|██████████| 118/118 [00:14<00:00,  7.95it/s, D_loss=0.8955, G_loss=0.7255]\n",
            "Epoch 12: 100%|██████████| 118/118 [00:14<00:00,  8.02it/s, D_loss=0.8571, G_loss=1.8614]\n",
            "Epoch 13: 100%|██████████| 118/118 [00:14<00:00,  8.01it/s, D_loss=0.7945, G_loss=1.6008]\n",
            "Epoch 14: 100%|██████████| 118/118 [00:14<00:00,  8.05it/s, D_loss=1.0296, G_loss=1.9562]\n",
            "Epoch 15: 100%|██████████| 118/118 [00:14<00:00,  8.06it/s, D_loss=0.7417, G_loss=1.0176]\n",
            "Epoch 16: 100%|██████████| 118/118 [00:14<00:00,  8.00it/s, D_loss=0.8344, G_loss=2.1874]\n",
            "Epoch 17: 100%|██████████| 118/118 [00:14<00:00,  8.01it/s, D_loss=0.8336, G_loss=1.4379]\n",
            "Epoch 18: 100%|██████████| 118/118 [00:14<00:00,  7.92it/s, D_loss=1.3638, G_loss=1.9985]\n",
            "Epoch 19: 100%|██████████| 118/118 [00:14<00:00,  7.92it/s, D_loss=0.7690, G_loss=0.7626]\n"
          ]
        }
      ]
    },
    {
      "cell_type": "markdown",
      "source": [
        "## 4. Visualization\n",
        "\n",
        "---"
      ],
      "metadata": {
        "id": "BmvfOGKMsjKR"
      }
    },
    {
      "cell_type": "code",
      "execution_count": 14,
      "metadata": {
        "id": "fvlhH6nSzyc_"
      },
      "outputs": [],
      "source": [
        "def load_step_images(step, gen_dir='gan_gen_imgs'):\n",
        "    gen_path = os.path.join(gen_dir, f'gen_{step:05d}.png')\n",
        "    gen_img = Image.open(gen_path)\n",
        "    return gen_img\n",
        "\n",
        "def show_images(step):\n",
        "    gen_img = load_step_images(step)\n",
        "    fig, ax = plt.subplots(figsize=(4, 4))\n",
        "    ax.imshow(gen_img)\n",
        "    ax.set_title(f\"Gen Step {step}\\n(fixed z shown)\")\n",
        "    ax.axis('off')\n",
        "    plt.tight_layout()\n",
        "    plt.show()\n",
        "\n",
        "if os.path.exists('gan_gen_imgs'):\n",
        "    saved_steps = sorted([\n",
        "        int(f.split('_')[-1].split('.')[0])\n",
        "        for f in os.listdir('gan_gen_imgs') if f.endswith('.png')\n",
        "    ])\n",
        "\n",
        "    if saved_steps:\n",
        "        step_slider = widgets.IntSlider(\n",
        "            value=saved_steps[0],\n",
        "            min=min(saved_steps),\n",
        "            max=max(saved_steps),\n",
        "            step=100,\n",
        "            description='Step:',\n",
        "            continuous_update=False\n",
        "        )\n",
        "\n",
        "        # widgets.interact(show_images, step=step_slider)"
      ]
    },
    {
      "cell_type": "code",
      "source": [
        "widgets.interact(show_images, step=step_slider);\n",
        "print('\\n')\n",
        "fig, axs = plt.subplots(1, 2, figsize=(14, 4), sharex=True)\n",
        "\n",
        "axs[0].plot(D_losses, label='Discriminator Loss', color='blue')\n",
        "axs[0].set_title('Discriminator Loss (BCE) over Iteration')\n",
        "axs[0].set_xlabel('Iteration')\n",
        "axs[0].set_ylabel('Loss')\n",
        "axs[0].legend()\n",
        "axs[0].grid(True)\n",
        "\n",
        "axs[1].plot(G_losses, label='Generator Loss (BCE)', color='orange')\n",
        "axs[1].set_title('Generator Loss (BCE) over Iteration')\n",
        "axs[1].set_xlabel('Iteration')\n",
        "axs[1].set_ylabel('Loss')\n",
        "axs[1].legend()\n",
        "axs[1].grid(True)\n",
        "\n",
        "plt.tight_layout()\n",
        "plt.show()"
      ],
      "metadata": {
        "colab": {
          "base_uri": "https://localhost:8080/",
          "height": 480,
          "referenced_widgets": [
            "a5bd155410c942af84c246f8081046ab",
            "6a10d46a8c19407aa5629202914c364b",
            "9c146d3a7f414b458645a09a587d0eb0",
            "f2b098087a7e4f32a01c1acca0feddf4",
            "bc0add5e7f5041198f32cdc417685be5",
            "0ae3e794d2dc4c789e4d5ed22bb05cb9",
            "c64614abb32a4066b4142bc1cd1e8a7f"
          ]
        },
        "id": "i1StRLM9si1m",
        "outputId": "10ba9681-be5a-4185-936d-0050c666facb"
      },
      "execution_count": 15,
      "outputs": [
        {
          "output_type": "display_data",
          "data": {
            "text/plain": [
              "interactive(children=(IntSlider(value=0, continuous_update=False, description='Step:', max=2300, step=100), Ou…"
            ],
            "application/vnd.jupyter.widget-view+json": {
              "version_major": 2,
              "version_minor": 0,
              "model_id": "a5bd155410c942af84c246f8081046ab"
            }
          },
          "metadata": {}
        },
        {
          "output_type": "stream",
          "name": "stdout",
          "text": [
            "\n",
            "\n"
          ]
        },
        {
          "output_type": "display_data",
          "data": {
            "text/plain": [
              "<Figure size 1400x400 with 2 Axes>"
            ],
            "image/png": "[encoded data removed]"
          },
          "metadata": {}
        }
      ]
    },
    {
      "cell_type": "code",
      "source": [],
      "metadata": {
        "id": "p--eC4LSDeuV"
      },
      "execution_count": 15,
      "outputs": []
    }
  ],
  "metadata": {
    "accelerator": "GPU",
    "colab": {
      "gpuType": "L4",
      "machine_shape": "hm",
      "provenance": []
    },
    "kernelspec": {
      "display_name": "Python 3",
      "name": "python3"
    },
    "language_info": {
      "name": "python"
    },
    "widgets": {
      "application/vnd.jupyter.widget-state+json": {
        "aa0d5564e12c4effa16d84a56adf7cda": {
          "model_module": "@jupyter-widgets/controls",
          "model_name": "VBoxModel",
          "model_module_version": "1.5.0",
          "state": {
            "_dom_classes": [
              "widget-interact"
            ],
            "_model_module": "@jupyter-widgets/controls",
            "_model_module_version": "1.5.0",
            "_model_name": "VBoxModel",
            "_view_count": null,
            "_view_module": "@jupyter-widgets/controls",
            "_view_module_version": "1.5.0",
            "_view_name": "VBoxView",
            "box_style": "",
            "children": [
              "IPY_MODEL_0837eb4e12374439a685d4f1acf6a238",
              "IPY_MODEL_e4d6f02165b247e5ba3feae6ace437eb"
            ],
            "layout": "IPY_MODEL_4bf161f73ae549fd8a2ba216a07781e9"
          }
        },
        "0837eb4e12374439a685d4f1acf6a238": {
          "model_module": "@jupyter-widgets/controls",
          "model_name": "IntSliderModel",
          "model_module_version": "1.5.0",
          "state": {
            "_dom_classes": [],
            "_model_module": "@jupyter-widgets/controls",
            "_model_module_version": "1.5.0",
            "_model_name": "IntSliderModel",
            "_view_count": null,
            "_view_module": "@jupyter-widgets/controls",
            "_view_module_version": "1.5.0",
            "_view_name": "IntSliderView",
            "continuous_update": false,
            "description": "Step:",
            "description_tooltip": null,
            "disabled": false,
            "layout": "IPY_MODEL_84a1acc193d34079a379a877a7cfb5b9",
            "max": 2300,
            "min": 0,
            "orientation": "horizontal",
            "readout": true,
            "readout_format": "d",
            "step": 100,
            "style": "IPY_MODEL_25bf8c911ce14e928b63e18ebb80b887",
            "value": 2300
          }
        },
        "e4d6f02165b247e5ba3feae6ace437eb": {
          "model_module": "@jupyter-widgets/output",
          "model_name": "OutputModel",
          "model_module_version": "1.0.0",
          "state": {
            "_dom_classes": [],
            "_model_module": "@jupyter-widgets/output",
            "_model_module_version": "1.0.0",
            "_model_name": "OutputModel",
            "_view_count": null,
            "_view_module": "@jupyter-widgets/output",
            "_view_module_version": "1.0.0",
            "_view_name": "OutputView",
            "layout": "IPY_MODEL_682ed556746f42a0bd5545cc85d5634e",
            "msg_id": "",
            "outputs": [
              {
                "output_type": "display_data",
                "data": {
                  "text/plain": "<Figure size 800x400 with 2 Axes>",
                  "image/png": "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\n"
                },
                "metadata": {}
              }
            ]
          }
        },
        "4bf161f73ae549fd8a2ba216a07781e9": {
          "model_module": "@jupyter-widgets/base",
          "model_name": "LayoutModel",
          "model_module_version": "1.2.0",
          "state": {
            "_model_module": "@jupyter-widgets/base",
            "_model_module_version": "1.2.0",
            "_model_name": "LayoutModel",
            "_view_count": null,
            "_view_module": "@jupyter-widgets/base",
            "_view_module_version": "1.2.0",
            "_view_name": "LayoutView",
            "align_content": null,
            "align_items": null,
            "align_self": null,
            "border": null,
            "bottom": null,
            "display": null,
            "flex": null,
            "flex_flow": null,
            "grid_area": null,
            "grid_auto_columns": null,
            "grid_auto_flow": null,
            "grid_auto_rows": null,
            "grid_column": null,
            "grid_gap": null,
            "grid_row": null,
            "grid_template_areas": null,
            "grid_template_columns": null,
            "grid_template_rows": null,
            "height": null,
            "justify_content": null,
            "justify_items": null,
            "left": null,
            "margin": null,
            "max_height": null,
            "max_width": null,
            "min_height": null,
            "min_width": null,
            "object_fit": null,
            "object_position": null,
            "order": null,
            "overflow": null,
            "overflow_x": null,
            "overflow_y": null,
            "padding": null,
            "right": null,
            "top": null,
            "visibility": null,
            "width": null
          }
        },
        "84a1acc193d34079a379a877a7cfb5b9": {
          "model_module": "@jupyter-widgets/base",
          "model_name": "LayoutModel",
          "model_module_version": "1.2.0",
          "state": {
            "_model_module": "@jupyter-widgets/base",
            "_model_module_version": "1.2.0",
            "_model_name": "LayoutModel",
            "_view_count": null,
            "_view_module": "@jupyter-widgets/base",
            "_view_module_version": "1.2.0",
            "_view_name": "LayoutView",
            "align_content": null,
            "align_items": null,
            "align_self": null,
            "border": null,
            "bottom": null,
            "display": null,
            "flex": null,
            "flex_flow": null,
            "grid_area": null,
            "grid_auto_columns": null,
            "grid_auto_flow": null,
            "grid_auto_rows": null,
            "grid_column": null,
            "grid_gap": null,
            "grid_row": null,
            "grid_template_areas": null,
            "grid_template_columns": null,
            "grid_template_rows": null,
            "height": null,
            "justify_content": null,
            "justify_items": null,
            "left": null,
            "margin": null,
            "max_height": null,
            "max_width": null,
            "min_height": null,
            "min_width": null,
            "object_fit": null,
            "object_position": null,
            "order": null,
            "overflow": null,
            "overflow_x": null,
            "overflow_y": null,
            "padding": null,
            "right": null,
            "top": null,
            "visibility": null,
            "width": null
          }
        },
        "25bf8c911ce14e928b63e18ebb80b887": {
          "model_module": "@jupyter-widgets/controls",
          "model_name": "SliderStyleModel",
          "model_module_version": "1.5.0",
          "state": {
            "_model_module": "@jupyter-widgets/controls",
            "_model_module_version": "1.5.0",
            "_model_name": "SliderStyleModel",
            "_view_count": null,
            "_view_module": "@jupyter-widgets/base",
            "_view_module_version": "1.2.0",
            "_view_name": "StyleView",
            "description_width": "",
            "handle_color": null
          }
        },
        "682ed556746f42a0bd5545cc85d5634e": {
          "model_module": "@jupyter-widgets/base",
          "model_name": "LayoutModel",
          "model_module_version": "1.2.0",
          "state": {
            "_model_module": "@jupyter-widgets/base",
            "_model_module_version": "1.2.0",
            "_model_name": "LayoutModel",
            "_view_count": null,
            "_view_module": "@jupyter-widgets/base",
            "_view_module_version": "1.2.0",
            "_view_name": "LayoutView",
            "align_content": null,
            "align_items": null,
            "align_self": null,
            "border": null,
            "bottom": null,
            "display": null,
            "flex": null,
            "flex_flow": null,
            "grid_area": null,
            "grid_auto_columns": null,
            "grid_auto_flow": null,
            "grid_auto_rows": null,
            "grid_column": null,
            "grid_gap": null,
            "grid_row": null,
            "grid_template_areas": null,
            "grid_template_columns": null,
            "grid_template_rows": null,
            "height": null,
            "justify_content": null,
            "justify_items": null,
            "left": null,
            "margin": null,
            "max_height": null,
            "max_width": null,
            "min_height": null,
            "min_width": null,
            "object_fit": null,
            "object_position": null,
            "order": null,
            "overflow": null,
            "overflow_x": null,
            "overflow_y": null,
            "padding": null,
            "right": null,
            "top": null,
            "visibility": null,
            "width": null
          }
        },
        "a5bd155410c942af84c246f8081046ab": {
          "model_module": "@jupyter-widgets/controls",
          "model_name": "VBoxModel",
          "model_module_version": "1.5.0",
          "state": {
            "_dom_classes": [
              "widget-interact"
            ],
            "_model_module": "@jupyter-widgets/controls",
            "_model_module_version": "1.5.0",
            "_model_name": "VBoxModel",
            "_view_count": null,
            "_view_module": "@jupyter-widgets/controls",
            "_view_module_version": "1.5.0",
            "_view_name": "VBoxView",
            "box_style": "",
            "children": [
              "IPY_MODEL_6a10d46a8c19407aa5629202914c364b",
              "IPY_MODEL_9c146d3a7f414b458645a09a587d0eb0"
            ],
            "layout": "IPY_MODEL_f2b098087a7e4f32a01c1acca0feddf4"
          }
        },
        "6a10d46a8c19407aa5629202914c364b": {
          "model_module": "@jupyter-widgets/controls",
          "model_name": "IntSliderModel",
          "model_module_version": "1.5.0",
          "state": {
            "_dom_classes": [],
            "_model_module": "@jupyter-widgets/controls",
            "_model_module_version": "1.5.0",
            "_model_name": "IntSliderModel",
            "_view_count": null,
            "_view_module": "@jupyter-widgets/controls",
            "_view_module_version": "1.5.0",
            "_view_name": "IntSliderView",
            "continuous_update": false,
            "description": "Step:",
            "description_tooltip": null,
            "disabled": false,
            "layout": "IPY_MODEL_bc0add5e7f5041198f32cdc417685be5",
            "max": 2300,
            "min": 0,
            "orientation": "horizontal",
            "readout": true,
            "readout_format": "d",
            "step": 100,
            "style": "IPY_MODEL_0ae3e794d2dc4c789e4d5ed22bb05cb9",
            "value": 2300
          }
        },
        "9c146d3a7f414b458645a09a587d0eb0": {
          "model_module": "@jupyter-widgets/output",
          "model_name": "OutputModel",
          "model_module_version": "1.0.0",
          "state": {
            "_dom_classes": [],
            "_model_module": "@jupyter-widgets/output",
            "_model_module_version": "1.0.0",
            "_model_name": "OutputModel",
            "_view_count": null,
            "_view_module": "@jupyter-widgets/output",
            "_view_module_version": "1.0.0",
            "_view_name": "OutputView",
            "layout": "IPY_MODEL_c64614abb32a4066b4142bc1cd1e8a7f",
            "msg_id": "",
            "outputs": [
              {
                "output_type": "display_data",
                "data": {
                  "text/plain": "<Figure size 400x400 with 1 Axes>",
                  "image/png": "iVBORw0KGgoAAAANSUhEUgAAAYYAAACgCAYAAAAIAst6AAAAOnRFWHRTb2Z0d2FyZQBNYXRwbG90bGliIHZlcnNpb24zLjEwLjAsIGh0dHBzOi8vbWF0cGxvdGxpYi5vcmcvlHJYcgAAAAlwSFlzAAAPYQAAD2EBqD+naQAAJLpJREFUeJzt3Xl8jFf7P/BPQhZJlIRYagkiGsFjC1XE0tjXaGsraqn6Vu1daKsaShW1tYpaWmqtpdRjefQhgtAq2gctsceuJCH2Pef3h19Orzszd0zMTDL083698nLlnns5c89kjnPNWdyUUgpERET/n3t2F4CIiFwLKwYiIjJgxUBERAasGIiIyIAVAxERGbBiICIiA1YMRERkwIqBiIgMWDEQEZEBKwYiIjJgxUAZSkhIQN++fVGmTBn4+PjAx8cHYWFh6NOnD/bt25dt5dq2bRuaNm2KIkWKwNvbG8WLF0fLli2xaNEivc/NmzcxfPhwbN68OdvKGRMTgx49euj7V6pUKfTs2RPnz5+32Hf06NGoUaMGAgMD4e3tjZCQEAwcOBCJiYkW+6ampmLcuHEoWbIkvL298a9//QuLFy+2Wob4+Hg0adIEfn5+CAgIQJcuXayekyiNG+dKIjNr1qxB+/btkTNnTnTq1AkVK1aEu7s7Dh48iBUrVuDkyZNISEhAUFBQlpZr2bJlaN++PSpVqoQOHTrA398fCQkJ2Lp1Kzw8PBAbGwsASEpKQmBgIKKjozF8+PAsLWOa8PBwXLp0CW3btkVISAiOHz+Or776Cj4+PtizZw8KFSqk93355ZcRGBiI0NBQ5M6dG/Hx8Zg1axYKFCiAPXv2wNfXV+/7wQcfYMyYMXjjjTdQrVo1rFq1CmvXrsXixYvRoUMHvd+ZM2dQuXJl5MmTB/3798f169cxfvx4FC9eHDt37oSnp2eW3g96QigiK44ePap8fX1V2bJl1blz5ywev3fvnvriiy/UqVOnsrxsYWFhqly5curOnTsWj124cEHHiYmJCoCKjo7OwtIZbdmyRT148MBiGwA1dOjQRx6/fPlyBUAtXrxYbztz5ozy8PBQffr00dtSU1NVRESEKlq0qLp//77e3rt3b5UrVy518uRJvW3Dhg0KgJoxY4Y9T42eYqwYyKpevXopAGrHjh2ZOi4+Pl69/PLLyt/fX3l5eamqVauqVatWGfaZM2eOAqC2bdumBg0apPLnz698fHxUVFSUunjx4iOv4eXlpbp165bhPgkJCQqAxY+sJDJT1i1btqhevXqpgIAAlTt3btWlSxd16dIl229MOgEBAeqll1565H67d+9WANT06dP1tqlTpyoAav/+/YZ9Fy1apACouLg4va1AgQKqbdu2FuctU6aMioyMfOzy09ON3zGQVWvWrEHp0qXx/PPP23zM/v37UaNGDcTHx+P999/HhAkT4Ovri6ioKKxcudJi/379+mHv3r2Ijo5G7969sXr1avTt2/eR1wkKCkJMTAzOnDljuk9gYCCmT58OAGjTpg3mz5+P+fPn46WXXnqssvbt2xfx8fEYPnw4XnvtNSxcuBBRUVFQj5GJvX79Oq5fv478+fNbPKaUQlJSEv766y/ExcWhf//+yJEjB+rVq6f3+d///gdfX1+ULVvWcGz16tX14wBw9uxZXLx4EeHh4RbXqV69ut6PyEJ210zkeq5cuaIAqKioKIvHLl++rBITE/XPzZs39WORkZGqQoUK6vbt23pbamqqqlmzpgoJCdHb0v4X3qBBA5Wamqq3Dxo0SOXIkUOlpKRkWL5vvvlGAVCenp6qfv36atiwYSouLs4iZZNRKimzZa1ataq6e/eu3j5u3DgFwKKFYYuRI0cqAComJsbisfPnzxtaOEWLFlVLliwx7NO8eXNVqlQpi2Nv3LihAKj3339fKaXUrl27FAA1b948i33fe+89BcDw/InSsMVAFq5evQoA8PPzs3isXr16CAwM1D9Tp04FAFy6dAmbNm1Cu3btcO3aNSQlJSEpKQnJyclo3Lgxjhw5grNnzxrO1atXL7i5uenfIyIi8ODBA5w8eTLD8vXo0QPr169HvXr1sG3bNowcORIREREICQnBzz///Mjn97hl9fDw0L/37t0bOXPmxLp16x55PWnr1q0YMWIE2rVrhxdffNHi8YCAAGzYsAGrV6/GJ598gvz58+P69euGfW7dugUvLy+LY729vfXj8l9b9iWScmZ3Acj15M6dGwAsPpAAYMaMGbh27RouXLiAzp076+1Hjx6FUgrDhg3DsGHDrJ734sWLKFKkiP69ePHihsf9/f0BAJcvX35kGRs3bozGjRvj5s2b+O2337BkyRJ8/fXXaNGiBQ4ePIgCBQqYHvs4ZQ0JCTE87ufnh8KFC+PEiROPLGuagwcPok2bNihfvjxmz55tdR9PT080aNAAANCiRQtERkaiVq1aKFCgAFq0aAEAyJUrF+7cuWNx7O3bt/Xj8l9b9iWSWDGQhTx58qBw4cL4888/LR5L+84h/QdiamoqAODdd99F48aNrZ63dOnSht9z5MhhdT+Viby9j48PIiIiEBERgfz582PEiBH4z3/+g65du5oe8zhltdfp06fRqFEj5MmTB+vWrdOV76PUrFkThQsXxsKFC3XFULhwYcTGxkIpZWhxpY2NePbZZ/V+crt0/vx5BAQEWG1NELFiIKuaN2+O2bNnY+fOnfpLzYyUKlUKAODh4aH/x5vV0r5kTfsglB+a0uOU9ciRI6hfv77+/fr16zh//jyaNWv2yGOTk5PRqFEj3LlzBzExMfoD21a3b9/GlStX9O+VKlXC7NmzER8fj7CwML39119/1Y8DQJEiRRAYGIjdu3dbnHPnzp16P6L0+B0DWTV48GD4+PigR48euHDhgsXj6f9XX6BAAdSrVw8zZsyw+j9UR460jYmJsbo9Ld//3HPPAXjYmgCAlJQUu8s6c+ZM3Lt3T/8+ffp03L9/H02bNs2wrDdu3ECzZs1w9uxZrFu3ziIlJfe7efOmxfYffvgBly9fNvQsat26NTw8PDBt2jS9TSmFr7/+GkWKFEHNmjX19pdffhlr1qzB6dOn9baYmBgcPnwYbdu2zbDs9M/FFgNZFRISgkWLFqFjx4547rnn9MhnpRQSEhKwaNEiuLu7o2jRovqYqVOnonbt2qhQoQLeeOMNlCpVChcuXMAvv/yCM2fOYO/evQ4pW+vWrVGyZEm0bNkSwcHBuHHjBjZu3IjVq1ejWrVqaNmyJYCH+fOwsDAsWbIEZcqUQUBAAMqXL4/y5ctnuqx3795FZGQk2rVrh0OHDmHatGmoXbs2WrVqlWFZO3XqhJ07d6JHjx6Ij49HfHy8fszPzw9RUVEAHrZIGjRogPbt2yM0NBTu7u7YvXs3FixYgBIlSmDAgAH6uKJFi2LgwIH4/PPPce/ePVSrVg0//vgj4uLisHDhQkOK7sMPP8SyZctQv359DBgwANevX8fnn3+OChUqoHv37va+FPS0ysYeUfQEOHr0qOrdu7cqXbq08vb2Vrly5VKhoaHqzTffVHv27LHY/9ixY+q1115ThQoVUh4eHqpIkSKqRYsWavny5XqftC6gu3btMhwbGxurAKjY2NgMy7R48WLVoUMHFRwcrHLlyqW8vb1VWFiYGjp0qLp69aph359//llVrVpVeXp6WnRdzUxZ0wa4+fv7Kz8/P9WpUyeVnJz8yPsXFBRkdaAdABUUFKT3S0xMVL169VKhoaHK19dXeXp6qpCQEDVw4ECVmJhocd4HDx6o0aNHq6CgIOXp6anKlSunFixYYLUMf/75p2rUqJHy8fFRefPmVZ06dVJ//fXXI8tO/1ycK4koA3PnzkX37t2xa9cuqwPFiJ5G/I6BiIgMWDEQEZEBKwYiIjLgdwxERGTAFgMRERmwYiAiIgNWDGRq3LhxCA0N1XMLAQ+ngujZsycKFSoENzc3DBw4ECdOnICbmxvmzp2b5WV0c3PLtmU7AWD48OFwc3NDUlJStpUhszp06IB27dpldzHIhXHkM1l19epVjB07FuPHj4e7+9//fxg9ejTmzp2LYcOGITg42GKxGHJ9Q4YMQXh4OPbu3YuKFStmd3HIBbFiIKu+/fZb3L9/Hx07djRs37RpE2rUqIHo6Gi9TSmFW7duGdYrINdVuXJlhIeHY8KECZg3b152F4dcEFNJZNWcOXPQqlUrvaBLmosXLyJv3ryGbW5ubvD29jadRptcT7t27bBixQqra24QsWIgCwkJCdi3b59hSurNmzfDzc0NCQkJWLt2Ldzc3ODm5oYTJ05YfMdw8eJFBAYGol69eoZZWI8ePQpfX1+0b99eb7tz5w6io6NRunRpeHl5oVixYhg8eLDF4jJ37tzBoEGDEBgYiNy5c6NVq1YZrvkslShRQpc3/c/mzZszPHbKlCkoV64cfHx84O/vj/DwcCxatMhiv5SUFHTr1g158+ZFnjx50L17d4vZUu/fv4+RI0ciODgYXl5eKFGiBD788EPDc3377beRL18+w33r168f3Nzc8OWXX+ptFy5cgJubm17XOu31Wbp0KT799FMULVoU3t7eiIyMxNGjRy3K27BhQ9y4cQMbNmyw6R7SPwsrBrKQtjxmlSpV9LayZcti/vz5yJ8/PypVqoT58+dj/vz5CAwMtDi+QIECmD59OrZs2YIpU6YAeLg4Trdu3ZA7d249XXRqaipatWqF8ePHo2XLlpgyZQqioqIwadIkQ+UBAD179sTkyZPRqFEjjBkzBh4eHmjevLlNz2fy5Mm6vGk/VapUgbu7O/Lly2d63KxZs9C/f3+EhYVh8uTJGDFiBCpVqqTXPZDSlgn97LPP0K5dO8ydOxcjRoyweA4ff/wxqlSpgkmTJqFu3br47LPP0KFDB71PREQELl26hP379+ttcXFxcHd3R1xcnGEbANSpU8dwjTFjxmDlypV499138cEHH2DHjh3o1KmTRXnDwsKQK1cubN++/RF3j/6RsnECP3JRH330kQKgrl27ZvFYUFCQat68uWFbQkKCAqDmzJlj2N6xY0fl4+OjDh8+rD7//HMFQP3444/68fnz5yt3d3cVFxdnOO7rr79WANT27duVUkrt2bNHAVBvvfWWYb9XX33VYsZUWyxdulQBUJ988kmG+7Vu3VqVK1cuw32io6MVANWjRw/D9jZt2qh8+fLp39OeQ8+ePQ37vfvuuwqA2rRpk1JKqYsXLyoAatq0aUoppVJSUpS7u7tq27atKliwoD6uf//+KiAgQKWmpiql/p6ZtmzZsurOnTt6vy+++EIBUH/88YdF2cuUKaOaNm2a4fOjfya2GMhCcnIycubMCT8/P7vO89VXXyFPnjx45ZVXMGzYMHTp0gWtW7fWjy9btgxly5ZFaGgokpKS9M+LL74IAIiNjQXw9wI8/fv3N5x/4MCBmS7TgQMH0KNHD7Ru3RofffRRhvvmzZsXZ86cwa5dux553jfffNPwe0REBJKTk3H16lUAfz+Ht99+27DfO++8AwBYu3YtACAwMBChoaHYunUrAGD79u3IkSMH3nvvPVy4cAFHjhwB8LDFULt2bYtV6rp37w5PT09DOQDg+PHjFmX29/d/orrZUtZhxUBOExAQgC+//BL79u1Dnjx5DDly4OHiNPv370dgYKDhp0yZMgAeflcBACdPnoS7uzuCg4MNx6et1Garq1ev4qWXXkKRIkUwb94806U/0wwZMgR+fn6oXr06QkJC0KdPH9PUS/HixQ2/+/v7AwAuX75seA7p15IuVKgQ8ubNi5MnT+ptEREROlUUFxeH8PBwhIeHIyAgAHFxcbh69Sr27t2rP/QzUw5JpVszmigNu6uShXz58uH+/fu4du2azYvWm/npp58APPxgOnPmjKFHU2pqKipUqICJEydaPbZYsWJ2XTu9bt264dy5c9i5cyeeeeaZR+5ftmxZHDp0CGvWrMH69evxww8/YNq0afj4448tvj8w65Gl0k1FZssHce3atTFr1iwcP34ccXFxiIiIgJubG2rXro24uDg8++yzSE1NtVox2FoO4OFrYrbUKP2zscVAFkJDQwE87J1kj/Xr12P27NkYPHgwAgMD0bVrV9y/f18/HhwcjEuXLiEyMhINGjSw+ElrEQQFBSE1NRXHjh0znP/QoUM2l2XMmDH48ccfMW/ePP38bJHWi2rOnDk4deoUmjdvjk8//RS3b9+2+RzA388hLRWU5sKFC0hJSUFQUJDelvaBv2HDBuzatUv/XqdOHcTFxSEuLg6+vr6oWrVqpsog3b9/H6dPn+YARbKKFQNZeOGFFwAAu3fvfuxzpKSkoGfPnqhevTpGjx6N2bNn4/fff8fo0aP1Pu3atcPZs2cxa9Ysi+Nv3bqFGzduAACaNm0KABapqMmTJ9tUlo0bN+Kjjz7C0KFD9RrLtkhOTjb87unpibCwMCilcO/ePZvPAwDNmjUDYFnmtNaS7GFVsmRJFClSBJMmTcK9e/dQq1YtAA8rjGPHjmH58uWoUaMGcuZ8/Ab/gQMHcPv2bdSsWfOxz0FPL6aSyEKpUqVQvnx5bNy4ET169HiscwwYMADJycnYuHEjcuTIgSZNmqBnz54YNWoUWrdujYoVK6JLly5YunQp3nzzTcTGxqJWrVp48OABDh48iKVLl+Knn35CeHg4KlWqhI4dO2LatGm4cuUKatasiZiYGKv9863p2LEjAgMDERISggULFhgea9iwIQoWLGj1uEaNGqFQoUKoVasWChYsiPj4eHz11Vdo3rx5plNsFStWRNeuXTFz5kykpKSgbt262LlzJ7777jtERUWhfv36hv0jIiLw/fffo0KFCvp7gipVqsDX1xeHDx/Gq6++mqnrp7dhwwb4+PigYcOGdp2HnlLZ2ymKXNXEiROVn5+funnzpmG7Ld1VV61apQCoCRMmGPa7evWqCgoKUhUrVlR3795VSil19+5dNXbsWFWuXDnl5eWl/P39VdWqVdWIESPUlStX9LG3bt1S/fv3V/ny5VO+vr6qZcuW6vTp0zZ1VwVg+hMbG2t63IwZM1SdOnVUvnz5lJeXlwoODlbvvfeeoVxp3VUTExMNx86ZM0cBUAkJCXrbvXv31IgRI1TJkiWVh4eHKlasmPrggw/U7du3La49depUBUD17t3bsL1BgwYKgIqJiTFsT+uuumzZMsN2s67Ezz//vOrcubPpc6d/Ni7UQ1ZduXIFpUqVwrhx4/D6669nd3HIgfbs2YMqVarg999/R6VKlbK7OOSCWDGQqbFjx2LOnDk4cOCAYYZVerJ16NABqampWLp0aXYXhVwUKwYiIjLgfwOJiMiAFQMRERmwYiAiIgNWDEREZMCKgYiIDFgxEBGRASsGIiIyYMVAREQGrBiIiMiAFQMRERnYPe22qy0NKMvzJM32IecievDggdV9zO71k/qcbSHvS2pq6iP3N7tH8r7IfczOacu9Nju/PZx9/qxmy73O7Dxc9twLV7m/8jnLazuqHPaehy0GIiIyYMVAREQGDk0lZbb54owUSFY3CR31HJxx7NOQYrIlfSTZ8jyz8l5k9jUwS3nZe20pR44cOpZrcDvqWpm9v458zpm5VnbK7Ptayoq/a7YYiIjIgBUDEREZ2J1Kyq70SVaQTbYmTZrouHjx4jo+e/asjjdv3qzjGzdu6Di70huufn+dzRV6oGT134dME73zzjs6DgoK0nFsbKyOV6xYoWN70htmZbUnrUTZhy0GIiIyYMVAREQGdq/5LAdqmH1b/iQ1D+Xz6dKli45nzJih45s3b+pYNtfnzp2rY2ekEMwGxZixpYfHk/TaOIMtPbrMtrvCvZMpTgBYs2aNjmVaSZIpo/z58+v48uXLDi6dUWbvNT0+DnAjIiKHYsVAREQGdvdKMuNqTe6MyLLu2rVLx5UrV9axfA7z5s3T8Zw5c5xcOsfIykFE5FyBgYE6HjJkiOEx2RvOz89Px/I1lz2RUlJSnFDCp4e/v7+OR40aZXgsLi5Ox0uWLNGxKw+gtBVbDEREZMCKgYiIDNgrCUCZMmV0vH//fh3LXh3Xr1/Xcb58+XR87949h5Qhs9MT29LDw5Zmpj3zWzljzp2s5qgeYM4m7/vu3bt1XL58ecN+58+f1/HJkyd1LHvPyeOdzVHvazPOmL7a19dXx6tWrdJxRESEYT/53Dp37qzjpUuXPva1bWHL37g9gxUBthiIiCgdVgxERGTg0F5JT1L6SHr99detbpfP4e7duzp2RtrEUVMyy/SO2Upw9rw2np6eOh4wYICOx40b99jndHWuMOdSlSpVdFyhQgUdp1/9bPHixToeOXKkjuWgzKzk7HnCHNUrR56nbt26OpbpI/neT69fv346XrlypY4dlWrOamwxEBGRASsGIiIyYMVAREQGDu2uasYVv2+Q89P/8ccfOpZd1eT3CsOGDdPx+PHjnVo2eyYbc0b3PalEiRI6/u2333QsJ2Nz5PWczZbuqs7o9msLed1///vfOpYT5128eNFwjOx6LUdBZyWz96lZF8rsGokvr1u0aFEd79ixQ8eFCxe2un96d+7c0fHEiRN1LD83zL7zcxRbugbbii0GIiIyYMVAREQGTuuu6oqKFSum4z///FPHPj4+OpbNMdk8/Pbbb51cOsewtwlpTc6cf79Nhg4dquNcuXI5/FoZkd0FK1asqGOZ/jtw4ICO06dZHldm00eO6kKZJ08eHderV8/q+ZOSkgzHZFe3VMnVPwfS5M6dW8fR0dE6LlCggI4zSh/J5yn/Rt566y0dv/DCCzpu2LChjmVayVH3i5PoERGR07BiICIiA6etx+AKvLy8DL+vW7dOx97e3jo2a4ItWLBAx9euXXNw6VybbEIXKlRIxy+++KKOZTrOkc1Ys+a7TPnJWI7wlT1xmjVrpuPMpthkryRbetM4I60UGhqqY/lelqNpR4wYYTjmSUnjSFm5dou8VrVq1XQcFRWlY7MlUeVEmgBw69YtHcvPExnXqlVLx9u3b9fxa6+9puPjx4/r2FVGSrPFQEREBqwYiIjIwO4Bbq62TGRISIiOY2JiDI/JdRTMmovydshznTlzxlFFfCR7Brg5yjPPPKNjuYShvCfBwcE6lusAOJLZc5bbZe+d27dv61g29c2Y3Wv5/pCpJFvmwrdnXRKZwpIDKfv376/jK1eu6Fj2oAGcP4jKHq7wvpZpntWrV+s4MjJSx/L1lu8nuXwnAEyePFnHffr00bGclFP2VpLnTU5O1vGHH36oY9n70Z4ehvam5NhiICIiA1YMRERkkOW9kpzRA0H2UNmzZ4+O0/dKkukOOVjKz89Px7/++quOz54965DyPYl69uyp4+eee07HGzdu1PGlS5ecXg75HjHrKXT58mWnXtdsu1n6SA64k4Mk5dxbZuR5ateubXV7QkKCjp0xoPFpI++d7MEm110w+1yaP3++jmW6CDDe+5kzZ+q4W7duOpapJHkNDw8PHcvPLFt6w2UFthiIiMiAFQMRERlkeSrJUemjvHnz6njv3r06limiQ4cOGY6RTUHZpJS9Who0aODwsj4p5L2TA6dkOqR79+5Wt9tKzk8jl02U88jIfX7//Xcdz507V8fOnhPIltdepgbM5o3KbC8h2WvGbMpnZ8yz4yyu0GvR399fx//3f/+nY5nmkWTKb+zYsTrOKLUjezzKpX9lOlu+VnIgm5zTyxnLBj8OthiIiMiAFQMRERnYnUrKynlOZNNv8ODBOi5YsKCOT58+reMhQ4YYjpertiUmJuq4c+fOOnblXh62NMvteQ3q1KmjY5nSaNOmjY7lfcuI7F1Rvnx5HW/evFnHsokvyy1TJa+++qqOd+3aZTV2BrN7bdZLSqYG5KCozL6fZA85OUeVJOfWSV9OV08tZRV5XyZMmKBjmaY0s3LlSh3Lga3pB8UGBgbquHXr1jo2m4dNpok2bNigY/mZ5SrYYiAiIgNWDEREZODy027Lb/W/+OILHcveMXJK7EGDBuk4ICDAcK6PP/5Yx7KHy6lTpxxS1uziqPSBWQ8MucC8bD7LgVxysXrAOKdS+oGG1q4hm9lmPXlkc93ZqSTJ7P7K8svYntdDpjXNeiLt27dPx7InGWA+N488V/Xq1XX8888/61imw1xxVbHMkM9Xrn5nRt4rmapr0qSJjocPH244RvZEkn8XMsUoy/HLL7/oWH5+uWL6jy0GIiIyYMVAREQGdk+7LZtNjmoSyW//N23apGM5d4wchDJjxgwdy+miZbMcMDbHmzZtquMtW7bo2BWadbZMT+yM3mAtW7bUsUy1yWa2TB/J3hcZkVMMy14eY8aM0bHspSEH18k5m3744Qcdd+nSRcf2PH+zY53xvjYj3+8y3VC5cmUdJyUl6VhOF92oUSPDuWQ6aMqUKTqWc/7Ivx05UNBRz9PsfWqWInTGIDg5f9rs2bN13KpVKx3L96VMqck5wIoXL65juSIgYFu55dTv8vU8fPjwI4+1B6fdJiIih2LFQEREBg7tlWRPekM2p0eNGqVjs6mHd+zYoeOffvpJx3L+nfSrismVr+TqY7JZd+7cuUyVO7s4I72xfv16HcuFz+WgIHldOZBr69athnPJQUXyMZnqkCkqOQ1xhQoVrF7vv//9r9XtTzo5qE32ADPrVSTTaOl7Jcn377Rp03Ts7Dl4XGFOJEmmcGQ6UqazZLrQ7DWQXnjhBcPvcoCmPJe8xsSJE3V85MgRm8ruCthiICIiA1YMRERkYHcqyZ4mvWx+yjlxBg4cqGOzFY1WrFih423btunYrHcLYExXvPLKKzqWPUFKlixp9Xr/BDLN069fPx3LVNuxY8d0bDbAC8j8tNVly5bV8fPPP2/1vOvWrXvkOZ9EcjCg7OklB6vJAVQZpW1kCi8rp3CWKS35d+bs6dHNyPefLWWQqSeZcu7du7eO00+tbpY6lwPkPvvsM6v7uDq2GIiIyIAVAxERGWTrXEmyJ1LNmjV1LFcGk/PsyG/7ZS+C9NPhpkmf3ihatKiOhw4davUashn8OCuUPS1k2saRK4bJ1KCcy0oOUpRN9N27d+tYDkiyh7OnL8+s999/X8cyfSTvlSTLduLECcNj3333nY7lKoc7d+7U8bPPPqtjObizbdu2Os5sCkjeU5mWcbXeSraQ91f2AEs/oFPuJ9PZzZs313F2pdLsxRYDEREZsGIgIiKDbJ0rSTYzZTNt0qRJOu7atauOZcpINtHOnj2rYzmobf/+/Ybr1a9fX8elSpXSsUw5FStWTMeyd0JWsmWuJLPtjkqBmPUGexyyfHLw0KeffqpjOaW2HFxXq1YtHR84cMAhZZD3KLvmSpJpHrkYvHyPm5VBDiycPn264bwyNSR7ltWtW9fqeWVPtJMnT+q4YsWKOrYlpWp2f+V2s/eRq6Wb5IqQR48e1bGcJwwwfu7I3ktr167VcXb1ROJcSURE5FCsGIiIyMDuVJIzmoGyx9HChQt1HBkZqWM52MTW6ahlU/bGjRs6litiyamnU1JSMlt0h7AlvWF23x01KE/21JKDl2QKL6Nryecg51qS8x2FhobqWKbtoqKidLxnzx7bC/0YsiuVJKcQl2k02QNMpnYWLVqk41WrVuk4/WsgByPK9Ky8v2bpKtkjT/59OGoQ65OSSurbt6+O5aqR6cvfokULHbvaPF5MJRERkUOxYiAiIgOXTCWZnV/OKSPn0+nWrZuO5SpJsncLAERHR+t46dKlOnbGKlb2MCuDbOpLjhyAlkam7WbOnKljOZBnyZIlOpa9NwDjClrjx4/XsZwW/dSpUzqWAxzlamXOfj0y2wPMHjL9+ccff+hYrqjWp08fHcup5eWgMVdn1qMtK+91Zskyy9XcqlevruP073E5Dbc9gy+d0auQqSQiInIoVgxERGTg8qmkfyJbespIspeJo6Zarlatmo43bdpk9VoyhZX+fSDn/JESExN1LOeUkT3DslJWpjfkPZFpJZnydIVUprO4cirpmWee0bEccCj/5jp37mw4Zvny5Tq2pzcgU0lEROTyWDEQEZEBKwYiIjKwez0GW0aIPg15U7PR1Vm5/KfZfZS5fkeRI47lMqpyzn7ZJTX99x+yTHIE+ejRo3Vsz6R4kjNytM44p3yvXLt2zSHnJMeQXYZlt3D5PpATFAKO+9t3xnvWXmwxEBGRASsGIiIyyNb1GMg6W7r1mcVm5zGbI9+W10zu7+/vr2M5x3/58uUNx3z//fc6Pn78uI6dkfYyG2lrS9PaLB3A97XjuXJ31cKFC+v43LlzOpZlfuONNwzHfPPNN84v2GNid1UiInIoVgxERGTAkc8uKLMjn23Zxyyt9CSlSWxZPtKMWbqJqSTHy+xaIba8fs7oJSbJ19ts9oBffvnF8HudOnV07IwUqT2YSiIiIodixUBERAZ2D3CjrGNLzyKz5rqcwM1RE+1ltcw2j+1JPTF99Gi29IZ7UlLN8u/GbOlTucQt4HrpIw5wIyIip2HFQEREBi4zwE02g+Q5ZbPOrIkq5zl5GpjdR3kvMjtPiy3N/qzmjDJltjltdh/N3nf2MBuUaJaSsCUVlr4XWmZ7nNmTnrPlnLbMK/akpJueJOyVREREDsWKgYiIDOxOJRER0dOFLQYiIjJgxUBERAasGIiIyIAVAxERGbBiICIiA1YMRERkwIqBiIgMWDEQEZEBKwYiIjJgxUBERAasGIiIyIAVAxERGbBiICIiA1YMRERkwIqBiIgM/h/5l+Bkaatg7QAAAABJRU5ErkJggg==\n"
                },
                "metadata": {}
              }
            ]
          }
        },
        "f2b098087a7e4f32a01c1acca0feddf4": {
          "model_module": "@jupyter-widgets/base",
          "model_name": "LayoutModel",
          "model_module_version": "1.2.0",
          "state": {
            "_model_module": "@jupyter-widgets/base",
            "_model_module_version": "1.2.0",
            "_model_name": "LayoutModel",
            "_view_count": null,
            "_view_module": "@jupyter-widgets/base",
            "_view_module_version": "1.2.0",
            "_view_name": "LayoutView",
            "align_content": null,
            "align_items": null,
            "align_self": null,
            "border": null,
            "bottom": null,
            "display": null,
            "flex": null,
            "flex_flow": null,
            "grid_area": null,
            "grid_auto_columns": null,
            "grid_auto_flow": null,
            "grid_auto_rows": null,
            "grid_column": null,
            "grid_gap": null,
            "grid_row": null,
            "grid_template_areas": null,
            "grid_template_columns": null,
            "grid_template_rows": null,
            "height": null,
            "justify_content": null,
            "justify_items": null,
            "left": null,
            "margin": null,
            "max_height": null,
            "max_width": null,
            "min_height": null,
            "min_width": null,
            "object_fit": null,
            "object_position": null,
            "order": null,
            "overflow": null,
            "overflow_x": null,
            "overflow_y": null,
            "padding": null,
            "right": null,
            "top": null,
            "visibility": null,
            "width": null
          }
        },
        "bc0add5e7f5041198f32cdc417685be5": {
          "model_module": "@jupyter-widgets/base",
          "model_name": "LayoutModel",
          "model_module_version": "1.2.0",
          "state": {
            "_model_module": "@jupyter-widgets/base",
            "_model_module_version": "1.2.0",
            "_model_name": "LayoutModel",
            "_view_count": null,
            "_view_module": "@jupyter-widgets/base",
            "_view_module_version": "1.2.0",
            "_view_name": "LayoutView",
            "align_content": null,
            "align_items": null,
            "align_self": null,
            "border": null,
            "bottom": null,
            "display": null,
            "flex": null,
            "flex_flow": null,
            "grid_area": null,
            "grid_auto_columns": null,
            "grid_auto_flow": null,
            "grid_auto_rows": null,
            "grid_column": null,
            "grid_gap": null,
            "grid_row": null,
            "grid_template_areas": null,
            "grid_template_columns": null,
            "grid_template_rows": null,
            "height": null,
            "justify_content": null,
            "justify_items": null,
            "left": null,
            "margin": null,
            "max_height": null,
            "max_width": null,
            "min_height": null,
            "min_width": null,
            "object_fit": null,
            "object_position": null,
            "order": null,
            "overflow": null,
            "overflow_x": null,
            "overflow_y": null,
            "padding": null,
            "right": null,
            "top": null,
            "visibility": null,
            "width": null
          }
        },
        "0ae3e794d2dc4c789e4d5ed22bb05cb9": {
          "model_module": "@jupyter-widgets/controls",
          "model_name": "SliderStyleModel",
          "model_module_version": "1.5.0",
          "state": {
            "_model_module": "@jupyter-widgets/controls",
            "_model_module_version": "1.5.0",
            "_model_name": "SliderStyleModel",
            "_view_count": null,
            "_view_module": "@jupyter-widgets/base",
            "_view_module_version": "1.2.0",
            "_view_name": "StyleView",
            "description_width": "",
            "handle_color": null
          }
        },
        "c64614abb32a4066b4142bc1cd1e8a7f": {
          "model_module": "@jupyter-widgets/base",
          "model_name": "LayoutModel",
          "model_module_version": "1.2.0",
          "state": {
            "_model_module": "@jupyter-widgets/base",
            "_model_module_version": "1.2.0",
            "_model_name": "LayoutModel",
            "_view_count": null,
            "_view_module": "@jupyter-widgets/base",
            "_view_module_version": "1.2.0",
            "_view_name": "LayoutView",
            "align_content": null,
            "align_items": null,
            "align_self": null,
            "border": null,
            "bottom": null,
            "display": null,
            "flex": null,
            "flex_flow": null,
            "grid_area": null,
            "grid_auto_columns": null,
            "grid_auto_flow": null,
            "grid_auto_rows": null,
            "grid_column": null,
            "grid_gap": null,
            "grid_row": null,
            "grid_template_areas": null,
            "grid_template_columns": null,
            "grid_template_rows": null,
            "height": null,
            "justify_content": null,
            "justify_items": null,
            "left": null,
            "margin": null,
            "max_height": null,
            "max_width": null,
            "min_height": null,
            "min_width": null,
            "object_fit": null,
            "object_position": null,
            "order": null,
            "overflow": null,
            "overflow_x": null,
            "overflow_y": null,
            "padding": null,
            "right": null,
            "top": null,
            "visibility": null,
            "width": null
          }
        }
      }
    }
  },
  "nbformat": 4,
  "nbformat_minor": 0
}