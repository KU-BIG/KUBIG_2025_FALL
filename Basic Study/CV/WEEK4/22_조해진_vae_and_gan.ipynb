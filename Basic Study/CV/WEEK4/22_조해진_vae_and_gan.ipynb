{
  "cells": [
    {
      "cell_type": "markdown",
      "source": [
        "# Training VAE and GAN model\n",
        "\n",
        "colab에서 돌릴 경우, 런타임 유형을 GPU로 변경해주세요.\n",
        "\n",
        "MNIST dataset을 활용해 VAE, GAN 모델을 간단하게 구현해보는 것이 이번 과제입니다."
      ],
      "metadata": {
        "id": "llgBx3J-oMRO"
      }
    },
    {
      "cell_type": "markdown",
      "source": [
        "# Imports and set seed"
      ],
      "metadata": {
        "id": "a3I5tElZFDcD"
      }
    },
    {
      "cell_type": "code",
      "source": [
        "!pip install ipywidgets -q\n",
        "# !jupyter nbextension enable --py widgetsnbextension -q"
      ],
      "metadata": {
        "id": "mS6c1dwaF45C",
        "colab": {
          "base_uri": "https://localhost:8080/"
        },
        "outputId": "0a8c0fe1-be7d-4bf6-843b-08b97e1a2cde"
      },
      "execution_count": 1,
      "outputs": [
        {
          "output_type": "stream",
          "name": "stdout",
          "text": [
            "\u001b[?25l   \u001b[90m━━━━━━━━━━━━━━━━━━━━━━━━━━━━━━━━━━━━━━━━\u001b[0m \u001b[32m0.0/1.6 MB\u001b[0m \u001b[31m?\u001b[0m eta \u001b[36m-:--:--\u001b[0m\r\u001b[2K   \u001b[91m━━━\u001b[0m\u001b[91m╸\u001b[0m\u001b[90m━━━━━━━━━━━━━━━━━━━━━━━━━━━━━━━━━━━━\u001b[0m \u001b[32m0.2/1.6 MB\u001b[0m \u001b[31m4.9 MB/s\u001b[0m eta \u001b[36m0:00:01\u001b[0m\r\u001b[2K   \u001b[91m━━━━━━━━━━━━━━━━━━━━━\u001b[0m\u001b[91m╸\u001b[0m\u001b[90m━━━━━━━━━━━━━━━━━━\u001b[0m \u001b[32m0.9/1.6 MB\u001b[0m \u001b[31m12.0 MB/s\u001b[0m eta \u001b[36m0:00:01\u001b[0m\r\u001b[2K   \u001b[91m━━━━━━━━━━━━━━━━━━━━━━━━━━━━━━━━━━━━━━━\u001b[0m\u001b[91m╸\u001b[0m \u001b[32m1.6/1.6 MB\u001b[0m \u001b[31m14.2 MB/s\u001b[0m eta \u001b[36m0:00:01\u001b[0m\r\u001b[2K   \u001b[90m━━━━━━━━━━━━━━━━━━━━━━━━━━━━━━━━━━━━━━━━\u001b[0m \u001b[32m1.6/1.6 MB\u001b[0m \u001b[31m8.2 MB/s\u001b[0m eta \u001b[36m0:00:00\u001b[0m\n",
            "\u001b[?25h"
          ]
        }
      ]
    },
    {
      "cell_type": "code",
      "execution_count": 2,
      "metadata": {
        "id": "rL8dm3uXXEnE"
      },
      "outputs": [],
      "source": [
        "import os\n",
        "from tqdm import tqdm\n",
        "import random\n",
        "import numpy as np\n",
        "import matplotlib.pyplot as plt\n",
        "import torch\n",
        "import torch.nn as nn\n",
        "import torch.nn.functional as F\n",
        "from torch.utils.data import DataLoader\n",
        "from torch.optim import Adam\n",
        "from torchvision import datasets, transforms\n",
        "import torchvision.utils as vutils\n",
        "from IPython.display import display\n",
        "import ipywidgets as widgets\n",
        "from PIL import Image"
      ]
    },
    {
      "cell_type": "code",
      "source": [
        "def set_seed(seed=42):\n",
        "    random.seed(seed)\n",
        "    np.random.seed(seed)\n",
        "    torch.manual_seed(seed)\n",
        "    torch.cuda.manual_seed(seed)\n",
        "    torch.cuda.manual_seed_all(seed)  # if using multi-GPU\n",
        "    torch.backends.cudnn.deterministic = True\n",
        "    torch.backends.cudnn.benchmark = False\n",
        "    torch.use_deterministic_algorithms(False)\n",
        "\n",
        "set_seed(1)"
      ],
      "metadata": {
        "id": "IjKgK9HxJdMz"
      },
      "execution_count": 3,
      "outputs": []
    },
    {
      "cell_type": "markdown",
      "source": [
        "# VAE Implementation"
      ],
      "metadata": {
        "id": "I9OOQofAIkZd"
      }
    },
    {
      "cell_type": "markdown",
      "source": [
        "### 1. Model design  - Problem 1\n",
        "\n",
        "---\n",
        "\n",
        "$Enc$, $Dec$ 모델을 자유롭게 구성해보세요.\n",
        "\n",
        "CNN 기반 아키텍쳐나 ViT 기반 아키텍쳐를 자유롭게 구성해도 좋습니다.\n",
        "\n",
        "이때 각 아키텍쳐 선택 요소에 맞게 epoch이나 여러 학습 파라미터를 Main training loop에서 수정해주셔야 합니다.\n",
        "\n",
        "입출력 $\\text{dim}$에 맞게 세팅하는 것에 유의해주세요.\n",
        "\n",
        "---\n"
      ],
      "metadata": {
        "id": "4EYzG4FUItly"
      }
    },
    {
      "cell_type": "markdown",
      "source": [
        "CNN base"
      ],
      "metadata": {
        "id": "i3-T9CWhoDh_"
      }
    },
    {
      "cell_type": "code",
      "source": [
        "class ConvEncoder(nn.Module):\n",
        "    def __init__(self, latent_dim = 32):\n",
        "        super(ConvEncoder, self).__init__()\n",
        "\n",
        "        self.convs = nn.Sequential(\n",
        "            nn.Conv2d(in_channels = 1, out_channels = 64, kernel_size = 7, stride = 1, padding = 1, bias = False), # (1, 28, 28) -> (64, 24, 24)\n",
        "            nn.BatchNorm2d(num_features = 64),\n",
        "            nn.LeakyReLU(),\n",
        "\n",
        "            nn.Conv2d(64, 128, 7, 1, 1), # -> (128, 20, 20)\n",
        "            nn.BatchNorm2d(128),\n",
        "            nn.LeakyReLU(),\n",
        "\n",
        "            nn.Conv2d(128, 128, 4, 2, 1), # -> (128, 10, 10)\n",
        "            nn.BatchNorm2d(128),\n",
        "            nn.LeakyReLU(),\n",
        "\n",
        "        )\n",
        "\n",
        "        self.flattened_size = 128 * 10 * 10\n",
        "        self.fc_mu = nn.Linear(self.flattened_size, latent_dim)\n",
        "        self.fc_logvar = nn.Linear(self.flattened_size, latent_dim)\n",
        "\n",
        "    def forward(self, x):\n",
        "      h = self.convs(x)\n",
        "      h = h.view(h.size(0), -1)\n",
        "      return self.fc_mu(h), self.fc_logvar(h)\n",
        "\n",
        "\n",
        "class ConvDecoder(nn.Module):\n",
        "    def __init__(self, latent_dim = 32):\n",
        "        super(ConvDecoder, self).__init__()\n",
        "        self.unflatten_shape = (128, 10, 10)\n",
        "        self.fc = nn.Linear(latent_dim, 128 * 10 * 10)\n",
        "\n",
        "        self.deconvs = nn.Sequential(\n",
        "            nn.ConvTranspose2d(128, 128, 4, 2, 1),\n",
        "            nn.LeakyReLU(0.2),\n",
        "\n",
        "            nn.ConvTranspose2d(128, 64, 7, 1, 1),\n",
        "            nn.LeakyReLU(0.2),\n",
        "\n",
        "            nn.ConvTranspose2d(64, 1, 7, 1, 1),\n",
        "        )\n",
        "\n",
        "    def forward(self, z):\n",
        "      h = self.fc(z)\n",
        "      h = h.view(-1, *self.unflatten_shape)\n",
        "      return self.deconvs(h)"
      ],
      "metadata": {
        "id": "IcStCywcE6mI"
      },
      "execution_count": 10,
      "outputs": []
    },
    {
      "cell_type": "markdown",
      "source": [
        "reparameterization 과정에 대해 확인해보세요."
      ],
      "metadata": {
        "id": "EZv_xBb63_r6"
      }
    },
    {
      "cell_type": "code",
      "source": [
        "class VAE(nn.Module):\n",
        "    def __init__(self, latent_dim=64):\n",
        "        super().__init__()\n",
        "        self.encoder = ConvEncoder(latent_dim)\n",
        "        self.decoder = ConvDecoder(latent_dim)\n",
        "\n",
        "    def reparameterize(self, mu, logvar):\n",
        "        std = torch.exp(0.5 * logvar)\n",
        "        eps = torch.randn_like(std)\n",
        "        return mu + eps * std\n",
        "\n",
        "    def forward(self, x):\n",
        "        mu, logvar = self.encoder(x)\n",
        "        z = self.reparameterize(mu, logvar)\n",
        "        return self.decoder(z), mu, logvar\n"
      ],
      "metadata": {
        "id": "meqUKh45E_qD"
      },
      "execution_count": 11,
      "outputs": []
    },
    {
      "cell_type": "markdown",
      "source": [
        "### 2. Loss\n",
        "\n",
        "---\n",
        "\n",
        "$(\\text{Binary Cross Entropy + KL Divergence})$의 구조입니다.\n",
        "\n",
        "KLD term이 아래와 같은 방식으로 구해지는 이유에 대해 생각해보세요."
      ],
      "metadata": {
        "id": "QF-p96SWI03Q"
      }
    },
    {
      "cell_type": "code",
      "source": [
        "def vae_loss(x, recon_logits, mu, logvar, reduction='mean'):\n",
        "    BCE = F.binary_cross_entropy_with_logits(recon_logits, x, reduction='sum')\n",
        "    KLD = -0.5 * torch.sum(1 + logvar - mu.pow(2) - logvar.exp())\n",
        "    if reduction == 'mean':\n",
        "        div = x.size(0)\n",
        "        BCE = BCE / div\n",
        "        KLD = KLD / div\n",
        "    return BCE + KLD, BCE, KLD"
      ],
      "metadata": {
        "id": "LDO3khroGVNe"
      },
      "execution_count": 12,
      "outputs": []
    },
    {
      "cell_type": "markdown",
      "source": [
        "### 3. Visualization function\n",
        "\n",
        "---\n",
        "\n",
        "실행만 하고 넘어가시면 됩니다."
      ],
      "metadata": {
        "id": "Erkky9fzI_yh"
      }
    },
    {
      "cell_type": "code",
      "source": [
        "def save_step_images(model, step, imgs, z):\n",
        "    was_training = model.training\n",
        "    model.eval()\n",
        "    with torch.no_grad():\n",
        "        recon_logits, _, _ = model(imgs)\n",
        "        recon = torch.sigmoid(recon_logits)\n",
        "\n",
        "        recon_grid = torch.cat([imgs, recon], dim=0)\n",
        "        recon_grid = vutils.make_grid(recon_grid, nrow=4, normalize=True, pad_value=1)\n",
        "        vutils.save_image(recon_grid, f\"vae_recon_imgs/recon_{step:05d}.png\")\n",
        "\n",
        "        gen = torch.sigmoid(model.decoder(z))\n",
        "        gen_grid = vutils.make_grid(gen, nrow=4, normalize=True, pad_value=1)\n",
        "        vutils.save_image(gen_grid, f\"vae_gen_imgs/gen_{step:05d}.png\")\n",
        "\n",
        "    if was_training:\n",
        "        model.train(was_training)"
      ],
      "metadata": {
        "id": "yxhotu2hEoYd"
      },
      "execution_count": 8,
      "outputs": []
    },
    {
      "cell_type": "markdown",
      "source": [
        "## 4. Main train loop\n",
        "\n",
        "---\n",
        "\n",
        "batch size, epoch, learning rate와\n",
        "\n",
        "VAE latent dimension을 자유롭게 조절하면서 학습시켜보세요."
      ],
      "metadata": {
        "id": "t51JcflbJD7l"
      }
    },
    {
      "cell_type": "code",
      "source": [
        "#------------------------ Settings ------------------------#\n",
        "latent_dim = 32\n",
        "\n",
        "batch_size = 512\n",
        "num_epochs = 20\n",
        "learning_rate = 1e-4\n",
        "\n",
        "#------------------------ Data & Dataloader ------------------------#\n",
        "transform = transforms.Compose([transforms.ToTensor(),])\n",
        "train_loader = DataLoader(\n",
        "    datasets.MNIST('.', train=True, download=True, transform=transform),\n",
        "    batch_size=batch_size,\n",
        "    shuffle=True\n",
        "    )\n",
        "\n",
        "#------------------------ Models & Optimizers ------------------------#\n",
        "device = 'cuda' if torch.cuda.is_available() else 'cpu'\n",
        "\n",
        "model = VAE(latent_dim=latent_dim).to(device)\n",
        "optimizer = Adam(model.parameters(), lr=learning_rate)\n",
        "scaler = torch.amp.GradScaler('cuda')"
      ],
      "metadata": {
        "id": "w0HDWaHP_rKX"
      },
      "execution_count": 14,
      "outputs": []
    },
    {
      "cell_type": "code",
      "source": [
        "# for visualization\n",
        "os.makedirs(\"vae_recon_imgs\", exist_ok=True)\n",
        "os.makedirs(\"vae_gen_imgs\", exist_ok=True)\n",
        "fixed_imgs, _ = next(iter(train_loader))\n",
        "fixed_imgs = fixed_imgs[:4].to(device)\n",
        "fixed_z = torch.randn(4, latent_dim).to(device)\n",
        "\n",
        "global_step = 0\n",
        "bce_losses, kld_losses = [], []\n",
        "for epoch in (range(num_epochs)):\n",
        "    model.train()\n",
        "    pbar = tqdm(train_loader, desc=f\"Epoch {epoch}\")\n",
        "    for x, _ in pbar:\n",
        "        x = x.to(device)\n",
        "        optimizer.zero_grad()\n",
        "\n",
        "        with torch.amp.autocast('cuda'):\n",
        "            recon, mu, logvar = model(x)\n",
        "            loss, bce, kld = vae_loss(x, recon, mu, logvar)\n",
        "\n",
        "        scaler.scale(loss).backward()\n",
        "        scaler.step(optimizer)\n",
        "        scaler.update()\n",
        "\n",
        "\n",
        "        bce_losses.append(bce.item())\n",
        "        kld_losses.append(kld.item())\n",
        "\n",
        "        pbar.set_postfix({\"loss\": f\"{loss.item():.4f}\"})\n",
        "\n",
        "        if global_step % 100 == 0:\n",
        "            with torch.no_grad():\n",
        "                save_step_images(model, step=global_step, imgs=fixed_imgs, z=fixed_z)\n",
        "\n",
        "        global_step += 1\n",
        "\n"
      ],
      "metadata": {
        "colab": {
          "base_uri": "https://localhost:8080/"
        },
        "id": "foJuKIX2GXt8",
        "outputId": "6e1a8a35-5800-4b2f-a16b-49cace14b70d"
      },
      "execution_count": 15,
      "outputs": [
        {
          "output_type": "stream",
          "name": "stderr",
          "text": [
            "Epoch 0: 100%|██████████| 118/118 [00:17<00:00,  6.91it/s, loss=148.0984]\n",
            "Epoch 1: 100%|██████████| 118/118 [00:16<00:00,  7.23it/s, loss=132.0650]\n",
            "Epoch 2: 100%|██████████| 118/118 [00:17<00:00,  6.58it/s, loss=122.8357]\n",
            "Epoch 3: 100%|██████████| 118/118 [00:18<00:00,  6.27it/s, loss=120.6057]\n",
            "Epoch 4: 100%|██████████| 118/118 [00:16<00:00,  7.00it/s, loss=116.5205]\n",
            "Epoch 5: 100%|██████████| 118/118 [00:17<00:00,  6.70it/s, loss=114.4046]\n",
            "Epoch 6: 100%|██████████| 118/118 [00:17<00:00,  6.60it/s, loss=116.2086]\n",
            "Epoch 7: 100%|██████████| 118/118 [00:17<00:00,  6.62it/s, loss=114.2626]\n",
            "Epoch 8: 100%|██████████| 118/118 [00:17<00:00,  6.89it/s, loss=111.7893]\n",
            "Epoch 9: 100%|██████████| 118/118 [00:22<00:00,  5.36it/s, loss=111.1545]\n",
            "Epoch 10: 100%|██████████| 118/118 [00:17<00:00,  6.85it/s, loss=109.4429]\n",
            "Epoch 11: 100%|██████████| 118/118 [00:17<00:00,  6.74it/s, loss=109.1074]\n",
            "Epoch 12: 100%|██████████| 118/118 [00:16<00:00,  7.09it/s, loss=107.3176]\n",
            "Epoch 13: 100%|██████████| 118/118 [00:18<00:00,  6.54it/s, loss=106.2034]\n",
            "Epoch 14: 100%|██████████| 118/118 [00:17<00:00,  6.66it/s, loss=108.3840]\n",
            "Epoch 15: 100%|██████████| 118/118 [00:18<00:00,  6.21it/s, loss=105.4426]\n",
            "Epoch 16: 100%|██████████| 118/118 [00:18<00:00,  6.56it/s, loss=106.8569]\n",
            "Epoch 17: 100%|██████████| 118/118 [00:17<00:00,  6.61it/s, loss=101.0319]\n",
            "Epoch 18: 100%|██████████| 118/118 [00:16<00:00,  7.01it/s, loss=108.3910]\n",
            "Epoch 19: 100%|██████████| 118/118 [00:17<00:00,  6.89it/s, loss=105.8811]\n"
          ]
        }
      ]
    },
    {
      "cell_type": "markdown",
      "source": [
        "## 5. Results visualization\n",
        "\n",
        "---\n",
        "\n",
        "아래 코드는 실행만 하면 됩니다. 바를 조절해 iteration별 학습 과정을 확인할 수 있습니다."
      ],
      "metadata": {
        "id": "svsaNz6OJqwn"
      }
    },
    {
      "cell_type": "code",
      "source": [
        "def load_step_images(step, recon_dir='vae_recon_imgs', gen_dir='vae_gen_imgs'):\n",
        "    recon_path = os.path.join(recon_dir, f'recon_{step:05d}.png')\n",
        "    gen_path = os.path.join(gen_dir, f'gen_{step:05d}.png')\n",
        "    return Image.open(recon_path), Image.open(gen_path)\n",
        "\n",
        "def show_images(step):\n",
        "    recon_img, gen_img = load_step_images(step)\n",
        "    fig, axs = plt.subplots(1, 2, figsize=(8, 4))\n",
        "    axs[0].imshow(recon_img)\n",
        "    axs[0].set_title(f\"Recon Step {step}\")\n",
        "    axs[0].axis('off')\n",
        "\n",
        "    axs[1].imshow(gen_img)\n",
        "    axs[1].set_title(f\"Gen Step {step}\")\n",
        "    axs[1].axis('off')\n",
        "    plt.tight_layout()\n",
        "    plt.show()\n",
        "\n",
        "saved_steps = sorted([\n",
        "    int(f.split('_')[-1].split('.')[0])\n",
        "    for f in os.listdir('vae_recon_imgs') if f.endswith('.png')\n",
        "])\n",
        "\n",
        "step_slider = widgets.IntSlider(\n",
        "    value=saved_steps[0],\n",
        "    min=min(saved_steps),\n",
        "    max=max(saved_steps),\n",
        "    step=100,\n",
        "    description='Step:',\n",
        "    continuous_update=False\n",
        ")\n",
        "\n",
        "# widgets.interact(show_images, step=step_slider);"
      ],
      "metadata": {
        "id": "n4KkqTHOJqHf"
      },
      "execution_count": 16,
      "outputs": []
    },
    {
      "cell_type": "code",
      "source": [
        "widgets.interact(show_images, step=step_slider);\n",
        "print('\\n')\n",
        "fig, axs = plt.subplots(1, 2, figsize=(12, 4), sharex=True)\n",
        "\n",
        "# BCE Loss subplot\n",
        "axs[0].plot(bce_losses, label='BCE Loss')\n",
        "axs[0].set_title('BCE Loss over Total Iteration')\n",
        "axs[0].set_xlabel('Iteration')\n",
        "axs[0].set_ylabel('BCE Loss')\n",
        "axs[0].legend()\n",
        "\n",
        "# KLD Loss subplot\n",
        "axs[1].plot(kld_losses, label='KLD Loss', color='orange')\n",
        "axs[1].set_title('KLD Loss over Total Iteration')\n",
        "axs[1].set_xlabel('Iteration')\n",
        "axs[1].set_ylabel('KLD Loss')\n",
        "axs[1].legend()\n",
        "\n",
        "plt.tight_layout()\n",
        "plt.show()\n"
      ],
      "metadata": {
        "colab": {
          "base_uri": "https://localhost:8080/",
          "height": 709,
          "referenced_widgets": [
            "cae4a7681e7242bc9f97717f46c7562f",
            "8f1dd946a06b42168102dfef693dae75",
            "c151b0c8d8484daca4af71921ca56a35",
            "456805b299a0484a9f98a82bef39d027",
            "22ff83eb13fa4d0ab1c03423f42a6dfc",
            "4de7e5dc853c49b7872f7d167838f8d6",
            "24d8e1eb31d64531a227f9622255dcb9"
          ]
        },
        "id": "2Stm3zPaIVzL",
        "outputId": "dfabe4a5-80ae-4b63-bfbc-e44d625c9ca3"
      },
      "execution_count": 17,
      "outputs": [
        {
          "output_type": "display_data",
          "data": {
            "text/plain": [
              "interactive(children=(IntSlider(value=0, continuous_update=False, description='Step:', max=2300, step=100), Ou…"
            ],
            "application/vnd.jupyter.widget-view+json": {
              "version_major": 2,
              "version_minor": 0,
              "model_id": "cae4a7681e7242bc9f97717f46c7562f"
            }
          },
          "metadata": {}
        },
        {
          "output_type": "stream",
          "name": "stdout",
          "text": [
            "\n",
            "\n"
          ]
        },
        {
          "output_type": "display_data",
          "data": {
            "text/plain": [
              "<Figure size 1200x400 with 2 Axes>"
            ],
            "image/png": "[encoded data removed]"
          },
          "metadata": {}
        }
      ]
    },
    {
      "cell_type": "markdown",
      "source": [
        "---\n",
        "___\n",
        "\n",
        "# GAN Implementation"
      ],
      "metadata": {
        "id": "Tm9Op-vOJKC8"
      }
    },
    {
      "cell_type": "markdown",
      "source": [
        "## 1. Model Design - Problem 2\n",
        "\n",
        "---\n",
        "\n",
        "$Generator$, $Discriminator$ 모델을 자유롭게 구성해보세요. 입출력 $\\text{dim}$에 맞게 세팅하는 것에 유의해주세요."
      ],
      "metadata": {
        "id": "uED-DGkwlIql"
      }
    },
    {
      "cell_type": "code",
      "execution_count": 28,
      "metadata": {
        "id": "yjJCyPMiiQCp"
      },
      "outputs": [],
      "source": [
        "# Generator\n",
        "\n",
        "class Generator(nn.Module):\n",
        "    def __init__(self, z_dim=100):\n",
        "        super().__init__()\n",
        "        self.net = nn.Sequential(\n",
        "            nn.ConvTranspose2d(in_channels = z_dim, out_channels = 128, kernel_size = 7, stride = 1, padding = 0, bias = False), # -> (128, 7, 7)\n",
        "            nn.BatchNorm2d(128),\n",
        "            nn.ReLU(True),\n",
        "\n",
        "            nn.ConvTranspose2d(128, 64, 4, 2, 1, bias = False), # -> (64, 14, 14)\n",
        "            nn.BatchNorm2d(64),\n",
        "            nn.ReLU(True),\n",
        "\n",
        "            nn.ConvTranspose2d(64, 1, 4, 2, 1, bias = False), # -> (1, 28, 28),\n",
        "            nn.Tanh()\n",
        "        )\n",
        "\n",
        "    def forward(self, z):\n",
        "        return self.net(z)\n",
        "\n",
        "# Discriminator\n",
        "class Discriminator(nn.Module):\n",
        "    def __init__(self):\n",
        "        super().__init__()\n",
        "        self.net = nn.Sequential(\n",
        "            nn.Conv2d(in_channels = 1, out_channels = 32, kernel_size = 7, stride = 1, padding = 0, bias = False), # (1, 28, 28) -> (32, 22, 22)\n",
        "            nn.BatchNorm2d(32),\n",
        "            nn.LeakyReLU(0.2, inplace = True),\n",
        "\n",
        "            nn.Conv2d(32, 64, 5, 2, 1, bias = False), # -> (64, 10, 10)\n",
        "            nn.BatchNorm2d(64),\n",
        "            nn.LeakyReLU(0.2, inplace=True),\n",
        "\n",
        "            nn.Conv2d(64,128, 5, 2, 1, bias = False), # (128, 4, 4)\n",
        "            nn.BatchNorm2d(128),\n",
        "\n",
        "            nn.Conv2d(128, 1, 4, 2, 0, bias = False), # -> (1, 1, 1),\n",
        "            nn.Sigmoid(),\n",
        "        )\n",
        "\n",
        "    def forward(self, x):\n",
        "        return self.net(x).view(-1, 1)"
      ]
    },
    {
      "cell_type": "markdown",
      "source": [
        "## 2. Visualization fuction\n",
        "\n",
        "---"
      ],
      "metadata": {
        "id": "mD8qeD60q2qk"
      }
    },
    {
      "cell_type": "code",
      "source": [
        "def save_step_images_for_gan(model, step, z):\n",
        "    was_training = model.training\n",
        "    model.eval()\n",
        "    with torch.no_grad():\n",
        "        fake = model(z).detach()\n",
        "        # fake = (fake + 1) / 2  # [-1, 1] → [0, 1]\n",
        "        gen_grid = vutils.make_grid(fake, nrow=4, normalize=True, pad_value=1)\n",
        "        vutils.save_image(gen_grid, f\"gan_gen_imgs/gen_{step:05d}.png\")\n",
        "    if was_training:\n",
        "        model.train(was_training)"
      ],
      "metadata": {
        "id": "D8ioLX7Mq2yH"
      },
      "execution_count": 12,
      "outputs": []
    },
    {
      "cell_type": "markdown",
      "source": [
        "## 3. Main training loop\n",
        "\n",
        "---"
      ],
      "metadata": {
        "id": "R1hGgrSUsobG"
      }
    },
    {
      "cell_type": "code",
      "source": [
        "#------------------------ Settings ------------------------#\n",
        "z_dim = 100\n",
        "\n",
        "batch_size = 512\n",
        "num_epochs = 15\n",
        "learning_rate = 2e-4\n",
        "\n",
        "#------------------------ Data & Dataloader ------------------------#\n",
        "transform = transforms.Compose([\n",
        "    transforms.ToTensor(),\n",
        "    transforms.Normalize([0.5],[0.5])  # [-1,1] range scaling\n",
        "])\n",
        "train_loader = DataLoader(\n",
        "    datasets.MNIST('.', train=True, download=True, transform=transform),\n",
        "    batch_size=batch_size,\n",
        "    shuffle=True\n",
        ")\n",
        "\n",
        "#------------------------ Models & Optimizers ------------------------#\n",
        "device = 'cuda' if torch.cuda.is_available() else 'cpu'\n",
        "\n",
        "G = Generator(z_dim).to(device)\n",
        "D = Discriminator().to(device)\n",
        "opt_G = torch.optim.Adam(G.parameters(), lr=learning_rate, betas=(0.5, 0.999))\n",
        "opt_D = torch.optim.Adam(D.parameters(), lr=learning_rate, betas=(0.5, 0.999))\n",
        "loss_fn = nn.BCELoss()"
      ],
      "metadata": {
        "id": "VztZ4YR44ycD"
      },
      "execution_count": 30,
      "outputs": []
    },
    {
      "cell_type": "code",
      "source": [
        "os.makedirs(\"gan_gen_imgs\", exist_ok=True)\n",
        "fixed_z = torch.randn(4, z_dim, 1, 1, device=device)\n",
        "\n",
        "global_step = 0\n",
        "D_losses, G_losses = [], []\n",
        "for epoch in range(20):\n",
        "    pbar = tqdm(train_loader, desc=f\"Epoch {epoch}\")\n",
        "    for x, _ in pbar:\n",
        "        x = x.to(device)\n",
        "        batch_size = x.size(0)\n",
        "\n",
        "        # Train Discriminator\n",
        "        z = torch.randn(batch_size, z_dim, 1, 1, device=device)\n",
        "        fake = G(z).detach()\n",
        "\n",
        "        opt_D.zero_grad()\n",
        "        loss_real = loss_fn(D(x), torch.ones(batch_size, 1, device=device))\n",
        "        loss_fake = loss_fn(D(fake), torch.zeros(batch_size, 1, device=device))\n",
        "        loss_D = (loss_real + loss_fake)\n",
        "        D_losses.append(loss_D.item())\n",
        "        loss_D.backward()\n",
        "        opt_D.step()\n",
        "\n",
        "        # Train Generator\n",
        "        z = torch.randn(batch_size, z_dim, 1, 1, device=device)\n",
        "        fake = G(z)\n",
        "        opt_G.zero_grad()\n",
        "        loss_G = loss_fn(D(fake), torch.ones(batch_size, 1, device=device))\n",
        "        G_losses.append(loss_G.item())\n",
        "        loss_G.backward()\n",
        "        opt_G.step()\n",
        "\n",
        "        pbar.set_postfix({\"D_loss\": f\"{loss_D.item():.4f}\", \"G_loss\": f\"{loss_G.item():.4f}\"})\n",
        "\n",
        "        if global_step % 100 == 0:\n",
        "            with torch.no_grad():\n",
        "                save_step_images_for_gan(G, step=global_step, z=fixed_z)\n",
        "\n",
        "        global_step += 1"
      ],
      "metadata": {
        "colab": {
          "base_uri": "https://localhost:8080/"
        },
        "id": "2rEQ8E-glRhY",
        "outputId": "26dd5503-62f7-44c5-9883-0eca9d97e5eb"
      },
      "execution_count": 31,
      "outputs": [
        {
          "output_type": "stream",
          "name": "stderr",
          "text": [
            "Epoch 0: 100%|██████████| 118/118 [00:25<00:00,  4.71it/s, D_loss=0.8620, G_loss=0.8189]\n",
            "Epoch 1: 100%|██████████| 118/118 [00:24<00:00,  4.84it/s, D_loss=0.3973, G_loss=1.5377]\n",
            "Epoch 2: 100%|██████████| 118/118 [00:25<00:00,  4.70it/s, D_loss=0.3265, G_loss=2.3769]\n",
            "Epoch 3: 100%|██████████| 118/118 [00:24<00:00,  4.83it/s, D_loss=0.6153, G_loss=1.5852]\n",
            "Epoch 4: 100%|██████████| 118/118 [00:24<00:00,  4.90it/s, D_loss=0.6026, G_loss=1.7053]\n",
            "Epoch 5: 100%|██████████| 118/118 [00:24<00:00,  4.87it/s, D_loss=0.4064, G_loss=1.9756]\n",
            "Epoch 6: 100%|██████████| 118/118 [00:24<00:00,  4.90it/s, D_loss=0.4089, G_loss=2.5065]\n",
            "Epoch 7: 100%|██████████| 118/118 [00:23<00:00,  4.93it/s, D_loss=1.3418, G_loss=3.8409]\n",
            "Epoch 8: 100%|██████████| 118/118 [00:23<00:00,  4.97it/s, D_loss=0.4002, G_loss=3.7531]\n",
            "Epoch 9: 100%|██████████| 118/118 [00:24<00:00,  4.86it/s, D_loss=0.9404, G_loss=5.4485]\n",
            "Epoch 10: 100%|██████████| 118/118 [00:23<00:00,  4.96it/s, D_loss=0.2661, G_loss=2.3794]\n",
            "Epoch 11: 100%|██████████| 118/118 [00:23<00:00,  4.95it/s, D_loss=0.3749, G_loss=2.1278]\n",
            "Epoch 12: 100%|██████████| 118/118 [00:23<00:00,  4.95it/s, D_loss=0.6357, G_loss=1.1459]\n",
            "Epoch 13: 100%|██████████| 118/118 [00:23<00:00,  4.92it/s, D_loss=0.4156, G_loss=2.4178]\n",
            "Epoch 14: 100%|██████████| 118/118 [00:24<00:00,  4.92it/s, D_loss=0.3660, G_loss=2.9879]\n",
            "Epoch 15: 100%|██████████| 118/118 [00:23<00:00,  4.94it/s, D_loss=0.4716, G_loss=1.5358]\n",
            "Epoch 16: 100%|██████████| 118/118 [00:23<00:00,  4.95it/s, D_loss=0.4431, G_loss=2.1205]\n",
            "Epoch 17: 100%|██████████| 118/118 [00:23<00:00,  4.98it/s, D_loss=0.5377, G_loss=1.3419]\n",
            "Epoch 18: 100%|██████████| 118/118 [00:23<00:00,  4.97it/s, D_loss=0.3324, G_loss=2.0995]\n",
            "Epoch 19: 100%|██████████| 118/118 [00:24<00:00,  4.79it/s, D_loss=3.0394, G_loss=0.1169]\n"
          ]
        }
      ]
    },
    {
      "cell_type": "code",
      "source": [],
      "metadata": {
        "id": "H-urBIfXtitU"
      },
      "execution_count": null,
      "outputs": []
    },
    {
      "cell_type": "markdown",
      "source": [
        "## 4. Visualization\n",
        "\n",
        "---"
      ],
      "metadata": {
        "id": "BmvfOGKMsjKR"
      }
    },
    {
      "cell_type": "code",
      "execution_count": 11,
      "metadata": {
        "id": "fvlhH6nSzyc_"
      },
      "outputs": [],
      "source": [
        "def load_step_images(step, gen_dir='gan_gen_imgs'):\n",
        "    gen_path = os.path.join(gen_dir, f'gen_{step:05d}.png')\n",
        "    gen_img = Image.open(gen_path)\n",
        "    return gen_img\n",
        "\n",
        "def show_images(step):\n",
        "    gen_img = load_step_images(step)\n",
        "    fig, ax = plt.subplots(figsize=(4, 4))\n",
        "    ax.imshow(gen_img)\n",
        "    ax.set_title(f\"Gen Step {step}\\n(fixed z shown)\")\n",
        "    ax.axis('off')\n",
        "    plt.tight_layout()\n",
        "    plt.show()\n",
        "\n",
        "if os.path.exists('gan_gen_imgs'):\n",
        "    saved_steps = sorted([\n",
        "        int(f.split('_')[-1].split('.')[0])\n",
        "        for f in os.listdir('gan_gen_imgs') if f.endswith('.png')\n",
        "    ])\n",
        "\n",
        "    if saved_steps:\n",
        "        step_slider = widgets.IntSlider(\n",
        "            value=saved_steps[0],\n",
        "            min=min(saved_steps),\n",
        "            max=max(saved_steps),\n",
        "            step=100,\n",
        "            description='Step:',\n",
        "            continuous_update=False\n",
        "        )\n",
        "\n",
        "        # widgets.interact(show_images, step=step_slider)"
      ]
    },
    {
      "cell_type": "code",
      "source": [
        "widgets.interact(show_images, step=step_slider);\n",
        "print('\\n')\n",
        "fig, axs = plt.subplots(1, 2, figsize=(14, 4), sharex=True)\n",
        "\n",
        "axs[0].plot(D_losses, label='Discriminator Loss', color='blue')\n",
        "axs[0].set_title('Discriminator Loss (BCE) over Iteration')\n",
        "axs[0].set_xlabel('Iteration')\n",
        "axs[0].set_ylabel('Loss')\n",
        "axs[0].legend()\n",
        "axs[0].grid(True)\n",
        "\n",
        "axs[1].plot(G_losses, label='Generator Loss (BCE)', color='orange')\n",
        "axs[1].set_title('Generator Loss (BCE) over Iteration')\n",
        "axs[1].set_xlabel('Iteration')\n",
        "axs[1].set_ylabel('Loss')\n",
        "axs[1].legend()\n",
        "axs[1].grid(True)\n",
        "\n",
        "plt.tight_layout()\n",
        "plt.show()"
      ],
      "metadata": {
        "colab": {
          "base_uri": "https://localhost:8080/",
          "height": 635,
          "referenced_widgets": [
            "fb65478314df44ec9261c42e2b6f32ae",
            "6dacbceb5f764e11a07adafaa410660a",
            "296a648b5239432e9ada441b08b347a0",
            "9b02705309f043f7baf1b4c7104d7b36",
            "5620914ac63c4634b83e9aabc14ee6dd",
            "7291e93b16a84bf4945abdaadae62f01",
            "3ab14bb962fc46378d113e0885d985d2"
          ]
        },
        "id": "i1StRLM9si1m",
        "outputId": "f23bf1f0-0b40-48af-88f0-15538334a79a"
      },
      "execution_count": 33,
      "outputs": [
        {
          "output_type": "display_data",
          "data": {
            "text/plain": [
              "interactive(children=(IntSlider(value=0, continuous_update=False, description='Step:', max=2300, step=100), Ou…"
            ],
            "application/vnd.jupyter.widget-view+json": {
              "version_major": 2,
              "version_minor": 0,
              "model_id": "fb65478314df44ec9261c42e2b6f32ae"
            }
          },
          "metadata": {}
        },
        {
          "output_type": "stream",
          "name": "stdout",
          "text": [
            "\n",
            "\n"
          ]
        },
        {
          "output_type": "display_data",
          "data": {
            "text/plain": [
              "<Figure size 1400x400 with 2 Axes>"
            ],
            "image/png": "[encoded data removed]"
          },
          "metadata": {}
        }
      ]
    },
    {
      "cell_type": "markdown",
      "source": [
        "## 1. Model Design - Problem 2 with ViT"
      ],
      "metadata": {
        "id": "KKliKEccvzaV"
      }
    },
    {
      "cell_type": "code",
      "source": [
        "class PatchEmbed(nn.Module):\n",
        "    def __init__(self, img_size=28, patch_size=4, in_chans=1, embed_dim=128):\n",
        "        super().__init__()\n",
        "        self.patch_size = patch_size\n",
        "        self.proj = nn.Conv2d(in_chans, embed_dim,\n",
        "                              kernel_size=patch_size,\n",
        "                              stride=patch_size)\n",
        "\n",
        "    def forward(self, x):\n",
        "        # x: (B, C, H, W)\n",
        "        x = self.proj(x)  # -> (B, embed_dim, H/patch, W/patch)\n",
        "        x = x.flatten(2).transpose(1, 2)  # (B, N_patches, embed_dim)\n",
        "        return x\n",
        "\n",
        "class TransformerBlock(nn.Module):\n",
        "    def __init__(self, embed_dim=128, num_heads=4, mlp_ratio=4.0, dropout=0.1):\n",
        "        super().__init__()\n",
        "        self.norm1 = nn.LayerNorm(embed_dim)\n",
        "        self.attn = nn.MultiheadAttention(embed_dim, num_heads, dropout=dropout, batch_first=True)\n",
        "        self.norm2 = nn.LayerNorm(embed_dim)\n",
        "        self.mlp = nn.Sequential(\n",
        "            nn.Linear(embed_dim, int(embed_dim * mlp_ratio)),\n",
        "            nn.GELU(),\n",
        "            nn.Linear(int(embed_dim * mlp_ratio), embed_dim)\n",
        "        )\n",
        "\n",
        "    def forward(self, x):\n",
        "        x = x + self.attn(self.norm1(x), self.norm1(x), self.norm1(x))[0]\n",
        "        x = x + self.mlp(self.norm2(x))\n",
        "        return x\n",
        "\n",
        "# Generator\n",
        "class ViTGenerator(nn.Module):\n",
        "    def __init__(self, z_dim=100, img_size=28, patch_size=4, embed_dim=128, depth=4, num_heads=4):\n",
        "        super().__init__()\n",
        "        self.num_patches = (img_size // patch_size) ** 2\n",
        "        self.linear = nn.Linear(z_dim, self.num_patches * embed_dim)\n",
        "        self.pos_embed = nn.Parameter(torch.randn(1, self.num_patches, embed_dim))\n",
        "        self.blocks = nn.Sequential(*[TransformerBlock(embed_dim, num_heads) for _ in range(depth)])\n",
        "        self.norm = nn.LayerNorm(embed_dim)\n",
        "        self.to_img = nn.Linear(embed_dim, patch_size * patch_size)\n",
        "\n",
        "        self.img_size = img_size\n",
        "        self.patch_size = patch_size\n",
        "\n",
        "    def forward(self, z):\n",
        "        x = self.linear(z).view(z.size(0), self.num_patches, -1)  # (B, N, embed_dim)\n",
        "        x = x + self.pos_embed\n",
        "        x = self.blocks(x)\n",
        "        x = self.norm(x)\n",
        "        x = self.to_img(x)  # (B, N, patch^2)\n",
        "        x = x.view(-1, 1, self.img_size, self.img_size)\n",
        "        return torch.tanh(x)\n",
        "\n",
        "# Discriminator\n",
        "class ViTDiscriminator(nn.Module):\n",
        "    def __init__(self, img_size=28, patch_size=4, embed_dim=128, depth=4, num_heads=4):\n",
        "        super().__init__()\n",
        "        self.patch_embed = PatchEmbed(img_size, patch_size, 1, embed_dim)\n",
        "        self.pos_embed = nn.Parameter(torch.randn(1, (img_size // patch_size) ** 2, embed_dim))\n",
        "        self.blocks = nn.Sequential(*[TransformerBlock(embed_dim, num_heads) for _ in range(depth)])\n",
        "        self.norm = nn.LayerNorm(embed_dim)\n",
        "        self.fc = nn.Linear(embed_dim, 1)\n",
        "\n",
        "    def forward(self, img):\n",
        "        x = self.patch_embed(img)\n",
        "        x = x + self.pos_embed\n",
        "        x = self.blocks(x)\n",
        "        x = self.norm(x)\n",
        "        x = x.mean(dim=1)  # global average pooling over patches\n",
        "        return torch.sigmoid(self.fc(x))\n"
      ],
      "metadata": {
        "id": "O1r_jc1mszHy"
      },
      "execution_count": 4,
      "outputs": []
    },
    {
      "cell_type": "markdown",
      "source": [
        "## 3. Main training loop"
      ],
      "metadata": {
        "id": "FcT3Cynrv6pu"
      }
    },
    {
      "cell_type": "markdown",
      "source": [
        "ViT trainig loop"
      ],
      "metadata": {
        "id": "7b-G1uBntggB"
      }
    },
    {
      "cell_type": "code",
      "source": [
        "#------------------------ Settings ------------------------#\n",
        "z_dim = 100\n",
        "\n",
        "batch_size = 128\n",
        "num_epochs = 30\n",
        "learning_rate = 1e-5\n",
        "\n",
        "#------------------------ Data & Dataloader ------------------------#\n",
        "transform = transforms.Compose([\n",
        "    transforms.ToTensor(),\n",
        "    transforms.Normalize([0.5],[0.5])  # [-1,1] range scaling\n",
        "])\n",
        "train_loader = DataLoader(\n",
        "    datasets.MNIST('.', train=True, download=True, transform=transform),\n",
        "    batch_size=batch_size,\n",
        "    shuffle=True\n",
        ")\n",
        "\n",
        "#------------------------ Models & Optimizers ------------------------#\n",
        "device = 'cuda' if torch.cuda.is_available() else 'cpu'\n",
        "\n",
        "G = ViTGenerator(z_dim).to(device)\n",
        "D = ViTDiscriminator().to(device)\n",
        "opt_G = torch.optim.Adam(G.parameters(), lr=learning_rate, betas=(0.5, 0.999))\n",
        "opt_D = torch.optim.Adam(D.parameters(), lr=learning_rate, betas=(0.5, 0.999))\n",
        "loss_fn = nn.BCELoss()"
      ],
      "metadata": {
        "id": "JnXKQNgmtjBA"
      },
      "execution_count": 14,
      "outputs": []
    },
    {
      "cell_type": "code",
      "source": [
        "os.makedirs(\"gan_gen_imgs\", exist_ok=True)\n",
        "fixed_z = torch.randn(4, z_dim, device=device)\n",
        "\n",
        "global_step = 0\n",
        "D_losses, G_losses = [], []\n",
        "\n",
        "\n",
        "for epoch in range(num_epochs):\n",
        "    pbar = tqdm(train_loader, desc=f\"Epoch {epoch+1}/{num_epochs}\")\n",
        "    for x, _ in pbar:\n",
        "        x = x.to(device)\n",
        "        batch_size = x.size(0)\n",
        "\n",
        "        # -------- Train Discriminator -------- #\n",
        "        z = torch.randn(batch_size, z_dim, device=device)\n",
        "        fake = G(z).detach()\n",
        "\n",
        "        opt_D.zero_grad()\n",
        "        loss_real = loss_fn(D(x), torch.ones(batch_size, 1, device=device))\n",
        "        loss_fake = loss_fn(D(fake), torch.zeros(batch_size, 1, device=device))\n",
        "        loss_D = (loss_real + loss_fake)\n",
        "        D_losses.append(loss_D.item())\n",
        "        loss_D.backward()\n",
        "        opt_D.step()\n",
        "\n",
        "        # -------- Train Generator -------- #\n",
        "        z = torch.randn(batch_size, z_dim, device=device)\n",
        "        fake = G(z)\n",
        "        opt_G.zero_grad()\n",
        "        loss_G = loss_fn(D(fake), torch.ones(batch_size, 1, device=device))\n",
        "        G_losses.append(loss_G.item())\n",
        "        loss_G.backward()\n",
        "        opt_G.step()\n",
        "\n",
        "        # -------- Logging -------- #\n",
        "        pbar.set_postfix({\"D_loss\": f\"{loss_D.item():.4f}\", \"G_loss\": f\"{loss_G.item():.4f}\"})\n",
        "\n",
        "        if global_step % 100 == 0:\n",
        "            with torch.no_grad():\n",
        "                save_step_images_for_gan(G, step=global_step, z = fixed_z)\n",
        "\n",
        "        global_step += 1\n",
        "\n",
        "\n",
        "## My colab cannot run GPU at the moment,\n",
        "## will again run it at some point 😅 when GPU can again get assigned"
      ],
      "metadata": {
        "colab": {
          "base_uri": "https://localhost:8080/",
          "height": 388
        },
        "outputId": "de32fcef-d06c-459a-8307-ba7e0c63b651",
        "id": "hn2wEr1WtjBD"
      },
      "execution_count": 15,
      "outputs": [
        {
          "output_type": "stream",
          "name": "stderr",
          "text": [
            "Epoch 1/30:  40%|███▉      | 186/469 [13:16<20:12,  4.28s/it, D_loss=0.2006, G_loss=3.8735]\n"
          ]
        },
        {
          "output_type": "error",
          "ename": "KeyboardInterrupt",
          "evalue": "",
          "traceback": [
            "\u001b[0;31m---------------------------------------------------------------------------\u001b[0m",
            "\u001b[0;31mKeyboardInterrupt\u001b[0m                         Traceback (most recent call last)",
            "\u001b[0;32m/tmp/ipython-input-3766769210.py\u001b[0m in \u001b[0;36m<cell line: 0>\u001b[0;34m()\u001b[0m\n\u001b[1;32m     21\u001b[0m         \u001b[0mloss_D\u001b[0m \u001b[0;34m=\u001b[0m \u001b[0;34m(\u001b[0m\u001b[0mloss_real\u001b[0m \u001b[0;34m+\u001b[0m \u001b[0mloss_fake\u001b[0m\u001b[0;34m)\u001b[0m\u001b[0;34m\u001b[0m\u001b[0;34m\u001b[0m\u001b[0m\n\u001b[1;32m     22\u001b[0m         \u001b[0mD_losses\u001b[0m\u001b[0;34m.\u001b[0m\u001b[0mappend\u001b[0m\u001b[0;34m(\u001b[0m\u001b[0mloss_D\u001b[0m\u001b[0;34m.\u001b[0m\u001b[0mitem\u001b[0m\u001b[0;34m(\u001b[0m\u001b[0;34m)\u001b[0m\u001b[0;34m)\u001b[0m\u001b[0;34m\u001b[0m\u001b[0;34m\u001b[0m\u001b[0m\n\u001b[0;32m---> 23\u001b[0;31m         \u001b[0mloss_D\u001b[0m\u001b[0;34m.\u001b[0m\u001b[0mbackward\u001b[0m\u001b[0;34m(\u001b[0m\u001b[0;34m)\u001b[0m\u001b[0;34m\u001b[0m\u001b[0;34m\u001b[0m\u001b[0m\n\u001b[0m\u001b[1;32m     24\u001b[0m         \u001b[0mopt_D\u001b[0m\u001b[0;34m.\u001b[0m\u001b[0mstep\u001b[0m\u001b[0;34m(\u001b[0m\u001b[0;34m)\u001b[0m\u001b[0;34m\u001b[0m\u001b[0;34m\u001b[0m\u001b[0m\n\u001b[1;32m     25\u001b[0m \u001b[0;34m\u001b[0m\u001b[0m\n",
            "\u001b[0;32m/usr/local/lib/python3.11/dist-packages/torch/_tensor.py\u001b[0m in \u001b[0;36mbackward\u001b[0;34m(self, gradient, retain_graph, create_graph, inputs)\u001b[0m\n\u001b[1;32m    624\u001b[0m                 \u001b[0minputs\u001b[0m\u001b[0;34m=\u001b[0m\u001b[0minputs\u001b[0m\u001b[0;34m,\u001b[0m\u001b[0;34m\u001b[0m\u001b[0;34m\u001b[0m\u001b[0m\n\u001b[1;32m    625\u001b[0m             )\n\u001b[0;32m--> 626\u001b[0;31m         torch.autograd.backward(\n\u001b[0m\u001b[1;32m    627\u001b[0m             \u001b[0mself\u001b[0m\u001b[0;34m,\u001b[0m \u001b[0mgradient\u001b[0m\u001b[0;34m,\u001b[0m \u001b[0mretain_graph\u001b[0m\u001b[0;34m,\u001b[0m \u001b[0mcreate_graph\u001b[0m\u001b[0;34m,\u001b[0m \u001b[0minputs\u001b[0m\u001b[0;34m=\u001b[0m\u001b[0minputs\u001b[0m\u001b[0;34m\u001b[0m\u001b[0;34m\u001b[0m\u001b[0m\n\u001b[1;32m    628\u001b[0m         )\n",
            "\u001b[0;32m/usr/local/lib/python3.11/dist-packages/torch/autograd/__init__.py\u001b[0m in \u001b[0;36mbackward\u001b[0;34m(tensors, grad_tensors, retain_graph, create_graph, grad_variables, inputs)\u001b[0m\n\u001b[1;32m    345\u001b[0m     \u001b[0;31m# some Python versions print out the first line of a multi-line function\u001b[0m\u001b[0;34m\u001b[0m\u001b[0;34m\u001b[0m\u001b[0m\n\u001b[1;32m    346\u001b[0m     \u001b[0;31m# calls in the traceback and some print out the last line\u001b[0m\u001b[0;34m\u001b[0m\u001b[0;34m\u001b[0m\u001b[0m\n\u001b[0;32m--> 347\u001b[0;31m     _engine_run_backward(\n\u001b[0m\u001b[1;32m    348\u001b[0m         \u001b[0mtensors\u001b[0m\u001b[0;34m,\u001b[0m\u001b[0;34m\u001b[0m\u001b[0;34m\u001b[0m\u001b[0m\n\u001b[1;32m    349\u001b[0m         \u001b[0mgrad_tensors_\u001b[0m\u001b[0;34m,\u001b[0m\u001b[0;34m\u001b[0m\u001b[0;34m\u001b[0m\u001b[0m\n",
            "\u001b[0;32m/usr/local/lib/python3.11/dist-packages/torch/autograd/graph.py\u001b[0m in \u001b[0;36m_engine_run_backward\u001b[0;34m(t_outputs, *args, **kwargs)\u001b[0m\n\u001b[1;32m    821\u001b[0m         \u001b[0munregister_hooks\u001b[0m \u001b[0;34m=\u001b[0m \u001b[0m_register_logging_hooks_on_whole_graph\u001b[0m\u001b[0;34m(\u001b[0m\u001b[0mt_outputs\u001b[0m\u001b[0;34m)\u001b[0m\u001b[0;34m\u001b[0m\u001b[0;34m\u001b[0m\u001b[0m\n\u001b[1;32m    822\u001b[0m     \u001b[0;32mtry\u001b[0m\u001b[0;34m:\u001b[0m\u001b[0;34m\u001b[0m\u001b[0;34m\u001b[0m\u001b[0m\n\u001b[0;32m--> 823\u001b[0;31m         return Variable._execution_engine.run_backward(  # Calls into the C++ engine to run the backward pass\n\u001b[0m\u001b[1;32m    824\u001b[0m             \u001b[0mt_outputs\u001b[0m\u001b[0;34m,\u001b[0m \u001b[0;34m*\u001b[0m\u001b[0margs\u001b[0m\u001b[0;34m,\u001b[0m \u001b[0;34m**\u001b[0m\u001b[0mkwargs\u001b[0m\u001b[0;34m\u001b[0m\u001b[0;34m\u001b[0m\u001b[0m\n\u001b[1;32m    825\u001b[0m         )  # Calls into the C++ engine to run the backward pass\n",
            "\u001b[0;31mKeyboardInterrupt\u001b[0m: "
          ]
        }
      ]
    },
    {
      "cell_type": "markdown",
      "source": [
        "## 4. Visualization"
      ],
      "metadata": {
        "id": "8A1NbuiIwh_9"
      }
    },
    {
      "cell_type": "code",
      "source": [
        "widgets.interact(show_images, step=step_slider);\n",
        "print('\\n')\n",
        "fig, axs = plt.subplots(1, 2, figsize=(14, 4), sharex=True)\n",
        "\n",
        "axs[0].plot(D_losses, label='Discriminator Loss', color='blue')\n",
        "axs[0].set_title('Discriminator Loss (BCE) over Iteration')\n",
        "axs[0].set_xlabel('Iteration')\n",
        "axs[0].set_ylabel('Loss')\n",
        "axs[0].legend()\n",
        "axs[0].grid(True)\n",
        "\n",
        "axs[1].plot(G_losses, label='Generator Loss (BCE)', color='orange')\n",
        "axs[1].set_title('Generator Loss (BCE) over Iteration')\n",
        "axs[1].set_xlabel('Iteration')\n",
        "axs[1].set_ylabel('Loss')\n",
        "axs[1].legend()\n",
        "axs[1].grid(True)\n",
        "\n",
        "plt.tight_layout()\n",
        "plt.show()"
      ],
      "metadata": {
        "id": "wCKRvTuSwA6H"
      },
      "execution_count": null,
      "outputs": []
    }
  ],
  "metadata": {
    "accelerator": "GPU",
    "colab": {
      "gpuType": "T4",
      "machine_shape": "hm",
      "provenance": []
    },
    "kernelspec": {
      "display_name": "Python 3",
      "name": "python3"
    },
    "language_info": {
      "name": "python"
    },
    "widgets": {
      "application/vnd.jupyter.widget-state+json": {
        "cae4a7681e7242bc9f97717f46c7562f": {
          "model_module": "@jupyter-widgets/controls",
          "model_name": "VBoxModel",
          "model_module_version": "1.5.0",
          "state": {
            "_dom_classes": [
              "widget-interact"
            ],
            "_model_module": "@jupyter-widgets/controls",
            "_model_module_version": "1.5.0",
            "_model_name": "VBoxModel",
            "_view_count": null,
            "_view_module": "@jupyter-widgets/controls",
            "_view_module_version": "1.5.0",
            "_view_name": "VBoxView",
            "box_style": "",
            "children": [
              "IPY_MODEL_8f1dd946a06b42168102dfef693dae75",
              "IPY_MODEL_c151b0c8d8484daca4af71921ca56a35"
            ],
            "layout": "IPY_MODEL_456805b299a0484a9f98a82bef39d027"
          }
        },
        "8f1dd946a06b42168102dfef693dae75": {
          "model_module": "@jupyter-widgets/controls",
          "model_name": "IntSliderModel",
          "model_module_version": "1.5.0",
          "state": {
            "_dom_classes": [],
            "_model_module": "@jupyter-widgets/controls",
            "_model_module_version": "1.5.0",
            "_model_name": "IntSliderModel",
            "_view_count": null,
            "_view_module": "@jupyter-widgets/controls",
            "_view_module_version": "1.5.0",
            "_view_name": "IntSliderView",
            "continuous_update": false,
            "description": "Step:",
            "description_tooltip": null,
            "disabled": false,
            "layout": "IPY_MODEL_22ff83eb13fa4d0ab1c03423f42a6dfc",
            "max": 2300,
            "min": 0,
            "orientation": "horizontal",
            "readout": true,
            "readout_format": "d",
            "step": 100,
            "style": "IPY_MODEL_4de7e5dc853c49b7872f7d167838f8d6",
            "value": 2300
          }
        },
        "c151b0c8d8484daca4af71921ca56a35": {
          "model_module": "@jupyter-widgets/output",
          "model_name": "OutputModel",
          "model_module_version": "1.0.0",
          "state": {
            "_dom_classes": [],
            "_model_module": "@jupyter-widgets/output",
            "_model_module_version": "1.0.0",
            "_model_name": "OutputModel",
            "_view_count": null,
            "_view_module": "@jupyter-widgets/output",
            "_view_module_version": "1.0.0",
            "_view_name": "OutputView",
            "layout": "IPY_MODEL_24d8e1eb31d64531a227f9622255dcb9",
            "msg_id": "",
            "outputs": [
              {
                "output_type": "display_data",
                "data": {
                  "text/plain": "<Figure size 800x400 with 2 Axes>",
                  "image/png": "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\n"
                },
                "metadata": {}
              }
            ]
          }
        },
        "456805b299a0484a9f98a82bef39d027": {
          "model_module": "@jupyter-widgets/base",
          "model_name": "LayoutModel",
          "model_module_version": "1.2.0",
          "state": {
            "_model_module": "@jupyter-widgets/base",
            "_model_module_version": "1.2.0",
            "_model_name": "LayoutModel",
            "_view_count": null,
            "_view_module": "@jupyter-widgets/base",
            "_view_module_version": "1.2.0",
            "_view_name": "LayoutView",
            "align_content": null,
            "align_items": null,
            "align_self": null,
            "border": null,
            "bottom": null,
            "display": null,
            "flex": null,
            "flex_flow": null,
            "grid_area": null,
            "grid_auto_columns": null,
            "grid_auto_flow": null,
            "grid_auto_rows": null,
            "grid_column": null,
            "grid_gap": null,
            "grid_row": null,
            "grid_template_areas": null,
            "grid_template_columns": null,
            "grid_template_rows": null,
            "height": null,
            "justify_content": null,
            "justify_items": null,
            "left": null,
            "margin": null,
            "max_height": null,
            "max_width": null,
            "min_height": null,
            "min_width": null,
            "object_fit": null,
            "object_position": null,
            "order": null,
            "overflow": null,
            "overflow_x": null,
            "overflow_y": null,
            "padding": null,
            "right": null,
            "top": null,
            "visibility": null,
            "width": null
          }
        },
        "22ff83eb13fa4d0ab1c03423f42a6dfc": {
          "model_module": "@jupyter-widgets/base",
          "model_name": "LayoutModel",
          "model_module_version": "1.2.0",
          "state": {
            "_model_module": "@jupyter-widgets/base",
            "_model_module_version": "1.2.0",
            "_model_name": "LayoutModel",
            "_view_count": null,
            "_view_module": "@jupyter-widgets/base",
            "_view_module_version": "1.2.0",
            "_view_name": "LayoutView",
            "align_content": null,
            "align_items": null,
            "align_self": null,
            "border": null,
            "bottom": null,
            "display": null,
            "flex": null,
            "flex_flow": null,
            "grid_area": null,
            "grid_auto_columns": null,
            "grid_auto_flow": null,
            "grid_auto_rows": null,
            "grid_column": null,
            "grid_gap": null,
            "grid_row": null,
            "grid_template_areas": null,
            "grid_template_columns": null,
            "grid_template_rows": null,
            "height": null,
            "justify_content": null,
            "justify_items": null,
            "left": null,
            "margin": null,
            "max_height": null,
            "max_width": null,
            "min_height": null,
            "min_width": null,
            "object_fit": null,
            "object_position": null,
            "order": null,
            "overflow": null,
            "overflow_x": null,
            "overflow_y": null,
            "padding": null,
            "right": null,
            "top": null,
            "visibility": null,
            "width": null
          }
        },
        "4de7e5dc853c49b7872f7d167838f8d6": {
          "model_module": "@jupyter-widgets/controls",
          "model_name": "SliderStyleModel",
          "model_module_version": "1.5.0",
          "state": {
            "_model_module": "@jupyter-widgets/controls",
            "_model_module_version": "1.5.0",
            "_model_name": "SliderStyleModel",
            "_view_count": null,
            "_view_module": "@jupyter-widgets/base",
            "_view_module_version": "1.2.0",
            "_view_name": "StyleView",
            "description_width": "",
            "handle_color": null
          }
        },
        "24d8e1eb31d64531a227f9622255dcb9": {
          "model_module": "@jupyter-widgets/base",
          "model_name": "LayoutModel",
          "model_module_version": "1.2.0",
          "state": {
            "_model_module": "@jupyter-widgets/base",
            "_model_module_version": "1.2.0",
            "_model_name": "LayoutModel",
            "_view_count": null,
            "_view_module": "@jupyter-widgets/base",
            "_view_module_version": "1.2.0",
            "_view_name": "LayoutView",
            "align_content": null,
            "align_items": null,
            "align_self": null,
            "border": null,
            "bottom": null,
            "display": null,
            "flex": null,
            "flex_flow": null,
            "grid_area": null,
            "grid_auto_columns": null,
            "grid_auto_flow": null,
            "grid_auto_rows": null,
            "grid_column": null,
            "grid_gap": null,
            "grid_row": null,
            "grid_template_areas": null,
            "grid_template_columns": null,
            "grid_template_rows": null,
            "height": null,
            "justify_content": null,
            "justify_items": null,
            "left": null,
            "margin": null,
            "max_height": null,
            "max_width": null,
            "min_height": null,
            "min_width": null,
            "object_fit": null,
            "object_position": null,
            "order": null,
            "overflow": null,
            "overflow_x": null,
            "overflow_y": null,
            "padding": null,
            "right": null,
            "top": null,
            "visibility": null,
            "width": null
          }
        },
        "fb65478314df44ec9261c42e2b6f32ae": {
          "model_module": "@jupyter-widgets/controls",
          "model_name": "VBoxModel",
          "model_module_version": "1.5.0",
          "state": {
            "_dom_classes": [
              "widget-interact"
            ],
            "_model_module": "@jupyter-widgets/controls",
            "_model_module_version": "1.5.0",
            "_model_name": "VBoxModel",
            "_view_count": null,
            "_view_module": "@jupyter-widgets/controls",
            "_view_module_version": "1.5.0",
            "_view_name": "VBoxView",
            "box_style": "",
            "children": [
              "IPY_MODEL_6dacbceb5f764e11a07adafaa410660a",
              "IPY_MODEL_296a648b5239432e9ada441b08b347a0"
            ],
            "layout": "IPY_MODEL_9b02705309f043f7baf1b4c7104d7b36"
          }
        },
        "6dacbceb5f764e11a07adafaa410660a": {
          "model_module": "@jupyter-widgets/controls",
          "model_name": "IntSliderModel",
          "model_module_version": "1.5.0",
          "state": {
            "_dom_classes": [],
            "_model_module": "@jupyter-widgets/controls",
            "_model_module_version": "1.5.0",
            "_model_name": "IntSliderModel",
            "_view_count": null,
            "_view_module": "@jupyter-widgets/controls",
            "_view_module_version": "1.5.0",
            "_view_name": "IntSliderView",
            "continuous_update": false,
            "description": "Step:",
            "description_tooltip": null,
            "disabled": false,
            "layout": "IPY_MODEL_5620914ac63c4634b83e9aabc14ee6dd",
            "max": 2300,
            "min": 0,
            "orientation": "horizontal",
            "readout": true,
            "readout_format": "d",
            "step": 100,
            "style": "IPY_MODEL_7291e93b16a84bf4945abdaadae62f01",
            "value": 2300
          }
        },
        "296a648b5239432e9ada441b08b347a0": {
          "model_module": "@jupyter-widgets/output",
          "model_name": "OutputModel",
          "model_module_version": "1.0.0",
          "state": {
            "_dom_classes": [],
            "_model_module": "@jupyter-widgets/output",
            "_model_module_version": "1.0.0",
            "_model_name": "OutputModel",
            "_view_count": null,
            "_view_module": "@jupyter-widgets/output",
            "_view_module_version": "1.0.0",
            "_view_name": "OutputView",
            "layout": "IPY_MODEL_3ab14bb962fc46378d113e0885d985d2",
            "msg_id": "",
            "outputs": [
              {
                "output_type": "display_data",
                "data": {
                  "text/plain": "<Figure size 400x400 with 1 Axes>",
                  "image/png": "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\n"
                },
                "metadata": {}
              }
            ]
          }
        },
        "9b02705309f043f7baf1b4c7104d7b36": {
          "model_module": "@jupyter-widgets/base",
          "model_name": "LayoutModel",
          "model_module_version": "1.2.0",
          "state": {
            "_model_module": "@jupyter-widgets/base",
            "_model_module_version": "1.2.0",
            "_model_name": "LayoutModel",
            "_view_count": null,
            "_view_module": "@jupyter-widgets/base",
            "_view_module_version": "1.2.0",
            "_view_name": "LayoutView",
            "align_content": null,
            "align_items": null,
            "align_self": null,
            "border": null,
            "bottom": null,
            "display": null,
            "flex": null,
            "flex_flow": null,
            "grid_area": null,
            "grid_auto_columns": null,
            "grid_auto_flow": null,
            "grid_auto_rows": null,
            "grid_column": null,
            "grid_gap": null,
            "grid_row": null,
            "grid_template_areas": null,
            "grid_template_columns": null,
            "grid_template_rows": null,
            "height": null,
            "justify_content": null,
            "justify_items": null,
            "left": null,
            "margin": null,
            "max_height": null,
            "max_width": null,
            "min_height": null,
            "min_width": null,
            "object_fit": null,
            "object_position": null,
            "order": null,
            "overflow": null,
            "overflow_x": null,
            "overflow_y": null,
            "padding": null,
            "right": null,
            "top": null,
            "visibility": null,
            "width": null
          }
        },
        "5620914ac63c4634b83e9aabc14ee6dd": {
          "model_module": "@jupyter-widgets/base",
          "model_name": "LayoutModel",
          "model_module_version": "1.2.0",
          "state": {
            "_model_module": "@jupyter-widgets/base",
            "_model_module_version": "1.2.0",
            "_model_name": "LayoutModel",
            "_view_count": null,
            "_view_module": "@jupyter-widgets/base",
            "_view_module_version": "1.2.0",
            "_view_name": "LayoutView",
            "align_content": null,
            "align_items": null,
            "align_self": null,
            "border": null,
            "bottom": null,
            "display": null,
            "flex": null,
            "flex_flow": null,
            "grid_area": null,
            "grid_auto_columns": null,
            "grid_auto_flow": null,
            "grid_auto_rows": null,
            "grid_column": null,
            "grid_gap": null,
            "grid_row": null,
            "grid_template_areas": null,
            "grid_template_columns": null,
            "grid_template_rows": null,
            "height": null,
            "justify_content": null,
            "justify_items": null,
            "left": null,
            "margin": null,
            "max_height": null,
            "max_width": null,
            "min_height": null,
            "min_width": null,
            "object_fit": null,
            "object_position": null,
            "order": null,
            "overflow": null,
            "overflow_x": null,
            "overflow_y": null,
            "padding": null,
            "right": null,
            "top": null,
            "visibility": null,
            "width": null
          }
        },
        "7291e93b16a84bf4945abdaadae62f01": {
          "model_module": "@jupyter-widgets/controls",
          "model_name": "SliderStyleModel",
          "model_module_version": "1.5.0",
          "state": {
            "_model_module": "@jupyter-widgets/controls",
            "_model_module_version": "1.5.0",
            "_model_name": "SliderStyleModel",
            "_view_count": null,
            "_view_module": "@jupyter-widgets/base",
            "_view_module_version": "1.2.0",
            "_view_name": "StyleView",
            "description_width": "",
            "handle_color": null
          }
        },
        "3ab14bb962fc46378d113e0885d985d2": {
          "model_module": "@jupyter-widgets/base",
          "model_name": "LayoutModel",
          "model_module_version": "1.2.0",
          "state": {
            "_model_module": "@jupyter-widgets/base",
            "_model_module_version": "1.2.0",
            "_model_name": "LayoutModel",
            "_view_count": null,
            "_view_module": "@jupyter-widgets/base",
            "_view_module_version": "1.2.0",
            "_view_name": "LayoutView",
            "align_content": null,
            "align_items": null,
            "align_self": null,
            "border": null,
            "bottom": null,
            "display": null,
            "flex": null,
            "flex_flow": null,
            "grid_area": null,
            "grid_auto_columns": null,
            "grid_auto_flow": null,
            "grid_auto_rows": null,
            "grid_column": null,
            "grid_gap": null,
            "grid_row": null,
            "grid_template_areas": null,
            "grid_template_columns": null,
            "grid_template_rows": null,
            "height": null,
            "justify_content": null,
            "justify_items": null,
            "left": null,
            "margin": null,
            "max_height": null,
            "max_width": null,
            "min_height": null,
            "min_width": null,
            "object_fit": null,
            "object_position": null,
            "order": null,
            "overflow": null,
            "overflow_x": null,
            "overflow_y": null,
            "padding": null,
            "right": null,
            "top": null,
            "visibility": null,
            "width": null
          }
        }
      }
    }
  },
  "nbformat": 4,
  "nbformat_minor": 0
}