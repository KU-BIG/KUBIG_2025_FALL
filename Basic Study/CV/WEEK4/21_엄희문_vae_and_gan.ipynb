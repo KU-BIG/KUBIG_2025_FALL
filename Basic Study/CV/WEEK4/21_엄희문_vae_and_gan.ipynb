{
  "cells": [
    {
      "cell_type": "markdown",
      "metadata": {
        "id": "llgBx3J-oMRO"
      },
      "source": [
        "# Training VAE and GAN model\n",
        "\n",
        "colab에서 돌릴 경우, 런타임 유형을 GPU로 변경해주세요.\n",
        "\n",
        "MNIST dataset을 활용해 VAE, GAN 모델을 간단하게 구현해보는 것이 이번 과제입니다."
      ]
    },
    {
      "cell_type": "markdown",
      "metadata": {
        "id": "a3I5tElZFDcD"
      },
      "source": [
        "# Imports and set seed"
      ]
    },
    {
      "cell_type": "code",
      "execution_count": 1,
      "metadata": {
        "id": "mS6c1dwaF45C"
      },
      "outputs": [
        {
          "name": "stderr",
          "output_type": "stream",
          "text": [
            "usage: jupyter [-h] [--version] [--config-dir] [--data-dir] [--runtime-dir]\n",
            "               [--paths] [--json] [--debug]\n",
            "               [subcommand]\n",
            "\n",
            "Jupyter: Interactive Computing\n",
            "\n",
            "positional arguments:\n",
            "  subcommand     the subcommand to launch\n",
            "\n",
            "options:\n",
            "  -h, --help     show this help message and exit\n",
            "  --version      show the versions of core jupyter packages and exit\n",
            "  --config-dir   show Jupyter config dir\n",
            "  --data-dir     show Jupyter data dir\n",
            "  --runtime-dir  show Jupyter runtime dir\n",
            "  --paths        show all Jupyter paths. Add --json for machine-readable\n",
            "                 format.\n",
            "  --json         output paths as machine-readable json\n",
            "  --debug        output debug information about paths\n",
            "\n",
            "Available subcommands: kernel kernelspec migrate run script troubleshoot\n",
            "\n",
            "Jupyter command `jupyter-nbextension` not found.\n"
          ]
        }
      ],
      "source": [
        "!pip install ipywidgets -q\n",
        "!jupyter nbextension enable --py widgetsnbextension -q"
      ]
    },
    {
      "cell_type": "code",
      "execution_count": 2,
      "metadata": {
        "id": "rL8dm3uXXEnE"
      },
      "outputs": [],
      "source": [
        "import os\n",
        "from tqdm import tqdm\n",
        "import random\n",
        "import numpy as np\n",
        "import matplotlib.pyplot as plt\n",
        "import torch\n",
        "import torch.nn as nn\n",
        "import torch.nn.functional as F\n",
        "from torch.utils.data import DataLoader\n",
        "from torch.optim import Adam\n",
        "from torchvision import datasets, transforms\n",
        "import torchvision.utils as vutils\n",
        "from IPython.display import display\n",
        "import ipywidgets as widgets\n",
        "from PIL import Image\n"
      ]
    },
    {
      "cell_type": "code",
      "execution_count": 3,
      "metadata": {
        "id": "IjKgK9HxJdMz"
      },
      "outputs": [],
      "source": [
        "def set_seed(seed=42):\n",
        "    random.seed(seed)\n",
        "    np.random.seed(seed)\n",
        "    torch.manual_seed(seed)\n",
        "    torch.cuda.manual_seed(seed)\n",
        "    torch.cuda.manual_seed_all(seed)  # if using multi-GPU\n",
        "    torch.backends.cudnn.deterministic = True\n",
        "    torch.backends.cudnn.benchmark = False\n",
        "    torch.use_deterministic_algorithms(False)  ##\n",
        "\n",
        "set_seed(1)"
      ]
    },
    {
      "cell_type": "markdown",
      "metadata": {
        "id": "I9OOQofAIkZd"
      },
      "source": [
        "# VAE Implementation"
      ]
    },
    {
      "cell_type": "markdown",
      "metadata": {
        "id": "4EYzG4FUItly"
      },
      "source": [
        "### 1. Model design  - Problem 1\n",
        "\n",
        "---\n",
        "\n",
        "$Enc$, $Dec$ 모델을 자유롭게 구성해보세요.\n",
        "\n",
        "CNN 기반 아키텍쳐나 ViT 기반 아키텍쳐를 자유롭게 구성해도 좋습니다.\n",
        "\n",
        "이때 각 아키텍쳐 선택 요소에 맞게 epoch이나 여러 학습 파라미터를 Main training loop에서 수정해주셔야 합니다.\n",
        "\n",
        "입출력 $\\text{dim}$에 맞게 세팅하는 것에 유의해주세요.\n",
        "\n",
        "---\n"
      ]
    },
    {
      "cell_type": "code",
      "execution_count": 4,
      "metadata": {
        "id": "IcStCywcE6mI"
      },
      "outputs": [],
      "source": [
        "class ConvEncoder(nn.Module):\n",
        "    def __init__(self, latent_dim=32):\n",
        "        super().__init__()\n",
        "        self.conv = nn.Sequential(\n",
        "            # 작성란 -------------------------------------------------------------------------\n",
        "\n",
        "            # 아래는 예시 입니다.\n",
        "\n",
        "            # nn.Conv2d(1, 32, 4, 2, 1),  # 28->14\n",
        "            # nn.BatchNorm2d(32),\n",
        "            # nn.LeakyReLU(0.2),\n",
        "\n",
        "            # ...\n",
        "\n",
        "            # nn.Conv2d(32, 16, 3, 1, 1), # 7->7\n",
        "            # nn.BatchNorm2d(16),\n",
        "            # nn.LeakyReLU(0.2),\n",
        "\n",
        "            #---------------------------------------------------------------------------------\n",
        "            nn.Conv2d(1, 32, 4, 2, 1), # (1, 28, 28) → (32, 14, 14)\n",
        "            nn.BatchNorm2d(32),\n",
        "            nn.LeakyReLU(0.2),\n",
        "            nn.Conv2d(32, 64, 4, 2, 1), # (32, 14, 14) → (64, 7, 7)\n",
        "            nn.BatchNorm2d(64),\n",
        "            nn.LeakyReLU(0.2),\n",
        "            nn.Conv2d(64, 16, 3, 1, 1), # (64, 7, 7) → (16, 7, 7)\n",
        "\n",
        "            nn.Flatten()\n",
        "        )\n",
        "        self.fc_mu = nn.Linear(16*7*7, latent_dim)\n",
        "        self.fc_logvar = nn.Linear(16*7*7, latent_dim)\n",
        "\n",
        "    def forward(self, x):\n",
        "        h = self.conv(x)\n",
        "        return self.fc_mu(h), self.fc_logvar(h)\n",
        "\n",
        "\n",
        "class ConvDecoder(nn.Module):\n",
        "    def __init__(self, latent_dim=32):\n",
        "        super().__init__()\n",
        "        self.fc = nn.Linear(latent_dim, 16*7*7)\n",
        "\n",
        "        self.deconv = nn.Sequential(\n",
        "\n",
        "            # 작성란 -------------------------------------------------------------------------\n",
        "            # nn.ConvTranspose2d(16, 32, 3, 1, 1), # 7->7\n",
        "            # nn.BatchNorm2d(32),\n",
        "            # nn.LeakyReLU(0.2),\n",
        "\n",
        "            # ...\n",
        "\n",
        "            # nn.ConvTranspose2d(32, 1, 4, 2, 1),  # 14->28\n",
        "\n",
        "            #---------------------------------------------------------------------------------\n",
        "            nn.ConvTranspose2d(16, 64, 3, 1, 1), # (16,7,7) → (64,7,7)\n",
        "            nn.BatchNorm2d(64),\n",
        "            nn.LeakyReLU(0.2),\n",
        "            nn.ConvTranspose2d(64, 32, 4, 2, 1), # (64,7,7) → (32,14,14)\n",
        "            nn.BatchNorm2d(32),\n",
        "            nn.LeakyReLU(0.2),\n",
        "            nn.ConvTranspose2d(32, 1, 4, 2, 1), # (32,14,14) → (1,28,28)\n",
        "            nn.Sigmoid(),\n",
        "        )\n",
        "\n",
        "    def forward(self, z):\n",
        "        # 작성란 --------------------------------\n",
        "        h = self.fc(z).view(-1, 16, 7, 7)\n",
        "        #----------------------------------------\n",
        "        return self.deconv(h)\n"
      ]
    },
    {
      "cell_type": "markdown",
      "metadata": {
        "id": "EZv_xBb63_r6"
      },
      "source": [
        "reparameterization 과정에 대해 확인해보세요."
      ]
    },
    {
      "cell_type": "code",
      "execution_count": 5,
      "metadata": {
        "id": "meqUKh45E_qD"
      },
      "outputs": [],
      "source": [
        "class VAE(nn.Module):\n",
        "    def __init__(self, latent_dim=64):\n",
        "        super().__init__()\n",
        "        self.encoder = ConvEncoder(latent_dim)\n",
        "        self.decoder = ConvDecoder(latent_dim)\n",
        "\n",
        "    def reparameterize(self, mu, logvar):\n",
        "        std = torch.exp(0.5 * logvar)\n",
        "        eps = torch.randn_like(std)\n",
        "        return mu + eps * std\n",
        "\n",
        "    def forward(self, x):\n",
        "        mu, logvar = self.encoder(x)\n",
        "        z = self.reparameterize(mu, logvar)\n",
        "        return self.decoder(z), mu, logvar\n"
      ]
    },
    {
      "cell_type": "markdown",
      "metadata": {
        "id": "QF-p96SWI03Q"
      },
      "source": [
        "### 2. Loss\n",
        "\n",
        "---\n",
        "\n",
        "$(\\text{Binary Cross Entropy + KL Divergence})$의 구조입니다.\n",
        "\n",
        "KLD term이 아래와 같은 방식으로 구해지는 이유에 대해 생각해보세요."
      ]
    },
    {
      "cell_type": "code",
      "execution_count": 6,
      "metadata": {
        "id": "LDO3khroGVNe"
      },
      "outputs": [],
      "source": [
        "def vae_loss(x, recon_logits, mu, logvar, reduction='mean'):\n",
        "    BCE = F.binary_cross_entropy_with_logits(recon_logits, x, reduction='sum')\n",
        "    KLD = -0.5 * torch.sum(1 + logvar - mu.pow(2) - logvar.exp())\n",
        "    if reduction == 'mean':\n",
        "        div = x.size(0)\n",
        "        BCE = BCE / div\n",
        "        KLD = KLD / div\n",
        "    return BCE + KLD, BCE, KLD"
      ]
    },
    {
      "cell_type": "markdown",
      "metadata": {
        "id": "Erkky9fzI_yh"
      },
      "source": [
        "### 3. Visualization function\n",
        "\n",
        "---\n",
        "\n",
        "실행만 하고 넘어가시면 됩니다."
      ]
    },
    {
      "cell_type": "code",
      "execution_count": 7,
      "metadata": {
        "id": "yxhotu2hEoYd"
      },
      "outputs": [],
      "source": [
        "def save_step_images(model, step, imgs, z):\n",
        "    was_training = model.training\n",
        "    model.eval()\n",
        "    with torch.no_grad():\n",
        "        recon_logits, _, _ = model(imgs)\n",
        "        recon = torch.sigmoid(recon_logits)\n",
        "\n",
        "        recon_grid = torch.cat([imgs, recon], dim=0)\n",
        "        recon_grid = vutils.make_grid(recon_grid, nrow=4, normalize=True, pad_value=1)\n",
        "        vutils.save_image(recon_grid, f\"vae_recon_imgs/recon_{step:05d}.png\")\n",
        "\n",
        "        gen = torch.sigmoid(model.decoder(z))\n",
        "        gen_grid = vutils.make_grid(gen, nrow=4, normalize=True, pad_value=1)\n",
        "        vutils.save_image(gen_grid, f\"vae_gen_imgs/gen_{step:05d}.png\")\n",
        "\n",
        "    if was_training:\n",
        "        model.train(was_training)"
      ]
    },
    {
      "cell_type": "markdown",
      "metadata": {
        "id": "t51JcflbJD7l"
      },
      "source": [
        "## 4. Main train loop\n",
        "\n",
        "---\n",
        "\n",
        "batch size, epoch, learning rate와\n",
        "\n",
        "VAE latent dimension을 자유롭게 조절하면서 학습시켜보세요."
      ]
    },
    {
      "cell_type": "code",
      "execution_count": 8,
      "metadata": {
        "colab": {
          "base_uri": "https://localhost:8080/"
        },
        "id": "foJuKIX2GXt8",
        "outputId": "e6ec200e-8744-41f3-8795-9b6d841c74fb"
      },
      "outputs": [
        {
          "name": "stderr",
          "output_type": "stream",
          "text": [
            "Epoch 0: 100%|██████████| 118/118 [00:02<00:00, 49.40it/s, loss=549.0038]\n",
            "Epoch 1: 100%|██████████| 118/118 [00:02<00:00, 55.93it/s, loss=543.2308]\n",
            "Epoch 2: 100%|██████████| 118/118 [00:02<00:00, 56.02it/s, loss=542.3000]\n",
            "Epoch 3: 100%|██████████| 118/118 [00:02<00:00, 48.20it/s, loss=539.7925]\n",
            "Epoch 4: 100%|██████████| 118/118 [00:02<00:00, 40.24it/s, loss=540.0228]\n",
            "Epoch 5: 100%|██████████| 118/118 [00:02<00:00, 39.78it/s, loss=540.3487]\n",
            "Epoch 6: 100%|██████████| 118/118 [00:02<00:00, 39.88it/s, loss=539.2264]\n",
            "Epoch 7: 100%|██████████| 118/118 [00:02<00:00, 42.49it/s, loss=538.5674]\n",
            "Epoch 8: 100%|██████████| 118/118 [00:02<00:00, 40.04it/s, loss=538.4587]\n",
            "Epoch 9: 100%|██████████| 118/118 [00:03<00:00, 38.61it/s, loss=538.2073]\n"
          ]
        }
      ],
      "source": [
        "device = 'cuda' if torch.cuda.is_available() else 'cpu'\n",
        "\n",
        "transform = transforms.Compose([transforms.ToTensor(),])\n",
        "train_loader = DataLoader(\n",
        "    datasets.MNIST('.', train=True, download=True, transform=transform),\n",
        "    batch_size=512,\n",
        "    shuffle=True\n",
        "    )\n",
        "\n",
        "latent_dim = 64\n",
        "model = VAE(latent_dim=latent_dim).to(device)\n",
        "optimizer = Adam(model.parameters(), lr=1e-3)\n",
        "scaler = torch.amp.GradScaler('cuda')\n",
        "\n",
        "# for visualization\n",
        "os.makedirs(\"vae_recon_imgs\", exist_ok=True)\n",
        "os.makedirs(\"vae_gen_imgs\", exist_ok=True)\n",
        "fixed_imgs, _ = next(iter(train_loader))\n",
        "fixed_imgs = fixed_imgs[:4].to(device)\n",
        "fixed_z = torch.randn(4, latent_dim).to(device)\n",
        "\n",
        "global_step = 0\n",
        "bce_losses, kld_losses = [], []\n",
        "for epoch in (range(10)):\n",
        "    model.train()\n",
        "    pbar = tqdm(train_loader, desc=f\"Epoch {epoch}\")\n",
        "    for x, _ in pbar:\n",
        "        x = x.to(device)\n",
        "        optimizer.zero_grad()\n",
        "\n",
        "        with torch.amp.autocast('cuda'):\n",
        "            recon, mu, logvar = model(x)\n",
        "            loss, bce, kld = vae_loss(x, recon, mu, logvar)\n",
        "\n",
        "        scaler.scale(loss).backward()\n",
        "        scaler.step(optimizer)\n",
        "        scaler.update()\n",
        "\n",
        "        bce_losses.append(bce.item())\n",
        "        kld_losses.append(kld.item())\n",
        "\n",
        "        pbar.set_postfix({\"loss\": f\"{loss.item():.4f}\"})\n",
        "\n",
        "        if global_step % 100 == 0:\n",
        "            with torch.no_grad():\n",
        "                save_step_images(model, step=global_step, imgs=fixed_imgs, z=fixed_z)\n",
        "\n",
        "        global_step += 1\n"
      ]
    },
    {
      "cell_type": "markdown",
      "metadata": {
        "id": "svsaNz6OJqwn"
      },
      "source": [
        "## 5. Results visualization\n",
        "\n",
        "---\n",
        "\n",
        "아래 코드는 실행만 하면 됩니다. 바를 조절해 iteration별 학습 과정을 확인할 수 있습니다."
      ]
    },
    {
      "cell_type": "code",
      "execution_count": 9,
      "metadata": {
        "id": "n4KkqTHOJqHf"
      },
      "outputs": [],
      "source": [
        "def load_step_images(step, recon_dir='vae_recon_imgs', gen_dir='vae_gen_imgs'):\n",
        "    recon_path = os.path.join(recon_dir, f'recon_{step:05d}.png')\n",
        "    gen_path = os.path.join(gen_dir, f'gen_{step:05d}.png')\n",
        "    return Image.open(recon_path), Image.open(gen_path)\n",
        "\n",
        "def show_images(step):\n",
        "    recon_img, gen_img = load_step_images(step)\n",
        "    fig, axs = plt.subplots(1, 2, figsize=(8, 4))\n",
        "    axs[0].imshow(recon_img)\n",
        "    axs[0].set_title(f\"Recon Step {step}\")\n",
        "    axs[0].axis('off')\n",
        "\n",
        "    axs[1].imshow(gen_img)\n",
        "    axs[1].set_title(f\"Gen Step {step}\")\n",
        "    axs[1].axis('off')\n",
        "    plt.tight_layout()\n",
        "    plt.show()\n",
        "\n",
        "saved_steps = sorted([\n",
        "    int(f.split('_')[-1].split('.')[0])\n",
        "    for f in os.listdir('vae_recon_imgs') if f.endswith('.png')\n",
        "])\n",
        "\n",
        "step_slider = widgets.IntSlider(\n",
        "    value=saved_steps[0],\n",
        "    min=min(saved_steps),\n",
        "    max=max(saved_steps),\n",
        "    step=100,\n",
        "    description='Step:',\n",
        "    continuous_update=False\n",
        ")\n",
        "\n",
        "# widgets.interact(show_images, step=step_slider);"
      ]
    },
    {
      "cell_type": "code",
      "execution_count": 10,
      "metadata": {
        "colab": {
          "base_uri": "https://localhost:8080/",
          "height": 710,
          "referenced_widgets": [
            "dbc24a07ae214c61bbab7740cb0e0be0",
            "85bad76d20904b268699f50a0300b082",
            "a89c156ad9f642e4b8e5ff3b2e42baaa",
            "009e86e0ccbe48f399b97461c5592495",
            "09c6d6707cb440859c70f8ef22500859",
            "b0ff30816e774c588779c1b827e83a3b",
            "53d702b171a7448f8c59d6b075c54eb0"
          ]
        },
        "id": "2Stm3zPaIVzL",
        "outputId": "e868cd49-09a1-4bf5-f786-14238abe5662"
      },
      "outputs": [
        {
          "data": {
            "application/vnd.jupyter.widget-view+json": {
              "model_id": "297c2451e5144ede8b572c642c001b7d",
              "version_major": 2,
              "version_minor": 0
            },
            "text/plain": [
              "interactive(children=(IntSlider(value=0, continuous_update=False, description='Step:', max=1100, step=100), Ou…"
            ]
          },
          "metadata": {},
          "output_type": "display_data"
        },
        {
          "name": "stdout",
          "output_type": "stream",
          "text": [
            "\n",
            "\n"
          ]
        },
        {
          "data": {
            "image/png": "[encoded data removed]",
            "text/plain": [
              "<Figure size 1200x400 with 2 Axes>"
            ]
          },
          "metadata": {},
          "output_type": "display_data"
        }
      ],
      "source": [
        "widgets.interact(show_images, step=step_slider);\n",
        "print('\\n')\n",
        "fig, axs = plt.subplots(1, 2, figsize=(12, 4), sharex=True)\n",
        "\n",
        "# BCE Loss subplot\n",
        "axs[0].plot(bce_losses, label='BCE Loss')\n",
        "axs[0].set_title('BCE Loss over Total Iteration')\n",
        "axs[0].set_xlabel('Iteration')\n",
        "axs[0].set_ylabel('BCE Loss')\n",
        "axs[0].legend()\n",
        "\n",
        "# KLD Loss subplot\n",
        "axs[1].plot(kld_losses, label='KLD Loss', color='orange')\n",
        "axs[1].set_title('KLD Loss over Total Iteration')\n",
        "axs[1].set_xlabel('Iteration')\n",
        "axs[1].set_ylabel('KLD Loss')\n",
        "axs[1].legend()\n",
        "\n",
        "plt.tight_layout()\n",
        "plt.show()\n"
      ]
    },
    {
      "cell_type": "markdown",
      "metadata": {
        "id": "Tm9Op-vOJKC8"
      },
      "source": [
        "---\n",
        "___\n",
        "\n",
        "# GAN Implementation"
      ]
    },
    {
      "cell_type": "markdown",
      "metadata": {
        "id": "uED-DGkwlIql"
      },
      "source": [
        "## 1. Model Design - Problem 2\n",
        "\n",
        "---\n",
        "\n",
        "$Generator$, $Discriminator$ 모델을 자유롭게 구성해보세요. 입출력 $\\text{dim}$에 맞게 세팅하는 것에 유의해주세요."
      ]
    },
    {
      "cell_type": "code",
      "execution_count": 11,
      "metadata": {
        "id": "pWFzINayh3ps"
      },
      "outputs": [],
      "source": [
        "# Generator\n",
        "class Generator(nn.Module):\n",
        "    def __init__(self, z_dim=100):\n",
        "        super().__init__()\n",
        "        self.net = nn.Sequential(\n",
        "            # 작성란 -------------------------------------------------------------------------\n",
        "\n",
        "            # 입력: (z_dim, 1, 1)\n",
        "            # nn.ConvTranspose2d(z_dim, 128, 7, 1, 0, bias=False),  # -> (128, 7, 7)\n",
        "            # nn.BatchNorm2d(128),\n",
        "            # nn.ReLU(True),\n",
        "\n",
        "            # ...\n",
        "\n",
        "            # nn.ConvTranspose2d(???, 1, 4, 2, 1, bias=False),      # -> (1, 28, 28)\n",
        "            #---------------------------------------------------------------------------------\n",
        "            nn.ConvTranspose2d(z_dim, 128, 7, 1, 0, bias=False), # (128, 7, 7)\n",
        "            nn.BatchNorm2d(128),\n",
        "            nn.ReLU(True),\n",
        "            nn.ConvTranspose2d(128, 64, 4, 2, 1, bias=False), # (64, 14, 14)\n",
        "            nn.BatchNorm2d(64),\n",
        "            nn.ReLU(True),\n",
        "\n",
        "            nn.ConvTranspose2d(64, 1, 4, 2, 1, bias=False), # (1, 28, 28)\n",
        "            nn.Tanh()\n",
        "        )\n",
        "\n",
        "    def forward(self, z):\n",
        "        return self.net(z)\n",
        "\n",
        "# Discriminator\n",
        "class Discriminator(nn.Module):\n",
        "    def __init__(self):\n",
        "        super().__init__()\n",
        "        self.net = nn.Sequential(\n",
        "            # 작성란 -------------------------------------------------------------------------\n",
        "\n",
        "            # nn.Conv2d(1, 64, 4, 2, 1, bias=False),  # (1,28,28) ->\n",
        "            # nn.LeakyReLU(0.2, inplace=True),\n",
        "\n",
        "            # ...\n",
        "\n",
        "            # nn.Conv2d(128, 1, 7, 1, 0, bias=False), # -> (1,1,1)\n",
        "            #---------------------------------------------------------------------------------\n",
        "            nn.Conv2d(1, 64, 4, 2, 1, bias=False), # (64, 14, 14)\n",
        "            nn.LeakyReLU(0.2, inplace=True),\n",
        "            nn.Conv2d(64, 128, 4, 2, 1, bias=True), # (128, 7, 7)\n",
        "            nn.BatchNorm2d(128),\n",
        "            nn.LeakyReLU(0.2, inplace=True),\n",
        "            nn.Conv2d(128, 1, 7, 1, 0, bias=False), # (1, 1, 1)\n",
        "            nn.Sigmoid()\n",
        "        )\n",
        "\n",
        "    def forward(self, x):\n",
        "        return self.net(x).view(-1, 1)\n"
      ]
    },
    {
      "cell_type": "markdown",
      "metadata": {
        "id": "mD8qeD60q2qk"
      },
      "source": [
        "## 2. Visualization fuction\n",
        "\n",
        "---"
      ]
    },
    {
      "cell_type": "code",
      "execution_count": 12,
      "metadata": {
        "id": "D8ioLX7Mq2yH"
      },
      "outputs": [],
      "source": [
        "def save_step_images_for_gan(model, step, z):\n",
        "    was_training = model.training\n",
        "    model.eval()\n",
        "    with torch.no_grad():\n",
        "        fake = model(z).detach()\n",
        "        # fake = (fake + 1) / 2  # [-1, 1] → [0, 1]\n",
        "        gen_grid = vutils.make_grid(fake, nrow=4, normalize=True, pad_value=1)\n",
        "        vutils.save_image(gen_grid, f\"gan_gen_imgs/gen_{step:05d}.png\")\n",
        "    if was_training:\n",
        "        model.train(was_training)"
      ]
    },
    {
      "cell_type": "markdown",
      "metadata": {
        "id": "R1hGgrSUsobG"
      },
      "source": [
        "## 3. Main training loop\n",
        "\n",
        "---"
      ]
    },
    {
      "cell_type": "code",
      "execution_count": 13,
      "metadata": {
        "colab": {
          "base_uri": "https://localhost:8080/"
        },
        "id": "2rEQ8E-glRhY",
        "outputId": "b3e22da6-f307-461c-ca4a-dc8d18368fd0"
      },
      "outputs": [
        {
          "name": "stderr",
          "output_type": "stream",
          "text": [
            "Epoch 0: 100%|██████████| 118/118 [00:04<00:00, 24.72it/s, D_loss=0.0093, G_loss=5.4157]\n",
            "Epoch 1: 100%|██████████| 118/118 [00:05<00:00, 23.42it/s, D_loss=1.0537, G_loss=2.6478]\n",
            "Epoch 2: 100%|██████████| 118/118 [00:05<00:00, 23.44it/s, D_loss=1.0735, G_loss=0.6564]\n",
            "Epoch 3: 100%|██████████| 118/118 [00:05<00:00, 23.37it/s, D_loss=0.8196, G_loss=1.3199]\n",
            "Epoch 4: 100%|██████████| 118/118 [00:05<00:00, 23.37it/s, D_loss=0.7293, G_loss=1.7100]\n",
            "Epoch 5: 100%|██████████| 118/118 [00:05<00:00, 23.26it/s, D_loss=0.7122, G_loss=1.4902]\n",
            "Epoch 6: 100%|██████████| 118/118 [00:05<00:00, 23.25it/s, D_loss=0.7148, G_loss=1.4607]\n",
            "Epoch 7: 100%|██████████| 118/118 [00:05<00:00, 22.96it/s, D_loss=0.7316, G_loss=1.0482]\n",
            "Epoch 8: 100%|██████████| 118/118 [00:05<00:00, 23.29it/s, D_loss=0.6141, G_loss=2.1311]\n",
            "Epoch 9: 100%|██████████| 118/118 [00:05<00:00, 23.30it/s, D_loss=0.6021, G_loss=1.3118]\n",
            "Epoch 10: 100%|██████████| 118/118 [00:05<00:00, 23.25it/s, D_loss=0.7482, G_loss=0.8180]\n",
            "Epoch 11: 100%|██████████| 118/118 [00:05<00:00, 23.14it/s, D_loss=0.8240, G_loss=1.5165]\n",
            "Epoch 12: 100%|██████████| 118/118 [00:05<00:00, 23.29it/s, D_loss=0.6607, G_loss=1.6883]\n",
            "Epoch 13: 100%|██████████| 118/118 [00:05<00:00, 23.34it/s, D_loss=0.7481, G_loss=1.9153]\n",
            "Epoch 14: 100%|██████████| 118/118 [00:05<00:00, 23.05it/s, D_loss=0.6812, G_loss=1.3276]\n",
            "Epoch 15: 100%|██████████| 118/118 [00:05<00:00, 23.23it/s, D_loss=0.9624, G_loss=0.6199]\n",
            "Epoch 16: 100%|██████████| 118/118 [00:05<00:00, 23.25it/s, D_loss=0.6516, G_loss=1.9939]\n",
            "Epoch 17: 100%|██████████| 118/118 [00:05<00:00, 23.15it/s, D_loss=0.6178, G_loss=1.4378]\n",
            "Epoch 18: 100%|██████████| 118/118 [00:05<00:00, 23.12it/s, D_loss=0.7708, G_loss=1.1503]\n",
            "Epoch 19: 100%|██████████| 118/118 [00:05<00:00, 23.16it/s, D_loss=0.6476, G_loss=1.2869]\n"
          ]
        }
      ],
      "source": [
        "device = 'cuda' if torch.cuda.is_available() else 'cpu'\n",
        "\n",
        "z_dim = 100\n",
        "G = Generator(z_dim).to(device)\n",
        "D = Discriminator().to(device)\n",
        "opt_G = torch.optim.Adam(G.parameters(), lr=2e-4, betas=(0.5, 0.999))\n",
        "opt_D = torch.optim.Adam(D.parameters(), lr=2e-4, betas=(0.5, 0.999))\n",
        "loss_fn = nn.BCELoss()\n",
        "\n",
        "transform = transforms.Compose([\n",
        "    transforms.ToTensor(),\n",
        "    transforms.Normalize([0.5],[0.5])  # [-1,1] range scaling\n",
        "])\n",
        "train_loader = DataLoader(\n",
        "    datasets.MNIST('.', train=True, download=True, transform=transform),\n",
        "    batch_size=512,\n",
        "    shuffle=True\n",
        ")\n",
        "\n",
        "os.makedirs(\"gan_gen_imgs\", exist_ok=True)\n",
        "fixed_z = torch.randn(4, z_dim, 1, 1, device=device)\n",
        "\n",
        "global_step = 0\n",
        "D_losses, G_losses = [], []\n",
        "for epoch in range(20):\n",
        "    pbar = tqdm(train_loader, desc=f\"Epoch {epoch}\")\n",
        "    for x, _ in pbar:\n",
        "        x = x.to(device)\n",
        "        batch_size = x.size(0)\n",
        "\n",
        "        # Train Discriminator\n",
        "        z = torch.randn(batch_size, z_dim, 1, 1, device=device)\n",
        "        fake = G(z).detach()\n",
        "\n",
        "        opt_D.zero_grad()\n",
        "        loss_real = loss_fn(D(x), torch.ones(batch_size, 1, device=device))\n",
        "        loss_fake = loss_fn(D(fake), torch.zeros(batch_size, 1, device=device))\n",
        "        loss_D = (loss_real + loss_fake)\n",
        "        D_losses.append(loss_D.item())\n",
        "        loss_D.backward()\n",
        "        opt_D.step()\n",
        "\n",
        "        # Train Generator\n",
        "        z = torch.randn(batch_size, z_dim, 1, 1, device=device)\n",
        "        fake = G(z)\n",
        "        opt_G.zero_grad()\n",
        "        loss_G = loss_fn(D(fake), torch.ones(batch_size, 1, device=device))\n",
        "        G_losses.append(loss_G.item())\n",
        "        loss_G.backward()\n",
        "        opt_G.step()\n",
        "\n",
        "        pbar.set_postfix({\"D_loss\": f\"{loss_D.item():.4f}\", \"G_loss\": f\"{loss_G.item():.4f}\"})\n",
        "\n",
        "        if global_step % 100 == 0:\n",
        "            with torch.no_grad():\n",
        "                save_step_images_for_gan(G, step=global_step, z=fixed_z)\n",
        "\n",
        "        global_step += 1\n"
      ]
    },
    {
      "cell_type": "markdown",
      "metadata": {
        "id": "BmvfOGKMsjKR"
      },
      "source": [
        "## 4. Visualization\n",
        "\n",
        "---"
      ]
    },
    {
      "cell_type": "code",
      "execution_count": 14,
      "metadata": {
        "id": "fvlhH6nSzyc_"
      },
      "outputs": [],
      "source": [
        "def load_step_images(step, gen_dir='gan_gen_imgs'):\n",
        "    gen_path = os.path.join(gen_dir, f'gen_{step:05d}.png')\n",
        "    gen_img = Image.open(gen_path)\n",
        "    return gen_img\n",
        "\n",
        "def show_images(step):\n",
        "    gen_img = load_step_images(step)\n",
        "    fig, ax = plt.subplots(figsize=(4, 4))\n",
        "    ax.imshow(gen_img)\n",
        "    ax.set_title(f\"Gen Step {step}\\n(fixed z shown)\")\n",
        "    ax.axis('off')\n",
        "    plt.tight_layout()\n",
        "    plt.show()\n",
        "\n",
        "if os.path.exists('gan_gen_imgs'):\n",
        "    saved_steps = sorted([\n",
        "        int(f.split('_')[-1].split('.')[0])\n",
        "        for f in os.listdir('gan_gen_imgs') if f.endswith('.png')\n",
        "    ])\n",
        "\n",
        "    if saved_steps:\n",
        "        step_slider = widgets.IntSlider(\n",
        "            value=saved_steps[0],\n",
        "            min=min(saved_steps),\n",
        "            max=max(saved_steps),\n",
        "            step=100,\n",
        "            description='Step:',\n",
        "            continuous_update=False\n",
        "        )\n",
        "\n",
        "        # widgets.interact(show_images, step=step_slider)"
      ]
    },
    {
      "cell_type": "code",
      "execution_count": 15,
      "metadata": {
        "colab": {
          "base_uri": "https://localhost:8080/",
          "height": 636,
          "referenced_widgets": [
            "32bf40eb36e3457a883b5d7409c9f7cb",
            "89d6c955f6ba4dd2a989c95d3739b225",
            "7692674c5f3e4cd3a0097d73f5912d4e",
            "1d6a1a505c12496a9402e85c49c1d3bf",
            "9726de19c94045bd8837721d57c40962",
            "c4385ea19d2e4f78a00e4b3e58d07101",
            "a517a5e2166343b9b311fa20fbb14d25"
          ]
        },
        "id": "i1StRLM9si1m",
        "outputId": "96dd6adb-f9f0-401a-d9f9-5ae17634bf97"
      },
      "outputs": [
        {
          "data": {
            "application/vnd.jupyter.widget-view+json": {
              "model_id": "cb5591772ad24f5e98805b8b91701273",
              "version_major": 2,
              "version_minor": 0
            },
            "text/plain": [
              "interactive(children=(IntSlider(value=0, continuous_update=False, description='Step:', max=2300, step=100), Ou…"
            ]
          },
          "metadata": {},
          "output_type": "display_data"
        },
        {
          "name": "stdout",
          "output_type": "stream",
          "text": [
            "\n",
            "\n"
          ]
        },
        {
          "data": {
            "image/png": "[encoded data removed]",
            "text/plain": [
              "<Figure size 1400x400 with 2 Axes>"
            ]
          },
          "metadata": {},
          "output_type": "display_data"
        }
      ],
      "source": [
        "widgets.interact(show_images, step=step_slider);\n",
        "print('\\n')\n",
        "fig, axs = plt.subplots(1, 2, figsize=(14, 4), sharex=True)\n",
        "\n",
        "axs[0].plot(D_losses, label='Discriminator Loss', color='blue')\n",
        "axs[0].set_title('Discriminator Loss (BCE) over Iteration')\n",
        "axs[0].set_xlabel('Iteration')\n",
        "axs[0].set_ylabel('Loss')\n",
        "axs[0].legend()\n",
        "axs[0].grid(True)\n",
        "\n",
        "axs[1].plot(G_losses, label='Generator Loss (BCE)', color='orange')\n",
        "axs[1].set_title('Generator Loss (BCE) over Iteration')\n",
        "axs[1].set_xlabel('Iteration')\n",
        "axs[1].set_ylabel('Loss')\n",
        "axs[1].legend()\n",
        "axs[1].grid(True)\n",
        "\n",
        "plt.tight_layout()\n",
        "plt.show()"
      ]
    },
    {
      "cell_type": "code",
      "execution_count": null,
      "metadata": {},
      "outputs": [],
      "source": []
    }
  ],
  "metadata": {
    "accelerator": "GPU",
    "colab": {
      "gpuType": "L4",
      "machine_shape": "hm",
      "provenance": []
    },
    "kernelspec": {
      "display_name": "sr_test",
      "language": "python",
      "name": "python3"
    },
    "language_info": {
      "codemirror_mode": {
        "name": "ipython",
        "version": 3
      },
      "file_extension": ".py",
      "mimetype": "text/x-python",
      "name": "python",
      "nbconvert_exporter": "python",
      "pygments_lexer": "ipython3",
      "version": "3.11.13"
    },
    "widgets": {
      "application/vnd.jupyter.widget-state+json": {
        "009e86e0ccbe48f399b97461c5592495": {
          "model_module": "@jupyter-widgets/base",
          "model_module_version": "1.2.0",
          "model_name": "LayoutModel",
          "state": {
            "_model_module": "@jupyter-widgets/base",
            "_model_module_version": "1.2.0",
            "_model_name": "LayoutModel",
            "_view_count": null,
            "_view_module": "@jupyter-widgets/base",
            "_view_module_version": "1.2.0",
            "_view_name": "LayoutView",
            "align_content": null,
            "align_items": null,
            "align_self": null,
            "border": null,
            "bottom": null,
            "display": null,
            "flex": null,
            "flex_flow": null,
            "grid_area": null,
            "grid_auto_columns": null,
            "grid_auto_flow": null,
            "grid_auto_rows": null,
            "grid_column": null,
            "grid_gap": null,
            "grid_row": null,
            "grid_template_areas": null,
            "grid_template_columns": null,
            "grid_template_rows": null,
            "height": null,
            "justify_content": null,
            "justify_items": null,
            "left": null,
            "margin": null,
            "max_height": null,
            "max_width": null,
            "min_height": null,
            "min_width": null,
            "object_fit": null,
            "object_position": null,
            "order": null,
            "overflow": null,
            "overflow_x": null,
            "overflow_y": null,
            "padding": null,
            "right": null,
            "top": null,
            "visibility": null,
            "width": null
          }
        },
        "09c6d6707cb440859c70f8ef22500859": {
          "model_module": "@jupyter-widgets/base",
          "model_module_version": "1.2.0",
          "model_name": "LayoutModel",
          "state": {
            "_model_module": "@jupyter-widgets/base",
            "_model_module_version": "1.2.0",
            "_model_name": "LayoutModel",
            "_view_count": null,
            "_view_module": "@jupyter-widgets/base",
            "_view_module_version": "1.2.0",
            "_view_name": "LayoutView",
            "align_content": null,
            "align_items": null,
            "align_self": null,
            "border": null,
            "bottom": null,
            "display": null,
            "flex": null,
            "flex_flow": null,
            "grid_area": null,
            "grid_auto_columns": null,
            "grid_auto_flow": null,
            "grid_auto_rows": null,
            "grid_column": null,
            "grid_gap": null,
            "grid_row": null,
            "grid_template_areas": null,
            "grid_template_columns": null,
            "grid_template_rows": null,
            "height": null,
            "justify_content": null,
            "justify_items": null,
            "left": null,
            "margin": null,
            "max_height": null,
            "max_width": null,
            "min_height": null,
            "min_width": null,
            "object_fit": null,
            "object_position": null,
            "order": null,
            "overflow": null,
            "overflow_x": null,
            "overflow_y": null,
            "padding": null,
            "right": null,
            "top": null,
            "visibility": null,
            "width": null
          }
        },
        "1d6a1a505c12496a9402e85c49c1d3bf": {
          "model_module": "@jupyter-widgets/base",
          "model_module_version": "1.2.0",
          "model_name": "LayoutModel",
          "state": {
            "_model_module": "@jupyter-widgets/base",
            "_model_module_version": "1.2.0",
            "_model_name": "LayoutModel",
            "_view_count": null,
            "_view_module": "@jupyter-widgets/base",
            "_view_module_version": "1.2.0",
            "_view_name": "LayoutView",
            "align_content": null,
            "align_items": null,
            "align_self": null,
            "border": null,
            "bottom": null,
            "display": null,
            "flex": null,
            "flex_flow": null,
            "grid_area": null,
            "grid_auto_columns": null,
            "grid_auto_flow": null,
            "grid_auto_rows": null,
            "grid_column": null,
            "grid_gap": null,
            "grid_row": null,
            "grid_template_areas": null,
            "grid_template_columns": null,
            "grid_template_rows": null,
            "height": null,
            "justify_content": null,
            "justify_items": null,
            "left": null,
            "margin": null,
            "max_height": null,
            "max_width": null,
            "min_height": null,
            "min_width": null,
            "object_fit": null,
            "object_position": null,
            "order": null,
            "overflow": null,
            "overflow_x": null,
            "overflow_y": null,
            "padding": null,
            "right": null,
            "top": null,
            "visibility": null,
            "width": null
          }
        },
        "32bf40eb36e3457a883b5d7409c9f7cb": {
          "model_module": "@jupyter-widgets/controls",
          "model_module_version": "1.5.0",
          "model_name": "VBoxModel",
          "state": {
            "_dom_classes": [
              "widget-interact"
            ],
            "_model_module": "@jupyter-widgets/controls",
            "_model_module_version": "1.5.0",
            "_model_name": "VBoxModel",
            "_view_count": null,
            "_view_module": "@jupyter-widgets/controls",
            "_view_module_version": "1.5.0",
            "_view_name": "VBoxView",
            "box_style": "",
            "children": [
              "IPY_MODEL_89d6c955f6ba4dd2a989c95d3739b225",
              "IPY_MODEL_7692674c5f3e4cd3a0097d73f5912d4e"
            ],
            "layout": "IPY_MODEL_1d6a1a505c12496a9402e85c49c1d3bf"
          }
        },
        "53d702b171a7448f8c59d6b075c54eb0": {
          "model_module": "@jupyter-widgets/base",
          "model_module_version": "1.2.0",
          "model_name": "LayoutModel",
          "state": {
            "_model_module": "@jupyter-widgets/base",
            "_model_module_version": "1.2.0",
            "_model_name": "LayoutModel",
            "_view_count": null,
            "_view_module": "@jupyter-widgets/base",
            "_view_module_version": "1.2.0",
            "_view_name": "LayoutView",
            "align_content": null,
            "align_items": null,
            "align_self": null,
            "border": null,
            "bottom": null,
            "display": null,
            "flex": null,
            "flex_flow": null,
            "grid_area": null,
            "grid_auto_columns": null,
            "grid_auto_flow": null,
            "grid_auto_rows": null,
            "grid_column": null,
            "grid_gap": null,
            "grid_row": null,
            "grid_template_areas": null,
            "grid_template_columns": null,
            "grid_template_rows": null,
            "height": null,
            "justify_content": null,
            "justify_items": null,
            "left": null,
            "margin": null,
            "max_height": null,
            "max_width": null,
            "min_height": null,
            "min_width": null,
            "object_fit": null,
            "object_position": null,
            "order": null,
            "overflow": null,
            "overflow_x": null,
            "overflow_y": null,
            "padding": null,
            "right": null,
            "top": null,
            "visibility": null,
            "width": null
          }
        },
        "7692674c5f3e4cd3a0097d73f5912d4e": {
          "model_module": "@jupyter-widgets/output",
          "model_module_version": "1.0.0",
          "model_name": "OutputModel",
          "state": {
            "_dom_classes": [],
            "_model_module": "@jupyter-widgets/output",
            "_model_module_version": "1.0.0",
            "_model_name": "OutputModel",
            "_view_count": null,
            "_view_module": "@jupyter-widgets/output",
            "_view_module_version": "1.0.0",
            "_view_name": "OutputView",
            "layout": "IPY_MODEL_a517a5e2166343b9b311fa20fbb14d25",
            "msg_id": "",
            "outputs": [
              {
                "data": {
                  "image/png": "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\n",
                  "text/plain": "<Figure size 400x400 with 1 Axes>"
                },
                "metadata": {},
                "output_type": "display_data"
              }
            ]
          }
        },
        "85bad76d20904b268699f50a0300b082": {
          "model_module": "@jupyter-widgets/controls",
          "model_module_version": "1.5.0",
          "model_name": "IntSliderModel",
          "state": {
            "_dom_classes": [],
            "_model_module": "@jupyter-widgets/controls",
            "_model_module_version": "1.5.0",
            "_model_name": "IntSliderModel",
            "_view_count": null,
            "_view_module": "@jupyter-widgets/controls",
            "_view_module_version": "1.5.0",
            "_view_name": "IntSliderView",
            "continuous_update": false,
            "description": "Step:",
            "description_tooltip": null,
            "disabled": false,
            "layout": "IPY_MODEL_09c6d6707cb440859c70f8ef22500859",
            "max": 1100,
            "min": 0,
            "orientation": "horizontal",
            "readout": true,
            "readout_format": "d",
            "step": 100,
            "style": "IPY_MODEL_b0ff30816e774c588779c1b827e83a3b",
            "value": 1100
          }
        },
        "89d6c955f6ba4dd2a989c95d3739b225": {
          "model_module": "@jupyter-widgets/controls",
          "model_module_version": "1.5.0",
          "model_name": "IntSliderModel",
          "state": {
            "_dom_classes": [],
            "_model_module": "@jupyter-widgets/controls",
            "_model_module_version": "1.5.0",
            "_model_name": "IntSliderModel",
            "_view_count": null,
            "_view_module": "@jupyter-widgets/controls",
            "_view_module_version": "1.5.0",
            "_view_name": "IntSliderView",
            "continuous_update": false,
            "description": "Step:",
            "description_tooltip": null,
            "disabled": false,
            "layout": "IPY_MODEL_9726de19c94045bd8837721d57c40962",
            "max": 2300,
            "min": 0,
            "orientation": "horizontal",
            "readout": true,
            "readout_format": "d",
            "step": 100,
            "style": "IPY_MODEL_c4385ea19d2e4f78a00e4b3e58d07101",
            "value": 2300
          }
        },
        "9726de19c94045bd8837721d57c40962": {
          "model_module": "@jupyter-widgets/base",
          "model_module_version": "1.2.0",
          "model_name": "LayoutModel",
          "state": {
            "_model_module": "@jupyter-widgets/base",
            "_model_module_version": "1.2.0",
            "_model_name": "LayoutModel",
            "_view_count": null,
            "_view_module": "@jupyter-widgets/base",
            "_view_module_version": "1.2.0",
            "_view_name": "LayoutView",
            "align_content": null,
            "align_items": null,
            "align_self": null,
            "border": null,
            "bottom": null,
            "display": null,
            "flex": null,
            "flex_flow": null,
            "grid_area": null,
            "grid_auto_columns": null,
            "grid_auto_flow": null,
            "grid_auto_rows": null,
            "grid_column": null,
            "grid_gap": null,
            "grid_row": null,
            "grid_template_areas": null,
            "grid_template_columns": null,
            "grid_template_rows": null,
            "height": null,
            "justify_content": null,
            "justify_items": null,
            "left": null,
            "margin": null,
            "max_height": null,
            "max_width": null,
            "min_height": null,
            "min_width": null,
            "object_fit": null,
            "object_position": null,
            "order": null,
            "overflow": null,
            "overflow_x": null,
            "overflow_y": null,
            "padding": null,
            "right": null,
            "top": null,
            "visibility": null,
            "width": null
          }
        },
        "a517a5e2166343b9b311fa20fbb14d25": {
          "model_module": "@jupyter-widgets/base",
          "model_module_version": "1.2.0",
          "model_name": "LayoutModel",
          "state": {
            "_model_module": "@jupyter-widgets/base",
            "_model_module_version": "1.2.0",
            "_model_name": "LayoutModel",
            "_view_count": null,
            "_view_module": "@jupyter-widgets/base",
            "_view_module_version": "1.2.0",
            "_view_name": "LayoutView",
            "align_content": null,
            "align_items": null,
            "align_self": null,
            "border": null,
            "bottom": null,
            "display": null,
            "flex": null,
            "flex_flow": null,
            "grid_area": null,
            "grid_auto_columns": null,
            "grid_auto_flow": null,
            "grid_auto_rows": null,
            "grid_column": null,
            "grid_gap": null,
            "grid_row": null,
            "grid_template_areas": null,
            "grid_template_columns": null,
            "grid_template_rows": null,
            "height": null,
            "justify_content": null,
            "justify_items": null,
            "left": null,
            "margin": null,
            "max_height": null,
            "max_width": null,
            "min_height": null,
            "min_width": null,
            "object_fit": null,
            "object_position": null,
            "order": null,
            "overflow": null,
            "overflow_x": null,
            "overflow_y": null,
            "padding": null,
            "right": null,
            "top": null,
            "visibility": null,
            "width": null
          }
        },
        "a89c156ad9f642e4b8e5ff3b2e42baaa": {
          "model_module": "@jupyter-widgets/output",
          "model_module_version": "1.0.0",
          "model_name": "OutputModel",
          "state": {
            "_dom_classes": [],
            "_model_module": "@jupyter-widgets/output",
            "_model_module_version": "1.0.0",
            "_model_name": "OutputModel",
            "_view_count": null,
            "_view_module": "@jupyter-widgets/output",
            "_view_module_version": "1.0.0",
            "_view_name": "OutputView",
            "layout": "IPY_MODEL_53d702b171a7448f8c59d6b075c54eb0",
            "msg_id": "",
            "outputs": [
              {
                "data": {
                  "image/png": "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\n",
                  "text/plain": "<Figure size 800x400 with 2 Axes>"
                },
                "metadata": {},
                "output_type": "display_data"
              }
            ]
          }
        },
        "b0ff30816e774c588779c1b827e83a3b": {
          "model_module": "@jupyter-widgets/controls",
          "model_module_version": "1.5.0",
          "model_name": "SliderStyleModel",
          "state": {
            "_model_module": "@jupyter-widgets/controls",
            "_model_module_version": "1.5.0",
            "_model_name": "SliderStyleModel",
            "_view_count": null,
            "_view_module": "@jupyter-widgets/base",
            "_view_module_version": "1.2.0",
            "_view_name": "StyleView",
            "description_width": "",
            "handle_color": null
          }
        },
        "c4385ea19d2e4f78a00e4b3e58d07101": {
          "model_module": "@jupyter-widgets/controls",
          "model_module_version": "1.5.0",
          "model_name": "SliderStyleModel",
          "state": {
            "_model_module": "@jupyter-widgets/controls",
            "_model_module_version": "1.5.0",
            "_model_name": "SliderStyleModel",
            "_view_count": null,
            "_view_module": "@jupyter-widgets/base",
            "_view_module_version": "1.2.0",
            "_view_name": "StyleView",
            "description_width": "",
            "handle_color": null
          }
        },
        "dbc24a07ae214c61bbab7740cb0e0be0": {
          "model_module": "@jupyter-widgets/controls",
          "model_module_version": "1.5.0",
          "model_name": "VBoxModel",
          "state": {
            "_dom_classes": [
              "widget-interact"
            ],
            "_model_module": "@jupyter-widgets/controls",
            "_model_module_version": "1.5.0",
            "_model_name": "VBoxModel",
            "_view_count": null,
            "_view_module": "@jupyter-widgets/controls",
            "_view_module_version": "1.5.0",
            "_view_name": "VBoxView",
            "box_style": "",
            "children": [
              "IPY_MODEL_85bad76d20904b268699f50a0300b082",
              "IPY_MODEL_a89c156ad9f642e4b8e5ff3b2e42baaa"
            ],
            "layout": "IPY_MODEL_009e86e0ccbe48f399b97461c5592495"
          }
        }
      }
    }
  },
  "nbformat": 4,
  "nbformat_minor": 0
}
