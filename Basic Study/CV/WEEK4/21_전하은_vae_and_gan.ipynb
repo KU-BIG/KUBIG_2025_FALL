{
  "cells": [
    {
      "cell_type": "markdown",
      "source": [
        "# Training VAE and GAN model\n",
        "\n",
        "colab에서 돌릴 경우, 런타임 유형을 GPU로 변경해주세요.\n",
        "\n",
        "MNIST dataset을 활용해 VAE, GAN 모델을 간단하게 구현해보는 것이 이번 과제입니다."
      ],
      "metadata": {
        "id": "llgBx3J-oMRO"
      }
    },
    {
      "cell_type": "markdown",
      "source": [
        "# Imports and set seed"
      ],
      "metadata": {
        "id": "a3I5tElZFDcD"
      }
    },
    {
      "cell_type": "code",
      "source": [
        "!pip install ipywidgets -q\n",
        "# !jupyter nbextension enable --py widgetsnbextension -q"
      ],
      "metadata": {
        "id": "mS6c1dwaF45C",
        "colab": {
          "base_uri": "https://localhost:8080/"
        },
        "outputId": "be5e8b32-be4a-45af-b38e-ee64a7d8f10f"
      },
      "execution_count": 1,
      "outputs": [
        {
          "output_type": "stream",
          "name": "stdout",
          "text": [
            "\u001b[?25l   \u001b[90m━━━━━━━━━━━━━━━━━━━━━━━━━━━━━━━━━━━━━━━━\u001b[0m \u001b[32m0.0/1.6 MB\u001b[0m \u001b[31m?\u001b[0m eta \u001b[36m-:--:--\u001b[0m\r\u001b[2K   \u001b[91m━━━━━━━━━━━━━━━━━━━━━━━━━━━━━━━━━━━━━━━\u001b[0m\u001b[91m╸\u001b[0m \u001b[32m1.6/1.6 MB\u001b[0m \u001b[31m44.3 MB/s\u001b[0m eta \u001b[36m0:00:01\u001b[0m\r\u001b[2K   \u001b[90m━━━━━━━━━━━━━━━━━━━━━━━━━━━━━━━━━━━━━━━━\u001b[0m \u001b[32m1.6/1.6 MB\u001b[0m \u001b[31m27.7 MB/s\u001b[0m eta \u001b[36m0:00:00\u001b[0m\n",
            "\u001b[?25h"
          ]
        }
      ]
    },
    {
      "cell_type": "code",
      "execution_count": 2,
      "metadata": {
        "id": "rL8dm3uXXEnE"
      },
      "outputs": [],
      "source": [
        "import os\n",
        "from tqdm import tqdm\n",
        "import random\n",
        "import numpy as np\n",
        "import matplotlib.pyplot as plt\n",
        "import torch\n",
        "import torch.nn as nn\n",
        "import torch.nn.functional as F\n",
        "from torch.utils.data import DataLoader\n",
        "from torch.optim import Adam\n",
        "from torchvision import datasets, transforms\n",
        "import torchvision.utils as vutils\n",
        "from IPython.display import display\n",
        "import ipywidgets as widgets\n",
        "from PIL import Image\n"
      ]
    },
    {
      "cell_type": "code",
      "source": [
        "def set_seed(seed=42):\n",
        "    random.seed(seed)\n",
        "    np.random.seed(seed)\n",
        "    torch.manual_seed(seed)\n",
        "    torch.cuda.manual_seed(seed)\n",
        "    torch.cuda.manual_seed_all(seed)  # if using multi-GPU\n",
        "    torch.backends.cudnn.deterministic = True\n",
        "    torch.backends.cudnn.benchmark = False\n",
        "    torch.use_deterministic_algorithms(False)  ##\n",
        "\n",
        "set_seed(1)"
      ],
      "metadata": {
        "id": "IjKgK9HxJdMz"
      },
      "execution_count": 3,
      "outputs": []
    },
    {
      "cell_type": "markdown",
      "source": [
        "# VAE Implementation"
      ],
      "metadata": {
        "id": "I9OOQofAIkZd"
      }
    },
    {
      "cell_type": "markdown",
      "source": [
        "### 1. Model design  - Problem 1\n",
        "\n",
        "---\n",
        "\n",
        "$Enc$, $Dec$ 모델을 자유롭게 구성해보세요.\n",
        "\n",
        "CNN 기반 아키텍쳐나 ViT 기반 아키텍쳐를 자유롭게 구성해도 좋습니다.\n",
        "\n",
        "이때 각 아키텍쳐 선택 요소에 맞게 epoch이나 여러 학습 파라미터를 Main training loop에서 수정해주셔야 합니다.\n",
        "\n",
        "입출력 $\\text{dim}$에 맞게 세팅하는 것에 유의해주세요.\n",
        "\n",
        "---\n"
      ],
      "metadata": {
        "id": "4EYzG4FUItly"
      }
    },
    {
      "cell_type": "code",
      "source": [
        "class ConvEncoder(nn.Module):\n",
        "    def __init__(self, latent_dim=32):\n",
        "        super().__init__()\n",
        "        self.conv = nn.Sequential(\n",
        "           nn.Conv2d(1, 32, 4, 2, 1),\n",
        "           nn.BatchNorm2d(32),\n",
        "           nn.LeakyReLU(0.2),\n",
        "\n",
        "           nn.Conv2d(32, 64, 4, 2, 1),\n",
        "           nn.BatchNorm2d(64),\n",
        "           nn.LeakyReLU(0.2),\n",
        "\n",
        "           nn.Flatten()\n",
        "\n",
        "        )\n",
        "        self.fc_mu = nn.Linear(64 * 7 * 7, latent_dim)\n",
        "        self.fc_logvar = nn.Linear(64 * 7 * 7, latent_dim)\n",
        "\n",
        "    def forward(self, x):\n",
        "        h = self.conv(x)\n",
        "        return self.fc_mu(h), self.fc_logvar(h)\n",
        "\n",
        "\n",
        "class ConvDecoder(nn.Module):\n",
        "    def __init__(self, latent_dim=32):\n",
        "        super().__init__()\n",
        "        self.fc = nn.Linear(latent_dim, 64*7*7)\n",
        "\n",
        "        self.deconv = nn.Sequential(\n",
        "            nn.ConvTranspose2d(64,32,4,2,1),\n",
        "            nn.BatchNorm2d(32),\n",
        "            nn.LeakyReLU(0.2),\n",
        "\n",
        "            nn.ConvTranspose2d(32,1, 4, 2, 1),\n",
        "            nn.Sigmoid()\n",
        "        )\n",
        "\n",
        "    def forward(self, z):\n",
        "        # 작성란 --------------------------------\n",
        "        h = self.fc(z).view(-1, 64, 7, 7)\n",
        "        #----------------------------------------\n",
        "        return self.deconv(h)\n"
      ],
      "metadata": {
        "id": "IcStCywcE6mI"
      },
      "execution_count": 4,
      "outputs": []
    },
    {
      "cell_type": "markdown",
      "source": [
        "reparameterization 과정에 대해 확인해보세요."
      ],
      "metadata": {
        "id": "EZv_xBb63_r6"
      }
    },
    {
      "cell_type": "code",
      "source": [
        "class VAE(nn.Module):\n",
        "    def __init__(self, latent_dim=64):\n",
        "        super().__init__()\n",
        "        self.encoder = ConvEncoder(latent_dim)\n",
        "        self.decoder = ConvDecoder(latent_dim)\n",
        "\n",
        "    def reparameterize(self, mu, logvar):\n",
        "        std = torch.exp(0.5 * logvar)\n",
        "        eps = torch.randn_like(std)\n",
        "        return mu + eps * std\n",
        "\n",
        "    def forward(self, x):\n",
        "        mu, logvar = self.encoder(x)\n",
        "        z = self.reparameterize(mu, logvar)\n",
        "        return self.decoder(z), mu, logvar\n"
      ],
      "metadata": {
        "id": "meqUKh45E_qD"
      },
      "execution_count": 5,
      "outputs": []
    },
    {
      "cell_type": "markdown",
      "source": [
        "### 2. Loss\n",
        "\n",
        "---\n",
        "\n",
        "$(\\text{Binary Cross Entropy + KL Divergence})$의 구조입니다.\n",
        "\n",
        "KLD term이 아래와 같은 방식으로 구해지는 이유에 대해 생각해보세요."
      ],
      "metadata": {
        "id": "QF-p96SWI03Q"
      }
    },
    {
      "cell_type": "code",
      "source": [
        "def vae_loss(x, recon_logits, mu, logvar, reduction='mean'):\n",
        "    BCE = F.binary_cross_entropy_with_logits(recon_logits, x, reduction='sum')\n",
        "    KLD = -0.5 * torch.sum(1 + logvar - mu.pow(2) - logvar.exp())\n",
        "    if reduction == 'mean':\n",
        "        div = x.size(0)\n",
        "        BCE = BCE / div\n",
        "        KLD = KLD / div\n",
        "    return BCE + KLD, BCE, KLD"
      ],
      "metadata": {
        "id": "LDO3khroGVNe"
      },
      "execution_count": 6,
      "outputs": []
    },
    {
      "cell_type": "markdown",
      "source": [
        "### 3. Visualization function\n",
        "\n",
        "---\n",
        "\n",
        "실행만 하고 넘어가시면 됩니다."
      ],
      "metadata": {
        "id": "Erkky9fzI_yh"
      }
    },
    {
      "cell_type": "code",
      "source": [
        "def save_step_images(model, step, imgs, z):\n",
        "    was_training = model.training\n",
        "    model.eval()\n",
        "    with torch.no_grad():\n",
        "        recon_logits, _, _ = model(imgs)\n",
        "        recon = torch.sigmoid(recon_logits)\n",
        "\n",
        "        recon_grid = torch.cat([imgs, recon], dim=0)\n",
        "        recon_grid = vutils.make_grid(recon_grid, nrow=4, normalize=True, pad_value=1)\n",
        "        vutils.save_image(recon_grid, f\"vae_recon_imgs/recon_{step:05d}.png\")\n",
        "\n",
        "        gen = torch.sigmoid(model.decoder(z))\n",
        "        gen_grid = vutils.make_grid(gen, nrow=4, normalize=True, pad_value=1)\n",
        "        vutils.save_image(gen_grid, f\"vae_gen_imgs/gen_{step:05d}.png\")\n",
        "\n",
        "    if was_training:\n",
        "        model.train(was_training)"
      ],
      "metadata": {
        "id": "yxhotu2hEoYd"
      },
      "execution_count": 7,
      "outputs": []
    },
    {
      "cell_type": "markdown",
      "source": [
        "## 4. Main train loop\n",
        "\n",
        "---\n",
        "\n",
        "batch size, epoch, learning rate와\n",
        "\n",
        "VAE latent dimension을 자유롭게 조절하면서 학습시켜보세요."
      ],
      "metadata": {
        "id": "t51JcflbJD7l"
      }
    },
    {
      "cell_type": "code",
      "source": [
        "device = 'cuda' if torch.cuda.is_available() else 'cpu'\n",
        "\n",
        "transform = transforms.Compose([transforms.ToTensor(),])\n",
        "train_loader = DataLoader(\n",
        "    datasets.MNIST('.', train=True, download=True, transform=transform),\n",
        "    batch_size=512,\n",
        "    shuffle=True\n",
        "    )\n",
        "\n",
        "latent_dim = 64\n",
        "model = VAE(latent_dim=latent_dim).to(device)\n",
        "optimizer = Adam(model.parameters(), lr=1e-3)\n",
        "scaler = torch.amp.GradScaler('cuda')\n",
        "\n",
        "# for visualization\n",
        "os.makedirs(\"vae_recon_imgs\", exist_ok=True)\n",
        "os.makedirs(\"vae_gen_imgs\", exist_ok=True)\n",
        "fixed_imgs, _ = next(iter(train_loader))\n",
        "fixed_imgs = fixed_imgs[:4].to(device)\n",
        "fixed_z = torch.randn(4, latent_dim).to(device)\n",
        "\n",
        "global_step = 0\n",
        "bce_losses, kld_losses = [], []\n",
        "for epoch in (range(10)):\n",
        "    model.train()\n",
        "    pbar = tqdm(train_loader, desc=f\"Epoch {epoch}\")\n",
        "    for x, _ in pbar:\n",
        "        x = x.to(device)\n",
        "        optimizer.zero_grad()\n",
        "\n",
        "        with torch.amp.autocast('cuda'):\n",
        "            recon, mu, logvar = model(x)\n",
        "            loss, bce, kld = vae_loss(x, recon, mu, logvar)\n",
        "\n",
        "        scaler.scale(loss).backward()\n",
        "        scaler.step(optimizer)\n",
        "        scaler.update()\n",
        "\n",
        "        bce_losses.append(bce.item())\n",
        "        kld_losses.append(kld.item())\n",
        "\n",
        "        pbar.set_postfix({\"loss\": f\"{loss.item():.4f}\"})\n",
        "\n",
        "        if global_step % 100 == 0:\n",
        "            with torch.no_grad():\n",
        "                save_step_images(model, step=global_step, imgs=fixed_imgs, z=fixed_z)\n",
        "\n",
        "        global_step += 1\n"
      ],
      "metadata": {
        "colab": {
          "base_uri": "https://localhost:8080/"
        },
        "id": "foJuKIX2GXt8",
        "outputId": "3b6c277a-8a3d-4212-9dc3-03574e5dfdc7"
      },
      "execution_count": 8,
      "outputs": [
        {
          "output_type": "stream",
          "name": "stderr",
          "text": [
            "100%|██████████| 9.91M/9.91M [00:00<00:00, 16.2MB/s]\n",
            "100%|██████████| 28.9k/28.9k [00:00<00:00, 484kB/s]\n",
            "100%|██████████| 1.65M/1.65M [00:00<00:00, 3.86MB/s]\n",
            "100%|██████████| 4.54k/4.54k [00:00<00:00, 9.74MB/s]\n",
            "Epoch 0: 100%|██████████| 118/118 [00:10<00:00, 11.75it/s, loss=550.7409]\n",
            "Epoch 1: 100%|██████████| 118/118 [00:08<00:00, 14.14it/s, loss=544.7263]\n",
            "Epoch 2: 100%|██████████| 118/118 [00:08<00:00, 14.15it/s, loss=541.0972]\n",
            "Epoch 3: 100%|██████████| 118/118 [00:07<00:00, 15.04it/s, loss=540.8704]\n",
            "Epoch 4: 100%|██████████| 118/118 [00:09<00:00, 12.92it/s, loss=540.0955]\n",
            "Epoch 5: 100%|██████████| 118/118 [00:08<00:00, 14.47it/s, loss=539.8338]\n",
            "Epoch 6: 100%|██████████| 118/118 [00:07<00:00, 15.82it/s, loss=540.6296]\n",
            "Epoch 7: 100%|██████████| 118/118 [00:08<00:00, 14.47it/s, loss=539.1555]\n",
            "Epoch 8: 100%|██████████| 118/118 [00:08<00:00, 14.36it/s, loss=540.5131]\n",
            "Epoch 9: 100%|██████████| 118/118 [00:07<00:00, 15.29it/s, loss=539.0387]\n"
          ]
        }
      ]
    },
    {
      "cell_type": "markdown",
      "source": [
        "## 5. Results visualization\n",
        "\n",
        "---\n",
        "\n",
        "아래 코드는 실행만 하면 됩니다. 바를 조절해 iteration별 학습 과정을 확인할 수 있습니다."
      ],
      "metadata": {
        "id": "svsaNz6OJqwn"
      }
    },
    {
      "cell_type": "code",
      "source": [
        "def load_step_images(step, recon_dir='vae_recon_imgs', gen_dir='vae_gen_imgs'):\n",
        "    recon_path = os.path.join(recon_dir, f'recon_{step:05d}.png')\n",
        "    gen_path = os.path.join(gen_dir, f'gen_{step:05d}.png')\n",
        "    return Image.open(recon_path), Image.open(gen_path)\n",
        "\n",
        "def show_images(step):\n",
        "    recon_img, gen_img = load_step_images(step)\n",
        "    fig, axs = plt.subplots(1, 2, figsize=(8, 4))\n",
        "    axs[0].imshow(recon_img)\n",
        "    axs[0].set_title(f\"Recon Step {step}\")\n",
        "    axs[0].axis('off')\n",
        "\n",
        "    axs[1].imshow(gen_img)\n",
        "    axs[1].set_title(f\"Gen Step {step}\")\n",
        "    axs[1].axis('off')\n",
        "    plt.tight_layout()\n",
        "    plt.show()\n",
        "\n",
        "saved_steps = sorted([\n",
        "    int(f.split('_')[-1].split('.')[0])\n",
        "    for f in os.listdir('vae_recon_imgs') if f.endswith('.png')\n",
        "])\n",
        "\n",
        "step_slider = widgets.IntSlider(\n",
        "    value=saved_steps[0],\n",
        "    min=min(saved_steps),\n",
        "    max=max(saved_steps),\n",
        "    step=100,\n",
        "    description='Step:',\n",
        "    continuous_update=False\n",
        ")\n",
        "\n",
        "# widgets.interact(show_images, step=step_slider);"
      ],
      "metadata": {
        "id": "n4KkqTHOJqHf"
      },
      "execution_count": 9,
      "outputs": []
    },
    {
      "cell_type": "code",
      "source": [
        "widgets.interact(show_images, step=step_slider);\n",
        "print('\\n')\n",
        "fig, axs = plt.subplots(1, 2, figsize=(12, 4), sharex=True)\n",
        "\n",
        "# BCE Loss subplot\n",
        "axs[0].plot(bce_losses, label='BCE Loss')\n",
        "axs[0].set_title('BCE Loss over Total Iteration')\n",
        "axs[0].set_xlabel('Iteration')\n",
        "axs[0].set_ylabel('BCE Loss')\n",
        "axs[0].legend()\n",
        "\n",
        "# KLD Loss subplot\n",
        "axs[1].plot(kld_losses, label='KLD Loss', color='orange')\n",
        "axs[1].set_title('KLD Loss over Total Iteration')\n",
        "axs[1].set_xlabel('Iteration')\n",
        "axs[1].set_ylabel('KLD Loss')\n",
        "axs[1].legend()\n",
        "\n",
        "plt.tight_layout()\n",
        "plt.show()\n"
      ],
      "metadata": {
        "colab": {
          "base_uri": "https://localhost:8080/",
          "height": 696,
          "referenced_widgets": [
            "efa57dc84513494aa7c4fbe6207269d4",
            "b94302907afa41908c09392c441956a0",
            "7d20dd6c037c4d4991d49d79a69fc9f6",
            "cbe104bf7a38413aafe317b6914a5124",
            "e1613a078d2c489bb27515311806c163",
            "c494fc4bbcb94665968d033888ed55d2",
            "5c635ea15dc543f883d598c421385b2e"
          ]
        },
        "id": "2Stm3zPaIVzL",
        "outputId": "4e1db246-f9b8-401b-fbaa-8ba355ecfbb6"
      },
      "execution_count": 10,
      "outputs": [
        {
          "output_type": "display_data",
          "data": {
            "text/plain": [
              "interactive(children=(IntSlider(value=0, continuous_update=False, description='Step:', max=1100, step=100), Ou…"
            ],
            "application/vnd.jupyter.widget-view+json": {
              "version_major": 2,
              "version_minor": 0,
              "model_id": "efa57dc84513494aa7c4fbe6207269d4"
            }
          },
          "metadata": {}
        },
        {
          "output_type": "stream",
          "name": "stdout",
          "text": [
            "\n",
            "\n"
          ]
        },
        {
          "output_type": "display_data",
          "data": {
            "text/plain": [
              "<Figure size 1200x400 with 2 Axes>"
            ],
            "image/png": "[encoded data removed]"
          },
          "metadata": {}
        }
      ]
    },
    {
      "cell_type": "markdown",
      "source": [
        "---\n",
        "___\n",
        "\n",
        "# GAN Implementation"
      ],
      "metadata": {
        "id": "Tm9Op-vOJKC8"
      }
    },
    {
      "cell_type": "markdown",
      "source": [
        "## 1. Model Design - Problem 2\n",
        "\n",
        "---\n",
        "\n",
        "$Generator$, $Discriminator$ 모델을 자유롭게 구성해보세요. 입출력 $\\text{dim}$에 맞게 세팅하는 것에 유의해주세요."
      ],
      "metadata": {
        "id": "uED-DGkwlIql"
      }
    },
    {
      "cell_type": "code",
      "source": [
        "from torch.nn import functional as F"
      ],
      "metadata": {
        "id": "F-oHJaeDRaUH"
      },
      "execution_count": 11,
      "outputs": []
    },
    {
      "cell_type": "code",
      "execution_count": 12,
      "metadata": {
        "id": "pWFzINayh3ps"
      },
      "outputs": [],
      "source": [
        "# Generator (28x28 이미지 생성)\n",
        "class Generator(nn.Module):\n",
        "    def __init__(self, z_dim=100):\n",
        "        super().__init__()\n",
        "        # Linear layer로 시작해서 reshape\n",
        "        self.linear = nn.Linear(z_dim, 128 * 7 * 7)\n",
        "\n",
        "        self.conv_layers = nn.Sequential(\n",
        "            # 128 x 7 x 7 -> 64 x 14 x 14\n",
        "            nn.ConvTranspose2d(128, 64, kernel_size=4, stride=2, padding=1, bias=False),\n",
        "            nn.BatchNorm2d(64),\n",
        "            nn.ReLU(True),\n",
        "\n",
        "            # 64 x 14 x 14 -> 32 x 28 x 28\n",
        "            nn.ConvTranspose2d(64, 32, kernel_size=4, stride=2, padding=1, bias=False),\n",
        "            nn.BatchNorm2d(32),\n",
        "            nn.ReLU(True),\n",
        "\n",
        "            # 32 x 28 x 28 -> 1 x 28 x 28\n",
        "            nn.Conv2d(32, 1, kernel_size=3, stride=1, padding=1, bias=False),\n",
        "            nn.Tanh()\n",
        "        )\n",
        "\n",
        "    def forward(self, z):\n",
        "        # z shape: [batch_size, z_dim]\n",
        "        x = self.linear(z.view(z.size(0), -1))  # [batch_size, 128*7*7]\n",
        "        x = x.view(x.size(0), 128, 7, 7)  # [batch_size, 128, 7, 7]\n",
        "        x = self.conv_layers(x)\n",
        "        return x\n",
        "\n",
        "# Discriminator\n",
        "class Discriminator(nn.Module):\n",
        "    def __init__(self):\n",
        "      super().__init__()\n",
        "      self.net = nn.Sequential(\n",
        "              # 1 x 28 x 28 -> 32 x 14 x 14\n",
        "              nn.Conv2d(1, 32, kernel_size=4, stride=2, padding=1),\n",
        "              nn.LeakyReLU(0.2, inplace=True),\n",
        "              nn.Dropout2d(0.25),\n",
        "\n",
        "              # 32 x 14 x 14 -> 64 x 7 x 7\n",
        "              nn.Conv2d(32, 64, kernel_size=4, stride=2, padding=1),\n",
        "              nn.BatchNorm2d(64),\n",
        "              nn.LeakyReLU(0.2, inplace=True),\n",
        "              nn.Dropout2d(0.25),\n",
        "\n",
        "              # 64 x 7 x 7 -> 128 x 3 x 3\n",
        "              nn.Conv2d(64, 128, kernel_size=4, stride=2, padding=1),\n",
        "              nn.BatchNorm2d(128),\n",
        "              nn.LeakyReLU(0.2, inplace=True),\n",
        "              nn.Dropout2d(0.25),\n",
        "\n",
        "              # Flatten and classify\n",
        "              nn.Flatten(),\n",
        "              nn.Linear(128 * 3 * 3, 1),\n",
        "              nn.Sigmoid()\n",
        "          )\n",
        "\n",
        "    def forward(self, x):\n",
        "      out = self.net(x)\n",
        "      return out.view(-1)"
      ]
    },
    {
      "cell_type": "markdown",
      "source": [
        "## 2. Visualization fuction\n",
        "\n",
        "---"
      ],
      "metadata": {
        "id": "mD8qeD60q2qk"
      }
    },
    {
      "cell_type": "code",
      "source": [
        "def save_step_images_for_gan(model, step, z):\n",
        "    was_training = model.training\n",
        "    model.eval()\n",
        "    with torch.no_grad():\n",
        "        fake = model(z).detach()\n",
        "        # fake = (fake + 1) / 2  # [-1, 1] → [0, 1]\n",
        "        gen_grid = vutils.make_grid(fake, nrow=4, normalize=True, pad_value=1)\n",
        "        vutils.save_image(gen_grid, f\"gan_gen_imgs/gen_{step:05d}.png\")\n",
        "    if was_training:\n",
        "        model.train(was_training)"
      ],
      "metadata": {
        "id": "D8ioLX7Mq2yH"
      },
      "execution_count": 13,
      "outputs": []
    },
    {
      "cell_type": "markdown",
      "source": [
        "## 3. Main training loop\n",
        "\n",
        "---"
      ],
      "metadata": {
        "id": "R1hGgrSUsobG"
      }
    },
    {
      "cell_type": "code",
      "source": [
        "train_loader = DataLoader(\n",
        "    datasets.MNIST('.', train=True, download=True, transform=transform),\n",
        "    batch_size=32, # 512에서 32로 변경\n",
        "    shuffle=True\n",
        ")"
      ],
      "metadata": {
        "id": "tSCW4JsDYhhP"
      },
      "execution_count": 14,
      "outputs": []
    },
    {
      "cell_type": "code",
      "source": [
        "# device = torch.device('cpu')\n",
        "device = torch.device('cuda' if torch.cuda.is_available() else 'cpu')\n",
        "\n",
        "z_dim = 100\n",
        "G = Generator(z_dim).to(device)\n",
        "D = Discriminator().to(device)\n",
        "opt_G = torch.optim.Adam(G.parameters(), lr=1e-4, betas=(0.5, 0.999))\n",
        "opt_D = torch.optim.Adam(D.parameters(), lr=1e-4, betas=(0.5, 0.999))\n",
        "loss_fn = nn.BCELoss()\n",
        "\n",
        "transform = transforms.Compose([\n",
        "    transforms.ToTensor(),\n",
        "    transforms.Normalize([0.5],[0.5])  # [-1,1] range scaling : Tanh 출력이므로 [-1,1]로 정규화\n",
        "])\n",
        "train_loader = DataLoader(\n",
        "    datasets.MNIST('.', train=True, download=True, transform=transform),\n",
        "    batch_size=512,\n",
        "    shuffle=True\n",
        ")\n",
        "\n",
        "os.makedirs(\"gan_gen_imgs\", exist_ok=True)\n",
        "fixed_z = torch.randn(4, z_dim, 1, 1, device=device)\n",
        "\n",
        "global_step = 0\n",
        "D_losses, G_losses = [], []\n",
        "\n",
        "torch.autograd.set_detect_anomaly(True) # Added for debugging\n",
        "\n",
        "for epoch in range(20):\n",
        "    pbar = tqdm(train_loader, desc=f\"Epoch {epoch}\")\n",
        "    for x, _ in pbar:\n",
        "        x = x.to(device)\n",
        "        batch_size = x.size(0)\n",
        "\n",
        "        # Train Discriminator\n",
        "        z = torch.randn(batch_size, z_dim, 1, 1, device=device)\n",
        "        fake = G(z).detach()\n",
        "\n",
        "        opt_D.zero_grad()\n",
        "        pred_real = torch.clamp(D(x).view(-1), 1e-8, 1 - 1e-8)\n",
        "        pred_fake = torch.clamp(D(fake).view(-1), 1e-8, 1 - 1e-8)\n",
        "\n",
        "        loss_real = loss_fn(pred_real, torch.ones(batch_size, device=device))\n",
        "        loss_fake = loss_fn(pred_fake, torch.zeros(batch_size, device=device))\n",
        "        loss_D = loss_real + loss_fake\n",
        "        D_losses.append(loss_D.item())\n",
        "        loss_D.backward()\n",
        "        opt_D.step()\n",
        "\n",
        "        # Train Generator\n",
        "        z = torch.randn(batch_size, z_dim, 1, 1, device=device)\n",
        "        fake = G(z)\n",
        "        opt_G.zero_grad()\n",
        "\n",
        "        pred_fake_for_G = torch.clamp(D(fake).view(-1), 1e-8, 1 - 1e-8)\n",
        "        loss_G = loss_fn(pred_fake_for_G, torch.ones(batch_size, device=device))\n",
        "        G_losses.append(loss_G.item())\n",
        "        loss_G.backward()\n",
        "        opt_G.step()\n",
        "\n",
        "        pbar.set_postfix({\"D_loss\": f\"{loss_D.item():.4f}\", \"G_loss\": f\"{loss_G.item():.4f}\"})\n",
        "\n",
        "        if global_step % 100 == 0:\n",
        "            with torch.no_grad():\n",
        "                save_step_images_for_gan(G, step=global_step, z=fixed_z)\n",
        "\n",
        "        global_step += 1"
      ],
      "metadata": {
        "colab": {
          "base_uri": "https://localhost:8080/"
        },
        "id": "2rEQ8E-glRhY",
        "outputId": "4888f94d-20ba-40c7-b6e0-717b0a12c3e7"
      },
      "execution_count": 15,
      "outputs": [
        {
          "output_type": "stream",
          "name": "stderr",
          "text": [
            "Epoch 0: 100%|██████████| 118/118 [00:24<00:00,  4.89it/s, D_loss=0.8671, G_loss=1.8179]\n",
            "Epoch 1: 100%|██████████| 118/118 [00:22<00:00,  5.22it/s, D_loss=0.9958, G_loss=0.7123]\n",
            "Epoch 2: 100%|██████████| 118/118 [00:22<00:00,  5.32it/s, D_loss=1.0980, G_loss=1.1092]\n",
            "Epoch 3: 100%|██████████| 118/118 [00:21<00:00,  5.38it/s, D_loss=1.0218, G_loss=1.5859]\n",
            "Epoch 4: 100%|██████████| 118/118 [00:22<00:00,  5.20it/s, D_loss=0.9234, G_loss=1.2245]\n",
            "Epoch 5: 100%|██████████| 118/118 [00:22<00:00,  5.18it/s, D_loss=0.9727, G_loss=1.0801]\n",
            "Epoch 6: 100%|██████████| 118/118 [00:22<00:00,  5.25it/s, D_loss=1.1533, G_loss=0.9749]\n",
            "Epoch 7: 100%|██████████| 118/118 [00:23<00:00,  5.07it/s, D_loss=0.9025, G_loss=0.7242]\n",
            "Epoch 8: 100%|██████████| 118/118 [00:22<00:00,  5.28it/s, D_loss=1.2855, G_loss=0.9562]\n",
            "Epoch 9: 100%|██████████| 118/118 [00:22<00:00,  5.24it/s, D_loss=1.1721, G_loss=1.1550]\n",
            "Epoch 10: 100%|██████████| 118/118 [00:22<00:00,  5.29it/s, D_loss=1.2953, G_loss=1.1807]\n",
            "Epoch 11: 100%|██████████| 118/118 [00:22<00:00,  5.18it/s, D_loss=1.0843, G_loss=1.1521]\n",
            "Epoch 12: 100%|██████████| 118/118 [00:23<00:00,  5.02it/s, D_loss=1.0665, G_loss=0.9074]\n",
            "Epoch 13: 100%|██████████| 118/118 [00:23<00:00,  5.11it/s, D_loss=1.1353, G_loss=0.9040]\n",
            "Epoch 14: 100%|██████████| 118/118 [00:23<00:00,  5.10it/s, D_loss=1.2342, G_loss=0.9462]\n",
            "Epoch 15: 100%|██████████| 118/118 [00:22<00:00,  5.17it/s, D_loss=1.2554, G_loss=0.9501]\n",
            "Epoch 16: 100%|██████████| 118/118 [00:22<00:00,  5.20it/s, D_loss=1.2669, G_loss=1.2005]\n",
            "Epoch 17: 100%|██████████| 118/118 [00:23<00:00,  4.98it/s, D_loss=1.1704, G_loss=0.5582]\n",
            "Epoch 18: 100%|██████████| 118/118 [00:22<00:00,  5.22it/s, D_loss=1.2385, G_loss=1.1639]\n",
            "Epoch 19: 100%|██████████| 118/118 [00:22<00:00,  5.33it/s, D_loss=1.3129, G_loss=0.8194]\n"
          ]
        }
      ]
    },
    {
      "cell_type": "markdown",
      "source": [
        "## 4. Visualization\n",
        "\n",
        "---"
      ],
      "metadata": {
        "id": "BmvfOGKMsjKR"
      }
    },
    {
      "cell_type": "code",
      "execution_count": 16,
      "metadata": {
        "id": "fvlhH6nSzyc_"
      },
      "outputs": [],
      "source": [
        "def load_step_images(step, gen_dir='gan_gen_imgs'):\n",
        "    gen_path = os.path.join(gen_dir, f'gen_{step:05d}.png')\n",
        "    gen_img = Image.open(gen_path)\n",
        "    return gen_img\n",
        "\n",
        "def show_images(step):\n",
        "    gen_img = load_step_images(step)\n",
        "    fig, ax = plt.subplots(figsize=(4, 4))\n",
        "    ax.imshow(gen_img)\n",
        "    ax.set_title(f\"Gen Step {step}\\n(fixed z shown)\")\n",
        "    ax.axis('off')\n",
        "    plt.tight_layout()\n",
        "    plt.show()\n",
        "\n",
        "if os.path.exists('gan_gen_imgs'):\n",
        "    saved_steps = sorted([\n",
        "        int(f.split('_')[-1].split('.')[0])\n",
        "        for f in os.listdir('gan_gen_imgs') if f.endswith('.png')\n",
        "    ])\n",
        "\n",
        "    if saved_steps:\n",
        "        step_slider = widgets.IntSlider(\n",
        "            value=saved_steps[0],\n",
        "            min=min(saved_steps),\n",
        "            max=max(saved_steps),\n",
        "            step=100,\n",
        "            description='Step:',\n",
        "            continuous_update=False\n",
        "        )\n",
        "\n",
        "        # widgets.interact(show_images, step=step_slider)"
      ]
    },
    {
      "cell_type": "code",
      "source": [
        "widgets.interact(show_images, step=step_slider);\n",
        "print('\\n')\n",
        "fig, axs = plt.subplots(1, 2, figsize=(14, 4), sharex=True)\n",
        "\n",
        "axs[0].plot(D_losses, label='Discriminator Loss', color='blue')\n",
        "axs[0].set_title('Discriminator Loss (BCE) over Iteration')\n",
        "axs[0].set_xlabel('Iteration')\n",
        "axs[0].set_ylabel('Loss')\n",
        "axs[0].legend()\n",
        "axs[0].grid(True)\n",
        "\n",
        "axs[1].plot(G_losses, label='Generator Loss (BCE)', color='orange')\n",
        "axs[1].set_title('Generator Loss (BCE) over Iteration')\n",
        "axs[1].set_xlabel('Iteration')\n",
        "axs[1].set_ylabel('Loss')\n",
        "axs[1].legend()\n",
        "axs[1].grid(True)\n",
        "\n",
        "plt.tight_layout()\n",
        "plt.show()"
      ],
      "metadata": {
        "colab": {
          "base_uri": "https://localhost:8080/",
          "height": 567,
          "referenced_widgets": [
            "2bafb0a920f94dbebc4e4c550702b8ac",
            "1d27f29c7c234d529b29eacdbb10c127",
            "a2705adee29a4de094cec321fe9f35f6",
            "0faa16a9379d4f9f967cedc0f6dcde29",
            "5bb4c68c52234f89b35e882ea7885f30",
            "cf906583d405465b9be2c8b82fcb1140",
            "353d9d2f2b134f74ab9235964d2d2dc6"
          ]
        },
        "id": "i1StRLM9si1m",
        "outputId": "e364690f-2e74-481b-eb26-13b53dfc03d2"
      },
      "execution_count": 17,
      "outputs": [
        {
          "output_type": "display_data",
          "data": {
            "text/plain": [
              "interactive(children=(IntSlider(value=0, continuous_update=False, description='Step:', max=2300, step=100), Ou…"
            ],
            "application/vnd.jupyter.widget-view+json": {
              "version_major": 2,
              "version_minor": 0,
              "model_id": "2bafb0a920f94dbebc4e4c550702b8ac"
            }
          },
          "metadata": {}
        },
        {
          "output_type": "stream",
          "name": "stdout",
          "text": [
            "\n",
            "\n"
          ]
        },
        {
          "output_type": "display_data",
          "data": {
            "text/plain": [
              "<Figure size 1400x400 with 2 Axes>"
            ],
            "image/png": "[encoded data removed]"
          },
          "metadata": {}
        }
      ]
    }
  ],
  "metadata": {
    "accelerator": "GPU",
    "colab": {
      "gpuType": "T4",
      "provenance": []
    },
    "kernelspec": {
      "display_name": "Python 3",
      "name": "python3"
    },
    "language_info": {
      "name": "python"
    },
    "widgets": {
      "application/vnd.jupyter.widget-state+json": {
        "efa57dc84513494aa7c4fbe6207269d4": {
          "model_module": "@jupyter-widgets/controls",
          "model_name": "VBoxModel",
          "model_module_version": "1.5.0",
          "state": {
            "_dom_classes": [
              "widget-interact"
            ],
            "_model_module": "@jupyter-widgets/controls",
            "_model_module_version": "1.5.0",
            "_model_name": "VBoxModel",
            "_view_count": null,
            "_view_module": "@jupyter-widgets/controls",
            "_view_module_version": "1.5.0",
            "_view_name": "VBoxView",
            "box_style": "",
            "children": [
              "IPY_MODEL_b94302907afa41908c09392c441956a0",
              "IPY_MODEL_7d20dd6c037c4d4991d49d79a69fc9f6"
            ],
            "layout": "IPY_MODEL_cbe104bf7a38413aafe317b6914a5124"
          }
        },
        "b94302907afa41908c09392c441956a0": {
          "model_module": "@jupyter-widgets/controls",
          "model_name": "IntSliderModel",
          "model_module_version": "1.5.0",
          "state": {
            "_dom_classes": [],
            "_model_module": "@jupyter-widgets/controls",
            "_model_module_version": "1.5.0",
            "_model_name": "IntSliderModel",
            "_view_count": null,
            "_view_module": "@jupyter-widgets/controls",
            "_view_module_version": "1.5.0",
            "_view_name": "IntSliderView",
            "continuous_update": false,
            "description": "Step:",
            "description_tooltip": null,
            "disabled": false,
            "layout": "IPY_MODEL_e1613a078d2c489bb27515311806c163",
            "max": 1100,
            "min": 0,
            "orientation": "horizontal",
            "readout": true,
            "readout_format": "d",
            "step": 100,
            "style": "IPY_MODEL_c494fc4bbcb94665968d033888ed55d2",
            "value": 0
          }
        },
        "7d20dd6c037c4d4991d49d79a69fc9f6": {
          "model_module": "@jupyter-widgets/output",
          "model_name": "OutputModel",
          "model_module_version": "1.0.0",
          "state": {
            "_dom_classes": [],
            "_model_module": "@jupyter-widgets/output",
            "_model_module_version": "1.0.0",
            "_model_name": "OutputModel",
            "_view_count": null,
            "_view_module": "@jupyter-widgets/output",
            "_view_module_version": "1.0.0",
            "_view_name": "OutputView",
            "layout": "IPY_MODEL_5c635ea15dc543f883d598c421385b2e",
            "msg_id": "",
            "outputs": [
              {
                "output_type": "display_data",
                "data": {
                  "text/plain": "<Figure size 800x400 with 2 Axes>",
                  "image/png": "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\n"
                },
                "metadata": {}
              }
            ]
          }
        },
        "cbe104bf7a38413aafe317b6914a5124": {
          "model_module": "@jupyter-widgets/base",
          "model_name": "LayoutModel",
          "model_module_version": "1.2.0",
          "state": {
            "_model_module": "@jupyter-widgets/base",
            "_model_module_version": "1.2.0",
            "_model_name": "LayoutModel",
            "_view_count": null,
            "_view_module": "@jupyter-widgets/base",
            "_view_module_version": "1.2.0",
            "_view_name": "LayoutView",
            "align_content": null,
            "align_items": null,
            "align_self": null,
            "border": null,
            "bottom": null,
            "display": null,
            "flex": null,
            "flex_flow": null,
            "grid_area": null,
            "grid_auto_columns": null,
            "grid_auto_flow": null,
            "grid_auto_rows": null,
            "grid_column": null,
            "grid_gap": null,
            "grid_row": null,
            "grid_template_areas": null,
            "grid_template_columns": null,
            "grid_template_rows": null,
            "height": null,
            "justify_content": null,
            "justify_items": null,
            "left": null,
            "margin": null,
            "max_height": null,
            "max_width": null,
            "min_height": null,
            "min_width": null,
            "object_fit": null,
            "object_position": null,
            "order": null,
            "overflow": null,
            "overflow_x": null,
            "overflow_y": null,
            "padding": null,
            "right": null,
            "top": null,
            "visibility": null,
            "width": null
          }
        },
        "e1613a078d2c489bb27515311806c163": {
          "model_module": "@jupyter-widgets/base",
          "model_name": "LayoutModel",
          "model_module_version": "1.2.0",
          "state": {
            "_model_module": "@jupyter-widgets/base",
            "_model_module_version": "1.2.0",
            "_model_name": "LayoutModel",
            "_view_count": null,
            "_view_module": "@jupyter-widgets/base",
            "_view_module_version": "1.2.0",
            "_view_name": "LayoutView",
            "align_content": null,
            "align_items": null,
            "align_self": null,
            "border": null,
            "bottom": null,
            "display": null,
            "flex": null,
            "flex_flow": null,
            "grid_area": null,
            "grid_auto_columns": null,
            "grid_auto_flow": null,
            "grid_auto_rows": null,
            "grid_column": null,
            "grid_gap": null,
            "grid_row": null,
            "grid_template_areas": null,
            "grid_template_columns": null,
            "grid_template_rows": null,
            "height": null,
            "justify_content": null,
            "justify_items": null,
            "left": null,
            "margin": null,
            "max_height": null,
            "max_width": null,
            "min_height": null,
            "min_width": null,
            "object_fit": null,
            "object_position": null,
            "order": null,
            "overflow": null,
            "overflow_x": null,
            "overflow_y": null,
            "padding": null,
            "right": null,
            "top": null,
            "visibility": null,
            "width": null
          }
        },
        "c494fc4bbcb94665968d033888ed55d2": {
          "model_module": "@jupyter-widgets/controls",
          "model_name": "SliderStyleModel",
          "model_module_version": "1.5.0",
          "state": {
            "_model_module": "@jupyter-widgets/controls",
            "_model_module_version": "1.5.0",
            "_model_name": "SliderStyleModel",
            "_view_count": null,
            "_view_module": "@jupyter-widgets/base",
            "_view_module_version": "1.2.0",
            "_view_name": "StyleView",
            "description_width": "",
            "handle_color": null
          }
        },
        "5c635ea15dc543f883d598c421385b2e": {
          "model_module": "@jupyter-widgets/base",
          "model_name": "LayoutModel",
          "model_module_version": "1.2.0",
          "state": {
            "_model_module": "@jupyter-widgets/base",
            "_model_module_version": "1.2.0",
            "_model_name": "LayoutModel",
            "_view_count": null,
            "_view_module": "@jupyter-widgets/base",
            "_view_module_version": "1.2.0",
            "_view_name": "LayoutView",
            "align_content": null,
            "align_items": null,
            "align_self": null,
            "border": null,
            "bottom": null,
            "display": null,
            "flex": null,
            "flex_flow": null,
            "grid_area": null,
            "grid_auto_columns": null,
            "grid_auto_flow": null,
            "grid_auto_rows": null,
            "grid_column": null,
            "grid_gap": null,
            "grid_row": null,
            "grid_template_areas": null,
            "grid_template_columns": null,
            "grid_template_rows": null,
            "height": null,
            "justify_content": null,
            "justify_items": null,
            "left": null,
            "margin": null,
            "max_height": null,
            "max_width": null,
            "min_height": null,
            "min_width": null,
            "object_fit": null,
            "object_position": null,
            "order": null,
            "overflow": null,
            "overflow_x": null,
            "overflow_y": null,
            "padding": null,
            "right": null,
            "top": null,
            "visibility": null,
            "width": null
          }
        },
        "2bafb0a920f94dbebc4e4c550702b8ac": {
          "model_module": "@jupyter-widgets/controls",
          "model_name": "VBoxModel",
          "model_module_version": "1.5.0",
          "state": {
            "_dom_classes": [
              "widget-interact"
            ],
            "_model_module": "@jupyter-widgets/controls",
            "_model_module_version": "1.5.0",
            "_model_name": "VBoxModel",
            "_view_count": null,
            "_view_module": "@jupyter-widgets/controls",
            "_view_module_version": "1.5.0",
            "_view_name": "VBoxView",
            "box_style": "",
            "children": [
              "IPY_MODEL_1d27f29c7c234d529b29eacdbb10c127",
              "IPY_MODEL_a2705adee29a4de094cec321fe9f35f6"
            ],
            "layout": "IPY_MODEL_0faa16a9379d4f9f967cedc0f6dcde29"
          }
        },
        "1d27f29c7c234d529b29eacdbb10c127": {
          "model_module": "@jupyter-widgets/controls",
          "model_name": "IntSliderModel",
          "model_module_version": "1.5.0",
          "state": {
            "_dom_classes": [],
            "_model_module": "@jupyter-widgets/controls",
            "_model_module_version": "1.5.0",
            "_model_name": "IntSliderModel",
            "_view_count": null,
            "_view_module": "@jupyter-widgets/controls",
            "_view_module_version": "1.5.0",
            "_view_name": "IntSliderView",
            "continuous_update": false,
            "description": "Step:",
            "description_tooltip": null,
            "disabled": false,
            "layout": "IPY_MODEL_5bb4c68c52234f89b35e882ea7885f30",
            "max": 2300,
            "min": 0,
            "orientation": "horizontal",
            "readout": true,
            "readout_format": "d",
            "step": 100,
            "style": "IPY_MODEL_cf906583d405465b9be2c8b82fcb1140",
            "value": 0
          }
        },
        "a2705adee29a4de094cec321fe9f35f6": {
          "model_module": "@jupyter-widgets/output",
          "model_name": "OutputModel",
          "model_module_version": "1.0.0",
          "state": {
            "_dom_classes": [],
            "_model_module": "@jupyter-widgets/output",
            "_model_module_version": "1.0.0",
            "_model_name": "OutputModel",
            "_view_count": null,
            "_view_module": "@jupyter-widgets/output",
            "_view_module_version": "1.0.0",
            "_view_name": "OutputView",
            "layout": "IPY_MODEL_353d9d2f2b134f74ab9235964d2d2dc6",
            "msg_id": "",
            "outputs": [
              {
                "output_type": "display_data",
                "data": {
                  "text/plain": "<Figure size 400x400 with 1 Axes>",
                  "image/png": "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\n"
                },
                "metadata": {}
              }
            ]
          }
        },
        "0faa16a9379d4f9f967cedc0f6dcde29": {
          "model_module": "@jupyter-widgets/base",
          "model_name": "LayoutModel",
          "model_module_version": "1.2.0",
          "state": {
            "_model_module": "@jupyter-widgets/base",
            "_model_module_version": "1.2.0",
            "_model_name": "LayoutModel",
            "_view_count": null,
            "_view_module": "@jupyter-widgets/base",
            "_view_module_version": "1.2.0",
            "_view_name": "LayoutView",
            "align_content": null,
            "align_items": null,
            "align_self": null,
            "border": null,
            "bottom": null,
            "display": null,
            "flex": null,
            "flex_flow": null,
            "grid_area": null,
            "grid_auto_columns": null,
            "grid_auto_flow": null,
            "grid_auto_rows": null,
            "grid_column": null,
            "grid_gap": null,
            "grid_row": null,
            "grid_template_areas": null,
            "grid_template_columns": null,
            "grid_template_rows": null,
            "height": null,
            "justify_content": null,
            "justify_items": null,
            "left": null,
            "margin": null,
            "max_height": null,
            "max_width": null,
            "min_height": null,
            "min_width": null,
            "object_fit": null,
            "object_position": null,
            "order": null,
            "overflow": null,
            "overflow_x": null,
            "overflow_y": null,
            "padding": null,
            "right": null,
            "top": null,
            "visibility": null,
            "width": null
          }
        },
        "5bb4c68c52234f89b35e882ea7885f30": {
          "model_module": "@jupyter-widgets/base",
          "model_name": "LayoutModel",
          "model_module_version": "1.2.0",
          "state": {
            "_model_module": "@jupyter-widgets/base",
            "_model_module_version": "1.2.0",
            "_model_name": "LayoutModel",
            "_view_count": null,
            "_view_module": "@jupyter-widgets/base",
            "_view_module_version": "1.2.0",
            "_view_name": "LayoutView",
            "align_content": null,
            "align_items": null,
            "align_self": null,
            "border": null,
            "bottom": null,
            "display": null,
            "flex": null,
            "flex_flow": null,
            "grid_area": null,
            "grid_auto_columns": null,
            "grid_auto_flow": null,
            "grid_auto_rows": null,
            "grid_column": null,
            "grid_gap": null,
            "grid_row": null,
            "grid_template_areas": null,
            "grid_template_columns": null,
            "grid_template_rows": null,
            "height": null,
            "justify_content": null,
            "justify_items": null,
            "left": null,
            "margin": null,
            "max_height": null,
            "max_width": null,
            "min_height": null,
            "min_width": null,
            "object_fit": null,
            "object_position": null,
            "order": null,
            "overflow": null,
            "overflow_x": null,
            "overflow_y": null,
            "padding": null,
            "right": null,
            "top": null,
            "visibility": null,
            "width": null
          }
        },
        "cf906583d405465b9be2c8b82fcb1140": {
          "model_module": "@jupyter-widgets/controls",
          "model_name": "SliderStyleModel",
          "model_module_version": "1.5.0",
          "state": {
            "_model_module": "@jupyter-widgets/controls",
            "_model_module_version": "1.5.0",
            "_model_name": "SliderStyleModel",
            "_view_count": null,
            "_view_module": "@jupyter-widgets/base",
            "_view_module_version": "1.2.0",
            "_view_name": "StyleView",
            "description_width": "",
            "handle_color": null
          }
        },
        "353d9d2f2b134f74ab9235964d2d2dc6": {
          "model_module": "@jupyter-widgets/base",
          "model_name": "LayoutModel",
          "model_module_version": "1.2.0",
          "state": {
            "_model_module": "@jupyter-widgets/base",
            "_model_module_version": "1.2.0",
            "_model_name": "LayoutModel",
            "_view_count": null,
            "_view_module": "@jupyter-widgets/base",
            "_view_module_version": "1.2.0",
            "_view_name": "LayoutView",
            "align_content": null,
            "align_items": null,
            "align_self": null,
            "border": null,
            "bottom": null,
            "display": null,
            "flex": null,
            "flex_flow": null,
            "grid_area": null,
            "grid_auto_columns": null,
            "grid_auto_flow": null,
            "grid_auto_rows": null,
            "grid_column": null,
            "grid_gap": null,
            "grid_row": null,
            "grid_template_areas": null,
            "grid_template_columns": null,
            "grid_template_rows": null,
            "height": null,
            "justify_content": null,
            "justify_items": null,
            "left": null,
            "margin": null,
            "max_height": null,
            "max_width": null,
            "min_height": null,
            "min_width": null,
            "object_fit": null,
            "object_position": null,
            "order": null,
            "overflow": null,
            "overflow_x": null,
            "overflow_y": null,
            "padding": null,
            "right": null,
            "top": null,
            "visibility": null,
            "width": null
          }
        }
      }
    }
  },
  "nbformat": 4,
  "nbformat_minor": 0
}