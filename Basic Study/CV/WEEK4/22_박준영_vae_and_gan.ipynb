{
  "cells": [
    {
      "cell_type": "markdown",
      "source": [
        "# Training VAE and GAN model\n",
        "\n",
        "colab에서 돌릴 경우, 런타임 유형을 GPU로 변경해주세요.\n",
        "\n",
        "MNIST dataset을 활용해 VAE, GAN 모델을 간단하게 구현해보는 것이 이번 과제입니다."
      ],
      "metadata": {
        "id": "llgBx3J-oMRO"
      }
    },
    {
      "cell_type": "markdown",
      "source": [
        "# Imports and set seed"
      ],
      "metadata": {
        "id": "a3I5tElZFDcD"
      }
    },
    {
      "cell_type": "code",
      "source": [
        "!pip install ipywidgets -q\n",
        "# !jupyter nbextension enable --py widgetsnbextension -q"
      ],
      "metadata": {
        "id": "mS6c1dwaF45C"
      },
      "execution_count": 1,
      "outputs": []
    },
    {
      "cell_type": "code",
      "execution_count": 2,
      "metadata": {
        "id": "rL8dm3uXXEnE"
      },
      "outputs": [],
      "source": [
        "import os\n",
        "from tqdm import tqdm\n",
        "import random\n",
        "import numpy as np\n",
        "import matplotlib.pyplot as plt\n",
        "import torch\n",
        "import torch.nn as nn\n",
        "import torch.nn.functional as F\n",
        "from torch.utils.data import DataLoader\n",
        "from torch.optim import Adam\n",
        "from torchvision import datasets, transforms\n",
        "import torchvision.utils as vutils\n",
        "from IPython.display import display\n",
        "import ipywidgets as widgets\n",
        "from PIL import Image\n"
      ]
    },
    {
      "cell_type": "code",
      "source": [
        "def set_seed(seed=42):\n",
        "    random.seed(seed)\n",
        "    np.random.seed(seed)\n",
        "    torch.manual_seed(seed)\n",
        "    torch.cuda.manual_seed(seed)\n",
        "    torch.cuda.manual_seed_all(seed)  # if using multi-GPU\n",
        "    torch.backends.cudnn.deterministic = True\n",
        "    torch.backends.cudnn.benchmark = False\n",
        "    torch.use_deterministic_algorithms(False)  ##\n",
        "\n",
        "set_seed(1)"
      ],
      "metadata": {
        "id": "IjKgK9HxJdMz"
      },
      "execution_count": 3,
      "outputs": []
    },
    {
      "cell_type": "markdown",
      "source": [
        "# VAE Implementation"
      ],
      "metadata": {
        "id": "I9OOQofAIkZd"
      }
    },
    {
      "cell_type": "markdown",
      "source": [
        "### 1. Model design  - Problem 1\n",
        "\n",
        "---\n",
        "\n",
        "$Enc$, $Dec$ 모델을 자유롭게 구성해보세요.\n",
        "\n",
        "CNN 기반 아키텍쳐나 ViT 기반 아키텍쳐를 자유롭게 구성해도 좋습니다.\n",
        "\n",
        "이때 각 아키텍쳐 선택 요소에 맞게 epoch이나 여러 학습 파라미터를 Main training loop에서 수정해주셔야 합니다.\n",
        "\n",
        "입출력 $\\text{dim}$에 맞게 세팅하는 것에 유의해주세요.\n",
        "\n",
        "---\n"
      ],
      "metadata": {
        "id": "4EYzG4FUItly"
      }
    },
    {
      "cell_type": "code",
      "source": [
        "class ConvEncoder(nn.Module):\n",
        "    def __init__(self, latent_dim=32):\n",
        "        super().__init__()\n",
        "        self.conv = nn.Sequential(\n",
        "            # 작성란 -------------------------------------------------------------------------\n",
        "\n",
        "            nn.Conv2d(1, 32, 4, 2, 1, bias=False),  # 32 x 14 x 14\n",
        "            nn.BatchNorm2d(32),\n",
        "            nn.LeakyReLU(0.2),\n",
        "\n",
        "            nn.Conv2d(32, 64, 4, 2, 1,  bias=False), # 64 x 7 x 7\n",
        "            nn.BatchNorm2d(64),\n",
        "            nn.LeakyReLU(0.2),\n",
        "\n",
        "            nn.Conv2d(64, 32, 3, 1, 1,  bias=False), # 32 x 7 x 7\n",
        "            nn.BatchNorm2d(32),\n",
        "            nn.LeakyReLU(0.2),\n",
        "            #---------------------------------------------------------------------------------\n",
        "\n",
        "            nn.Flatten()\n",
        "        )\n",
        "        self.fc_mu = nn.Linear(32 * 7 * 7, latent_dim)\n",
        "        self.fc_logvar = nn.Linear(32 * 7 * 7, latent_dim)\n",
        "\n",
        "    def forward(self, x):\n",
        "        h = self.conv(x)\n",
        "        return self.fc_mu(h), self.fc_logvar(h)\n",
        "\n",
        "\n",
        "class ConvDecoder(nn.Module):\n",
        "    def __init__(self, latent_dim=32):\n",
        "        super().__init__()\n",
        "        self.fc = nn.Linear(latent_dim, 32 * 7 * 7)\n",
        "\n",
        "        self.deconv = nn.Sequential(\n",
        "\n",
        "            # 작성란 -------------------------------------------------------------------------\n",
        "            nn.ConvTranspose2d(32, 64, 3, 1, 1, bias=False), # 7->7\n",
        "            nn.BatchNorm2d(64),\n",
        "            nn.LeakyReLU(0.2),\n",
        "\n",
        "            nn.ConvTranspose2d(64, 32, 4, 2, 1, bias=False), # 7->14\n",
        "            nn.BatchNorm2d(32),\n",
        "            nn.LeakyReLU(0.2),\n",
        "\n",
        "            nn.ConvTranspose2d(32, 1, 4, 2, 1, bias=False),  # 14->28\n",
        "\n",
        "            #---------------------------------------------------------------------------------\n",
        "        )\n",
        "\n",
        "    def forward(self, z):\n",
        "        # 작성란 --------------------------------\n",
        "        h = self.fc(z).view(-1, 32, 7, 7)\n",
        "        #----------------------------------------\n",
        "        return self.deconv(h)\n"
      ],
      "metadata": {
        "id": "IcStCywcE6mI"
      },
      "execution_count": 9,
      "outputs": []
    },
    {
      "cell_type": "markdown",
      "source": [
        "reparameterization 과정에 대해 확인해보세요."
      ],
      "metadata": {
        "id": "EZv_xBb63_r6"
      }
    },
    {
      "cell_type": "code",
      "source": [
        "class VAE(nn.Module):\n",
        "    def __init__(self, latent_dim=64):\n",
        "        super().__init__()\n",
        "        self.encoder = ConvEncoder(latent_dim)\n",
        "        self.decoder = ConvDecoder(latent_dim)\n",
        "\n",
        "    def reparameterize(self, mu, logvar):   # reparameterization을 통해 샘플링\n",
        "        std = torch.exp(0.5 * logvar)\n",
        "        eps = torch.randn_like(std)\n",
        "        return mu + eps * std\n",
        "\n",
        "    def forward(self, x):\n",
        "        mu, logvar = self.encoder(x)\n",
        "        z = self.reparameterize(mu, logvar)\n",
        "        return self.decoder(z), mu, logvar\n"
      ],
      "metadata": {
        "id": "meqUKh45E_qD"
      },
      "execution_count": 10,
      "outputs": []
    },
    {
      "cell_type": "markdown",
      "source": [
        "### 2. Loss\n",
        "\n",
        "---\n",
        "\n",
        "$(\\text{Binary Cross Entropy + KL Divergence})$의 구조입니다.\n",
        "\n",
        "KLD term이 아래와 같은 방식으로 구해지는 이유에 대해 생각해보세요."
      ],
      "metadata": {
        "id": "QF-p96SWI03Q"
      }
    },
    {
      "cell_type": "code",
      "source": [
        "def vae_loss(x, recon_logits, mu, logvar, reduction='mean'):\n",
        "    BCE = F.binary_cross_entropy_with_logits(recon_logits, x, reduction='sum')\n",
        "    KLD = -0.5 * torch.sum(1 + logvar - mu.pow(2) - logvar.exp())\n",
        "    if reduction == 'mean':\n",
        "        div = x.size(0)\n",
        "        BCE = BCE / div\n",
        "        KLD = KLD / div\n",
        "    return BCE + KLD, BCE, KLD"
      ],
      "metadata": {
        "id": "LDO3khroGVNe"
      },
      "execution_count": 11,
      "outputs": []
    },
    {
      "cell_type": "markdown",
      "source": [
        "### 3. Visualization function\n",
        "\n",
        "---\n",
        "\n",
        "실행만 하고 넘어가시면 됩니다."
      ],
      "metadata": {
        "id": "Erkky9fzI_yh"
      }
    },
    {
      "cell_type": "code",
      "source": [
        "def save_step_images(model, step, imgs, z):\n",
        "    was_training = model.training\n",
        "    model.eval()\n",
        "    with torch.no_grad():\n",
        "        recon_logits, _, _ = model(imgs)\n",
        "        recon = torch.sigmoid(recon_logits)\n",
        "\n",
        "        recon_grid = torch.cat([imgs, recon], dim=0)\n",
        "        recon_grid = vutils.make_grid(recon_grid, nrow=4, normalize=True, pad_value=1)\n",
        "        vutils.save_image(recon_grid, f\"vae_recon_imgs/recon_{step:05d}.png\")\n",
        "\n",
        "        gen = torch.sigmoid(model.decoder(z))\n",
        "        gen_grid = vutils.make_grid(gen, nrow=4, normalize=True, pad_value=1)\n",
        "        vutils.save_image(gen_grid, f\"vae_gen_imgs/gen_{step:05d}.png\")\n",
        "\n",
        "    if was_training:\n",
        "        model.train(was_training)"
      ],
      "metadata": {
        "id": "yxhotu2hEoYd"
      },
      "execution_count": 12,
      "outputs": []
    },
    {
      "cell_type": "markdown",
      "source": [
        "## 4. Main train loop\n",
        "\n",
        "---\n",
        "\n",
        "batch size, epoch, learning rate와\n",
        "\n",
        "VAE latent dimension을 자유롭게 조절하면서 학습시켜보세요."
      ],
      "metadata": {
        "id": "t51JcflbJD7l"
      }
    },
    {
      "cell_type": "code",
      "source": [
        "device = 'cuda' if torch.cuda.is_available() else 'cpu'\n",
        "\n",
        "transform = transforms.Compose([transforms.ToTensor(),])\n",
        "train_loader = DataLoader(\n",
        "    datasets.MNIST('.', train=True, download=True, transform=transform),\n",
        "    batch_size=512,\n",
        "    shuffle=True\n",
        "    )\n",
        "\n",
        "latent_dim = 128\n",
        "model = VAE(latent_dim=latent_dim).to(device)\n",
        "optimizer = Adam(model.parameters(), lr=1e-3)\n",
        "scaler = torch.amp.GradScaler('cuda')\n",
        "\n",
        "# for visualization\n",
        "os.makedirs(\"vae_recon_imgs\", exist_ok=True)\n",
        "os.makedirs(\"vae_gen_imgs\", exist_ok=True)\n",
        "fixed_imgs, _ = next(iter(train_loader))\n",
        "fixed_imgs = fixed_imgs[:4].to(device)\n",
        "fixed_z = torch.randn(4, latent_dim).to(device)\n",
        "\n",
        "global_step = 0\n",
        "bce_losses, kld_losses = [], []\n",
        "for epoch in (range(20)):\n",
        "    model.train()\n",
        "    pbar = tqdm(train_loader, desc=f\"Epoch {epoch}\")\n",
        "    for x, _ in pbar:\n",
        "        x = x.to(device)\n",
        "        optimizer.zero_grad()\n",
        "\n",
        "        with torch.amp.autocast('cuda'):\n",
        "            recon, mu, logvar = model(x)\n",
        "            loss, bce, kld = vae_loss(x, recon, mu, logvar)\n",
        "\n",
        "        scaler.scale(loss).backward()\n",
        "        scaler.step(optimizer)\n",
        "        scaler.update()\n",
        "\n",
        "        bce_losses.append(bce.item())\n",
        "        kld_losses.append(kld.item())\n",
        "\n",
        "        pbar.set_postfix({\"loss\": f\"{loss.item():.4f}\"})\n",
        "\n",
        "        if global_step % 100 == 0:\n",
        "            with torch.no_grad():\n",
        "                save_step_images(model, step=global_step, imgs=fixed_imgs, z=fixed_z)\n",
        "\n",
        "        global_step += 1\n"
      ],
      "metadata": {
        "colab": {
          "base_uri": "https://localhost:8080/"
        },
        "id": "foJuKIX2GXt8",
        "outputId": "d9d203e4-9fe7-4b2e-a724-bc78b5caa390"
      },
      "execution_count": 16,
      "outputs": [
        {
          "output_type": "stream",
          "name": "stderr",
          "text": [
            "Epoch 0: 100%|██████████| 118/118 [00:08<00:00, 14.37it/s, loss=154.7993]\n",
            "Epoch 1: 100%|██████████| 118/118 [00:08<00:00, 14.41it/s, loss=124.8228]\n",
            "Epoch 2: 100%|██████████| 118/118 [00:08<00:00, 14.32it/s, loss=113.4686]\n",
            "Epoch 3: 100%|██████████| 118/118 [00:07<00:00, 15.19it/s, loss=110.1120]\n",
            "Epoch 4: 100%|██████████| 118/118 [00:08<00:00, 14.30it/s, loss=112.3133]\n",
            "Epoch 5: 100%|██████████| 118/118 [00:08<00:00, 14.35it/s, loss=104.4172]\n",
            "Epoch 6: 100%|██████████| 118/118 [00:07<00:00, 14.87it/s, loss=104.7034]\n",
            "Epoch 7: 100%|██████████| 118/118 [00:07<00:00, 14.81it/s, loss=108.4108]\n",
            "Epoch 8: 100%|██████████| 118/118 [00:08<00:00, 13.92it/s, loss=103.9078]\n",
            "Epoch 9: 100%|██████████| 118/118 [00:08<00:00, 14.75it/s, loss=108.1434]\n",
            "Epoch 10: 100%|██████████| 118/118 [00:07<00:00, 14.79it/s, loss=103.9603]\n",
            "Epoch 11: 100%|██████████| 118/118 [00:08<00:00, 14.30it/s, loss=103.8928]\n",
            "Epoch 12: 100%|██████████| 118/118 [00:08<00:00, 14.12it/s, loss=107.8637]\n",
            "Epoch 13: 100%|██████████| 118/118 [00:08<00:00, 13.80it/s, loss=101.9047]\n",
            "Epoch 14: 100%|██████████| 118/118 [00:08<00:00, 14.22it/s, loss=109.1099]\n",
            "Epoch 15: 100%|██████████| 118/118 [00:08<00:00, 14.69it/s, loss=106.6752]\n",
            "Epoch 16: 100%|██████████| 118/118 [00:07<00:00, 14.83it/s, loss=102.6320]\n",
            "Epoch 17: 100%|██████████| 118/118 [00:08<00:00, 14.29it/s, loss=103.3116]\n",
            "Epoch 18: 100%|██████████| 118/118 [00:08<00:00, 14.53it/s, loss=105.1169]\n",
            "Epoch 19: 100%|██████████| 118/118 [00:08<00:00, 14.69it/s, loss=108.3842]\n"
          ]
        }
      ]
    },
    {
      "cell_type": "markdown",
      "source": [
        "## 5. Results visualization\n",
        "\n",
        "---\n",
        "\n",
        "아래 코드는 실행만 하면 됩니다. 바를 조절해 iteration별 학습 과정을 확인할 수 있습니다."
      ],
      "metadata": {
        "id": "svsaNz6OJqwn"
      }
    },
    {
      "cell_type": "code",
      "source": [
        "def load_step_images(step, recon_dir='vae_recon_imgs', gen_dir='vae_gen_imgs'):\n",
        "    recon_path = os.path.join(recon_dir, f'recon_{step:05d}.png')\n",
        "    gen_path = os.path.join(gen_dir, f'gen_{step:05d}.png')\n",
        "    return Image.open(recon_path), Image.open(gen_path)\n",
        "\n",
        "def show_images(step):\n",
        "    recon_img, gen_img = load_step_images(step)\n",
        "    fig, axs = plt.subplots(1, 2, figsize=(8, 4))\n",
        "    axs[0].imshow(recon_img)\n",
        "    axs[0].set_title(f\"Recon Step {step}\")\n",
        "    axs[0].axis('off')\n",
        "\n",
        "    axs[1].imshow(gen_img)\n",
        "    axs[1].set_title(f\"Gen Step {step}\")\n",
        "    axs[1].axis('off')\n",
        "    plt.tight_layout()\n",
        "    plt.show()\n",
        "\n",
        "saved_steps = sorted([\n",
        "    int(f.split('_')[-1].split('.')[0])\n",
        "    for f in os.listdir('vae_recon_imgs') if f.endswith('.png')\n",
        "])\n",
        "\n",
        "step_slider = widgets.IntSlider(\n",
        "    value=saved_steps[0],\n",
        "    min=min(saved_steps),\n",
        "    max=max(saved_steps),\n",
        "    step=100,\n",
        "    description='Step:',\n",
        "    continuous_update=False\n",
        ")\n",
        "\n",
        "# widgets.interact(show_images, step=step_slider);"
      ],
      "metadata": {
        "id": "n4KkqTHOJqHf"
      },
      "execution_count": 17,
      "outputs": []
    },
    {
      "cell_type": "code",
      "source": [
        "widgets.interact(show_images, step=step_slider);\n",
        "print('\\n')\n",
        "fig, axs = plt.subplots(1, 2, figsize=(12, 4), sharex=True)\n",
        "\n",
        "# BCE Loss subplot\n",
        "axs[0].plot(bce_losses, label='BCE Loss')\n",
        "axs[0].set_title('BCE Loss over Total Iteration')\n",
        "axs[0].set_xlabel('Iteration')\n",
        "axs[0].set_ylabel('BCE Loss')\n",
        "axs[0].legend()\n",
        "\n",
        "# KLD Loss subplot\n",
        "axs[1].plot(kld_losses, label='KLD Loss', color='orange')\n",
        "axs[1].set_title('KLD Loss over Total Iteration')\n",
        "axs[1].set_xlabel('Iteration')\n",
        "axs[1].set_ylabel('KLD Loss')\n",
        "axs[1].legend()\n",
        "\n",
        "plt.tight_layout()\n",
        "plt.show()\n"
      ],
      "metadata": {
        "colab": {
          "base_uri": "https://localhost:8080/",
          "height": 708,
          "referenced_widgets": [
            "26523c6617404fef8f336237ab8d6230",
            "0f5c3057da3042eda9153af989a0cf84",
            "2198635935bd4eccb53d9d36a4be96a4",
            "e2524d8fa2e44e8db91a5341bb2bdceb",
            "98be0259a1e9405a80a14bd85f67f397",
            "6ec2a02559c345a98397e51c7eaf3e70",
            "d6f733c0c90e402d9057fb860694e93a"
          ]
        },
        "id": "2Stm3zPaIVzL",
        "outputId": "e99a7417-3fc3-46d7-ea19-5b682ae22836"
      },
      "execution_count": 18,
      "outputs": [
        {
          "output_type": "display_data",
          "data": {
            "text/plain": [
              "interactive(children=(IntSlider(value=0, continuous_update=False, description='Step:', max=3500, step=100), Ou…"
            ],
            "application/vnd.jupyter.widget-view+json": {
              "version_major": 2,
              "version_minor": 0,
              "model_id": "26523c6617404fef8f336237ab8d6230"
            }
          },
          "metadata": {}
        },
        {
          "output_type": "stream",
          "name": "stdout",
          "text": [
            "\n",
            "\n"
          ]
        },
        {
          "output_type": "display_data",
          "data": {
            "text/plain": [
              "<Figure size 1200x400 with 2 Axes>"
            ],
            "image/png": "[encoded data removed]"
          },
          "metadata": {}
        }
      ]
    },
    {
      "cell_type": "markdown",
      "source": [
        "---\n",
        "___\n",
        "\n",
        "# GAN Implementation"
      ],
      "metadata": {
        "id": "Tm9Op-vOJKC8"
      }
    },
    {
      "cell_type": "markdown",
      "source": [
        "## 1. Model Design - Problem 2\n",
        "\n",
        "---\n",
        "\n",
        "$Generator$, $Discriminator$ 모델을 자유롭게 구성해보세요. 입출력 $\\text{dim}$에 맞게 세팅하는 것에 유의해주세요."
      ],
      "metadata": {
        "id": "uED-DGkwlIql"
      }
    },
    {
      "cell_type": "code",
      "execution_count": 4,
      "metadata": {
        "id": "pWFzINayh3ps"
      },
      "outputs": [],
      "source": [
        "# Generator\n",
        "class Generator(nn.Module):\n",
        "    def __init__(self, z_dim=100):\n",
        "        super().__init__()\n",
        "        self.net = nn.Sequential(\n",
        "            # 작성란 -------------------------------------------------------------------------\n",
        "\n",
        "            # 입력: (z_dim, 1, 1)\n",
        "            nn.ConvTranspose2d(z_dim, 128, 7, 1, 0, bias=False), # -> (128, 7, 7)\n",
        "            nn.BatchNorm2d(128),\n",
        "            nn.LeakyReLU(0.2),\n",
        "\n",
        "            nn.ConvTranspose2d(128, 64, 4, 2, 1, bias=False),   # -> (64, 14, 14)\n",
        "            nn.BatchNorm2d(64),\n",
        "            nn.LeakyReLU(0.2),\n",
        "\n",
        "            nn.ConvTranspose2d(64, 32, 3, 1, 1, bias=False), # -> (32, 14, 14),\n",
        "            nn.BatchNorm2d(32),\n",
        "            nn.LeakyReLU(0.2),\n",
        "\n",
        "            nn.ConvTranspose2d(32, 1, 4, 2, 1),      # -> (1, 28, 28)\n",
        "            #---------------------------------------------------------------------------------\n",
        "\n",
        "            nn.Tanh()\n",
        "        )\n",
        "\n",
        "    def forward(self, z):\n",
        "        return self.net(z)\n",
        "\n",
        "# Discriminator\n",
        "class Discriminator(nn.Module):\n",
        "    def __init__(self):\n",
        "        super().__init__()\n",
        "        self.net = nn.Sequential(\n",
        "            # 작성란 -------------------------------------------------------------------------\n",
        "\n",
        "            # 입력: (1, 28, 28)\n",
        "            nn.Conv2d(1, 32, 4, 2, 1, bias=False),  # -> (32, 14, 14)\n",
        "            nn.BatchNorm2d(32),\n",
        "            nn.LeakyReLU(0.2, inplace=True),\n",
        "\n",
        "            nn.Conv2d(32, 64, 4, 2, 1, bias=False),  # -> (64, 7, 7)\n",
        "            nn.BatchNorm2d(64),\n",
        "            nn.LeakyReLU(0.2, inplace=True),\n",
        "\n",
        "            nn.Conv2d(64, 128, 3, 1, 1), # -> (128, 7, 7)\n",
        "            nn.BatchNorm2d(128),\n",
        "            nn.LeakyReLU(0.2, inplace=True),\n",
        "\n",
        "            nn.Conv2d(128, 1, 7, 1, 0, bias=False), # -> (1,1,1)\n",
        "            nn.Sigmoid()\n",
        "            #---------------------------------------------------------------------------------\n",
        "        )\n",
        "\n",
        "    def forward(self, x):\n",
        "        return self.net(x).view(-1, 1)\n"
      ]
    },
    {
      "cell_type": "markdown",
      "source": [
        "## 2. Visualization fuction\n",
        "\n",
        "---"
      ],
      "metadata": {
        "id": "mD8qeD60q2qk"
      }
    },
    {
      "cell_type": "code",
      "source": [
        "def save_step_images_for_gan(model, step, z):\n",
        "    was_training = model.training\n",
        "    model.eval()\n",
        "    with torch.no_grad():\n",
        "        fake = model(z).detach()\n",
        "        # fake = (fake + 1) / 2  # [-1, 1] → [0, 1]\n",
        "        gen_grid = vutils.make_grid(fake, nrow=4, normalize=True, pad_value=1)\n",
        "        vutils.save_image(gen_grid, f\"gan_gen_imgs/gen_{step:05d}.png\")\n",
        "    if was_training:\n",
        "        model.train(was_training)"
      ],
      "metadata": {
        "id": "D8ioLX7Mq2yH"
      },
      "execution_count": 5,
      "outputs": []
    },
    {
      "cell_type": "markdown",
      "source": [
        "## 3. Main training loop\n",
        "\n",
        "---"
      ],
      "metadata": {
        "id": "R1hGgrSUsobG"
      }
    },
    {
      "cell_type": "code",
      "source": [
        "device = 'cuda' if torch.cuda.is_available() else 'cpu'\n",
        "\n",
        "z_dim = 100\n",
        "G = Generator(z_dim).to(device)\n",
        "D = Discriminator().to(device)\n",
        "opt_G = torch.optim.Adam(G.parameters(), lr=2e-4, betas=(0.5, 0.999))\n",
        "opt_D = torch.optim.Adam(D.parameters(), lr=2e-4, betas=(0.5, 0.999))\n",
        "loss_fn = nn.BCELoss()\n",
        "\n",
        "transform = transforms.Compose([\n",
        "    transforms.ToTensor(),\n",
        "    transforms.Normalize([0.5],[0.5])  # [-1,1] range scaling\n",
        "])\n",
        "train_loader = DataLoader(\n",
        "    datasets.MNIST('.', train=True, download=True, transform=transform),\n",
        "    batch_size=512,\n",
        "    shuffle=True\n",
        ")\n",
        "\n",
        "os.makedirs(\"gan_gen_imgs\", exist_ok=True)\n",
        "fixed_z = torch.randn(4, z_dim, 1, 1, device=device)\n",
        "\n",
        "global_step = 0\n",
        "D_losses, G_losses = [], []\n",
        "for epoch in range(20):\n",
        "    pbar = tqdm(train_loader, desc=f\"Epoch {epoch}\")\n",
        "    for x, _ in pbar:\n",
        "        x = x.to(device)\n",
        "        batch_size = x.size(0)\n",
        "\n",
        "        # Train Discriminator\n",
        "        z = torch.randn(batch_size, z_dim, 1, 1, device=device)\n",
        "        fake = G(z).detach()\n",
        "\n",
        "        opt_D.zero_grad()\n",
        "        loss_real = loss_fn(D(x), torch.ones(batch_size, 1, device=device))\n",
        "        loss_fake = loss_fn(D(fake), torch.zeros(batch_size, 1, device=device))\n",
        "        loss_D = (loss_real + loss_fake)\n",
        "        D_losses.append(loss_D.item())\n",
        "        loss_D.backward()\n",
        "        opt_D.step()\n",
        "\n",
        "        # Train Generator\n",
        "        z = torch.randn(batch_size, z_dim, 1, 1, device=device)\n",
        "        fake = G(z)\n",
        "        opt_G.zero_grad()\n",
        "        loss_G = loss_fn(D(fake), torch.ones(batch_size, 1, device=device))\n",
        "        G_losses.append(loss_G.item())\n",
        "        loss_G.backward()\n",
        "        opt_G.step()\n",
        "\n",
        "        pbar.set_postfix({\"D_loss\": f\"{loss_D.item():.4f}\", \"G_loss\": f\"{loss_G.item():.4f}\"})\n",
        "\n",
        "        if global_step % 100 == 0:\n",
        "            with torch.no_grad():\n",
        "                save_step_images_for_gan(G, step=global_step, z=fixed_z)\n",
        "\n",
        "        global_step += 1\n"
      ],
      "metadata": {
        "colab": {
          "base_uri": "https://localhost:8080/"
        },
        "id": "2rEQ8E-glRhY",
        "outputId": "1c430a98-11fe-44f3-cd72-ef6c57758031"
      },
      "execution_count": 6,
      "outputs": [
        {
          "output_type": "stream",
          "name": "stderr",
          "text": [
            "Epoch 0: 100%|██████████| 118/118 [00:22<00:00,  5.16it/s, D_loss=0.9362, G_loss=0.8106]\n",
            "Epoch 1: 100%|██████████| 118/118 [00:21<00:00,  5.49it/s, D_loss=0.4264, G_loss=1.9375]\n",
            "Epoch 2: 100%|██████████| 118/118 [00:21<00:00,  5.53it/s, D_loss=0.6674, G_loss=2.6375]\n",
            "Epoch 3: 100%|██████████| 118/118 [00:22<00:00,  5.18it/s, D_loss=0.8208, G_loss=2.1384]\n",
            "Epoch 4: 100%|██████████| 118/118 [00:21<00:00,  5.44it/s, D_loss=0.7633, G_loss=1.1577]\n",
            "Epoch 5: 100%|██████████| 118/118 [00:21<00:00,  5.50it/s, D_loss=0.6688, G_loss=1.1333]\n",
            "Epoch 6: 100%|██████████| 118/118 [00:21<00:00,  5.53it/s, D_loss=0.7815, G_loss=0.9949]\n",
            "Epoch 7: 100%|██████████| 118/118 [00:21<00:00,  5.50it/s, D_loss=0.8900, G_loss=1.1540]\n",
            "Epoch 8: 100%|██████████| 118/118 [00:22<00:00,  5.33it/s, D_loss=0.6248, G_loss=0.9911]\n",
            "Epoch 9: 100%|██████████| 118/118 [00:21<00:00,  5.42it/s, D_loss=0.8421, G_loss=0.8464]\n",
            "Epoch 10: 100%|██████████| 118/118 [00:21<00:00,  5.37it/s, D_loss=0.7794, G_loss=1.6883]\n",
            "Epoch 11: 100%|██████████| 118/118 [00:21<00:00,  5.48it/s, D_loss=0.7909, G_loss=0.8503]\n",
            "Epoch 12: 100%|██████████| 118/118 [00:21<00:00,  5.53it/s, D_loss=0.7734, G_loss=1.5117]\n",
            "Epoch 13: 100%|██████████| 118/118 [00:21<00:00,  5.45it/s, D_loss=0.7788, G_loss=1.2598]\n",
            "Epoch 14: 100%|██████████| 118/118 [00:21<00:00,  5.46it/s, D_loss=0.8754, G_loss=0.8262]\n",
            "Epoch 15: 100%|██████████| 118/118 [00:21<00:00,  5.43it/s, D_loss=0.7219, G_loss=2.0065]\n",
            "Epoch 16: 100%|██████████| 118/118 [00:21<00:00,  5.48it/s, D_loss=0.9095, G_loss=0.8037]\n",
            "Epoch 17: 100%|██████████| 118/118 [00:21<00:00,  5.43it/s, D_loss=0.8454, G_loss=2.1737]\n",
            "Epoch 18: 100%|██████████| 118/118 [00:21<00:00,  5.43it/s, D_loss=0.9129, G_loss=0.5482]\n",
            "Epoch 19: 100%|██████████| 118/118 [00:22<00:00,  5.30it/s, D_loss=0.8886, G_loss=1.5535]\n"
          ]
        }
      ]
    },
    {
      "cell_type": "markdown",
      "source": [
        "## 4. Visualization\n",
        "\n",
        "---"
      ],
      "metadata": {
        "id": "BmvfOGKMsjKR"
      }
    },
    {
      "cell_type": "code",
      "execution_count": 7,
      "metadata": {
        "id": "fvlhH6nSzyc_"
      },
      "outputs": [],
      "source": [
        "def load_step_images(step, gen_dir='gan_gen_imgs'):\n",
        "    gen_path = os.path.join(gen_dir, f'gen_{step:05d}.png')\n",
        "    gen_img = Image.open(gen_path)\n",
        "    return gen_img\n",
        "\n",
        "def show_images(step):\n",
        "    gen_img = load_step_images(step)\n",
        "    fig, ax = plt.subplots(figsize=(4, 4))\n",
        "    ax.imshow(gen_img)\n",
        "    ax.set_title(f\"Gen Step {step}\\n(fixed z shown)\")\n",
        "    ax.axis('off')\n",
        "    plt.tight_layout()\n",
        "    plt.show()\n",
        "\n",
        "if os.path.exists('gan_gen_imgs'):\n",
        "    saved_steps = sorted([\n",
        "        int(f.split('_')[-1].split('.')[0])\n",
        "        for f in os.listdir('gan_gen_imgs') if f.endswith('.png')\n",
        "    ])\n",
        "\n",
        "    if saved_steps:\n",
        "        step_slider = widgets.IntSlider(\n",
        "            value=saved_steps[0],\n",
        "            min=min(saved_steps),\n",
        "            max=max(saved_steps),\n",
        "            step=100,\n",
        "            description='Step:',\n",
        "            continuous_update=False\n",
        "        )\n",
        "\n",
        "        # widgets.interact(show_images, step=step_slider)"
      ]
    },
    {
      "cell_type": "code",
      "source": [
        "widgets.interact(show_images, step=step_slider);\n",
        "print('\\n')\n",
        "fig, axs = plt.subplots(1, 2, figsize=(14, 4), sharex=True)\n",
        "\n",
        "axs[0].plot(D_losses, label='Discriminator Loss', color='blue')\n",
        "axs[0].set_title('Discriminator Loss (BCE) over Iteration')\n",
        "axs[0].set_xlabel('Iteration')\n",
        "axs[0].set_ylabel('Loss')\n",
        "axs[0].legend()\n",
        "axs[0].grid(True)\n",
        "\n",
        "axs[1].plot(G_losses, label='Generator Loss (BCE)', color='orange')\n",
        "axs[1].set_title('Generator Loss (BCE) over Iteration')\n",
        "axs[1].set_xlabel('Iteration')\n",
        "axs[1].set_ylabel('Loss')\n",
        "axs[1].legend()\n",
        "axs[1].grid(True)\n",
        "\n",
        "plt.tight_layout()\n",
        "plt.show()"
      ],
      "metadata": {
        "colab": {
          "base_uri": "https://localhost:8080/",
          "height": 634,
          "referenced_widgets": [
            "68c855ddad084fa88a66f43c8382b4c7",
            "7bc5bbca1fb747d5ad68c580b60fa9fa",
            "557b50c416d74792a82a6584649ef230",
            "d87c730e69a5467698f6f67312d956bf",
            "fffc855f02c940f9a9a304835fdc3fee",
            "60be456c8a164ac4a25601bdf7ca28d6",
            "f954d772ced84800b7eaa1f7319c3719"
          ]
        },
        "id": "i1StRLM9si1m",
        "outputId": "c95a82b6-2199-4db7-8da7-fbbb32bd0775"
      },
      "execution_count": 8,
      "outputs": [
        {
          "output_type": "display_data",
          "data": {
            "text/plain": [
              "interactive(children=(IntSlider(value=0, continuous_update=False, description='Step:', max=2300, step=100), Ou…"
            ],
            "application/vnd.jupyter.widget-view+json": {
              "version_major": 2,
              "version_minor": 0,
              "model_id": "68c855ddad084fa88a66f43c8382b4c7"
            }
          },
          "metadata": {}
        },
        {
          "output_type": "stream",
          "name": "stdout",
          "text": [
            "\n",
            "\n"
          ]
        },
        {
          "output_type": "display_data",
          "data": {
            "text/plain": [
              "<Figure size 1400x400 with 2 Axes>"
            ],
            "image/png": "[encoded data removed]"
          },
          "metadata": {}
        }
      ]
    },
    {
      "cell_type": "code",
      "source": [],
      "metadata": {
        "id": "wzeeYd0wbAWK"
      },
      "execution_count": null,
      "outputs": []
    }
  ],
  "metadata": {
    "accelerator": "GPU",
    "colab": {
      "gpuType": "T4",
      "machine_shape": "hm",
      "provenance": []
    },
    "kernelspec": {
      "display_name": "Python 3",
      "name": "python3"
    },
    "language_info": {
      "name": "python"
    },
    "widgets": {
      "application/vnd.jupyter.widget-state+json": {
        "26523c6617404fef8f336237ab8d6230": {
          "model_module": "@jupyter-widgets/controls",
          "model_name": "VBoxModel",
          "model_module_version": "1.5.0",
          "state": {
            "_dom_classes": [
              "widget-interact"
            ],
            "_model_module": "@jupyter-widgets/controls",
            "_model_module_version": "1.5.0",
            "_model_name": "VBoxModel",
            "_view_count": null,
            "_view_module": "@jupyter-widgets/controls",
            "_view_module_version": "1.5.0",
            "_view_name": "VBoxView",
            "box_style": "",
            "children": [
              "IPY_MODEL_0f5c3057da3042eda9153af989a0cf84",
              "IPY_MODEL_2198635935bd4eccb53d9d36a4be96a4"
            ],
            "layout": "IPY_MODEL_e2524d8fa2e44e8db91a5341bb2bdceb"
          }
        },
        "0f5c3057da3042eda9153af989a0cf84": {
          "model_module": "@jupyter-widgets/controls",
          "model_name": "IntSliderModel",
          "model_module_version": "1.5.0",
          "state": {
            "_dom_classes": [],
            "_model_module": "@jupyter-widgets/controls",
            "_model_module_version": "1.5.0",
            "_model_name": "IntSliderModel",
            "_view_count": null,
            "_view_module": "@jupyter-widgets/controls",
            "_view_module_version": "1.5.0",
            "_view_name": "IntSliderView",
            "continuous_update": false,
            "description": "Step:",
            "description_tooltip": null,
            "disabled": false,
            "layout": "IPY_MODEL_98be0259a1e9405a80a14bd85f67f397",
            "max": 3500,
            "min": 0,
            "orientation": "horizontal",
            "readout": true,
            "readout_format": "d",
            "step": 100,
            "style": "IPY_MODEL_6ec2a02559c345a98397e51c7eaf3e70",
            "value": 2500
          }
        },
        "2198635935bd4eccb53d9d36a4be96a4": {
          "model_module": "@jupyter-widgets/output",
          "model_name": "OutputModel",
          "model_module_version": "1.0.0",
          "state": {
            "_dom_classes": [],
            "_model_module": "@jupyter-widgets/output",
            "_model_module_version": "1.0.0",
            "_model_name": "OutputModel",
            "_view_count": null,
            "_view_module": "@jupyter-widgets/output",
            "_view_module_version": "1.0.0",
            "_view_name": "OutputView",
            "layout": "IPY_MODEL_d6f733c0c90e402d9057fb860694e93a",
            "msg_id": "",
            "outputs": [
              {
                "output_type": "display_data",
                "data": {
                  "text/plain": "<Figure size 800x400 with 2 Axes>",
                  "image/png": "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\n"
                },
                "metadata": {}
              }
            ]
          }
        },
        "e2524d8fa2e44e8db91a5341bb2bdceb": {
          "model_module": "@jupyter-widgets/base",
          "model_name": "LayoutModel",
          "model_module_version": "1.2.0",
          "state": {
            "_model_module": "@jupyter-widgets/base",
            "_model_module_version": "1.2.0",
            "_model_name": "LayoutModel",
            "_view_count": null,
            "_view_module": "@jupyter-widgets/base",
            "_view_module_version": "1.2.0",
            "_view_name": "LayoutView",
            "align_content": null,
            "align_items": null,
            "align_self": null,
            "border": null,
            "bottom": null,
            "display": null,
            "flex": null,
            "flex_flow": null,
            "grid_area": null,
            "grid_auto_columns": null,
            "grid_auto_flow": null,
            "grid_auto_rows": null,
            "grid_column": null,
            "grid_gap": null,
            "grid_row": null,
            "grid_template_areas": null,
            "grid_template_columns": null,
            "grid_template_rows": null,
            "height": null,
            "justify_content": null,
            "justify_items": null,
            "left": null,
            "margin": null,
            "max_height": null,
            "max_width": null,
            "min_height": null,
            "min_width": null,
            "object_fit": null,
            "object_position": null,
            "order": null,
            "overflow": null,
            "overflow_x": null,
            "overflow_y": null,
            "padding": null,
            "right": null,
            "top": null,
            "visibility": null,
            "width": null
          }
        },
        "98be0259a1e9405a80a14bd85f67f397": {
          "model_module": "@jupyter-widgets/base",
          "model_name": "LayoutModel",
          "model_module_version": "1.2.0",
          "state": {
            "_model_module": "@jupyter-widgets/base",
            "_model_module_version": "1.2.0",
            "_model_name": "LayoutModel",
            "_view_count": null,
            "_view_module": "@jupyter-widgets/base",
            "_view_module_version": "1.2.0",
            "_view_name": "LayoutView",
            "align_content": null,
            "align_items": null,
            "align_self": null,
            "border": null,
            "bottom": null,
            "display": null,
            "flex": null,
            "flex_flow": null,
            "grid_area": null,
            "grid_auto_columns": null,
            "grid_auto_flow": null,
            "grid_auto_rows": null,
            "grid_column": null,
            "grid_gap": null,
            "grid_row": null,
            "grid_template_areas": null,
            "grid_template_columns": null,
            "grid_template_rows": null,
            "height": null,
            "justify_content": null,
            "justify_items": null,
            "left": null,
            "margin": null,
            "max_height": null,
            "max_width": null,
            "min_height": null,
            "min_width": null,
            "object_fit": null,
            "object_position": null,
            "order": null,
            "overflow": null,
            "overflow_x": null,
            "overflow_y": null,
            "padding": null,
            "right": null,
            "top": null,
            "visibility": null,
            "width": null
          }
        },
        "6ec2a02559c345a98397e51c7eaf3e70": {
          "model_module": "@jupyter-widgets/controls",
          "model_name": "SliderStyleModel",
          "model_module_version": "1.5.0",
          "state": {
            "_model_module": "@jupyter-widgets/controls",
            "_model_module_version": "1.5.0",
            "_model_name": "SliderStyleModel",
            "_view_count": null,
            "_view_module": "@jupyter-widgets/base",
            "_view_module_version": "1.2.0",
            "_view_name": "StyleView",
            "description_width": "",
            "handle_color": null
          }
        },
        "d6f733c0c90e402d9057fb860694e93a": {
          "model_module": "@jupyter-widgets/base",
          "model_name": "LayoutModel",
          "model_module_version": "1.2.0",
          "state": {
            "_model_module": "@jupyter-widgets/base",
            "_model_module_version": "1.2.0",
            "_model_name": "LayoutModel",
            "_view_count": null,
            "_view_module": "@jupyter-widgets/base",
            "_view_module_version": "1.2.0",
            "_view_name": "LayoutView",
            "align_content": null,
            "align_items": null,
            "align_self": null,
            "border": null,
            "bottom": null,
            "display": null,
            "flex": null,
            "flex_flow": null,
            "grid_area": null,
            "grid_auto_columns": null,
            "grid_auto_flow": null,
            "grid_auto_rows": null,
            "grid_column": null,
            "grid_gap": null,
            "grid_row": null,
            "grid_template_areas": null,
            "grid_template_columns": null,
            "grid_template_rows": null,
            "height": null,
            "justify_content": null,
            "justify_items": null,
            "left": null,
            "margin": null,
            "max_height": null,
            "max_width": null,
            "min_height": null,
            "min_width": null,
            "object_fit": null,
            "object_position": null,
            "order": null,
            "overflow": null,
            "overflow_x": null,
            "overflow_y": null,
            "padding": null,
            "right": null,
            "top": null,
            "visibility": null,
            "width": null
          }
        },
        "68c855ddad084fa88a66f43c8382b4c7": {
          "model_module": "@jupyter-widgets/controls",
          "model_name": "VBoxModel",
          "model_module_version": "1.5.0",
          "state": {
            "_dom_classes": [
              "widget-interact"
            ],
            "_model_module": "@jupyter-widgets/controls",
            "_model_module_version": "1.5.0",
            "_model_name": "VBoxModel",
            "_view_count": null,
            "_view_module": "@jupyter-widgets/controls",
            "_view_module_version": "1.5.0",
            "_view_name": "VBoxView",
            "box_style": "",
            "children": [
              "IPY_MODEL_7bc5bbca1fb747d5ad68c580b60fa9fa",
              "IPY_MODEL_557b50c416d74792a82a6584649ef230"
            ],
            "layout": "IPY_MODEL_d87c730e69a5467698f6f67312d956bf"
          }
        },
        "7bc5bbca1fb747d5ad68c580b60fa9fa": {
          "model_module": "@jupyter-widgets/controls",
          "model_name": "IntSliderModel",
          "model_module_version": "1.5.0",
          "state": {
            "_dom_classes": [],
            "_model_module": "@jupyter-widgets/controls",
            "_model_module_version": "1.5.0",
            "_model_name": "IntSliderModel",
            "_view_count": null,
            "_view_module": "@jupyter-widgets/controls",
            "_view_module_version": "1.5.0",
            "_view_name": "IntSliderView",
            "continuous_update": false,
            "description": "Step:",
            "description_tooltip": null,
            "disabled": false,
            "layout": "IPY_MODEL_fffc855f02c940f9a9a304835fdc3fee",
            "max": 2300,
            "min": 0,
            "orientation": "horizontal",
            "readout": true,
            "readout_format": "d",
            "step": 100,
            "style": "IPY_MODEL_60be456c8a164ac4a25601bdf7ca28d6",
            "value": 2300
          }
        },
        "557b50c416d74792a82a6584649ef230": {
          "model_module": "@jupyter-widgets/output",
          "model_name": "OutputModel",
          "model_module_version": "1.0.0",
          "state": {
            "_dom_classes": [],
            "_model_module": "@jupyter-widgets/output",
            "_model_module_version": "1.0.0",
            "_model_name": "OutputModel",
            "_view_count": null,
            "_view_module": "@jupyter-widgets/output",
            "_view_module_version": "1.0.0",
            "_view_name": "OutputView",
            "layout": "IPY_MODEL_f954d772ced84800b7eaa1f7319c3719",
            "msg_id": "",
            "outputs": [
              {
                "output_type": "display_data",
                "data": {
                  "text/plain": "<Figure size 400x400 with 1 Axes>",
                  "image/png": "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\n"
                },
                "metadata": {}
              }
            ]
          }
        },
        "d87c730e69a5467698f6f67312d956bf": {
          "model_module": "@jupyter-widgets/base",
          "model_name": "LayoutModel",
          "model_module_version": "1.2.0",
          "state": {
            "_model_module": "@jupyter-widgets/base",
            "_model_module_version": "1.2.0",
            "_model_name": "LayoutModel",
            "_view_count": null,
            "_view_module": "@jupyter-widgets/base",
            "_view_module_version": "1.2.0",
            "_view_name": "LayoutView",
            "align_content": null,
            "align_items": null,
            "align_self": null,
            "border": null,
            "bottom": null,
            "display": null,
            "flex": null,
            "flex_flow": null,
            "grid_area": null,
            "grid_auto_columns": null,
            "grid_auto_flow": null,
            "grid_auto_rows": null,
            "grid_column": null,
            "grid_gap": null,
            "grid_row": null,
            "grid_template_areas": null,
            "grid_template_columns": null,
            "grid_template_rows": null,
            "height": null,
            "justify_content": null,
            "justify_items": null,
            "left": null,
            "margin": null,
            "max_height": null,
            "max_width": null,
            "min_height": null,
            "min_width": null,
            "object_fit": null,
            "object_position": null,
            "order": null,
            "overflow": null,
            "overflow_x": null,
            "overflow_y": null,
            "padding": null,
            "right": null,
            "top": null,
            "visibility": null,
            "width": null
          }
        },
        "fffc855f02c940f9a9a304835fdc3fee": {
          "model_module": "@jupyter-widgets/base",
          "model_name": "LayoutModel",
          "model_module_version": "1.2.0",
          "state": {
            "_model_module": "@jupyter-widgets/base",
            "_model_module_version": "1.2.0",
            "_model_name": "LayoutModel",
            "_view_count": null,
            "_view_module": "@jupyter-widgets/base",
            "_view_module_version": "1.2.0",
            "_view_name": "LayoutView",
            "align_content": null,
            "align_items": null,
            "align_self": null,
            "border": null,
            "bottom": null,
            "display": null,
            "flex": null,
            "flex_flow": null,
            "grid_area": null,
            "grid_auto_columns": null,
            "grid_auto_flow": null,
            "grid_auto_rows": null,
            "grid_column": null,
            "grid_gap": null,
            "grid_row": null,
            "grid_template_areas": null,
            "grid_template_columns": null,
            "grid_template_rows": null,
            "height": null,
            "justify_content": null,
            "justify_items": null,
            "left": null,
            "margin": null,
            "max_height": null,
            "max_width": null,
            "min_height": null,
            "min_width": null,
            "object_fit": null,
            "object_position": null,
            "order": null,
            "overflow": null,
            "overflow_x": null,
            "overflow_y": null,
            "padding": null,
            "right": null,
            "top": null,
            "visibility": null,
            "width": null
          }
        },
        "60be456c8a164ac4a25601bdf7ca28d6": {
          "model_module": "@jupyter-widgets/controls",
          "model_name": "SliderStyleModel",
          "model_module_version": "1.5.0",
          "state": {
            "_model_module": "@jupyter-widgets/controls",
            "_model_module_version": "1.5.0",
            "_model_name": "SliderStyleModel",
            "_view_count": null,
            "_view_module": "@jupyter-widgets/base",
            "_view_module_version": "1.2.0",
            "_view_name": "StyleView",
            "description_width": "",
            "handle_color": null
          }
        },
        "f954d772ced84800b7eaa1f7319c3719": {
          "model_module": "@jupyter-widgets/base",
          "model_name": "LayoutModel",
          "model_module_version": "1.2.0",
          "state": {
            "_model_module": "@jupyter-widgets/base",
            "_model_module_version": "1.2.0",
            "_model_name": "LayoutModel",
            "_view_count": null,
            "_view_module": "@jupyter-widgets/base",
            "_view_module_version": "1.2.0",
            "_view_name": "LayoutView",
            "align_content": null,
            "align_items": null,
            "align_self": null,
            "border": null,
            "bottom": null,
            "display": null,
            "flex": null,
            "flex_flow": null,
            "grid_area": null,
            "grid_auto_columns": null,
            "grid_auto_flow": null,
            "grid_auto_rows": null,
            "grid_column": null,
            "grid_gap": null,
            "grid_row": null,
            "grid_template_areas": null,
            "grid_template_columns": null,
            "grid_template_rows": null,
            "height": null,
            "justify_content": null,
            "justify_items": null,
            "left": null,
            "margin": null,
            "max_height": null,
            "max_width": null,
            "min_height": null,
            "min_width": null,
            "object_fit": null,
            "object_position": null,
            "order": null,
            "overflow": null,
            "overflow_x": null,
            "overflow_y": null,
            "padding": null,
            "right": null,
            "top": null,
            "visibility": null,
            "width": null
          }
        }
      }
    }
  },
  "nbformat": 4,
  "nbformat_minor": 0
}