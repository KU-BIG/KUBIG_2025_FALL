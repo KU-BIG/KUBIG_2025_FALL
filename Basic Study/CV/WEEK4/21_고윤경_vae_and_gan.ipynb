{
  "cells": [
    {
      "cell_type": "markdown",
      "source": [
        "# Training VAE and GAN model\n",
        "\n",
        "colab에서 돌릴 경우, 런타임 유형을 GPU로 변경해주세요.\n",
        "\n",
        "MNIST dataset을 활용해 VAE, GAN 모델을 간단하게 구현해보는 것이 이번 과제입니다."
      ],
      "metadata": {
        "id": "llgBx3J-oMRO"
      }
    },
    {
      "cell_type": "markdown",
      "source": [
        "# Imports and set seed"
      ],
      "metadata": {
        "id": "a3I5tElZFDcD"
      }
    },
    {
      "cell_type": "code",
      "source": [
        "!pip install ipywidgets -q\n",
        "# !jupyter nbextension enable --py widgetsnbextension -q"
      ],
      "metadata": {
        "id": "mS6c1dwaF45C",
        "colab": {
          "base_uri": "https://localhost:8080/"
        },
        "outputId": "3ff7cc85-5cbe-4c05-fec9-54d28587a0f7"
      },
      "execution_count": 1,
      "outputs": [
        {
          "output_type": "stream",
          "name": "stdout",
          "text": [
            "\u001b[?25l   \u001b[90m━━━━━━━━━━━━━━━━━━━━━━━━━━━━━━━━━━━━━━━━\u001b[0m \u001b[32m0.0/1.6 MB\u001b[0m \u001b[31m?\u001b[0m eta \u001b[36m-:--:--\u001b[0m\r\u001b[2K   \u001b[90m━━━━━━━━━━━━━━━━━━━━━━━━━━━━━━━━━━━━━━━━\u001b[0m \u001b[32m1.6/1.6 MB\u001b[0m \u001b[31m50.7 MB/s\u001b[0m eta \u001b[36m0:00:00\u001b[0m\n",
            "\u001b[?25h"
          ]
        }
      ]
    },
    {
      "cell_type": "code",
      "execution_count": 2,
      "metadata": {
        "id": "rL8dm3uXXEnE"
      },
      "outputs": [],
      "source": [
        "import os\n",
        "from tqdm import tqdm\n",
        "import random\n",
        "import numpy as np\n",
        "import matplotlib.pyplot as plt\n",
        "import torch\n",
        "import torch.nn as nn\n",
        "import torch.nn.functional as F\n",
        "from torch.utils.data import DataLoader\n",
        "from torch.optim import Adam\n",
        "from torchvision import datasets, transforms\n",
        "import torchvision.utils as vutils\n",
        "from IPython.display import display\n",
        "import ipywidgets as widgets\n",
        "from PIL import Image\n"
      ]
    },
    {
      "cell_type": "code",
      "source": [
        "def set_seed(seed=42):\n",
        "    random.seed(seed)\n",
        "    np.random.seed(seed)\n",
        "    torch.manual_seed(seed)\n",
        "    torch.cuda.manual_seed(seed)\n",
        "    torch.cuda.manual_seed_all(seed)  # if using multi-GPU\n",
        "    torch.backends.cudnn.deterministic = True\n",
        "    torch.backends.cudnn.benchmark = False\n",
        "    torch.use_deterministic_algorithms(False)  ##\n",
        "\n",
        "set_seed(1)"
      ],
      "metadata": {
        "id": "IjKgK9HxJdMz"
      },
      "execution_count": 3,
      "outputs": []
    },
    {
      "cell_type": "markdown",
      "source": [
        "# VAE Implementation"
      ],
      "metadata": {
        "id": "I9OOQofAIkZd"
      }
    },
    {
      "cell_type": "markdown",
      "source": [
        "### 1. Model design  - Problem 1\n",
        "\n",
        "---\n",
        "\n",
        "$Enc$, $Dec$ 모델을 자유롭게 구성해보세요.\n",
        "\n",
        "CNN 기반 아키텍쳐나 ViT 기반 아키텍쳐를 자유롭게 구성해도 좋습니다.\n",
        "\n",
        "이때 각 아키텍쳐 선택 요소에 맞게 epoch이나 여러 학습 파라미터를 Main training loop에서 수정해주셔야 합니다.\n",
        "\n",
        "입출력 $\\text{dim}$에 맞게 세팅하는 것에 유의해주세요.\n",
        "\n",
        "---\n"
      ],
      "metadata": {
        "id": "4EYzG4FUItly"
      }
    },
    {
      "cell_type": "code",
      "source": [
        "class ConvEncoder(nn.Module):\n",
        "    def __init__(self, latent_dim=32):\n",
        "        super().__init__()\n",
        "        self.conv = nn.Sequential(\n",
        "            # input: (batch_size, 1, 28, 28) - MNIST grayscale images\n",
        "            nn.Conv2d(1, 32, 4, 2, 1),  # output: (batch_size, 32, 14, 14)\n",
        "            nn.BatchNorm2d(32),\n",
        "            nn.LeakyReLU(0.2),\n",
        "\n",
        "            nn.Conv2d(32, 64, 4, 2, 1),  # output: (batch_size, 64, 7, 7)\n",
        "            nn.BatchNorm2d(64),\n",
        "            nn.LeakyReLU(0.2),\n",
        "\n",
        "            nn.Conv2d(64, 128, 3, 1, 1), # output: (batch_size, 128, 7, 7)\n",
        "            nn.BatchNorm2d(128),\n",
        "            nn.LeakyReLU(0.2),\n",
        "\n",
        "            nn.Conv2d(128, 256, 4, 2, 1), # output: (batch_size, 256, 3, 3)\n",
        "            nn.BatchNorm2d(256),\n",
        "            nn.LeakyReLU(0.2),\n",
        "\n",
        "            nn.Flatten()  # output: (batch_size, 256 * 3 * 3 = 2304)\n",
        "        )\n",
        "        # calculate the flattened size: 256 * 3 * 3 = 2304\n",
        "        self.fc_mu = nn.Linear(2304, latent_dim)\n",
        "        self.fc_logvar = nn.Linear(2304, latent_dim)\n",
        "\n",
        "    def forward(self, x):\n",
        "        h = self.conv(x)\n",
        "        return self.fc_mu(h), self.fc_logvar(h)\n",
        "\n",
        "\n",
        "class ConvDecoder(nn.Module):\n",
        "    def __init__(self, latent_dim=32):\n",
        "        super().__init__()\n",
        "        self.fc = nn.Linear(latent_dim, 256 * 3 * 3)\n",
        "\n",
        "        self.deconv = nn.Sequential(\n",
        "            # input after reshape: (batch_size, 256, 3, 3)\n",
        "            nn.ConvTranspose2d(256, 128, 4, 2, 1), # output: (batch_size, 128, 6, 6)\n",
        "            nn.BatchNorm2d(128),\n",
        "            nn.LeakyReLU(0.2),\n",
        "\n",
        "            nn.ConvTranspose2d(128, 64, 3, 1, 1),  # output: (batch_size, 64, 6, 6)\n",
        "            nn.BatchNorm2d(64),\n",
        "            nn.LeakyReLU(0.2),\n",
        "\n",
        "            nn.ConvTranspose2d(64, 32, 4, 2, 1),   # output: (batch_size, 32, 12, 12)\n",
        "            nn.BatchNorm2d(32),\n",
        "            nn.LeakyReLU(0.2),\n",
        "\n",
        "            nn.ConvTranspose2d(32, 16, 3, 2, 1),   # output: (batch_size, 16, 23, 23)\n",
        "            nn.BatchNorm2d(16),\n",
        "            nn.LeakyReLU(0.2),\n",
        "\n",
        "            nn.ConvTranspose2d(16, 1, 6, 1, 0),    # output: (batch_size, 1, 28, 28)\n",
        "            nn.Sigmoid()  # output values between 0 and 1 for MNIST\n",
        "\n",
        "        )\n",
        "\n",
        "    def forward(self, z):\n",
        "        # expand latent vector and reshape to feature map\n",
        "        h = self.fc(z).view(-1, 256, 3, 3)\n",
        "        return self.deconv(h)\n"
      ],
      "metadata": {
        "id": "IcStCywcE6mI"
      },
      "execution_count": 4,
      "outputs": []
    },
    {
      "cell_type": "markdown",
      "source": [
        "reparameterization 과정에 대해 확인해보세요."
      ],
      "metadata": {
        "id": "EZv_xBb63_r6"
      }
    },
    {
      "cell_type": "code",
      "source": [
        "class VAE(nn.Module):\n",
        "    def __init__(self, latent_dim=64):\n",
        "        super().__init__()\n",
        "        self.encoder = ConvEncoder(latent_dim)\n",
        "        self.decoder = ConvDecoder(latent_dim)\n",
        "\n",
        "    def reparameterize(self, mu, logvar):\n",
        "        std = torch.exp(0.5 * logvar)\n",
        "        eps = torch.randn_like(std)\n",
        "        return mu + eps * std\n",
        "\n",
        "    def forward(self, x):\n",
        "        mu, logvar = self.encoder(x)\n",
        "        z = self.reparameterize(mu, logvar)\n",
        "        return self.decoder(z), mu, logvar\n"
      ],
      "metadata": {
        "id": "meqUKh45E_qD"
      },
      "execution_count": 5,
      "outputs": []
    },
    {
      "cell_type": "markdown",
      "source": [
        "### 2. Loss\n",
        "\n",
        "---\n",
        "\n",
        "$(\\text{Binary Cross Entropy + KL Divergence})$의 구조입니다.\n",
        "\n",
        "KLD term이 아래와 같은 방식으로 구해지는 이유에 대해 생각해보세요."
      ],
      "metadata": {
        "id": "QF-p96SWI03Q"
      }
    },
    {
      "cell_type": "code",
      "source": [
        "def vae_loss(x, recon_logits, mu, logvar, reduction='mean'):\n",
        "    BCE = F.binary_cross_entropy_with_logits(recon_logits, x, reduction='sum')\n",
        "    KLD = -0.5 * torch.sum(1 + logvar - mu.pow(2) - logvar.exp())\n",
        "    if reduction == 'mean':\n",
        "        div = x.size(0)\n",
        "        BCE = BCE / div\n",
        "        KLD = KLD / div\n",
        "    return BCE + KLD, BCE, KLD"
      ],
      "metadata": {
        "id": "LDO3khroGVNe"
      },
      "execution_count": 6,
      "outputs": []
    },
    {
      "cell_type": "markdown",
      "source": [
        "### 3. Visualization function\n",
        "\n",
        "---\n",
        "\n",
        "실행만 하고 넘어가시면 됩니다."
      ],
      "metadata": {
        "id": "Erkky9fzI_yh"
      }
    },
    {
      "cell_type": "code",
      "source": [
        "def save_step_images(model, step, imgs, z):\n",
        "    was_training = model.training\n",
        "    model.eval()\n",
        "    with torch.no_grad():\n",
        "        recon_logits, _, _ = model(imgs)\n",
        "        recon = torch.sigmoid(recon_logits)\n",
        "\n",
        "        recon_grid = torch.cat([imgs, recon], dim=0)\n",
        "        recon_grid = vutils.make_grid(recon_grid, nrow=4, normalize=True, pad_value=1)\n",
        "        vutils.save_image(recon_grid, f\"vae_recon_imgs/recon_{step:05d}.png\")\n",
        "\n",
        "        gen = torch.sigmoid(model.decoder(z))\n",
        "        gen_grid = vutils.make_grid(gen, nrow=4, normalize=True, pad_value=1)\n",
        "        vutils.save_image(gen_grid, f\"vae_gen_imgs/gen_{step:05d}.png\")\n",
        "\n",
        "    if was_training:\n",
        "        model.train(was_training)"
      ],
      "metadata": {
        "id": "yxhotu2hEoYd"
      },
      "execution_count": 7,
      "outputs": []
    },
    {
      "cell_type": "markdown",
      "source": [
        "## 4. Main train loop\n",
        "\n",
        "---\n",
        "\n",
        "batch size, epoch, learning rate와\n",
        "\n",
        "VAE latent dimension을 자유롭게 조절하면서 학습시켜보세요."
      ],
      "metadata": {
        "id": "t51JcflbJD7l"
      }
    },
    {
      "cell_type": "code",
      "source": [
        "device = 'cuda' if torch.cuda.is_available() else 'cpu'\n",
        "\n",
        "transform = transforms.Compose([transforms.ToTensor(),])\n",
        "train_loader = DataLoader(\n",
        "    datasets.MNIST('.', train=True, download=True, transform=transform),\n",
        "    batch_size=512,\n",
        "    shuffle=True\n",
        "    )\n",
        "\n",
        "latent_dim = 64\n",
        "model = VAE(latent_dim=latent_dim).to(device)\n",
        "optimizer = Adam(model.parameters(), lr=1e-3)\n",
        "scaler = torch.amp.GradScaler('cuda')\n",
        "\n",
        "# for visualization\n",
        "os.makedirs(\"vae_recon_imgs\", exist_ok=True)\n",
        "os.makedirs(\"vae_gen_imgs\", exist_ok=True)\n",
        "fixed_imgs, _ = next(iter(train_loader))\n",
        "fixed_imgs = fixed_imgs[:4].to(device)\n",
        "fixed_z = torch.randn(4, latent_dim).to(device)\n",
        "\n",
        "global_step = 0\n",
        "bce_losses, kld_losses = [], []\n",
        "for epoch in (range(10)):\n",
        "    model.train()\n",
        "    pbar = tqdm(train_loader, desc=f\"Epoch {epoch}\")\n",
        "    for x, _ in pbar:\n",
        "        x = x.to(device)\n",
        "        optimizer.zero_grad()\n",
        "\n",
        "        with torch.amp.autocast('cuda'):\n",
        "            recon, mu, logvar = model(x)\n",
        "            loss, bce, kld = vae_loss(x, recon, mu, logvar)\n",
        "\n",
        "        scaler.scale(loss).backward()\n",
        "        scaler.step(optimizer)\n",
        "        scaler.update()\n",
        "\n",
        "        bce_losses.append(bce.item())\n",
        "        kld_losses.append(kld.item())\n",
        "\n",
        "        pbar.set_postfix({\"loss\": f\"{loss.item():.4f}\"})\n",
        "\n",
        "        if global_step % 100 == 0:\n",
        "            with torch.no_grad():\n",
        "                save_step_images(model, step=global_step, imgs=fixed_imgs, z=fixed_z)\n",
        "\n",
        "        global_step += 1\n"
      ],
      "metadata": {
        "colab": {
          "base_uri": "https://localhost:8080/"
        },
        "id": "foJuKIX2GXt8",
        "outputId": "fff50e83-0c42-4def-a827-4dc2cc577ac2"
      },
      "execution_count": 8,
      "outputs": [
        {
          "output_type": "stream",
          "name": "stderr",
          "text": [
            "100%|██████████| 9.91M/9.91M [00:00<00:00, 125MB/s]\n",
            "100%|██████████| 28.9k/28.9k [00:00<00:00, 44.4MB/s]\n",
            "100%|██████████| 1.65M/1.65M [00:00<00:00, 96.7MB/s]\n",
            "100%|██████████| 4.54k/4.54k [00:00<00:00, 7.18MB/s]\n",
            "/usr/local/lib/python3.11/dist-packages/torch/amp/grad_scaler.py:132: UserWarning: torch.cuda.amp.GradScaler is enabled, but CUDA is not available.  Disabling.\n",
            "  warnings.warn(\n",
            "Epoch 0:   0%|          | 0/118 [00:00<?, ?it/s]/usr/local/lib/python3.11/dist-packages/torch/amp/autocast_mode.py:266: UserWarning: User provided device_type of 'cuda', but CUDA is not available. Disabling\n",
            "  warnings.warn(\n",
            "Epoch 0: 100%|██████████| 118/118 [01:15<00:00,  1.56it/s, loss=542.8610]\n",
            "Epoch 1: 100%|██████████| 118/118 [01:13<00:00,  1.61it/s, loss=540.4847]\n",
            "Epoch 2: 100%|██████████| 118/118 [01:14<00:00,  1.59it/s, loss=540.3913]\n",
            "Epoch 3: 100%|██████████| 118/118 [01:13<00:00,  1.61it/s, loss=538.5060]\n",
            "Epoch 4: 100%|██████████| 118/118 [01:13<00:00,  1.61it/s, loss=537.8864]\n",
            "Epoch 5: 100%|██████████| 118/118 [01:13<00:00,  1.61it/s, loss=538.5572]\n",
            "Epoch 6: 100%|██████████| 118/118 [01:13<00:00,  1.60it/s, loss=537.2824]\n",
            "Epoch 7: 100%|██████████| 118/118 [01:13<00:00,  1.60it/s, loss=537.6367]\n",
            "Epoch 8: 100%|██████████| 118/118 [01:13<00:00,  1.61it/s, loss=535.2706]\n",
            "Epoch 9: 100%|██████████| 118/118 [01:15<00:00,  1.57it/s, loss=537.1241]\n"
          ]
        }
      ]
    },
    {
      "cell_type": "markdown",
      "source": [
        "## 5. Results visualization\n",
        "\n",
        "---\n",
        "\n",
        "아래 코드는 실행만 하면 됩니다. 바를 조절해 iteration별 학습 과정을 확인할 수 있습니다."
      ],
      "metadata": {
        "id": "svsaNz6OJqwn"
      }
    },
    {
      "cell_type": "code",
      "source": [
        "def load_step_images(step, recon_dir='vae_recon_imgs', gen_dir='vae_gen_imgs'):\n",
        "    recon_path = os.path.join(recon_dir, f'recon_{step:05d}.png')\n",
        "    gen_path = os.path.join(gen_dir, f'gen_{step:05d}.png')\n",
        "    return Image.open(recon_path), Image.open(gen_path)\n",
        "\n",
        "def show_images(step):\n",
        "    recon_img, gen_img = load_step_images(step)\n",
        "    fig, axs = plt.subplots(1, 2, figsize=(8, 4))\n",
        "    axs[0].imshow(recon_img)\n",
        "    axs[0].set_title(f\"Recon Step {step}\")\n",
        "    axs[0].axis('off')\n",
        "\n",
        "    axs[1].imshow(gen_img)\n",
        "    axs[1].set_title(f\"Gen Step {step}\")\n",
        "    axs[1].axis('off')\n",
        "    plt.tight_layout()\n",
        "    plt.show()\n",
        "\n",
        "saved_steps = sorted([\n",
        "    int(f.split('_')[-1].split('.')[0])\n",
        "    for f in os.listdir('vae_recon_imgs') if f.endswith('.png')\n",
        "])\n",
        "\n",
        "step_slider = widgets.IntSlider(\n",
        "    value=saved_steps[0],\n",
        "    min=min(saved_steps),\n",
        "    max=max(saved_steps),\n",
        "    step=100,\n",
        "    description='Step:',\n",
        "    continuous_update=False\n",
        ")\n",
        "\n",
        "# widgets.interact(show_images, step=step_slider);"
      ],
      "metadata": {
        "id": "n4KkqTHOJqHf"
      },
      "execution_count": 9,
      "outputs": []
    },
    {
      "cell_type": "code",
      "source": [
        "widgets.interact(show_images, step=step_slider);\n",
        "print('\\n')\n",
        "fig, axs = plt.subplots(1, 2, figsize=(12, 4), sharex=True)\n",
        "\n",
        "# BCE Loss subplot\n",
        "axs[0].plot(bce_losses, label='BCE Loss')\n",
        "axs[0].set_title('BCE Loss over Total Iteration')\n",
        "axs[0].set_xlabel('Iteration')\n",
        "axs[0].set_ylabel('BCE Loss')\n",
        "axs[0].legend()\n",
        "\n",
        "# KLD Loss subplot\n",
        "axs[1].plot(kld_losses, label='KLD Loss', color='orange')\n",
        "axs[1].set_title('KLD Loss over Total Iteration')\n",
        "axs[1].set_xlabel('Iteration')\n",
        "axs[1].set_ylabel('KLD Loss')\n",
        "axs[1].legend()\n",
        "\n",
        "plt.tight_layout()\n",
        "plt.show()\n"
      ],
      "metadata": {
        "colab": {
          "base_uri": "https://localhost:8080/",
          "height": 709,
          "referenced_widgets": [
            "e041fce3a918495eb2ca263a306efa7c",
            "fcaf362247cf437fa290bee8d272a9c1",
            "b65c4f94abb64b13a68673aa79e4ffbb",
            "3b3f777548cd4075ab9676e8222122c0",
            "e641236f4d454654b055611b8c4b580b",
            "34e8a211227045c68cc6993eb1998c54",
            "2c6651efbc2b40daa6fa41ea2b405c1c"
          ]
        },
        "id": "2Stm3zPaIVzL",
        "outputId": "1fff377e-1469-409b-d4f3-b0f5ed048f51"
      },
      "execution_count": 10,
      "outputs": [
        {
          "output_type": "display_data",
          "data": {
            "text/plain": [
              "interactive(children=(IntSlider(value=0, continuous_update=False, description='Step:', max=1100, step=100), Ou…"
            ],
            "application/vnd.jupyter.widget-view+json": {
              "version_major": 2,
              "version_minor": 0,
              "model_id": "e041fce3a918495eb2ca263a306efa7c"
            }
          },
          "metadata": {}
        },
        {
          "output_type": "stream",
          "name": "stdout",
          "text": [
            "\n",
            "\n"
          ]
        },
        {
          "output_type": "display_data",
          "data": {
            "text/plain": [
              "<Figure size 1200x400 with 2 Axes>"
            ],
            "image/png": "[encoded data removed]"
          },
          "metadata": {}
        }
      ]
    },
    {
      "cell_type": "markdown",
      "source": [
        "---\n",
        "___\n",
        "\n",
        "# GAN Implementation"
      ],
      "metadata": {
        "id": "Tm9Op-vOJKC8"
      }
    },
    {
      "cell_type": "markdown",
      "source": [
        "## 1. Model Design - Problem 2\n",
        "\n",
        "---\n",
        "\n",
        "$Generator$, $Discriminator$ 모델을 자유롭게 구성해보세요. 입출력 $\\text{dim}$에 맞게 세팅하는 것에 유의해주세요."
      ],
      "metadata": {
        "id": "uED-DGkwlIql"
      }
    },
    {
      "cell_type": "code",
      "execution_count": 15,
      "metadata": {
        "id": "pWFzINayh3ps"
      },
      "outputs": [],
      "source": [
        "# Generator\n",
        "class Generator(nn.Module):\n",
        "    def __init__(self, z_dim=100):\n",
        "        super().__init__()\n",
        "        self.net = nn.Sequential(\n",
        "            # input: (batch_size, z_dim, 1, 1) - noise vector\n",
        "            # first layer: expand noise to feature map\n",
        "            nn.ConvTranspose2d(z_dim, 128, 7, 1, 0, bias=False),  # -> (128, 7, 7)\n",
        "            nn.BatchNorm2d(128),\n",
        "            nn.ReLU(True),\n",
        "\n",
        "            # second layer: upsample\n",
        "            nn.ConvTranspose2d(128, 64, 4, 2, 1, bias=False),   # -> (64, 14, 14)\n",
        "            nn.BatchNorm2d(64),\n",
        "            nn.ReLU(True),\n",
        "\n",
        "            # final layer: generate MNIST image\n",
        "            nn.ConvTranspose2d(64, 1, 4, 2, 1, bias=False),     # -> (1, 28, 28)\n",
        "            nn.Tanh()  # output range [-1, 1] for normalized MNIST\n",
        "        )\n",
        "\n",
        "    def forward(self, z):\n",
        "        return self.net(z)\n",
        "\n",
        "# Discriminator\n",
        "class Discriminator(nn.Module):\n",
        "    def __init__(self):\n",
        "        super().__init__()\n",
        "        self.net = nn.Sequential(\n",
        "            # input: (1, 28, 28) - MNIST image\n",
        "            nn.Conv2d(1, 64, 4, 2, 1, bias=False),   # -> (64, 14, 14)\n",
        "            nn.LeakyReLU(0.2, inplace=True),\n",
        "\n",
        "            # hidden layer\n",
        "            nn.Conv2d(64, 128, 4, 2, 1, bias=False), # -> (128, 7, 7)\n",
        "            nn.BatchNorm2d(128),\n",
        "            nn.LeakyReLU(0.2, inplace=True),\n",
        "\n",
        "            # final layer: classify real/fake\n",
        "            nn.Conv2d(128, 1, 7, 1, 0, bias=False),  # -> (1, 1, 1)\n",
        "            nn.Sigmoid()\n",
        "        )\n",
        "\n",
        "\n",
        "    def forward(self, x):\n",
        "        return self.net(x).view(-1, 1)\n"
      ]
    },
    {
      "cell_type": "markdown",
      "source": [
        "## 2. Visualization fuction\n",
        "\n",
        "---"
      ],
      "metadata": {
        "id": "mD8qeD60q2qk"
      }
    },
    {
      "cell_type": "code",
      "source": [
        "def save_step_images_for_gan(model, step, z):\n",
        "    was_training = model.training\n",
        "    model.eval()\n",
        "    with torch.no_grad():\n",
        "        fake = model(z).detach()\n",
        "        # fake = (fake + 1) / 2  # [-1, 1] → [0, 1]\n",
        "        gen_grid = vutils.make_grid(fake, nrow=4, normalize=True, pad_value=1)\n",
        "        vutils.save_image(gen_grid, f\"gan_gen_imgs/gen_{step:05d}.png\")\n",
        "    if was_training:\n",
        "        model.train(was_training)"
      ],
      "metadata": {
        "id": "D8ioLX7Mq2yH"
      },
      "execution_count": 12,
      "outputs": []
    },
    {
      "cell_type": "markdown",
      "source": [
        "## 3. Main training loop\n",
        "\n",
        "---"
      ],
      "metadata": {
        "id": "R1hGgrSUsobG"
      }
    },
    {
      "cell_type": "code",
      "source": [
        "device = 'cuda' if torch.cuda.is_available() else 'cpu'\n",
        "\n",
        "z_dim = 100\n",
        "G = Generator(z_dim).to(device)\n",
        "D = Discriminator().to(device)\n",
        "opt_G = torch.optim.Adam(G.parameters(), lr=2e-4, betas=(0.5, 0.999))\n",
        "opt_D = torch.optim.Adam(D.parameters(), lr=2e-4, betas=(0.5, 0.999))\n",
        "loss_fn = nn.BCELoss()\n",
        "\n",
        "transform = transforms.Compose([\n",
        "    transforms.ToTensor(),\n",
        "    transforms.Normalize([0.5],[0.5])  # [-1,1] range scaling\n",
        "])\n",
        "train_loader = DataLoader(\n",
        "    datasets.MNIST('.', train=True, download=True, transform=transform),\n",
        "    batch_size=512,\n",
        "    shuffle=True\n",
        ")\n",
        "\n",
        "os.makedirs(\"gan_gen_imgs\", exist_ok=True)\n",
        "fixed_z = torch.randn(4, z_dim, 1, 1, device=device)\n",
        "\n",
        "global_step = 0\n",
        "D_losses, G_losses = [], []\n",
        "for epoch in range(20):\n",
        "    pbar = tqdm(train_loader, desc=f\"Epoch {epoch}\")\n",
        "    for x, _ in pbar:\n",
        "        x = x.to(device)\n",
        "        batch_size = x.size(0)\n",
        "\n",
        "        # Train Discriminator\n",
        "        z = torch.randn(batch_size, z_dim, 1, 1, device=device)\n",
        "        fake = G(z).detach()\n",
        "\n",
        "        opt_D.zero_grad()\n",
        "        loss_real = loss_fn(D(x), torch.ones(batch_size, 1, device=device))\n",
        "        loss_fake = loss_fn(D(fake), torch.zeros(batch_size, 1, device=device))\n",
        "        loss_D = (loss_real + loss_fake)\n",
        "        D_losses.append(loss_D.item())\n",
        "        loss_D.backward()\n",
        "        opt_D.step()\n",
        "\n",
        "        # Train Generator\n",
        "        z = torch.randn(batch_size, z_dim, 1, 1, device=device)\n",
        "        fake = G(z)\n",
        "        opt_G.zero_grad()\n",
        "        loss_G = loss_fn(D(fake), torch.ones(batch_size, 1, device=device))\n",
        "        G_losses.append(loss_G.item())\n",
        "        loss_G.backward()\n",
        "        opt_G.step()\n",
        "\n",
        "        pbar.set_postfix({\"D_loss\": f\"{loss_D.item():.4f}\", \"G_loss\": f\"{loss_G.item():.4f}\"})\n",
        "\n",
        "        if global_step % 100 == 0:\n",
        "            with torch.no_grad():\n",
        "                save_step_images_for_gan(G, step=global_step, z=fixed_z)\n",
        "\n",
        "        global_step += 1\n"
      ],
      "metadata": {
        "colab": {
          "base_uri": "https://localhost:8080/"
        },
        "id": "2rEQ8E-glRhY",
        "outputId": "9918892e-d6a8-4d32-efd9-4998cae66bf5"
      },
      "execution_count": 16,
      "outputs": [
        {
          "output_type": "stream",
          "name": "stderr",
          "text": [
            "Epoch 0: 100%|██████████| 118/118 [01:42<00:00,  1.15it/s, D_loss=1.0601, G_loss=0.6174]\n",
            "Epoch 1: 100%|██████████| 118/118 [01:43<00:00,  1.14it/s, D_loss=0.9109, G_loss=1.9559]\n",
            "Epoch 2: 100%|██████████| 118/118 [01:43<00:00,  1.15it/s, D_loss=0.8189, G_loss=1.1328]\n",
            "Epoch 3: 100%|██████████| 118/118 [01:42<00:00,  1.15it/s, D_loss=0.8674, G_loss=1.0228]\n",
            "Epoch 4: 100%|██████████| 118/118 [01:43<00:00,  1.14it/s, D_loss=0.8330, G_loss=1.8492]\n",
            "Epoch 5: 100%|██████████| 118/118 [01:43<00:00,  1.14it/s, D_loss=0.7630, G_loss=1.2392]\n",
            "Epoch 6: 100%|██████████| 118/118 [01:42<00:00,  1.15it/s, D_loss=0.6389, G_loss=1.5973]\n",
            "Epoch 7: 100%|██████████| 118/118 [01:43<00:00,  1.14it/s, D_loss=0.7416, G_loss=1.0305]\n",
            "Epoch 8: 100%|██████████| 118/118 [01:43<00:00,  1.14it/s, D_loss=0.8045, G_loss=1.7778]\n",
            "Epoch 9: 100%|██████████| 118/118 [01:42<00:00,  1.15it/s, D_loss=0.7323, G_loss=1.2435]\n",
            "Epoch 10: 100%|██████████| 118/118 [01:43<00:00,  1.14it/s, D_loss=0.6891, G_loss=1.1637]\n",
            "Epoch 11: 100%|██████████| 118/118 [01:41<00:00,  1.16it/s, D_loss=0.8247, G_loss=1.3709]\n",
            "Epoch 12: 100%|██████████| 118/118 [01:43<00:00,  1.15it/s, D_loss=0.8384, G_loss=1.1475]\n",
            "Epoch 13: 100%|██████████| 118/118 [01:43<00:00,  1.14it/s, D_loss=0.9547, G_loss=0.9171]\n",
            "Epoch 14: 100%|██████████| 118/118 [01:42<00:00,  1.15it/s, D_loss=0.7348, G_loss=1.2014]\n",
            "Epoch 15: 100%|██████████| 118/118 [01:43<00:00,  1.14it/s, D_loss=0.8319, G_loss=1.3610]\n",
            "Epoch 16: 100%|██████████| 118/118 [01:42<00:00,  1.15it/s, D_loss=1.3502, G_loss=2.7799]\n",
            "Epoch 17: 100%|██████████| 118/118 [01:43<00:00,  1.14it/s, D_loss=0.7040, G_loss=1.6717]\n",
            "Epoch 18: 100%|██████████| 118/118 [01:44<00:00,  1.13it/s, D_loss=0.7975, G_loss=1.7771]\n",
            "Epoch 19: 100%|██████████| 118/118 [01:42<00:00,  1.15it/s, D_loss=0.7677, G_loss=1.0921]\n"
          ]
        }
      ]
    },
    {
      "cell_type": "markdown",
      "source": [
        "## 4. Visualization\n",
        "\n",
        "---"
      ],
      "metadata": {
        "id": "BmvfOGKMsjKR"
      }
    },
    {
      "cell_type": "code",
      "execution_count": 17,
      "metadata": {
        "id": "fvlhH6nSzyc_"
      },
      "outputs": [],
      "source": [
        "def load_step_images(step, gen_dir='gan_gen_imgs'):\n",
        "    gen_path = os.path.join(gen_dir, f'gen_{step:05d}.png')\n",
        "    gen_img = Image.open(gen_path)\n",
        "    return gen_img\n",
        "\n",
        "def show_images(step):\n",
        "    gen_img = load_step_images(step)\n",
        "    fig, ax = plt.subplots(figsize=(4, 4))\n",
        "    ax.imshow(gen_img)\n",
        "    ax.set_title(f\"Gen Step {step}\\n(fixed z shown)\")\n",
        "    ax.axis('off')\n",
        "    plt.tight_layout()\n",
        "    plt.show()\n",
        "\n",
        "if os.path.exists('gan_gen_imgs'):\n",
        "    saved_steps = sorted([\n",
        "        int(f.split('_')[-1].split('.')[0])\n",
        "        for f in os.listdir('gan_gen_imgs') if f.endswith('.png')\n",
        "    ])\n",
        "\n",
        "    if saved_steps:\n",
        "        step_slider = widgets.IntSlider(\n",
        "            value=saved_steps[0],\n",
        "            min=min(saved_steps),\n",
        "            max=max(saved_steps),\n",
        "            step=100,\n",
        "            description='Step:',\n",
        "            continuous_update=False\n",
        "        )\n",
        "\n",
        "        # widgets.interact(show_images, step=step_slider)"
      ]
    },
    {
      "cell_type": "code",
      "source": [
        "widgets.interact(show_images, step=step_slider);\n",
        "print('\\n')\n",
        "fig, axs = plt.subplots(1, 2, figsize=(14, 4), sharex=True)\n",
        "\n",
        "axs[0].plot(D_losses, label='Discriminator Loss', color='blue')\n",
        "axs[0].set_title('Discriminator Loss (BCE) over Iteration')\n",
        "axs[0].set_xlabel('Iteration')\n",
        "axs[0].set_ylabel('Loss')\n",
        "axs[0].legend()\n",
        "axs[0].grid(True)\n",
        "\n",
        "axs[1].plot(G_losses, label='Generator Loss (BCE)', color='orange')\n",
        "axs[1].set_title('Generator Loss (BCE) over Iteration')\n",
        "axs[1].set_xlabel('Iteration')\n",
        "axs[1].set_ylabel('Loss')\n",
        "axs[1].legend()\n",
        "axs[1].grid(True)\n",
        "\n",
        "plt.tight_layout()\n",
        "plt.show()"
      ],
      "metadata": {
        "colab": {
          "base_uri": "https://localhost:8080/",
          "height": 614,
          "referenced_widgets": [
            "36c0a9f4ad224d1da037186bd3301fe9",
            "74894de8473b4c619ff6735d647e1255",
            "4366449208314f80a003637d09a42ff4",
            "4cad93859d064531ab5b6f8b047a62ad",
            "55914cb46d6d421caaf905add35046d5",
            "7032e44f8ad14e19ab219be9978a3f3b",
            "2764409a3f9044e0947d62224639c714"
          ]
        },
        "id": "i1StRLM9si1m",
        "outputId": "daf0c33d-31a2-47f0-c551-3ec5f3e97d12"
      },
      "execution_count": 18,
      "outputs": [
        {
          "output_type": "display_data",
          "data": {
            "text/plain": [
              "interactive(children=(IntSlider(value=0, continuous_update=False, description='Step:', max=2300, step=100), Ou…"
            ],
            "application/vnd.jupyter.widget-view+json": {
              "version_major": 2,
              "version_minor": 0,
              "model_id": "36c0a9f4ad224d1da037186bd3301fe9"
            }
          },
          "metadata": {}
        },
        {
          "output_type": "stream",
          "name": "stdout",
          "text": [
            "\n",
            "\n"
          ]
        },
        {
          "output_type": "display_data",
          "data": {
            "text/plain": [
              "<Figure size 1400x400 with 2 Axes>"
            ],
            "image/png": "[encoded data removed]"
          },
          "metadata": {}
        }
      ]
    }
  ],
  "metadata": {
    "colab": {
      "machine_shape": "hm",
      "provenance": []
    },
    "kernelspec": {
      "display_name": "Python 3",
      "name": "python3"
    },
    "language_info": {
      "name": "python"
    },
    "widgets": {
      "application/vnd.jupyter.widget-state+json": {
        "e041fce3a918495eb2ca263a306efa7c": {
          "model_module": "@jupyter-widgets/controls",
          "model_name": "VBoxModel",
          "model_module_version": "1.5.0",
          "state": {
            "_dom_classes": [
              "widget-interact"
            ],
            "_model_module": "@jupyter-widgets/controls",
            "_model_module_version": "1.5.0",
            "_model_name": "VBoxModel",
            "_view_count": null,
            "_view_module": "@jupyter-widgets/controls",
            "_view_module_version": "1.5.0",
            "_view_name": "VBoxView",
            "box_style": "",
            "children": [
              "IPY_MODEL_fcaf362247cf437fa290bee8d272a9c1",
              "IPY_MODEL_b65c4f94abb64b13a68673aa79e4ffbb"
            ],
            "layout": "IPY_MODEL_3b3f777548cd4075ab9676e8222122c0"
          }
        },
        "fcaf362247cf437fa290bee8d272a9c1": {
          "model_module": "@jupyter-widgets/controls",
          "model_name": "IntSliderModel",
          "model_module_version": "1.5.0",
          "state": {
            "_dom_classes": [],
            "_model_module": "@jupyter-widgets/controls",
            "_model_module_version": "1.5.0",
            "_model_name": "IntSliderModel",
            "_view_count": null,
            "_view_module": "@jupyter-widgets/controls",
            "_view_module_version": "1.5.0",
            "_view_name": "IntSliderView",
            "continuous_update": false,
            "description": "Step:",
            "description_tooltip": null,
            "disabled": false,
            "layout": "IPY_MODEL_e641236f4d454654b055611b8c4b580b",
            "max": 1100,
            "min": 0,
            "orientation": "horizontal",
            "readout": true,
            "readout_format": "d",
            "step": 100,
            "style": "IPY_MODEL_34e8a211227045c68cc6993eb1998c54",
            "value": 0
          }
        },
        "b65c4f94abb64b13a68673aa79e4ffbb": {
          "model_module": "@jupyter-widgets/output",
          "model_name": "OutputModel",
          "model_module_version": "1.0.0",
          "state": {
            "_dom_classes": [],
            "_model_module": "@jupyter-widgets/output",
            "_model_module_version": "1.0.0",
            "_model_name": "OutputModel",
            "_view_count": null,
            "_view_module": "@jupyter-widgets/output",
            "_view_module_version": "1.0.0",
            "_view_name": "OutputView",
            "layout": "IPY_MODEL_2c6651efbc2b40daa6fa41ea2b405c1c",
            "msg_id": "",
            "outputs": [
              {
                "output_type": "display_data",
                "data": {
                  "text/plain": "<Figure size 800x400 with 2 Axes>",
                  "image/png": "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\n"
                },
                "metadata": {}
              }
            ]
          }
        },
        "3b3f777548cd4075ab9676e8222122c0": {
          "model_module": "@jupyter-widgets/base",
          "model_name": "LayoutModel",
          "model_module_version": "1.2.0",
          "state": {
            "_model_module": "@jupyter-widgets/base",
            "_model_module_version": "1.2.0",
            "_model_name": "LayoutModel",
            "_view_count": null,
            "_view_module": "@jupyter-widgets/base",
            "_view_module_version": "1.2.0",
            "_view_name": "LayoutView",
            "align_content": null,
            "align_items": null,
            "align_self": null,
            "border": null,
            "bottom": null,
            "display": null,
            "flex": null,
            "flex_flow": null,
            "grid_area": null,
            "grid_auto_columns": null,
            "grid_auto_flow": null,
            "grid_auto_rows": null,
            "grid_column": null,
            "grid_gap": null,
            "grid_row": null,
            "grid_template_areas": null,
            "grid_template_columns": null,
            "grid_template_rows": null,
            "height": null,
            "justify_content": null,
            "justify_items": null,
            "left": null,
            "margin": null,
            "max_height": null,
            "max_width": null,
            "min_height": null,
            "min_width": null,
            "object_fit": null,
            "object_position": null,
            "order": null,
            "overflow": null,
            "overflow_x": null,
            "overflow_y": null,
            "padding": null,
            "right": null,
            "top": null,
            "visibility": null,
            "width": null
          }
        },
        "e641236f4d454654b055611b8c4b580b": {
          "model_module": "@jupyter-widgets/base",
          "model_name": "LayoutModel",
          "model_module_version": "1.2.0",
          "state": {
            "_model_module": "@jupyter-widgets/base",
            "_model_module_version": "1.2.0",
            "_model_name": "LayoutModel",
            "_view_count": null,
            "_view_module": "@jupyter-widgets/base",
            "_view_module_version": "1.2.0",
            "_view_name": "LayoutView",
            "align_content": null,
            "align_items": null,
            "align_self": null,
            "border": null,
            "bottom": null,
            "display": null,
            "flex": null,
            "flex_flow": null,
            "grid_area": null,
            "grid_auto_columns": null,
            "grid_auto_flow": null,
            "grid_auto_rows": null,
            "grid_column": null,
            "grid_gap": null,
            "grid_row": null,
            "grid_template_areas": null,
            "grid_template_columns": null,
            "grid_template_rows": null,
            "height": null,
            "justify_content": null,
            "justify_items": null,
            "left": null,
            "margin": null,
            "max_height": null,
            "max_width": null,
            "min_height": null,
            "min_width": null,
            "object_fit": null,
            "object_position": null,
            "order": null,
            "overflow": null,
            "overflow_x": null,
            "overflow_y": null,
            "padding": null,
            "right": null,
            "top": null,
            "visibility": null,
            "width": null
          }
        },
        "34e8a211227045c68cc6993eb1998c54": {
          "model_module": "@jupyter-widgets/controls",
          "model_name": "SliderStyleModel",
          "model_module_version": "1.5.0",
          "state": {
            "_model_module": "@jupyter-widgets/controls",
            "_model_module_version": "1.5.0",
            "_model_name": "SliderStyleModel",
            "_view_count": null,
            "_view_module": "@jupyter-widgets/base",
            "_view_module_version": "1.2.0",
            "_view_name": "StyleView",
            "description_width": "",
            "handle_color": null
          }
        },
        "2c6651efbc2b40daa6fa41ea2b405c1c": {
          "model_module": "@jupyter-widgets/base",
          "model_name": "LayoutModel",
          "model_module_version": "1.2.0",
          "state": {
            "_model_module": "@jupyter-widgets/base",
            "_model_module_version": "1.2.0",
            "_model_name": "LayoutModel",
            "_view_count": null,
            "_view_module": "@jupyter-widgets/base",
            "_view_module_version": "1.2.0",
            "_view_name": "LayoutView",
            "align_content": null,
            "align_items": null,
            "align_self": null,
            "border": null,
            "bottom": null,
            "display": null,
            "flex": null,
            "flex_flow": null,
            "grid_area": null,
            "grid_auto_columns": null,
            "grid_auto_flow": null,
            "grid_auto_rows": null,
            "grid_column": null,
            "grid_gap": null,
            "grid_row": null,
            "grid_template_areas": null,
            "grid_template_columns": null,
            "grid_template_rows": null,
            "height": null,
            "justify_content": null,
            "justify_items": null,
            "left": null,
            "margin": null,
            "max_height": null,
            "max_width": null,
            "min_height": null,
            "min_width": null,
            "object_fit": null,
            "object_position": null,
            "order": null,
            "overflow": null,
            "overflow_x": null,
            "overflow_y": null,
            "padding": null,
            "right": null,
            "top": null,
            "visibility": null,
            "width": null
          }
        },
        "36c0a9f4ad224d1da037186bd3301fe9": {
          "model_module": "@jupyter-widgets/controls",
          "model_name": "VBoxModel",
          "model_module_version": "1.5.0",
          "state": {
            "_dom_classes": [
              "widget-interact"
            ],
            "_model_module": "@jupyter-widgets/controls",
            "_model_module_version": "1.5.0",
            "_model_name": "VBoxModel",
            "_view_count": null,
            "_view_module": "@jupyter-widgets/controls",
            "_view_module_version": "1.5.0",
            "_view_name": "VBoxView",
            "box_style": "",
            "children": [
              "IPY_MODEL_74894de8473b4c619ff6735d647e1255",
              "IPY_MODEL_4366449208314f80a003637d09a42ff4"
            ],
            "layout": "IPY_MODEL_4cad93859d064531ab5b6f8b047a62ad"
          }
        },
        "74894de8473b4c619ff6735d647e1255": {
          "model_module": "@jupyter-widgets/controls",
          "model_name": "IntSliderModel",
          "model_module_version": "1.5.0",
          "state": {
            "_dom_classes": [],
            "_model_module": "@jupyter-widgets/controls",
            "_model_module_version": "1.5.0",
            "_model_name": "IntSliderModel",
            "_view_count": null,
            "_view_module": "@jupyter-widgets/controls",
            "_view_module_version": "1.5.0",
            "_view_name": "IntSliderView",
            "continuous_update": false,
            "description": "Step:",
            "description_tooltip": null,
            "disabled": false,
            "layout": "IPY_MODEL_55914cb46d6d421caaf905add35046d5",
            "max": 2300,
            "min": 0,
            "orientation": "horizontal",
            "readout": true,
            "readout_format": "d",
            "step": 100,
            "style": "IPY_MODEL_7032e44f8ad14e19ab219be9978a3f3b",
            "value": 2300
          }
        },
        "4366449208314f80a003637d09a42ff4": {
          "model_module": "@jupyter-widgets/output",
          "model_name": "OutputModel",
          "model_module_version": "1.0.0",
          "state": {
            "_dom_classes": [],
            "_model_module": "@jupyter-widgets/output",
            "_model_module_version": "1.0.0",
            "_model_name": "OutputModel",
            "_view_count": null,
            "_view_module": "@jupyter-widgets/output",
            "_view_module_version": "1.0.0",
            "_view_name": "OutputView",
            "layout": "IPY_MODEL_2764409a3f9044e0947d62224639c714",
            "msg_id": "",
            "outputs": [
              {
                "output_type": "display_data",
                "data": {
                  "text/plain": "<Figure size 400x400 with 1 Axes>",
                  "image/png": "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\n"
                },
                "metadata": {}
              }
            ]
          }
        },
        "4cad93859d064531ab5b6f8b047a62ad": {
          "model_module": "@jupyter-widgets/base",
          "model_name": "LayoutModel",
          "model_module_version": "1.2.0",
          "state": {
            "_model_module": "@jupyter-widgets/base",
            "_model_module_version": "1.2.0",
            "_model_name": "LayoutModel",
            "_view_count": null,
            "_view_module": "@jupyter-widgets/base",
            "_view_module_version": "1.2.0",
            "_view_name": "LayoutView",
            "align_content": null,
            "align_items": null,
            "align_self": null,
            "border": null,
            "bottom": null,
            "display": null,
            "flex": null,
            "flex_flow": null,
            "grid_area": null,
            "grid_auto_columns": null,
            "grid_auto_flow": null,
            "grid_auto_rows": null,
            "grid_column": null,
            "grid_gap": null,
            "grid_row": null,
            "grid_template_areas": null,
            "grid_template_columns": null,
            "grid_template_rows": null,
            "height": null,
            "justify_content": null,
            "justify_items": null,
            "left": null,
            "margin": null,
            "max_height": null,
            "max_width": null,
            "min_height": null,
            "min_width": null,
            "object_fit": null,
            "object_position": null,
            "order": null,
            "overflow": null,
            "overflow_x": null,
            "overflow_y": null,
            "padding": null,
            "right": null,
            "top": null,
            "visibility": null,
            "width": null
          }
        },
        "55914cb46d6d421caaf905add35046d5": {
          "model_module": "@jupyter-widgets/base",
          "model_name": "LayoutModel",
          "model_module_version": "1.2.0",
          "state": {
            "_model_module": "@jupyter-widgets/base",
            "_model_module_version": "1.2.0",
            "_model_name": "LayoutModel",
            "_view_count": null,
            "_view_module": "@jupyter-widgets/base",
            "_view_module_version": "1.2.0",
            "_view_name": "LayoutView",
            "align_content": null,
            "align_items": null,
            "align_self": null,
            "border": null,
            "bottom": null,
            "display": null,
            "flex": null,
            "flex_flow": null,
            "grid_area": null,
            "grid_auto_columns": null,
            "grid_auto_flow": null,
            "grid_auto_rows": null,
            "grid_column": null,
            "grid_gap": null,
            "grid_row": null,
            "grid_template_areas": null,
            "grid_template_columns": null,
            "grid_template_rows": null,
            "height": null,
            "justify_content": null,
            "justify_items": null,
            "left": null,
            "margin": null,
            "max_height": null,
            "max_width": null,
            "min_height": null,
            "min_width": null,
            "object_fit": null,
            "object_position": null,
            "order": null,
            "overflow": null,
            "overflow_x": null,
            "overflow_y": null,
            "padding": null,
            "right": null,
            "top": null,
            "visibility": null,
            "width": null
          }
        },
        "7032e44f8ad14e19ab219be9978a3f3b": {
          "model_module": "@jupyter-widgets/controls",
          "model_name": "SliderStyleModel",
          "model_module_version": "1.5.0",
          "state": {
            "_model_module": "@jupyter-widgets/controls",
            "_model_module_version": "1.5.0",
            "_model_name": "SliderStyleModel",
            "_view_count": null,
            "_view_module": "@jupyter-widgets/base",
            "_view_module_version": "1.2.0",
            "_view_name": "StyleView",
            "description_width": "",
            "handle_color": null
          }
        },
        "2764409a3f9044e0947d62224639c714": {
          "model_module": "@jupyter-widgets/base",
          "model_name": "LayoutModel",
          "model_module_version": "1.2.0",
          "state": {
            "_model_module": "@jupyter-widgets/base",
            "_model_module_version": "1.2.0",
            "_model_name": "LayoutModel",
            "_view_count": null,
            "_view_module": "@jupyter-widgets/base",
            "_view_module_version": "1.2.0",
            "_view_name": "LayoutView",
            "align_content": null,
            "align_items": null,
            "align_self": null,
            "border": null,
            "bottom": null,
            "display": null,
            "flex": null,
            "flex_flow": null,
            "grid_area": null,
            "grid_auto_columns": null,
            "grid_auto_flow": null,
            "grid_auto_rows": null,
            "grid_column": null,
            "grid_gap": null,
            "grid_row": null,
            "grid_template_areas": null,
            "grid_template_columns": null,
            "grid_template_rows": null,
            "height": null,
            "justify_content": null,
            "justify_items": null,
            "left": null,
            "margin": null,
            "max_height": null,
            "max_width": null,
            "min_height": null,
            "min_width": null,
            "object_fit": null,
            "object_position": null,
            "order": null,
            "overflow": null,
            "overflow_x": null,
            "overflow_y": null,
            "padding": null,
            "right": null,
            "top": null,
            "visibility": null,
            "width": null
          }
        }
      }
    }
  },
  "nbformat": 4,
  "nbformat_minor": 0
}