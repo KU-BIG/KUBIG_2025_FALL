{
  "cells": [
    {
      "cell_type": "markdown",
      "source": [
        "# Training VAE and GAN model\n",
        "\n",
        "colab에서 돌릴 경우, 런타임 유형을 GPU로 변경해주세요.\n",
        "\n",
        "MNIST dataset을 활용해 VAE, GAN 모델을 간단하게 구현해보는 것이 이번 과제입니다."
      ],
      "metadata": {
        "id": "llgBx3J-oMRO"
      }
    },
    {
      "cell_type": "markdown",
      "source": [
        "# Imports and set seed"
      ],
      "metadata": {
        "id": "a3I5tElZFDcD"
      }
    },
    {
      "cell_type": "code",
      "source": [
        "!pip install ipywidgets -q\n",
        "# !jupyter nbextension enable --py widgetsnbextension -q"
      ],
      "metadata": {
        "id": "mS6c1dwaF45C"
      },
      "execution_count": 1,
      "outputs": []
    },
    {
      "cell_type": "code",
      "execution_count": 2,
      "metadata": {
        "id": "rL8dm3uXXEnE"
      },
      "outputs": [],
      "source": [
        "import os\n",
        "from tqdm import tqdm\n",
        "import random\n",
        "import numpy as np\n",
        "import matplotlib.pyplot as plt\n",
        "import torch\n",
        "import torch.nn as nn\n",
        "import torch.nn.functional as F\n",
        "from torch.utils.data import DataLoader\n",
        "from torch.optim import Adam\n",
        "from torchvision import datasets, transforms\n",
        "import torchvision.utils as vutils\n",
        "from IPython.display import display\n",
        "import ipywidgets as widgets\n",
        "from PIL import Image\n"
      ]
    },
    {
      "cell_type": "code",
      "source": [
        "def set_seed(seed=42):\n",
        "    random.seed(seed)\n",
        "    np.random.seed(seed)\n",
        "    torch.manual_seed(seed)\n",
        "    torch.cuda.manual_seed(seed)\n",
        "    torch.cuda.manual_seed_all(seed)  # if using multi-GPU\n",
        "    torch.backends.cudnn.deterministic = True\n",
        "    torch.backends.cudnn.benchmark = False\n",
        "    torch.use_deterministic_algorithms(False)  ##\n",
        "\n",
        "set_seed(1)"
      ],
      "metadata": {
        "id": "IjKgK9HxJdMz"
      },
      "execution_count": 3,
      "outputs": []
    },
    {
      "cell_type": "markdown",
      "source": [
        "# VAE Implementation"
      ],
      "metadata": {
        "id": "I9OOQofAIkZd"
      }
    },
    {
      "cell_type": "markdown",
      "source": [
        "### 1. Model design  - Problem 1\n",
        "\n",
        "---\n",
        "\n",
        "$Enc$, $Dec$ 모델을 자유롭게 구성해보세요.\n",
        "\n",
        "CNN 기반 아키텍쳐나 ViT 기반 아키텍쳐를 자유롭게 구성해도 좋습니다.\n",
        "\n",
        "이때 각 아키텍쳐 선택 요소에 맞게 epoch이나 여러 학습 파라미터를 Main training loop에서 수정해주셔야 합니다.\n",
        "\n",
        "입출력 $\\text{dim}$에 맞게 세팅하는 것에 유의해주세요.\n",
        "\n",
        "---\n"
      ],
      "metadata": {
        "id": "4EYzG4FUItly"
      }
    },
    {
      "cell_type": "code",
      "source": [
        "class ConvEncoder(nn.Module):\n",
        "    def __init__(self, latent_dim=32):\n",
        "        super().__init__()\n",
        "        self.conv = nn.Sequential(\n",
        "            # 작성란 -------------------------------------------------------------------------\n",
        "\n",
        "            # 아래는 예시 입니다.\n",
        "\n",
        "            nn.Conv2d(1, 32, 4, 2, 1),  # 28->14\n",
        "            nn.BatchNorm2d(32),\n",
        "            nn.LeakyReLU(0.2),\n",
        "\n",
        "            nn.Conv2d(32, 64, 3, 1, 1),\n",
        "            nn.BatchNorm2d(64),\n",
        "            nn.LeakyReLU(0.2),\n",
        "\n",
        "            nn.Conv2d(64, 128, 4, 2, 1),  # 14->7\n",
        "            nn.BatchNorm2d(128),\n",
        "            nn.LeakyReLU(0.2),\n",
        "\n",
        "\n",
        "            #---------------------------------------------------------------------------------\n",
        "\n",
        "            nn.Flatten()\n",
        "        )\n",
        "        self.fc_mu = nn.Linear(128 * 7 * 7, latent_dim)\n",
        "        self.fc_logvar = nn.Linear(128 * 7 * 7, latent_dim)\n",
        "\n",
        "    def forward(self, x):\n",
        "        h = self.conv(x)\n",
        "        return self.fc_mu(h), self.fc_logvar(h)\n",
        "\n",
        "\n",
        "class ConvDecoder(nn.Module):\n",
        "    def __init__(self, latent_dim=32):\n",
        "        super().__init__()\n",
        "        self.fc = nn.Linear(latent_dim, 128 * 7 * 7)\n",
        "\n",
        "        self.deconv = nn.Sequential(\n",
        "\n",
        "            # 작성란 -------------------------------------------------------------------------\n",
        "            nn.ConvTranspose2d(128, 64, 3, 1, 1), # 7->7\n",
        "            nn.BatchNorm2d(64),\n",
        "            nn.LeakyReLU(0.2),\n",
        "\n",
        "            nn.ConvTranspose2d(64, 32, 4, 2, 1), # 7->14\n",
        "            nn.BatchNorm2d(32),\n",
        "            nn.LeakyReLU(0.2),\n",
        "\n",
        "            nn.ConvTranspose2d(32, 1, 4, 2, 1),  # 14->28\n",
        "\n",
        "            #---------------------------------------------------------------------------------\n",
        "        )\n",
        "\n",
        "    def forward(self, z):\n",
        "        # 작성란 --------------------------------\n",
        "        h = self.fc(z).view(-1, 128, 7, 7)\n",
        "        #----------------------------------------\n",
        "        return self.deconv(h)\n"
      ],
      "metadata": {
        "id": "IcStCywcE6mI"
      },
      "execution_count": 4,
      "outputs": []
    },
    {
      "cell_type": "markdown",
      "source": [
        "reparameterization 과정에 대해 확인해보세요."
      ],
      "metadata": {
        "id": "EZv_xBb63_r6"
      }
    },
    {
      "cell_type": "code",
      "source": [
        "class VAE(nn.Module):\n",
        "    def __init__(self, latent_dim=64):\n",
        "        super().__init__()\n",
        "        self.encoder = ConvEncoder(latent_dim)\n",
        "        self.decoder = ConvDecoder(latent_dim)\n",
        "\n",
        "    def reparameterize(self, mu, logvar):\n",
        "        std = torch.exp(0.5 * logvar)\n",
        "        eps = torch.randn_like(std)\n",
        "        return mu + eps * std\n",
        "\n",
        "    def forward(self, x):\n",
        "        mu, logvar = self.encoder(x)\n",
        "        z = self.reparameterize(mu, logvar)\n",
        "        return self.decoder(z), mu, logvar\n"
      ],
      "metadata": {
        "id": "meqUKh45E_qD"
      },
      "execution_count": 5,
      "outputs": []
    },
    {
      "cell_type": "markdown",
      "source": [
        "### 2. Loss\n",
        "\n",
        "---\n",
        "\n",
        "$(\\text{Binary Cross Entropy + KL Divergence})$의 구조입니다.\n",
        "\n",
        "KLD term이 아래와 같은 방식으로 구해지는 이유에 대해 생각해보세요."
      ],
      "metadata": {
        "id": "QF-p96SWI03Q"
      }
    },
    {
      "cell_type": "code",
      "source": [
        "def vae_loss(x, recon_logits, mu, logvar, reduction='mean'):\n",
        "    BCE = F.binary_cross_entropy_with_logits(recon_logits, x, reduction='sum')\n",
        "    KLD = -0.5 * torch.sum(1 + logvar - mu.pow(2) - logvar.exp())\n",
        "    if reduction == 'mean':\n",
        "        div = x.size(0)\n",
        "        BCE = BCE / div\n",
        "        KLD = KLD / div\n",
        "    return BCE + KLD, BCE, KLD"
      ],
      "metadata": {
        "id": "LDO3khroGVNe"
      },
      "execution_count": 6,
      "outputs": []
    },
    {
      "cell_type": "markdown",
      "source": [
        "### 3. Visualization function\n",
        "\n",
        "---\n",
        "\n",
        "실행만 하고 넘어가시면 됩니다."
      ],
      "metadata": {
        "id": "Erkky9fzI_yh"
      }
    },
    {
      "cell_type": "code",
      "source": [
        "def save_step_images(model, step, imgs, z):\n",
        "    was_training = model.training\n",
        "    model.eval()\n",
        "    with torch.no_grad():\n",
        "        recon_logits, _, _ = model(imgs)\n",
        "        recon = torch.sigmoid(recon_logits)\n",
        "\n",
        "        recon_grid = torch.cat([imgs, recon], dim=0)\n",
        "        recon_grid = vutils.make_grid(recon_grid, nrow=4, normalize=True, pad_value=1)\n",
        "        vutils.save_image(recon_grid, f\"vae_recon_imgs/recon_{step:05d}.png\")\n",
        "\n",
        "        gen = torch.sigmoid(model.decoder(z))\n",
        "        gen_grid = vutils.make_grid(gen, nrow=4, normalize=True, pad_value=1)\n",
        "        vutils.save_image(gen_grid, f\"vae_gen_imgs/gen_{step:05d}.png\")\n",
        "\n",
        "    if was_training:\n",
        "        model.train(was_training)"
      ],
      "metadata": {
        "id": "yxhotu2hEoYd"
      },
      "execution_count": 7,
      "outputs": []
    },
    {
      "cell_type": "markdown",
      "source": [
        "## 4. Main train loop\n",
        "\n",
        "---\n",
        "\n",
        "batch size, epoch, learning rate와\n",
        "\n",
        "VAE latent dimension을 자유롭게 조절하면서 학습시켜보세요."
      ],
      "metadata": {
        "id": "t51JcflbJD7l"
      }
    },
    {
      "cell_type": "code",
      "source": [
        "device = 'cuda' if torch.cuda.is_available() else 'cpu'\n",
        "\n",
        "transform = transforms.Compose([transforms.ToTensor(),])\n",
        "train_loader = DataLoader(\n",
        "    datasets.MNIST('.', train=True, download=True, transform=transform),\n",
        "    batch_size=512,\n",
        "    shuffle=True\n",
        "    )\n",
        "\n",
        "latent_dim = 64\n",
        "model = VAE(latent_dim=latent_dim).to(device)\n",
        "optimizer = Adam(model.parameters(), lr=1e-3)\n",
        "scaler = torch.amp.GradScaler('cuda')\n",
        "\n",
        "# for visualization\n",
        "os.makedirs(\"vae_recon_imgs\", exist_ok=True)\n",
        "os.makedirs(\"vae_gen_imgs\", exist_ok=True)\n",
        "fixed_imgs, _ = next(iter(train_loader))\n",
        "fixed_imgs = fixed_imgs[:4].to(device)\n",
        "fixed_z = torch.randn(4, latent_dim).to(device)\n",
        "\n",
        "global_step = 0\n",
        "bce_losses, kld_losses = [], []\n",
        "for epoch in (range(10)):\n",
        "    model.train()\n",
        "    pbar = tqdm(train_loader, desc=f\"Epoch {epoch}\")\n",
        "    for x, _ in pbar:\n",
        "        x = x.to(device)\n",
        "        optimizer.zero_grad()\n",
        "\n",
        "        with torch.amp.autocast('cuda'):\n",
        "            recon, mu, logvar = model(x)\n",
        "            loss, bce, kld = vae_loss(x, recon, mu, logvar)\n",
        "\n",
        "        scaler.scale(loss).backward()\n",
        "        scaler.step(optimizer)\n",
        "        scaler.update()\n",
        "\n",
        "        bce_losses.append(bce.item())\n",
        "        kld_losses.append(kld.item())\n",
        "\n",
        "        pbar.set_postfix({\"loss\": f\"{loss.item():.4f}\"})\n",
        "\n",
        "        if global_step % 100 == 0:\n",
        "            with torch.no_grad():\n",
        "                save_step_images(model, step=global_step, imgs=fixed_imgs, z=fixed_z)\n",
        "\n",
        "        global_step += 1\n"
      ],
      "metadata": {
        "colab": {
          "base_uri": "https://localhost:8080/"
        },
        "id": "foJuKIX2GXt8",
        "outputId": "28322664-406c-448f-8bdb-96e9bea8cb67"
      },
      "execution_count": 8,
      "outputs": [
        {
          "output_type": "stream",
          "name": "stderr",
          "text": [
            "Epoch 0: 100%|██████████| 118/118 [00:09<00:00, 12.51it/s, loss=152.8890]\n",
            "Epoch 1: 100%|██████████| 118/118 [00:08<00:00, 13.26it/s, loss=122.1359]\n",
            "Epoch 2: 100%|██████████| 118/118 [00:08<00:00, 13.24it/s, loss=111.3316]\n",
            "Epoch 3: 100%|██████████| 118/118 [00:08<00:00, 13.76it/s, loss=112.9932]\n",
            "Epoch 4: 100%|██████████| 118/118 [00:08<00:00, 13.16it/s, loss=107.3504]\n",
            "Epoch 5: 100%|██████████| 118/118 [00:08<00:00, 13.17it/s, loss=107.4903]\n",
            "Epoch 6: 100%|██████████| 118/118 [00:08<00:00, 13.30it/s, loss=105.7293]\n",
            "Epoch 7: 100%|██████████| 118/118 [00:08<00:00, 13.99it/s, loss=106.8221]\n",
            "Epoch 8: 100%|██████████| 118/118 [00:08<00:00, 13.16it/s, loss=104.1748]\n",
            "Epoch 9: 100%|██████████| 118/118 [00:09<00:00, 13.08it/s, loss=100.2001]\n"
          ]
        }
      ]
    },
    {
      "cell_type": "markdown",
      "source": [
        "## 5. Results visualization\n",
        "\n",
        "---\n",
        "\n",
        "아래 코드는 실행만 하면 됩니다. 바를 조절해 iteration별 학습 과정을 확인할 수 있습니다."
      ],
      "metadata": {
        "id": "svsaNz6OJqwn"
      }
    },
    {
      "cell_type": "code",
      "source": [
        "def load_step_images(step, recon_dir='vae_recon_imgs', gen_dir='vae_gen_imgs'):\n",
        "    recon_path = os.path.join(recon_dir, f'recon_{step:05d}.png')\n",
        "    gen_path = os.path.join(gen_dir, f'gen_{step:05d}.png')\n",
        "    return Image.open(recon_path), Image.open(gen_path)\n",
        "\n",
        "def show_images(step):\n",
        "    recon_img, gen_img = load_step_images(step)\n",
        "    fig, axs = plt.subplots(1, 2, figsize=(8, 4))\n",
        "    axs[0].imshow(recon_img)\n",
        "    axs[0].set_title(f\"Recon Step {step}\")\n",
        "    axs[0].axis('off')\n",
        "\n",
        "    axs[1].imshow(gen_img)\n",
        "    axs[1].set_title(f\"Gen Step {step}\")\n",
        "    axs[1].axis('off')\n",
        "    plt.tight_layout()\n",
        "    plt.show()\n",
        "\n",
        "saved_steps = sorted([\n",
        "    int(f.split('_')[-1].split('.')[0])\n",
        "    for f in os.listdir('vae_recon_imgs') if f.endswith('.png')\n",
        "])\n",
        "\n",
        "step_slider = widgets.IntSlider(\n",
        "    value=saved_steps[0],\n",
        "    min=min(saved_steps),\n",
        "    max=max(saved_steps),\n",
        "    step=100,\n",
        "    description='Step:',\n",
        "    continuous_update=False\n",
        ")\n",
        "\n",
        "# widgets.interact(show_images, step=step_slider);"
      ],
      "metadata": {
        "id": "n4KkqTHOJqHf"
      },
      "execution_count": 9,
      "outputs": []
    },
    {
      "cell_type": "code",
      "source": [
        "widgets.interact(show_images, step=step_slider);\n",
        "print('\\n')\n",
        "fig, axs = plt.subplots(1, 2, figsize=(12, 4), sharex=True)\n",
        "\n",
        "# BCE Loss subplot\n",
        "axs[0].plot(bce_losses, label='BCE Loss')\n",
        "axs[0].set_title('BCE Loss over Total Iteration')\n",
        "axs[0].set_xlabel('Iteration')\n",
        "axs[0].set_ylabel('BCE Loss')\n",
        "axs[0].legend()\n",
        "\n",
        "# KLD Loss subplot\n",
        "axs[1].plot(kld_losses, label='KLD Loss', color='orange')\n",
        "axs[1].set_title('KLD Loss over Total Iteration')\n",
        "axs[1].set_xlabel('Iteration')\n",
        "axs[1].set_ylabel('KLD Loss')\n",
        "axs[1].legend()\n",
        "\n",
        "plt.tight_layout()\n",
        "plt.show()\n"
      ],
      "metadata": {
        "colab": {
          "base_uri": "https://localhost:8080/",
          "height": 676,
          "referenced_widgets": [
            "6db2799b68ef49de851a810c0c3b4854",
            "97357e7cc682427dbaa9cab5c41b1af8",
            "1302dded4ec043128c57f36f614a1793",
            "c7c1c4136b8a4d249f9da35cacb390bd"
          ]
        },
        "id": "2Stm3zPaIVzL",
        "outputId": "2e9e4249-9d34-4fa2-8e0c-6fdf77868a6c"
      },
      "execution_count": 10,
      "outputs": [
        {
          "output_type": "display_data",
          "data": {
            "text/plain": [
              "<Figure size 800x400 with 2 Axes>"
            ],
            "image/png": "[encoded data removed]"
          },
          "metadata": {}
        },
        {
          "output_type": "stream",
          "name": "stdout",
          "text": [
            "\n",
            "\n"
          ]
        },
        {
          "output_type": "display_data",
          "data": {
            "text/plain": [
              "<Figure size 1200x400 with 2 Axes>"
            ],
            "image/png": "[encoded data removed]"
          },
          "metadata": {}
        }
      ]
    },
    {
      "cell_type": "markdown",
      "source": [
        "---\n",
        "___\n",
        "\n",
        "# GAN Implementation"
      ],
      "metadata": {
        "id": "Tm9Op-vOJKC8"
      }
    },
    {
      "cell_type": "markdown",
      "source": [
        "## 1. Model Design - Problem 2\n",
        "\n",
        "---\n",
        "\n",
        "$Generator$, $Discriminator$ 모델을 자유롭게 구성해보세요. 입출력 $\\text{dim}$에 맞게 세팅하는 것에 유의해주세요."
      ],
      "metadata": {
        "id": "uED-DGkwlIql"
      }
    },
    {
      "cell_type": "code",
      "execution_count": 11,
      "metadata": {
        "id": "pWFzINayh3ps"
      },
      "outputs": [],
      "source": [
        "# Generator\n",
        "class Generator(nn.Module):\n",
        "    def __init__(self, z_dim=100):\n",
        "        super().__init__()\n",
        "        self.net = nn.Sequential(\n",
        "            # 작성란 -------------------------------------------------------------------------\n",
        "\n",
        "            # 입력: (z_dim, 1, 1)\n",
        "            nn.ConvTranspose2d(z_dim, 128, 7, 1, 0, bias=False),  # -> (128, 7, 7)\n",
        "            nn.BatchNorm2d(128),\n",
        "            nn.ReLU(True),\n",
        "\n",
        "            nn.ConvTranspose2d(128, 64, 4, 2, 1, bias=False),  # -> (64, 14, 14)\n",
        "            nn.BatchNorm2d(64),\n",
        "            nn.ReLU(True),\n",
        "\n",
        "            nn.ConvTranspose2d(64, 1, 4, 2, 1, bias=False),      # -> (1, 28, 28)\n",
        "            #---------------------------------------------------------------------------------\n",
        "\n",
        "            nn.Tanh()\n",
        "        )\n",
        "\n",
        "    def forward(self, z):\n",
        "        return self.net(z)\n",
        "\n",
        "# Discriminator\n",
        "class Discriminator(nn.Module):\n",
        "    def __init__(self):\n",
        "        super().__init__()\n",
        "        self.net = nn.Sequential(\n",
        "            # 작성란 -------------------------------------------------------------------------\n",
        "\n",
        "            nn.Conv2d(1, 64, 4, 2, 1, bias=False),  # (1,28,28) -> (64, 14, 14)\n",
        "            nn.LeakyReLU(0.2, inplace=True),\n",
        "\n",
        "            nn.Conv2d(64, 128, 4, 2, 1, bias=False),  # -> (128, 7, 7)\n",
        "            nn.LeakyReLU(0.2, inplace=True),\n",
        "\n",
        "            nn.Conv2d(128, 1, 7, 1, 0, bias=False), # -> (1,1,1)\n",
        "            nn.Sigmoid()\n",
        "            #---------------------------------------------------------------------------------\n",
        "        )\n",
        "\n",
        "    def forward(self, x):\n",
        "        return self.net(x).view(-1, 1)\n"
      ]
    },
    {
      "cell_type": "markdown",
      "source": [
        "## 2. Visualization fuction\n",
        "\n",
        "---"
      ],
      "metadata": {
        "id": "mD8qeD60q2qk"
      }
    },
    {
      "cell_type": "code",
      "source": [
        "def save_step_images_for_gan(model, step, z):\n",
        "    was_training = model.training\n",
        "    model.eval()\n",
        "    with torch.no_grad():\n",
        "        fake = model(z).detach()\n",
        "        # fake = (fake + 1) / 2  # [-1, 1] → [0, 1]\n",
        "        gen_grid = vutils.make_grid(fake, nrow=4, normalize=True, pad_value=1)\n",
        "        vutils.save_image(gen_grid, f\"gan_gen_imgs/gen_{step:05d}.png\")\n",
        "    if was_training:\n",
        "        model.train(was_training)"
      ],
      "metadata": {
        "id": "D8ioLX7Mq2yH"
      },
      "execution_count": 12,
      "outputs": []
    },
    {
      "cell_type": "markdown",
      "source": [
        "## 3. Main training loop\n",
        "\n",
        "---"
      ],
      "metadata": {
        "id": "R1hGgrSUsobG"
      }
    },
    {
      "cell_type": "code",
      "source": [
        "device = 'cuda' if torch.cuda.is_available() else 'cpu'\n",
        "\n",
        "z_dim = 100\n",
        "G = Generator(z_dim).to(device)\n",
        "D = Discriminator().to(device)\n",
        "opt_G = torch.optim.Adam(G.parameters(), lr=2e-4, betas=(0.5, 0.999))\n",
        "opt_D = torch.optim.Adam(D.parameters(), lr=2e-4, betas=(0.5, 0.999))\n",
        "loss_fn = nn.BCELoss()\n",
        "\n",
        "transform = transforms.Compose([\n",
        "    transforms.ToTensor(),\n",
        "    transforms.Normalize([0.5],[0.5])  # [-1,1] range scaling\n",
        "])\n",
        "train_loader = DataLoader(\n",
        "    datasets.MNIST('.', train=True, download=True, transform=transform),\n",
        "    batch_size=512,\n",
        "    shuffle=True\n",
        ")\n",
        "\n",
        "os.makedirs(\"gan_gen_imgs\", exist_ok=True)\n",
        "fixed_z = torch.randn(4, z_dim, 1, 1, device=device)\n",
        "\n",
        "global_step = 0\n",
        "D_losses, G_losses = [], []\n",
        "for epoch in range(20):\n",
        "    pbar = tqdm(train_loader, desc=f\"Epoch {epoch}\")\n",
        "    for x, _ in pbar:\n",
        "        x = x.to(device)\n",
        "        batch_size = x.size(0)\n",
        "\n",
        "        # Train Discriminator\n",
        "        z = torch.randn(batch_size, z_dim, 1, 1, device=device)\n",
        "        fake = G(z).detach()\n",
        "\n",
        "        opt_D.zero_grad()\n",
        "        loss_real = loss_fn(D(x), torch.ones(batch_size, 1, device=device))\n",
        "        loss_fake = loss_fn(D(fake), torch.zeros(batch_size, 1, device=device))\n",
        "        loss_D = (loss_real + loss_fake)\n",
        "        D_losses.append(loss_D.item())\n",
        "        loss_D.backward()\n",
        "        opt_D.step()\n",
        "\n",
        "        # Train Generator\n",
        "        z = torch.randn(batch_size, z_dim, 1, 1, device=device)\n",
        "        fake = G(z)\n",
        "        opt_G.zero_grad()\n",
        "        loss_G = loss_fn(D(fake), torch.ones(batch_size, 1, device=device))\n",
        "        G_losses.append(loss_G.item())\n",
        "        loss_G.backward()\n",
        "        opt_G.step()\n",
        "\n",
        "        pbar.set_postfix({\"D_loss\": f\"{loss_D.item():.4f}\", \"G_loss\": f\"{loss_G.item():.4f}\"})\n",
        "\n",
        "        if global_step % 100 == 0:\n",
        "            with torch.no_grad():\n",
        "                save_step_images_for_gan(G, step=global_step, z=fixed_z)\n",
        "\n",
        "        global_step += 1\n"
      ],
      "metadata": {
        "colab": {
          "base_uri": "https://localhost:8080/"
        },
        "id": "2rEQ8E-glRhY",
        "outputId": "58972621-006e-4da0-91a7-9b4f942c5484"
      },
      "execution_count": 13,
      "outputs": [
        {
          "output_type": "stream",
          "name": "stderr",
          "text": [
            "Epoch 0: 100%|██████████| 118/118 [00:22<00:00,  5.22it/s, D_loss=0.5730, G_loss=5.0406]\n",
            "Epoch 1: 100%|██████████| 118/118 [00:22<00:00,  5.35it/s, D_loss=1.1045, G_loss=0.9746]\n",
            "Epoch 2: 100%|██████████| 118/118 [00:21<00:00,  5.43it/s, D_loss=1.3204, G_loss=0.6029]\n",
            "Epoch 3: 100%|██████████| 118/118 [00:22<00:00,  5.30it/s, D_loss=1.2653, G_loss=0.8343]\n",
            "Epoch 4: 100%|██████████| 118/118 [00:22<00:00,  5.33it/s, D_loss=1.2477, G_loss=1.0474]\n",
            "Epoch 5: 100%|██████████| 118/118 [00:22<00:00,  5.30it/s, D_loss=1.3158, G_loss=0.6847]\n",
            "Epoch 6: 100%|██████████| 118/118 [00:22<00:00,  5.24it/s, D_loss=1.2280, G_loss=0.9252]\n",
            "Epoch 7: 100%|██████████| 118/118 [00:22<00:00,  5.33it/s, D_loss=1.2064, G_loss=0.9821]\n",
            "Epoch 8: 100%|██████████| 118/118 [00:22<00:00,  5.22it/s, D_loss=1.2380, G_loss=0.9382]\n",
            "Epoch 9: 100%|██████████| 118/118 [00:22<00:00,  5.35it/s, D_loss=1.2544, G_loss=1.0273]\n",
            "Epoch 10: 100%|██████████| 118/118 [00:22<00:00,  5.26it/s, D_loss=1.1922, G_loss=0.8123]\n",
            "Epoch 11: 100%|██████████| 118/118 [00:22<00:00,  5.26it/s, D_loss=1.2607, G_loss=0.6064]\n",
            "Epoch 12: 100%|██████████| 118/118 [00:22<00:00,  5.27it/s, D_loss=1.2252, G_loss=0.8045]\n",
            "Epoch 13: 100%|██████████| 118/118 [00:22<00:00,  5.30it/s, D_loss=1.3081, G_loss=0.6452]\n",
            "Epoch 14: 100%|██████████| 118/118 [00:22<00:00,  5.25it/s, D_loss=1.2935, G_loss=0.9139]\n",
            "Epoch 15: 100%|██████████| 118/118 [00:22<00:00,  5.27it/s, D_loss=1.3122, G_loss=0.9741]\n",
            "Epoch 16: 100%|██████████| 118/118 [00:22<00:00,  5.25it/s, D_loss=1.3209, G_loss=0.7066]\n",
            "Epoch 17: 100%|██████████| 118/118 [00:22<00:00,  5.33it/s, D_loss=1.2996, G_loss=0.7297]\n",
            "Epoch 18: 100%|██████████| 118/118 [00:22<00:00,  5.26it/s, D_loss=1.2857, G_loss=0.9464]\n",
            "Epoch 19: 100%|██████████| 118/118 [00:22<00:00,  5.32it/s, D_loss=1.2961, G_loss=1.0660]\n"
          ]
        }
      ]
    },
    {
      "cell_type": "markdown",
      "source": [
        "## 4. Visualization\n",
        "\n",
        "---"
      ],
      "metadata": {
        "id": "BmvfOGKMsjKR"
      }
    },
    {
      "cell_type": "code",
      "source": [
        "def load_step_images(step, gen_dir='gan_gen_imgs'):\n",
        "    gen_path = os.path.join(gen_dir, f'gen_{step:05d}.png')\n",
        "    gen_img = Image.open(gen_path)\n",
        "    return gen_img\n",
        "\n",
        "def show_images(step):\n",
        "    gen_img = load_step_images(step)\n",
        "    fig, ax = plt.subplots(figsize=(4, 4))\n",
        "    ax.imshow(gen_img)\n",
        "    ax.set_title(f\"Gen Step {step}\\n(fixed z shown)\")\n",
        "    ax.axis('off')\n",
        "    plt.tight_layout()\n",
        "    plt.show()\n",
        "\n",
        "if os.path.exists('gan_gen_imgs'):\n",
        "    saved_steps = sorted([\n",
        "        int(f.split('_')[-1].split('.')[0])\n",
        "        for f in os.listdir('gan_gen_imgs') if f.endswith('.png')\n",
        "    ])\n",
        "\n",
        "    if saved_steps:\n",
        "        step_slider = widgets.IntSlider(\n",
        "            value=saved_steps[0],\n",
        "            min=min(saved_steps),\n",
        "            max=max(saved_steps),\n",
        "            step=100,\n",
        "            description='Step:',\n",
        "            continuous_update=False\n",
        "        )\n",
        "\n",
        "        # widgets.interact(show_images, step=step_slider)"
      ],
      "metadata": {
        "id": "qUmCEgi0u-oj"
      },
      "execution_count": 16,
      "outputs": []
    },
    {
      "cell_type": "code",
      "source": [
        "widgets.interact(show_images, step=step_slider);\n",
        "print('\\n')\n",
        "fig, axs = plt.subplots(1, 2, figsize=(14, 4), sharex=True)\n",
        "\n",
        "axs[0].plot(D_losses, label='Discriminator Loss', color='blue')\n",
        "axs[0].set_title('Discriminator Loss (BCE) over Iteration')\n",
        "axs[0].set_xlabel('Iteration')\n",
        "axs[0].set_ylabel('Loss')\n",
        "axs[0].legend()\n",
        "axs[0].grid(True)\n",
        "\n",
        "axs[1].plot(G_losses, label='Generator Loss (BCE)', color='orange')\n",
        "axs[1].set_title('Generator Loss (BCE) over Iteration')\n",
        "axs[1].set_xlabel('Iteration')\n",
        "axs[1].set_ylabel('Loss')\n",
        "axs[1].legend()\n",
        "axs[1].grid(True)\n",
        "\n",
        "plt.tight_layout()\n",
        "plt.show()"
      ],
      "metadata": {
        "colab": {
          "base_uri": "https://localhost:8080/",
          "height": 634,
          "referenced_widgets": [
            "261c208a60124d879f6541c8b9bdd9d2",
            "a9d4385a4cb5420791c87bae9b2294b0",
            "fb63074cf6184822a910cb9d77497881",
            "101b57f3ba624f4c9a6b429be43c9364",
            "c5a2620de93c47fca61216105e25138e",
            "68cf8a34ac4347d1b9ebacab42db6460",
            "ec99a7963c224e609462d50e7150d2cc"
          ]
        },
        "id": "i1StRLM9si1m",
        "outputId": "1bec5885-4a72-4faf-9194-c596e0257d49"
      },
      "execution_count": 17,
      "outputs": [
        {
          "output_type": "display_data",
          "data": {
            "text/plain": [
              "interactive(children=(IntSlider(value=0, continuous_update=False, description='Step:', max=2300, step=100), Ou…"
            ],
            "application/vnd.jupyter.widget-view+json": {
              "version_major": 2,
              "version_minor": 0,
              "model_id": "261c208a60124d879f6541c8b9bdd9d2"
            }
          },
          "metadata": {}
        },
        {
          "output_type": "stream",
          "name": "stdout",
          "text": [
            "\n",
            "\n"
          ]
        },
        {
          "output_type": "display_data",
          "data": {
            "text/plain": [
              "<Figure size 1400x400 with 2 Axes>"
            ],
            "image/png": "[encoded data removed]"
          },
          "metadata": {}
        }
      ]
    }
  ],
  "metadata": {
    "accelerator": "GPU",
    "colab": {
      "gpuType": "T4",
      "provenance": []
    },
    "kernelspec": {
      "display_name": "Python 3",
      "name": "python3"
    },
    "language_info": {
      "name": "python"
    },
    "widgets": {
      "application/vnd.jupyter.widget-state+json": {
        "6db2799b68ef49de851a810c0c3b4854": {
          "model_module": "@jupyter-widgets/controls",
          "model_name": "VBoxModel",
          "model_module_version": "1.5.0",
          "state": {
            "_dom_classes": [
              "widget-interact"
            ],
            "_model_module": "@jupyter-widgets/controls",
            "_model_module_version": "1.5.0",
            "_model_name": "VBoxModel",
            "_view_count": null,
            "_view_module": "@jupyter-widgets/controls",
            "_view_module_version": "1.5.0",
            "_view_name": "VBoxView",
            "box_style": "",
            "children": [
              "IPY_MODEL_97357e7cc682427dbaa9cab5c41b1af8",
              "IPY_MODEL_1302dded4ec043128c57f36f614a1793"
            ],
            "layout": "IPY_MODEL_c7c1c4136b8a4d249f9da35cacb390bd"
          }
        },
        "97357e7cc682427dbaa9cab5c41b1af8": {
          "model_module": "@jupyter-widgets/controls",
          "model_name": "IntSliderModel",
          "model_module_version": "1.5.0",
          "state": {
            "_dom_classes": [],
            "_model_module": "@jupyter-widgets/controls",
            "_model_module_version": "1.5.0",
            "_model_name": "IntSliderModel",
            "_view_count": null,
            "_view_module": "@jupyter-widgets/controls",
            "_view_module_version": "1.5.0",
            "_view_name": "IntSliderView",
            "continuous_update": false,
            "description": "Step:",
            "description_tooltip": null,
            "disabled": false,
            "layout": "IPY_MODEL_ad583e43d84847f99a0507970678cc45",
            "max": 1100,
            "min": 0,
            "orientation": "horizontal",
            "readout": true,
            "readout_format": "d",
            "step": 100,
            "style": "IPY_MODEL_41acc57a90b24580ab0e122c5cb4eb5d",
            "value": 0
          }
        },
        "1302dded4ec043128c57f36f614a1793": {
          "model_module": "@jupyter-widgets/output",
          "model_name": "OutputModel",
          "model_module_version": "1.0.0",
          "state": {
            "_dom_classes": [],
            "_model_module": "@jupyter-widgets/output",
            "_model_module_version": "1.0.0",
            "_model_name": "OutputModel",
            "_view_count": null,
            "_view_module": "@jupyter-widgets/output",
            "_view_module_version": "1.0.0",
            "_view_name": "OutputView",
            "layout": "IPY_MODEL_68fa5060809d49bfa14a4805209cdcbe",
            "msg_id": "",
            "outputs": []
          }
        },
        "c7c1c4136b8a4d249f9da35cacb390bd": {
          "model_module": "@jupyter-widgets/base",
          "model_name": "LayoutModel",
          "model_module_version": "1.2.0",
          "state": {
            "_model_module": "@jupyter-widgets/base",
            "_model_module_version": "1.2.0",
            "_model_name": "LayoutModel",
            "_view_count": null,
            "_view_module": "@jupyter-widgets/base",
            "_view_module_version": "1.2.0",
            "_view_name": "LayoutView",
            "align_content": null,
            "align_items": null,
            "align_self": null,
            "border": null,
            "bottom": null,
            "display": null,
            "flex": null,
            "flex_flow": null,
            "grid_area": null,
            "grid_auto_columns": null,
            "grid_auto_flow": null,
            "grid_auto_rows": null,
            "grid_column": null,
            "grid_gap": null,
            "grid_row": null,
            "grid_template_areas": null,
            "grid_template_columns": null,
            "grid_template_rows": null,
            "height": null,
            "justify_content": null,
            "justify_items": null,
            "left": null,
            "margin": null,
            "max_height": null,
            "max_width": null,
            "min_height": null,
            "min_width": null,
            "object_fit": null,
            "object_position": null,
            "order": null,
            "overflow": null,
            "overflow_x": null,
            "overflow_y": null,
            "padding": null,
            "right": null,
            "top": null,
            "visibility": null,
            "width": null
          }
        },
        "261c208a60124d879f6541c8b9bdd9d2": {
          "model_module": "@jupyter-widgets/controls",
          "model_name": "VBoxModel",
          "model_module_version": "1.5.0",
          "state": {
            "_dom_classes": [
              "widget-interact"
            ],
            "_model_module": "@jupyter-widgets/controls",
            "_model_module_version": "1.5.0",
            "_model_name": "VBoxModel",
            "_view_count": null,
            "_view_module": "@jupyter-widgets/controls",
            "_view_module_version": "1.5.0",
            "_view_name": "VBoxView",
            "box_style": "",
            "children": [
              "IPY_MODEL_a9d4385a4cb5420791c87bae9b2294b0",
              "IPY_MODEL_fb63074cf6184822a910cb9d77497881"
            ],
            "layout": "IPY_MODEL_101b57f3ba624f4c9a6b429be43c9364"
          }
        },
        "a9d4385a4cb5420791c87bae9b2294b0": {
          "model_module": "@jupyter-widgets/controls",
          "model_name": "IntSliderModel",
          "model_module_version": "1.5.0",
          "state": {
            "_dom_classes": [],
            "_model_module": "@jupyter-widgets/controls",
            "_model_module_version": "1.5.0",
            "_model_name": "IntSliderModel",
            "_view_count": null,
            "_view_module": "@jupyter-widgets/controls",
            "_view_module_version": "1.5.0",
            "_view_name": "IntSliderView",
            "continuous_update": false,
            "description": "Step:",
            "description_tooltip": null,
            "disabled": false,
            "layout": "IPY_MODEL_c5a2620de93c47fca61216105e25138e",
            "max": 2300,
            "min": 0,
            "orientation": "horizontal",
            "readout": true,
            "readout_format": "d",
            "step": 100,
            "style": "IPY_MODEL_68cf8a34ac4347d1b9ebacab42db6460",
            "value": 2300
          }
        },
        "fb63074cf6184822a910cb9d77497881": {
          "model_module": "@jupyter-widgets/output",
          "model_name": "OutputModel",
          "model_module_version": "1.0.0",
          "state": {
            "_dom_classes": [],
            "_model_module": "@jupyter-widgets/output",
            "_model_module_version": "1.0.0",
            "_model_name": "OutputModel",
            "_view_count": null,
            "_view_module": "@jupyter-widgets/output",
            "_view_module_version": "1.0.0",
            "_view_name": "OutputView",
            "layout": "IPY_MODEL_ec99a7963c224e609462d50e7150d2cc",
            "msg_id": "",
            "outputs": [
              {
                "output_type": "display_data",
                "data": {
                  "text/plain": "<Figure size 400x400 with 1 Axes>",
                  "image/png": "iVBORw0KGgoAAAANSUhEUgAAAYYAAACgCAYAAAAIAst6AAAAOnRFWHRTb2Z0d2FyZQBNYXRwbG90bGliIHZlcnNpb24zLjEwLjAsIGh0dHBzOi8vbWF0cGxvdGxpYi5vcmcvlHJYcgAAAAlwSFlzAAAPYQAAD2EBqD+naQAAKLFJREFUeJztnXl4TVf7/u+EEEm8kRAzQYQIXlOqiiiNUrNSQdWUopQaWpSaq1U1lNZcWl6UGqr10lZLBKFDaL9oNeZQUY0xYp6yfn/4Zb3Pzjk79nFOBnp/riuX5+yz9t5rr73PWdZ9nsFNKaVACCGE/H/cs7sDhBBCchacGAghhBjgxEAIIcQAJwZCCCEGODEQQggxwImBEEKIAU4MhBBCDHBiIIQQYoATAyGEEAOcGAghhBjgxEAyJCEhAQMGDECFChXg5eUFLy8vhIaGon///ti/f3+29Wvnzp1o1qwZSpQoAU9PT5QuXRqtWrXCihUrdJvr169j/Pjx2LZtW7b1Mzo6GlFRUXr8ypUrh169euHMmTM2bSdNmoQ6deogICAAnp6eCA4OxuDBg3Hu3DmbtqmpqZgyZQrKli0LT09P/Pvf/8bKlSvt9iE+Ph7PPfccfHx84O/vj65du9o9JiFpuDFXEjFj48aN6NixI3Lnzo0uXbqgWrVqcHd3x8GDB7Fu3TqcPHkSCQkJCAwMzNJ+rVmzBh07dkT16tXRqVMn+Pn5ISEhATt27ICHhwdiYmIAAOfPn0dAQADGjRuH8ePHZ2kf0wgLC8PFixfRoUMHBAcH4/jx45g9eza8vLywd+9eFC1aVLdt3749AgICEBISgvz58yM+Ph4LFy5E4cKFsXfvXnh7e+u2I0eOxOTJk9G7d2888cQTWL9+Pb7++musXLkSnTp10u0SExNRo0YN+Pr6YuDAgbh69SqmTZuG0qVLIy4uDnny5MnS8SCPCIoQOxw9elR5e3urSpUqqb/++svm/Tt37qgPP/xQ/fnnn1net9DQUFW5cmV169Ytm/eSkpK0fe7cOQVAjRs3Lgt7Z2T79u3q3r17NtsAqFGjRj1w/7Vr1yoAauXKlXpbYmKi8vDwUP3799fbUlNTVXh4uCpZsqS6e/eu3t6vXz+VL18+dfLkSb1t8+bNCoBasGCBM5dGHmM4MRC79OnTRwFQP/30k0P7xcfHq/bt2ys/Pz+VN29eVatWLbV+/XpDm8WLFysAaufOnWrIkCGqUKFCysvLS7Vt21adPXv2gefImzev6tGjR4ZtEhISFACbPzlJONLX7du3qz59+ih/f3+VP39+1bVrV3Xx4kXrA5MOf39/1a5duwe227NnjwKg5s2bp7fNmTNHAVAHDhwwtF2xYoUCoGJjY/W2woULqw4dOtgct0KFCioiIuKh+08eb/gbA7HLxo0bUb58eTz55JOW9zlw4ADq1KmD+Ph4jBgxAtOnT4e3tzfatm2LL7/80qb9a6+9hn379mHcuHHo168fNmzYgAEDBjzwPIGBgYiOjkZiYqJpm4CAAMybNw8A8Pzzz2PZsmVYtmwZ2rVr91B9HTBgAOLj4zF+/Hh069YNn332Gdq2bQv1EErs1atXcfXqVRQqVMjmPaUUzp8/j7///huxsbEYOHAgcuXKhYYNG+o2//d//wdvb29UqlTJsG/t2rX1+wBw+vRpnD17FmFhYTbnqV27tm5HiA3ZPTORnMfly5cVANW2bVub9y5duqTOnTun/65fv67fi4iIUFWrVlU3b97U21JTU1XdunVVcHCw3pb2v/DGjRur1NRUvX3IkCEqV65cKjk5OcP+ffLJJwqAypMnj2rUqJEaM2aMio2NtZFsMpKSHO1rrVq11O3bt/X2KVOmKAA2KwwrTJw4UQFQ0dHRNu+dOXPGsMIpWbKkWrVqlaFNixYtVLly5Wz2vXbtmgKgRowYoZRSavfu3QqAWrp0qU3bYcOGKQCG6yckDa4YiA0pKSkAAB8fH5v3GjZsiICAAP03Z84cAMDFixexdetWREZG4sqVKzh//jzOnz+PCxcuoGnTpjhy5AhOnz5tOFafPn3g5uamX4eHh+PevXs4efJkhv2LiorCpk2b0LBhQ+zcuRMTJ05EeHg4goOD8cMPPzzw+h62rx4eHvp1v379kDt3bnzzzTcPPJ9kx44dmDBhAiIjI/HMM8/YvO/v74/Nmzdjw4YNePvtt1GoUCFcvXrV0ObGjRvImzevzb6enp76ffmvlbaESHJndwdIziN//vwAYPOFBAALFizAlStXkJSUhJdeeklvP3r0KJRSGDNmDMaMGWP3uGfPnkWJEiX069KlSxve9/PzAwBcunTpgX1s2rQpmjZtiuvXr+OXX37BqlWrMH/+fLRs2RIHDx5E4cKFTfd9mL4GBwcb3vfx8UGxYsVw4sSJB/Y1jYMHD+L5559HlSpVsGjRIrtt8uTJg8aNGwMAWrZsiYiICNSrVw+FCxdGy5YtAQD58uXDrVu3bPa9efOmfl/+a6UtIRJODMQGX19fFCtWDL///rvNe2m/OaT/QkxNTQUADB06FE2bNrV73PLlyxte58qVy2475YBu7+XlhfDwcISHh6NQoUKYMGECvv32W3Tv3t10n4fpq7OcOnUKTZo0ga+vL7755hs9+T6IunXrolixYvjss8/0xFCsWDHExMRAKWVYcaXFRhQvXly3k9slZ86cgb+/v93VBCGcGIhdWrRogUWLFiEuLk7/qJkR5cqVAwB4eHjo//FmNWk/sqZ9EcovTcnD9PXIkSNo1KiRfn316lWcOXMGzZs3f+C+Fy5cQJMmTXDr1i1ER0frL2yr3Lx5E5cvX9avq1evjkWLFiE+Ph6hoaF6+88//6zfB4ASJUogICAAe/bssTlmXFycbkdIevgbA7HL8OHD4eXlhaioKCQlJdm8n/5/9YULF0bDhg2xYMECu/9DdWWkbXR0tN3taXp/xYoVAdxfTQBAcnKy0339+OOPcefOHf163rx5uHv3Lpo1a5ZhX69du4bmzZvj9OnT+Oabb2wkKdnu+vXrNtu/+OILXLp0yeBZ1KZNG3h4eGDu3Ll6m1IK8+fPR4kSJVC3bl29vX379ti4cSNOnTqlt0VHR+Pw4cPo0KFDhn0n/1y4YiB2CQ4OxooVK9C5c2dUrFhRRz4rpZCQkIAVK1bA3d0dJUuW1PvMmTMH9evXR9WqVdG7d2+UK1cOSUlJ+PHHH5GYmIh9+/a5pG9t2rRB2bJl0apVKwQFBeHatWvYsmULNmzYgCeeeAKtWrUCcF8/Dw0NxapVq1ChQgX4+/ujSpUqqFKlisN9vX37NiIiIhAZGYlDhw5h7ty5qF+/Plq3bp1hX7t06YK4uDhERUUhPj4e8fHx+j0fHx+0bdsWwP0VSePGjdGxY0eEhITA3d0de/bswfLly1GmTBkMGjRI71eyZEkMHjwYU6dOxZ07d/DEE0/gq6++QmxsLD777DODRPfWW29hzZo1aNSoEQYNGoSrV69i6tSpqFq1Knr27OnsrSCPK9noEUUeAY4ePar69eunypcvrzw9PVW+fPlUSEiI6tu3r9q7d69N+2PHjqlu3bqpokWLKg8PD1WiRAnVsmVLtXbtWt0mzQV09+7dhn1jYmIUABUTE5Nhn1auXKk6deqkgoKCVL58+ZSnp6cKDQ1Vo0aNUikpKYa2P/zwg6pVq5bKkyePjeuqI31NC3Dz8/NTPj4+qkuXLurChQsPHL/AwEC7gXYAVGBgoG537tw51adPHxUSEqK8vb1Vnjx5VHBwsBo8eLA6d+6czXHv3bunJk2apAIDA1WePHlU5cqV1fLly+324ffff1dNmjRRXl5eqkCBAqpLly7q77//fmDfyT8X5koiJAOWLFmCnj17Yvfu3XYDxQh5HOFvDIQQQgxwYiCEEGKAEwMhhBAD/I2BEEKIAa4YCCGEGODEQAghxAAnBmLKlClTEBISonMLAfdTQfTq1QtFixaFm5sbBg8ejBMnTsDNzQ1LlizJ8j66ubllW9lOABg/fjzc3Nxw/vz5bOuDo3Tq1AmRkZHZ3Q2Sg2HkM7FLSkoK3n//fUybNg3u7v/7/8OkSZOwZMkSjBkzBkFBQTbFYkjO580330RYWBj27duHatWqZXd3SA6EEwOxy6effoq7d++ic+fOhu1bt25FnTp1MG7cOL1NKYUbN24Y6hWQnEuNGjUQFhaG6dOnY+nSpdndHZIDoZRE7LJ48WK0bt1aF3RJ4+zZsyhQoIBhm5ubGzw9PU3TaJOcR2RkJNatW2e35gYhnBiIDQkJCdi/f78hJfW2bdvg5uaGhIQEfP3113Bzc4ObmxtOnDhh8xvD2bNnERAQgIYNGxqysB49ehTe3t7o2LGj3nbr1i2MGzcO5cuXR968eVGqVCkMHz7cprjMrVu3MGTIEAQEBCB//vxo3bp1hjWfJWXKlNH9Tf+3bdu2DPedNWsWKleuDC8vL/j5+SEsLAwrVqywaZecnIwePXqgQIEC8PX1Rc+ePW2ypd69excTJ05EUFAQ8ubNizJlyuCtt94yXOvrr7+OggULGsbttddeg5ubGz766CO9LSkpCW5ubrquddr9Wb16Nd59912ULFkSnp6eiIiIwNGjR236++yzz+LatWvYvHmzpTEk/yw4MRAb0spj1qxZU2+rVKkSli1bhkKFCqF69epYtmwZli1bhoCAAJv9CxcujHnz5mH79u2YNWsWgPvFcXr06IH8+fPrdNGpqalo3bo1pk2bhlatWmHWrFlo27YtZsyYYZg8AKBXr16YOXMmmjRpgsmTJ8PDwwMtWrSwdD0zZ87U/U37q1mzJtzd3VGwYEHT/RYuXIiBAwciNDQUM2fOxIQJE1C9enVd90CSVib0vffeQ2RkJJYsWYIJEybYXMPYsWNRs2ZNzJgxA08//TTee+89dOrUSbcJDw/HxYsXceDAAb0tNjYW7u7uiI2NNWwDgAYNGhjOMXnyZHz55ZcYOnQoRo4ciZ9++gldunSx6W9oaCjy5cuHXbt2PWD0yD+SbEzgR3Ioo0ePVgDUlStXbN4LDAxULVq0MGxLSEhQANTixYsN2zt37qy8vLzU4cOH1dSpUxUA9dVXX+n3ly1bptzd3VVsbKxhv/nz5ysAateuXUoppfbu3asAqFdffdXQ7sUXX7TJmGqF1atXKwDq7bffzrBdmzZtVOXKlTNsM27cOAVARUVFGbY///zzqmDBgvp12jX06tXL0G7o0KEKgNq6datSSqmzZ88qAGru3LlKKaWSk5OVu7u76tChgypSpIjeb+DAgcrf31+lpqYqpf6XmbZSpUrq1q1but2HH36oAKjffvvNpu8VKlRQzZo1y/D6yD8TrhiIDRcuXEDu3Lnh4+Pj1HFmz54NX19fvPDCCxgzZgy6du2KNm3a6PfXrFmDSpUqISQkBOfPn9d/zzzzDAAgJiYGwP8K8AwcONBw/MGDBzvcpz/++ANRUVFo06YNRo8enWHbAgUKIDExEbt3737gcfv27Wt4HR4ejgsXLiAlJQXA/67h9ddfN7R74403AABff/01ACAgIAAhISHYsWMHAGDXrl3IlSsXhg0bhqSkJBw5cgTA/RVD/fr1barU9ezZE3ny5DH0AwCOHz9u02c/P79Hys2WZB2cGEim4e/vj48++gj79++Hr6+vQSMH7henOXDgAAICAgx/FSpUAHD/twoAOHnyJNzd3REUFGTYP61Sm1VSUlLQrl07lChRAkuXLjUt/ZnGm2++CR8fH9SuXRvBwcHo37+/qfRSunRpw2s/Pz8AwKVLlwzXkL6WdNGiRVGgQAGcPHlSbwsPD9dSUWxsLMLCwhAWFgZ/f3/ExsYiJSUF+/bt01/6jvRDotLVjCYkDbqrEhsKFiyIu3fv4sqVK5aL1pvx3XffAbj/xZSYmGjwaEpNTUXVqlXxwQcf2N23VKlSTp07PT169MBff/2FuLg4/Otf/3pg+0qVKuHQoUPYuHEjNm3ahC+++AJz587F2LFjbX4/MPPIUulSkVn5Iq5fvz4WLlyI48ePIzY2FuHh4XBzc0P9+vURGxuL4sWLIzU11e7EYLUfwP17YlZqlPyz4YqB2BASEgLgvneSM2zatAmLFi3C8OHDERAQgO7du+Pu3bv6/aCgIFy8eBERERFo3LixzV/aiiAwMBCpqak4duyY4fiHDh2y3JfJkyfjq6++wtKlS/X1WSHNi2rx4sX4888/0aJFC7z77ru4efOm5WMA/7uGNCkojaSkJCQnJyMwMFBvS/vC37x5M3bv3q1fN2jQALGxsYiNjYW3tzdq1arlUB8kd+/exalTpxigSOzCiYHY8NRTTwEA9uzZ89DHSE5ORq9evVC7dm1MmjQJixYtwq+//opJkybpNpGRkTh9+jQWLlxos/+NGzdw7do1AECzZs0AwEaKmjlzpqW+bNmyBaNHj8aoUaN0jWUrXLhwwfA6T548CA0NhVIKd+7csXwcAGjevDkA2z6nrZakh1XZsmVRokQJzJgxA3fu3EG9evUA3J8wjh07hrVr16JOnTrInfvhF/x//PEHbt68ibp16z70McjjC6UkYkO5cuVQpUoVbNmyBVFRUQ91jEGDBuHChQvYsmULcuXKheeeew69evXCO++8gzZt2qBatWro2rUrVq9ejb59+yImJgb16tXDvXv3cPDgQaxevRrfffcdwsLCUL16dXTu3Blz587F5cuXUbduXURHR9v1z7dH586dERAQgODgYCxfvtzw3rPPPosiRYrY3a9JkyYoWrQo6tWrhyJFiiA+Ph6zZ89GixYtHJbYqlWrhu7du+Pjjz9GcnIynn76acTFxeE///kP2rZti0aNGhnah4eH4/PPP0fVqlX17wQ1a9aEt7c3Dh8+jBdffNGh86dn8+bN8PLywrPPPuvUcchjSvY6RZGcygcffKB8fHzU9evXDdutuKuuX79eAVDTp083tEtJSVGBgYGqWrVq6vbt20oppW7fvq3ef/99VblyZZU3b17l5+enatWqpSZMmKAuX76s971x44YaOHCgKliwoPL29latWrVSp06dsuSuCsD0LyYmxnS/BQsWqAYNGqiCBQuqvHnzqqCgIDVs2DBDv9LcVc+dO2fYd/HixQqASkhI0Nvu3LmjJkyYoMqWLas8PDxUqVKl1MiRI9XNmzdtzj1nzhwFQPXr18+wvXHjxgqAio6ONmxPc1dds2aNYbuZK/GTTz6pXnrpJdNrJ/9sWKiH2OXy5csoV64cpkyZgpdffjm7u0NcyN69e1GzZk38+uuvqF69enZ3h+RAODEQU95//30sXrwYf/zxhyHDKnm06dSpE1JTU7F69ers7grJoXBiIIQQYoD/DSSEEGKAEwMhhBADnBgIIYQY4MRACCHEACcGQgghBjgxEEIIMcCJgRBCiAFODIQQQgxwYiCEEGKAEwMhhBADTqfdtpJDR1atspKBw+yYcrusVHXv3j1ty3q36YupyH7IfRztn2xjpSKX7HdqauoDzyvbSGT+fUf76Qxm15jRODh6brm/HC9pyyI/VjDrg9lzIJHnNbtOK+Nidl5H28v+yD6n39fKs+xMOU9H95X9Nqthkdl5uMzunzPPqNVzOIrZd4X87Mv7nzdvXm3L7zuz7xDL/XBqb0IIIY8dnBgIIYQYcFpKsrKEMlsSy32tbJfLKV9fX23LurXe3t7a3rdvn6EfZ8+e1bZZ0fRbt27Z7bfZstPK9VuRhjJDJnEVzlxjeqxINGaSoRUpQvbD7DmygpX77ei+jkpJVuRFq8dytI2jfTXDTKozw8rYOSORZsW+zpxDPu+enp7alvdfPsteXl7avn379kOfNz1cMRBCCDHAiYEQQogBp6UkufSxsnQ3W+qbeXvI48vtNWvW1Pbrr7+u7eLFi2v7k08+MZx77dq12j59+rS2zWSczKhhZDYu+fLlc/m5XLX8fhhZwYp8KG0pOVjxGJPbzZ4ps76ayYhm/XfVc/Ao1cRyVNJxlaeTo9L0ozSmVpDPvpSSpG3mffSvf/3LZf3gioEQQogBTgyEEEIMOC0lmf1abkUmMvO6kMcpVKiQtitWrKjtIUOGaLtu3bralp4r8fHxhr6eO3fObjtXYXbNHh4e2pYBeFLCcrQ/jgYyOeplY+YZJJe0cvv169cN+w8dOlTbUvY7dOiQtsePH69tORbOSBRWrtlRT5msDAjL6Tj6HFm5fisBaI/bOJohr7ly5cralp9HHx8fbcvvuEuXLrmsH1wxEEIIMcCJgRBCiAGnpSSJWRCOXAZZWerLIDUZyFalShVty2WWlGoSExO1/f333xuOmxnykRnSyyh//vzalgF0st9WPGUczX/iqmAeed6QkBBtX7x4Udvy3gBAkyZNtN2gQQO755BykwzOkWMxe/ZsbY8dO1bbchytyJaZ7cniaD6sR9WbJrPH8XGWj+T11K9fX9sBAQHabt++vbYjIiK0/cUXX2h7xYoV2i5fvry2jx075rK+csVACCHEACcGQgghBjItV5KZFGHFq+Hq1avaltLFyy+/rG0pMUmkDOWo94mzyOt/5ZVXtH38+HFt//jjj9qWgSpWciU5kx7c0WW/lEaKFSum7ZYtW2q7Tp062q5Ro4Zhf7PAR3kNMleU9NaS7WXwopQCR48ebbffzuQBcgazZzwz5BazMQSATZs2aVs+d/PmzdP2yZMntS09WaxIlVk5vq5Kl53VyGdf3p+4uDhtSw9LKSnLa5NyadGiRbUt5XIpU6cvM+AMXDEQQggxwImBEEKIATfl5LrMLKjN4Y6IpaLM+dGmTRtt9+nTR9slS5bUtvQAkgFYZcuWNZxDetFkBlJa2bJli7ald1Tfvn21nZKSom0ppVy+fNnu8eWy1FXLfomZRNGoUSNtf/nll9qW1aPSy3Zm+a7ktcnrL1y4sN3jSqTnkpQMrYyFmYeSmdxopVKbGa6SOgoUKKDthIQEu9sfBtm//fv3a/uZZ57Rtqs+K2aV58za5HSZSCLvSWBgoLatBOlJ6Vh+PqS0d+3aNW03bNjQ7jH/+usvbcvPxIULF6xdhAlcMRBCCDHAiYEQQogBTgyEEEIMuDTy2Rmkbib15qioKG37+flpW7ppSVvqzXJfAJg+fbrd8zmDjFSUEYlSN5S/gUjt1qwegRlmWrqrrkVqoDIxoaxjIa/Fao0D6WZ69OhRbQ8YMEDbUh9dvHixtkuVKqVt6cYs+3Hjxg1tZ6XLZWbo4fK6pLups78rSOS1SbdJ+fmQruGORtxLXFVqNLuQv3fJ5wywVqdE/pYgP/udOnXS9s8//6xtOdbyO8HM/V9+7uRvds7CFQMhhBADnBgIIYQYcFpKspI8zFF3wlq1amlbJss7fPiwtmUkoFkCtn379hnOISMM5T5WkImu5DVLOUS6iMnaD9OmTdO22Ri5CmciRGX75s2ba1vmfze7rzKiGzDeB7mcPnLkiLZlbQZ5bukqK8e6YMGC2n7jjTe0/c4779i9HklmRyA7cy55jTIRmpROZRTsTz/9pO0dO3YYjiXrl0i5QspS1atX17aUSrp3765t6VYso88dlZWsPOM5LapZjomUf9Jfi+yrlJS//fZbbcvvHBmZ7KqEnvJ+pI+CdwauGAghhBjgxEAIIcSAS5PomW23slSU0kNQUJC25RJaHkdul/seOHBA27169TKcY9euXdq2IiXJZWC/fv20LaMNpZQkk5PJUpdmy29H5TaJoyUWrSDHUcp5Zknh5Dh069bNcCwZtSllCbmElseSy3crSehq165tt9+OypZmZLakIfsgvb5kwkKJlN2kzJfeU0Yin015PTJrgPQSk8/7Sy+9pO3hw4dr28rnxtGo8ZwgH0nZ7vz589qWMp+siQAYvbjSS6lpuDKxnT3k2Lmy3gxXDIQQQgxwYiCEEGLApVKSo2X5zCSmdevWaVvKQU8++aS2paeLXK5Jr46ePXsazicD4eSS2KwWgvyV/7ffftP27t27tX369Gm712AFV42Xq5DLZrMkdVIikxJOjx49DMdatGiRtuUS10zq8fLysnsOs3E5e/astq3UspDkBOlCPovNmjWz20b2c+vWrdo2K2uaEXIcpfecHMcSJUpoWwbUPf3009qWySGtlFR1VNrLrntz6tQpbcvPgZRLX3jhhSztkxUyqxQqVwyEEEIMcGIghBBiINNyJTmaI0XmBZFBUDJQTOY8lx4U0hOpd+/e2k7vQSG9DawgJar169dr25ncMc6Q2fLR3LlztS1zFEmpRubykVKSlEYAY14jK+MlPZdkMKEZsoSlM3UnshI51nv37tW2rCEikeMm5aOMahyY1cGQxypdurS25bhLjyh5juXLl2tb1myIj4+3228pwebkXEn//e9/tS2lUyl9yu+cnI4rx5ErBkIIIQY4MRBCCDGQY9JuS6R08eabb2p79erV2pY5YapVq6ZtmddHerc8DFYCrZzBGUnDVXl6ZP6hdu3aaVuWV5VLaxlQNWLECG1/8sknhuPKfayUOpwyZYq2ZbCRRMohUkp6VJByhZTqzJB5embPnq3tjFK0yxKxcrzk50VKTLGxsXb7JKVaX19fbctgPOklKKUuiSvz97gC+cxFRERoWz6XshSvlXT4jyNcMRBCCDHAiYEQQoiBnLXOs8O2bdu03bRpU23L1MNy2SsDzmQlOMC4NJdID4zMlo8kjganZEZ/Nm7cqG0p4cgl9N9//61tWdntzJkzDp9PjrWUNOR2M2Sw0ZUrVxw+d3bTpUsXbZtJLNIL76mnntJ2YmKi3fbpx03KPvIeytxVcuxk/p9Zs2Zpu2vXrtoeOHCgtmUQXHh4uLbj4uK0LaVgK8GHVgLcXBUEJ9P4S8+5+fPna1umyZd52/7880/DsczyfmUXDHAjhBCSaXBiIIQQYiDHS0lyifbrr79qWy6Z5dJYyhMyJwwAREdHa1vm5unTp4+2ZbBcVuJogXpnlq7yOJUqVbLbRkoUr7zyiralrGQVKVFJryYZyCbzWpldW0xMzAPb5GRk5TQzXn31VW0nJCQ8sH364DgpB8lxl8GLMteXfBakVDJ27FhtS/lIyrkvvviituVnTabydjSPlRmuut9SnpOp3mV+NlmNTXrtDRo0yHAs6QEpU/rLIMBH8TkFuGIghBCSDk4MhBBCDGRaBbfMRkoS0sNDLu+Sk5MN+8glnkRWX/L399e2XAY/qktCe8jxMgvgkQFL0uPEitcIYJSJihcvru1Ro0Zpu0aNGtqWuZbMJDMZXJUTUjU7illQm+z/iRMn7G6X11umTBltywA1wJjLSuYGCw4O1rZMTf/LL79oW3rZyGdfSrAyCFJWkpNBYVJuNAtWzErk2FWoUEHbMuBQPlvyu+W7776zexzAKFvL1OR79uzRdlhYmLYflecU4IqBEEJIOjgxEEIIMZDjvZIcRQatSK8DwJiG26xa2eeff67tDh06aDsnLANd1Qe5BDZLkSwlDRkcZVXCkZKG9CaS3mQSK7mfZBWznHA/rCCvS3r3SKTkKSuqSRlGSnMyKE16zQDGcZGpvT/88ENtS7l18ODB2j548KC2k5KStD158mRtS28+6Ym0b98+bcuA0/SfQUfIDLlQftbl8YsUKaJtKXHu379f29JjDDBKg1JulV5Z8tlv1KiRtl11PZmVQp4rBkIIIQY4MRBCCDHw2ElJkvQeN3JpfunSJW3L5ZhcsssUxrKaW3bhqqW13FdW4apVq5a2ZZUvmXNKerqkr5Ankd4fsrC8FWS6aJmrRsqEjmKWD8uMzPZ6kseUz5nMPyTHTQaTyUpr6QMOZb+lpCElp5dfflnbQ4cOtdsn6ZUmU7DLNvJZkLaUxuS1mWE21q4ad3kcmQdJBm5KZAXJjPogAwJlpbeGDRtqWwZubt68WdsyUNBKam8rkpGVfGNW4YqBEEKIAU4MhBBCDDgtJT1KgUYpKSna7tatm7Y//fRTbcuqVNIradmyZZncu6xD3qeff/5Z29IbQ3ou9e7dW9urVq3SthxPGewEADNmzHCoT9LzScoeZpXBHCW7nk35+ZASkERee2RkpLald4+sUmgW0AkY71vfvn21LSUjKTmYeaVJrzIZ7Cb3lQFxZoGlVnIlZeW9kd52Zsh08jLH1MSJEw3tzKrcSclTyrBSFpUy1scff6xtZ9KUu3IcuWIghBBigBMDIYQQA27KyfVHZgVYZAayrzKwZ/r06dqWwyElJrksd6ZAuJXxkl45EikTmLVxtA8yh47Mm2MWmCQDn6TcIAOHANt00PaQS3OZ5tkZzMbXbPltNo6ueq6lV46swlaoUCFty+dJer/JMZT9kbZVTxSzvEtmUoSUt2QqepmnSVZR7N+/v7ZlFTopt8hjSsyuITMkJvlcy/7Iz5ZZH9LLPDLnlEy7LQP/pDQo87DJapJSkn3hhRe0XbJkSW3LkgOy3/L5lffV2XTnXDEQQggxwImBEEKIgcc6wC09cqnVunXrB7aXHjuZHeSU2ZKc2fFlgNT27du1LQN2ZJU3s3w/6cdHLnFlWnM57nI57SrkdZotsx09jjP3XnpYmaWgllKSlJ6kvGEmaaSXYcyuX3oKyfw/y5cv17ZMPW0mRcjqZvL+yQA3Z2TOzEY+fzK9dnopNA05ntKDCwAqVqyobfl5keOyZMkSbcuAxaioKG3LYNKdO3dqWwbjyWp+0uvJ7H47C1cMhBBCDHBiIIQQYuAfJSXJlMFy6SuX8tJev369tl21TDOTJazIFa7KjyS5fv26tjt27Kht6aklkbKSlBumTp1qaDdu3DhtZ6W04Mz4ugop70ivr8uXL2tbVqyT4yht6X1y6tQpbQ8bNkzbMl8PYMwBZvaMO8OKFSu0LaUueXwpb2SUTyurkP1Zt26dtrdt26ZteT/q1aunbem9KIPVAKM0KD23pIfW77//rm3p0dW1a1dty+flypUr2pYeXVI+ku3Nxt1ZuGIghBBigBMDIYQQA04HuDmazjg7kR41MrWuDCSSS7/q1atr21E5xBmvFrP2ZgFuVs7laOCXPFe5cuW0LXMlSaltwoQJhuPmhNxEVry+MiOYUHqvSLtfv37alp5astKaPJfMRZRTPltmgXZWxt3M08nRdNE54dkCjN8bMnBOyj6yr3Xr1tW2rOYmc2itWbNG2zKYVH5fyXE0G3dnpUOuGAghhBjgxEAIIcQAJwZCCCEGsiSJXnbVbJBJ3gBgxIgR2h45cqS2pVuYLLn3/fffP/S5zcbFym8AZpq2FS3WSrI0K8h9ZWlH6WYnozqdKbvpLI6OtZU2ZmNt5Xl39HeenBwpnBFWfrey8huDWYS3vAdyjHLK7y2OUqpUKW1L91jpimx2nXLszBIfZpTwz1G4YiCEEGKAEwMhhBADWeKumpVSUv369bW9YcMGw3uy/J7sk4w2lEnPpLugo2SlvGF2XleV/ZMul2XLltW2jLp1VQnOh8GK26QZVtxVrTzXZlLgoyp7mOFMdK0zY23GozS+MkGidCc1k8+kO6z8fFn5XFNKIoQQ4lI4MRBCCDGQaUn0slI+kueSia1kvnXA6Akgl3LSW8CKfORodK2V63dVAixXyUdmx5SJ2XJCgjQg82tlmOHM/f6n4IwXl9lxHtXxlZ8XK+VMzb6L5L4Z1eZwBq4YCCGEGODEQAghxMBjkURPes1Iz4eMyh7K2gwpKSkOnc8s8MYKrgpwc7QsqDP3Rh7fLBd8TsHRgEuza3DUK8lsXB5V2cMMRyUdZ55rs+NIHqXxtfJsyrGwIlnTK4kQQkiWwImBEEKIAZd6JZktrc0CfhyVQMwCiqSUJJdQMgcSYB4kUrx4cW3LYDez/D9mASlWykpayS9jBdneSolFRz2p5DFlzilZCtTsfqfvhxmZnWfLlaUOH4Srnmsrz3tG8owzubKsyDWO9smZ59pKG1dJTI7ej4c5h5XPvtnYWbmXrsy5xRUDIYQQA5wYCCGEGHDaK4kQQsjjBVcMhBBCDHBiIIQQYoATAyGEEAOcGAghhBjgxEAIIcQAJwZCCCEGODEQQggxwImBEEKIAU4MhBBCDHBiIIQQYoATAyGEEAOcGAghhBjgxEAIIcQAJwZCCCEGODEQQggx8P8AxISqzf7saUEAAAAASUVORK5CYII=\n"
                },
                "metadata": {}
              }
            ]
          }
        },
        "101b57f3ba624f4c9a6b429be43c9364": {
          "model_module": "@jupyter-widgets/base",
          "model_name": "LayoutModel",
          "model_module_version": "1.2.0",
          "state": {
            "_model_module": "@jupyter-widgets/base",
            "_model_module_version": "1.2.0",
            "_model_name": "LayoutModel",
            "_view_count": null,
            "_view_module": "@jupyter-widgets/base",
            "_view_module_version": "1.2.0",
            "_view_name": "LayoutView",
            "align_content": null,
            "align_items": null,
            "align_self": null,
            "border": null,
            "bottom": null,
            "display": null,
            "flex": null,
            "flex_flow": null,
            "grid_area": null,
            "grid_auto_columns": null,
            "grid_auto_flow": null,
            "grid_auto_rows": null,
            "grid_column": null,
            "grid_gap": null,
            "grid_row": null,
            "grid_template_areas": null,
            "grid_template_columns": null,
            "grid_template_rows": null,
            "height": null,
            "justify_content": null,
            "justify_items": null,
            "left": null,
            "margin": null,
            "max_height": null,
            "max_width": null,
            "min_height": null,
            "min_width": null,
            "object_fit": null,
            "object_position": null,
            "order": null,
            "overflow": null,
            "overflow_x": null,
            "overflow_y": null,
            "padding": null,
            "right": null,
            "top": null,
            "visibility": null,
            "width": null
          }
        },
        "c5a2620de93c47fca61216105e25138e": {
          "model_module": "@jupyter-widgets/base",
          "model_name": "LayoutModel",
          "model_module_version": "1.2.0",
          "state": {
            "_model_module": "@jupyter-widgets/base",
            "_model_module_version": "1.2.0",
            "_model_name": "LayoutModel",
            "_view_count": null,
            "_view_module": "@jupyter-widgets/base",
            "_view_module_version": "1.2.0",
            "_view_name": "LayoutView",
            "align_content": null,
            "align_items": null,
            "align_self": null,
            "border": null,
            "bottom": null,
            "display": null,
            "flex": null,
            "flex_flow": null,
            "grid_area": null,
            "grid_auto_columns": null,
            "grid_auto_flow": null,
            "grid_auto_rows": null,
            "grid_column": null,
            "grid_gap": null,
            "grid_row": null,
            "grid_template_areas": null,
            "grid_template_columns": null,
            "grid_template_rows": null,
            "height": null,
            "justify_content": null,
            "justify_items": null,
            "left": null,
            "margin": null,
            "max_height": null,
            "max_width": null,
            "min_height": null,
            "min_width": null,
            "object_fit": null,
            "object_position": null,
            "order": null,
            "overflow": null,
            "overflow_x": null,
            "overflow_y": null,
            "padding": null,
            "right": null,
            "top": null,
            "visibility": null,
            "width": null
          }
        },
        "68cf8a34ac4347d1b9ebacab42db6460": {
          "model_module": "@jupyter-widgets/controls",
          "model_name": "SliderStyleModel",
          "model_module_version": "1.5.0",
          "state": {
            "_model_module": "@jupyter-widgets/controls",
            "_model_module_version": "1.5.0",
            "_model_name": "SliderStyleModel",
            "_view_count": null,
            "_view_module": "@jupyter-widgets/base",
            "_view_module_version": "1.2.0",
            "_view_name": "StyleView",
            "description_width": "",
            "handle_color": null
          }
        },
        "ec99a7963c224e609462d50e7150d2cc": {
          "model_module": "@jupyter-widgets/base",
          "model_name": "LayoutModel",
          "model_module_version": "1.2.0",
          "state": {
            "_model_module": "@jupyter-widgets/base",
            "_model_module_version": "1.2.0",
            "_model_name": "LayoutModel",
            "_view_count": null,
            "_view_module": "@jupyter-widgets/base",
            "_view_module_version": "1.2.0",
            "_view_name": "LayoutView",
            "align_content": null,
            "align_items": null,
            "align_self": null,
            "border": null,
            "bottom": null,
            "display": null,
            "flex": null,
            "flex_flow": null,
            "grid_area": null,
            "grid_auto_columns": null,
            "grid_auto_flow": null,
            "grid_auto_rows": null,
            "grid_column": null,
            "grid_gap": null,
            "grid_row": null,
            "grid_template_areas": null,
            "grid_template_columns": null,
            "grid_template_rows": null,
            "height": null,
            "justify_content": null,
            "justify_items": null,
            "left": null,
            "margin": null,
            "max_height": null,
            "max_width": null,
            "min_height": null,
            "min_width": null,
            "object_fit": null,
            "object_position": null,
            "order": null,
            "overflow": null,
            "overflow_x": null,
            "overflow_y": null,
            "padding": null,
            "right": null,
            "top": null,
            "visibility": null,
            "width": null
          }
        }
      }
    }
  },
  "nbformat": 4,
  "nbformat_minor": 0
}