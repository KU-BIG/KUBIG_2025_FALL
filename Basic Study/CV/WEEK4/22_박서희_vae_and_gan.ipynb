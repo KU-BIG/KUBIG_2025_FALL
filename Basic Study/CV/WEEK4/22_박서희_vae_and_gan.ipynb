{
  "cells": [
    {
      "cell_type": "markdown",
      "source": [
        "# Training VAE and GAN model\n",
        "\n",
        "colab에서 돌릴 경우, 런타임 유형을 GPU로 변경해주세요.\n",
        "\n",
        "MNIST dataset을 활용해 VAE, GAN 모델을 간단하게 구현해보는 것이 이번 과제입니다."
      ],
      "metadata": {
        "id": "llgBx3J-oMRO"
      }
    },
    {
      "cell_type": "markdown",
      "source": [
        "# Imports and set seed"
      ],
      "metadata": {
        "id": "a3I5tElZFDcD"
      }
    },
    {
      "cell_type": "code",
      "source": [
        "!pip install ipywidgets -q\n",
        "# !jupyter nbextension enable --py widgetsnbextension -q"
      ],
      "metadata": {
        "id": "mS6c1dwaF45C"
      },
      "execution_count": 1,
      "outputs": []
    },
    {
      "cell_type": "code",
      "execution_count": 2,
      "metadata": {
        "id": "rL8dm3uXXEnE"
      },
      "outputs": [],
      "source": [
        "import os\n",
        "from tqdm import tqdm\n",
        "import random\n",
        "import numpy as np\n",
        "import matplotlib.pyplot as plt\n",
        "import torch\n",
        "import torch.nn as nn\n",
        "import torch.nn.functional as F\n",
        "from torch.utils.data import DataLoader\n",
        "from torch.optim import Adam\n",
        "from torchvision import datasets, transforms\n",
        "import torchvision.utils as vutils\n",
        "from IPython.display import display\n",
        "import ipywidgets as widgets\n",
        "from PIL import Image\n",
        "\n",
        "os.environ['CUDA_LAUNCH_BLOCKING'] = \"1\"\n",
        "os.environ[\"CUDA_VISIBLE_DEVICES\"] = \"0\""
      ]
    },
    {
      "cell_type": "code",
      "source": [
        "def set_seed(seed=42):\n",
        "    random.seed(seed)\n",
        "    np.random.seed(seed)\n",
        "    torch.manual_seed(seed)\n",
        "    torch.cuda.manual_seed(seed)\n",
        "    torch.cuda.manual_seed_all(seed)  # if using multi-GPU\n",
        "    torch.backends.cudnn.deterministic = True\n",
        "    torch.backends.cudnn.benchmark = False\n",
        "    torch.use_deterministic_algorithms(False)  ##\n",
        "\n",
        "set_seed(1)"
      ],
      "metadata": {
        "id": "IjKgK9HxJdMz"
      },
      "execution_count": 3,
      "outputs": []
    },
    {
      "cell_type": "markdown",
      "source": [
        "# VAE Implementation"
      ],
      "metadata": {
        "id": "I9OOQofAIkZd"
      }
    },
    {
      "cell_type": "markdown",
      "source": [
        "### 1. Model design  - Problem 1\n",
        "\n",
        "---\n",
        "\n",
        "$Enc$, $Dec$ 모델을 자유롭게 구성해보세요.\n",
        "\n",
        "CNN 기반 아키텍쳐나 ViT 기반 아키텍쳐를 자유롭게 구성해도 좋습니다.\n",
        "\n",
        "이때 각 아키텍쳐 선택 요소에 맞게 epoch이나 여러 학습 파라미터를 Main training loop에서 수정해주셔야 합니다.\n",
        "\n",
        "입출력 $\\text{dim}$에 맞게 세팅하는 것에 유의해주세요.\n",
        "\n",
        "---\n"
      ],
      "metadata": {
        "id": "4EYzG4FUItly"
      }
    },
    {
      "cell_type": "code",
      "source": [
        "class ConvEncoder(nn.Module):\n",
        "    def __init__(self, latent_dim=32):\n",
        "        super().__init__()\n",
        "        self.conv = nn.Sequential(\n",
        "            nn.Conv2d(1, 32, 4, 2, 1),  # 28 -> 14\n",
        "            nn.BatchNorm2d(32),\n",
        "            nn.LeakyReLU(0.2),\n",
        "\n",
        "            nn.Conv2d(32, 64, 4, 2, 1),  # 14 -> 7\n",
        "            nn.BatchNorm2d(64),\n",
        "            nn.LeakyReLU(0.2),\n",
        "\n",
        "            nn.Conv2d(64, 16, 3, 1, 1),  # 7 -> 7\n",
        "            nn.BatchNorm2d(16),\n",
        "            nn.LeakyReLU(0.2),\n",
        "\n",
        "            nn.Flatten()\n",
        "        )\n",
        "        self.fc_mu = nn.Linear(784, latent_dim)\n",
        "        self.fc_logvar = nn.Linear(784, latent_dim)\n",
        "\n",
        "    def forward(self, x):\n",
        "        h = self.conv(x)\n",
        "        return self.fc_mu(h), self.fc_logvar(h)\n",
        "\n",
        "\n",
        "class ConvDecoder(nn.Module):\n",
        "    def __init__(self, latent_dim=32):\n",
        "        super().__init__()\n",
        "        self.fc = nn.Linear(latent_dim, 16*7*7)\n",
        "\n",
        "        self.deconv = nn.Sequential(\n",
        "            nn.ConvTranspose2d(16, 64, 3, 1, 1),  # 7 -> 7\n",
        "            nn.BatchNorm2d(64),\n",
        "            nn.LeakyReLU(0.2),\n",
        "\n",
        "            nn.ConvTranspose2d(64, 32, 4, 2, 1),  # 7 -> 14\n",
        "            nn.BatchNorm2d(32),\n",
        "            nn.LeakyReLU(0.2),\n",
        "\n",
        "            nn.ConvTranspose2d(32, 1, 4, 2, 1),   # 14 -> 28\n",
        "            nn.Sigmoid()  # MNIST는 0~1 정규화된 grayscale\n",
        "        )\n",
        "\n",
        "    def forward(self, z):\n",
        "        # 작성란 --------------------------------\n",
        "        h = self.fc(z).view(-1, 16, 7, 7)\n",
        "        #----------------------------------------\n",
        "        return self.deconv(h)\n"
      ],
      "metadata": {
        "id": "IcStCywcE6mI"
      },
      "execution_count": 4,
      "outputs": []
    },
    {
      "cell_type": "markdown",
      "source": [
        "reparameterization 과정에 대해 확인해보세요."
      ],
      "metadata": {
        "id": "EZv_xBb63_r6"
      }
    },
    {
      "cell_type": "code",
      "source": [
        "class VAE(nn.Module):\n",
        "    def __init__(self, latent_dim=64):\n",
        "        super().__init__()\n",
        "        self.encoder = ConvEncoder(latent_dim)\n",
        "        self.decoder = ConvDecoder(latent_dim)\n",
        "\n",
        "    def reparameterize(self, mu, logvar):\n",
        "        std = torch.exp(0.5 * logvar)\n",
        "        eps = torch.randn_like(std)\n",
        "        return mu + eps * std\n",
        "\n",
        "    def forward(self, x):\n",
        "        mu, logvar = self.encoder(x)\n",
        "        z = self.reparameterize(mu, logvar)\n",
        "        return self.decoder(z), mu, logvar\n"
      ],
      "metadata": {
        "id": "meqUKh45E_qD"
      },
      "execution_count": 5,
      "outputs": []
    },
    {
      "cell_type": "markdown",
      "source": [
        "### 2. Loss\n",
        "\n",
        "---\n",
        "\n",
        "$(\\text{Binary Cross Entropy + KL Divergence})$의 구조입니다.\n",
        "\n",
        "KLD term이 아래와 같은 방식으로 구해지는 이유에 대해 생각해보세요."
      ],
      "metadata": {
        "id": "QF-p96SWI03Q"
      }
    },
    {
      "cell_type": "code",
      "source": [
        "def vae_loss(x, recon_logits, mu, logvar, reduction='mean'):\n",
        "    BCE = F.binary_cross_entropy_with_logits(recon_logits, x, reduction='sum')\n",
        "    KLD = -0.5 * torch.sum(1 + logvar - mu.pow(2) - logvar.exp())\n",
        "    if reduction == 'mean':\n",
        "        div = x.size(0)\n",
        "        BCE = BCE / div\n",
        "        KLD = KLD / div\n",
        "    return BCE + KLD, BCE, KLD"
      ],
      "metadata": {
        "id": "LDO3khroGVNe"
      },
      "execution_count": 6,
      "outputs": []
    },
    {
      "cell_type": "markdown",
      "source": [
        "### 3. Visualization function\n",
        "\n",
        "---\n",
        "\n",
        "실행만 하고 넘어가시면 됩니다."
      ],
      "metadata": {
        "id": "Erkky9fzI_yh"
      }
    },
    {
      "cell_type": "code",
      "source": [
        "def save_step_images(model, step, imgs, z):\n",
        "    was_training = model.training\n",
        "    model.eval()\n",
        "    with torch.no_grad():\n",
        "        recon_logits, _, _ = model(imgs)\n",
        "        recon = torch.sigmoid(recon_logits)\n",
        "\n",
        "        recon_grid = torch.cat([imgs, recon], dim=0)\n",
        "        recon_grid = vutils.make_grid(recon_grid, nrow=4, normalize=True, pad_value=1)\n",
        "        vutils.save_image(recon_grid, f\"vae_recon_imgs/recon_{step:05d}.png\")\n",
        "\n",
        "        gen = torch.sigmoid(model.decoder(z))\n",
        "        gen_grid = vutils.make_grid(gen, nrow=4, normalize=True, pad_value=1)\n",
        "        vutils.save_image(gen_grid, f\"vae_gen_imgs/gen_{step:05d}.png\")\n",
        "\n",
        "    if was_training:\n",
        "        model.train(was_training)"
      ],
      "metadata": {
        "id": "yxhotu2hEoYd"
      },
      "execution_count": 7,
      "outputs": []
    },
    {
      "cell_type": "markdown",
      "source": [
        "## 4. Main train loop\n",
        "\n",
        "---\n",
        "\n",
        "batch size, epoch, learning rate와\n",
        "\n",
        "VAE latent dimension을 자유롭게 조절하면서 학습시켜보세요."
      ],
      "metadata": {
        "id": "t51JcflbJD7l"
      }
    },
    {
      "cell_type": "code",
      "source": [
        "device = 'cuda' if torch.cuda.is_available() else 'cpu'\n",
        "\n",
        "transform = transforms.Compose([transforms.ToTensor(),])\n",
        "train_loader = DataLoader(\n",
        "    datasets.MNIST('.', train=True, download=True, transform=transform),\n",
        "    batch_size=512,\n",
        "    shuffle=True\n",
        "    )\n",
        "\n",
        "latent_dim = 64\n",
        "model = VAE(latent_dim=latent_dim).to(device)\n",
        "optimizer = Adam(model.parameters(), lr=1e-3)\n",
        "scaler = torch.amp.GradScaler('cuda')\n",
        "\n",
        "# for visualization\n",
        "os.makedirs(\"vae_recon_imgs\", exist_ok=True)\n",
        "os.makedirs(\"vae_gen_imgs\", exist_ok=True)\n",
        "fixed_imgs, _ = next(iter(train_loader))\n",
        "fixed_imgs = fixed_imgs[:4].to(device)\n",
        "fixed_z = torch.randn(4, latent_dim).to(device)\n",
        "\n",
        "global_step = 0\n",
        "bce_losses, kld_losses = [], []\n",
        "for epoch in (range(10)):\n",
        "    model.train()\n",
        "    pbar = tqdm(train_loader, desc=f\"Epoch {epoch}\")\n",
        "    for x, _ in pbar:\n",
        "        x = x.to(device)\n",
        "        optimizer.zero_grad()\n",
        "\n",
        "        with torch.amp.autocast('cuda'):\n",
        "            recon, mu, logvar = model(x)\n",
        "            loss, bce, kld = vae_loss(x, recon, mu, logvar)\n",
        "\n",
        "        scaler.scale(loss).backward()\n",
        "        scaler.step(optimizer)\n",
        "        scaler.update()\n",
        "\n",
        "        bce_losses.append(bce.item())\n",
        "        kld_losses.append(kld.item())\n",
        "\n",
        "        pbar.set_postfix({\"loss\": f\"{loss.item():.4f}\"})\n",
        "\n",
        "        if global_step % 100 == 0:\n",
        "            with torch.no_grad():\n",
        "                save_step_images(model, step=global_step, imgs=fixed_imgs, z=fixed_z)\n",
        "\n",
        "        global_step += 1\n"
      ],
      "metadata": {
        "colab": {
          "base_uri": "https://localhost:8080/"
        },
        "id": "foJuKIX2GXt8",
        "outputId": "9c2f9c86-74dc-4661-8ae4-1ec7b07826dc"
      },
      "execution_count": 8,
      "outputs": [
        {
          "output_type": "stream",
          "name": "stderr",
          "text": [
            "Epoch 0: 100%|██████████| 118/118 [00:13<00:00,  8.73it/s, loss=549.3849]\n",
            "Epoch 1: 100%|██████████| 118/118 [00:10<00:00, 11.10it/s, loss=543.4286]\n",
            "Epoch 2: 100%|██████████| 118/118 [00:10<00:00, 11.25it/s, loss=542.4031]\n",
            "Epoch 3: 100%|██████████| 118/118 [00:11<00:00, 10.68it/s, loss=539.8392]\n",
            "Epoch 4: 100%|██████████| 118/118 [00:10<00:00, 11.59it/s, loss=540.2172]\n",
            "Epoch 5: 100%|██████████| 118/118 [00:10<00:00, 11.53it/s, loss=540.1362]\n",
            "Epoch 6: 100%|██████████| 118/118 [00:09<00:00, 11.88it/s, loss=539.2136]\n",
            "Epoch 7: 100%|██████████| 118/118 [00:10<00:00, 11.12it/s, loss=537.8778]\n",
            "Epoch 8: 100%|██████████| 118/118 [00:10<00:00, 11.48it/s, loss=537.9531]\n",
            "Epoch 9: 100%|██████████| 118/118 [00:10<00:00, 11.54it/s, loss=538.7432]\n"
          ]
        }
      ]
    },
    {
      "cell_type": "markdown",
      "source": [
        "## 5. Results visualization\n",
        "\n",
        "---\n",
        "\n",
        "아래 코드는 실행만 하면 됩니다. 바를 조절해 iteration별 학습 과정을 확인할 수 있습니다."
      ],
      "metadata": {
        "id": "svsaNz6OJqwn"
      }
    },
    {
      "cell_type": "code",
      "source": [
        "def load_step_images(step, recon_dir='vae_recon_imgs', gen_dir='vae_gen_imgs'):\n",
        "    recon_path = os.path.join(recon_dir, f'recon_{step:05d}.png')\n",
        "    gen_path = os.path.join(gen_dir, f'gen_{step:05d}.png')\n",
        "    return Image.open(recon_path), Image.open(gen_path)\n",
        "\n",
        "def show_images(step):\n",
        "    recon_img, gen_img = load_step_images(step)\n",
        "    fig, axs = plt.subplots(1, 2, figsize=(8, 4))\n",
        "    axs[0].imshow(recon_img)\n",
        "    axs[0].set_title(f\"Recon Step {step}\")\n",
        "    axs[0].axis('off')\n",
        "\n",
        "    axs[1].imshow(gen_img)\n",
        "    axs[1].set_title(f\"Gen Step {step}\")\n",
        "    axs[1].axis('off')\n",
        "    plt.tight_layout()\n",
        "    plt.show()\n",
        "\n",
        "saved_steps = sorted([\n",
        "    int(f.split('_')[-1].split('.')[0])\n",
        "    for f in os.listdir('vae_recon_imgs') if f.endswith('.png')\n",
        "])\n",
        "\n",
        "step_slider = widgets.IntSlider(\n",
        "    value=saved_steps[0],\n",
        "    min=min(saved_steps),\n",
        "    max=max(saved_steps),\n",
        "    step=100,\n",
        "    description='Step:',\n",
        "    continuous_update=False\n",
        ")\n",
        "\n",
        "# widgets.interact(show_images, step=step_slider);"
      ],
      "metadata": {
        "id": "n4KkqTHOJqHf"
      },
      "execution_count": 9,
      "outputs": []
    },
    {
      "cell_type": "code",
      "source": [
        "widgets.interact(show_images, step=step_slider);\n",
        "print('\\n')\n",
        "fig, axs = plt.subplots(1, 2, figsize=(12, 4), sharex=True)\n",
        "\n",
        "# BCE Loss subplot\n",
        "axs[0].plot(bce_losses, label='BCE Loss')\n",
        "axs[0].set_title('BCE Loss over Total Iteration')\n",
        "axs[0].set_xlabel('Iteration')\n",
        "axs[0].set_ylabel('BCE Loss')\n",
        "axs[0].legend()\n",
        "\n",
        "# KLD Loss subplot\n",
        "axs[1].plot(kld_losses, label='KLD Loss', color='orange')\n",
        "axs[1].set_title('KLD Loss over Total Iteration')\n",
        "axs[1].set_xlabel('Iteration')\n",
        "axs[1].set_ylabel('KLD Loss')\n",
        "axs[1].legend()\n",
        "\n",
        "plt.tight_layout()\n",
        "plt.show()\n"
      ],
      "metadata": {
        "colab": {
          "base_uri": "https://localhost:8080/",
          "height": 488,
          "referenced_widgets": [
            "40bc3577e57349a28b4d5b7f7ecc0e00",
            "885977c8b71a401eba5ec5514cfc4e13",
            "663aaf822cb743e1bb02d24fd30eb4fd",
            "81df613a5218467a8aa1aeca0a1d507e",
            "1f7f8b953a97434aa622158d08168076",
            "08f23c875fa6422d86c0b325f8c2e7df",
            "4718e096afdb4a088c2ee16197e6aef9"
          ]
        },
        "id": "2Stm3zPaIVzL",
        "outputId": "42d859c6-1706-494a-83d1-dec95ad5be2c"
      },
      "execution_count": 10,
      "outputs": [
        {
          "output_type": "display_data",
          "data": {
            "text/plain": [
              "interactive(children=(IntSlider(value=0, continuous_update=False, description='Step:', max=1100, step=100), Ou…"
            ],
            "application/vnd.jupyter.widget-view+json": {
              "version_major": 2,
              "version_minor": 0,
              "model_id": "40bc3577e57349a28b4d5b7f7ecc0e00"
            }
          },
          "metadata": {}
        },
        {
          "output_type": "stream",
          "name": "stdout",
          "text": [
            "\n",
            "\n"
          ]
        },
        {
          "output_type": "display_data",
          "data": {
            "text/plain": [
              "<Figure size 1200x400 with 2 Axes>"
            ],
            "image/png": "[encoded data removed]"
          },
          "metadata": {}
        }
      ]
    },
    {
      "cell_type": "markdown",
      "source": [
        "---\n",
        "___\n",
        "\n",
        "# GAN Implementation"
      ],
      "metadata": {
        "id": "Tm9Op-vOJKC8"
      }
    },
    {
      "cell_type": "markdown",
      "source": [
        "## 1. Model Design - Problem 2\n",
        "\n",
        "---\n",
        "\n",
        "$Generator$, $Discriminator$ 모델을 자유롭게 구성해보세요. 입출력 $\\text{dim}$에 맞게 세팅하는 것에 유의해주세요."
      ],
      "metadata": {
        "id": "uED-DGkwlIql"
      }
    },
    {
      "cell_type": "code",
      "execution_count": 11,
      "metadata": {
        "id": "pWFzINayh3ps"
      },
      "outputs": [],
      "source": [
        "# Generator\n",
        "class Generator(nn.Module):\n",
        "    def __init__(self, z_dim=100):\n",
        "        super().__init__()\n",
        "        self.net = nn.Sequential(\n",
        "            nn.ConvTranspose2d(z_dim, 128, 7, 1, 0, bias=False),\n",
        "            nn.BatchNorm2d(128),\n",
        "            nn.ReLU(True),\n",
        "\n",
        "            nn.ConvTranspose2d(128, 64, 4, 2, 1, bias=False),\n",
        "            nn.BatchNorm2d(64),\n",
        "            nn.ReLU(True),\n",
        "\n",
        "            nn.ConvTranspose2d(64, 1, 4, 2, 1, bias=False),\n",
        "            nn.Tanh()\n",
        "        )\n",
        "\n",
        "    def forward(self, z):\n",
        "        return self.net(z)\n",
        "\n",
        "# Discriminator\n",
        "class Discriminator(nn.Module):\n",
        "    def __init__(self):\n",
        "        super().__init__()\n",
        "        self.net = nn.Sequential(\n",
        "            nn.Conv2d(1, 64, 4, 2, 1, bias=False),   # -> (64, 14, 14)\n",
        "            nn.LeakyReLU(0.2, inplace=True),\n",
        "\n",
        "            nn.Conv2d(64, 128, 4, 2, 1, bias=False), # -> (128, 7, 7)\n",
        "            nn.BatchNorm2d(128),\n",
        "            nn.LeakyReLU(0.2, inplace=True),\n",
        "\n",
        "            nn.Conv2d(128, 1, 7, 1, 0, bias=False),\n",
        "            nn.Sigmoid()\n",
        "        )\n",
        "\n",
        "    def forward(self, x):\n",
        "        return self.net(x).view(-1, 1)\n"
      ]
    },
    {
      "cell_type": "markdown",
      "source": [
        "## 2. Visualization fuction\n",
        "\n",
        "---"
      ],
      "metadata": {
        "id": "mD8qeD60q2qk"
      }
    },
    {
      "cell_type": "code",
      "source": [
        "def save_step_images_for_gan(model, step, z):\n",
        "    was_training = model.training\n",
        "    model.eval()\n",
        "    with torch.no_grad():\n",
        "        fake = model(z).detach()\n",
        "        # fake = (fake + 1) / 2  # [-1, 1] → [0, 1]\n",
        "        gen_grid = vutils.make_grid(fake, nrow=4, normalize=True, pad_value=1)\n",
        "        vutils.save_image(gen_grid, f\"gan_gen_imgs/gen_{step:05d}.png\")\n",
        "    if was_training:\n",
        "        model.train(was_training)"
      ],
      "metadata": {
        "id": "D8ioLX7Mq2yH"
      },
      "execution_count": 12,
      "outputs": []
    },
    {
      "cell_type": "markdown",
      "source": [
        "## 3. Main training loop\n",
        "\n",
        "---"
      ],
      "metadata": {
        "id": "R1hGgrSUsobG"
      }
    },
    {
      "cell_type": "code",
      "source": [
        "device = 'cuda' if torch.cuda.is_available() else 'cpu'\n",
        "\n",
        "z_dim = 100\n",
        "G = Generator(z_dim).to(device)\n",
        "D = Discriminator().to(device)\n",
        "opt_G = torch.optim.Adam(G.parameters(), lr=2e-4, betas=(0.5, 0.999))\n",
        "opt_D = torch.optim.Adam(D.parameters(), lr=2e-4, betas=(0.5, 0.999))\n",
        "loss_fn = nn.BCELoss()\n",
        "\n",
        "transform = transforms.Compose([\n",
        "    transforms.ToTensor(),\n",
        "    transforms.Normalize([0.5],[0.5])  # [-1,1] range scaling\n",
        "])\n",
        "train_loader = DataLoader(\n",
        "    datasets.MNIST('.', train=True, download=True, transform=transform),\n",
        "    batch_size=512,\n",
        "    shuffle=True\n",
        ")\n",
        "\n",
        "os.makedirs(\"gan_gen_imgs\", exist_ok=True)\n",
        "fixed_z = torch.randn(4, z_dim, 1, 1, device=device)\n",
        "\n",
        "global_step = 0\n",
        "D_losses, G_losses = [], []\n",
        "for epoch in range(20):\n",
        "    pbar = tqdm(train_loader, desc=f\"Epoch {epoch}\")\n",
        "    for x, _ in pbar:\n",
        "        x = x.to(device)\n",
        "        batch_size = x.size(0)\n",
        "\n",
        "        # Train Discriminator\n",
        "        z = torch.randn(batch_size, z_dim, 1, 1, device=device)\n",
        "        fake = G(z).detach()\n",
        "\n",
        "        opt_D.zero_grad()\n",
        "        loss_real = loss_fn(D(x), torch.ones(batch_size, 1, device=device))\n",
        "        loss_fake = loss_fn(D(fake), torch.zeros(batch_size, 1, device=device))\n",
        "        loss_D = (loss_real + loss_fake)\n",
        "        D_losses.append(loss_D.item())\n",
        "        loss_D.backward()\n",
        "        opt_D.step()\n",
        "\n",
        "        # Train Generator\n",
        "        z = torch.randn(batch_size, z_dim, 1, 1, device=device)\n",
        "        fake = G(z)\n",
        "        opt_G.zero_grad()\n",
        "        loss_G = loss_fn(D(fake), torch.ones(batch_size, 1, device=device))\n",
        "        G_losses.append(loss_G.item())\n",
        "        loss_G.backward()\n",
        "        opt_G.step()\n",
        "\n",
        "        pbar.set_postfix({\"D_loss\": f\"{loss_D.item():.4f}\", \"G_loss\": f\"{loss_G.item():.4f}\"})\n",
        "\n",
        "        if global_step % 100 == 0:\n",
        "            with torch.no_grad():\n",
        "                save_step_images_for_gan(G, step=global_step, z=fixed_z)\n",
        "\n",
        "        global_step += 1\n"
      ],
      "metadata": {
        "colab": {
          "base_uri": "https://localhost:8080/"
        },
        "id": "2rEQ8E-glRhY",
        "outputId": "5d1aa61a-ae1a-41e0-ce03-e69a46615874"
      },
      "execution_count": 13,
      "outputs": [
        {
          "output_type": "stream",
          "name": "stderr",
          "text": [
            "Epoch 0: 100%|██████████| 118/118 [00:28<00:00,  4.14it/s, D_loss=0.0080, G_loss=5.4992]\n",
            "Epoch 1: 100%|██████████| 118/118 [00:25<00:00,  4.59it/s, D_loss=1.0610, G_loss=2.9600]\n",
            "Epoch 2: 100%|██████████| 118/118 [00:26<00:00,  4.47it/s, D_loss=0.9031, G_loss=1.0568]\n",
            "Epoch 3: 100%|██████████| 118/118 [00:26<00:00,  4.52it/s, D_loss=0.8478, G_loss=1.3560]\n",
            "Epoch 4: 100%|██████████| 118/118 [00:25<00:00,  4.58it/s, D_loss=0.7679, G_loss=1.1238]\n",
            "Epoch 5: 100%|██████████| 118/118 [00:25<00:00,  4.59it/s, D_loss=0.7455, G_loss=1.0743]\n",
            "Epoch 6: 100%|██████████| 118/118 [00:25<00:00,  4.57it/s, D_loss=0.8337, G_loss=0.6102]\n",
            "Epoch 7: 100%|██████████| 118/118 [00:25<00:00,  4.54it/s, D_loss=0.6069, G_loss=1.3559]\n",
            "Epoch 8: 100%|██████████| 118/118 [00:26<00:00,  4.52it/s, D_loss=0.6974, G_loss=1.6408]\n",
            "Epoch 9: 100%|██████████| 118/118 [00:26<00:00,  4.51it/s, D_loss=0.6320, G_loss=1.9171]\n",
            "Epoch 10: 100%|██████████| 118/118 [00:26<00:00,  4.48it/s, D_loss=0.5744, G_loss=1.7881]\n",
            "Epoch 11: 100%|██████████| 118/118 [00:25<00:00,  4.59it/s, D_loss=1.3443, G_loss=0.2232]\n",
            "Epoch 12: 100%|██████████| 118/118 [00:25<00:00,  4.54it/s, D_loss=0.9223, G_loss=0.7217]\n",
            "Epoch 13: 100%|██████████| 118/118 [00:25<00:00,  4.58it/s, D_loss=0.6651, G_loss=1.3257]\n",
            "Epoch 14: 100%|██████████| 118/118 [00:25<00:00,  4.61it/s, D_loss=0.7488, G_loss=1.2609]\n",
            "Epoch 15: 100%|██████████| 118/118 [00:25<00:00,  4.57it/s, D_loss=1.0175, G_loss=2.5785]\n",
            "Epoch 16: 100%|██████████| 118/118 [00:25<00:00,  4.64it/s, D_loss=0.8749, G_loss=1.3494]\n",
            "Epoch 17: 100%|██████████| 118/118 [00:26<00:00,  4.50it/s, D_loss=0.6898, G_loss=1.6778]\n",
            "Epoch 18: 100%|██████████| 118/118 [00:25<00:00,  4.60it/s, D_loss=0.7522, G_loss=1.3849]\n",
            "Epoch 19: 100%|██████████| 118/118 [00:25<00:00,  4.60it/s, D_loss=0.7572, G_loss=1.2608]\n"
          ]
        }
      ]
    },
    {
      "cell_type": "markdown",
      "source": [
        "## 4. Visualization\n",
        "\n",
        "---"
      ],
      "metadata": {
        "id": "BmvfOGKMsjKR"
      }
    },
    {
      "cell_type": "code",
      "execution_count": 14,
      "metadata": {
        "id": "fvlhH6nSzyc_"
      },
      "outputs": [],
      "source": [
        "def load_step_images(step, gen_dir='gan_gen_imgs'):\n",
        "    gen_path = os.path.join(gen_dir, f'gen_{step:05d}.png')\n",
        "    gen_img = Image.open(gen_path)\n",
        "    return gen_img\n",
        "\n",
        "def show_images(step):\n",
        "    gen_img = load_step_images(step)\n",
        "    fig, ax = plt.subplots(figsize=(4, 4))\n",
        "    ax.imshow(gen_img)\n",
        "    ax.set_title(f\"Gen Step {step}\\n(fixed z shown)\")\n",
        "    ax.axis('off')\n",
        "    plt.tight_layout()\n",
        "    plt.show()\n",
        "\n",
        "if os.path.exists('gan_gen_imgs'):\n",
        "    saved_steps = sorted([\n",
        "        int(f.split('_')[-1].split('.')[0])\n",
        "        for f in os.listdir('gan_gen_imgs') if f.endswith('.png')\n",
        "    ])\n",
        "\n",
        "    if saved_steps:\n",
        "        step_slider = widgets.IntSlider(\n",
        "            value=saved_steps[0],\n",
        "            min=min(saved_steps),\n",
        "            max=max(saved_steps),\n",
        "            step=100,\n",
        "            description='Step:',\n",
        "            continuous_update=False\n",
        "        )\n",
        "\n",
        "        # widgets.interact(show_images, step=step_slider)"
      ]
    },
    {
      "cell_type": "code",
      "source": [
        "widgets.interact(show_images, step=step_slider);\n",
        "print('\\n')\n",
        "fig, axs = plt.subplots(1, 2, figsize=(14, 4), sharex=True)\n",
        "\n",
        "axs[0].plot(D_losses, label='Discriminator Loss', color='blue')\n",
        "axs[0].set_title('Discriminator Loss (BCE) over Iteration')\n",
        "axs[0].set_xlabel('Iteration')\n",
        "axs[0].set_ylabel('Loss')\n",
        "axs[0].legend()\n",
        "axs[0].grid(True)\n",
        "\n",
        "axs[1].plot(G_losses, label='Generator Loss (BCE)', color='orange')\n",
        "axs[1].set_title('Generator Loss (BCE) over Iteration')\n",
        "axs[1].set_xlabel('Iteration')\n",
        "axs[1].set_ylabel('Loss')\n",
        "axs[1].legend()\n",
        "axs[1].grid(True)\n",
        "\n",
        "plt.tight_layout()\n",
        "plt.show()"
      ],
      "metadata": {
        "colab": {
          "base_uri": "https://localhost:8080/",
          "height": 426,
          "referenced_widgets": [
            "61bee27e0be24c849cc784f6788afdfe",
            "23c01691180140a9a13419b9670c08ad",
            "d755c26dd473473a9055fd2895094285",
            "6d518763f4ae428e9c6bab54c6292acc",
            "c04a067d9d2a447896f2d9537bb52c2d",
            "e0725fc5429d4e378ac0ea753906d4ea",
            "a1dfcd30504a4f4f947d9aa7785b69fe"
          ]
        },
        "id": "i1StRLM9si1m",
        "outputId": "9b92ae16-65b7-482a-d7b1-4f154d8ee65d"
      },
      "execution_count": 15,
      "outputs": [
        {
          "output_type": "display_data",
          "data": {
            "text/plain": [
              "interactive(children=(IntSlider(value=0, continuous_update=False, description='Step:', max=2300, step=100), Ou…"
            ],
            "application/vnd.jupyter.widget-view+json": {
              "version_major": 2,
              "version_minor": 0,
              "model_id": "61bee27e0be24c849cc784f6788afdfe"
            }
          },
          "metadata": {}
        },
        {
          "output_type": "stream",
          "name": "stdout",
          "text": [
            "\n",
            "\n"
          ]
        },
        {
          "output_type": "display_data",
          "data": {
            "text/plain": [
              "<Figure size 1400x400 with 2 Axes>"
            ],
            "image/png": "[encoded data removed]"
          },
          "metadata": {}
        }
      ]
    }
  ],
  "metadata": {
    "accelerator": "GPU",
    "colab": {
      "gpuType": "T4",
      "machine_shape": "hm",
      "provenance": []
    },
    "kernelspec": {
      "display_name": "Python 3",
      "name": "python3"
    },
    "language_info": {
      "name": "python"
    },
    "widgets": {
      "application/vnd.jupyter.widget-state+json": {
        "40bc3577e57349a28b4d5b7f7ecc0e00": {
          "model_module": "@jupyter-widgets/controls",
          "model_name": "VBoxModel",
          "model_module_version": "1.5.0",
          "state": {
            "_dom_classes": [
              "widget-interact"
            ],
            "_model_module": "@jupyter-widgets/controls",
            "_model_module_version": "1.5.0",
            "_model_name": "VBoxModel",
            "_view_count": null,
            "_view_module": "@jupyter-widgets/controls",
            "_view_module_version": "1.5.0",
            "_view_name": "VBoxView",
            "box_style": "",
            "children": [
              "IPY_MODEL_885977c8b71a401eba5ec5514cfc4e13",
              "IPY_MODEL_663aaf822cb743e1bb02d24fd30eb4fd"
            ],
            "layout": "IPY_MODEL_81df613a5218467a8aa1aeca0a1d507e"
          }
        },
        "885977c8b71a401eba5ec5514cfc4e13": {
          "model_module": "@jupyter-widgets/controls",
          "model_name": "IntSliderModel",
          "model_module_version": "1.5.0",
          "state": {
            "_dom_classes": [],
            "_model_module": "@jupyter-widgets/controls",
            "_model_module_version": "1.5.0",
            "_model_name": "IntSliderModel",
            "_view_count": null,
            "_view_module": "@jupyter-widgets/controls",
            "_view_module_version": "1.5.0",
            "_view_name": "IntSliderView",
            "continuous_update": false,
            "description": "Step:",
            "description_tooltip": null,
            "disabled": false,
            "layout": "IPY_MODEL_1f7f8b953a97434aa622158d08168076",
            "max": 1100,
            "min": 0,
            "orientation": "horizontal",
            "readout": true,
            "readout_format": "d",
            "step": 100,
            "style": "IPY_MODEL_08f23c875fa6422d86c0b325f8c2e7df",
            "value": 500
          }
        },
        "663aaf822cb743e1bb02d24fd30eb4fd": {
          "model_module": "@jupyter-widgets/output",
          "model_name": "OutputModel",
          "model_module_version": "1.0.0",
          "state": {
            "_dom_classes": [],
            "_model_module": "@jupyter-widgets/output",
            "_model_module_version": "1.0.0",
            "_model_name": "OutputModel",
            "_view_count": null,
            "_view_module": "@jupyter-widgets/output",
            "_view_module_version": "1.0.0",
            "_view_name": "OutputView",
            "layout": "IPY_MODEL_4718e096afdb4a088c2ee16197e6aef9",
            "msg_id": "",
            "outputs": [
              {
                "output_type": "display_data",
                "data": {
                  "text/plain": "<Figure size 800x400 with 2 Axes>",
                  "image/png": "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\n"
                },
                "metadata": {}
              }
            ]
          }
        },
        "81df613a5218467a8aa1aeca0a1d507e": {
          "model_module": "@jupyter-widgets/base",
          "model_name": "LayoutModel",
          "model_module_version": "1.2.0",
          "state": {
            "_model_module": "@jupyter-widgets/base",
            "_model_module_version": "1.2.0",
            "_model_name": "LayoutModel",
            "_view_count": null,
            "_view_module": "@jupyter-widgets/base",
            "_view_module_version": "1.2.0",
            "_view_name": "LayoutView",
            "align_content": null,
            "align_items": null,
            "align_self": null,
            "border": null,
            "bottom": null,
            "display": null,
            "flex": null,
            "flex_flow": null,
            "grid_area": null,
            "grid_auto_columns": null,
            "grid_auto_flow": null,
            "grid_auto_rows": null,
            "grid_column": null,
            "grid_gap": null,
            "grid_row": null,
            "grid_template_areas": null,
            "grid_template_columns": null,
            "grid_template_rows": null,
            "height": null,
            "justify_content": null,
            "justify_items": null,
            "left": null,
            "margin": null,
            "max_height": null,
            "max_width": null,
            "min_height": null,
            "min_width": null,
            "object_fit": null,
            "object_position": null,
            "order": null,
            "overflow": null,
            "overflow_x": null,
            "overflow_y": null,
            "padding": null,
            "right": null,
            "top": null,
            "visibility": null,
            "width": null
          }
        },
        "1f7f8b953a97434aa622158d08168076": {
          "model_module": "@jupyter-widgets/base",
          "model_name": "LayoutModel",
          "model_module_version": "1.2.0",
          "state": {
            "_model_module": "@jupyter-widgets/base",
            "_model_module_version": "1.2.0",
            "_model_name": "LayoutModel",
            "_view_count": null,
            "_view_module": "@jupyter-widgets/base",
            "_view_module_version": "1.2.0",
            "_view_name": "LayoutView",
            "align_content": null,
            "align_items": null,
            "align_self": null,
            "border": null,
            "bottom": null,
            "display": null,
            "flex": null,
            "flex_flow": null,
            "grid_area": null,
            "grid_auto_columns": null,
            "grid_auto_flow": null,
            "grid_auto_rows": null,
            "grid_column": null,
            "grid_gap": null,
            "grid_row": null,
            "grid_template_areas": null,
            "grid_template_columns": null,
            "grid_template_rows": null,
            "height": null,
            "justify_content": null,
            "justify_items": null,
            "left": null,
            "margin": null,
            "max_height": null,
            "max_width": null,
            "min_height": null,
            "min_width": null,
            "object_fit": null,
            "object_position": null,
            "order": null,
            "overflow": null,
            "overflow_x": null,
            "overflow_y": null,
            "padding": null,
            "right": null,
            "top": null,
            "visibility": null,
            "width": null
          }
        },
        "08f23c875fa6422d86c0b325f8c2e7df": {
          "model_module": "@jupyter-widgets/controls",
          "model_name": "SliderStyleModel",
          "model_module_version": "1.5.0",
          "state": {
            "_model_module": "@jupyter-widgets/controls",
            "_model_module_version": "1.5.0",
            "_model_name": "SliderStyleModel",
            "_view_count": null,
            "_view_module": "@jupyter-widgets/base",
            "_view_module_version": "1.2.0",
            "_view_name": "StyleView",
            "description_width": "",
            "handle_color": null
          }
        },
        "4718e096afdb4a088c2ee16197e6aef9": {
          "model_module": "@jupyter-widgets/base",
          "model_name": "LayoutModel",
          "model_module_version": "1.2.0",
          "state": {
            "_model_module": "@jupyter-widgets/base",
            "_model_module_version": "1.2.0",
            "_model_name": "LayoutModel",
            "_view_count": null,
            "_view_module": "@jupyter-widgets/base",
            "_view_module_version": "1.2.0",
            "_view_name": "LayoutView",
            "align_content": null,
            "align_items": null,
            "align_self": null,
            "border": null,
            "bottom": null,
            "display": null,
            "flex": null,
            "flex_flow": null,
            "grid_area": null,
            "grid_auto_columns": null,
            "grid_auto_flow": null,
            "grid_auto_rows": null,
            "grid_column": null,
            "grid_gap": null,
            "grid_row": null,
            "grid_template_areas": null,
            "grid_template_columns": null,
            "grid_template_rows": null,
            "height": null,
            "justify_content": null,
            "justify_items": null,
            "left": null,
            "margin": null,
            "max_height": null,
            "max_width": null,
            "min_height": null,
            "min_width": null,
            "object_fit": null,
            "object_position": null,
            "order": null,
            "overflow": null,
            "overflow_x": null,
            "overflow_y": null,
            "padding": null,
            "right": null,
            "top": null,
            "visibility": null,
            "width": null
          }
        },
        "61bee27e0be24c849cc784f6788afdfe": {
          "model_module": "@jupyter-widgets/controls",
          "model_name": "VBoxModel",
          "model_module_version": "1.5.0",
          "state": {
            "_dom_classes": [
              "widget-interact"
            ],
            "_model_module": "@jupyter-widgets/controls",
            "_model_module_version": "1.5.0",
            "_model_name": "VBoxModel",
            "_view_count": null,
            "_view_module": "@jupyter-widgets/controls",
            "_view_module_version": "1.5.0",
            "_view_name": "VBoxView",
            "box_style": "",
            "children": [
              "IPY_MODEL_23c01691180140a9a13419b9670c08ad",
              "IPY_MODEL_d755c26dd473473a9055fd2895094285"
            ],
            "layout": "IPY_MODEL_6d518763f4ae428e9c6bab54c6292acc"
          }
        },
        "23c01691180140a9a13419b9670c08ad": {
          "model_module": "@jupyter-widgets/controls",
          "model_name": "IntSliderModel",
          "model_module_version": "1.5.0",
          "state": {
            "_dom_classes": [],
            "_model_module": "@jupyter-widgets/controls",
            "_model_module_version": "1.5.0",
            "_model_name": "IntSliderModel",
            "_view_count": null,
            "_view_module": "@jupyter-widgets/controls",
            "_view_module_version": "1.5.0",
            "_view_name": "IntSliderView",
            "continuous_update": false,
            "description": "Step:",
            "description_tooltip": null,
            "disabled": false,
            "layout": "IPY_MODEL_c04a067d9d2a447896f2d9537bb52c2d",
            "max": 2300,
            "min": 0,
            "orientation": "horizontal",
            "readout": true,
            "readout_format": "d",
            "step": 100,
            "style": "IPY_MODEL_e0725fc5429d4e378ac0ea753906d4ea",
            "value": 1900
          }
        },
        "d755c26dd473473a9055fd2895094285": {
          "model_module": "@jupyter-widgets/output",
          "model_name": "OutputModel",
          "model_module_version": "1.0.0",
          "state": {
            "_dom_classes": [],
            "_model_module": "@jupyter-widgets/output",
            "_model_module_version": "1.0.0",
            "_model_name": "OutputModel",
            "_view_count": null,
            "_view_module": "@jupyter-widgets/output",
            "_view_module_version": "1.0.0",
            "_view_name": "OutputView",
            "layout": "IPY_MODEL_a1dfcd30504a4f4f947d9aa7785b69fe",
            "msg_id": "",
            "outputs": [
              {
                "output_type": "display_data",
                "data": {
                  "text/plain": "<Figure size 400x400 with 1 Axes>",
                  "image/png": "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\n"
                },
                "metadata": {}
              }
            ]
          }
        },
        "6d518763f4ae428e9c6bab54c6292acc": {
          "model_module": "@jupyter-widgets/base",
          "model_name": "LayoutModel",
          "model_module_version": "1.2.0",
          "state": {
            "_model_module": "@jupyter-widgets/base",
            "_model_module_version": "1.2.0",
            "_model_name": "LayoutModel",
            "_view_count": null,
            "_view_module": "@jupyter-widgets/base",
            "_view_module_version": "1.2.0",
            "_view_name": "LayoutView",
            "align_content": null,
            "align_items": null,
            "align_self": null,
            "border": null,
            "bottom": null,
            "display": null,
            "flex": null,
            "flex_flow": null,
            "grid_area": null,
            "grid_auto_columns": null,
            "grid_auto_flow": null,
            "grid_auto_rows": null,
            "grid_column": null,
            "grid_gap": null,
            "grid_row": null,
            "grid_template_areas": null,
            "grid_template_columns": null,
            "grid_template_rows": null,
            "height": null,
            "justify_content": null,
            "justify_items": null,
            "left": null,
            "margin": null,
            "max_height": null,
            "max_width": null,
            "min_height": null,
            "min_width": null,
            "object_fit": null,
            "object_position": null,
            "order": null,
            "overflow": null,
            "overflow_x": null,
            "overflow_y": null,
            "padding": null,
            "right": null,
            "top": null,
            "visibility": null,
            "width": null
          }
        },
        "c04a067d9d2a447896f2d9537bb52c2d": {
          "model_module": "@jupyter-widgets/base",
          "model_name": "LayoutModel",
          "model_module_version": "1.2.0",
          "state": {
            "_model_module": "@jupyter-widgets/base",
            "_model_module_version": "1.2.0",
            "_model_name": "LayoutModel",
            "_view_count": null,
            "_view_module": "@jupyter-widgets/base",
            "_view_module_version": "1.2.0",
            "_view_name": "LayoutView",
            "align_content": null,
            "align_items": null,
            "align_self": null,
            "border": null,
            "bottom": null,
            "display": null,
            "flex": null,
            "flex_flow": null,
            "grid_area": null,
            "grid_auto_columns": null,
            "grid_auto_flow": null,
            "grid_auto_rows": null,
            "grid_column": null,
            "grid_gap": null,
            "grid_row": null,
            "grid_template_areas": null,
            "grid_template_columns": null,
            "grid_template_rows": null,
            "height": null,
            "justify_content": null,
            "justify_items": null,
            "left": null,
            "margin": null,
            "max_height": null,
            "max_width": null,
            "min_height": null,
            "min_width": null,
            "object_fit": null,
            "object_position": null,
            "order": null,
            "overflow": null,
            "overflow_x": null,
            "overflow_y": null,
            "padding": null,
            "right": null,
            "top": null,
            "visibility": null,
            "width": null
          }
        },
        "e0725fc5429d4e378ac0ea753906d4ea": {
          "model_module": "@jupyter-widgets/controls",
          "model_name": "SliderStyleModel",
          "model_module_version": "1.5.0",
          "state": {
            "_model_module": "@jupyter-widgets/controls",
            "_model_module_version": "1.5.0",
            "_model_name": "SliderStyleModel",
            "_view_count": null,
            "_view_module": "@jupyter-widgets/base",
            "_view_module_version": "1.2.0",
            "_view_name": "StyleView",
            "description_width": "",
            "handle_color": null
          }
        },
        "a1dfcd30504a4f4f947d9aa7785b69fe": {
          "model_module": "@jupyter-widgets/base",
          "model_name": "LayoutModel",
          "model_module_version": "1.2.0",
          "state": {
            "_model_module": "@jupyter-widgets/base",
            "_model_module_version": "1.2.0",
            "_model_name": "LayoutModel",
            "_view_count": null,
            "_view_module": "@jupyter-widgets/base",
            "_view_module_version": "1.2.0",
            "_view_name": "LayoutView",
            "align_content": null,
            "align_items": null,
            "align_self": null,
            "border": null,
            "bottom": null,
            "display": null,
            "flex": null,
            "flex_flow": null,
            "grid_area": null,
            "grid_auto_columns": null,
            "grid_auto_flow": null,
            "grid_auto_rows": null,
            "grid_column": null,
            "grid_gap": null,
            "grid_row": null,
            "grid_template_areas": null,
            "grid_template_columns": null,
            "grid_template_rows": null,
            "height": null,
            "justify_content": null,
            "justify_items": null,
            "left": null,
            "margin": null,
            "max_height": null,
            "max_width": null,
            "min_height": null,
            "min_width": null,
            "object_fit": null,
            "object_position": null,
            "order": null,
            "overflow": null,
            "overflow_x": null,
            "overflow_y": null,
            "padding": null,
            "right": null,
            "top": null,
            "visibility": null,
            "width": null
          }
        }
      }
    }
  },
  "nbformat": 4,
  "nbformat_minor": 0
}