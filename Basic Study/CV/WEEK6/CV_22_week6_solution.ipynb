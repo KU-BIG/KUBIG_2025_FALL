{
  "cells": [
    {
      "cell_type": "markdown",
      "metadata": {
        "id": "-8TTacdvfmS3"
      },
      "source": [
        "## MNIST를 활용한 Mini-CLIP 학습 및 Conditional DDPM (CFG) 학습 과제\n",
        "\n",
        "- MNIST labels를 활용해 tiny CLIP (image/text encoders) 모델 학습\n",
        "- CLIP text features에 condition 되는 simple DDPM 모델 학습\n",
        "- sampling시 Classifier-Free Guidance (CFG) 구조 활용\n",
        "- CLIP similarity heatmap 시각화 및 generated samples 확인\n"
      ]
    },
    {
      "cell_type": "markdown",
      "metadata": {
        "id": "03Jok7VMfmS8"
      },
      "source": [
        "### 1. Imports & Utils"
      ]
    },
    {
      "cell_type": "code",
      "execution_count": 1,
      "metadata": {
        "id": "oMqRFwJtSGK-"
      },
      "outputs": [],
      "source": [
        "import math, random, os\n",
        "import torch\n",
        "import torch.nn as nn\n",
        "import torch.nn.functional as F\n",
        "from torchvision import datasets, transforms, utils as vutils\n",
        "from torch.utils.data import DataLoader\n",
        "from tqdm import tqdm\n",
        "import matplotlib.pyplot as plt\n",
        "from copy import deepcopy\n",
        "\n",
        "# ================================\n",
        "# Reproduction / Device\n",
        "# ================================\n",
        "\n",
        "def seed_all(seed=42):\n",
        "    random.seed(seed); torch.manual_seed(seed); torch.cuda.manual_seed_all(seed)\n",
        "    torch.backends.cudnn.deterministic = True\n",
        "    torch.backends.cudnn.benchmark = True\n",
        "\n",
        "seed_all(42)\n",
        "device = \"cuda\" if torch.cuda.is_available() else \"cpu\"\n",
        "\n",
        "BASE_OUT = \"outputs\"\n",
        "CKPT_DIR = os.path.join(BASE_OUT, \"ckpt\")\n",
        "FIG_DIR  = os.path.join(BASE_OUT, \"figs\")\n",
        "os.makedirs(BASE_OUT, exist_ok=True)\n",
        "os.makedirs(CKPT_DIR, exist_ok=True)\n",
        "os.makedirs(FIG_DIR, exist_ok=True)\n",
        "\n",
        "# ================================\n",
        "# Utilities\n",
        "# ================================\n",
        "def timestep_embedding(t, dim=128, max_period=10000):\n",
        "    \"\"\"\n",
        "    Sinusoidal timestep embedding like in DDPM.\n",
        "    t: (B,) int64\n",
        "    returns: (B, dim)\n",
        "    \"\"\"\n",
        "    half = dim // 2\n",
        "    freqs = torch.exp(-math.log(max_period) * torch.arange(0, half, device=t.device).float() / half)\n",
        "    args = t.float().unsqueeze(1) * freqs.unsqueeze(0)\n",
        "    emb = torch.cat([torch.cos(args), torch.sin(args)], dim=1)\n",
        "    if dim % 2 == 1:\n",
        "        emb = F.pad(emb, (0,1))\n",
        "    return emb\n",
        "\n",
        "def to_img(x):\n",
        "    # x in [-1,1] -> [0,1]\n",
        "    return (x.clamp(-1,1) + 1) / 2\n"
      ]
    },
    {
      "cell_type": "markdown",
      "metadata": {
        "id": "oq3m-4vDfmS9"
      },
      "source": [
        "### 2. Models"
      ]
    },
    {
      "cell_type": "markdown",
      "metadata": {
        "id": "vyCbwgB_fmS-"
      },
      "source": [
        "#### 2.1. CLIP encoder (Problem 1)\n",
        "\n",
        "---\n",
        "\n",
        "모델을 자유롭게 구성해보세요."
      ]
    },
    {
      "cell_type": "code",
      "execution_count": null,
      "metadata": {
        "id": "EQmM0rj6SZYR"
      },
      "outputs": [],
      "source": [
        "# ================================\n",
        "# Mini-CLIP 구성\n",
        "# ================================\n",
        "class TextEncoder(nn.Module):\n",
        "    def __init__(self, vocab_size=20, embed_dim=128, proj_dim=256, null_token_id=0):\n",
        "        super().__init__()\n",
        "        self.null_token_id = null_token_id\n",
        "\n",
        "        # Problem 1 _______________________________________________________________\n",
        "\n",
        "        # self.embedding = nn.Embedding(vocab_size, embed_dim, padding_idx=None)\n",
        "        # self.fc1 = nn.Linear(embed_dim, embed_dim)\n",
        "\n",
        "        #__________________________________________________________________________\n",
        "\n",
        "    def forward(self, tokens):  # tokens: [B, L]\n",
        "        x = self.embedding(tokens)        # [B, L, E]\n",
        "        x = x.mean(dim=1)                 # mean pool\n",
        "        x = self.fc1(x)                    # [B, proj_dim]\n",
        "        return F.normalize(x, dim=-1)\n",
        "\n",
        "class ImageEncoder(nn.Module):\n",
        "    def __init__(self, proj_dim=256):\n",
        "        super().__init__()\n",
        "\n",
        "        # Problem 2 _______________________________________________________________\n",
        "        \n",
        "        # self.cnn = nn.Sequential(\n",
        "        #     nn.Conv2d(1, 64, 3, stride=1, padding=1), nn.ReLU(inplace=True),\n",
        "        #     nn.Conv2d(64, 128, 3, stride=2, padding=1), nn.ReLU(inplace=True),  # 28->14\n",
        "        #     nn.Conv2d(128, 256, 3, stride=2, padding=1), nn.ReLU(inplace=True), # 14->7\n",
        "        #     nn.AdaptiveAvgPool2d(1),  # [B,256,1,1]\n",
        "        #     nn.Flatten()\n",
        "        # )\n",
        "\n",
        "        #__________________________________________________________________________\n",
        "\n",
        "        self.fc = nn.Linear(256, proj_dim)\n",
        "\n",
        "    def forward(self, x):\n",
        "        x = self.cnn(x)       # [B,256]\n",
        "        x = self.fc(x)        # [B,proj_dim]\n",
        "        return F.normalize(x, dim=-1)\n"
      ]
    },
    {
      "cell_type": "markdown",
      "metadata": {
        "id": "lFZHmhrAV1a0"
      },
      "source": [
        "#### 2.2. CLIP Loss"
      ]
    },
    {
      "cell_type": "code",
      "execution_count": 4,
      "metadata": {
        "id": "KkALdzy4V0qK"
      },
      "outputs": [],
      "source": [
        "def clip_loss(image_features, text_features, temperature=0.07):\n",
        "    logits = image_features @ text_features.T / temperature\n",
        "    labels = torch.arange(image_features.size(0), device=image_features.device)\n",
        "    loss_i = F.cross_entropy(logits, labels)\n",
        "    loss_t = F.cross_entropy(logits.T, labels)\n",
        "    return (loss_i + loss_t) / 2, logits\n"
      ]
    },
    {
      "cell_type": "markdown",
      "metadata": {
        "id": "JYRYt9A7fmS-"
      },
      "source": [
        "#### 2.2. Diffusion Model (Problem 2)\n",
        "---\n",
        "\n",
        "모델을 자유롭게 구성해보세요.\n",
        "\n",
        "- 모델의 depth가 깊을수록 모델의 표현력이 좋아집니다.\n",
        "- Residual Block의 개수를 조절해가며 결과의 차이를 확인해보세요."
      ]
    },
    {
      "cell_type": "code",
      "execution_count": null,
      "metadata": {
        "id": "SDV8GE1VSgGH"
      },
      "outputs": [],
      "source": [
        "# ================================\n",
        "# Diffusion UNet (very small) with t/cond maps\n",
        "# ================================\n",
        "\n",
        "# ==== ResidualBlock ====\n",
        "class ResidualBlock(nn.Module):\n",
        "    def __init__(self, ch):\n",
        "        super().__init__()\n",
        "        self.block = nn.Sequential(\n",
        "            \n",
        "            # Problem 3 _______________________________________________________________\n",
        "\n",
        "            # nn.GroupNorm(32, ch),\n",
        "            # nn.SiLU(inplace=True),\n",
        "            # nn.Conv2d(ch, ch, 3, padding=1),\n",
        "            # nn.GroupNorm(32, ch),\n",
        "            # nn.SiLU(inplace=True),\n",
        "            # nn.Conv2d(ch, ch, 3, padding=1),\n",
        "        \n",
        "            #__________________________________________________________________________\n",
        "        )\n",
        "    def forward(self, x):\n",
        "        return x + self.block(x)\n",
        "\n",
        "# ==== SimpleUNet (t_dim=256) ====\n",
        "class SimpleUNet(nn.Module):\n",
        "    def __init__(self, cond_dim=256, t_dim=256):\n",
        "        super().__init__()\n",
        "\n",
        "        # Problem 4 _______________________________________________________________\n",
        "\n",
        "        # self.fc_cond = nn.Linear(cond_dim, 28*28)\n",
        "        # self.fc_time = nn.Linear(t_dim, 28*28)\n",
        "\n",
        "        # in_ch = 1 + 1 + 1  # image + cond_map + t_map\n",
        "        # self.stem = nn.Sequential(\n",
        "        #     nn.Conv2d(in_ch, 128, 3, padding=1),\n",
        "        #     nn.SiLU(inplace=True),\n",
        "        # )\n",
        "        # self.res = nn.Sequential(\n",
        "        #     ResidualBlock(128),\n",
        "        #     ResidualBlock(128),\n",
        "        #     ResidualBlock(128),\n",
        "        #     ResidualBlock(128),\n",
        "        #     ResidualBlock(128),\n",
        "        # )\n",
        "        # self.out = nn.Sequential(\n",
        "        #     nn.GroupNorm(32, 128),\n",
        "        #     nn.SiLU(inplace=True),\n",
        "        #     nn.Conv2d(128, 1, 3, padding=1),\n",
        "        # )\n",
        "\n",
        "        #__________________________________________________________________________\n",
        "\n",
        "\n",
        "    def forward(self, x, cond_vec, t):\n",
        "        cond_map = self.fc_cond(cond_vec).view(-1, 1, 28, 28)\n",
        "        t_emb = timestep_embedding(t, dim=256)\n",
        "        t_map  = self.fc_time(t_emb).view(-1, 1, 28, 28)\n",
        "        x = torch.cat([x, cond_map, t_map], dim=1)\n",
        "        x = self.stem(x)\n",
        "        x = self.res(x)\n",
        "        return self.out(x)\n",
        "\n",
        "\n",
        "# ================================\n",
        "# DDPM core\n",
        "# ================================\n",
        "class DDPM:\n",
        "    def __init__(self, model, n_steps=200, beta_start=1e-4, beta_end=0.02):\n",
        "        self.model = model\n",
        "        self.n_steps = n_steps\n",
        "        self.betas = torch.linspace(beta_start, beta_end, n_steps, device=device)\n",
        "        self.alphas = 1. - self.betas\n",
        "        self.alpha_hat = torch.cumprod(self.alphas, dim=0)\n",
        "\n",
        "    def forward_loss(self, x0, cond_vec, p_uncond=0.1):\n",
        "        B = x0.size(0)\n",
        "        t = torch.randint(0, self.n_steps, (B,), device=device)\n",
        "        noise = torch.randn_like(x0)\n",
        "        alpha_hat_t = self.alpha_hat[t].view(-1, 1, 1, 1)\n",
        "        xt = torch.sqrt(alpha_hat_t) * x0 + torch.sqrt(1 - alpha_hat_t) * noise\n",
        "\n",
        "        # Classifier-Free Guidance training (randomly drop condition)\n",
        "        if p_uncond > 0:\n",
        "            mask = (torch.rand(B, device=device) < p_uncond).float().view(B, 1)\n",
        "            cond_vec = cond_vec * (1.0 - mask)  # zero out as \"null\"\n",
        "        pred_noise = self.model(xt, cond_vec, t)\n",
        "        return F.mse_loss(pred_noise, noise)\n",
        "\n",
        "    @torch.no_grad()\n",
        "    def sample(self, cond_vec, shape, cfg_scale=3.0):\n",
        "        \"\"\"\n",
        "        cond_vec: [B, cond_dim]\n",
        "        shape: (B, 1, 28, 28)\n",
        "        \"\"\"\n",
        "        B = shape[0]\n",
        "        x = torch.randn(shape, device=device)\n",
        "        cond_null = torch.zeros_like(cond_vec)  # null condition for CFG\n",
        "\n",
        "        for i in reversed(range(self.n_steps)):\n",
        "            t = torch.full((B,), i, device=device, dtype=torch.long)\n",
        "            alpha = self.alphas[i]\n",
        "            alpha_hat = self.alpha_hat[i]\n",
        "            beta = self.betas[i]\n",
        "\n",
        "            eps_cond = self.model(x, cond_vec, t)\n",
        "            eps_null = self.model(x, cond_null, t)\n",
        "            eps = eps_null + cfg_scale * (eps_cond - eps_null)\n",
        "\n",
        "            x = (1 / torch.sqrt(alpha)) * (x - (1 - alpha) / torch.sqrt(1 - alpha_hat) * eps)\n",
        "            if i > 0:\n",
        "                x = x + torch.sqrt(beta) * torch.randn_like(x)\n",
        "        return x\n"
      ]
    },
    {
      "cell_type": "markdown",
      "metadata": {
        "id": "Ma5CdCt8Xwwe"
      },
      "source": [
        "#### 2.3. EMA parameter update\n",
        "---\n",
        "\n",
        "EMA는 “이전 모델의 파라미터를 지수적으로 가중한 이동평균”이고, 딥러닝에서는 training step마다 weight를 부드럽게 업데이트하는 데 사용한다."
      ]
    },
    {
      "cell_type": "code",
      "execution_count": null,
      "metadata": {
        "id": "1o77tXt4XxLr"
      },
      "outputs": [],
      "source": [
        "class EMA:\n",
        "    def __init__(self, model, decay=0.999):\n",
        "        self.ema = deepcopy(model).eval()\n",
        "        for p in self.ema.parameters():\n",
        "            p.requires_grad_(False)\n",
        "        self.decay = decay\n",
        "\n",
        "    @torch.no_grad()\n",
        "    def update(self, model):\n",
        "        d = self.decay\n",
        "        for ema_p, p in zip(self.ema.parameters(), model.parameters()):\n",
        "            ema_p.mul_(d).add_(p, alpha=1 - d)\n",
        "        for ema_b, b in zip(self.ema.buffers(), model.buffers()):\n",
        "            ema_b.copy_(b)"
      ]
    },
    {
      "cell_type": "markdown",
      "metadata": {
        "id": "WiGT8LlDfmS_"
      },
      "source": [
        "### 3. Data Preparation & Initialization"
      ]
    },
    {
      "cell_type": "markdown",
      "metadata": {
        "id": "V8G-6owsSnUB"
      },
      "source": [
        "data preparation"
      ]
    },
    {
      "cell_type": "code",
      "execution_count": 6,
      "metadata": {
        "colab": {
          "base_uri": "https://localhost:8080/"
        },
        "collapsed": true,
        "id": "mEiSaUI_Slcq",
        "outputId": "6b8668fb-64a4-47b3-b90c-400322a196ce"
      },
      "outputs": [
        {
          "name": "stderr",
          "output_type": "stream",
          "text": [
            "100%|██████████| 9.91M/9.91M [00:00<00:00, 18.3MB/s]\n",
            "100%|██████████| 28.9k/28.9k [00:00<00:00, 491kB/s]\n",
            "100%|██████████| 1.65M/1.65M [00:00<00:00, 4.58MB/s]\n",
            "100%|██████████| 4.54k/4.54k [00:00<00:00, 7.05MB/s]\n"
          ]
        }
      ],
      "source": [
        "# ================================\n",
        "# Data\n",
        "# ================================\n",
        "transform = transforms.Compose([\n",
        "    transforms.ToTensor(),\n",
        "    lambda x: (x - 0.5) * 2.0  # [-1,1]\n",
        "])\n",
        "\n",
        "train_set = datasets.MNIST(root=\"./data\", train=True, download=True, transform=transform)\n",
        "test_set  = datasets.MNIST(root=\"./data\", train=False, download=True, transform=transform)\n",
        "\n",
        "train_loader = DataLoader(train_set, batch_size=128, shuffle=True, num_workers=2, pin_memory=True)\n",
        "test_loader  = DataLoader(test_set,  batch_size=256, shuffle=False, num_workers=2, pin_memory=True)\n"
      ]
    },
    {
      "cell_type": "markdown",
      "metadata": {
        "id": "IAFuQ-6hSt-v"
      },
      "source": [
        "initialization"
      ]
    },
    {
      "cell_type": "code",
      "execution_count": 7,
      "metadata": {
        "id": "3G0xe7uVSwBi"
      },
      "outputs": [],
      "source": [
        "# ================================\n",
        "# Instantiate models/optims\n",
        "# ================================\n",
        "NULL_TOKEN_ID = 0  # reserve 0 as [NULL]; map digit d -> token d+1\n",
        "VOCAB_SIZE = 20\n",
        "\n",
        "text_encoder = TextEncoder(vocab_size=VOCAB_SIZE, embed_dim=128, proj_dim=256, null_token_id=NULL_TOKEN_ID).to(device)\n",
        "image_encoder = ImageEncoder(proj_dim=256).to(device)\n",
        "\n",
        "clip_optimizer = torch.optim.Adam(\n",
        "    list(text_encoder.parameters()) + list(image_encoder.parameters()),\n",
        "    lr=1e-3\n",
        ")\n",
        "\n",
        "unet = SimpleUNet(cond_dim=256, t_dim=256).to(device)\n",
        "ddpm = DDPM(unet, n_steps=1000, beta_start=1e-4, beta_end=0.02)\n",
        "ema = EMA(unet, decay=0.999)\n",
        "\n",
        "diff_optimizer = torch.optim.Adam(list(unet.parameters()) + list(text_encoder.parameters()), lr=1e-4)\n"
      ]
    },
    {
      "cell_type": "markdown",
      "metadata": {
        "id": "Cqg8S2UrfmS_"
      },
      "source": [
        "### 4. Main Train Loop"
      ]
    },
    {
      "cell_type": "markdown",
      "metadata": {
        "id": "y4oFnSvxfmTA"
      },
      "source": [
        "#### 4.1. For CLIP\n",
        "---\n",
        "- data가 굉장히 단순하기 때문에, (MNIST, text label 구성은 0~9가 전부) 적당히 2~3 epoch 정도만 돌려도 충분합니다."
      ]
    },
    {
      "cell_type": "code",
      "execution_count": 8,
      "metadata": {
        "colab": {
          "base_uri": "https://localhost:8080/"
        },
        "id": "OnMWa_VOS3GJ",
        "outputId": "e339bb1d-2e1a-41ab-d6b5-dfa960e635f0"
      },
      "outputs": [
        {
          "name": "stderr",
          "output_type": "stream",
          "text": [
            "[CLIP] Epoch 1/10: 100%|██████████| 469/469 [00:07<00:00, 66.65it/s, loss=3.1597]\n",
            "[CLIP] Epoch 2/10: 100%|██████████| 469/469 [00:05<00:00, 87.28it/s, loss=2.7473]\n",
            "[CLIP] Epoch 3/10: 100%|██████████| 469/469 [00:05<00:00, 88.90it/s, loss=2.6975]\n",
            "[CLIP] Epoch 4/10: 100%|██████████| 469/469 [00:05<00:00, 83.16it/s, loss=2.6727]\n",
            "[CLIP] Epoch 5/10: 100%|██████████| 469/469 [00:05<00:00, 84.86it/s, loss=2.6598]\n",
            "[CLIP] Epoch 6/10: 100%|██████████| 469/469 [00:05<00:00, 89.66it/s, loss=2.6483]\n",
            "[CLIP] Epoch 7/10: 100%|██████████| 469/469 [00:05<00:00, 86.32it/s, loss=2.6394]\n",
            "[CLIP] Epoch 8/10: 100%|██████████| 469/469 [00:05<00:00, 89.10it/s, loss=2.6317]\n",
            "[CLIP] Epoch 9/10: 100%|██████████| 469/469 [00:05<00:00, 87.36it/s, loss=2.6267]\n",
            "[CLIP] Epoch 10/10: 100%|██████████| 469/469 [00:05<00:00, 91.57it/s, loss=2.6209]\n"
          ]
        }
      ],
      "source": [
        "# ================================\n",
        "# Train Mini-CLIP\n",
        "# ================================\n",
        "EPOCHS_CLIP = 10\n",
        "clip_epoch_losses = []\n",
        "for epoch in range(1, EPOCHS_CLIP+1):\n",
        "    text_encoder.train(); image_encoder.train()\n",
        "    pbar = tqdm(train_loader, desc=f\"[CLIP] Epoch {epoch}/{EPOCHS_CLIP}\")\n",
        "    epoch_loss_sum = 0.0; steps = 0\n",
        "    for imgs, labels in pbar:\n",
        "        imgs = imgs.to(device)\n",
        "        # map label 0..9 -> token id 1..10\n",
        "        tokens = (labels.to(device) + 1).unsqueeze(1)  # [B,1]\n",
        "        img_feat = image_encoder(imgs)\n",
        "        txt_feat = text_encoder(tokens)\n",
        "        loss, _ = clip_loss(img_feat, txt_feat, temperature=0.07)\n",
        "\n",
        "        clip_optimizer.zero_grad(set_to_none=True)\n",
        "        loss.backward()\n",
        "        torch.nn.utils.clip_grad_norm_(list(text_encoder.parameters()) + list(image_encoder.parameters()), 1.0)\n",
        "        clip_optimizer.step()\n",
        "\n",
        "        epoch_loss_sum += loss.item(); steps += 1\n",
        "        pbar.set_postfix(loss=f\"{epoch_loss_sum/steps:.4f}\")\n",
        "    clip_epoch_losses.append(epoch_loss_sum/steps)\n",
        "    torch.save({\"text\": text_encoder.state_dict(), \"image\": image_encoder.state_dict()},\n",
        "               os.path.join(CKPT_DIR, \"clip_mnist_latest.pt\"))\n"
      ]
    },
    {
      "cell_type": "markdown",
      "metadata": {
        "id": "cLIyulYJfmTA"
      },
      "source": [
        "#### Visualizaiton of CLIP, heatmap 분포 확인\n",
        "\n",
        "- positive pair끼리 강한 유사도를 잘 학습했는지 확인해보세요."
      ]
    },
    {
      "cell_type": "code",
      "execution_count": 9,
      "metadata": {
        "colab": {
          "base_uri": "https://localhost:8080/",
          "height": 797
        },
        "id": "5gnyD5K1S6G7",
        "outputId": "4157cb83-a338-4db6-a180-bd927bb9f716"
      },
      "outputs": [
        {
          "data": {
            "image/png": "[encoded data removed]",
            "text/plain": [
              "<Figure size 500x300 with 1 Axes>"
            ]
          },
          "metadata": {},
          "output_type": "display_data"
        },
        {
          "data": {
            "image/png": "[encoded data removed]",
            "text/plain": [
              "<Figure size 600x500 with 2 Axes>"
            ]
          },
          "metadata": {},
          "output_type": "display_data"
        }
      ],
      "source": [
        "# CLIP loss 곡선 저장\n",
        "plt.figure(figsize=(5,3))\n",
        "plt.plot(range(1, EPOCHS_CLIP+1), clip_epoch_losses, marker=\"o\")\n",
        "plt.title(\"CLIP Train Loss per Epoch\"); plt.xlabel(\"Epoch\"); plt.ylabel(\"Loss\")\n",
        "plt.tight_layout()\n",
        "plt.savefig(os.path.join(FIG_DIR, \"clip_loss_curve.png\"), dpi=200)\n",
        "plt.show()\n",
        "plt.close()\n",
        "\n",
        "# ================================\n",
        "# Quick CLIP similarity heatmap (test batch)\n",
        "# ================================\n",
        "text_encoder.eval(); image_encoder.eval()\n",
        "with torch.no_grad():\n",
        "    imgs, labels = next(iter(test_loader))\n",
        "    imgs = imgs[:16].to(device)\n",
        "    labels = labels[:16]\n",
        "    tokens = (labels.to(device) + 1).unsqueeze(1)\n",
        "    img_feat = image_encoder(imgs)\n",
        "    txt_feat = text_encoder(tokens)\n",
        "    _, logits = clip_loss(img_feat, txt_feat, temperature=0.07)  # [16,16]\n",
        "\n",
        "# Heatmap\n",
        "plt.figure(figsize=(6,5))\n",
        "plt.imshow(logits.detach().cpu().numpy(), aspect=\"auto\")\n",
        "plt.colorbar(); plt.title(\"CLIP Similarity (Image vs. Text)\"); plt.xlabel(\"Text\"); plt.ylabel(\"Image\")\n",
        "plt.tight_layout()\n",
        "plt.savefig(os.path.join(FIG_DIR, \"clip_similarity_heatmap.png\"), dpi=200)\n",
        "plt.show()\n",
        "plt.close()\n"
      ]
    },
    {
      "cell_type": "markdown",
      "metadata": {
        "id": "ladB51X5fmTA"
      },
      "source": [
        "#### 4.2. For DDPM with CFG\n",
        "\n",
        "---\n",
        "- 해당 모델은 복잡한 text-image 관계 정보 학습을 요구하지 않기에 단순히 condition과 time step embedding을 concate하여 모델 input으로 함께 넣어주도록 설계되어 있습니다.\n",
        "- EMA를 활용하여 모델 parameter 업데이트를 더 부드럽게 진행해보세요."
      ]
    },
    {
      "cell_type": "code",
      "execution_count": 14,
      "metadata": {
        "colab": {
          "base_uri": "https://localhost:8080/"
        },
        "id": "pAxzY9jcbtI1",
        "outputId": "65c695ad-9027-40e0-92c7-3ce9b0966e2c"
      },
      "outputs": [
        {
          "name": "stderr",
          "output_type": "stream",
          "text": [
            "[DDPM] Epoch 1/15: 100%|██████████| 469/469 [00:48<00:00,  9.58it/s, loss=0.0239]\n",
            "[DDPM] Epoch 2/15: 100%|██████████| 469/469 [00:49<00:00,  9.52it/s, loss=0.0240]\n",
            "[DDPM] Epoch 3/15: 100%|██████████| 469/469 [00:49<00:00,  9.48it/s, loss=0.0240]\n",
            "[DDPM] Epoch 4/15: 100%|██████████| 469/469 [00:49<00:00,  9.47it/s, loss=0.0235]\n",
            "[DDPM] Epoch 5/15: 100%|██████████| 469/469 [00:49<00:00,  9.45it/s, loss=0.0234]\n",
            "[DDPM] Epoch 6/15: 100%|██████████| 469/469 [00:49<00:00,  9.45it/s, loss=0.0233]\n",
            "[DDPM] Epoch 7/15: 100%|██████████| 469/469 [00:49<00:00,  9.44it/s, loss=0.0232]\n",
            "[DDPM] Epoch 8/15: 100%|██████████| 469/469 [00:49<00:00,  9.44it/s, loss=0.0229]\n",
            "[DDPM] Epoch 9/15: 100%|██████████| 469/469 [00:49<00:00,  9.44it/s, loss=0.0228]\n",
            "[DDPM] Epoch 10/15: 100%|██████████| 469/469 [00:49<00:00,  9.44it/s, loss=0.0229]\n",
            "[DDPM] Epoch 11/15: 100%|██████████| 469/469 [00:49<00:00,  9.44it/s, loss=0.0227]\n",
            "[DDPM] Epoch 12/15: 100%|██████████| 469/469 [00:49<00:00,  9.44it/s, loss=0.0228]\n",
            "[DDPM] Epoch 13/15: 100%|██████████| 469/469 [00:49<00:00,  9.44it/s, loss=0.0227]\n",
            "[DDPM] Epoch 14/15: 100%|██████████| 469/469 [00:49<00:00,  9.44it/s, loss=0.0226]\n",
            "[DDPM] Epoch 15/15: 100%|██████████| 469/469 [00:49<00:00,  9.45it/s, loss=0.0225]\n"
          ]
        }
      ],
      "source": [
        "# ================================\n",
        "# Train Diffusion (condition = CLIP text features)\n",
        "# ================================\n",
        "EPOCHS_DIFF = 15\n",
        "ddpm_epoch_losses = []\n",
        "for epoch in range(1, EPOCHS_DIFF+1):\n",
        "    unet.train(); text_encoder.train()  # text encoder is fine-tuned jointly\n",
        "    pbar = tqdm(train_loader, desc=f\"[DDPM] Epoch {epoch}/{EPOCHS_DIFF}\")\n",
        "    epoch_loss_sum = 0.0; steps = 0\n",
        "    for imgs, labels in pbar:\n",
        "        imgs = imgs.to(device)\n",
        "        tokens = (labels.to(device) + 1).unsqueeze(1)  # [B,1]\n",
        "        cond_vec = text_encoder(tokens)  # [B,128]\n",
        "\n",
        "        loss = ddpm.forward_loss(imgs, cond_vec, p_uncond=0.1)\n",
        "\n",
        "        diff_optimizer.zero_grad(set_to_none=True)\n",
        "        loss.backward()\n",
        "        torch.nn.utils.clip_grad_norm_(list(unet.parameters()) + list(text_encoder.parameters()), 1.0)\n",
        "        diff_optimizer.step()\n",
        "\n",
        "        ema.update(unet)\n",
        "        epoch_loss_sum += loss.item(); steps += 1\n",
        "        pbar.set_postfix(loss=f\"{epoch_loss_sum/steps:.4f}\")\n",
        "    ddpm_epoch_losses.append(epoch_loss_sum/steps)\n",
        "    torch.save({\"unet\": unet.state_dict(), \"text\": text_encoder.state_dict()}, os.path.join(CKPT_DIR, \"ddpm_cond_latest.pt\"))\n",
        "    torch.save({\"unet\": ema.ema.state_dict(), \"text\": text_encoder.state_dict()}, os.path.join(CKPT_DIR, \"ddpm_cond_ema_latest.pt\"))\n"
      ]
    },
    {
      "cell_type": "markdown",
      "metadata": {
        "id": "-dzaJ85FTcsT"
      },
      "source": [
        "#### Visualizaiton of Diffusion\n",
        "\n",
        "- sampling이 잘 되는지 확인해보세요. 구성한 model의 size에 따라 표현력이 많이 다를 겁니다."
      ]
    },
    {
      "cell_type": "code",
      "execution_count": 15,
      "metadata": {
        "colab": {
          "base_uri": "https://localhost:8080/",
          "height": 692
        },
        "id": "aRM8FpRcToJm",
        "outputId": "6083b82e-61a6-405c-f665-247466176783"
      },
      "outputs": [
        {
          "data": {
            "image/png": "[encoded data removed]",
            "text/plain": [
              "<Figure size 500x300 with 1 Axes>"
            ]
          },
          "metadata": {},
          "output_type": "display_data"
        },
        {
          "data": {
            "image/png": "[encoded data removed]",
            "text/plain": [
              "<Figure size 600x300 with 1 Axes>"
            ]
          },
          "metadata": {},
          "output_type": "display_data"
        },
        {
          "data": {
            "image/png": "[encoded data removed]",
            "text/plain": [
              "<Figure size 1000x200 with 1 Axes>"
            ]
          },
          "metadata": {},
          "output_type": "display_data"
        }
      ],
      "source": [
        "# ================================\n",
        "# Sampling & Visualization (digits 0..9)\n",
        "# ================================\n",
        "text_encoder.eval(); unet.eval()\n",
        "\n",
        "plt.figure(figsize=(5,3))\n",
        "plt.plot(range(1, EPOCHS_DIFF+1), ddpm_epoch_losses, marker=\"o\")\n",
        "plt.title(\"DDPM Train Loss per Epoch\"); plt.xlabel(\"Epoch\"); plt.ylabel(\"Loss\")\n",
        "plt.tight_layout()\n",
        "plt.savefig(os.path.join(FIG_DIR, \"ddpm_loss_curve.png\"), dpi=200)\n",
        "plt.show()\n",
        "plt.close()\n",
        "\n",
        "ddpm_ema = DDPM(ema.ema, n_steps=ddpm.n_steps, beta_start=ddpm.betas[0].item(), beta_end=ddpm.betas[-1].item())\n",
        "with torch.no_grad():\n",
        "    # tokens for digits 0..9 -> token ids 1..10\n",
        "    digits = torch.arange(0, 10, device=device)\n",
        "    tokens = (digits + 1).unsqueeze(1)                               # [10,1]\n",
        "    cond_vec = text_encoder(tokens)                                  # [10,128]\n",
        "    samples = ddpm_ema.sample(cond_vec, (len(tokens), 1, 28, 28), cfg_scale=3.0)    # in [-1,1]\n",
        "    grid = vutils.make_grid(to_img(samples), nrow=5, padding=2)      # [C,H,W]\n",
        "\n",
        "plt.figure(figsize=(6,3))\n",
        "plt.imshow(grid.permute(1,2,0).cpu().numpy(), cmap=\"gray\")\n",
        "plt.axis(\"off\"); plt.title(\"DDPM Samples (cond: digits 0..9, CFG=3.0)\")\n",
        "plt.tight_layout()\n",
        "plt.savefig(os.path.join(FIG_DIR, \"ddpm_samples_digits.png\"), dpi=200)\n",
        "plt.show()\n",
        "plt.close()\n",
        "\n",
        "# Also sample a small batch with repeated classes (e.g., 3, 7, 2, 5)\n",
        "with torch.no_grad():\n",
        "    custom = torch.tensor([3,7,2,5,9,0,1,8], device=device)\n",
        "    tokens = (custom + 1).unsqueeze(1)\n",
        "    cond_vec = text_encoder(tokens)\n",
        "    samples = ddpm_ema.sample(cond_vec, (len(tokens), 1, 28, 28), cfg_scale=3.0)\n",
        "    grid = vutils.make_grid(to_img(samples), nrow=8, padding=2)\n",
        "\n",
        "plt.figure(figsize=(10,2))\n",
        "plt.imshow(grid.permute(1,2,0).cpu().numpy(), cmap=\"gray\")\n",
        "plt.axis(\"off\"); plt.title(f\"DDPM Samples (cond: {custom.cpu().tolist()}, CFG=3.0)\")\n",
        "plt.tight_layout()\n",
        "plt.savefig(os.path.join(FIG_DIR, \"ddpm_samples_custom.png\"), dpi=200)\n",
        "plt.show()\n",
        "plt.close()\n"
      ]
    }
  ],
  "metadata": {
    "accelerator": "GPU",
    "colab": {
      "gpuType": "L4",
      "machine_shape": "hm",
      "provenance": []
    },
    "kernelspec": {
      "display_name": "Python 3",
      "name": "python3"
    },
    "language_info": {
      "name": "python"
    }
  },
  "nbformat": 4,
  "nbformat_minor": 0
}
