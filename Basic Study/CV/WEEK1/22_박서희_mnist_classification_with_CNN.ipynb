{
  "cells": [
    {
      "cell_type": "markdown",
      "metadata": {
        "id": "aq7MqgGKBfOq"
      },
      "source": [
        "# MNIST Digit Classification with Convolutional Neural Network (CNN)\n",
        "\n",
        "**Discipline(s):** Computer Vision, Deep Learning"
      ]
    },
    {
      "cell_type": "markdown",
      "source": [
        "colab에서 돌릴 경우, 런타임 유형을 GPU로 변경해주세요."
      ],
      "metadata": {
        "id": "5cUUrd641K_K"
      }
    },
    {
      "cell_type": "markdown",
      "metadata": {
        "id": "Uzlnsvf1DGpk"
      },
      "source": [
        "## 1. Import Statements\n",
        "\n",
        "---\n",
        "\n"
      ]
    },
    {
      "cell_type": "code",
      "execution_count": 1,
      "metadata": {
        "id": "l8DhknOWDIc4"
      },
      "outputs": [],
      "source": [
        "import torch\n",
        "import torch.nn as nn\n",
        "import torch.optim as optim\n",
        "from torchvision import datasets, transforms\n",
        "from torch.utils.data import DataLoader\n",
        "import matplotlib.pyplot as plt\n",
        "import numpy as np\n",
        "import random"
      ]
    },
    {
      "cell_type": "markdown",
      "metadata": {
        "id": "Yuvx7u4qDQ0p"
      },
      "source": [
        "## 2. Data Preprocessing\n",
        "\n",
        "---\n",
        "\n"
      ]
    },
    {
      "cell_type": "markdown",
      "metadata": {
        "id": "qI70NJ8SN4An"
      },
      "source": [
        "The first step is to preprocess our data."
      ]
    },
    {
      "cell_type": "code",
      "execution_count": 2,
      "metadata": {
        "id": "TJ5hAZTYvfks"
      },
      "outputs": [],
      "source": [
        "BATCH_SIZE = 64\n",
        "EPOCHS = 10\n",
        "LEARNING_RATE = 0.001\n",
        "DEVICE = torch.device(\"cuda\" if torch.cuda.is_available() else \"cpu\")"
      ]
    },
    {
      "cell_type": "code",
      "execution_count": 3,
      "metadata": {
        "id": "IsaUq1mDDVLT"
      },
      "outputs": [],
      "source": [
        "transform = transforms.Compose([\n",
        "    transforms.ToTensor(),\n",
        "    transforms.Normalize((0.1307,), (0.3081,))\n",
        "])"
      ]
    },
    {
      "cell_type": "code",
      "execution_count": 4,
      "metadata": {
        "id": "nWuEpda6EBMN",
        "colab": {
          "base_uri": "https://localhost:8080/"
        },
        "outputId": "f7c9d202-8da2-452f-8341-bd4e6b9890d7"
      },
      "outputs": [
        {
          "output_type": "stream",
          "name": "stderr",
          "text": [
            "100%|██████████| 9.91M/9.91M [00:00<00:00, 17.5MB/s]\n",
            "100%|██████████| 28.9k/28.9k [00:00<00:00, 473kB/s]\n",
            "100%|██████████| 1.65M/1.65M [00:00<00:00, 4.37MB/s]\n",
            "100%|██████████| 4.54k/4.54k [00:00<00:00, 10.3MB/s]\n"
          ]
        }
      ],
      "source": [
        "train_dataset = datasets.MNIST(root='./data', train=True, transform=transform, download=True)\n",
        "test_dataset  = datasets.MNIST(root='./data', train=False, transform=transform, download=True)\n",
        "\n",
        "train_loader = DataLoader(train_dataset, batch_size=BATCH_SIZE, shuffle=True)\n",
        "test_loader  = DataLoader(test_dataset, batch_size=BATCH_SIZE, shuffle=False)"
      ]
    },
    {
      "cell_type": "code",
      "execution_count": 5,
      "metadata": {
        "id": "9PpPi0qpNI_L",
        "colab": {
          "base_uri": "https://localhost:8080/"
        },
        "outputId": "ce690b5e-f2cd-4da4-9b4b-6271e57fa14c"
      },
      "outputs": [
        {
          "output_type": "stream",
          "name": "stdout",
          "text": [
            "Training Images: torch.Size([60000, 28, 28])\n",
            "Testing Images: torch.Size([10000, 28, 28])\n",
            "Training Labels: torch.Size([60000])\n",
            "Test Labels: torch.Size([10000])\n"
          ]
        }
      ],
      "source": [
        "X_train = train_dataset.data\n",
        "y_train = train_dataset.targets\n",
        "X_test = test_dataset.data\n",
        "y_test = test_dataset.targets\n",
        "\n",
        "print(\"Training Images:\", X_train.shape)  # [60000, 28, 28]\n",
        "print(\"Testing Images:\", X_test.shape)    # [10000, 28, 28]\n",
        "print(\"Training Labels:\", y_train.shape)  # [60000]\n",
        "print(\"Test Labels:\", y_test.shape)       # [10000]"
      ]
    },
    {
      "cell_type": "code",
      "execution_count": 6,
      "metadata": {
        "id": "mSKjBaeNNc1m",
        "colab": {
          "base_uri": "https://localhost:8080/",
          "height": 428
        },
        "outputId": "c99cf55b-1199-4188-9d11-c4489f111d11"
      },
      "outputs": [
        {
          "output_type": "display_data",
          "data": {
            "text/plain": [
              "<Figure size 640x480 with 1 Axes>"
            ],
            "image/png": "[encoded data removed]"
          },
          "metadata": {}
        }
      ],
      "source": [
        "plt.imshow(X_train[10], cmap='gray')\n",
        "plt.title(f\"Label: {y_train[10].item()}\")\n",
        "plt.axis('off')\n",
        "plt.show()"
      ]
    },
    {
      "cell_type": "markdown",
      "metadata": {
        "id": "J5ubfhUsFLR8"
      },
      "source": [
        "## 3. Convolutional Neural Network (CNN)\n",
        "\n",
        "---\n",
        "\n"
      ]
    },
    {
      "cell_type": "markdown",
      "metadata": {
        "id": "-gPoq2dRFtrH"
      },
      "source": [
        "### 3.1. Define the Model"
      ]
    },
    {
      "cell_type": "markdown",
      "metadata": {
        "id": "jU5sDVjhOVgF"
      },
      "source": [
        "We then have to define our convolutional neural network."
      ]
    },
    {
      "cell_type": "code",
      "execution_count": 7,
      "metadata": {
        "id": "Ri1rSpp3FSDS"
      },
      "outputs": [],
      "source": [
        "# CNN 모델 정의 -> 차원이 어떻게 될지 생각하면서 코드 빈칸을 채워주세요.\n",
        "class SimpleCNN(nn.Module):\n",
        "    def __init__(self):\n",
        "        super().__init__()\n",
        "        self.net = nn.Sequential(\n",
        "            nn.Conv2d(in_channels=1, out_channels=32, kernel_size=3, padding=1),\n",
        "            # activation function\n",
        "            nn.ReLU(),\n",
        "            nn.MaxPool2d(kernel_size=2, stride=2),    # 28x28 -> 14x14\n",
        "\n",
        "            # 모델을 더 깊게 쌓아도 됩니다.\n",
        "            nn.Conv2d(in_channels=32, out_channels=64, kernel_size=3, padding=1),\n",
        "            nn.ReLU(),\n",
        "            nn.MaxPool2d(kernel_size=2, stride=2),\n",
        "\n",
        "            # fully connected layer 전, flatten 과정 필요\n",
        "            nn.Flatten(),\n",
        "            nn.Linear(64*7*7, 128),\n",
        "            nn.ReLU(),\n",
        "            nn.Linear(128,10),\n",
        "        )\n",
        "\n",
        "    def forward(self, x):\n",
        "        return self.net(x)"
      ]
    },
    {
      "cell_type": "code",
      "execution_count": 8,
      "metadata": {
        "id": "cdMaLgtqFeV6"
      },
      "outputs": [],
      "source": [
        "# 모델 준비\n",
        "model = SimpleCNN().to(DEVICE)"
      ]
    },
    {
      "cell_type": "markdown",
      "metadata": {
        "id": "GYactRmuOhCW"
      },
      "source": [
        "Once our model is defined, we can compile it using the Adam optimizer and the categorical cross-entropy loss function."
      ]
    },
    {
      "cell_type": "code",
      "execution_count": 9,
      "metadata": {
        "id": "57j-R0L4Fmmf"
      },
      "outputs": [],
      "source": [
        "criterion = nn.CrossEntropyLoss()\n",
        "optimizer = optim.Adam(model.parameters(), lr=LEARNING_RATE)"
      ]
    },
    {
      "cell_type": "markdown",
      "metadata": {
        "id": "hRVabAG8F3IL"
      },
      "source": [
        "### 3.2. Train the Model"
      ]
    },
    {
      "cell_type": "code",
      "execution_count": 10,
      "metadata": {
        "id": "Yl1f9mvZF5Pc"
      },
      "outputs": [],
      "source": [
        "def train(model, loader):\n",
        "    model.train()\n",
        "    total_loss = 0\n",
        "    correct = 0\n",
        "    total = 0\n",
        "    for x, y in loader:\n",
        "        x, y = x.to(DEVICE), y.to(DEVICE)\n",
        "        optimizer.zero_grad()\n",
        "        output = model(x)\n",
        "        loss = criterion(output, y)\n",
        "        loss.backward()\n",
        "        optimizer.step()\n",
        "\n",
        "        total_loss += loss.item() * y.size(0)\n",
        "        correct += (output.argmax(dim=1) == y).sum().item()\n",
        "        total += y.size(0)\n",
        "\n",
        "    avg_loss = total_loss / total\n",
        "    accuracy = correct / total\n",
        "    return avg_loss, accuracy"
      ]
    },
    {
      "cell_type": "code",
      "execution_count": 11,
      "metadata": {
        "id": "3rdNRFf0vfkt"
      },
      "outputs": [],
      "source": [
        "def evaluate(model, loader):\n",
        "    model.eval()\n",
        "    total_loss = 0\n",
        "    correct = 0\n",
        "    total = 0\n",
        "    with torch.no_grad():\n",
        "        for x, y in loader:\n",
        "            x, y = x.to(DEVICE), y.to(DEVICE)\n",
        "            output = model(x)\n",
        "            loss = criterion(output, y)\n",
        "\n",
        "            total_loss += loss.item() * y.size(0)\n",
        "            correct += (output.argmax(dim=1) == y).sum().item()\n",
        "            total += y.size(0)\n",
        "\n",
        "    avg_loss = total_loss / total\n",
        "    accuracy = correct / total\n",
        "    return avg_loss, accuracy"
      ]
    },
    {
      "cell_type": "code",
      "execution_count": 12,
      "metadata": {
        "id": "c2L1JJ6fvfkt",
        "colab": {
          "base_uri": "https://localhost:8080/"
        },
        "outputId": "8642ad8b-f856-49b5-f966-d1c26b770dc9"
      },
      "outputs": [
        {
          "output_type": "stream",
          "name": "stdout",
          "text": [
            "[Epoch 1] Train Loss: 0.1256, Train Acc: 0.9614 | Test Loss: 0.0403, Test Acc: 0.9870\n",
            "[Epoch 2] Train Loss: 0.0403, Train Acc: 0.9873 | Test Loss: 0.0343, Test Acc: 0.9881\n",
            "[Epoch 3] Train Loss: 0.0272, Train Acc: 0.9910 | Test Loss: 0.0328, Test Acc: 0.9887\n",
            "[Epoch 4] Train Loss: 0.0200, Train Acc: 0.9933 | Test Loss: 0.0298, Test Acc: 0.9908\n",
            "[Epoch 5] Train Loss: 0.0162, Train Acc: 0.9947 | Test Loss: 0.0290, Test Acc: 0.9901\n",
            "[Epoch 6] Train Loss: 0.0115, Train Acc: 0.9961 | Test Loss: 0.0436, Test Acc: 0.9877\n",
            "[Epoch 7] Train Loss: 0.0110, Train Acc: 0.9960 | Test Loss: 0.0330, Test Acc: 0.9897\n",
            "[Epoch 8] Train Loss: 0.0085, Train Acc: 0.9971 | Test Loss: 0.0331, Test Acc: 0.9906\n",
            "[Epoch 9] Train Loss: 0.0079, Train Acc: 0.9977 | Test Loss: 0.0344, Test Acc: 0.9909\n",
            "[Epoch 10] Train Loss: 0.0063, Train Acc: 0.9980 | Test Loss: 0.0353, Test Acc: 0.9907\n"
          ]
        }
      ],
      "source": [
        "train_losses = []\n",
        "train_accuracies = []\n",
        "test_losses = []\n",
        "test_accuracies = []\n",
        "\n",
        "for epoch in range(EPOCHS):\n",
        "    train_loss, train_acc = train(model, train_loader)\n",
        "    test_loss, test_acc = evaluate(model, test_loader)\n",
        "\n",
        "    train_losses.append(train_loss)\n",
        "    train_accuracies.append(train_acc)\n",
        "    test_losses.append(test_loss)\n",
        "    test_accuracies.append(test_acc)\n",
        "\n",
        "    print(f\"[Epoch {epoch+1}] \"\n",
        "          f\"Train Loss: {train_loss:.4f}, Train Acc: {train_acc:.4f} | \"\n",
        "          f\"Test Loss: {test_loss:.4f}, Test Acc: {test_acc:.4f}\")"
      ]
    },
    {
      "cell_type": "markdown",
      "metadata": {
        "id": "WhyG0-sPHOAv"
      },
      "source": [
        "### 3.3. 시각화"
      ]
    },
    {
      "cell_type": "markdown",
      "metadata": {
        "id": "ZztnSHgjZPDN"
      },
      "source": [
        "Finally, we can plot the curves."
      ]
    },
    {
      "cell_type": "code",
      "execution_count": 13,
      "metadata": {
        "id": "p56cSX3JfIsz",
        "colab": {
          "base_uri": "https://localhost:8080/",
          "height": 283
        },
        "outputId": "d0c4357d-a88f-4e23-db62-d93c33c45006"
      },
      "outputs": [
        {
          "output_type": "display_data",
          "data": {
            "text/plain": [
              "<Figure size 1200x500 with 2 Axes>"
            ],
            "image/png": "[encoded data removed]"
          },
          "metadata": {}
        }
      ],
      "source": [
        "epochs = range(1, EPOCHS + 1)\n",
        "\n",
        "plt.figure(figsize=(12, 5))\n",
        "\n",
        "# Loss 그래프\n",
        "plt.subplot(1, 2, 1)\n",
        "plt.plot(epochs, train_losses, label='Train Loss', marker='o')\n",
        "plt.plot(epochs, test_losses, label='Test Loss', marker='o')\n",
        "plt.xlabel(\"Epoch\")\n",
        "plt.ylabel(\"Loss\")\n",
        "plt.title(\"Loss over Epochs\")\n",
        "plt.legend()\n",
        "\n",
        "# Accuracy 그래프\n",
        "plt.subplot(1, 2, 2)\n",
        "plt.plot(epochs, train_accuracies, label='Train Accuracy', marker='o')\n",
        "plt.plot(epochs, test_accuracies, label='Test Accuracy', marker='o')\n",
        "plt.xlabel(\"Epoch\")\n",
        "plt.ylabel(\"Accuracy\")\n",
        "plt.title(\"Accuracy over Epochs\")\n",
        "plt.legend()\n",
        "\n",
        "plt.tight_layout()\n",
        "plt.show()"
      ]
    },
    {
      "cell_type": "markdown",
      "metadata": {
        "id": "x2BDwaUigDgC"
      },
      "source": [
        "## 4. Make a Prediction\n",
        "\n",
        "---\n",
        "\n"
      ]
    },
    {
      "cell_type": "markdown",
      "metadata": {
        "id": "vx34e_AWgLeE"
      },
      "source": [
        "Once our model is trained, we can use it to make predictions. To do this, we first use our test set to predict the classes."
      ]
    },
    {
      "cell_type": "code",
      "execution_count": 14,
      "metadata": {
        "id": "SylCmq61gTnM"
      },
      "outputs": [],
      "source": [
        "def show_random_predictions(model, dataset, num_images=5):\n",
        "    model.eval()\n",
        "\n",
        "    indices = random.sample(range(len(dataset)), num_images)\n",
        "    images = torch.stack([dataset[i][0] for i in indices])\n",
        "    labels = torch.tensor([dataset[i][1] for i in indices])\n",
        "\n",
        "    images = images.to(DEVICE)\n",
        "    outputs = model(images)\n",
        "    preds = outputs.argmax(dim=1)\n",
        "\n",
        "    plt.figure(figsize=(12, 3))\n",
        "    for i in range(num_images):\n",
        "        plt.subplot(1, num_images, i+1)\n",
        "        plt.imshow(images[i].cpu().squeeze(), cmap='gray')\n",
        "        plt.title(f\"GT: {labels[i].item()}\\nPred: {preds[i].item()}\")\n",
        "        plt.axis('off')\n",
        "    plt.tight_layout()\n",
        "    plt.show()"
      ]
    },
    {
      "cell_type": "markdown",
      "metadata": {
        "id": "uMo9sEZpggPq"
      },
      "source": [
        "Finally, we can show a random test image with its corresponding prediction."
      ]
    },
    {
      "cell_type": "code",
      "execution_count": 15,
      "metadata": {
        "colab": {
          "base_uri": "https://localhost:8080/",
          "height": 172
        },
        "id": "Gc6bx2stgfiY",
        "outputId": "fb652099-9749-4438-e40b-688274f609fa"
      },
      "outputs": [
        {
          "output_type": "display_data",
          "data": {
            "text/plain": [
              "<Figure size 1200x300 with 5 Axes>"
            ],
            "image/png": "[encoded data removed]"
          },
          "metadata": {}
        }
      ],
      "source": [
        "show_random_predictions(model, test_dataset, num_images=5)"
      ]
    },
    {
      "cell_type": "markdown",
      "source": [
        "## ResNet"
      ],
      "metadata": {
        "id": "OLpFd6FcyG-m"
      }
    },
    {
      "cell_type": "code",
      "source": [
        "BATCH_SIZE = 128\n",
        "EPOCHS = 10\n",
        "LEARNING_RATE = 0.1\n",
        "DEVICE = torch.device(\"cuda\" if torch.cuda.is_available() else \"cpu\")"
      ],
      "metadata": {
        "id": "_p_vSUNxyYvp"
      },
      "execution_count": 16,
      "outputs": []
    },
    {
      "cell_type": "code",
      "source": [
        "class ResidualBlock(nn.Module):\n",
        "    def __init__(self, in_channels, out_channels):\n",
        "        super().__init__()\n",
        "\n",
        "        self.conv1 = nn.Conv2d(in_channels, out_channels, kernel_size=3, padding=1)\n",
        "        # batch normalization\n",
        "        self.bn1 = nn.BatchNorm2d(out_channels)\n",
        "        # activation function\n",
        "        self.relu = nn.ReLU()\n",
        "        self.conv2 = nn.Conv2d(out_channels, out_channels, kernel_size=3, padding=1)\n",
        "        self.bn2 = nn.BatchNorm2d(out_channels)\n",
        "\n",
        "        # 추가로 layer 등을 더 구현하셔도 됩니다.\n",
        "\n",
        "\n",
        "        # Skip connection: 채널 수가 다르면 어떤 convolution layer를 사용하는게 좋을지 생각해주세요.\n",
        "        if in_channels != out_channels:\n",
        "            self.shortcut = nn.Sequential(\n",
        "                nn.Conv2d(in_channels, out_channels, kernel_size=1, stride=1),\n",
        "                nn.BatchNorm2d(out_channels)\n",
        "            )\n",
        "        else:\n",
        "            self.shortcut = nn.Identity()\n",
        "\n",
        "    def forward(self, x):\n",
        "        identity = self.shortcut(x)\n",
        "\n",
        "        # 빈칸 채우기\n",
        "        out = self.conv1(x)\n",
        "        out = self.bn1(out)\n",
        "        out = self.relu(out)\n",
        "\n",
        "        out = self.conv2(out)\n",
        "        out = self.bn2(out)\n",
        "\n",
        "        out += identity\n",
        "        return self.relu(out)"
      ],
      "metadata": {
        "id": "06XwbEcayJ14"
      },
      "execution_count": 17,
      "outputs": []
    },
    {
      "cell_type": "code",
      "source": [
        "class ResNetLike(nn.Module):\n",
        "    def __init__(self):\n",
        "        super().__init__()\n",
        "        self.stem = nn.Sequential(\n",
        "            nn.Conv2d(1, 16, kernel_size=3, stride=1, padding=1),\n",
        "            nn.BatchNorm2d(16),\n",
        "            nn.ReLU(),\n",
        "            nn.MaxPool2d(2)\n",
        "        )\n",
        "\n",
        "        # layer 등을 추가로 더 쌓으셔도 됩니다.\n",
        "        self.layer1 = ResidualBlock(16, 32)\n",
        "        self.layer2 = ResidualBlock(32, 64)\n",
        "        self.layer3 = ResidualBlock(64, 128)\n",
        "        self.layer4 = ResidualBlock(128, 128)\n",
        "\n",
        "        self.avgpool = nn.AdaptiveAvgPool2d((1, 1))\n",
        "\n",
        "        # 빈칸을 채워주세요.\n",
        "        self.fc = nn.Linear(128, 10)\n",
        "\n",
        "    def forward(self, x):\n",
        "        # 빈칸을 채워주세요.\n",
        "        x = self.stem(x)\n",
        "        x = self.layer1(x)\n",
        "        x = self.layer2(x)\n",
        "        x = self.layer3(x)\n",
        "        x = self.layer4(x)\n",
        "        x = self.avgpool(x)\n",
        "        x = torch.flatten(x, 1)\n",
        "        x = self.fc(x)\n",
        "\n",
        "        return x"
      ],
      "metadata": {
        "id": "HSMHZeR4yMHj"
      },
      "execution_count": 29,
      "outputs": []
    },
    {
      "cell_type": "code",
      "source": [
        "model = ResNetLike().to(DEVICE)"
      ],
      "metadata": {
        "id": "MG4iv3WFyNb_"
      },
      "execution_count": 30,
      "outputs": []
    },
    {
      "cell_type": "code",
      "source": [
        "criterion = nn.CrossEntropyLoss()\n",
        "optimizer = optim.Adam(model.parameters(), lr=LEARNING_RATE)"
      ],
      "metadata": {
        "id": "k7Xea4AVyUz1"
      },
      "execution_count": 31,
      "outputs": []
    },
    {
      "cell_type": "code",
      "source": [
        "train_losses = []\n",
        "train_accuracies = []\n",
        "test_losses = []\n",
        "test_accuracies = []\n",
        "\n",
        "for epoch in range(EPOCHS):\n",
        "    train_loss, train_acc = train(model, train_loader)\n",
        "    test_loss, test_acc = evaluate(model, test_loader)\n",
        "\n",
        "    train_losses.append(train_loss)\n",
        "    train_accuracies.append(train_acc)\n",
        "    test_losses.append(test_loss)\n",
        "    test_accuracies.append(test_acc)\n",
        "\n",
        "    print(f\"[Epoch {epoch+1}] \"\n",
        "          f\"Train Loss: {train_loss:.4f}, Train Acc: {train_acc:.4f} | \"\n",
        "          f\"Test Loss: {test_loss:.4f}, Test Acc: {test_acc:.4f}\")"
      ],
      "metadata": {
        "id": "Zm2_VbjdyWjT",
        "colab": {
          "base_uri": "https://localhost:8080/"
        },
        "outputId": "1d853f79-2f34-41bf-9a19-431b547cd706"
      },
      "execution_count": 32,
      "outputs": [
        {
          "output_type": "stream",
          "name": "stdout",
          "text": [
            "[Epoch 1] Train Loss: 0.4469, Train Acc: 0.8559 | Test Loss: 0.1447, Test Acc: 0.9563\n",
            "[Epoch 2] Train Loss: 0.0858, Train Acc: 0.9744 | Test Loss: 0.1009, Test Acc: 0.9688\n",
            "[Epoch 3] Train Loss: 0.0684, Train Acc: 0.9793 | Test Loss: 0.0788, Test Acc: 0.9773\n",
            "[Epoch 4] Train Loss: 0.0574, Train Acc: 0.9829 | Test Loss: 0.0454, Test Acc: 0.9856\n",
            "[Epoch 5] Train Loss: 0.0511, Train Acc: 0.9847 | Test Loss: 0.0378, Test Acc: 0.9873\n",
            "[Epoch 6] Train Loss: 0.0470, Train Acc: 0.9857 | Test Loss: 0.0598, Test Acc: 0.9818\n",
            "[Epoch 7] Train Loss: 0.0441, Train Acc: 0.9866 | Test Loss: 0.0367, Test Acc: 0.9891\n",
            "[Epoch 8] Train Loss: 0.0409, Train Acc: 0.9880 | Test Loss: 0.0580, Test Acc: 0.9813\n",
            "[Epoch 9] Train Loss: 0.0402, Train Acc: 0.9881 | Test Loss: 0.0487, Test Acc: 0.9863\n",
            "[Epoch 10] Train Loss: 0.0371, Train Acc: 0.9891 | Test Loss: 0.0350, Test Acc: 0.9897\n"
          ]
        }
      ]
    },
    {
      "cell_type": "markdown",
      "metadata": {
        "id": "Hi1uuKE-0ZVo"
      },
      "source": [
        "### 시각화"
      ]
    },
    {
      "cell_type": "markdown",
      "metadata": {
        "id": "vSz1wH7m0ZVo"
      },
      "source": [
        "Finally, we can plot the curves."
      ]
    },
    {
      "cell_type": "code",
      "execution_count": 33,
      "metadata": {
        "id": "jyz4Fpqy0ZVp",
        "colab": {
          "base_uri": "https://localhost:8080/",
          "height": 283
        },
        "outputId": "0208c9a1-df4b-4905-f8c8-8d8e2d912d28"
      },
      "outputs": [
        {
          "output_type": "display_data",
          "data": {
            "text/plain": [
              "<Figure size 1200x500 with 2 Axes>"
            ],
            "image/png": "[encoded data removed]"
          },
          "metadata": {}
        }
      ],
      "source": [
        "epochs = range(1, EPOCHS + 1)\n",
        "\n",
        "plt.figure(figsize=(12, 5))\n",
        "\n",
        "# Loss 그래프\n",
        "plt.subplot(1, 2, 1)\n",
        "plt.plot(epochs, train_losses, label='Train Loss', marker='o')\n",
        "plt.plot(epochs, test_losses, label='Test Loss', marker='o')\n",
        "plt.xlabel(\"Epoch\")\n",
        "plt.ylabel(\"Loss\")\n",
        "plt.title(\"Loss over Epochs\")\n",
        "plt.legend()\n",
        "\n",
        "# Accuracy 그래프\n",
        "plt.subplot(1, 2, 2)\n",
        "plt.plot(epochs, train_accuracies, label='Train Accuracy', marker='o')\n",
        "plt.plot(epochs, test_accuracies, label='Test Accuracy', marker='o')\n",
        "plt.xlabel(\"Epoch\")\n",
        "plt.ylabel(\"Accuracy\")\n",
        "plt.title(\"Accuracy over Epochs\")\n",
        "plt.legend()\n",
        "\n",
        "plt.tight_layout()\n",
        "plt.show()"
      ]
    },
    {
      "cell_type": "markdown",
      "metadata": {
        "id": "27Eq8jGz0ZVp"
      },
      "source": [
        "### Make a Prediction\n",
        "\n",
        "---\n",
        "\n"
      ]
    },
    {
      "cell_type": "markdown",
      "metadata": {
        "id": "sP0f6ubw0ZVp"
      },
      "source": [
        "Once our model is trained, we can use it to make predictions. To do this, we first use our test set to predict the classes."
      ]
    },
    {
      "cell_type": "code",
      "execution_count": 34,
      "metadata": {
        "id": "lVu8eeJT0ZVp"
      },
      "outputs": [],
      "source": [
        "def show_random_predictions(model, dataset, num_images=5):\n",
        "    model.eval()\n",
        "\n",
        "    indices = random.sample(range(len(dataset)), num_images)\n",
        "    images = torch.stack([dataset[i][0] for i in indices])\n",
        "    labels = torch.tensor([dataset[i][1] for i in indices])\n",
        "\n",
        "    images = images.to(DEVICE)\n",
        "    outputs = model(images)\n",
        "    preds = outputs.argmax(dim=1)\n",
        "\n",
        "    plt.figure(figsize=(12, 3))\n",
        "    for i in range(num_images):\n",
        "        plt.subplot(1, num_images, i+1)\n",
        "        plt.imshow(images[i].cpu().squeeze(), cmap='gray')\n",
        "        plt.title(f\"GT: {labels[i].item()}\\nPred: {preds[i].item()}\")\n",
        "        plt.axis('off')\n",
        "    plt.tight_layout()\n",
        "    plt.show()"
      ]
    },
    {
      "cell_type": "markdown",
      "metadata": {
        "id": "ga_m7qAf0ZVp"
      },
      "source": [
        "Finally, we can show a random test image with its corresponding prediction."
      ]
    },
    {
      "cell_type": "code",
      "execution_count": 35,
      "metadata": {
        "colab": {
          "base_uri": "https://localhost:8080/",
          "height": 172
        },
        "id": "TgTOV7Qb0ZVp",
        "outputId": "76ed1bd1-3523-471f-d01a-4bf4be27805d"
      },
      "outputs": [
        {
          "output_type": "display_data",
          "data": {
            "text/plain": [
              "<Figure size 1200x300 with 5 Axes>"
            ],
            "image/png": "[encoded data removed]"
          },
          "metadata": {}
        }
      ],
      "source": [
        "show_random_predictions(model, test_dataset, num_images=5)"
      ]
    },
    {
      "cell_type": "markdown",
      "source": [
        "# 다른 데이터셋으로도 진행해보기"
      ],
      "metadata": {
        "id": "8ThiZFDY002Q"
      }
    },
    {
      "cell_type": "code",
      "source": [
        "## CIFAR-10 Dataset\n",
        "\n",
        "import torchvision\n",
        "\n",
        "transform = transforms.Compose([\n",
        "    transforms.RandomCrop(32, padding=4),\n",
        "    transforms.RandomHorizontalFlip(),\n",
        "    transforms.ToTensor(),\n",
        "    transforms.Normalize((0.4914, 0.4822, 0.4465),\n",
        "                         (0.2023, 0.1994, 0.2010))\n",
        "])\n",
        "\n",
        "train_dataset = torchvision.datasets.CIFAR10(root='./data', train=True,\n",
        "                                             transform=transform, download=True)\n",
        "test_dataset = torchvision.datasets.CIFAR10(root='./data', train=False,\n",
        "                                            transform=transform, download=True)\n",
        "\n",
        "train_loader = torch.utils.data.DataLoader(train_dataset, batch_size=128, shuffle=True)\n",
        "test_loader = torch.utils.data.DataLoader(test_dataset, batch_size=100, shuffle=False)"
      ],
      "metadata": {
        "id": "r5LMG-VN08BA",
        "colab": {
          "base_uri": "https://localhost:8080/"
        },
        "outputId": "acff914d-3320-44e0-f5c5-1ac4a515b762"
      },
      "execution_count": 36,
      "outputs": [
        {
          "output_type": "stream",
          "name": "stderr",
          "text": [
            "100%|██████████| 170M/170M [00:03<00:00, 48.9MB/s]\n"
          ]
        }
      ]
    },
    {
      "cell_type": "code",
      "source": [
        "class ResNetCIFAR10(nn.Module):\n",
        "    def __init__(self):\n",
        "        super().__init__()\n",
        "        self.stem = nn.Sequential(\n",
        "            nn.Conv2d(3, 16, kernel_size=3, padding=1),  # input_channels=3\n",
        "            nn.BatchNorm2d(16),\n",
        "            nn.ReLU(),\n",
        "            nn.MaxPool2d(2)  # 32x32 → 16x16\n",
        "        )\n",
        "\n",
        "        self.layer1 = ResidualBlock(16, 32)\n",
        "        self.layer2 = ResidualBlock(32, 64)\n",
        "        self.layer3 = ResidualBlock(64, 128)\n",
        "        self.layer4 = ResidualBlock(128, 256)\n",
        "\n",
        "        self.avgpool = nn.AdaptiveAvgPool2d((1, 1))  # 256x1x1\n",
        "        self.dropout = nn.Dropout(0.5)\n",
        "        self.fc = nn.Linear(256, 10)\n",
        "\n",
        "    def forward(self, x):\n",
        "        x = self.stem(x)\n",
        "        x = self.layer1(x)\n",
        "        x = self.layer2(x)\n",
        "        x = self.layer3(x)\n",
        "        x = self.layer4(x)\n",
        "        x = self.avgpool(x)\n",
        "        x = torch.flatten(x, 1)\n",
        "        x = self.dropout(x)\n",
        "        x = self.fc(x)\n",
        "        return x"
      ],
      "metadata": {
        "id": "WIrnBUn6j15E"
      },
      "execution_count": 38,
      "outputs": []
    },
    {
      "cell_type": "code",
      "source": [
        "device = torch.device(\"cuda\" if torch.cuda.is_available() else \"cpu\")\n",
        "model = ResNetCIFAR10().to(device)\n",
        "\n",
        "criterion = nn.CrossEntropyLoss()\n",
        "optimizer = torch.optim.Adam(model.parameters(), lr=0.001)\n",
        "\n",
        "def train(model, loader):\n",
        "    model.train()\n",
        "    total_loss, correct, total = 0, 0, 0\n",
        "    for x, y in loader:\n",
        "        x, y = x.to(device), y.to(device)\n",
        "        optimizer.zero_grad()\n",
        "        out = model(x)\n",
        "        loss = criterion(out, y)\n",
        "        loss.backward()\n",
        "        optimizer.step()\n",
        "\n",
        "        total_loss += loss.item() * y.size(0)\n",
        "        correct += (out.argmax(1) == y).sum().item()\n",
        "        total += y.size(0)\n",
        "    return total_loss / total, correct / total\n",
        "\n",
        "def evaluate(model, loader):\n",
        "    model.eval()\n",
        "    total_loss, correct, total = 0, 0, 0\n",
        "    with torch.no_grad():\n",
        "        for x, y in loader:\n",
        "            x, y = x.to(device), y.to(device)\n",
        "            out = model(x)\n",
        "            loss = criterion(out, y)\n",
        "            total_loss += loss.item() * y.size(0)\n",
        "            correct += (out.argmax(1) == y).sum().item()\n",
        "            total += y.size(0)\n",
        "    return total_loss / total, correct / total\n",
        "\n",
        "# Training loop\n",
        "for epoch in range(10):\n",
        "    train_loss, train_acc = train(model, train_loader)\n",
        "    test_loss, test_acc = evaluate(model, test_loader)\n",
        "    print(f\"[{epoch+1}] Train Acc: {train_acc:.4f} | Test Acc: {test_acc:.4f}\")"
      ],
      "metadata": {
        "colab": {
          "base_uri": "https://localhost:8080/"
        },
        "id": "c_gm8spMkCWB",
        "outputId": "e68e1d35-4185-40ca-be37-0b62ab2529be"
      },
      "execution_count": 39,
      "outputs": [
        {
          "output_type": "stream",
          "name": "stdout",
          "text": [
            "[1] Train Acc: 0.4640 | Test Acc: 0.5086\n",
            "[2] Train Acc: 0.6139 | Test Acc: 0.6213\n",
            "[3] Train Acc: 0.6683 | Test Acc: 0.6823\n",
            "[4] Train Acc: 0.7048 | Test Acc: 0.7014\n",
            "[5] Train Acc: 0.7336 | Test Acc: 0.7405\n",
            "[6] Train Acc: 0.7538 | Test Acc: 0.7686\n",
            "[7] Train Acc: 0.7740 | Test Acc: 0.7486\n",
            "[8] Train Acc: 0.7874 | Test Acc: 0.7658\n",
            "[9] Train Acc: 0.7994 | Test Acc: 0.8008\n",
            "[10] Train Acc: 0.8089 | Test Acc: 0.7969\n"
          ]
        }
      ]
    }
  ],
  "metadata": {
    "colab": {
      "provenance": [],
      "gpuType": "T4"
    },
    "kernelspec": {
      "display_name": "Python 3",
      "name": "python3"
    },
    "language_info": {
      "codemirror_mode": {
        "name": "ipython",
        "version": 3
      },
      "file_extension": ".py",
      "mimetype": "text/x-python",
      "name": "python",
      "nbconvert_exporter": "python",
      "pygments_lexer": "ipython3",
      "version": "3.12.4"
    },
    "accelerator": "GPU"
  },
  "nbformat": 4,
  "nbformat_minor": 0
}