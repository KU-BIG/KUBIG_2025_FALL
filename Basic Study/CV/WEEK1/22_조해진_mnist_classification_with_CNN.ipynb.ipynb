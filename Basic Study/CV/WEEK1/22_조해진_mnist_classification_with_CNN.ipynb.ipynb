{
  "nbformat": 4,
  "nbformat_minor": 0,
  "metadata": {
    "colab": {
      "provenance": []
    },
    "kernelspec": {
      "name": "python3",
      "display_name": "Python 3"
    },
    "language_info": {
      "name": "python"
    }
  },
  "cells": [
    {
      "cell_type": "markdown",
      "source": [
        "#### IMPORT"
      ],
      "metadata": {
        "id": "xxd8USssUfCd"
      }
    },
    {
      "cell_type": "code",
      "execution_count": 1,
      "metadata": {
        "id": "InTU1aC8UAK5"
      },
      "outputs": [],
      "source": [
        "import torch\n",
        "import torch.nn as nn\n",
        "import torch.optim as optim\n",
        "\n",
        "from torchvision import datasets, transforms\n",
        "from torch.utils.data import DataLoader\n",
        "\n",
        "import matplotlib.pyplot as plt\n",
        "import numpy as np\n",
        "import random"
      ]
    },
    {
      "cell_type": "markdown",
      "source": [
        "#### Preprocess Data"
      ],
      "metadata": {
        "id": "uUS37sYpUrfL"
      }
    },
    {
      "cell_type": "markdown",
      "source": [
        "instantiate transforms class"
      ],
      "metadata": {
        "id": "80nZi0SpFiBB"
      }
    },
    {
      "cell_type": "code",
      "source": [
        "# torchvision.transforms\n",
        "# image transformations\n",
        "\n",
        "# torchvision.transforms.Compose\n",
        "# composes(chains) multiple Transform objects together\n",
        "  # transform objects\n",
        "    # z.B. transforms.CenterCrop(size), transforms.ColorJitter(brightness, contrast, saturation, hue), transforms.FiveCrop(size), transforms.Grayscale(num_output_channels), transforms.Pad(padding, fill, padding_mode)\n",
        "  # can also chain with torch.nn.Sequential\n",
        "\n",
        "# transforms = nn.Sequential(\n",
        "#     transforms.CenterCrop(10),\n",
        "#     transforms.Normalize((0.485, 0.456, 0.406), (0.229, 0.224, 0.225)),\n",
        "# )\n",
        "\n",
        "# script_transforms = torch.jit.script(transforms)\n",
        "\n",
        "\n",
        "\n",
        "transform = transforms.Compose([\n",
        "    transforms.ToTensor(),\n",
        "    transforms.Normalize((0.1307,), (0.3081,)) # noramlize a tensor image with mean and std\n",
        "])"
      ],
      "metadata": {
        "id": "aS38CCbyU5Sc"
      },
      "execution_count": 2,
      "outputs": []
    },
    {
      "cell_type": "markdown",
      "source": [
        "set settings"
      ],
      "metadata": {
        "id": "nerlKPzGUvOa"
      }
    },
    {
      "cell_type": "code",
      "source": [
        "batch_size = 32\n",
        "epochs = 20\n",
        "learning_rate = 1e-3\n",
        "device = torch.device('cuda' if torch.cuda.is_available() else 'cpu')"
      ],
      "metadata": {
        "id": "LfzX4ov3Upr4"
      },
      "execution_count": 3,
      "outputs": []
    },
    {
      "cell_type": "markdown",
      "source": [
        "read data and instantiate dataloader"
      ],
      "metadata": {
        "id": "xI3Zr1-hVHon"
      }
    },
    {
      "cell_type": "code",
      "source": [
        "# read data from MNISt dataset\n",
        "train_dataset = datasets.MNIST(root = './data', train = True, transform = transform, download = True)\n",
        "test_dataset = datasets.MNIST(root = './data', train = False, transform = transform, download = True)\n",
        "\n",
        "# load data with DataLoader\n",
        "train_loader = DataLoader(train_dataset, batch_size = batch_size, shuffle = True)\n",
        "test_loader = DataLoader(test_dataset, batch_size = batch_size, shuffle = False)"
      ],
      "metadata": {
        "id": "PR6aWY4PVGDr",
        "colab": {
          "base_uri": "https://localhost:8080/"
        },
        "outputId": "5980dc81-770b-4341-d459-b8d527c3c4ae"
      },
      "execution_count": 4,
      "outputs": [
        {
          "output_type": "stream",
          "name": "stderr",
          "text": [
            "100%|██████████| 9.91M/9.91M [00:00<00:00, 37.0MB/s]\n",
            "100%|██████████| 28.9k/28.9k [00:00<00:00, 1.04MB/s]\n",
            "100%|██████████| 1.65M/1.65M [00:00<00:00, 9.07MB/s]\n",
            "100%|██████████| 4.54k/4.54k [00:00<00:00, 4.49MB/s]\n"
          ]
        }
      ]
    },
    {
      "cell_type": "code",
      "source": [
        "# check the dimensions of input image data\n",
        "dimensions = [x.size() for x, _ in train_loader]\n",
        "print(f'Image Data Shape:\\t{set(dimensions)}')\n",
        "\n",
        "# batch size: 32(of course)\n",
        "# the number of channels: 1\n",
        "# height: 28 pixels\n",
        "# width: 28 pixels"
      ],
      "metadata": {
        "colab": {
          "base_uri": "https://localhost:8080/"
        },
        "id": "3OHnSnbrK49N",
        "outputId": "2440f68f-defc-4ae8-c9dc-417e6a65d7fb"
      },
      "execution_count": 5,
      "outputs": [
        {
          "output_type": "stream",
          "name": "stdout",
          "text": [
            "Image Data Shape:\t{torch.Size([32, 1, 28, 28])}\n"
          ]
        }
      ]
    },
    {
      "cell_type": "code",
      "source": [
        "# assign feature and labels to X_train, y_train, X_test, y_Test variable\n",
        "X_train, y_train = train_dataset.data, train_dataset.targets\n",
        "X_test, y_test = test_dataset.data, test_dataset.targets\n",
        "\n",
        "# check dimensions of each feature / label data\n",
        "print(f'Training images:\\t{str(X_train.shape):>}')\n",
        "print(f'Test images:\\t\\t{str(X_test.shape):>}')\n",
        "print(f'Training Labels:\\t{str(y_train.shape):>}')\n",
        "print(f'Test Labels:\\t\\t{str(y_test.shape):>}')"
      ],
      "metadata": {
        "colab": {
          "base_uri": "https://localhost:8080/"
        },
        "id": "gS6aWJggVb3g",
        "outputId": "fbeabc6b-99be-4072-e78c-d03cf173c9eb"
      },
      "execution_count": 6,
      "outputs": [
        {
          "output_type": "stream",
          "name": "stdout",
          "text": [
            "Training images:\ttorch.Size([60000, 28, 28])\n",
            "Test images:\t\ttorch.Size([10000, 28, 28])\n",
            "Training Labels:\ttorch.Size([60000])\n",
            "Test Labels:\t\ttorch.Size([10000])\n"
          ]
        }
      ]
    },
    {
      "cell_type": "markdown",
      "source": [
        "look up all unique labels"
      ],
      "metadata": {
        "id": "S1T2H1jkGYq2"
      }
    },
    {
      "cell_type": "code",
      "source": [
        "labels = set([int(label) for label in y_train] + [int(label) for label in y_test])\n",
        "print(*sorted(labels))\n",
        "\n",
        "## 0 to 9 digits, 10 classes in total"
      ],
      "metadata": {
        "colab": {
          "base_uri": "https://localhost:8080/"
        },
        "id": "dDQOGGJ5F9Mq",
        "outputId": "4398a12d-24d1-49c7-e3f7-528759ece0bf"
      },
      "execution_count": null,
      "outputs": [
        {
          "output_type": "stream",
          "name": "stdout",
          "text": [
            "0 1 2 3 4 5 6 7 8 9\n"
          ]
        }
      ]
    },
    {
      "cell_type": "code",
      "source": [
        "# visuzlie one of the sample\n",
        "plt.imshow(X_train[-1], cmap = 'gray')\n",
        "plt.title(f'Label: {y_train[-1].item()}')\n",
        "plt.axis('off')\n",
        "plt.show()"
      ],
      "metadata": {
        "colab": {
          "base_uri": "https://localhost:8080/",
          "height": 428
        },
        "id": "iPZpa2OjV6Th",
        "outputId": "bad4d3e9-0747-46b8-d454-8402b34e2de8"
      },
      "execution_count": null,
      "outputs": [
        {
          "output_type": "display_data",
          "data": {
            "text/plain": [
              "<Figure size 640x480 with 1 Axes>"
            ],
            "image/png": "[encoded data removed]"
          },
          "metadata": {}
        }
      ]
    },
    {
      "cell_type": "markdown",
      "source": [
        "#### Define Convolutional Neural Network\n",
        "define CNN architecture"
      ],
      "metadata": {
        "id": "hxVx9lUAYE6e"
      }
    },
    {
      "cell_type": "code",
      "source": [
        "print(\"short introduction to nn.Conv2d\")\n",
        "# import torch.nn as nn\n",
        "\n",
        "# nn.Conv2d(in_channels, out_channels, kernel_size, stride, ):\n",
        "print('''\n",
        "    kargs:\n",
        "      in_channels: the number of channels in the input image\n",
        "      out_channels: the number of channels produced by the convolution\n",
        "      kernel_size: the size of the convolving kernel\n",
        "''')\n",
        "  # nn.Conv2d(16, 33, 3, stride = 2) with square kernels and equal stride\n",
        "  # nn.Conv2d(16, 33, (3, 5), stride = (2, 1), padding = (4, 2)) non-square kernels and unequal stride and with padding\n",
        "  # nn.Conv2d(16, 33, (3, 5), stride = (2, 1), padding = (4, 2), dilation = (3, 1)) non-square kernels and unequal stride and with padding and dilation\n"
      ],
      "metadata": {
        "id": "Rr0A6cBbEKE3",
        "colab": {
          "base_uri": "https://localhost:8080/"
        },
        "outputId": "56ba7c52-1582-4360-fcd1-026f36b6990e"
      },
      "execution_count": null,
      "outputs": [
        {
          "output_type": "stream",
          "name": "stdout",
          "text": [
            "short introduction to nn.Conv2d\n",
            "\n",
            "    kargs:\n",
            "      in_channels: the number of channels in the input image\n",
            "      out_channels: the number of channels produced by the convolution\n",
            "      kernel_size: the size of the convolving kernel\n",
            "\n"
          ]
        }
      ]
    },
    {
      "cell_type": "code",
      "source": [
        "print(\"short introduction to nn.linear\")\n",
        "# import torch.nn as nn\n",
        "\n",
        "# nn.Linear(in_features, out_features):\n",
        "print('''\n",
        "  applies an affine linear transformation to the incoming data\n",
        "\n",
        "    kargs:\n",
        "      in_features: the size of each input sample\n",
        "      out_features: the size of each output sample\n",
        "  ''')\n",
        "  # nn.Linear(in_features = (16 * 5 * 5), out_features = 120) # 16: final number of channels, (5, 5): kernel_size\n",
        "  # nn.Linear(in_features = 120, out_features = 84) # just decreasing the number of features\n",
        "  # nn.Linear(in_features = 84, out_features = 10) # again, just decreasing the number of features"
      ],
      "metadata": {
        "id": "6jKONwaXFKM_",
        "colab": {
          "base_uri": "https://localhost:8080/"
        },
        "outputId": "4d73a009-4f60-4867-aa08-dc53a78ad24b"
      },
      "execution_count": null,
      "outputs": [
        {
          "output_type": "stream",
          "name": "stdout",
          "text": [
            "short introduction to nn.linear\n",
            "\n",
            "  applies an affine linear transformation to the incoming data\n",
            "\n",
            "    kargs:\n",
            "      in_features: the size of each input sample\n",
            "      out_features: the size of each output sample\n",
            "  \n"
          ]
        }
      ]
    },
    {
      "cell_type": "code",
      "source": [
        "class SimpleCNN1(nn.Module):\n",
        "  def __init__(self):\n",
        "    super(SimpleCNN1, self).__init__()\n",
        "\n",
        "    # define convolutional layers\n",
        "    self.conv1 = nn.Conv2d(in_channels = 1, out_channels = 3, kernel_size = 3)\n",
        "    self.conv2 = nn.Conv2d(3, 5, 3)\n",
        "\n",
        "    # define activation function\n",
        "    self.relu = nn.ReLU()\n",
        "\n",
        "    # define pooling layer\n",
        "    self.maxpool = nn.MaxPool2d(kernel_size = 2, stride = 2)\n",
        "\n",
        "\n",
        "    # define projection (dense) layers\n",
        "    self.fc1 = nn.Linear(in_features = 5 * 5 * 5, out_features = 24)\n",
        "    self.fc2 = nn.Linear(in_features = 24, out_features = 10)\n",
        "\n",
        "\n",
        "  def forward(self, x):\n",
        "    x = self.relu(self.conv1(x))\n",
        "    x = self.maxpool(x)\n",
        "    x = self.relu(self.conv2(x))\n",
        "    x = self.maxpool(x)\n",
        "    x = x.view(x.size(0), -1) # Flatten the tensor\n",
        "    x = self.relu(self.fc1(x))\n",
        "    x = self.fc2(x)\n",
        "    return x\n",
        "\n",
        "# one without nn.Sequential"
      ],
      "metadata": {
        "id": "bE5kSiqWYKQw"
      },
      "execution_count": null,
      "outputs": []
    },
    {
      "cell_type": "code",
      "source": [
        "class SImpleCNN2(nn.Module):\n",
        "  def __init__(self):\n",
        "    super(SImpleCNN2, self).__init__()\n",
        "\n",
        "    self.embedding = nn.Embeddings()\n",
        "    self.conv1 = nn.Conv2d(in_channels = 1, out_channels = 3, kernel_size = 3)\n",
        "    self.conv2 = nn.Conv2d(3, 5, 3)\n",
        "    self.relu = nn.ReLU()\n",
        "    self.linear = nn.Linear(in_feaures, out_features)\n",
        "    self.pool = nn.MaxPool2d(kernel_size = 2, stride = 2)\n",
        "\n",
        "  def forwrad(self, inputs):\n",
        "    output = self.relu(self.conv1(self.embedding(input)))\n",
        "    output = self.pool(output)\n",
        "\n",
        "    output = self.relu(self.conv2(output))\n",
        "    output = self.pool(output)\n",
        "\n",
        "    output = self.linear(output)\n",
        "\n",
        "    return output\n",
        "\n",
        "# one with nn.Sequential"
      ],
      "metadata": {
        "id": "7C6nOT83eG_W"
      },
      "execution_count": null,
      "outputs": []
    },
    {
      "cell_type": "markdown",
      "source": [
        "execute and review"
      ],
      "metadata": {
        "id": "bApx9LsHHLtI"
      }
    },
    {
      "cell_type": "code",
      "source": [
        "# get model ready\n",
        "model = SimpleCNN1().to(device)"
      ],
      "metadata": {
        "id": "0vcOObOMJE5u"
      },
      "execution_count": null,
      "outputs": []
    },
    {
      "cell_type": "markdown",
      "source": [
        "#### Train"
      ],
      "metadata": {
        "id": "ggaFD4VPZb-T"
      }
    },
    {
      "cell_type": "markdown",
      "source": [
        "define criterion(loss function) and optimizer"
      ],
      "metadata": {
        "id": "47oxVFybZSmR"
      }
    },
    {
      "cell_type": "code",
      "source": [
        "criterion = nn.CrossEntropyLoss()\n",
        "optimizer = optim.Adam(model.parameters(), lr = learning_rate)"
      ],
      "metadata": {
        "id": "_cX1_RuYZU6u"
      },
      "execution_count": null,
      "outputs": []
    },
    {
      "cell_type": "markdown",
      "source": [
        "define train function"
      ],
      "metadata": {
        "id": "UNXS9E81jtiu"
      }
    },
    {
      "cell_type": "code",
      "source": [
        "def train(model, loader):\n",
        "  '''\n",
        "  args:\n",
        "    model: defined  model architecture\n",
        "    loader: loaded data for training\n",
        "  returns:\n",
        "    avg_loss: average loss across samples of whole feeded batch\n",
        "    accuracy: the ratio of correct predictions out of total number of predictions\n",
        "  '''\n",
        "\n",
        "  model.train()  # set model mode as train\n",
        "  total_loss = 0\n",
        "  correct = 0\n",
        "  total = 0\n",
        "\n",
        "  for x, y in loader:\n",
        "    x, y = x.to(device), y.to(device)\n",
        "    optimizer.zero_grad() # initialize weights as zero\n",
        "    output = model(x) # forward step\n",
        "    loss = criterion(output, y) # calculate loss\n",
        "    loss.backward() # back propagation\n",
        "    optimizer.step() # update parameters\n",
        "\n",
        "    total_loss += loss.item() * y.size(0) ## 이거 좀 이해 안 되는데\n",
        "    correct += (output.argmax(dim = 1) == y).sum().item() ## this too\n",
        "    total += y.size(0)\n",
        "\n",
        "\n",
        "  avg_loss = total_loss / total\n",
        "  accuracy = correct / total\n",
        "  return avg_loss, accuracy"
      ],
      "metadata": {
        "id": "ayFkLGi5ZaZ1"
      },
      "execution_count": 7,
      "outputs": []
    },
    {
      "cell_type": "markdown",
      "source": [
        "define evaluation function"
      ],
      "metadata": {
        "id": "G2i47gMwaG2a"
      }
    },
    {
      "cell_type": "code",
      "source": [
        "def evaluate(model, loader):\n",
        "  model.eval() # set model mode as validation\n",
        "  total_loss = 0\n",
        "  correct = 0\n",
        "  total = 0\n",
        "  with torch.no_grad():\n",
        "    for x, y in loader:\n",
        "      x, y = x.to(device), y.to(device)\n",
        "      output = model(x)\n",
        "      loss = criterion(output, y)\n",
        "\n",
        "      total_loss += loss.item() * y.size(0)\n",
        "      correct += (output.argmax(dim = 1) == y).sum().item()\n",
        "      total += y.size(0)\n",
        "\n",
        "  avg_loss = total_loss / total\n",
        "  accuracy = correct / total\n",
        "  return avg_loss, accuracy"
      ],
      "metadata": {
        "id": "u1rSh1ybaHkG"
      },
      "execution_count": 8,
      "outputs": []
    },
    {
      "cell_type": "markdown",
      "source": [
        "train for {epochs} times"
      ],
      "metadata": {
        "id": "CjJNxkc4a3dz"
      }
    },
    {
      "cell_type": "code",
      "source": [
        "train_losses, test_losses = [], []\n",
        "train_accuracies, test_accuracies = [], []\n",
        "\n",
        "for epoch in range(epochs):\n",
        "  train_loss, train_acc = train(model, train_loader)\n",
        "  test_loss, test_acc = evaluate(model, test_loader)\n",
        "\n",
        "  train_losses.append(train_loss)\n",
        "  train_accuracies.append(train_acc)\n",
        "  test_losses.append(test_loss)\n",
        "  test_accuracies.append(test_acc)\n",
        "\n",
        "  print(f'[Epoch {epoch + 1}]'\n",
        "        f'Train Loss: {train_loss:.4f}, Train Acc: {train_acc:.4f} | '\n",
        "        f'Test Loss: {test_loss:.4f}, Test Acc: {test_acc:.4f}')"
      ],
      "metadata": {
        "colab": {
          "base_uri": "https://localhost:8080/"
        },
        "id": "E8W4Mr9DalSD",
        "outputId": "359d430f-0cd9-4bc6-c38b-a7c041df51ab"
      },
      "execution_count": null,
      "outputs": [
        {
          "output_type": "stream",
          "name": "stdout",
          "text": [
            "[Epoch 1]Train Loss: 0.4429, Train Acc: 0.8633 | Test Loss: 0.1574, Test Acc: 0.9534\n",
            "[Epoch 2]Train Loss: 0.1441, Train Acc: 0.9557 | Test Loss: 0.1148, Test Acc: 0.9664\n",
            "[Epoch 3]Train Loss: 0.1134, Train Acc: 0.9647 | Test Loss: 0.0915, Test Acc: 0.9712\n",
            "[Epoch 4]Train Loss: 0.0979, Train Acc: 0.9693 | Test Loss: 0.0875, Test Acc: 0.9725\n",
            "[Epoch 5]Train Loss: 0.0887, Train Acc: 0.9725 | Test Loss: 0.0806, Test Acc: 0.9741\n",
            "[Epoch 6]Train Loss: 0.0801, Train Acc: 0.9752 | Test Loss: 0.0805, Test Acc: 0.9715\n",
            "[Epoch 7]Train Loss: 0.0751, Train Acc: 0.9759 | Test Loss: 0.0728, Test Acc: 0.9781\n",
            "[Epoch 8]Train Loss: 0.0706, Train Acc: 0.9781 | Test Loss: 0.0723, Test Acc: 0.9764\n",
            "[Epoch 9]Train Loss: 0.0663, Train Acc: 0.9789 | Test Loss: 0.0753, Test Acc: 0.9759\n",
            "[Epoch 10]Train Loss: 0.0634, Train Acc: 0.9801 | Test Loss: 0.0680, Test Acc: 0.9779\n",
            "[Epoch 11]Train Loss: 0.0612, Train Acc: 0.9806 | Test Loss: 0.0739, Test Acc: 0.9766\n",
            "[Epoch 12]Train Loss: 0.0587, Train Acc: 0.9814 | Test Loss: 0.0710, Test Acc: 0.9774\n",
            "[Epoch 13]Train Loss: 0.0560, Train Acc: 0.9821 | Test Loss: 0.0633, Test Acc: 0.9800\n",
            "[Epoch 14]Train Loss: 0.0547, Train Acc: 0.9829 | Test Loss: 0.0630, Test Acc: 0.9803\n",
            "[Epoch 15]Train Loss: 0.0529, Train Acc: 0.9830 | Test Loss: 0.0646, Test Acc: 0.9782\n",
            "[Epoch 16]Train Loss: 0.0525, Train Acc: 0.9837 | Test Loss: 0.0636, Test Acc: 0.9806\n",
            "[Epoch 17]Train Loss: 0.0502, Train Acc: 0.9842 | Test Loss: 0.0708, Test Acc: 0.9771\n",
            "[Epoch 18]Train Loss: 0.0496, Train Acc: 0.9843 | Test Loss: 0.0644, Test Acc: 0.9784\n",
            "[Epoch 19]Train Loss: 0.0484, Train Acc: 0.9844 | Test Loss: 0.0666, Test Acc: 0.9780\n",
            "[Epoch 20]Train Loss: 0.0473, Train Acc: 0.9851 | Test Loss: 0.0673, Test Acc: 0.9774\n"
          ]
        }
      ]
    },
    {
      "cell_type": "markdown",
      "source": [
        "#### Visualization\n",
        "plot the learning curves"
      ],
      "metadata": {
        "id": "WaF4eFWfbgnB"
      }
    },
    {
      "cell_type": "code",
      "source": [
        "x_epochs = range(1, epochs + 1)\n",
        "plt.figure(figsize = (12, 5))\n",
        "\n",
        "# Loss graph\n",
        "plt.subplot(1, 2, 1)\n",
        "plt.plot(x_epochs, train_losses, label = 'Train Loss', marker = 'o')\n",
        "plt.plot(x_epochs, test_losses, label = 'Test Loss', marker = 'o')\n",
        "plt.xlabel('Epoch')\n",
        "plt.ylabel('Loss')\n",
        "plt.title('Loss over Epochs')\n",
        "plt.legend()\n",
        "\n",
        "\n",
        "# Accuracy graph\n",
        "plt.subplot(1, 2, 2)\n",
        "plt.plot(x_epochs, train_accuracies, label = 'Train Accracy', marker = 'o')\n",
        "plt.plot(x_epochs, test_accuracies, label = 'Test Accuracy', marker = 'o')\n",
        "plt.xlabel('Epoch')\n",
        "plt.ylabel('Accuracy')\n",
        "plt.legend()\n"
      ],
      "metadata": {
        "id": "o4gsu4ysbcUE",
        "colab": {
          "base_uri": "https://localhost:8080/",
          "height": 505
        },
        "outputId": "10cb63f8-6f34-4b7c-8538-d3a3f981c1b8"
      },
      "execution_count": null,
      "outputs": [
        {
          "output_type": "execute_result",
          "data": {
            "text/plain": [
              "<matplotlib.legend.Legend at 0x7fd5b44c3810>"
            ]
          },
          "metadata": {},
          "execution_count": 55
        },
        {
          "output_type": "display_data",
          "data": {
            "text/plain": [
              "<Figure size 1200x500 with 2 Axes>"
            ],
            "image/png": "[encoded data removed]"
          },
          "metadata": {}
        }
      ]
    },
    {
      "cell_type": "markdown",
      "source": [
        "#### Predict\n",
        "define prediction function"
      ],
      "metadata": {
        "id": "OvjAWFryhSnL"
      }
    },
    {
      "cell_type": "code",
      "source": [
        "def show_random_predictions(model, dataset, num_images = 5):\n",
        "  '''\n",
        "  args:\n",
        "    model:\n",
        "    dataset:\n",
        "    num_images:\n",
        "  returns:\n",
        "    No return, just float image and predictions\n",
        "  '''\n",
        "\n",
        "  idxs = random.sample(range(len(dataset)), num_images)\n",
        "  images = torch.stack([dataset[i][0] for i in idxs])\n",
        "  labels = torch.stack([dataset[i][1] for i in idxs])\n",
        "\n",
        "  images = images.to(device)\n",
        "  outputs = model(images)\n",
        "  preds = outputs.argmax(dim = 1)\n",
        "\n",
        "  plt.figure(figsize = (12, 3))\n",
        "  for i in range(num_images):\n",
        "    plt.subplot(1, num_images, i + 1)\n",
        "    plt.imshow(images[i].cpu().squeeze(), cmap = 'gray')\n",
        "    plt.title(f'GT: {labels[i].item()}\\nPred:  {preds[i].item()}')\n",
        "    plt.axis('off')\n",
        "  plt.tight_layout()\n",
        "  plt.show()\n"
      ],
      "metadata": {
        "id": "v8zcJBUZhXWm"
      },
      "execution_count": null,
      "outputs": []
    },
    {
      "cell_type": "markdown",
      "source": [
        "#### Define Residual Network"
      ],
      "metadata": {
        "id": "45iIDK7FkHOq"
      }
    },
    {
      "cell_type": "markdown",
      "source": [
        "define residual block"
      ],
      "metadata": {
        "id": "iuT-HzwrkwK6"
      }
    },
    {
      "cell_type": "code",
      "source": [
        "class ResidualBlock(nn.Module):\n",
        "  def __init__(self, in_channels, out_channels):\n",
        "    super(ResidualBlock, self).__init__()\n",
        "\n",
        "    self.conv1 = nn.Conv2d(in_channels, out_channels, kernel_size = 3, padding = 1)\n",
        "    self.conv2 = nn.Conv2d(out_channels, out_channels, kernel_size = 3, padding = 1)\n",
        "    self.relu = nn.ReLU()\n",
        "    self.norm = nn.BatchNorm2d(out_channels)\n",
        "\n",
        "\n",
        "    if in_channels != out_channels:\n",
        "      self.shortcut = nn.Sequential(\n",
        "          nn.Conv2d(in_channels, out_channels,\n",
        "                    kernel_size = 1, stride = 1, ),\n",
        "          nn.BatchNorm2d(out_channels))\n",
        "    else:\n",
        "      self.shortcut = nn.Identity()\n",
        "\n",
        "  def forward(self, x):\n",
        "    identity = self.shortcut(x)\n",
        "    out = self.relu(self.norm(self.conv1(x)))\n",
        "    out = self.norm(self.conv2(out))\n",
        "    out += identity\n",
        "\n",
        "    return self.relu(out)"
      ],
      "metadata": {
        "id": "rf7Jkfsqib1Z"
      },
      "execution_count": 71,
      "outputs": []
    },
    {
      "cell_type": "markdown",
      "source": [
        "define residual network"
      ],
      "metadata": {
        "id": "nZG5ZyjXkxiS"
      }
    },
    {
      "cell_type": "code",
      "source": [
        "class ResNetLike(nn.Module):\n",
        "  def __init__(self):\n",
        "    super(ResNetLike, self).__init__()\n",
        "    self.stem = nn.Sequential(\n",
        "        nn.Conv2d(in_channels = 1, out_channels = 16, kernel_size = 3,\n",
        "                  stride = 1, padding = 1),\n",
        "        nn.BatchNorm2d(16),\n",
        "        nn.ReLU(),\n",
        "        nn.MaxPool2d(kernel_size = 2),\n",
        "    )\n",
        "\n",
        "    self.layer1 = ResidualBlock(in_channels = 16, out_channels = 16) # freeze initial layers\n",
        "    self.layer2 = ResidualBlock(in_channels = 16, out_channels = 16) # freeze initial layers\n",
        "    self.layer3 = ResidualBlock(in_channels = 16, out_channels = 16) # freeze initial lzers\n",
        "    self.layer4 = ResidualBlock(in_channels = 16, out_channels = 32)\n",
        "    self.layer5 = ResidualBlock(in_channels = 32, out_channels = 64)\n",
        "\n",
        "    self.avgpool = nn.AdaptiveAvgPool2d((1, 1))\n",
        "    self.dropout = nn.Dropout(p = 0.2) # prevent overfitting\n",
        "    self.fc = nn.Linear(in_features = 64, out_features = 10) # dense layer\n",
        "\n",
        "  def forward(self, x):\n",
        "    out = self.stem(x)\n",
        "    out = self.layer3(self.layer2(self.layer1(out)))\n",
        "    out = self.layer4(out)\n",
        "    out = self.layer5(out)\n",
        "    out = self.avgpool(out)\n",
        "    out = self.dropout(torch.flatten(out, 1))\n",
        "    return self.fc(out)"
      ],
      "metadata": {
        "id": "9eL92P2Ekyg5"
      },
      "execution_count": 77,
      "outputs": []
    },
    {
      "cell_type": "markdown",
      "source": [
        "get model ready"
      ],
      "metadata": {
        "id": "paQ9qiodmah3"
      }
    },
    {
      "cell_type": "code",
      "source": [
        "model = ResNetLike().to(device)"
      ],
      "metadata": {
        "id": "4n_QkrPkmZh-"
      },
      "execution_count": 78,
      "outputs": []
    },
    {
      "cell_type": "markdown",
      "source": [
        "define criterion(loss function) and optimizer"
      ],
      "metadata": {
        "id": "K53bHK1UmdOB"
      }
    },
    {
      "cell_type": "code",
      "source": [
        "criterion = nn.CrossEntropyLoss()\n",
        "optimizer = optim.Adam(model.parameters(), lr = learning_rate)"
      ],
      "metadata": {
        "id": "8dAHabQlmepX"
      },
      "execution_count": 79,
      "outputs": []
    },
    {
      "cell_type": "markdown",
      "source": [
        "set settings"
      ],
      "metadata": {
        "id": "AtWZxu5fUQoT"
      }
    },
    {
      "cell_type": "code",
      "source": [
        "batch_size = 32\n",
        "epochs = 10\n",
        "learning_rate = 1e-3\n",
        "device = torch.device('cuda' if torch.cuda.is_available() else 'cpu')"
      ],
      "metadata": {
        "id": "GeWzIxnfURnz"
      },
      "execution_count": 80,
      "outputs": []
    },
    {
      "cell_type": "markdown",
      "source": [
        "execute and review"
      ],
      "metadata": {
        "id": "kaQawi33miq_"
      }
    },
    {
      "cell_type": "code",
      "source": [
        "epochs = 10\n",
        "\n",
        "train_losses, test_losses = [], []\n",
        "train_accuracies, test_accuracies = [], []\n",
        "\n",
        "for epoch in range(epochs):\n",
        "  train_loss, train_acc = train(model, train_loader)\n",
        "  test_loss, test_acc = evaluate(model, test_loader)\n",
        "\n",
        "  train_losses.append(train_loss)\n",
        "  train_accuracies.append(train_acc)\n",
        "  test_losses.append(test_loss)\n",
        "  test_accuracies.append(test_acc)\n",
        "\n",
        "  print(f'[Epoch {epoch + 1}]'\n",
        "        f'Train Loss: {train_loss:.4f}, Train Acc: {train_acc:.4f}  | '\n",
        "        f'Test Loss: {test_loss:.4f}, Test Acc: {test_acc:.4f}')"
      ],
      "metadata": {
        "id": "PFkdDvLxmjEV",
        "colab": {
          "base_uri": "https://localhost:8080/"
        },
        "outputId": "af74bf4d-4ea2-46be-adca-a7839d3fb971"
      },
      "execution_count": 81,
      "outputs": [
        {
          "output_type": "stream",
          "name": "stdout",
          "text": [
            "[Epoch 1]Train Loss: 0.2015, Train Acc: 0.9473  | Test Loss: 2.5527, Test Acc: 0.2468\n",
            "[Epoch 2]Train Loss: 0.0696, Train Acc: 0.9788  | Test Loss: 1.6246, Test Acc: 0.5496\n",
            "[Epoch 3]Train Loss: 0.0537, Train Acc: 0.9842  | Test Loss: 1.7862, Test Acc: 0.3901\n",
            "[Epoch 4]Train Loss: 0.0458, Train Acc: 0.9862  | Test Loss: 2.0751, Test Acc: 0.4507\n",
            "[Epoch 5]Train Loss: 0.0387, Train Acc: 0.9887  | Test Loss: 1.8559, Test Acc: 0.4108\n",
            "[Epoch 6]Train Loss: 0.0363, Train Acc: 0.9890  | Test Loss: 0.9203, Test Acc: 0.6566\n",
            "[Epoch 7]Train Loss: 0.0326, Train Acc: 0.9902  | Test Loss: 1.6184, Test Acc: 0.4980\n",
            "[Epoch 8]Train Loss: 0.0279, Train Acc: 0.9914  | Test Loss: 1.3382, Test Acc: 0.5609\n",
            "[Epoch 9]Train Loss: 0.0257, Train Acc: 0.9924  | Test Loss: 1.6459, Test Acc: 0.6682\n",
            "[Epoch 10]Train Loss: 0.0260, Train Acc: 0.9921  | Test Loss: 0.7184, Test Acc: 0.7536\n"
          ]
        }
      ]
    },
    {
      "cell_type": "markdown",
      "source": [
        "visualize"
      ],
      "metadata": {
        "id": "VQUDPDbNm9gJ"
      }
    },
    {
      "cell_type": "code",
      "source": [
        "epochs = range(1, epochs + 1)\n",
        "\n",
        "plt.figure(figsize = (12, 5))\n",
        "\n",
        "# loss graph\n",
        "plt.subplot(1, 2, 1)\n",
        "plt.plot(epochs, train_losses, label = 'Train Loss', marker = 'o')\n",
        "plt.plot(epochs, test_losses, label = 'Test Loss', marker = 'o')\n",
        "plt.xlabel('Epoch')\n",
        "plt.ylabel('Loss')\n",
        "plt.title('Loss over Epochs')\n",
        "plt.legend()\n",
        "\n",
        "# Accuracy graph\n",
        "plt.subplot(1, 2, 2)\n",
        "plt.plot(epochs, train_accuracies, label = 'Train Accuracy', marker = 'o')\n",
        "plt.plot(epochs, test_accuracies, label = 'Test Accuracy', marker = 'o')\n",
        "plt.xlabel('Epoch')\n",
        "plt.ylabel('Accuracy')\n",
        "plt.title('Accuracy over Epochs')\n",
        "plt.legend()\n",
        "\n",
        "plt.tight_layout()\n",
        "plt.show()"
      ],
      "metadata": {
        "id": "7vz0LZrem93o",
        "colab": {
          "base_uri": "https://localhost:8080/",
          "height": 283
        },
        "outputId": "ef5a6b2b-50f4-4e2c-c28a-7fc33aad13d6"
      },
      "execution_count": 82,
      "outputs": [
        {
          "output_type": "display_data",
          "data": {
            "text/plain": [
              "<Figure size 1200x500 with 2 Axes>"
            ],
            "image/png": "[encoded data removed]"
          },
          "metadata": {}
        }
      ]
    },
    {
      "cell_type": "code",
      "source": [
        "# review\n",
        "\n",
        "# learning process\n",
        "  # a bit surprising, overall learning was rather slow imo\n",
        "  # learning itself seem a bit unstable\n",
        "\n",
        "# result\n",
        "  # far lower accuracy of test compared to that of training\n",
        "  # may indicate overfitting\n",
        "\n",
        "# next step\n",
        "  # may well reorganize Residual block and ReNnetlike module\n",
        "  # in the future possibly hyper-paratmeter tuning"
      ],
      "metadata": {
        "id": "ndhh6b3Lf6QO"
      },
      "execution_count": 85,
      "outputs": []
    },
    {
      "cell_type": "markdown",
      "source": [
        "#### Predict"
      ],
      "metadata": {
        "id": "ikVrLUudCCb2"
      }
    },
    {
      "cell_type": "markdown",
      "source": [
        "define prediction fuction"
      ],
      "metadata": {
        "id": "dWrOnYDfCE_A"
      }
    },
    {
      "cell_type": "code",
      "source": [
        "def show_random_predictions(model, dataset, num_images = 5):\n",
        "  '''\n",
        "  args:\n",
        "    model:\n",
        "    dataset:\n",
        "    num_images:\n",
        "  return:\n",
        "\n",
        "  '''\n",
        "  # set model mode as evaluation\n",
        "  model.eval()\n",
        "\n",
        "  idxs = random.sample(range(len(dataset)), num_images)\n",
        "  images = torch.stack([dataset[i][0] for i in idxs])\n",
        "  labels = torch.stack([torch.tensor(dataset[i][1]) for i in idxs]) # Convert labels to tensors before stacking\n",
        "\n",
        "  images = images.to(device)\n",
        "  outputs = model(images)\n",
        "  preds = outputs.argmax(dim = 1)\n",
        "\n",
        "  plt.figure(figsize = (12, 3))\n",
        "  for i in range(num_images):\n",
        "    plt.subplot(1, num_images, i + 1)\n",
        "    plt.imshow(images[i].cpu().squeeze(), cmap = 'gray')\n",
        "    plt.title(f\"GT: {labels[i].item()}\\nPred: {preds[i].item()}\")\n",
        "    plt.axis('off')\n",
        "\n",
        "  plt.tight_layout()\n",
        "  plt.show()"
      ],
      "metadata": {
        "id": "ilpdzWw-PcOu"
      },
      "execution_count": 86,
      "outputs": []
    },
    {
      "cell_type": "markdown",
      "source": [
        "execute and review"
      ],
      "metadata": {
        "id": "E0eRp6QBCuUq"
      }
    },
    {
      "cell_type": "code",
      "source": [
        "show_random_predictions(model, test_dataset, num_images = 5)"
      ],
      "metadata": {
        "id": "vecX8W6TCu-8",
        "colab": {
          "base_uri": "https://localhost:8080/",
          "height": 172
        },
        "outputId": "eb194390-58a1-43e0-cca2-ff46b8da98ba"
      },
      "execution_count": 87,
      "outputs": [
        {
          "output_type": "display_data",
          "data": {
            "text/plain": [
              "<Figure size 1200x300 with 5 Axes>"
            ],
            "image/png": "[encoded data removed]"
          },
          "metadata": {}
        }
      ]
    },
    {
      "cell_type": "markdown",
      "source": [
        "**Redefine** residual block"
      ],
      "metadata": {
        "id": "AGzc4kydgmr5"
      }
    },
    {
      "cell_type": "code",
      "source": [
        "class ResidualBlock(nn.Module):\n",
        "  def __init__(self, in_channels, out_channels, stride = 1):\n",
        "    super(ResidualBlock, self).__init__()\n",
        "\n",
        "    self.conv1 = nn.Conv2d(in_channels, out_channels,\n",
        "                           kernel_size = 3, padding = 1, stride = stride, bias = False)\n",
        "    self.conv2 = nn.Conv2d(out_channels, out_channels,\n",
        "                           kernel_size = 3, padding = 1, stride = 1, bias = False)\n",
        "    self.relu = nn.ReLU()\n",
        "    self.norm = nn.BatchNorm2d(out_channels)\n",
        "\n",
        "\n",
        "    if stride != 1 or in_channels != out_channels:\n",
        "      self.shortcut = nn.Sequential(\n",
        "          nn.Conv2d(in_channels, out_channels,\n",
        "                    kernel_size = 1, stride = stride, bias = False),\n",
        "          nn.BatchNorm2d(out_channels))\n",
        "    else:\n",
        "      self.shortcut = nn.Identity()\n",
        "\n",
        "  def forward(self, x):\n",
        "    identity = self.shortcut(x)\n",
        "    out = self.relu(self.norm(self.conv1(x)))\n",
        "    out = self.norm(self.conv2(out))\n",
        "    out += identity\n",
        "\n",
        "    return self.relu(out)"
      ],
      "metadata": {
        "id": "Ogvaegz4gmr6"
      },
      "execution_count": 89,
      "outputs": []
    },
    {
      "cell_type": "markdown",
      "source": [
        "**Redefine** residual network"
      ],
      "metadata": {
        "id": "ORzb5w8Kgmr6"
      }
    },
    {
      "cell_type": "code",
      "source": [
        "class ResNetLike(nn.Module):\n",
        "  def __init__(self):\n",
        "    super(ResNetLike, self).__init__()\n",
        "    self.stem = nn.Sequential(\n",
        "        nn.Conv2d(in_channels = 1, out_channels = 16, kernel_size = 7, # following the paper\n",
        "                  stride = 1, padding = 1),\n",
        "        nn.BatchNorm2d(16),\n",
        "        nn.ReLU(),\n",
        "        nn.MaxPool2d(kernel_size = 2),\n",
        "    )\n",
        "\n",
        "    self.layer1 = ResidualBlock(in_channels = 16, out_channels = 16)\n",
        "    self.layer2 = ResidualBlock(16, 16)\n",
        "    self.layer3 = ResidualBlock(16, 16)\n",
        "    self.layer4 = ResidualBlock(16, 32)\n",
        "    self.layer5 = ResidualBlock(32, 32)\n",
        "    self.layer6 = ResidualBlock(32, 64)\n",
        "    self.layer7 = ResidualBlock(64, 64)\n",
        "    self.avgpool = nn.AdaptiveAvgPool2d((1, 1))\n",
        "    self.dropout = nn.Dropout(p = 0.2) # prevent overfitting\n",
        "    self.fc = nn.Linear(in_features = 64, out_features = 10) # dense layer\n",
        "\n",
        "  def forward(self, x):\n",
        "    out = self.stem(x)\n",
        "    out = self.layer3(self.layer2(self.layer1(out)))\n",
        "    out = self.layer5(self.layer4(out))\n",
        "    out = self.layer7(self.layer6(out))\n",
        "    out = self.avgpool(out)\n",
        "    out = self.dropout(torch.flatten(out, 1))\n",
        "    return self.fc(out)"
      ],
      "metadata": {
        "id": "eg4dXRxzgmr6"
      },
      "execution_count": 95,
      "outputs": []
    },
    {
      "cell_type": "markdown",
      "source": [
        "get model ready"
      ],
      "metadata": {
        "id": "Eb2ciKVpgmr6"
      }
    },
    {
      "cell_type": "code",
      "source": [
        "model = ResNetLike().to(device)"
      ],
      "metadata": {
        "id": "Ymq7wcpNgmr6"
      },
      "execution_count": 96,
      "outputs": []
    },
    {
      "cell_type": "markdown",
      "source": [
        "define criterion(loss function) and optimizer"
      ],
      "metadata": {
        "id": "Q_JRAxPTgmr7"
      }
    },
    {
      "cell_type": "code",
      "source": [
        "criterion = nn.CrossEntropyLoss()\n",
        "optimizer = optim.Adam(model.parameters(), lr = learning_rate)"
      ],
      "metadata": {
        "id": "BMrT5prMgmr7"
      },
      "execution_count": 97,
      "outputs": []
    },
    {
      "cell_type": "markdown",
      "source": [
        "set settings"
      ],
      "metadata": {
        "id": "nD1srW-Zgmr7"
      }
    },
    {
      "cell_type": "code",
      "source": [
        "batch_size = 32\n",
        "epochs = 10\n",
        "learning_rate = 1e-3\n",
        "device = torch.device('cuda' if torch.cuda.is_available() else 'cpu')"
      ],
      "metadata": {
        "id": "twmQDz0egmr7"
      },
      "execution_count": 98,
      "outputs": []
    },
    {
      "cell_type": "markdown",
      "source": [
        "execute and review"
      ],
      "metadata": {
        "id": "G8zyu33Lgmr7"
      }
    },
    {
      "cell_type": "code",
      "source": [
        "epochs = 10\n",
        "\n",
        "train_losses, test_losses = [], []\n",
        "train_accuracies, test_accuracies = [], []\n",
        "\n",
        "for epoch in range(epochs):\n",
        "  train_loss, train_acc = train(model, train_loader)\n",
        "  test_loss, test_acc = evaluate(model, test_loader)\n",
        "\n",
        "  train_losses.append(train_loss)\n",
        "  train_accuracies.append(train_acc)\n",
        "  test_losses.append(test_loss)\n",
        "  test_accuracies.append(test_acc)\n",
        "\n",
        "  print(f'[Epoch {epoch + 1}]'\n",
        "        f'Train Loss: {train_loss:.4f}, Train Acc: {train_acc:.4f}  | '\n",
        "        f'Test Loss: {test_loss:.4f}, Test Acc: {test_acc:.4f}')"
      ],
      "metadata": {
        "colab": {
          "base_uri": "https://localhost:8080/"
        },
        "outputId": "f96728eb-019f-4136-d551-3e959d00c961",
        "id": "_WtS1f0Ggmr7"
      },
      "execution_count": 99,
      "outputs": [
        {
          "output_type": "stream",
          "name": "stdout",
          "text": [
            "[Epoch 1]Train Loss: 0.1607, Train Acc: 0.9556  | Test Loss: 3.2850, Test Acc: 0.3824\n",
            "[Epoch 2]Train Loss: 0.0639, Train Acc: 0.9812  | Test Loss: 2.3181, Test Acc: 0.4243\n",
            "[Epoch 3]Train Loss: 0.0525, Train Acc: 0.9847  | Test Loss: 2.5745, Test Acc: 0.4664\n",
            "[Epoch 4]Train Loss: 0.0436, Train Acc: 0.9869  | Test Loss: 1.9683, Test Acc: 0.5159\n",
            "[Epoch 5]Train Loss: 0.0373, Train Acc: 0.9889  | Test Loss: 2.5035, Test Acc: 0.3689\n",
            "[Epoch 6]Train Loss: 0.0334, Train Acc: 0.9901  | Test Loss: 1.5744, Test Acc: 0.5074\n",
            "[Epoch 7]Train Loss: 0.0278, Train Acc: 0.9918  | Test Loss: 3.3570, Test Acc: 0.1781\n",
            "[Epoch 8]Train Loss: 0.0275, Train Acc: 0.9919  | Test Loss: 2.4258, Test Acc: 0.3966\n",
            "[Epoch 9]Train Loss: 0.0248, Train Acc: 0.9922  | Test Loss: 2.0349, Test Acc: 0.3865\n",
            "[Epoch 10]Train Loss: 0.0229, Train Acc: 0.9933  | Test Loss: 3.6844, Test Acc: 0.2983\n"
          ]
        }
      ]
    },
    {
      "cell_type": "code",
      "source": [
        "# review\n",
        "# wow it's even more deteriorating ;;"
      ],
      "metadata": {
        "id": "IStgSgEAgzJO"
      },
      "execution_count": 88,
      "outputs": []
    }
  ]
}