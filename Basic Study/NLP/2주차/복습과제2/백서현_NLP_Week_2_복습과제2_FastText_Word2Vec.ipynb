{
  "cells": [
    {
      "cell_type": "code",
      "execution_count": null,
      "metadata": {
        "id": "wFGqc9yOuKEi"
      },
      "outputs": [],
      "source": [
        "# Colab에 Mecab 설치\n",
        "#!git clone https://github.com/SOMJANG/Mecab-ko-for-Google-Colab.git\n",
        "#%cd Mecab-ko-for-Google-Colab\n",
        "#!bash install_mecab-ko_on_colab190912.sh"
      ]
    },
    {
      "cell_type": "code",
      "execution_count": null,
      "metadata": {
        "id": "GbP19ZYGpU59",
        "colab": {
          "base_uri": "https://localhost:8080/"
        },
        "outputId": "8b039847-d8cd-44f9-da24-d28510598efd"
      },
      "outputs": [
        {
          "output_type": "stream",
          "name": "stdout",
          "text": [
            "Requirement already satisfied: konlpy in /usr/local/lib/python3.11/dist-packages (0.6.0)\n",
            "Requirement already satisfied: JPype1>=0.7.0 in /usr/local/lib/python3.11/dist-packages (from konlpy) (1.6.0)\n",
            "Requirement already satisfied: lxml>=4.1.0 in /usr/local/lib/python3.11/dist-packages (from konlpy) (5.4.0)\n",
            "Requirement already satisfied: numpy>=1.6 in /usr/local/lib/python3.11/dist-packages (from konlpy) (2.0.2)\n",
            "Requirement already satisfied: packaging in /usr/local/lib/python3.11/dist-packages (from JPype1>=0.7.0->konlpy) (25.0)\n",
            "Requirement already satisfied: mecab-python in /usr/local/lib/python3.11/dist-packages (1.0.0)\n",
            "Requirement already satisfied: mecab-python3 in /usr/local/lib/python3.11/dist-packages (from mecab-python) (1.0.10)\n",
            "mecab-ko is already installed\n",
            "mecab-ko-dic is already installed\n",
            "mecab-python is already installed\n",
            "Done.\n"
          ]
        }
      ],
      "source": [
        "# 위의 코드가 작동하지 않을 때 대안 코드 1 실행\n",
        "!pip install konlpy\n",
        "!pip install mecab-python\n",
        "!bash <(curl -s https://raw.githubusercontent.com/konlpy/konlpy/master/scripts/mecab.sh)"
      ]
    },
    {
      "cell_type": "code",
      "execution_count": null,
      "metadata": {
        "id": "dB_bh1mUue11"
      },
      "outputs": [],
      "source": [
        "from konlpy.tag import Mecab\n",
        "mecab = Mecab()\n",
        "#NameError: name 'Tagger' is not defined 오류 발생 시 런타임을 재실행 해주세요."
      ]
    },
    {
      "cell_type": "code",
      "execution_count": null,
      "metadata": {
        "id": "ev1dx8jzvoIq",
        "colab": {
          "base_uri": "https://localhost:8080/"
        },
        "outputId": "a2534082-8fe1-46e9-840e-0bdab6671eff"
      },
      "outputs": [
        {
          "output_type": "stream",
          "name": "stdout",
          "text": [
            "Requirement already satisfied: hgtk in /usr/local/lib/python3.11/dist-packages (0.2.1)\n",
            "Traceback (most recent call last):\n",
            "  File \"/usr/local/lib/python3.11/dist-packages/pip/_internal/cli/base_command.py\", line 179, in exc_logging_wrapper\n",
            "    status = run_func(*args)\n",
            "             ^^^^^^^^^^^^^^^\n",
            "  File \"/usr/local/lib/python3.11/dist-packages/pip/_internal/cli/req_command.py\", line 67, in wrapper\n",
            "    return func(self, options, args)\n",
            "           ^^^^^^^^^^^^^^^^^^^^^^^^^\n",
            "  File \"/usr/local/lib/python3.11/dist-packages/pip/_internal/commands/install.py\", line 447, in run\n",
            "    conflicts = self._determine_conflicts(to_install)\n",
            "                ^^^^^^^^^^^^^^^^^^^^^^^^^^^^^^^^^^^^^\n",
            "  File \"/usr/local/lib/python3.11/dist-packages/pip/_internal/commands/install.py\", line 578, in _determine_conflicts\n",
            "    return check_install_conflicts(to_install)\n",
            "           ^^^^^^^^^^^^^^^^^^^^^^^^^^^^^^^^^^^\n",
            "  File \"/usr/local/lib/python3.11/dist-packages/pip/_internal/operations/check.py\", line 101, in check_install_conflicts\n",
            "    package_set, _ = create_package_set_from_installed()\n",
            "                     ^^^^^^^^^^^^^^^^^^^^^^^^^^^^^^^^^^^\n",
            "  File \"/usr/local/lib/python3.11/dist-packages/pip/_internal/operations/check.py\", line 39, in create_package_set_from_installed\n",
            "    for dist in env.iter_installed_distributions(local_only=False, skip=()):\n",
            "  File \"/usr/local/lib/python3.11/dist-packages/pip/_internal/metadata/base.py\", line 664, in <genexpr>\n",
            "    return (d for d in it if d.canonical_name not in skip)\n",
            "           ^^^^^^^^^^^^^^^^^^^^^^^^^^^^^^^^^^^^^^^^^^^^^^^\n",
            "  File \"/usr/local/lib/python3.11/dist-packages/pip/_internal/metadata/base.py\", line 612, in iter_all_distributions\n",
            "    for dist in self._iter_distributions():\n",
            "  File \"/usr/local/lib/python3.11/dist-packages/pip/_internal/metadata/importlib/_envs.py\", line 176, in _iter_distributions\n",
            "    yield from finder.find(location)\n",
            "  File \"/usr/local/lib/python3.11/dist-packages/pip/_internal/metadata/importlib/_envs.py\", line 79, in find\n",
            "    for dist, info_location in self._find_impl(location):\n",
            "  File \"/usr/local/lib/python3.11/dist-packages/pip/_internal/metadata/importlib/_envs.py\", line 64, in _find_impl\n",
            "    raw_name = get_dist_name(dist)\n",
            "               ^^^^^^^^^^^^^^^^^^^\n",
            "  File \"/usr/local/lib/python3.11/dist-packages/pip/_internal/metadata/importlib/_compat.py\", line 52, in get_dist_name\n",
            "    name = cast(Any, dist).name\n",
            "           ^^^^^^^^^^^^^^^^^^^^\n",
            "  File \"/usr/lib/python3.11/importlib/metadata/__init__.py\", line 622, in name\n",
            "    return self.metadata['Name']\n",
            "           ^^^^^^^^^^^^^\n",
            "  File \"/usr/lib/python3.11/importlib/metadata/__init__.py\", line 617, in metadata\n",
            "    return _adapters.Message(email.message_from_string(text))\n",
            "                             ^^^^^^^^^^^^^^^^^^^^^^^^^^^^^^^\n",
            "  File \"/usr/lib/python3.11/email/__init__.py\", line 37, in message_from_string\n",
            "    return Parser(*args, **kws).parsestr(s)\n",
            "           ^^^^^^^^^^^^^^^^^^^^^^^^^^^^^^^^\n",
            "  File \"/usr/lib/python3.11/email/parser.py\", line 67, in parsestr\n",
            "    return self.parse(StringIO(text), headersonly=headersonly)\n",
            "           ^^^^^^^^^^^^^^^^^^^^^^^^^^^^^^^^^^^^^^^^^^^^^^^^^^^\n",
            "  File \"/usr/lib/python3.11/email/parser.py\", line 56, in parse\n",
            "    feedparser.feed(data)\n",
            "  File \"/usr/lib/python3.11/email/feedparser.py\", line 174, in feed\n",
            "    self._call_parse()\n",
            "  File \"/usr/lib/python3.11/email/feedparser.py\", line 178, in _call_parse\n",
            "    self._parse()\n",
            "  File \"/usr/lib/python3.11/email/feedparser.py\", line 466, in _parsegen\n",
            "    lines.append(line)\n",
            "KeyboardInterrupt\n",
            "\n",
            "During handling of the above exception, another exception occurred:\n",
            "\n",
            "Traceback (most recent call last):\n",
            "  File \"/usr/local/bin/pip3\", line 10, in <module>\n",
            "    sys.exit(main())\n",
            "             ^^^^^^\n",
            "  File \"/usr/local/lib/python3.11/dist-packages/pip/_internal/cli/main.py\", line 80, in main\n",
            "    return command.main(cmd_args)\n",
            "           ^^^^^^^^^^^^^^^^^^^^^^\n",
            "  File \"/usr/local/lib/python3.11/dist-packages/pip/_internal/cli/base_command.py\", line 100, in main\n",
            "    return self._main(args)\n",
            "           ^^^^^^^^^^^^^^^^\n",
            "  File \"/usr/local/lib/python3.11/dist-packages/pip/_internal/cli/base_command.py\", line 232, in _main\n",
            "    return run(options, args)\n",
            "           ^^^^^^^^^^^^^^^^^^\n",
            "  File \"/usr/local/lib/python3.11/dist-packages/pip/_internal/cli/base_command.py\", line 215, in exc_logging_wrapper\n",
            "    logger.critical(\"Operation cancelled by user\")\n",
            "  File \"/usr/lib/python3.11/logging/__init__.py\", line 1536, in critical\n",
            "    self._log(CRITICAL, msg, args, **kwargs)\n",
            "  File \"/usr/lib/python3.11/logging/__init__.py\", line 1634, in _log\n",
            "    self.handle(record)\n",
            "  File \"/usr/lib/python3.11/logging/__init__.py\", line 1644, in handle\n",
            "    self.callHandlers(record)\n",
            "  File \"/usr/lib/python3.11/logging/__init__.py\", line 1706, in callHandlers\n",
            "    hdlr.handle(record)\n",
            "  File \"/usr/lib/python3.11/logging/__init__.py\", line 978, in handle\n",
            "    self.emit(record)\n",
            "  File \"/usr/local/lib/python3.11/dist-packages/pip/_internal/utils/logging.py\", line 177, in emit\n",
            "    self.console.print(renderable, overflow=\"ignore\", crop=False, style=style)\n",
            "  File \"/usr/local/lib/python3.11/dist-packages/pip/_vendor/rich/console.py\", line 1703, in print\n",
            "    extend(\n",
            "  File \"/usr/local/lib/python3.11/dist-packages/pip/_vendor/rich/segment.py\", line 197, in <genexpr>\n",
            "    result_segments = (\n",
            "                      ^\n",
            "  File \"/usr/local/lib/python3.11/dist-packages/pip/_vendor/rich/console.py\", line 1332, in render\n",
            "    for render_output in iter_render:\n",
            "  File \"/usr/local/lib/python3.11/dist-packages/pip/_vendor/rich/text.py\", line 686, in __rich_console__\n",
            "    def __rich_console__(\n",
            "\n",
            "KeyboardInterrupt\n",
            "^C\n"
          ]
        }
      ],
      "source": [
        "# 한글 자모 단위 처리 패키지 설치\n",
        "!pip install hgtk"
      ]
    },
    {
      "cell_type": "code",
      "execution_count": null,
      "metadata": {
        "id": "NiWJSRkBwBvz",
        "colab": {
          "base_uri": "https://localhost:8080/"
        },
        "outputId": "90cbae5f-b2f6-4805-f8ed-d904d34fa2a9"
      },
      "outputs": [
        {
          "output_type": "stream",
          "name": "stdout",
          "text": [
            "fatal: destination path 'fastText' already exists and is not an empty directory.\n",
            "/content/fastText\n",
            "make: Nothing to be done for 'opt'.\n",
            "Processing /content/fastText\n",
            "  Installing build dependencies ... \u001b[?25l\u001b[?25hdone\n",
            "  Getting requirements to build wheel ... \u001b[?25l\u001b[?25hdone\n",
            "  Preparing metadata (pyproject.toml) ... \u001b[?25l\u001b[?25hdone\n",
            "Requirement already satisfied: pybind11>=2.2 in /usr/local/lib/python3.11/dist-packages (from fasttext==0.9.2) (3.0.0)\n",
            "Requirement already satisfied: setuptools>=0.7.0 in /usr/local/lib/python3.11/dist-packages (from fasttext==0.9.2) (75.2.0)\n",
            "Requirement already satisfied: numpy in /usr/local/lib/python3.11/dist-packages (from fasttext==0.9.2) (2.0.2)\n",
            "Building wheels for collected packages: fasttext\n",
            "  Building wheel for fasttext (pyproject.toml) ... \u001b[?25l\u001b[?25hdone\n",
            "  Created wheel for fasttext: filename=fasttext-0.9.2-cp311-cp311-linux_x86_64.whl size=4508381 sha256=b55368f52aebb698b9f52a16f8363de02a0be09ca1d06f6b8899c1aa76aa5406\n",
            "  Stored in directory: /tmp/pip-ephem-wheel-cache-s2gl_vxu/wheels/1e/bc/93/e4d717605b2816cf84bf6796e766c05fcc2fd4feb3f170fdf3\n",
            "Successfully built fasttext\n",
            "Installing collected packages: fasttext\n",
            "  Attempting uninstall: fasttext\n",
            "    Found existing installation: fasttext 0.9.2\n",
            "    Uninstalling fasttext-0.9.2:\n",
            "      Successfully uninstalled fasttext-0.9.2\n",
            "Successfully installed fasttext-0.9.2\n"
          ]
        }
      ],
      "source": [
        "# fasttext 설치\n",
        "!git clone https://github.com/facebookresearch/fastText.git\n",
        "%cd fastText\n",
        "!make\n",
        "!pip install ."
      ]
    },
    {
      "cell_type": "markdown",
      "metadata": {
        "id": "u0FmhT3awOEm"
      },
      "source": [
        "## 1. 데이터 로드"
      ]
    },
    {
      "cell_type": "code",
      "execution_count": null,
      "metadata": {
        "id": "XFB3ropAwNnp"
      },
      "outputs": [],
      "source": [
        "import re\n",
        "import pandas as pd\n",
        "import urllib.request\n",
        "from tqdm import tqdm\n",
        "import hgtk"
      ]
    },
    {
      "cell_type": "code",
      "execution_count": null,
      "metadata": {
        "colab": {
          "base_uri": "https://localhost:8080/"
        },
        "id": "Fq8kmo_uwT1C",
        "outputId": "96813994-e1d4-4845-ee8a-e0a6da8b0fa1"
      },
      "outputs": [
        {
          "output_type": "execute_result",
          "data": {
            "text/plain": [
              "('ratings_total.txt', <http.client.HTTPMessage at 0x7ee130751750>)"
            ]
          },
          "metadata": {},
          "execution_count": 4
        }
      ],
      "source": [
        "# 네이버 쇼핑 리뷰\n",
        "urllib.request.urlretrieve(\"https://raw.githubusercontent.com/bab2min/corpus/master/sentiment/naver_shopping.txt\", filename=\"ratings_total.txt\")"
      ]
    },
    {
      "cell_type": "code",
      "execution_count": null,
      "metadata": {
        "colab": {
          "base_uri": "https://localhost:8080/"
        },
        "id": "zB88TfbcwVmx",
        "outputId": "bd8ae034-0c2b-462d-8588-a197d8fe7782"
      },
      "outputs": [
        {
          "output_type": "stream",
          "name": "stdout",
          "text": [
            "전체 리뷰 개수 : 200000\n"
          ]
        }
      ],
      "source": [
        "total_data = pd.read_table('ratings_total.txt', names=['ratings', 'reviews'])\n",
        "print('전체 리뷰 개수 :',len(total_data)) # 전체 리뷰 개수 출력"
      ]
    },
    {
      "cell_type": "code",
      "execution_count": null,
      "metadata": {
        "colab": {
          "base_uri": "https://localhost:8080/",
          "height": 206
        },
        "id": "IMzrtayFwXfy",
        "outputId": "18266399-61e8-4f62-d5a5-5b07e6436dfb"
      },
      "outputs": [
        {
          "output_type": "execute_result",
          "data": {
            "text/plain": [
              "   ratings                                            reviews\n",
              "0        5                                            배공빠르고 굿\n",
              "1        2                      택배가 엉망이네용 저희집 밑에층에 말도없이 놔두고가고\n",
              "2        5  아주좋아요 바지 정말 좋아서2개 더 구매했어요 이가격에 대박입니다. 바느질이 조금 ...\n",
              "3        2  선물용으로 빨리 받아서 전달했어야 하는 상품이었는데 머그컵만 와서 당황했습니다. 전...\n",
              "4        5                  민트색상 예뻐요. 옆 손잡이는 거는 용도로도 사용되네요 ㅎㅎ"
            ],
            "text/html": [
              "\n",
              "  <div id=\"df-55d592ab-668e-450f-99b1-a10a8693f719\" class=\"colab-df-container\">\n",
              "    <div>\n",
              "<style scoped>\n",
              "    .dataframe tbody tr th:only-of-type {\n",
              "        vertical-align: middle;\n",
              "    }\n",
              "\n",
              "    .dataframe tbody tr th {\n",
              "        vertical-align: top;\n",
              "    }\n",
              "\n",
              "    .dataframe thead th {\n",
              "        text-align: right;\n",
              "    }\n",
              "</style>\n",
              "<table border=\"1\" class=\"dataframe\">\n",
              "  <thead>\n",
              "    <tr style=\"text-align: right;\">\n",
              "      <th></th>\n",
              "      <th>ratings</th>\n",
              "      <th>reviews</th>\n",
              "    </tr>\n",
              "  </thead>\n",
              "  <tbody>\n",
              "    <tr>\n",
              "      <th>0</th>\n",
              "      <td>5</td>\n",
              "      <td>배공빠르고 굿</td>\n",
              "    </tr>\n",
              "    <tr>\n",
              "      <th>1</th>\n",
              "      <td>2</td>\n",
              "      <td>택배가 엉망이네용 저희집 밑에층에 말도없이 놔두고가고</td>\n",
              "    </tr>\n",
              "    <tr>\n",
              "      <th>2</th>\n",
              "      <td>5</td>\n",
              "      <td>아주좋아요 바지 정말 좋아서2개 더 구매했어요 이가격에 대박입니다. 바느질이 조금 ...</td>\n",
              "    </tr>\n",
              "    <tr>\n",
              "      <th>3</th>\n",
              "      <td>2</td>\n",
              "      <td>선물용으로 빨리 받아서 전달했어야 하는 상품이었는데 머그컵만 와서 당황했습니다. 전...</td>\n",
              "    </tr>\n",
              "    <tr>\n",
              "      <th>4</th>\n",
              "      <td>5</td>\n",
              "      <td>민트색상 예뻐요. 옆 손잡이는 거는 용도로도 사용되네요 ㅎㅎ</td>\n",
              "    </tr>\n",
              "  </tbody>\n",
              "</table>\n",
              "</div>\n",
              "    <div class=\"colab-df-buttons\">\n",
              "\n",
              "  <div class=\"colab-df-container\">\n",
              "    <button class=\"colab-df-convert\" onclick=\"convertToInteractive('df-55d592ab-668e-450f-99b1-a10a8693f719')\"\n",
              "            title=\"Convert this dataframe to an interactive table.\"\n",
              "            style=\"display:none;\">\n",
              "\n",
              "  <svg xmlns=\"http://www.w3.org/2000/svg\" height=\"24px\" viewBox=\"0 -960 960 960\">\n",
              "    <path d=\"M120-120v-720h720v720H120Zm60-500h600v-160H180v160Zm220 220h160v-160H400v160Zm0 220h160v-160H400v160ZM180-400h160v-160H180v160Zm440 0h160v-160H620v160ZM180-180h160v-160H180v160Zm440 0h160v-160H620v160Z\"/>\n",
              "  </svg>\n",
              "    </button>\n",
              "\n",
              "  <style>\n",
              "    .colab-df-container {\n",
              "      display:flex;\n",
              "      gap: 12px;\n",
              "    }\n",
              "\n",
              "    .colab-df-convert {\n",
              "      background-color: #E8F0FE;\n",
              "      border: none;\n",
              "      border-radius: 50%;\n",
              "      cursor: pointer;\n",
              "      display: none;\n",
              "      fill: #1967D2;\n",
              "      height: 32px;\n",
              "      padding: 0 0 0 0;\n",
              "      width: 32px;\n",
              "    }\n",
              "\n",
              "    .colab-df-convert:hover {\n",
              "      background-color: #E2EBFA;\n",
              "      box-shadow: 0px 1px 2px rgba(60, 64, 67, 0.3), 0px 1px 3px 1px rgba(60, 64, 67, 0.15);\n",
              "      fill: #174EA6;\n",
              "    }\n",
              "\n",
              "    .colab-df-buttons div {\n",
              "      margin-bottom: 4px;\n",
              "    }\n",
              "\n",
              "    [theme=dark] .colab-df-convert {\n",
              "      background-color: #3B4455;\n",
              "      fill: #D2E3FC;\n",
              "    }\n",
              "\n",
              "    [theme=dark] .colab-df-convert:hover {\n",
              "      background-color: #434B5C;\n",
              "      box-shadow: 0px 1px 3px 1px rgba(0, 0, 0, 0.15);\n",
              "      filter: drop-shadow(0px 1px 2px rgba(0, 0, 0, 0.3));\n",
              "      fill: #FFFFFF;\n",
              "    }\n",
              "  </style>\n",
              "\n",
              "    <script>\n",
              "      const buttonEl =\n",
              "        document.querySelector('#df-55d592ab-668e-450f-99b1-a10a8693f719 button.colab-df-convert');\n",
              "      buttonEl.style.display =\n",
              "        google.colab.kernel.accessAllowed ? 'block' : 'none';\n",
              "\n",
              "      async function convertToInteractive(key) {\n",
              "        const element = document.querySelector('#df-55d592ab-668e-450f-99b1-a10a8693f719');\n",
              "        const dataTable =\n",
              "          await google.colab.kernel.invokeFunction('convertToInteractive',\n",
              "                                                    [key], {});\n",
              "        if (!dataTable) return;\n",
              "\n",
              "        const docLinkHtml = 'Like what you see? Visit the ' +\n",
              "          '<a target=\"_blank\" href=https://colab.research.google.com/notebooks/data_table.ipynb>data table notebook</a>'\n",
              "          + ' to learn more about interactive tables.';\n",
              "        element.innerHTML = '';\n",
              "        dataTable['output_type'] = 'display_data';\n",
              "        await google.colab.output.renderOutput(dataTable, element);\n",
              "        const docLink = document.createElement('div');\n",
              "        docLink.innerHTML = docLinkHtml;\n",
              "        element.appendChild(docLink);\n",
              "      }\n",
              "    </script>\n",
              "  </div>\n",
              "\n",
              "\n",
              "    <div id=\"df-92c20120-faf6-4556-b034-23d9ce48b879\">\n",
              "      <button class=\"colab-df-quickchart\" onclick=\"quickchart('df-92c20120-faf6-4556-b034-23d9ce48b879')\"\n",
              "                title=\"Suggest charts\"\n",
              "                style=\"display:none;\">\n",
              "\n",
              "<svg xmlns=\"http://www.w3.org/2000/svg\" height=\"24px\"viewBox=\"0 0 24 24\"\n",
              "     width=\"24px\">\n",
              "    <g>\n",
              "        <path d=\"M19 3H5c-1.1 0-2 .9-2 2v14c0 1.1.9 2 2 2h14c1.1 0 2-.9 2-2V5c0-1.1-.9-2-2-2zM9 17H7v-7h2v7zm4 0h-2V7h2v10zm4 0h-2v-4h2v4z\"/>\n",
              "    </g>\n",
              "</svg>\n",
              "      </button>\n",
              "\n",
              "<style>\n",
              "  .colab-df-quickchart {\n",
              "      --bg-color: #E8F0FE;\n",
              "      --fill-color: #1967D2;\n",
              "      --hover-bg-color: #E2EBFA;\n",
              "      --hover-fill-color: #174EA6;\n",
              "      --disabled-fill-color: #AAA;\n",
              "      --disabled-bg-color: #DDD;\n",
              "  }\n",
              "\n",
              "  [theme=dark] .colab-df-quickchart {\n",
              "      --bg-color: #3B4455;\n",
              "      --fill-color: #D2E3FC;\n",
              "      --hover-bg-color: #434B5C;\n",
              "      --hover-fill-color: #FFFFFF;\n",
              "      --disabled-bg-color: #3B4455;\n",
              "      --disabled-fill-color: #666;\n",
              "  }\n",
              "\n",
              "  .colab-df-quickchart {\n",
              "    background-color: var(--bg-color);\n",
              "    border: none;\n",
              "    border-radius: 50%;\n",
              "    cursor: pointer;\n",
              "    display: none;\n",
              "    fill: var(--fill-color);\n",
              "    height: 32px;\n",
              "    padding: 0;\n",
              "    width: 32px;\n",
              "  }\n",
              "\n",
              "  .colab-df-quickchart:hover {\n",
              "    background-color: var(--hover-bg-color);\n",
              "    box-shadow: 0 1px 2px rgba(60, 64, 67, 0.3), 0 1px 3px 1px rgba(60, 64, 67, 0.15);\n",
              "    fill: var(--button-hover-fill-color);\n",
              "  }\n",
              "\n",
              "  .colab-df-quickchart-complete:disabled,\n",
              "  .colab-df-quickchart-complete:disabled:hover {\n",
              "    background-color: var(--disabled-bg-color);\n",
              "    fill: var(--disabled-fill-color);\n",
              "    box-shadow: none;\n",
              "  }\n",
              "\n",
              "  .colab-df-spinner {\n",
              "    border: 2px solid var(--fill-color);\n",
              "    border-color: transparent;\n",
              "    border-bottom-color: var(--fill-color);\n",
              "    animation:\n",
              "      spin 1s steps(1) infinite;\n",
              "  }\n",
              "\n",
              "  @keyframes spin {\n",
              "    0% {\n",
              "      border-color: transparent;\n",
              "      border-bottom-color: var(--fill-color);\n",
              "      border-left-color: var(--fill-color);\n",
              "    }\n",
              "    20% {\n",
              "      border-color: transparent;\n",
              "      border-left-color: var(--fill-color);\n",
              "      border-top-color: var(--fill-color);\n",
              "    }\n",
              "    30% {\n",
              "      border-color: transparent;\n",
              "      border-left-color: var(--fill-color);\n",
              "      border-top-color: var(--fill-color);\n",
              "      border-right-color: var(--fill-color);\n",
              "    }\n",
              "    40% {\n",
              "      border-color: transparent;\n",
              "      border-right-color: var(--fill-color);\n",
              "      border-top-color: var(--fill-color);\n",
              "    }\n",
              "    60% {\n",
              "      border-color: transparent;\n",
              "      border-right-color: var(--fill-color);\n",
              "    }\n",
              "    80% {\n",
              "      border-color: transparent;\n",
              "      border-right-color: var(--fill-color);\n",
              "      border-bottom-color: var(--fill-color);\n",
              "    }\n",
              "    90% {\n",
              "      border-color: transparent;\n",
              "      border-bottom-color: var(--fill-color);\n",
              "    }\n",
              "  }\n",
              "</style>\n",
              "\n",
              "      <script>\n",
              "        async function quickchart(key) {\n",
              "          const quickchartButtonEl =\n",
              "            document.querySelector('#' + key + ' button');\n",
              "          quickchartButtonEl.disabled = true;  // To prevent multiple clicks.\n",
              "          quickchartButtonEl.classList.add('colab-df-spinner');\n",
              "          try {\n",
              "            const charts = await google.colab.kernel.invokeFunction(\n",
              "                'suggestCharts', [key], {});\n",
              "          } catch (error) {\n",
              "            console.error('Error during call to suggestCharts:', error);\n",
              "          }\n",
              "          quickchartButtonEl.classList.remove('colab-df-spinner');\n",
              "          quickchartButtonEl.classList.add('colab-df-quickchart-complete');\n",
              "        }\n",
              "        (() => {\n",
              "          let quickchartButtonEl =\n",
              "            document.querySelector('#df-92c20120-faf6-4556-b034-23d9ce48b879 button');\n",
              "          quickchartButtonEl.style.display =\n",
              "            google.colab.kernel.accessAllowed ? 'block' : 'none';\n",
              "        })();\n",
              "      </script>\n",
              "    </div>\n",
              "\n",
              "    </div>\n",
              "  </div>\n"
            ],
            "application/vnd.google.colaboratory.intrinsic+json": {
              "type": "dataframe",
              "variable_name": "total_data"
            }
          },
          "metadata": {},
          "execution_count": 6
        }
      ],
      "source": [
        "total_data.head()"
      ]
    },
    {
      "cell_type": "markdown",
      "metadata": {
        "id": "3k4x7PAAwdd_"
      },
      "source": [
        "## 2. hgtk 튜토리얼\n",
        "\n",
        "\n",
        "\n",
        "word embedding이 단어 단위의 임베딩이었다면, character embedding은 문자 단위의 임베딩입니다. 한국어를 character embedding할 수 있는 것이 바로 자음 모음 분리기 hgtk입니다.\n",
        "\n",
        " 영어는 하나의 알파벳(52자)를 기준으로 character embedding을 하지만, 한국어에서 하나의 음절별로 character embedding을 하면 11172개의 음절이 있기 때문에 계산량이 너무 많습니다. 따라서 그보다 작은 단위인 자음,모음으로 분리하는 것입니다.\n",
        "\n",
        " >참고 repo: https://github.com/bluedisk/hangul-toolkit"
      ]
    },
    {
      "cell_type": "code",
      "execution_count": null,
      "metadata": {
        "colab": {
          "base_uri": "https://localhost:8080/"
        },
        "id": "EFtjwDZ0wcOW",
        "outputId": "cb298e44-bd9b-4def-a937-4ce7d219159c"
      },
      "outputs": [
        {
          "output_type": "stream",
          "name": "stdout",
          "text": [
            "True\n",
            "False\n",
            "False\n"
          ]
        }
      ],
      "source": [
        "# 한글인지 체크\n",
        "print(hgtk.checker.is_hangul('ㄱ'))\n",
        "print(hgtk.checker.is_hangul('12'))\n",
        "print(hgtk.checker.is_hangul('a'))"
      ]
    },
    {
      "cell_type": "code",
      "execution_count": null,
      "metadata": {
        "colab": {
          "base_uri": "https://localhost:8080/"
        },
        "id": "dslUKt6rxXWb",
        "outputId": "2c76d53e-789f-4936-d995-0aa23dced3de"
      },
      "outputs": [
        {
          "output_type": "stream",
          "name": "stdout",
          "text": [
            "('ㄴ', 'ㅏ', 'ㅁ')\n",
            "남\n",
            "('ㄴ', 'ㅣ', 'ㄴ')\n",
            "('ㅈ', 'ㅏ', '')\n"
          ]
        }
      ],
      "source": [
        "# 음절을 초성, 중성, 종성으로 분해\n",
        "print(hgtk.letter.decompose('남'))\n",
        "# 초성, 중성, 종성을 하나의 음절로 결합\n",
        "print(hgtk.letter.compose('ㄴ', 'ㅏ', 'ㅁ'))\n",
        "print(hgtk.letter.decompose('닌'))\n",
        "print(hgtk.letter.decompose('자'))"
      ]
    },
    {
      "cell_type": "code",
      "execution_count": null,
      "metadata": {
        "colab": {
          "base_uri": "https://localhost:8080/"
        },
        "id": "84dNK0oJxofR",
        "outputId": "0d461566-014c-48f5-fa6c-eec05cd89091"
      },
      "outputs": [
        {
          "output_type": "stream",
          "name": "stdout",
          "text": [
            "에러 발생\n",
            "에러 발생2\n"
          ]
        }
      ],
      "source": [
        "# 결합할 수 없는 상황에서는 에러 발생\n",
        "try:\n",
        "  hgtk.letter.compose('ㄴ', 'ㅁ', 'ㅁ') # 중성이 없는 경우\n",
        "except:\n",
        "  print('에러 발생')\n",
        "\n",
        "try:\n",
        "  hgtk.letter.compose('ㄴ', 'ㅓ','ㅣ')\n",
        "except:\n",
        "  print('에러 발생2')"
      ]
    },
    {
      "cell_type": "code",
      "source": [
        "hgtk.letter.compose('ㄴ', 'ㅓ')"
      ],
      "metadata": {
        "colab": {
          "base_uri": "https://localhost:8080/",
          "height": 35
        },
        "id": "SndFqP_QJIIy",
        "outputId": "34d591df-b85f-4e6f-f490-6495d8b997a4"
      },
      "execution_count": null,
      "outputs": [
        {
          "output_type": "execute_result",
          "data": {
            "text/plain": [
              "'너'"
            ],
            "application/vnd.google.colaboratory.intrinsic+json": {
              "type": "string"
            }
          },
          "metadata": {},
          "execution_count": 10
        }
      ]
    },
    {
      "cell_type": "markdown",
      "metadata": {
        "id": "oLO0xL3czHaB"
      },
      "source": [
        "## 3. 데이터 전처리"
      ]
    },
    {
      "cell_type": "markdown",
      "metadata": {
        "id": "967R9oSN2Wp3"
      },
      "source": [
        "![image.png](attachment:image.png)"
      ]
    },
    {
      "cell_type": "code",
      "execution_count": null,
      "metadata": {
        "id": "4dZQlvCIzBT7"
      },
      "outputs": [],
      "source": [
        "def word_to_jamo(token):\n",
        "  def to_special_token(jamo): # 경우에 따라 초, 중, 종성이 다 있는 게 아닌 경우도 있다. 이 경우 -를 반환해주는 함수\n",
        "    if not jamo:\n",
        "      return '-'\n",
        "    else:\n",
        "      return jamo\n",
        "\n",
        "  decomposed_token = ''\n",
        "  for char in token:\n",
        "    try:\n",
        "      # char(음절)을 초성, 중성, 종성으로 분리\n",
        "      cho, jung, jong = hgtk.letter.decompose(char)\n",
        "\n",
        "      # 자모가 빈 문자일 경우 특수문자 -로 대체\n",
        "      cho = to_special_token(cho)\n",
        "      jung = to_special_token(jung)\n",
        "      jong = to_special_token(jong)\n",
        "      decomposed_token = decomposed_token + cho + jung + jong\n",
        "\n",
        "    # 만약 char(음절)이 한글이 아닐 경우 자모를 나누지 않고 추가\n",
        "    except Exception as exception:\n",
        "      if type(exception).__name__ == 'NotHangulException':\n",
        "        decomposed_token += char\n",
        "\n",
        "  # 단어 토큰의 자모 단위 분리 결과를 추가\n",
        "  return decomposed_token"
      ]
    },
    {
      "cell_type": "code",
      "execution_count": null,
      "metadata": {
        "id": "Bc8TkvR13eIH",
        "colab": {
          "base_uri": "https://localhost:8080/"
        },
        "outputId": "f240b296-701a-465a-a7ca-4e01d4103f26"
      },
      "outputs": [
        {
          "output_type": "stream",
          "name": "stdout",
          "text": [
            "ㄴㅏㅁㄷㅗㅇㅅㅐㅇ\n",
            "ㅇㅑ-ㄱㅜ-\n"
          ]
        }
      ],
      "source": [
        "print(word_to_jamo('남동생'))\n",
        "print(word_to_jamo('야구')) # 야구의 경우 종성이 없으므로 종성 부분을 -로 반환"
      ]
    },
    {
      "cell_type": "code",
      "execution_count": null,
      "metadata": {
        "id": "rec1IWDC3yIF",
        "colab": {
          "base_uri": "https://localhost:8080/"
        },
        "outputId": "7ea3ed11-8e64-401c-b3f2-a45c460539c3"
      },
      "outputs": [
        {
          "output_type": "stream",
          "name": "stdout",
          "text": [
            "['선물', '용', '으로', '빨리', '받', '아서', '전달', '했어야', '하', '는', '상품', '이', '었', '는데', '머그', '컵', '만', '와서', '당황', '했', '습니다', '.']\n"
          ]
        }
      ],
      "source": [
        "print(mecab.morphs('선물용으로 빨리 받아서 전달했어야 하는 상품이었는데 머그컵만 와서 당황했습니다.'))"
      ]
    },
    {
      "cell_type": "code",
      "execution_count": null,
      "metadata": {
        "id": "rAZkfbwa339B"
      },
      "outputs": [],
      "source": [
        "# mecab으로 형태소를 분리해주고 그 형태소마다 각각 자음모음을 분리해주는 함수\n",
        "def tokenize_by_jamo(s):\n",
        "    return [word_to_jamo(token) for token in mecab.morphs(s)]"
      ]
    },
    {
      "cell_type": "code",
      "execution_count": null,
      "metadata": {
        "id": "lg6P-Jeo3-7S",
        "colab": {
          "base_uri": "https://localhost:8080/"
        },
        "outputId": "2de4d448-5adf-438c-bf95-db8587a7c163"
      },
      "outputs": [
        {
          "output_type": "stream",
          "name": "stdout",
          "text": [
            "['ㅅㅓㄴㅁㅜㄹ', 'ㅇㅛㅇ', 'ㅇㅡ-ㄹㅗ-', 'ㅃㅏㄹㄹㅣ-', 'ㅂㅏㄷ', 'ㅇㅏ-ㅅㅓ-', 'ㅈㅓㄴㄷㅏㄹ', 'ㅎㅐㅆㅇㅓ-ㅇㅑ-', 'ㅎㅏ-', 'ㄴㅡㄴ', 'ㅅㅏㅇㅍㅜㅁ', 'ㅇㅣ-', 'ㅇㅓㅆ', 'ㄴㅡㄴㄷㅔ-', 'ㅁㅓ-ㄱㅡ-', 'ㅋㅓㅂ', 'ㅁㅏㄴ', 'ㅇㅘ-ㅅㅓ-', 'ㄷㅏㅇㅎㅘㅇ', 'ㅎㅐㅆ', 'ㅅㅡㅂㄴㅣ-ㄷㅏ-', '.']\n"
          ]
        }
      ],
      "source": [
        "print(tokenize_by_jamo('선물용으로 빨리 받아서 전달했어야 하는 상품이었는데 머그컵만 와서 당황했습니다.'))"
      ]
    },
    {
      "cell_type": "code",
      "execution_count": null,
      "metadata": {
        "id": "xsmpYSY24E_L",
        "colab": {
          "base_uri": "https://localhost:8080/"
        },
        "outputId": "0dc507cb-c158-4b00-a9f4-5cebb11eb052"
      },
      "outputs": [
        {
          "output_type": "stream",
          "name": "stderr",
          "text": [
            "100%|██████████| 200000/200000 [01:00<00:00, 3325.94it/s]\n"
          ]
        }
      ],
      "source": [
        "# 리뷰 데이터의 reviews 컬럼만을 가져와서 자모 분리\n",
        "tokenized_data = []\n",
        "\n",
        "for sample in tqdm(total_data['reviews'].to_numpy()):\n",
        "    tokenzied_sample = tokenize_by_jamo(sample) # 자소 단위 토큰화\n",
        "    tokenized_data.append(tokenzied_sample)"
      ]
    },
    {
      "cell_type": "code",
      "execution_count": null,
      "metadata": {
        "id": "_LWbx6vn4u7R",
        "colab": {
          "base_uri": "https://localhost:8080/"
        },
        "outputId": "8c455d9c-fde9-45d2-b036-5efb261043c2"
      },
      "outputs": [
        {
          "output_type": "stream",
          "name": "stdout",
          "text": [
            "200000\n",
            "전처리 전: 택배가 엉망이네용 저희집 밑에층에 말도없이 놔두고가고\n",
            "전처리 후: ['ㅌㅐㄱㅂㅐ-', 'ㄱㅏ-', 'ㅇㅓㅇㅁㅏㅇ', 'ㅇㅣ-', 'ㄴㅔ-', 'ㅇㅛㅇ', 'ㅈㅓ-ㅎㅢ-', 'ㅈㅣㅂ', 'ㅁㅣㅌ', 'ㅇㅔ-', 'ㅊㅡㅇ', 'ㅇㅔ-', 'ㅁㅏㄹ', 'ㄷㅗ-', 'ㅇㅓㅄㅇㅣ-', 'ㄴㅘ-ㄷㅜ-', 'ㄱㅗ-', 'ㄱㅏ-', 'ㄱㅗ-']\n"
          ]
        }
      ],
      "source": [
        "print(len(tokenized_data))\n",
        "print(\"전처리 전:\", total_data['reviews'][1])\n",
        "print(\"전처리 후:\", tokenized_data[1])"
      ]
    },
    {
      "cell_type": "code",
      "source": [
        "tokenized_data[:3]"
      ],
      "metadata": {
        "colab": {
          "base_uri": "https://localhost:8080/"
        },
        "id": "ri2CsKp2PK9F",
        "outputId": "ffb608c9-2786-4bb2-a1db-e3f6740117e9"
      },
      "execution_count": null,
      "outputs": [
        {
          "output_type": "execute_result",
          "data": {
            "text/plain": [
              "[['ㅂㅐ-ㄱㅗㅇ', 'ㅃㅏ-ㄹㅡ-', 'ㄱㅗ-', 'ㄱㅜㅅ'],\n",
              " ['ㅌㅐㄱㅂㅐ-',\n",
              "  'ㄱㅏ-',\n",
              "  'ㅇㅓㅇㅁㅏㅇ',\n",
              "  'ㅇㅣ-',\n",
              "  'ㄴㅔ-',\n",
              "  'ㅇㅛㅇ',\n",
              "  'ㅈㅓ-ㅎㅢ-',\n",
              "  'ㅈㅣㅂ',\n",
              "  'ㅁㅣㅌ',\n",
              "  'ㅇㅔ-',\n",
              "  'ㅊㅡㅇ',\n",
              "  'ㅇㅔ-',\n",
              "  'ㅁㅏㄹ',\n",
              "  'ㄷㅗ-',\n",
              "  'ㅇㅓㅄㅇㅣ-',\n",
              "  'ㄴㅘ-ㄷㅜ-',\n",
              "  'ㄱㅗ-',\n",
              "  'ㄱㅏ-',\n",
              "  'ㄱㅗ-'],\n",
              " ['ㅇㅏ-ㅈㅜ-',\n",
              "  'ㅈㅗㅎ',\n",
              "  'ㅇㅏ-ㅇㅛ-',\n",
              "  'ㅂㅏ-ㅈㅣ-',\n",
              "  'ㅈㅓㅇㅁㅏㄹ',\n",
              "  'ㅈㅗㅎ',\n",
              "  'ㅇㅏ-ㅅㅓ-',\n",
              "  '2',\n",
              "  'ㄱㅐ-',\n",
              "  'ㄷㅓ-',\n",
              "  'ㄱㅜ-ㅁㅐ-',\n",
              "  'ㅎㅐㅆ',\n",
              "  'ㅇㅓ-ㅇㅛ-',\n",
              "  'ㅇㅣ-',\n",
              "  'ㄱㅏ-ㄱㅕㄱ',\n",
              "  'ㅇㅔ-',\n",
              "  'ㄷㅐ-ㅂㅏㄱ',\n",
              "  'ㅇㅣㅂㄴㅣ-ㄷㅏ-',\n",
              "  '.',\n",
              "  'ㅂㅏ-ㄴㅡ-ㅈㅣㄹ',\n",
              "  'ㅇㅣ-',\n",
              "  'ㅈㅗ-ㄱㅡㅁ',\n",
              "  'ㅇㅓㅇㅅㅓㅇ',\n",
              "  'ㅎㅏ-',\n",
              "  'ㄱㅣㄴ',\n",
              "  'ㅎㅏ-',\n",
              "  'ㅈㅣ-ㅁㅏㄴ',\n",
              "  'ㅍㅕㄴㅎㅏ-',\n",
              "  'ㄱㅗ-',\n",
              "  'ㄱㅏ-',\n",
              "  'ㅅㅓㅇㅂㅣ-',\n",
              "  'ㅊㅚ-ㄱㅗ-',\n",
              "  'ㅇㅖ-ㅇㅛ-',\n",
              "  '.']]"
            ]
          },
          "metadata": {},
          "execution_count": 18
        }
      ]
    },
    {
      "cell_type": "markdown",
      "metadata": {
        "id": "E7xeSqF_5-jM"
      },
      "source": [
        "단어를 자모 분리한 것을 역으로 하여 자모 상태를 단어로 다시 결합시키는 함수도 정의해봅시다. 이는 단어의 코사인 유사도를 평가할 때 자모 분리가 된 상태가 아니라 단어 상태로 편리하게 보기 위함입니다."
      ]
    },
    {
      "cell_type": "code",
      "execution_count": null,
      "metadata": {
        "id": "dg2U2hoF5-21"
      },
      "outputs": [],
      "source": [
        "def jamo_to_word(jamo_sequence):\n",
        "  tokenized_jamo = []\n",
        "  index = 0\n",
        "\n",
        "  # 1. 초기 입력\n",
        "  # jamo_sequence = 'ㄴㅏㅁㄷㅗㅇㅅㅐㅇ'\n",
        "\n",
        "  while index < len(jamo_sequence):\n",
        "    # 문자가 한글(정상적인 자모)이 아닐 경우\n",
        "    if not hgtk.checker.is_hangul(jamo_sequence[index]):\n",
        "      tokenized_jamo.append(jamo_sequence[index])\n",
        "      index = index + 1\n",
        "\n",
        "    # 문자가 정상적인 자모라면 초성, 중성, 종성을 하나의 토큰으로 간주.\n",
        "    else:\n",
        "      tokenized_jamo.append(jamo_sequence[index:index + 3])\n",
        "      index = index + 3\n",
        "\n",
        "  # 2. 자모 단위 토큰화 완료\n",
        "  # tokenized_jamo : ['ㄴㅏㅁ', 'ㄷㅗㅇ', 'ㅅㅐㅇ']\n",
        "\n",
        "  word = ''\n",
        "  try:\n",
        "    for jamo in tokenized_jamo:\n",
        "\n",
        "      # 초성, 중성, 종성의 묶음으로 추정되는 경우\n",
        "      if len(jamo) == 3:\n",
        "        if jamo[2] == \"-\":\n",
        "          # 종성이 존재하지 않는 경우\n",
        "          word = word + hgtk.letter.compose(jamo[0], jamo[1])\n",
        "        else:\n",
        "          # 종성이 존재하는 경우\n",
        "          word = word + hgtk.letter.compose(jamo[0], jamo[1], jamo[2])\n",
        "      # 한글이 아닌 경우\n",
        "      else:\n",
        "        word = word + jamo\n",
        "\n",
        "  # 복원 중(hgtk.letter.compose) 에러 발생 시 초기 입력 리턴.\n",
        "  # 복원이 불가능한 경우 예시) 'ㄴ!ㅁㄷㅗㅇㅅㅐㅇ'\n",
        "  except Exception as exception:\n",
        "    if type(exception).__name__ == 'NotHangulException':\n",
        "      return jamo_sequence\n",
        "\n",
        "  # 3. 단어로 복원 완료\n",
        "  # word : '남동생'\n",
        "\n",
        "  return word"
      ]
    },
    {
      "cell_type": "markdown",
      "metadata": {
        "id": "eyyqJpte8TWa"
      },
      "source": [
        "## 4. FastText"
      ]
    },
    {
      "cell_type": "code",
      "execution_count": null,
      "metadata": {
        "id": "vnQCv2mK6vw1"
      },
      "outputs": [],
      "source": [
        "import fasttext"
      ]
    },
    {
      "cell_type": "markdown",
      "metadata": {
        "id": "-27ntoZR8Si6"
      },
      "source": [
        "fasttext를 실행하기에 앞서 훈련 대상인 단어들을 txt 파일로 준비해둬야 합니다. 따라서 `tokenized_data.txt`라는 파일을 쓰기 모드(w)로 생성해주고 앞서 전처리한 `tokenized_data`를 입력해줍니다."
      ]
    },
    {
      "cell_type": "code",
      "execution_count": null,
      "metadata": {
        "id": "avmb1eqc6wwf",
        "colab": {
          "base_uri": "https://localhost:8080/"
        },
        "outputId": "249941c3-a926-474e-db52-2d8e2d260feb"
      },
      "outputs": [
        {
          "output_type": "stream",
          "name": "stderr",
          "text": [
            "100%|██████████| 200000/200000 [00:00<00:00, 241337.05 line/s]\n"
          ]
        }
      ],
      "source": [
        "with open('tokenized_data.txt', 'w') as out:\n",
        "  for line in tqdm(tokenized_data, unit=' line'):\n",
        "    out.write(' '.join(line) + '\\n')"
      ]
    },
    {
      "cell_type": "markdown",
      "metadata": {
        "id": "y4NkTSg580Ze"
      },
      "source": [
        "아래처럼 `train_unsupeviesd` 함수는 훈련을 시켜주는 함수입니다. 인자로 훈련할 단어가 담긴 txt 파일을 지정하고 model을 `cbow`나 `skipgram` 중에 하나를 고르면 됩니다."
      ]
    },
    {
      "cell_type": "code",
      "source": [
        "model = fasttext.train_unsupervised('tokenized_data.txt', model='cbow')"
      ],
      "metadata": {
        "id": "LoAPFmAsI9-L"
      },
      "execution_count": null,
      "outputs": []
    },
    {
      "cell_type": "code",
      "execution_count": null,
      "metadata": {
        "id": "FGlu2L8F9Rsk"
      },
      "outputs": [],
      "source": [
        "model.save_model(\"fasttext.bin\")"
      ]
    },
    {
      "cell_type": "code",
      "execution_count": null,
      "metadata": {
        "id": "kjrJe6l997N9"
      },
      "outputs": [],
      "source": [
        "model = fasttext.load_model(\"fasttext.bin\")"
      ]
    },
    {
      "cell_type": "code",
      "execution_count": null,
      "metadata": {
        "id": "0yY3vUqj9-ou",
        "colab": {
          "base_uri": "https://localhost:8080/"
        },
        "outputId": "705934f8-e0e2-4f43-d9e1-dfaa6e3718ad"
      },
      "outputs": [
        {
          "output_type": "execute_result",
          "data": {
            "text/plain": [
              "array([ 2.85749108e-01,  5.32697797e-01,  9.72192764e-01, -1.74561024e-01,\n",
              "       -9.40615535e-01, -8.52213144e-01,  1.84142113e-01,  7.23624051e-01,\n",
              "       -6.02583587e-01, -4.90640759e-01,  9.03603256e-01,  2.96650290e-01,\n",
              "       -2.10492730e-01,  6.45978987e-01, -5.46604753e-01,  6.41264975e-01,\n",
              "        6.83590710e-01,  5.07914782e-01,  1.90157950e-01, -3.27531621e-02,\n",
              "        5.80425084e-01, -5.27899086e-01,  6.99647903e-01, -1.41876325e-01,\n",
              "        5.80996238e-02, -3.13640386e-01,  7.06844479e-02,  1.19922531e+00,\n",
              "        9.48624730e-01, -7.08683491e-01,  5.12313426e-01, -8.10058236e-01,\n",
              "        2.31832623e-01, -2.90871948e-01,  1.51137781e+00, -2.15766624e-01,\n",
              "        4.38416228e-02, -2.49742463e-01,  9.85836610e-02,  1.48401380e-01,\n",
              "        4.82708663e-01, -9.81113911e-02,  3.92483830e-01, -8.28986242e-02,\n",
              "       -2.54946172e-01, -1.10600853e+00,  7.52483681e-03,  3.19441855e-01,\n",
              "       -6.56547397e-02, -2.13221177e-01, -2.11511150e-01, -2.59903312e-01,\n",
              "        1.69138134e-01,  1.49033908e-02, -9.99034107e-01, -3.28279957e-02,\n",
              "        1.10627757e-02,  2.43498445e-01, -2.38837197e-01,  1.86610088e-01,\n",
              "       -1.39049098e-01, -1.18185975e-01,  1.61835730e-01,  7.25804329e-01,\n",
              "       -4.35180724e-01,  3.77287447e-01, -4.06595647e-01, -1.76645592e-01,\n",
              "       -2.67820716e-01,  4.91925776e-01, -2.82297432e-01, -6.00573897e-01,\n",
              "        4.94795799e-01,  1.35222033e-01, -1.17796496e-01, -7.76124895e-01,\n",
              "        2.27492508e-02,  1.36140555e-01,  3.97971332e-01,  9.36240926e-02,\n",
              "        8.48273218e-01,  7.88985193e-01,  5.37583753e-02,  6.32351160e-01,\n",
              "        7.73415864e-01,  6.23026609e-01, -8.15240979e-01, -7.78561473e-01,\n",
              "        7.49277830e-01,  1.29948840e-01,  6.60207570e-01, -4.03202087e-01,\n",
              "       -6.72111869e-01, -9.39618289e-01, -8.69688034e-01,  8.82879972e-01,\n",
              "       -1.33745838e-02,  4.36232805e-01, -2.32288629e-01, -1.67192949e-04],\n",
              "      dtype=float32)"
            ]
          },
          "metadata": {},
          "execution_count": 26
        }
      ],
      "source": [
        "model[word_to_jamo('남동생')] # 'ㄴㅏㅁㄷㅗㅇㅅㅐㅇ'"
      ]
    },
    {
      "cell_type": "markdown",
      "metadata": {
        "id": "_rdJZgey-B72"
      },
      "source": [
        "`get_nearest_neighbors` 함수를 사용하여 '남동생'이라는 단어와 가장 유사도가 높은 단어들(자모 분리된 상태)을 k개만큼 출력해줍니다."
      ]
    },
    {
      "cell_type": "code",
      "execution_count": null,
      "metadata": {
        "id": "edTwzcQL9_vd",
        "colab": {
          "base_uri": "https://localhost:8080/"
        },
        "outputId": "acbcef14-b2b4-4188-9aa0-6ce5a037ce33"
      },
      "outputs": [
        {
          "output_type": "execute_result",
          "data": {
            "text/plain": [
              "[(0.8671373724937439, 'ㄷㅗㅇㅅㅐㅇ'),\n",
              " (0.8345811367034912, 'ㄴㅏㅁㅊㅣㄴ'),\n",
              " (0.7394193410873413, 'ㄴㅏㅁㅍㅕㄴ'),\n",
              " (0.7316157817840576, 'ㅊㅣㄴㄱㅜ-'),\n",
              " (0.7173355221748352, 'ㅅㅐㅇㅇㅣㄹ'),\n",
              " (0.7168329358100891, 'ㄴㅏㅁㅇㅏ-'),\n",
              " (0.7005258202552795, 'ㅈㅗ-ㅋㅏ-'),\n",
              " (0.6888477802276611, 'ㅈㅜㅇㅎㅏㄱㅅㅐㅇ'),\n",
              " (0.6667895317077637, 'ㅇㅓㄴㄴㅣ-'),\n",
              " (0.6643229126930237, 'ㄴㅏㅁㅈㅏ-')]"
            ]
          },
          "metadata": {},
          "execution_count": 27
        }
      ],
      "source": [
        "model.get_nearest_neighbors(word_to_jamo('남동생'), k=10)"
      ]
    },
    {
      "cell_type": "markdown",
      "metadata": {
        "id": "dAA_9Nz--Kuu"
      },
      "source": [
        "앞서 만든 `jamo_to_word`로 가독성이 좋게 출력해봅시다."
      ]
    },
    {
      "cell_type": "code",
      "execution_count": null,
      "metadata": {
        "id": "c7Um5Sgh-QC-"
      },
      "outputs": [],
      "source": [
        "def transform(word_sequence):\n",
        "  return [(jamo_to_word(word), similarity) for (similarity, word) in word_sequence]"
      ]
    },
    {
      "cell_type": "code",
      "execution_count": null,
      "metadata": {
        "colab": {
          "base_uri": "https://localhost:8080/"
        },
        "id": "5rvV7Sx--Q74",
        "outputId": "8077e670-d68d-40c9-d9dc-b82da22e723d"
      },
      "outputs": [
        {
          "output_type": "stream",
          "name": "stdout",
          "text": [
            "[('동생', 0.8671373724937439), ('남친', 0.8345811367034912), ('남편', 0.7394193410873413), ('친구', 0.7316157817840576), ('생일', 0.7173355221748352), ('남아', 0.7168329358100891), ('조카', 0.7005258202552795), ('중학생', 0.6888477802276611), ('언니', 0.6667895317077637), ('남자', 0.6643229126930237)]\n",
            "[('구매처', 0.8485594987869263), ('구입', 0.8151829242706299), ('주문', 0.7182267308235168), ('주문건', 0.6859400868415833), ('구매자', 0.6213594675064087), ('주문서', 0.6170161962509155), ('구메', 0.6099585890769958), ('헤매', 0.5940358638763428), ('구명조끼', 0.5845101475715637), ('구이', 0.5773112177848816)]\n",
            "[('배송지', 0.796425461769104), ('깨달', 0.7708380818367004), ('매달', 0.7456046342849731), ('운송장', 0.7196446657180786), ('출고가', 0.7136244177818298), ('택배', 0.7071263194084167), ('메달', 0.7013647556304932), ('배소', 0.6943267583847046), ('송장', 0.6902399063110352), ('직송', 0.688640296459198)]\n"
          ]
        }
      ],
      "source": [
        "print(transform(model.get_nearest_neighbors(word_to_jamo('남동생'), k=10)))\n",
        "print(transform(model.get_nearest_neighbors(word_to_jamo('구매'), k=10)))\n",
        "print(transform(model.get_nearest_neighbors(word_to_jamo('배달'), k=10)))"
      ]
    },
    {
      "cell_type": "markdown",
      "metadata": {
        "id": "KsHeruLf-o6A"
      },
      "source": [
        "## 5. Word2Vec\n",
        "\n",
        "![image.png](attachment:image.png)\n",
        "이제 word2vec를 사용하여 자모 단위로 분리하는 것이 아닌 단어 단위로 분리하여 임베딩 벡터를 생성해볼 것입니다."
      ]
    },
    {
      "cell_type": "code",
      "execution_count": null,
      "metadata": {
        "id": "y6ZraaNk-0uZ",
        "colab": {
          "base_uri": "https://localhost:8080/"
        },
        "outputId": "0305c683-1b48-4200-d3ea-19b12bcbeeb3"
      },
      "outputs": [
        {
          "output_type": "stream",
          "name": "stderr",
          "text": [
            "100%|██████████| 200000/200000 [00:22<00:00, 8855.24it/s]\n"
          ]
        }
      ],
      "source": [
        "# 간단하게 불용어 정의\n",
        "stopwords = ['의','가','이','은','들','는','좀','잘','걍','과','도','를','으로','자','에','와','한','하다']\n",
        "\n",
        "tokenized_data2 = []\n",
        "for sentence in tqdm(total_data['reviews'].to_list()):\n",
        "    tokenized_sentence = mecab.morphs(sentence) # 토큰화\n",
        "    stopwords_removed_sentence = [word for word in tokenized_sentence if not word in stopwords] # 불용어 제거\n",
        "    tokenized_data2.append(stopwords_removed_sentence)"
      ]
    },
    {
      "cell_type": "code",
      "execution_count": null,
      "metadata": {
        "id": "qSGnJMfd_YGc",
        "colab": {
          "base_uri": "https://localhost:8080/"
        },
        "outputId": "18f49e11-ae98-4e72-a951-16f1ab07f23a"
      },
      "outputs": [
        {
          "output_type": "stream",
          "name": "stdout",
          "text": [
            "word2vec용 데이터: ['배공', '빠르', '고', '굿']\n",
            "fasttext용 데이터: ['ㅂㅐ-ㄱㅗㅇ', 'ㅃㅏ-ㄹㅡ-', 'ㄱㅗ-', 'ㄱㅜㅅ']\n"
          ]
        }
      ],
      "source": [
        "print(\"word2vec용 데이터:\", tokenized_data2[0])\n",
        "print(\"fasttext용 데이터:\", tokenized_data[0])"
      ]
    },
    {
      "cell_type": "code",
      "metadata": {
        "id": "d983b691"
      },
      "source": [
        "#!pip install gensim"
      ],
      "execution_count": null,
      "outputs": []
    },
    {
      "cell_type": "code",
      "source": [
        "from gensim.models import Word2Vec\n",
        "\n",
        "model2 = Word2Vec(sentences = tokenized_data2,\n",
        "                  vector_size = 1000,\n",
        "                  window = 5,\n",
        "                  min_count = 5,\n",
        "                  workers = 4,\n",
        "                  sg = 0)"
      ],
      "metadata": {
        "id": "TEpGbUVTLDAx"
      },
      "execution_count": null,
      "outputs": []
    },
    {
      "cell_type": "code",
      "execution_count": null,
      "metadata": {
        "id": "PccU_FKd_MpB",
        "colab": {
          "base_uri": "https://localhost:8080/"
        },
        "outputId": "ece5f36d-ae52-4c9e-96c2-2d3cf7e33c91"
      },
      "outputs": [
        {
          "output_type": "execute_result",
          "data": {
            "text/plain": [
              "(15005, 1000)"
            ]
          },
          "metadata": {},
          "execution_count": 37
        }
      ],
      "source": [
        "# 완성된 임베딩 매트릭스의 크기 확인\n",
        "# 단어의 총 개수는 15005개이고 벡터 차원은 1000으로 축소되었다.\n",
        "model2.wv.vectors.shape"
      ]
    },
    {
      "cell_type": "markdown",
      "metadata": {
        "id": "S64jTHof_Ov3"
      },
      "source": [
        "## 6. FastText와 Word2Vec 결과 비교"
      ]
    },
    {
      "cell_type": "markdown",
      "metadata": {
        "id": "IxlPe5plBPoR"
      },
      "source": [
        "### **Q1) 남동생과 주문 두 단어를 input으로 넣고 결과를 비교한 뒤 해석해보세요**\n",
        "\n",
        "*(Hint: 유사도, 단어의 의미, 단어의 생김새 등을 고려해 볼 수 있습니다)*"
      ]
    },
    {
      "cell_type": "code",
      "execution_count": null,
      "metadata": {
        "id": "_VL9lr6BAi6t",
        "colab": {
          "base_uri": "https://localhost:8080/"
        },
        "outputId": "c71c6cde-598a-4bbf-bd1b-6d46a254543f"
      },
      "outputs": [
        {
          "output_type": "stream",
          "name": "stdout",
          "text": [
            "FastText 유사도: [('동생', 0.8671373724937439), ('남친', 0.8345811367034912), ('남편', 0.7394193410873413), ('친구', 0.7316157817840576), ('생일', 0.7173355221748352), ('남아', 0.7168329358100891), ('조카', 0.7005258202552795), ('중학생', 0.6888477802276611), ('언니', 0.6667895317077637), ('남자', 0.6643229126930237)]\n",
            "Word2Vec 유사도: [('사촌', 0.7566232681274414), ('양가', 0.7379902005195618), ('결혼', 0.7374473214149475), ('입학', 0.7257005572319031), ('시어머님', 0.7226743698120117), ('레인', 0.7022974491119385), ('둥이', 0.7011923789978027), ('엄니', 0.701007604598999), ('축하', 0.6974373459815979), ('모임', 0.6929582357406616)]\n"
          ]
        }
      ],
      "source": [
        "print(\"FastText 유사도:\", transform(model.get_nearest_neighbors(word_to_jamo('남동생'), k=10)))\n",
        "print(\"Word2Vec 유사도:\", model2.wv.most_similar(\"남동생\"))"
      ]
    },
    {
      "cell_type": "code",
      "execution_count": null,
      "metadata": {
        "id": "I3lAnif5BWay",
        "colab": {
          "base_uri": "https://localhost:8080/"
        },
        "outputId": "634fce27-c2b3-44fd-c9e9-c614dc7aed09"
      },
      "outputs": [
        {
          "output_type": "stream",
          "name": "stdout",
          "text": [
            "FastText 유사도: [('주문건', 0.906598687171936), ('주문서', 0.8494508266448975), ('주문자', 0.7549388408660889), ('주무시', 0.740752637386322), ('주무', 0.7267564535140991), ('구입', 0.7227046489715576), ('구매', 0.718227207660675), ('시켰었', 0.6814103126525879), ('구매처', 0.6687557101249695), ('시켰', 0.6650528907775879)]\n",
            "Word2Vec 유사도: [('구매', 0.8260665535926819), ('구입', 0.8234701752662659), ('선택', 0.6320903301239014), ('시켰', 0.5545579791069031), ('준비', 0.5493218898773193), ('결제', 0.5459849834442139), ('신청', 0.5352827310562134), ('장만', 0.5310112833976746), ('도착', 0.5190190672874451), ('교체', 0.5060564875602722)]\n"
          ]
        }
      ],
      "source": [
        "print(\"FastText 유사도:\", transform(model.get_nearest_neighbors(word_to_jamo('주문'), k=10)))\n",
        "print(\"Word2Vec 유사도:\", model2.wv.most_similar(\"주문\"))"
      ]
    },
    {
      "cell_type": "markdown",
      "metadata": {
        "id": "cGJZGHcxA52j"
      },
      "source": [
        "**Your Inference:** FastText의 결과를 보면 ‘남동생’과 ‘주문’이라는 말의 전체나 일부가 직접적으로 들어간 단어들, 즉 형태적으로 유사한 단어들이 가장 유사한 단어로 나오고 있다. 가령 ‘남동생’을 input으로 넣었을때 ‘동생’, ‘남’친, ‘남’편이, ‘주문’을 input으로 넣었을때 ‘주문’건, ‘주문’서, ‘주문’자 등이 가장 유사한 단어로 나오고 있다. 반면 Word2Vec의 결과는 맥락적으로 관련된 단어들이나 의미적으로 유사한 단어가 가장 유사한 단어로 나온다. 예를 들어 ‘주문’과 비슷한 뜻을 가진 ‘구매’, ‘구입’이 가장 유사 단어로 나오고 있다. 유사도 측면에서는 전반적으로 FastText가 더 높으며, 가장 유사한 단어 기준으로 약 0.1 정도의 차이를 보인다. 결론적으로 Word2Vec은 ‘같이 자주 나오는 단어’나 의미적 유사성 위주로 판단한다면 FastText는 파생어 뿐 아니라 의미적 유사성도 어느정도 반영하는 것으로 보인다."
      ]
    },
    {
      "cell_type": "markdown",
      "metadata": {
        "id": "US6x_FiIryoM"
      },
      "source": [
        "### **Q2) Fasttext가 Word2Vec보다 항상 성능이 나은지 다양한 input을 넣어서 시도해보세요**"
      ]
    },
    {
      "cell_type": "code",
      "execution_count": null,
      "metadata": {
        "id": "LLkz-ZalsB2v",
        "colab": {
          "base_uri": "https://localhost:8080/"
        },
        "outputId": "1df11032-297a-4c1e-9975-2c9714f1b4e0"
      },
      "outputs": [
        {
          "output_type": "stream",
          "name": "stdout",
          "text": [
            "FastText 유사도: [('남성', 0.7303630709648132), ('자성', 0.7218074798583984), ('어성', 0.7147840857505798), ('배성', 0.7074929475784302), ('점성', 0.7074399590492249), ('성인', 0.7062436938285828), ('내성', 0.6987369060516357), ('지성', 0.698695957660675), ('형성', 0.6943333148956299), ('개성', 0.6798306703567505)]\n",
            "Word2Vec 유사도: [('남성', 0.8218715786933899), ('유아', 0.6935902237892151), ('성인', 0.691750168800354), ('여자', 0.6887168884277344), ('남자', 0.6706873178482056), ('아동', 0.6660740971565247), ('전문가', 0.6194642782211304), ('77', 0.6020462512969971), ('입문', 0.6013357639312744), ('255', 0.5968115925788879)]\n"
          ]
        }
      ],
      "source": [
        "print(\"FastText 유사도:\", transform(model.get_nearest_neighbors(word_to_jamo('여성'), k=10)))\n",
        "print(\"Word2Vec 유사도:\", model2.wv.most_similar(\"여성\"))"
      ]
    },
    {
      "cell_type": "code",
      "source": [
        "print(\"FastText 유사도:\", transform(model.get_nearest_neighbors(word_to_jamo('비타민'), k=10)))\n",
        "print(\"Word2Vec 유사도:\", model2.wv.most_similar(\"비타민\"))"
      ],
      "metadata": {
        "colab": {
          "base_uri": "https://localhost:8080/"
        },
        "id": "Usg-XWTIYMcH",
        "outputId": "e9025cc9-6fd0-486d-c9c6-c3edda25ff10"
      },
      "execution_count": null,
      "outputs": [
        {
          "output_type": "stream",
          "name": "stdout",
          "text": [
            "FastText 유사도: [('비타', 0.7778773307800293), ('국민', 0.7022587656974792), ('비비', 0.6605033874511719), ('빋', 0.6560096144676208), ('비교', 0.6530042290687561), ('유목민', 0.6486132144927979), ('유산균', 0.6395082473754883), ('비아', 0.638543426990509), ('비염', 0.635815441608429), ('비늘', 0.6272722482681274)]\n",
            "Word2Vec 유사도: [('영양제', 0.7844805717468262), ('캐닌', 0.7818204164505005), ('유산균', 0.778425931930542), ('단백질', 0.7715478539466858), ('먹여요', 0.7344641089439392), ('로얄', 0.7281597852706909), ('파스퇴르', 0.7247311472892761), ('쉐이크', 0.7181972861289978), ('영양', 0.7032598853111267), ('즐겨', 0.6893134117126465)]\n"
          ]
        }
      ]
    },
    {
      "cell_type": "code",
      "execution_count": null,
      "metadata": {
        "id": "A4VZ-I34sOXj",
        "colab": {
          "base_uri": "https://localhost:8080/"
        },
        "outputId": "ea402f7d-e1ec-4459-e3da-428917afeeca"
      },
      "outputs": [
        {
          "output_type": "stream",
          "name": "stdout",
          "text": [
            "FastText 유사도: [('형광', 0.9588881134986877), ('광색', 0.7967095375061035), ('톤', 0.7679265141487122), ('카키색', 0.7624732851982117), ('미색', 0.760770857334137), ('투톤', 0.7523170709609985), ('블링', 0.751548707485199), ('회색빛', 0.7510120868682861), ('리색', 0.7457737922668457), ('골드색', 0.737829864025116)]\n",
            "Word2Vec 유사도: [('샴페인', 0.8306828141212463), ('그래이', 0.8287167549133301), ('만수무강', 0.8190242052078247), ('연식', 0.8143661618232727), ('솔리드', 0.8134633302688599), ('집성목', 0.8096138834953308), ('사제', 0.8073872327804565), ('나뭇잎', 0.8061144948005676), ('꾸덕꾸덕', 0.8040460348129272), ('도면', 0.803908109664917)]\n"
          ]
        }
      ],
      "source": [
        "print(\"FastText 유사도:\", transform(model.get_nearest_neighbors(word_to_jamo('형광펜'), k=10)))\n",
        "print(\"Word2Vec 유사도:\", model2.wv.most_similar(\"형광펜\"))"
      ]
    },
    {
      "cell_type": "code",
      "source": [
        "print(\"FastText 유사도:\", transform(model.get_nearest_neighbors(word_to_jamo('좋아'), k=10)))\n",
        "print(\"Word2Vec 유사도:\", model2.wv.most_similar(\"좋아\"))"
      ],
      "metadata": {
        "colab": {
          "base_uri": "https://localhost:8080/"
        },
        "id": "sAUI_q4qYPcq",
        "outputId": "a62ea3dc-d10d-45c2-a1f7-b27b69ef7aed"
      },
      "execution_count": null,
      "outputs": [
        {
          "output_type": "stream",
          "name": "stdout",
          "text": [
            "FastText 유사도: [('좋아하', 0.9161620140075684), ('좋아해', 0.8811062574386597), ('좋아함', 0.8645984530448914), ('좋아할', 0.8466616272926331), ('짱아', 0.7671179175376892), ('좋아해서', 0.7429694533348083), ('딸아', 0.7383669018745422), ('우아', 0.7154132723808289), ('조카', 0.7142690420150757), ('좋아요', 0.7026201486587524)]\n",
            "Word2Vec 유사도: [('아라', 0.6587160229682922), ('행복', 0.6260817646980286), ('편해', 0.5964709520339966), ('즐거워', 0.5880709886550903), ('이뻐', 0.5786017775535583), ('깜찍', 0.5693917870521545), ('좋아합니다', 0.5684081315994263), ('조아', 0.5587714910507202), ('신기', 0.5456815958023071), ('뻣', 0.5356332659721375)]\n"
          ]
        }
      ]
    },
    {
      "cell_type": "markdown",
      "metadata": {
        "id": "UUyyS7GfsSha"
      },
      "source": [
        "**Your Inference:** FastText가 항상 Word2Vec보다 더 나은 성능을 보이는 것은 아니다. Q1에서 살펴봤듯, FastText는 자모 등 단어 안에 있는 구조를 활용하기 때문에 파생어나 합성어의 유사성을 잘 포착한다. 예를 들어 ‘좋아’라는 단어에 대해서는 ‘좋아하’, ‘좋아해’, ‘좋아함’ 등의 다양한 파생형을 찾아냈다. 반면, ‘여성’이나 ‘비타민’처럼 형태적으로 단순하거나 합성어가 아닌 경우 FastText는 ‘성’이나 ‘비’, ’민’이라는 일부 글자만 똑같은 단어들을 유사한 단어로 판단하고 있어서 직관적으로 유사하다고 보기 어려웠다. (성능 수치가 별로 차이가 안날때 포함) 따라서 상황에 따라 FastText와 Word2Vec의 강점이 다르고 성능 또한 다르다고 판단했다."
      ]
    }
  ],
  "metadata": {
    "colab": {
      "provenance": [],
      "collapsed_sections": [
        "u0FmhT3awOEm",
        "3k4x7PAAwdd_",
        "eyyqJpte8TWa"
      ]
    },
    "kernelspec": {
      "display_name": "Python 3",
      "name": "python3"
    },
    "language_info": {
      "name": "python"
    }
  },
  "nbformat": 4,
  "nbformat_minor": 0
}