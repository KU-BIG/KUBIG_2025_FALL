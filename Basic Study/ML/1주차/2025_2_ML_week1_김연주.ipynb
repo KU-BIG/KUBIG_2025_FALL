{
  "cells": [
    {
      "cell_type": "markdown",
      "metadata": {
        "id": "fO-wenIoehih"
      },
      "source": [
        "# ML WEEK 1"
      ]
    },
    {
      "cell_type": "markdown",
      "metadata": {
        "id": "fgVKnmpNvYxB"
      },
      "source": [
        "본 과제는 numpy와 pandas, 그리고 EDA를 아주 간단하게 다룹니다.\n",
        "\n",
        "중간중간에 있는 문제들을 풀어보면서 가볍게 리마인드 하시면 좋을 것 같습니다.\n",
        "\n",
        "참고자료:\n",
        "\n",
        "- \\[An Introduction to Statistical Learning with Applications on Python\\] (무료) https://www.statlearning.com/\n",
        "\n",
        "- 파이썬 머신러닝 완벽 가이드(개정 2판)\n",
        "\n",
        "- https://wikidocs.net/4307 (점프투 파이썬 위키북스 2, 3, 4 장, python 문법이 익숙하지 않은 경우)\n",
        "\n",
        "\n",
        "만약 시간이 남는다면, numpy나 pandas가 가지고 있는 추가 기능을 여러가지 찾아 실행해 보시고 그 과정을 남겨 주셔도 좋습니다!\n",
        "\n"
      ]
    },
    {
      "cell_type": "markdown",
      "metadata": {
        "id": "V_iOhlYagbT1"
      },
      "source": [
        "# 모듈 불러오기"
      ]
    },
    {
      "cell_type": "markdown",
      "metadata": {
        "id": "fV2vaeR8geQV"
      },
      "source": [
        "python으로 머신러닝을 구현할 때 주로 쓰이는 모듈입니다.\n",
        "\n",
        "- `numpy` 행렬연산\n",
        "- `pandas` 데이터 전처리\n",
        "- `matplotlib` 그래프 시각화\n",
        "- `seaborn` 그래프 시각화\n",
        "- `scikit-learn` 머신러닝 모델 학습"
      ]
    },
    {
      "cell_type": "code",
      "execution_count": 1,
      "metadata": {
        "id": "qnkzkC0NgmMz"
      },
      "outputs": [],
      "source": [
        "# 모듈 불러오기\n",
        "\n",
        "import numpy as np\n",
        "import pandas as pd\n",
        "import matplotlib.pyplot as plt\n",
        "import seaborn as sns\n"
      ]
    },
    {
      "cell_type": "markdown",
      "metadata": {
        "id": "ekZ908efhUPK"
      },
      "source": [
        "## Numpy"
      ]
    },
    {
      "cell_type": "markdown",
      "metadata": {
        "id": "52qwo13on3P9"
      },
      "source": [
        "Numpy의 ndarray를 이용해 다차원 배열을 쉽게 생성하고, 다양한 연산을 수행할 수 있습니다."
      ]
    },
    {
      "cell_type": "code",
      "execution_count": 2,
      "metadata": {
        "id": "oQjHHkmzhTxo"
      },
      "outputs": [],
      "source": [
        "# 넘파이 배열(행렬) 생성하기\n",
        "\n",
        "x = np.array([1, 2, 3])\n",
        "y = np.array([2, 3, 4])\n",
        "z = np.array([[1, 2, 3], [2, 3, 4]])\n",
        "\n",
        "w = np.array([[1, 2, 3]])"
      ]
    },
    {
      "cell_type": "code",
      "execution_count": 4,
      "metadata": {
        "id": "dI1PR5NKiGn2"
      },
      "outputs": [
        {
          "name": "stdout",
          "output_type": "stream",
          "text": [
            "x: int32 (3,) 1\n",
            "y: int32 (3,) 1\n",
            "z: int32 (2, 3) 2\n",
            "w: int32 (1, 3) 2\n"
          ]
        }
      ],
      "source": [
        "# Q1. 배열의 타입과 형태, 차원을 각각 구해주세요.\n",
        "\n",
        "print(\"x:\", x.dtype, x.shape, x.ndim)\n",
        "print(\"y:\", y.dtype, y.shape, y.ndim)\n",
        "print(\"z:\", z.dtype, z.shape, z.ndim)\n",
        "print(\"w:\", w.dtype, w.shape, w.ndim)\n",
        "\n"
      ]
    },
    {
      "cell_type": "code",
      "execution_count": 5,
      "metadata": {
        "colab": {
          "base_uri": "https://localhost:8080/",
          "height": 240
        },
        "id": "IjFb54UvwQzg",
        "outputId": "43466326-d59d-444e-c046-f8c988445412"
      },
      "outputs": [
        {
          "name": "stdout",
          "output_type": "stream",
          "text": [
            "[3 5 7]\n",
            "[-1 -1 -1]\n",
            "[ 2  6 12]\n"
          ]
        },
        {
          "ename": "ValueError",
          "evalue": "operands could not be broadcast together with shapes (3,) (4,) ",
          "output_type": "error",
          "traceback": [
            "\u001b[1;31m---------------------------------------------------------------------------\u001b[0m",
            "\u001b[1;31mValueError\u001b[0m                                Traceback (most recent call last)",
            "Cell \u001b[1;32mIn[5], line 11\u001b[0m\n\u001b[0;32m      8\u001b[0m y1 \u001b[38;5;241m=\u001b[39m np\u001b[38;5;241m.\u001b[39marray([\u001b[38;5;241m1\u001b[39m, \u001b[38;5;241m2\u001b[39m, \u001b[38;5;241m3\u001b[39m, \u001b[38;5;241m4\u001b[39m])\n\u001b[0;32m     10\u001b[0m \u001b[38;5;66;03m# 배열의 크기가 같은 경우에만 연산을 적용할 수 있습니다.\u001b[39;00m\n\u001b[1;32m---> 11\u001b[0m x1 \u001b[38;5;241m+\u001b[39m y1\n",
            "\u001b[1;31mValueError\u001b[0m: operands could not be broadcast together with shapes (3,) (4,) "
          ]
        }
      ],
      "source": [
        "# 원소끼리의 연산 수행\n",
        "\n",
        "print(x + y)\n",
        "print(x - y)\n",
        "print(x * y)\n",
        "\n",
        "x1 = np.array([1, 2, 3])\n",
        "y1 = np.array([1, 2, 3, 4])\n",
        "\n",
        "# 배열의 크기가 같은 경우에만 연산을 적용할 수 있습니다.\n",
        "x1 + y1"
      ]
    },
    {
      "cell_type": "code",
      "execution_count": 6,
      "metadata": {
        "colab": {
          "base_uri": "https://localhost:8080/"
        },
        "id": "nusjtTzVpXot",
        "outputId": "2e4ed64c-7b70-4f5d-ac4c-0b28904247ac"
      },
      "outputs": [
        {
          "name": "stdout",
          "output_type": "stream",
          "text": [
            "<class 'list'>\n",
            "<class 'numpy.ndarray'>\n"
          ]
        },
        {
          "data": {
            "text/plain": [
              "array([[1, 2, 3],\n",
              "       [4, 5, 6],\n",
              "       [7, 8, 9]])"
            ]
          },
          "execution_count": 6,
          "metadata": {},
          "output_type": "execute_result"
        }
      ],
      "source": [
        "# 리스트를 ndarray로 쉽게 변경할 수 있습니다.\n",
        "\n",
        "lst1 = [1, 2, 3]\n",
        "lst2 = [4, 5, 6]\n",
        "lst3 = [7, 8, 9]\n",
        "print(type(lst1))\n",
        "\n",
        "arr = np.array([lst1, lst2, lst3])\n",
        "print(type(arr))\n",
        "\n",
        "arr"
      ]
    },
    {
      "cell_type": "code",
      "execution_count": 7,
      "metadata": {
        "colab": {
          "base_uri": "https://localhost:8080/"
        },
        "id": "UX3_BnnSyhwy",
        "outputId": "f24bac63-1a1d-4600-c819-7978cf73229b"
      },
      "outputs": [
        {
          "name": "stdout",
          "output_type": "stream",
          "text": [
            "int32\n",
            "float64\n",
            "<U11\n"
          ]
        }
      ],
      "source": [
        "# numpy 내의 데이터값은 숫자, 문자열, 불 값 등 모두 가능합니다.\n",
        "# 한 개의 ndarray 객체에 int와 float가 함께 있을 수 없습니다.\n",
        "\n",
        "print(np.array([1, 2, 3]).dtype)\n",
        "print(np.array([1, 2, 3.]).dtype)\n",
        "\n",
        "print(np.array([1, 2, 'test']).dtype)"
      ]
    },
    {
      "cell_type": "code",
      "execution_count": 8,
      "metadata": {
        "colab": {
          "base_uri": "https://localhost:8080/"
        },
        "id": "BfjZLXPup9jd",
        "outputId": "16b49962-d478-47c9-b7b4-71432ebbc49c"
      },
      "outputs": [
        {
          "name": "stdout",
          "output_type": "stream",
          "text": [
            "[0 0 0 0 0 0 0 0 0]\n",
            "[[0 1 2 3 4]\n",
            " [5 6 7 8 9]]\n",
            "[[0 1]\n",
            " [2 3]\n",
            " [4 5]\n",
            " [6 7]\n",
            " [8 9]]\n",
            "[[[0, 1], [2, 3]], [[4, 5], [6, 7]]]\n"
          ]
        }
      ],
      "source": [
        "# reshape() 함수를 이용해 형태나 차원의 크기를 변경합니다.\n",
        "\n",
        "array1 = np.zeros(9, dtype = 'int32')\n",
        "array1.reshape(3, 3)\n",
        "print(array1)\n",
        "\n",
        "array2 = np.arange(10)\n",
        "print(array2.reshape(-1, 5))\n",
        "print(array2.reshape(5, -1))\n",
        "\n",
        "array3 = np.arange(8).reshape(2, 2, 2)\n",
        "print(array3.tolist())\n"
      ]
    },
    {
      "cell_type": "code",
      "execution_count": 9,
      "metadata": {
        "colab": {
          "base_uri": "https://localhost:8080/"
        },
        "id": "wg6-xWt2r1c5",
        "outputId": "09ba12a9-f528-4784-8ed6-850bb4cfa5f4"
      },
      "outputs": [
        {
          "name": "stdout",
          "output_type": "stream",
          "text": [
            "[0 1 2 3 4 5 6 7 8 9]\n",
            "3\n",
            "[3 4]\n",
            "9 8\n"
          ]
        }
      ],
      "source": [
        "# 넘파이 인덱싱\n",
        "\n",
        "array2 = array2.reshape(-1,)\n",
        "print(array2)\n",
        "\n",
        "print(array2[3])\n",
        "print(array2[3:5]) #  슬라이싱\n",
        "\n",
        "print(array2[-1], array2[-2])"
      ]
    },
    {
      "cell_type": "code",
      "execution_count": 10,
      "metadata": {
        "colab": {
          "base_uri": "https://localhost:8080/"
        },
        "id": "svr46thBug7i",
        "outputId": "4aacd0ff-b0ad-403b-fa5d-972d96d3a3d7"
      },
      "outputs": [
        {
          "name": "stdout",
          "output_type": "stream",
          "text": [
            "[0 1 2 7 4 5 6 3 8 9]\n"
          ]
        }
      ],
      "source": [
        "# ndarray 내의 데이터 값을 간단히 수정할 수 있습니다.\n",
        "\n",
        "array2[3] = 7\n",
        "array2[7] = 3\n",
        "\n",
        "print(array2)"
      ]
    },
    {
      "cell_type": "code",
      "execution_count": 12,
      "metadata": {
        "colab": {
          "base_uri": "https://localhost:8080/"
        },
        "id": "1A8HW3ohuajs",
        "outputId": "cb7fe40b-e176-4368-f5cf-15161da4e68f"
      },
      "outputs": [
        {
          "name": "stdout",
          "output_type": "stream",
          "text": [
            "[7 5 6 8 9]\n",
            "[7 5 6 8 9]\n"
          ]
        }
      ],
      "source": [
        "# Q2. array2에서 데이터 값이 4보다 큰 데이터만 추출해 주세요. (2가지 이상의 방법 이용)\n",
        "\n",
        "result1 = array2[array2 > 4]\n",
        "print(result1)\n",
        "\n",
        "result2 = array2[np.where(array2 > 4)]\n",
        "print(result2)\n"
      ]
    },
    {
      "cell_type": "code",
      "execution_count": 13,
      "metadata": {
        "colab": {
          "base_uri": "https://localhost:8080/"
        },
        "id": "TMCyGwqIv4kV",
        "outputId": "3425c826-fbe6-4092-f1f7-fe67159d864d"
      },
      "outputs": [
        {
          "name": "stdout",
          "output_type": "stream",
          "text": [
            "[78 84 88 95 98]\n",
            "[98 95 88 84 78]\n",
            "[[1 2 3]\n",
            " [4 5 6]]\n",
            "[[3 2 1]\n",
            " [6 5 4]]\n"
          ]
        }
      ],
      "source": [
        "# 정렬\n",
        "\n",
        "score = np.array([78, 95, 84, 98, 88])\n",
        "\n",
        "score_sorted = np.sort(score)\n",
        "print(score_sorted)\n",
        "\n",
        "# 내림차순 정렬\n",
        "score_sorted_desc = np.sort(score)[::-1]\n",
        "print(score_sorted_desc)\n",
        "\n",
        "\n",
        "score2 = np.array([[3, 2, 1], [6, 5, 4]])\n",
        "\n",
        "sorted_by_row = np.sort(score2, axis=1)  # 각 행을 정렬\n",
        "print(sorted_by_row)\n",
        "\n",
        "sorted_by_column = np.sort(score2, axis=0)  # 각 열을 정렬\n",
        "print(sorted_by_column)\n"
      ]
    },
    {
      "cell_type": "code",
      "execution_count": 14,
      "metadata": {
        "colab": {
          "base_uri": "https://localhost:8080/"
        },
        "id": "l-yQELsuzNry",
        "outputId": "7d873b8b-7f09-463f-f514-f6ebdcc02aac"
      },
      "outputs": [
        {
          "name": "stdout",
          "output_type": "stream",
          "text": [
            "[[ 58  64]\n",
            " [139 154]]\n",
            "[[1 4]\n",
            " [2 5]\n",
            " [3 6]]\n"
          ]
        }
      ],
      "source": [
        "# 행렬 연산\n",
        "\n",
        "A = np.array([[1, 2, 3], [4, 5, 6]])\n",
        "\n",
        "B = np.array([[7, 8], [9, 10], [11, 12]])\n",
        "\n",
        "# 행렬의 내적 구하기(행렬곱)\n",
        "dot_product = np.dot(A, B)\n",
        "print(dot_product)\n",
        "\n",
        "# 전치 행렬 구하기\n",
        "print(np.transpose(A))"
      ]
    },
    {
      "cell_type": "markdown",
      "metadata": {
        "id": "7kV6NYNfxZjk"
      },
      "source": [
        "# Pandas"
      ]
    },
    {
      "cell_type": "code",
      "execution_count": 15,
      "metadata": {
        "colab": {
          "base_uri": "https://localhost:8080/"
        },
        "id": "uv0jikEw2mIn",
        "outputId": "03fc7fbc-5d79-45bf-b9f9-c08cbf708d10"
      },
      "outputs": [
        {
          "name": "stdout",
          "output_type": "stream",
          "text": [
            "0    10\n",
            "1    20\n",
            "2    30\n",
            "dtype: int64\n"
          ]
        }
      ],
      "source": [
        "# pandas Series: 리스트나 넘파이 배열과 비슷합니다.\n",
        "\n",
        "s = pd.Series([10, 20, 30])\n",
        "print(s)"
      ]
    },
    {
      "cell_type": "code",
      "execution_count": 16,
      "metadata": {
        "colab": {
          "base_uri": "https://localhost:8080/"
        },
        "id": "0DMeRWR423m5",
        "outputId": "fa9c0fcd-458c-484f-90c6-eac18f466701"
      },
      "outputs": [
        {
          "name": "stdout",
          "output_type": "stream",
          "text": [
            "    Name  Age\n",
            "0  Alice   25\n",
            "1    Bob   30\n"
          ]
        }
      ],
      "source": [
        "# 판다스 데이터프레임 : 2차원 테이블 구조\n",
        "\n",
        "data1 = {'Name': ['Alice', 'Bob'], 'Age': [25, 30]}\n",
        "df = pd.DataFrame(data1)\n",
        "print(df)"
      ]
    },
    {
      "cell_type": "code",
      "execution_count": 19,
      "metadata": {
        "id": "7myOejp4CQ7V"
      },
      "outputs": [],
      "source": [
        "data2 = pd.DataFrame({'Planet': ['Earth', 'Mars', 'Jupyter', 'Saturn', 'Neptune'],\n",
        "          'Moons': [1, 2, 79, 83, 14],\n",
        "          'Diameter_km':[12472, 6779, 139820, 116460, 49244],\n",
        "          'Has_Rings': [False, False, True, True, True]})\n"
      ]
    },
    {
      "cell_type": "code",
      "execution_count": 20,
      "metadata": {
        "colab": {
          "base_uri": "https://localhost:8080/"
        },
        "id": "zoqxuJovDcML",
        "outputId": "ca0fe97e-19b1-482e-ce71-d38713a14d1e"
      },
      "outputs": [
        {
          "name": "stdout",
          "output_type": "stream",
          "text": [
            "0     1\n",
            "1     2\n",
            "2    79\n",
            "3    83\n",
            "4    14\n",
            "Name: Moons, dtype: int64\n",
            "    Planet  Moons  Diameter_km  Has_Rings\n",
            "2  Jupyter     79       139820       True\n",
            "3   Saturn     83       116460       True\n",
            "4  Neptune     14        49244       True\n",
            "    Planet  Moons  Diameter_km  Has_Rings  Moons_Per_Thousand\n",
            "0    Earth      1        12472      False            0.080180\n",
            "1     Mars      2         6779      False            0.295029\n",
            "2  Jupyter     79       139820       True            0.565012\n",
            "3   Saturn     83       116460       True            0.712691\n",
            "4  Neptune     14        49244       True            0.284299\n"
          ]
        }
      ],
      "source": [
        "# 데이터 선택과 필터링\n",
        "\n",
        "print(data2['Moons'])\n",
        "\n",
        "# 고리가 있는 행성만 선택\n",
        "print(data2[data2[\"Has_Rings\"] == True])\n",
        "\n",
        "# 새로운 열 추가\n",
        "data2[\"Moons_Per_Thousand\"] = data2[\"Moons\"] / (data2[\"Diameter_km\"] / 1000)\n",
        "\n",
        "print(data2)"
      ]
    },
    {
      "cell_type": "code",
      "execution_count": null,
      "metadata": {
        "colab": {
          "base_uri": "https://localhost:8080/"
        },
        "id": "ko6xbJOOEk-q",
        "outputId": "49b46a3e-bb9f-46f3-8530-d0f541c8e8f0"
      },
      "outputs": [
        {
          "name": "stdout",
          "output_type": "stream",
          "text": [
            "Planet                 Jupyter\n",
            "Moons                       79\n",
            "Diameter_km             139820\n",
            "Has_Rings                 True\n",
            "Moons_Per_Thousand    0.565012\n",
            "Name: 2, dtype: object\n",
            "79\n",
            "   Age\n",
            "1   30\n",
            "Planet                 Jupyter\n",
            "Moons                       79\n",
            "Diameter_km             139820\n",
            "Has_Rings                 True\n",
            "Moons_Per_Thousand    0.565012\n",
            "Name: 2, dtype: object\n",
            "79\n",
            "    Planet  Moons\n",
            "1     Mars      2\n",
            "2  Jupyter     79\n",
            "3   Saturn     83\n",
            "    Planet  Moons\n",
            "2  Jupyter     79\n",
            "3   Saturn     83\n",
            "    Planet  Moons\n",
            "2  Jupyter     79\n",
            "3   Saturn     83\n",
            "   Moons  Diameter_km\n",
            "0      1        12472\n",
            "1      2         6779\n",
            "2     79       139820\n",
            "   Moons  Diameter_km\n",
            "0      1        12472\n",
            "1      2         6779\n",
            "2     79       139820\n"
          ]
        }
      ],
      "source": [
        "# iloc 와 loc\n",
        "\n",
        "# iloc은 행과 열의 위치(숫자 인덱스)를 기준으로 데이터를 선택합니다.\n",
        "print(data2.iloc[2])\n",
        "print(data2.iloc[2, 1])\n",
        "print(df.iloc[1:4, 1:3])\n",
        "\n",
        "# loc는 행과 열의 이름(라벨)을 기준으로 데이터를 선택합니다.\n",
        "print(data2.loc[2])\n",
        "print(data2.loc[2, \"Moons\"])\n",
        "print(data2.loc[1:3, [\"Planet\", \"Moons\"]])\n",
        "\n",
        "# Q3. loc와 iloc를 이용해 다음 문제를 풀어봅시다.\n",
        "\n",
        "# 지름이 50,000km 이상인 행성의 이름과 위성 수 구하기\n",
        "result1 = data2.loc[data2[\"Diameter_km\"] >= 50000, [\"Planet\", \"Moons\"]]\n",
        "print(result1)\n",
        "idx = np.where(data2[\"Diameter_km\"] >= 50000)[0] #정수 인덱스 사용 \n",
        "print(data2.iloc[idx, [0, 1]])\n",
        "\n",
        "# 처음 3행과 2-3번째 열 구하기\n",
        "result3 = data2.iloc[0:3, 1:3]\n",
        "print(result3)\n",
        "result4 = data2.loc[0:2, [\"Moons\", \"Diameter_km\"]]\n",
        "print(result4)\n"
      ]
    },
    {
      "cell_type": "code",
      "execution_count": 23,
      "metadata": {
        "colab": {
          "base_uri": "https://localhost:8080/",
          "height": 206
        },
        "id": "wuKnCmWREAdd",
        "outputId": "326342a4-0b53-4b7b-f251-9e9de0a87bc8"
      },
      "outputs": [
        {
          "data": {
            "text/html": [
              "<div>\n",
              "<style scoped>\n",
              "    .dataframe tbody tr th:only-of-type {\n",
              "        vertical-align: middle;\n",
              "    }\n",
              "\n",
              "    .dataframe tbody tr th {\n",
              "        vertical-align: top;\n",
              "    }\n",
              "\n",
              "    .dataframe thead th {\n",
              "        text-align: right;\n",
              "    }\n",
              "</style>\n",
              "<table border=\"1\" class=\"dataframe\">\n",
              "  <thead>\n",
              "    <tr style=\"text-align: right;\">\n",
              "      <th></th>\n",
              "      <th>Planet</th>\n",
              "      <th>Moons</th>\n",
              "      <th>Diameter_km</th>\n",
              "      <th>Has_Rings</th>\n",
              "      <th>Moons_Per_Thousand</th>\n",
              "    </tr>\n",
              "  </thead>\n",
              "  <tbody>\n",
              "    <tr>\n",
              "      <th>0</th>\n",
              "      <td>Earth</td>\n",
              "      <td>1</td>\n",
              "      <td>12472</td>\n",
              "      <td>False</td>\n",
              "      <td>0.080180</td>\n",
              "    </tr>\n",
              "    <tr>\n",
              "      <th>1</th>\n",
              "      <td>Mars</td>\n",
              "      <td>2</td>\n",
              "      <td>6779</td>\n",
              "      <td>False</td>\n",
              "      <td>0.295029</td>\n",
              "    </tr>\n",
              "    <tr>\n",
              "      <th>2</th>\n",
              "      <td>Jupyter</td>\n",
              "      <td>79</td>\n",
              "      <td>139820</td>\n",
              "      <td>True</td>\n",
              "      <td>0.565012</td>\n",
              "    </tr>\n",
              "    <tr>\n",
              "      <th>3</th>\n",
              "      <td>Saturn</td>\n",
              "      <td>83</td>\n",
              "      <td>116460</td>\n",
              "      <td>True</td>\n",
              "      <td>0.712691</td>\n",
              "    </tr>\n",
              "    <tr>\n",
              "      <th>4</th>\n",
              "      <td>Neptune</td>\n",
              "      <td>14</td>\n",
              "      <td>49244</td>\n",
              "      <td>True</td>\n",
              "      <td>0.284299</td>\n",
              "    </tr>\n",
              "  </tbody>\n",
              "</table>\n",
              "</div>"
            ],
            "text/plain": [
              "    Planet  Moons  Diameter_km  Has_Rings  Moons_Per_Thousand\n",
              "0    Earth      1        12472      False            0.080180\n",
              "1     Mars      2         6779      False            0.295029\n",
              "2  Jupyter     79       139820       True            0.565012\n",
              "3   Saturn     83       116460       True            0.712691\n",
              "4  Neptune     14        49244       True            0.284299"
            ]
          },
          "execution_count": 23,
          "metadata": {},
          "output_type": "execute_result"
        }
      ],
      "source": [
        "# 데이터 정렬\n",
        "\n",
        "data3 = data2.sort_values(by=\"Moons\", ascending=False)\n",
        "\n",
        "data3.sort_index()"
      ]
    },
    {
      "cell_type": "markdown",
      "metadata": {
        "id": "Ske72HNS3goM"
      },
      "source": [
        "# 데이터 탐색(iris)"
      ]
    },
    {
      "cell_type": "markdown",
      "metadata": {
        "id": "h929-pi_3fAQ"
      },
      "source": [
        "`iris` 데이터\n",
        "\n",
        "- sepal_length: 꽃받침 길이\n",
        "- sepal_width: 꽃받침 너비\n",
        "- petal_length: 꽃잎 길이\n",
        "- petal_width: 꽃잎 너비\n",
        "- species: 붓꽃 종 (setosa, versicolor, virginica)"
      ]
    },
    {
      "cell_type": "code",
      "execution_count": null,
      "metadata": {
        "id": "FoQyWy-y0W-S"
      },
      "outputs": [],
      "source": [
        "# 실제로는 read_csv()를 이용해 파일을 많이 불러옵니다(데이터 형식에 따라 달라짐)\n",
        "\n",
        "# iris = pd.read_csv(\"\\파일이 있는 경로\\\")"
      ]
    },
    {
      "cell_type": "code",
      "execution_count": 24,
      "metadata": {
        "colab": {
          "base_uri": "https://localhost:8080/",
          "height": 424
        },
        "id": "ZW-1nxf0t7Sm",
        "outputId": "bf49b489-f09f-42fb-b4d8-46b605a6b415"
      },
      "outputs": [
        {
          "data": {
            "text/html": [
              "<div>\n",
              "<style scoped>\n",
              "    .dataframe tbody tr th:only-of-type {\n",
              "        vertical-align: middle;\n",
              "    }\n",
              "\n",
              "    .dataframe tbody tr th {\n",
              "        vertical-align: top;\n",
              "    }\n",
              "\n",
              "    .dataframe thead th {\n",
              "        text-align: right;\n",
              "    }\n",
              "</style>\n",
              "<table border=\"1\" class=\"dataframe\">\n",
              "  <thead>\n",
              "    <tr style=\"text-align: right;\">\n",
              "      <th></th>\n",
              "      <th>sepal_length</th>\n",
              "      <th>sepal_width</th>\n",
              "      <th>petal_length</th>\n",
              "      <th>petal_width</th>\n",
              "      <th>species</th>\n",
              "    </tr>\n",
              "  </thead>\n",
              "  <tbody>\n",
              "    <tr>\n",
              "      <th>0</th>\n",
              "      <td>5.1</td>\n",
              "      <td>3.5</td>\n",
              "      <td>1.4</td>\n",
              "      <td>0.2</td>\n",
              "      <td>setosa</td>\n",
              "    </tr>\n",
              "    <tr>\n",
              "      <th>1</th>\n",
              "      <td>4.9</td>\n",
              "      <td>3.0</td>\n",
              "      <td>1.4</td>\n",
              "      <td>0.2</td>\n",
              "      <td>setosa</td>\n",
              "    </tr>\n",
              "    <tr>\n",
              "      <th>2</th>\n",
              "      <td>4.7</td>\n",
              "      <td>3.2</td>\n",
              "      <td>1.3</td>\n",
              "      <td>0.2</td>\n",
              "      <td>setosa</td>\n",
              "    </tr>\n",
              "    <tr>\n",
              "      <th>3</th>\n",
              "      <td>4.6</td>\n",
              "      <td>3.1</td>\n",
              "      <td>1.5</td>\n",
              "      <td>0.2</td>\n",
              "      <td>setosa</td>\n",
              "    </tr>\n",
              "    <tr>\n",
              "      <th>4</th>\n",
              "      <td>5.0</td>\n",
              "      <td>3.6</td>\n",
              "      <td>1.4</td>\n",
              "      <td>0.2</td>\n",
              "      <td>setosa</td>\n",
              "    </tr>\n",
              "    <tr>\n",
              "      <th>...</th>\n",
              "      <td>...</td>\n",
              "      <td>...</td>\n",
              "      <td>...</td>\n",
              "      <td>...</td>\n",
              "      <td>...</td>\n",
              "    </tr>\n",
              "    <tr>\n",
              "      <th>145</th>\n",
              "      <td>6.7</td>\n",
              "      <td>3.0</td>\n",
              "      <td>5.2</td>\n",
              "      <td>2.3</td>\n",
              "      <td>virginica</td>\n",
              "    </tr>\n",
              "    <tr>\n",
              "      <th>146</th>\n",
              "      <td>6.3</td>\n",
              "      <td>2.5</td>\n",
              "      <td>5.0</td>\n",
              "      <td>1.9</td>\n",
              "      <td>virginica</td>\n",
              "    </tr>\n",
              "    <tr>\n",
              "      <th>147</th>\n",
              "      <td>6.5</td>\n",
              "      <td>3.0</td>\n",
              "      <td>5.2</td>\n",
              "      <td>2.0</td>\n",
              "      <td>virginica</td>\n",
              "    </tr>\n",
              "    <tr>\n",
              "      <th>148</th>\n",
              "      <td>6.2</td>\n",
              "      <td>3.4</td>\n",
              "      <td>5.4</td>\n",
              "      <td>2.3</td>\n",
              "      <td>virginica</td>\n",
              "    </tr>\n",
              "    <tr>\n",
              "      <th>149</th>\n",
              "      <td>5.9</td>\n",
              "      <td>3.0</td>\n",
              "      <td>5.1</td>\n",
              "      <td>1.8</td>\n",
              "      <td>virginica</td>\n",
              "    </tr>\n",
              "  </tbody>\n",
              "</table>\n",
              "<p>150 rows × 5 columns</p>\n",
              "</div>"
            ],
            "text/plain": [
              "     sepal_length  sepal_width  petal_length  petal_width    species\n",
              "0             5.1          3.5           1.4          0.2     setosa\n",
              "1             4.9          3.0           1.4          0.2     setosa\n",
              "2             4.7          3.2           1.3          0.2     setosa\n",
              "3             4.6          3.1           1.5          0.2     setosa\n",
              "4             5.0          3.6           1.4          0.2     setosa\n",
              "..            ...          ...           ...          ...        ...\n",
              "145           6.7          3.0           5.2          2.3  virginica\n",
              "146           6.3          2.5           5.0          1.9  virginica\n",
              "147           6.5          3.0           5.2          2.0  virginica\n",
              "148           6.2          3.4           5.4          2.3  virginica\n",
              "149           5.9          3.0           5.1          1.8  virginica\n",
              "\n",
              "[150 rows x 5 columns]"
            ]
          },
          "execution_count": 24,
          "metadata": {},
          "output_type": "execute_result"
        }
      ],
      "source": [
        "iris = sns.load_dataset('iris')\n",
        "iris"
      ]
    },
    {
      "cell_type": "code",
      "execution_count": 25,
      "metadata": {
        "colab": {
          "base_uri": "https://localhost:8080/",
          "height": 206
        },
        "id": "U6teMmUryoEW",
        "outputId": "6e4b6e5a-072e-40a1-9ba3-16cf103c7e03"
      },
      "outputs": [
        {
          "data": {
            "text/html": [
              "<div>\n",
              "<style scoped>\n",
              "    .dataframe tbody tr th:only-of-type {\n",
              "        vertical-align: middle;\n",
              "    }\n",
              "\n",
              "    .dataframe tbody tr th {\n",
              "        vertical-align: top;\n",
              "    }\n",
              "\n",
              "    .dataframe thead th {\n",
              "        text-align: right;\n",
              "    }\n",
              "</style>\n",
              "<table border=\"1\" class=\"dataframe\">\n",
              "  <thead>\n",
              "    <tr style=\"text-align: right;\">\n",
              "      <th></th>\n",
              "      <th>sepal_length</th>\n",
              "      <th>sepal_width</th>\n",
              "      <th>petal_length</th>\n",
              "      <th>petal_width</th>\n",
              "      <th>species</th>\n",
              "    </tr>\n",
              "  </thead>\n",
              "  <tbody>\n",
              "    <tr>\n",
              "      <th>0</th>\n",
              "      <td>5.1</td>\n",
              "      <td>3.5</td>\n",
              "      <td>1.4</td>\n",
              "      <td>0.2</td>\n",
              "      <td>setosa</td>\n",
              "    </tr>\n",
              "    <tr>\n",
              "      <th>1</th>\n",
              "      <td>4.9</td>\n",
              "      <td>3.0</td>\n",
              "      <td>1.4</td>\n",
              "      <td>0.2</td>\n",
              "      <td>setosa</td>\n",
              "    </tr>\n",
              "    <tr>\n",
              "      <th>2</th>\n",
              "      <td>4.7</td>\n",
              "      <td>3.2</td>\n",
              "      <td>1.3</td>\n",
              "      <td>0.2</td>\n",
              "      <td>setosa</td>\n",
              "    </tr>\n",
              "    <tr>\n",
              "      <th>3</th>\n",
              "      <td>4.6</td>\n",
              "      <td>3.1</td>\n",
              "      <td>1.5</td>\n",
              "      <td>0.2</td>\n",
              "      <td>setosa</td>\n",
              "    </tr>\n",
              "    <tr>\n",
              "      <th>4</th>\n",
              "      <td>5.0</td>\n",
              "      <td>3.6</td>\n",
              "      <td>1.4</td>\n",
              "      <td>0.2</td>\n",
              "      <td>setosa</td>\n",
              "    </tr>\n",
              "  </tbody>\n",
              "</table>\n",
              "</div>"
            ],
            "text/plain": [
              "   sepal_length  sepal_width  petal_length  petal_width species\n",
              "0           5.1          3.5           1.4          0.2  setosa\n",
              "1           4.9          3.0           1.4          0.2  setosa\n",
              "2           4.7          3.2           1.3          0.2  setosa\n",
              "3           4.6          3.1           1.5          0.2  setosa\n",
              "4           5.0          3.6           1.4          0.2  setosa"
            ]
          },
          "execution_count": 25,
          "metadata": {},
          "output_type": "execute_result"
        }
      ],
      "source": [
        "iris.head()"
      ]
    },
    {
      "cell_type": "code",
      "execution_count": 26,
      "metadata": {
        "colab": {
          "base_uri": "https://localhost:8080/"
        },
        "id": "ynPVB2da-Hzl",
        "outputId": "c0ba1804-a39d-4ed7-ae4b-57cb85224e5c"
      },
      "outputs": [
        {
          "name": "stdout",
          "output_type": "stream",
          "text": [
            "<class 'pandas.core.frame.DataFrame'>\n",
            "RangeIndex: 150 entries, 0 to 149\n",
            "Data columns (total 5 columns):\n",
            " #   Column        Non-Null Count  Dtype  \n",
            "---  ------        --------------  -----  \n",
            " 0   sepal_length  150 non-null    float64\n",
            " 1   sepal_width   150 non-null    float64\n",
            " 2   petal_length  150 non-null    float64\n",
            " 3   petal_width   150 non-null    float64\n",
            " 4   species       150 non-null    object \n",
            "dtypes: float64(4), object(1)\n",
            "memory usage: 6.0+ KB\n"
          ]
        }
      ],
      "source": [
        "# 데이터 타입\n",
        "iris.info()"
      ]
    },
    {
      "cell_type": "code",
      "execution_count": 27,
      "metadata": {
        "colab": {
          "base_uri": "https://localhost:8080/",
          "height": 300
        },
        "id": "6jwU3Cj8-LSB",
        "outputId": "f5722c8f-8d3d-4615-8d6a-a2b466f2ea0e"
      },
      "outputs": [
        {
          "data": {
            "text/html": [
              "<div>\n",
              "<style scoped>\n",
              "    .dataframe tbody tr th:only-of-type {\n",
              "        vertical-align: middle;\n",
              "    }\n",
              "\n",
              "    .dataframe tbody tr th {\n",
              "        vertical-align: top;\n",
              "    }\n",
              "\n",
              "    .dataframe thead th {\n",
              "        text-align: right;\n",
              "    }\n",
              "</style>\n",
              "<table border=\"1\" class=\"dataframe\">\n",
              "  <thead>\n",
              "    <tr style=\"text-align: right;\">\n",
              "      <th></th>\n",
              "      <th>sepal_length</th>\n",
              "      <th>sepal_width</th>\n",
              "      <th>petal_length</th>\n",
              "      <th>petal_width</th>\n",
              "    </tr>\n",
              "  </thead>\n",
              "  <tbody>\n",
              "    <tr>\n",
              "      <th>count</th>\n",
              "      <td>150.000000</td>\n",
              "      <td>150.000000</td>\n",
              "      <td>150.000000</td>\n",
              "      <td>150.000000</td>\n",
              "    </tr>\n",
              "    <tr>\n",
              "      <th>mean</th>\n",
              "      <td>5.843333</td>\n",
              "      <td>3.057333</td>\n",
              "      <td>3.758000</td>\n",
              "      <td>1.199333</td>\n",
              "    </tr>\n",
              "    <tr>\n",
              "      <th>std</th>\n",
              "      <td>0.828066</td>\n",
              "      <td>0.435866</td>\n",
              "      <td>1.765298</td>\n",
              "      <td>0.762238</td>\n",
              "    </tr>\n",
              "    <tr>\n",
              "      <th>min</th>\n",
              "      <td>4.300000</td>\n",
              "      <td>2.000000</td>\n",
              "      <td>1.000000</td>\n",
              "      <td>0.100000</td>\n",
              "    </tr>\n",
              "    <tr>\n",
              "      <th>25%</th>\n",
              "      <td>5.100000</td>\n",
              "      <td>2.800000</td>\n",
              "      <td>1.600000</td>\n",
              "      <td>0.300000</td>\n",
              "    </tr>\n",
              "    <tr>\n",
              "      <th>50%</th>\n",
              "      <td>5.800000</td>\n",
              "      <td>3.000000</td>\n",
              "      <td>4.350000</td>\n",
              "      <td>1.300000</td>\n",
              "    </tr>\n",
              "    <tr>\n",
              "      <th>75%</th>\n",
              "      <td>6.400000</td>\n",
              "      <td>3.300000</td>\n",
              "      <td>5.100000</td>\n",
              "      <td>1.800000</td>\n",
              "    </tr>\n",
              "    <tr>\n",
              "      <th>max</th>\n",
              "      <td>7.900000</td>\n",
              "      <td>4.400000</td>\n",
              "      <td>6.900000</td>\n",
              "      <td>2.500000</td>\n",
              "    </tr>\n",
              "  </tbody>\n",
              "</table>\n",
              "</div>"
            ],
            "text/plain": [
              "       sepal_length  sepal_width  petal_length  petal_width\n",
              "count    150.000000   150.000000    150.000000   150.000000\n",
              "mean       5.843333     3.057333      3.758000     1.199333\n",
              "std        0.828066     0.435866      1.765298     0.762238\n",
              "min        4.300000     2.000000      1.000000     0.100000\n",
              "25%        5.100000     2.800000      1.600000     0.300000\n",
              "50%        5.800000     3.000000      4.350000     1.300000\n",
              "75%        6.400000     3.300000      5.100000     1.800000\n",
              "max        7.900000     4.400000      6.900000     2.500000"
            ]
          },
          "execution_count": 27,
          "metadata": {},
          "output_type": "execute_result"
        }
      ],
      "source": [
        "# 요약통계량\n",
        "iris.describe()"
      ]
    },
    {
      "cell_type": "code",
      "execution_count": 28,
      "metadata": {
        "colab": {
          "base_uri": "https://localhost:8080/"
        },
        "id": "nlHoK7AV-Nbu",
        "outputId": "1a6fe098-3382-4665-b74e-71b656c8cf98"
      },
      "outputs": [
        {
          "data": {
            "text/plain": [
              "(150, 5)"
            ]
          },
          "execution_count": 28,
          "metadata": {},
          "output_type": "execute_result"
        }
      ],
      "source": [
        "# dimension\n",
        "iris.shape"
      ]
    },
    {
      "cell_type": "code",
      "execution_count": 29,
      "metadata": {
        "colab": {
          "base_uri": "https://localhost:8080/"
        },
        "id": "TtVGAsq41TlH",
        "outputId": "84356eed-f480-407a-8358-0cc58143e7f0"
      },
      "outputs": [
        {
          "name": "stdout",
          "output_type": "stream",
          "text": [
            "species\n",
            "setosa        50\n",
            "versicolor    50\n",
            "virginica     50\n",
            "Name: count, dtype: int64\n"
          ]
        }
      ],
      "source": [
        "# species의 분포 확인\n",
        "value_counts = iris['species'].value_counts()\n",
        "print(value_counts)"
      ]
    },
    {
      "cell_type": "code",
      "execution_count": 30,
      "metadata": {
        "colab": {
          "base_uri": "https://localhost:8080/",
          "height": 241
        },
        "id": "2Xm0ju0q-cBr",
        "outputId": "976bce94-cbac-4ef5-c29e-c3c4765bd3d8"
      },
      "outputs": [
        {
          "data": {
            "text/plain": [
              "sepal_length    0\n",
              "sepal_width     0\n",
              "petal_length    0\n",
              "petal_width     0\n",
              "species         0\n",
              "dtype: int64"
            ]
          },
          "execution_count": 30,
          "metadata": {},
          "output_type": "execute_result"
        }
      ],
      "source": [
        "# 결측치\n",
        "iris.isna().sum()"
      ]
    },
    {
      "cell_type": "markdown",
      "metadata": {
        "id": "fXKibg3v1kHt"
      },
      "source": [
        "# 시각화"
      ]
    },
    {
      "cell_type": "code",
      "execution_count": 31,
      "metadata": {
        "colab": {
          "base_uri": "https://localhost:8080/",
          "height": 927
        },
        "id": "OqN0_dJg-xDt",
        "outputId": "ed3ee0a0-62aa-421d-846f-6e92d42b429e"
      },
      "outputs": [
        {
          "data": {
            "text/plain": [
              "array([[<Axes: title={'center': 'sepal_length'}>,\n",
              "        <Axes: title={'center': 'sepal_width'}>],\n",
              "       [<Axes: title={'center': 'petal_length'}>,\n",
              "        <Axes: title={'center': 'petal_width'}>]], dtype=object)"
            ]
          },
          "execution_count": 31,
          "metadata": {},
          "output_type": "execute_result"
        },
        {
          "data": {
            "image/png": "[encoded data removed]",
            "text/plain": [
              "<Figure size 1000x1000 with 4 Axes>"
            ]
          },
          "metadata": {},
          "output_type": "display_data"
        }
      ],
      "source": [
        "# 히스토그램\n",
        "iris.hist(figsize = (10, 10))"
      ]
    },
    {
      "cell_type": "code",
      "execution_count": 32,
      "metadata": {
        "colab": {
          "base_uri": "https://localhost:8080/",
          "height": 468
        },
        "id": "sTarqmg_Bl-0",
        "outputId": "ee63b232-eff7-471f-837e-fdf673796deb"
      },
      "outputs": [
        {
          "data": {
            "text/plain": [
              "<Axes: xlabel='petal_length', ylabel='petal_width'>"
            ]
          },
          "execution_count": 32,
          "metadata": {},
          "output_type": "execute_result"
        },
        {
          "data": {
            "image/png": "[encoded data removed]",
            "text/plain": [
              "<Figure size 640x480 with 1 Axes>"
            ]
          },
          "metadata": {},
          "output_type": "display_data"
        }
      ],
      "source": [
        "# 산점도\n",
        "sns.scatterplot(x='petal_length', y='petal_width', data=iris)"
      ]
    },
    {
      "cell_type": "code",
      "execution_count": 33,
      "metadata": {
        "colab": {
          "base_uri": "https://localhost:8080/",
          "height": 485
        },
        "id": "K8FKFXpv-8eq",
        "outputId": "bcc46f0b-5ff9-45fd-ad11-fdd33b792d06"
      },
      "outputs": [
        {
          "data": {
            "image/png": "[encoded data removed]",
            "text/plain": [
              "<Figure size 640x480 with 1 Axes>"
            ]
          },
          "metadata": {},
          "output_type": "display_data"
        }
      ],
      "source": [
        "# 그룹 산점도 - matplotlib\n",
        "groups = iris.groupby('species')\n",
        "fig, ax = plt.subplots() # 중요\n",
        "for name, group in groups:\n",
        "  ax.plot(group.petal_length,\n",
        "          group.petal_width,\n",
        "          marker='o',\n",
        "          linestyle='', label=name)\n",
        "ax.legend(fontsize=12, loc='upper left') # legend position\n",
        "plt.title('Scatter Plot of iris by matplotlib', fontsize=20)\n",
        "plt.xlabel('Petal Length', fontsize=14)\n",
        "plt.ylabel('Petal Width', fontsize=14)\n",
        "plt.show()"
      ]
    },
    {
      "cell_type": "code",
      "execution_count": 34,
      "metadata": {
        "colab": {
          "base_uri": "https://localhost:8080/",
          "height": 468
        },
        "id": "WJOKTiuDAgkA",
        "outputId": "26cba2a0-e545-45c4-a837-4ef59000309b"
      },
      "outputs": [
        {
          "data": {
            "text/plain": [
              "<Axes: xlabel='petal_length', ylabel='petal_width'>"
            ]
          },
          "execution_count": 34,
          "metadata": {},
          "output_type": "execute_result"
        },
        {
          "data": {
            "image/png": "[encoded data removed]",
            "text/plain": [
              "<Figure size 640x480 with 1 Axes>"
            ]
          },
          "metadata": {},
          "output_type": "display_data"
        }
      ],
      "source": [
        "# 그룹 산점도 - seaborn\n",
        "sns.scatterplot(x=\"petal_length\", y=\"petal_width\", data=iris, hue=\"species\")"
      ]
    },
    {
      "cell_type": "code",
      "execution_count": null,
      "metadata": {
        "id": "0Kwx9Y_K8_RZ"
      },
      "outputs": [],
      "source": [
        "# Q4. matplotlib, seaborn의 다양한 기능을 이용하여 더 많은 EDA를 수행해 봅시다."
      ]
    },
    {
      "cell_type": "code",
      "execution_count": 35,
      "metadata": {
        "id": "JV2Vpld39XJS"
      },
      "outputs": [
        {
          "data": {
            "image/png": "[encoded data removed]",
            "text/plain": [
              "<Figure size 800x600 with 2 Axes>"
            ]
          },
          "metadata": {},
          "output_type": "display_data"
        }
      ],
      "source": [
        "# 상관관계 분석\n",
        "\n",
        "plt.figure(figsize=(8, 6))\n",
        "sns.heatmap(iris.corr(numeric_only=True), annot=True, cmap='coolwarm', fmt=\".2f\")\n",
        "plt.title('Correlation Matrix of Iris Features')\n",
        "plt.show()\n",
        "\n",
        "\n"
      ]
    },
    {
      "cell_type": "code",
      "execution_count": 36,
      "metadata": {
        "id": "_yPpLQ5X9ZIS"
      },
      "outputs": [
        {
          "data": {
            "image/png": "[encoded data removed]",
            "text/plain": [
              "<Figure size 1000x600 with 1 Axes>"
            ]
          },
          "metadata": {},
          "output_type": "display_data"
        }
      ],
      "source": [
        "# 상자그림(boxplot)\n",
        "\n",
        "plt.figure(figsize=(10, 6))\n",
        "sns.boxplot(data=iris.iloc[:, :-1])  # 마지막 열은 범주형이므로 제외\n",
        "plt.title('Boxplot of Iris Numerical Features')\n",
        "plt.xticks(rotation=45)\n",
        "plt.show()\n",
        "\n",
        "\n"
      ]
    },
    {
      "cell_type": "markdown",
      "metadata": {
        "id": "ZsayZeGY9cMB"
      },
      "source": [
        "기타 자유롭게 자신만의 EDA를 수행해 주세요 (optional)"
      ]
    },
    {
      "cell_type": "code",
      "execution_count": null,
      "metadata": {
        "id": "Hf_TA40a9q0A"
      },
      "outputs": [
        {
          "data": {
            "image/png": "[encoded data removed]",
            "text/plain": [
              "<Figure size 1000x600 with 1 Axes>"
            ]
          },
          "metadata": {},
          "output_type": "display_data"
        }
      ],
      "source": [
        "\n",
        "#species에 따른 boxplot \n",
        "plt.figure(figsize=(10, 6))\n",
        "sns.boxplot(x=\"species\", y=\"sepal_length\", data=iris)\n",
        "plt.title('Sepal Length by Species')\n",
        "plt.show()\n"
      ]
    }
  ],
  "metadata": {
    "colab": {
      "provenance": []
    },
    "kernelspec": {
      "display_name": "base",
      "language": "python",
      "name": "python3"
    },
    "language_info": {
      "codemirror_mode": {
        "name": "ipython",
        "version": 3
      },
      "file_extension": ".py",
      "mimetype": "text/x-python",
      "name": "python",
      "nbconvert_exporter": "python",
      "pygments_lexer": "ipython3",
      "version": "3.11.5"
    }
  },
  "nbformat": 4,
  "nbformat_minor": 0
}
