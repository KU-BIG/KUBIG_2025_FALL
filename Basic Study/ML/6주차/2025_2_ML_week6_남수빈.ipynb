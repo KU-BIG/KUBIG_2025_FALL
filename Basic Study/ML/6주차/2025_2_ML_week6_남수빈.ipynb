{
  "cells": [
    {
      "cell_type": "markdown",
      "metadata": {
        "id": "h1124XBSwJ8b"
      },
      "source": [
        "# Week 6 (Tree-based Models)"
      ]
    },
    {
      "cell_type": "markdown",
      "metadata": {
        "id": "bup3dZDXbF6M"
      },
      "source": [
        "## 2.1. Decision Tree"
      ]
    },
    {
      "cell_type": "code",
      "execution_count": 23,
      "metadata": {
        "id": "nGkGHN-MbF6M"
      },
      "outputs": [],
      "source": [
        "import pandas as pd\n",
        "import numpy as np\n",
        "import matplotlib.pyplot as plt\n",
        "import graphviz\n",
        "from sklearn.tree import DecisionTreeClassifier, export_graphviz\n",
        "from sklearn import datasets\n",
        "from sklearn.model_selection import train_test_split"
      ]
    },
    {
      "cell_type": "code",
      "execution_count": 24,
      "metadata": {
        "id": "V8egue4ZbF6M"
      },
      "outputs": [],
      "source": [
        "# 데이터 로드 및 전처리\n",
        "iris = datasets.load_iris()\n",
        "X = pd.DataFrame(iris.data, columns=iris.feature_names)\n",
        "y = iris.target\n",
        "\n",
        "# 훈련/테스트 데이터 분할\n",
        "X_train, X_test, y_train, y_test = train_test_split(X, y, test_size=0.2, random_state=42)"
      ]
    },
    {
      "cell_type": "markdown",
      "metadata": {
        "id": "MmihJKtfbF6M"
      },
      "source": [
        "### Q1.1 max_depth 파라미터를 변경하면 트리의 구조와 성능이 어떻게 변할까요?"
      ]
    },
    {
      "cell_type": "markdown",
      "source": [
        "depth가 커질수록 정확도는 올라가는데, 5 이상부터는 정확도가 더 높아지지 않음"
      ],
      "metadata": {
        "id": "5oRQCRKcu-ix"
      }
    },
    {
      "cell_type": "code",
      "execution_count": 25,
      "metadata": {
        "id": "6tWXkDpGbF6M",
        "outputId": "2625f6a8-f464-4707-a33d-4462f0d33ab0",
        "colab": {
          "base_uri": "https://localhost:8080/"
        }
      },
      "outputs": [
        {
          "output_type": "stream",
          "name": "stdout",
          "text": [
            "Train Accuracy: 0.95\n",
            "Test Accuracy: 1.0\n"
          ]
        }
      ],
      "source": [
        "from sklearn.metrics import accuracy_score\n",
        "\n",
        "# 결정 트리 모델 생성 및 학습\n",
        "tree_model = DecisionTreeClassifier(criterion=\"gini\", max_depth=3, min_samples_leaf=2, random_state=42)\n",
        "tree_model.fit(X_train, y_train)\n",
        "y_pred_train = tree_model.predict(X_train)\n",
        "y_pred_test = tree_model.predict(X_test)\n",
        "\n",
        "print(\"Train Accuracy:\", accuracy_score(y_train, y_pred_train))\n",
        "print(\"Test Accuracy:\", accuracy_score(y_test, y_pred_test))"
      ]
    },
    {
      "cell_type": "code",
      "source": [
        "tree_model = DecisionTreeClassifier(criterion=\"gini\", max_depth=5, min_samples_leaf=2, random_state=42)\n",
        "tree_model.fit(X_train, y_train)\n",
        "y_pred_train = tree_model.predict(X_train)\n",
        "y_pred_test = tree_model.predict(X_test)\n",
        "\n",
        "print(\"Train Accuracy:\", accuracy_score(y_train, y_pred_train))\n",
        "print(\"Test Accuracy:\", accuracy_score(y_test, y_pred_test))"
      ],
      "metadata": {
        "colab": {
          "base_uri": "https://localhost:8080/"
        },
        "id": "uZNKb8arutpp",
        "outputId": "3496b141-9de8-43e6-cc16-e1de5cb8448c"
      },
      "execution_count": 26,
      "outputs": [
        {
          "output_type": "stream",
          "name": "stdout",
          "text": [
            "Train Accuracy: 0.975\n",
            "Test Accuracy: 1.0\n"
          ]
        }
      ]
    },
    {
      "cell_type": "code",
      "source": [
        "tree_model = DecisionTreeClassifier(criterion=\"gini\", max_depth=4, min_samples_leaf=2, random_state=42)\n",
        "tree_model.fit(X_train, y_train)\n",
        "y_pred_train = tree_model.predict(X_train)\n",
        "y_pred_test = tree_model.predict(X_test)\n",
        "\n",
        "print(\"Train Accuracy:\", accuracy_score(y_train, y_pred_train))\n",
        "print(\"Test Accuracy:\", accuracy_score(y_test, y_pred_test))"
      ],
      "metadata": {
        "colab": {
          "base_uri": "https://localhost:8080/"
        },
        "id": "B4RUX-Pgu0Yu",
        "outputId": "479a291c-85b5-465c-a732-bb71082ae2c9"
      },
      "execution_count": 32,
      "outputs": [
        {
          "output_type": "stream",
          "name": "stdout",
          "text": [
            "Train Accuracy: 0.9666666666666667\n",
            "Test Accuracy: 1.0\n"
          ]
        }
      ]
    },
    {
      "cell_type": "code",
      "source": [
        "# 파라미터 후보 설정\n",
        "max_depths = [2, 4, 6, 8, 10, None]\n",
        "min_samples_splits = [2, 5, 10, 20]\n",
        "min_samples_leafs = [1, 2, 5, 10]\n",
        "\n",
        "results = []\n",
        "\n",
        "for depth in max_depths:\n",
        "    for split in min_samples_splits:\n",
        "        for leaf in min_samples_leafs:\n",
        "            model = DecisionTreeClassifier(\n",
        "                max_depth=depth,\n",
        "                min_samples_split=split,\n",
        "                min_samples_leaf=leaf,\n",
        "                random_state=42\n",
        "            )\n",
        "\n",
        "            # 학습\n",
        "            model.fit(X_train, y_train)\n",
        "\n",
        "            # 예측\n",
        "            y_pred_train = model.predict(X_train)\n",
        "            y_pred_test = model.predict(X_test)\n",
        "\n",
        "            # 성능 저장\n",
        "            results.append({\n",
        "                \"max_depth\": depth,\n",
        "                \"min_samples_split\": split,\n",
        "                \"min_samples_leaf\": leaf,\n",
        "                \"train_acc\": accuracy_score(y_train, y_pred_train),\n",
        "                \"test_acc\": accuracy_score(y_test, y_pred_test)\n",
        "            })\n",
        "\n",
        "# 결과를 DataFrame으로 보기 좋게 정리\n",
        "import pandas as pd\n",
        "df_results = pd.DataFrame(results)\n",
        "print(df_results.sort_values(by=\"test_acc\", ascending=False).head(10))\n",
        "\n",
        "# 시각화 (예: max_depth별 성능 비교)\n",
        "plt.plot(df_results.groupby(\"max_depth\")[\"train_acc\"].mean(), label=\"Train\")\n",
        "plt.plot(df_results.groupby(\"max_depth\")[\"test_acc\"].mean(), label=\"Test\")\n",
        "plt.xlabel(\"max_depth\")\n",
        "plt.ylabel(\"Accuracy\")\n",
        "plt.title(\"Effect of max_depth on Decision Tree Performance\")\n",
        "plt.legend()\n",
        "plt.show()\n"
      ],
      "metadata": {
        "colab": {
          "base_uri": "https://localhost:8080/",
          "height": 674
        },
        "id": "z2OTfpX95rE9",
        "outputId": "abd1a9ab-c368-4507-a7d7-5c43242b236f"
      },
      "execution_count": 4,
      "outputs": [
        {
          "output_type": "stream",
          "name": "stdout",
          "text": [
            "    max_depth  min_samples_split  min_samples_leaf  train_acc  test_acc\n",
            "24        4.0                 10                 1   0.958333       1.0\n",
            "25        4.0                 10                 2   0.950000       1.0\n",
            "21        4.0                  5                 2   0.966667       1.0\n",
            "22        4.0                  5                 5   0.950000       1.0\n",
            "28        4.0                 20                 1   0.958333       1.0\n",
            "26        4.0                 10                 5   0.950000       1.0\n",
            "29        4.0                 20                 2   0.950000       1.0\n",
            "30        4.0                 20                 5   0.950000       1.0\n",
            "20        4.0                  5                 1   0.975000       1.0\n",
            "18        4.0                  2                 5   0.950000       1.0\n"
          ]
        },
        {
          "output_type": "display_data",
          "data": {
            "text/plain": [
              "<Figure size 640x480 with 1 Axes>"
            ],
            "image/png": "[encoded data removed]"
          },
          "metadata": {}
        }
      ]
    },
    {
      "cell_type": "markdown",
      "metadata": {
        "id": "P6kMzPwxbF6M"
      },
      "source": [
        "### Q1.2 'gini'와 'entropy' 기준의 차이는 무엇이며, 결과에 어떤 영향을 미칠까요?"
      ]
    },
    {
      "cell_type": "markdown",
      "metadata": {
        "id": "efsLMbwibF6a"
      },
      "source": [
        "노드 분할 시 불순도를 계산하는 방식 두 가지\n",
        "1. gini ; 무작위로 하나를 뽑았을 때 잘못 분류되었을 확률. 이진분류시 0~ 0.5의 값을 가짐. 약간 빠름\n",
        "2. entropy ; 정보이론에 기반하여 (이진분류시) 0~1의 값을 가짐 .클래스 불균형에 더 민감\n",
        "-> 둘 모두 결과에 큰 차이 없음"
      ]
    },
    {
      "cell_type": "markdown",
      "metadata": {
        "id": "yxJXeIFAbF6a"
      },
      "source": [
        "### Q1.3 각 노드의 분할 기준 어떻게 되는지 설명해보세요."
      ]
    },
    {
      "cell_type": "code",
      "execution_count": 5,
      "metadata": {
        "id": "phHLZdqpbF6a"
      },
      "outputs": [],
      "source": [
        "# 트리 시각화 (Graphviz)\n",
        "dot_data = export_graphviz(\n",
        "    tree_model,\n",
        "    out_file=None,\n",
        "    feature_names=X.columns,\n",
        "    class_names=iris.target_names,\n",
        "    filled=True,\n",
        "    rounded=True,\n",
        "    special_characters=True\n",
        ")"
      ]
    },
    {
      "cell_type": "code",
      "execution_count": 6,
      "metadata": {
        "id": "w3eVTvTdbF6a",
        "colab": {
          "base_uri": "https://localhost:8080/",
          "height": 598
        },
        "outputId": "6a0119dc-b5c0-4aa8-ed91-6eccd330f9f3"
      },
      "outputs": [
        {
          "output_type": "execute_result",
          "data": {
            "image/svg+xml": "<?xml version=\"1.0\" encoding=\"UTF-8\" standalone=\"no\"?>\n<!DOCTYPE svg PUBLIC \"-//W3C//DTD SVG 1.1//EN\"\n \"http://www.w3.org/Graphics/SVG/1.1/DTD/svg11.dtd\">\n<!-- Generated by graphviz version 2.43.0 (0)\n -->\n<!-- Title: Tree Pages: 1 -->\n<svg width=\"558pt\" height=\"433pt\"\n viewBox=\"0.00 0.00 558.00 433.00\" xmlns=\"http://www.w3.org/2000/svg\" xmlns:xlink=\"http://www.w3.org/1999/xlink\">\n<g id=\"graph0\" class=\"graph\" transform=\"scale(1 1) rotate(0) translate(4 429)\">\n<title>Tree</title>\n<polygon fill=\"white\" stroke=\"transparent\" points=\"-4,4 -4,-429 554,-429 554,4 -4,4\"/>\n<!-- 0 -->\n<g id=\"node1\" class=\"node\">\n<title>0</title>\n<path fill=\"#fdfffd\" stroke=\"black\" d=\"M266,-425C266,-425 131,-425 131,-425 125,-425 119,-419 119,-413 119,-413 119,-354 119,-354 119,-348 125,-342 131,-342 131,-342 266,-342 266,-342 272,-342 278,-348 278,-354 278,-354 278,-413 278,-413 278,-419 272,-425 266,-425\"/>\n<text text-anchor=\"start\" x=\"127\" y=\"-409.8\" font-family=\"Helvetica,sans-Serif\" font-size=\"14.00\">petal length (cm) ≤ 2.45</text>\n<text text-anchor=\"start\" x=\"163\" y=\"-394.8\" font-family=\"Helvetica,sans-Serif\" font-size=\"14.00\">gini = 0.667</text>\n<text text-anchor=\"start\" x=\"153.5\" y=\"-379.8\" font-family=\"Helvetica,sans-Serif\" font-size=\"14.00\">samples = 120</text>\n<text text-anchor=\"start\" x=\"140.5\" y=\"-364.8\" font-family=\"Helvetica,sans-Serif\" font-size=\"14.00\">value = [40, 41, 39]</text>\n<text text-anchor=\"start\" x=\"146\" y=\"-349.8\" font-family=\"Helvetica,sans-Serif\" font-size=\"14.00\">class = versicolor</text>\n</g>\n<!-- 1 -->\n<g id=\"node2\" class=\"node\">\n<title>1</title>\n<path fill=\"#e58139\" stroke=\"black\" d=\"M167,-298.5C167,-298.5 74,-298.5 74,-298.5 68,-298.5 62,-292.5 62,-286.5 62,-286.5 62,-242.5 62,-242.5 62,-236.5 68,-230.5 74,-230.5 74,-230.5 167,-230.5 167,-230.5 173,-230.5 179,-236.5 179,-242.5 179,-242.5 179,-286.5 179,-286.5 179,-292.5 173,-298.5 167,-298.5\"/>\n<text text-anchor=\"start\" x=\"92.5\" y=\"-283.3\" font-family=\"Helvetica,sans-Serif\" font-size=\"14.00\">gini = 0.0</text>\n<text text-anchor=\"start\" x=\"79.5\" y=\"-268.3\" font-family=\"Helvetica,sans-Serif\" font-size=\"14.00\">samples = 40</text>\n<text text-anchor=\"start\" x=\"70\" y=\"-253.3\" font-family=\"Helvetica,sans-Serif\" font-size=\"14.00\">value = [40, 0, 0]</text>\n<text text-anchor=\"start\" x=\"77\" y=\"-238.3\" font-family=\"Helvetica,sans-Serif\" font-size=\"14.00\">class = setosa</text>\n</g>\n<!-- 0&#45;&gt;1 -->\n<g id=\"edge1\" class=\"edge\">\n<title>0&#45;&gt;1</title>\n<path fill=\"none\" stroke=\"black\" d=\"M171.44,-341.91C163.93,-330.65 155.78,-318.42 148.24,-307.11\"/>\n<polygon fill=\"black\" stroke=\"black\" points=\"151.07,-305.05 142.61,-298.67 145.25,-308.93 151.07,-305.05\"/>\n<text text-anchor=\"middle\" x=\"137.71\" y=\"-319.48\" font-family=\"Helvetica,sans-Serif\" font-size=\"14.00\">True</text>\n</g>\n<!-- 2 -->\n<g id=\"node3\" class=\"node\">\n<title>2</title>\n<path fill=\"#f5fef9\" stroke=\"black\" d=\"M344,-306C344,-306 209,-306 209,-306 203,-306 197,-300 197,-294 197,-294 197,-235 197,-235 197,-229 203,-223 209,-223 209,-223 344,-223 344,-223 350,-223 356,-229 356,-235 356,-235 356,-294 356,-294 356,-300 350,-306 344,-306\"/>\n<text text-anchor=\"start\" x=\"205\" y=\"-290.8\" font-family=\"Helvetica,sans-Serif\" font-size=\"14.00\">petal length (cm) ≤ 4.75</text>\n<text text-anchor=\"start\" x=\"248.5\" y=\"-275.8\" font-family=\"Helvetica,sans-Serif\" font-size=\"14.00\">gini = 0.5</text>\n<text text-anchor=\"start\" x=\"235.5\" y=\"-260.8\" font-family=\"Helvetica,sans-Serif\" font-size=\"14.00\">samples = 80</text>\n<text text-anchor=\"start\" x=\"222\" y=\"-245.8\" font-family=\"Helvetica,sans-Serif\" font-size=\"14.00\">value = [0, 41, 39]</text>\n<text text-anchor=\"start\" x=\"224\" y=\"-230.8\" font-family=\"Helvetica,sans-Serif\" font-size=\"14.00\">class = versicolor</text>\n</g>\n<!-- 0&#45;&gt;2 -->\n<g id=\"edge2\" class=\"edge\">\n<title>0&#45;&gt;2</title>\n<path fill=\"none\" stroke=\"black\" d=\"M225.56,-341.91C231.43,-333.1 237.7,-323.7 243.76,-314.61\"/>\n<polygon fill=\"black\" stroke=\"black\" points=\"246.85,-316.28 249.49,-306.02 241.03,-312.4 246.85,-316.28\"/>\n<text text-anchor=\"middle\" x=\"254.39\" y=\"-326.84\" font-family=\"Helvetica,sans-Serif\" font-size=\"14.00\">False</text>\n</g>\n<!-- 3 -->\n<g id=\"node4\" class=\"node\">\n<title>3</title>\n<path fill=\"#3ee684\" stroke=\"black\" d=\"M255.5,-187C255.5,-187 125.5,-187 125.5,-187 119.5,-187 113.5,-181 113.5,-175 113.5,-175 113.5,-116 113.5,-116 113.5,-110 119.5,-104 125.5,-104 125.5,-104 255.5,-104 255.5,-104 261.5,-104 267.5,-110 267.5,-116 267.5,-116 267.5,-175 267.5,-175 267.5,-181 261.5,-187 255.5,-187\"/>\n<text text-anchor=\"start\" x=\"121.5\" y=\"-171.8\" font-family=\"Helvetica,sans-Serif\" font-size=\"14.00\">petal width (cm) ≤ 1.55</text>\n<text text-anchor=\"start\" x=\"155\" y=\"-156.8\" font-family=\"Helvetica,sans-Serif\" font-size=\"14.00\">gini = 0.053</text>\n<text text-anchor=\"start\" x=\"149.5\" y=\"-141.8\" font-family=\"Helvetica,sans-Serif\" font-size=\"14.00\">samples = 37</text>\n<text text-anchor=\"start\" x=\"140\" y=\"-126.8\" font-family=\"Helvetica,sans-Serif\" font-size=\"14.00\">value = [0, 36, 1]</text>\n<text text-anchor=\"start\" x=\"138\" y=\"-111.8\" font-family=\"Helvetica,sans-Serif\" font-size=\"14.00\">class = versicolor</text>\n</g>\n<!-- 2&#45;&gt;3 -->\n<g id=\"edge3\" class=\"edge\">\n<title>2&#45;&gt;3</title>\n<path fill=\"none\" stroke=\"black\" d=\"M246.66,-222.91C240.13,-214.01 233.14,-204.51 226.39,-195.33\"/>\n<polygon fill=\"black\" stroke=\"black\" points=\"229.03,-193.01 220.28,-187.02 223.39,-197.15 229.03,-193.01\"/>\n</g>\n<!-- 6 -->\n<g id=\"node7\" class=\"node\">\n<title>6</title>\n<path fill=\"#9253e8\" stroke=\"black\" d=\"M427.5,-187C427.5,-187 297.5,-187 297.5,-187 291.5,-187 285.5,-181 285.5,-175 285.5,-175 285.5,-116 285.5,-116 285.5,-110 291.5,-104 297.5,-104 297.5,-104 427.5,-104 427.5,-104 433.5,-104 439.5,-110 439.5,-116 439.5,-116 439.5,-175 439.5,-175 439.5,-181 433.5,-187 427.5,-187\"/>\n<text text-anchor=\"start\" x=\"293.5\" y=\"-171.8\" font-family=\"Helvetica,sans-Serif\" font-size=\"14.00\">petal width (cm) ≤ 1.75</text>\n<text text-anchor=\"start\" x=\"327\" y=\"-156.8\" font-family=\"Helvetica,sans-Serif\" font-size=\"14.00\">gini = 0.206</text>\n<text text-anchor=\"start\" x=\"321.5\" y=\"-141.8\" font-family=\"Helvetica,sans-Serif\" font-size=\"14.00\">samples = 43</text>\n<text text-anchor=\"start\" x=\"312\" y=\"-126.8\" font-family=\"Helvetica,sans-Serif\" font-size=\"14.00\">value = [0, 5, 38]</text>\n<text text-anchor=\"start\" x=\"314\" y=\"-111.8\" font-family=\"Helvetica,sans-Serif\" font-size=\"14.00\">class = virginica</text>\n</g>\n<!-- 2&#45;&gt;6 -->\n<g id=\"edge6\" class=\"edge\">\n<title>2&#45;&gt;6</title>\n<path fill=\"none\" stroke=\"black\" d=\"M306.34,-222.91C312.87,-214.01 319.86,-204.51 326.61,-195.33\"/>\n<polygon fill=\"black\" stroke=\"black\" points=\"329.61,-197.15 332.72,-187.02 323.97,-193.01 329.61,-197.15\"/>\n</g>\n<!-- 4 -->\n<g id=\"node5\" class=\"node\">\n<title>4</title>\n<path fill=\"#39e581\" stroke=\"black\" d=\"M109,-68C109,-68 12,-68 12,-68 6,-68 0,-62 0,-56 0,-56 0,-12 0,-12 0,-6 6,0 12,0 12,0 109,0 109,0 115,0 121,-6 121,-12 121,-12 121,-56 121,-56 121,-62 115,-68 109,-68\"/>\n<text text-anchor=\"start\" x=\"32.5\" y=\"-52.8\" font-family=\"Helvetica,sans-Serif\" font-size=\"14.00\">gini = 0.0</text>\n<text text-anchor=\"start\" x=\"19.5\" y=\"-37.8\" font-family=\"Helvetica,sans-Serif\" font-size=\"14.00\">samples = 35</text>\n<text text-anchor=\"start\" x=\"10\" y=\"-22.8\" font-family=\"Helvetica,sans-Serif\" font-size=\"14.00\">value = [0, 35, 0]</text>\n<text text-anchor=\"start\" x=\"8\" y=\"-7.8\" font-family=\"Helvetica,sans-Serif\" font-size=\"14.00\">class = versicolor</text>\n</g>\n<!-- 3&#45;&gt;4 -->\n<g id=\"edge4\" class=\"edge\">\n<title>3&#45;&gt;4</title>\n<path fill=\"none\" stroke=\"black\" d=\"M142.09,-103.73C130.94,-94.33 119.09,-84.35 107.97,-74.99\"/>\n<polygon fill=\"black\" stroke=\"black\" points=\"109.94,-72.06 100.03,-68.3 105.43,-77.42 109.94,-72.06\"/>\n</g>\n<!-- 5 -->\n<g id=\"node6\" class=\"node\">\n<title>5</title>\n<path fill=\"#ffffff\" stroke=\"black\" d=\"M248,-68C248,-68 151,-68 151,-68 145,-68 139,-62 139,-56 139,-56 139,-12 139,-12 139,-6 145,0 151,0 151,0 248,0 248,0 254,0 260,-6 260,-12 260,-12 260,-56 260,-56 260,-62 254,-68 248,-68\"/>\n<text text-anchor=\"start\" x=\"171.5\" y=\"-52.8\" font-family=\"Helvetica,sans-Serif\" font-size=\"14.00\">gini = 0.5</text>\n<text text-anchor=\"start\" x=\"162\" y=\"-37.8\" font-family=\"Helvetica,sans-Serif\" font-size=\"14.00\">samples = 2</text>\n<text text-anchor=\"start\" x=\"152.5\" y=\"-22.8\" font-family=\"Helvetica,sans-Serif\" font-size=\"14.00\">value = [0, 1, 1]</text>\n<text text-anchor=\"start\" x=\"147\" y=\"-7.8\" font-family=\"Helvetica,sans-Serif\" font-size=\"14.00\">class = versicolor</text>\n</g>\n<!-- 3&#45;&gt;5 -->\n<g id=\"edge5\" class=\"edge\">\n<title>3&#45;&gt;5</title>\n<path fill=\"none\" stroke=\"black\" d=\"M193.85,-103.73C194.53,-95.43 195.25,-86.67 195.94,-78.28\"/>\n<polygon fill=\"black\" stroke=\"black\" points=\"199.43,-78.55 196.76,-68.3 192.46,-77.98 199.43,-78.55\"/>\n</g>\n<!-- 7 -->\n<g id=\"node8\" class=\"node\">\n<title>7</title>\n<path fill=\"#ffffff\" stroke=\"black\" d=\"M403,-68C403,-68 306,-68 306,-68 300,-68 294,-62 294,-56 294,-56 294,-12 294,-12 294,-6 300,0 306,0 306,0 403,0 403,0 409,0 415,-6 415,-12 415,-12 415,-56 415,-56 415,-62 409,-68 403,-68\"/>\n<text text-anchor=\"start\" x=\"326.5\" y=\"-52.8\" font-family=\"Helvetica,sans-Serif\" font-size=\"14.00\">gini = 0.5</text>\n<text text-anchor=\"start\" x=\"317\" y=\"-37.8\" font-family=\"Helvetica,sans-Serif\" font-size=\"14.00\">samples = 8</text>\n<text text-anchor=\"start\" x=\"307.5\" y=\"-22.8\" font-family=\"Helvetica,sans-Serif\" font-size=\"14.00\">value = [0, 4, 4]</text>\n<text text-anchor=\"start\" x=\"302\" y=\"-7.8\" font-family=\"Helvetica,sans-Serif\" font-size=\"14.00\">class = versicolor</text>\n</g>\n<!-- 6&#45;&gt;7 -->\n<g id=\"edge7\" class=\"edge\">\n<title>6&#45;&gt;7</title>\n<path fill=\"none\" stroke=\"black\" d=\"M359.52,-103.73C358.91,-95.43 358.27,-86.67 357.66,-78.28\"/>\n<polygon fill=\"black\" stroke=\"black\" points=\"361.15,-78.02 356.93,-68.3 354.17,-78.53 361.15,-78.02\"/>\n</g>\n<!-- 8 -->\n<g id=\"node9\" class=\"node\">\n<title>8</title>\n<path fill=\"#853fe6\" stroke=\"black\" d=\"M538,-68C538,-68 445,-68 445,-68 439,-68 433,-62 433,-56 433,-56 433,-12 433,-12 433,-6 439,0 445,0 445,0 538,0 538,0 544,0 550,-6 550,-12 550,-12 550,-56 550,-56 550,-62 544,-68 538,-68\"/>\n<text text-anchor=\"start\" x=\"456\" y=\"-52.8\" font-family=\"Helvetica,sans-Serif\" font-size=\"14.00\">gini = 0.056</text>\n<text text-anchor=\"start\" x=\"450.5\" y=\"-37.8\" font-family=\"Helvetica,sans-Serif\" font-size=\"14.00\">samples = 35</text>\n<text text-anchor=\"start\" x=\"441\" y=\"-22.8\" font-family=\"Helvetica,sans-Serif\" font-size=\"14.00\">value = [0, 1, 34]</text>\n<text text-anchor=\"start\" x=\"443\" y=\"-7.8\" font-family=\"Helvetica,sans-Serif\" font-size=\"14.00\">class = virginica</text>\n</g>\n<!-- 6&#45;&gt;8 -->\n<g id=\"edge8\" class=\"edge\">\n<title>6&#45;&gt;8</title>\n<path fill=\"none\" stroke=\"black\" d=\"M410.53,-103.73C421.6,-94.33 433.36,-84.35 444.39,-74.99\"/>\n<polygon fill=\"black\" stroke=\"black\" points=\"446.91,-77.44 452.27,-68.3 442.38,-72.1 446.91,-77.44\"/>\n</g>\n</g>\n</svg>\n",
            "text/plain": [
              "<graphviz.sources.Source at 0x7e610a83d590>"
            ]
          },
          "metadata": {},
          "execution_count": 6
        }
      ],
      "source": [
        "# 그래프 출력\n",
        "graph = graphviz.Source(dot_data)\n",
        "graph"
      ]
    },
    {
      "cell_type": "markdown",
      "source": [
        "1. petal length가 2.45보다 작은가\n",
        "2. petal length가 4.75보다 작은가\n",
        "3. petal width가 1.55보다 작은가\n",
        "4. petal width가 1.75보다 작은가"
      ],
      "metadata": {
        "id": "gREXeJ7C8sqI"
      }
    },
    {
      "cell_type": "markdown",
      "metadata": {
        "id": "qNRjcD8abF6a"
      },
      "source": [
        "## 3. 앙상블 학습: 부스팅(Boosting) 모델"
      ]
    },
    {
      "cell_type": "markdown",
      "metadata": {
        "id": "XeUHVQYVbF6a"
      },
      "source": [
        "Adaboost, Gradient Boosting Model은 scikit learn에서 지원하지만, LightGBM과 XGBoost의 경우는 외부 패키지를 불러와야 합니다.\n",
        "\n",
        "Boosting 계열의 모델들은 데이터 개수가 적으면 overfitting이 일어나는 경우가 많으니, 주의해야 합니다."
      ]
    },
    {
      "cell_type": "code",
      "execution_count": 7,
      "metadata": {
        "id": "j_SosLmnbF6a"
      },
      "outputs": [],
      "source": [
        "# 필요한 패키지 로드\n",
        "from sklearn.datasets import fetch_california_housing\n",
        "from sklearn.metrics import mean_squared_error\n",
        "\n",
        "housing = fetch_california_housing()"
      ]
    },
    {
      "cell_type": "code",
      "execution_count": 8,
      "metadata": {
        "id": "GU6_wkC_bF6a"
      },
      "outputs": [],
      "source": [
        "# 데이터 로드\n",
        "housing_df = pd.DataFrame(housing.data, columns=housing.feature_names)\n",
        "housing_df['MedHouseVal'] = housing.target"
      ]
    },
    {
      "cell_type": "code",
      "execution_count": 9,
      "metadata": {
        "colab": {
          "base_uri": "https://localhost:8080/",
          "height": 206
        },
        "id": "NkLVLKHHbF6b",
        "outputId": "e463b80e-42c9-4426-f866-1beb18e760d5"
      },
      "outputs": [
        {
          "output_type": "execute_result",
          "data": {
            "text/plain": [
              "   MedInc  HouseAge  AveRooms  AveBedrms  Population  AveOccup  Latitude  \\\n",
              "0  8.3252      41.0  6.984127   1.023810       322.0  2.555556     37.88   \n",
              "1  8.3014      21.0  6.238137   0.971880      2401.0  2.109842     37.86   \n",
              "2  7.2574      52.0  8.288136   1.073446       496.0  2.802260     37.85   \n",
              "3  5.6431      52.0  5.817352   1.073059       558.0  2.547945     37.85   \n",
              "4  3.8462      52.0  6.281853   1.081081       565.0  2.181467     37.85   \n",
              "\n",
              "   Longitude  MedHouseVal  \n",
              "0    -122.23        4.526  \n",
              "1    -122.22        3.585  \n",
              "2    -122.24        3.521  \n",
              "3    -122.25        3.413  \n",
              "4    -122.25        3.422  "
            ],
            "text/html": [
              "\n",
              "  <div id=\"df-ee04a3e9-225b-43f8-b210-6492afc006fc\" class=\"colab-df-container\">\n",
              "    <div>\n",
              "<style scoped>\n",
              "    .dataframe tbody tr th:only-of-type {\n",
              "        vertical-align: middle;\n",
              "    }\n",
              "\n",
              "    .dataframe tbody tr th {\n",
              "        vertical-align: top;\n",
              "    }\n",
              "\n",
              "    .dataframe thead th {\n",
              "        text-align: right;\n",
              "    }\n",
              "</style>\n",
              "<table border=\"1\" class=\"dataframe\">\n",
              "  <thead>\n",
              "    <tr style=\"text-align: right;\">\n",
              "      <th></th>\n",
              "      <th>MedInc</th>\n",
              "      <th>HouseAge</th>\n",
              "      <th>AveRooms</th>\n",
              "      <th>AveBedrms</th>\n",
              "      <th>Population</th>\n",
              "      <th>AveOccup</th>\n",
              "      <th>Latitude</th>\n",
              "      <th>Longitude</th>\n",
              "      <th>MedHouseVal</th>\n",
              "    </tr>\n",
              "  </thead>\n",
              "  <tbody>\n",
              "    <tr>\n",
              "      <th>0</th>\n",
              "      <td>8.3252</td>\n",
              "      <td>41.0</td>\n",
              "      <td>6.984127</td>\n",
              "      <td>1.023810</td>\n",
              "      <td>322.0</td>\n",
              "      <td>2.555556</td>\n",
              "      <td>37.88</td>\n",
              "      <td>-122.23</td>\n",
              "      <td>4.526</td>\n",
              "    </tr>\n",
              "    <tr>\n",
              "      <th>1</th>\n",
              "      <td>8.3014</td>\n",
              "      <td>21.0</td>\n",
              "      <td>6.238137</td>\n",
              "      <td>0.971880</td>\n",
              "      <td>2401.0</td>\n",
              "      <td>2.109842</td>\n",
              "      <td>37.86</td>\n",
              "      <td>-122.22</td>\n",
              "      <td>3.585</td>\n",
              "    </tr>\n",
              "    <tr>\n",
              "      <th>2</th>\n",
              "      <td>7.2574</td>\n",
              "      <td>52.0</td>\n",
              "      <td>8.288136</td>\n",
              "      <td>1.073446</td>\n",
              "      <td>496.0</td>\n",
              "      <td>2.802260</td>\n",
              "      <td>37.85</td>\n",
              "      <td>-122.24</td>\n",
              "      <td>3.521</td>\n",
              "    </tr>\n",
              "    <tr>\n",
              "      <th>3</th>\n",
              "      <td>5.6431</td>\n",
              "      <td>52.0</td>\n",
              "      <td>5.817352</td>\n",
              "      <td>1.073059</td>\n",
              "      <td>558.0</td>\n",
              "      <td>2.547945</td>\n",
              "      <td>37.85</td>\n",
              "      <td>-122.25</td>\n",
              "      <td>3.413</td>\n",
              "    </tr>\n",
              "    <tr>\n",
              "      <th>4</th>\n",
              "      <td>3.8462</td>\n",
              "      <td>52.0</td>\n",
              "      <td>6.281853</td>\n",
              "      <td>1.081081</td>\n",
              "      <td>565.0</td>\n",
              "      <td>2.181467</td>\n",
              "      <td>37.85</td>\n",
              "      <td>-122.25</td>\n",
              "      <td>3.422</td>\n",
              "    </tr>\n",
              "  </tbody>\n",
              "</table>\n",
              "</div>\n",
              "    <div class=\"colab-df-buttons\">\n",
              "\n",
              "  <div class=\"colab-df-container\">\n",
              "    <button class=\"colab-df-convert\" onclick=\"convertToInteractive('df-ee04a3e9-225b-43f8-b210-6492afc006fc')\"\n",
              "            title=\"Convert this dataframe to an interactive table.\"\n",
              "            style=\"display:none;\">\n",
              "\n",
              "  <svg xmlns=\"http://www.w3.org/2000/svg\" height=\"24px\" viewBox=\"0 -960 960 960\">\n",
              "    <path d=\"M120-120v-720h720v720H120Zm60-500h600v-160H180v160Zm220 220h160v-160H400v160Zm0 220h160v-160H400v160ZM180-400h160v-160H180v160Zm440 0h160v-160H620v160ZM180-180h160v-160H180v160Zm440 0h160v-160H620v160Z\"/>\n",
              "  </svg>\n",
              "    </button>\n",
              "\n",
              "  <style>\n",
              "    .colab-df-container {\n",
              "      display:flex;\n",
              "      gap: 12px;\n",
              "    }\n",
              "\n",
              "    .colab-df-convert {\n",
              "      background-color: #E8F0FE;\n",
              "      border: none;\n",
              "      border-radius: 50%;\n",
              "      cursor: pointer;\n",
              "      display: none;\n",
              "      fill: #1967D2;\n",
              "      height: 32px;\n",
              "      padding: 0 0 0 0;\n",
              "      width: 32px;\n",
              "    }\n",
              "\n",
              "    .colab-df-convert:hover {\n",
              "      background-color: #E2EBFA;\n",
              "      box-shadow: 0px 1px 2px rgba(60, 64, 67, 0.3), 0px 1px 3px 1px rgba(60, 64, 67, 0.15);\n",
              "      fill: #174EA6;\n",
              "    }\n",
              "\n",
              "    .colab-df-buttons div {\n",
              "      margin-bottom: 4px;\n",
              "    }\n",
              "\n",
              "    [theme=dark] .colab-df-convert {\n",
              "      background-color: #3B4455;\n",
              "      fill: #D2E3FC;\n",
              "    }\n",
              "\n",
              "    [theme=dark] .colab-df-convert:hover {\n",
              "      background-color: #434B5C;\n",
              "      box-shadow: 0px 1px 3px 1px rgba(0, 0, 0, 0.15);\n",
              "      filter: drop-shadow(0px 1px 2px rgba(0, 0, 0, 0.3));\n",
              "      fill: #FFFFFF;\n",
              "    }\n",
              "  </style>\n",
              "\n",
              "    <script>\n",
              "      const buttonEl =\n",
              "        document.querySelector('#df-ee04a3e9-225b-43f8-b210-6492afc006fc button.colab-df-convert');\n",
              "      buttonEl.style.display =\n",
              "        google.colab.kernel.accessAllowed ? 'block' : 'none';\n",
              "\n",
              "      async function convertToInteractive(key) {\n",
              "        const element = document.querySelector('#df-ee04a3e9-225b-43f8-b210-6492afc006fc');\n",
              "        const dataTable =\n",
              "          await google.colab.kernel.invokeFunction('convertToInteractive',\n",
              "                                                    [key], {});\n",
              "        if (!dataTable) return;\n",
              "\n",
              "        const docLinkHtml = 'Like what you see? Visit the ' +\n",
              "          '<a target=\"_blank\" href=https://colab.research.google.com/notebooks/data_table.ipynb>data table notebook</a>'\n",
              "          + ' to learn more about interactive tables.';\n",
              "        element.innerHTML = '';\n",
              "        dataTable['output_type'] = 'display_data';\n",
              "        await google.colab.output.renderOutput(dataTable, element);\n",
              "        const docLink = document.createElement('div');\n",
              "        docLink.innerHTML = docLinkHtml;\n",
              "        element.appendChild(docLink);\n",
              "      }\n",
              "    </script>\n",
              "  </div>\n",
              "\n",
              "\n",
              "    <div id=\"df-af847793-293e-4697-aa1f-f21fca9276d1\">\n",
              "      <button class=\"colab-df-quickchart\" onclick=\"quickchart('df-af847793-293e-4697-aa1f-f21fca9276d1')\"\n",
              "                title=\"Suggest charts\"\n",
              "                style=\"display:none;\">\n",
              "\n",
              "<svg xmlns=\"http://www.w3.org/2000/svg\" height=\"24px\"viewBox=\"0 0 24 24\"\n",
              "     width=\"24px\">\n",
              "    <g>\n",
              "        <path d=\"M19 3H5c-1.1 0-2 .9-2 2v14c0 1.1.9 2 2 2h14c1.1 0 2-.9 2-2V5c0-1.1-.9-2-2-2zM9 17H7v-7h2v7zm4 0h-2V7h2v10zm4 0h-2v-4h2v4z\"/>\n",
              "    </g>\n",
              "</svg>\n",
              "      </button>\n",
              "\n",
              "<style>\n",
              "  .colab-df-quickchart {\n",
              "      --bg-color: #E8F0FE;\n",
              "      --fill-color: #1967D2;\n",
              "      --hover-bg-color: #E2EBFA;\n",
              "      --hover-fill-color: #174EA6;\n",
              "      --disabled-fill-color: #AAA;\n",
              "      --disabled-bg-color: #DDD;\n",
              "  }\n",
              "\n",
              "  [theme=dark] .colab-df-quickchart {\n",
              "      --bg-color: #3B4455;\n",
              "      --fill-color: #D2E3FC;\n",
              "      --hover-bg-color: #434B5C;\n",
              "      --hover-fill-color: #FFFFFF;\n",
              "      --disabled-bg-color: #3B4455;\n",
              "      --disabled-fill-color: #666;\n",
              "  }\n",
              "\n",
              "  .colab-df-quickchart {\n",
              "    background-color: var(--bg-color);\n",
              "    border: none;\n",
              "    border-radius: 50%;\n",
              "    cursor: pointer;\n",
              "    display: none;\n",
              "    fill: var(--fill-color);\n",
              "    height: 32px;\n",
              "    padding: 0;\n",
              "    width: 32px;\n",
              "  }\n",
              "\n",
              "  .colab-df-quickchart:hover {\n",
              "    background-color: var(--hover-bg-color);\n",
              "    box-shadow: 0 1px 2px rgba(60, 64, 67, 0.3), 0 1px 3px 1px rgba(60, 64, 67, 0.15);\n",
              "    fill: var(--button-hover-fill-color);\n",
              "  }\n",
              "\n",
              "  .colab-df-quickchart-complete:disabled,\n",
              "  .colab-df-quickchart-complete:disabled:hover {\n",
              "    background-color: var(--disabled-bg-color);\n",
              "    fill: var(--disabled-fill-color);\n",
              "    box-shadow: none;\n",
              "  }\n",
              "\n",
              "  .colab-df-spinner {\n",
              "    border: 2px solid var(--fill-color);\n",
              "    border-color: transparent;\n",
              "    border-bottom-color: var(--fill-color);\n",
              "    animation:\n",
              "      spin 1s steps(1) infinite;\n",
              "  }\n",
              "\n",
              "  @keyframes spin {\n",
              "    0% {\n",
              "      border-color: transparent;\n",
              "      border-bottom-color: var(--fill-color);\n",
              "      border-left-color: var(--fill-color);\n",
              "    }\n",
              "    20% {\n",
              "      border-color: transparent;\n",
              "      border-left-color: var(--fill-color);\n",
              "      border-top-color: var(--fill-color);\n",
              "    }\n",
              "    30% {\n",
              "      border-color: transparent;\n",
              "      border-left-color: var(--fill-color);\n",
              "      border-top-color: var(--fill-color);\n",
              "      border-right-color: var(--fill-color);\n",
              "    }\n",
              "    40% {\n",
              "      border-color: transparent;\n",
              "      border-right-color: var(--fill-color);\n",
              "      border-top-color: var(--fill-color);\n",
              "    }\n",
              "    60% {\n",
              "      border-color: transparent;\n",
              "      border-right-color: var(--fill-color);\n",
              "    }\n",
              "    80% {\n",
              "      border-color: transparent;\n",
              "      border-right-color: var(--fill-color);\n",
              "      border-bottom-color: var(--fill-color);\n",
              "    }\n",
              "    90% {\n",
              "      border-color: transparent;\n",
              "      border-bottom-color: var(--fill-color);\n",
              "    }\n",
              "  }\n",
              "</style>\n",
              "\n",
              "      <script>\n",
              "        async function quickchart(key) {\n",
              "          const quickchartButtonEl =\n",
              "            document.querySelector('#' + key + ' button');\n",
              "          quickchartButtonEl.disabled = true;  // To prevent multiple clicks.\n",
              "          quickchartButtonEl.classList.add('colab-df-spinner');\n",
              "          try {\n",
              "            const charts = await google.colab.kernel.invokeFunction(\n",
              "                'suggestCharts', [key], {});\n",
              "          } catch (error) {\n",
              "            console.error('Error during call to suggestCharts:', error);\n",
              "          }\n",
              "          quickchartButtonEl.classList.remove('colab-df-spinner');\n",
              "          quickchartButtonEl.classList.add('colab-df-quickchart-complete');\n",
              "        }\n",
              "        (() => {\n",
              "          let quickchartButtonEl =\n",
              "            document.querySelector('#df-af847793-293e-4697-aa1f-f21fca9276d1 button');\n",
              "          quickchartButtonEl.style.display =\n",
              "            google.colab.kernel.accessAllowed ? 'block' : 'none';\n",
              "        })();\n",
              "      </script>\n",
              "    </div>\n",
              "\n",
              "    </div>\n",
              "  </div>\n"
            ],
            "application/vnd.google.colaboratory.intrinsic+json": {
              "type": "dataframe",
              "variable_name": "housing_df",
              "summary": "{\n  \"name\": \"housing_df\",\n  \"rows\": 20640,\n  \"fields\": [\n    {\n      \"column\": \"MedInc\",\n      \"properties\": {\n        \"dtype\": \"number\",\n        \"std\": 1.8998217179452732,\n        \"min\": 0.4999,\n        \"max\": 15.0001,\n        \"num_unique_values\": 12928,\n        \"samples\": [\n          5.0286,\n          2.0433,\n          6.1228\n        ],\n        \"semantic_type\": \"\",\n        \"description\": \"\"\n      }\n    },\n    {\n      \"column\": \"HouseAge\",\n      \"properties\": {\n        \"dtype\": \"number\",\n        \"std\": 12.585557612111637,\n        \"min\": 1.0,\n        \"max\": 52.0,\n        \"num_unique_values\": 52,\n        \"samples\": [\n          35.0,\n          25.0,\n          7.0\n        ],\n        \"semantic_type\": \"\",\n        \"description\": \"\"\n      }\n    },\n    {\n      \"column\": \"AveRooms\",\n      \"properties\": {\n        \"dtype\": \"number\",\n        \"std\": 2.4741731394243205,\n        \"min\": 0.8461538461538461,\n        \"max\": 141.9090909090909,\n        \"num_unique_values\": 19392,\n        \"samples\": [\n          6.111269614835948,\n          5.912820512820513,\n          5.7924528301886795\n        ],\n        \"semantic_type\": \"\",\n        \"description\": \"\"\n      }\n    },\n    {\n      \"column\": \"AveBedrms\",\n      \"properties\": {\n        \"dtype\": \"number\",\n        \"std\": 0.47391085679546435,\n        \"min\": 0.3333333333333333,\n        \"max\": 34.06666666666667,\n        \"num_unique_values\": 14233,\n        \"samples\": [\n          0.9906542056074766,\n          1.112099644128114,\n          1.0398230088495575\n        ],\n        \"semantic_type\": \"\",\n        \"description\": \"\"\n      }\n    },\n    {\n      \"column\": \"Population\",\n      \"properties\": {\n        \"dtype\": \"number\",\n        \"std\": 1132.4621217653375,\n        \"min\": 3.0,\n        \"max\": 35682.0,\n        \"num_unique_values\": 3888,\n        \"samples\": [\n          4169.0,\n          636.0,\n          3367.0\n        ],\n        \"semantic_type\": \"\",\n        \"description\": \"\"\n      }\n    },\n    {\n      \"column\": \"AveOccup\",\n      \"properties\": {\n        \"dtype\": \"number\",\n        \"std\": 10.386049562213591,\n        \"min\": 0.6923076923076923,\n        \"max\": 1243.3333333333333,\n        \"num_unique_values\": 18841,\n        \"samples\": [\n          2.6939799331103678,\n          3.559375,\n          3.297082228116711\n        ],\n        \"semantic_type\": \"\",\n        \"description\": \"\"\n      }\n    },\n    {\n      \"column\": \"Latitude\",\n      \"properties\": {\n        \"dtype\": \"number\",\n        \"std\": 2.1359523974571117,\n        \"min\": 32.54,\n        \"max\": 41.95,\n        \"num_unique_values\": 862,\n        \"samples\": [\n          33.7,\n          34.41,\n          38.24\n        ],\n        \"semantic_type\": \"\",\n        \"description\": \"\"\n      }\n    },\n    {\n      \"column\": \"Longitude\",\n      \"properties\": {\n        \"dtype\": \"number\",\n        \"std\": 2.003531723502581,\n        \"min\": -124.35,\n        \"max\": -114.31,\n        \"num_unique_values\": 844,\n        \"samples\": [\n          -118.63,\n          -119.86,\n          -121.26\n        ],\n        \"semantic_type\": \"\",\n        \"description\": \"\"\n      }\n    },\n    {\n      \"column\": \"MedHouseVal\",\n      \"properties\": {\n        \"dtype\": \"number\",\n        \"std\": 1.1539561587441483,\n        \"min\": 0.14999,\n        \"max\": 5.00001,\n        \"num_unique_values\": 3842,\n        \"samples\": [\n          1.943,\n          3.79,\n          2.301\n        ],\n        \"semantic_type\": \"\",\n        \"description\": \"\"\n      }\n    }\n  ]\n}"
            }
          },
          "metadata": {},
          "execution_count": 9
        }
      ],
      "source": [
        "housing_df.head()"
      ]
    },
    {
      "cell_type": "markdown",
      "metadata": {
        "id": "eWBDoOQfbF6b"
      },
      "source": [
        "### Q3.1 `housing_df`를 train, test split을 해봅시다.\n",
        "\n",
        "분할 비율을 자유롭게 설정해봅시다."
      ]
    },
    {
      "cell_type": "code",
      "execution_count": 10,
      "metadata": {
        "id": "4LiUhMFxbF6b"
      },
      "outputs": [],
      "source": [
        "# 데이터 분할\n",
        "X = housing_df.drop(columns=['MedHouseVal'])\n",
        "y = housing_df['MedHouseVal']\n",
        "X_train, X_test, y_train, y_test = train_test_split(X, y, test_size=  0.2, random_state=42)"
      ]
    },
    {
      "cell_type": "markdown",
      "metadata": {
        "id": "S_1p-vnRbF6b"
      },
      "source": [
        "### Q3.2  데이터를 `RandomForestRegressor`에 적합해 봅시다.\n",
        "train set 에 대해 `MedHouseVal`을 종속변수, 나머지를 독립변수로 하는 random forest regressor를 적합해 봅시다.\n",
        "\n",
        "test set으로 prediction을 한 후 MSE를 구해 봅시다."
      ]
    },
    {
      "cell_type": "code",
      "execution_count": 15,
      "metadata": {
        "id": "d5Cx1gwdbF6b",
        "colab": {
          "base_uri": "https://localhost:8080/"
        },
        "outputId": "6711d521-ad8f-475a-d07d-8474378a3f71"
      },
      "outputs": [
        {
          "output_type": "stream",
          "name": "stdout",
          "text": [
            "mse:  0.2553684927247781\n"
          ]
        }
      ],
      "source": [
        "from sklearn.ensemble import RandomForestRegressor\n",
        "\n",
        "rf_regressor = RandomForestRegressor(n_estimators=100, random_state=42)\n",
        "rf_regressor.fit(X_train, y_train)\n",
        "y_pred = rf_regressor.predict(X_test)\n",
        "mse = mean_squared_error(y_test, y_pred)\n",
        "\n",
        "print(\"mse: \", mse)"
      ]
    },
    {
      "cell_type": "markdown",
      "metadata": {
        "id": "k4YeoLZGbF6b"
      },
      "source": [
        "### Q3.3 데이터를 `AdaBoostRegressor`에 적합해봅시다.\n",
        "\n",
        "위와 동일"
      ]
    },
    {
      "cell_type": "code",
      "execution_count": 16,
      "metadata": {
        "id": "1eC2qTxLbF6b",
        "colab": {
          "base_uri": "https://localhost:8080/"
        },
        "outputId": "728f2b63-17c2-400f-8f75-9bc69162a077"
      },
      "outputs": [
        {
          "output_type": "stream",
          "name": "stdout",
          "text": [
            "mse:  0.614478459432694\n"
          ]
        }
      ],
      "source": [
        "from sklearn.ensemble import AdaBoostRegressor\n",
        "\n",
        "abr = AdaBoostRegressor(n_estimators=100, random_state=42)\n",
        "abr.fit(X_train, y_train)\n",
        "y_pred = abr.predict(X_test)\n",
        "mse = mean_squared_error(y_test, y_pred)\n",
        "\n",
        "print(\"mse: \", mse)"
      ]
    },
    {
      "cell_type": "markdown",
      "metadata": {
        "id": "MX_iQyXHbF6b"
      },
      "source": [
        "### Q3.4 데이터를 `GradientBoostingRegressor`에 적합해 봅시다.\n",
        "\n",
        "위와 동일"
      ]
    },
    {
      "cell_type": "code",
      "execution_count": 17,
      "metadata": {
        "id": "sulSyuczbF6b",
        "colab": {
          "base_uri": "https://localhost:8080/"
        },
        "outputId": "a4095bae-a4ac-4b4b-ea3c-0a1ef87a2666"
      },
      "outputs": [
        {
          "output_type": "stream",
          "name": "stdout",
          "text": [
            "mse:  0.2939973248643864\n"
          ]
        }
      ],
      "source": [
        "from sklearn.ensemble import GradientBoostingRegressor\n",
        "gbr = GradientBoostingRegressor(n_estimators=100, random_state=42)\n",
        "gbr.fit(X_train, y_train)\n",
        "y_pred = gbr.predict(X_test)\n",
        "mse = mean_squared_error(y_test, y_pred)\n",
        "\n",
        "print(\"mse: \", mse)"
      ]
    },
    {
      "cell_type": "markdown",
      "metadata": {
        "id": "h_CtAadlbF6c"
      },
      "source": [
        "### Q3.5 데이터를 `lightgbm` 회귀에 적합해 봅시다.\n",
        "\n",
        "파라미터를 자세히 살펴보고, 자유롭게 설정해 봅시다.\n",
        "\n",
        "Documentation\n",
        "https://lightgbm.readthedocs.io/en/latest/pythonapi/lightgbm.LGBMRegressor.html\n",
        "\n",
        "예시\n",
        "https://www.geeksforgeeks.org/regression-using-lightgbm/\n"
      ]
    },
    {
      "cell_type": "code",
      "execution_count": 18,
      "metadata": {
        "id": "b5MgZ2IpbF6c",
        "colab": {
          "base_uri": "https://localhost:8080/"
        },
        "outputId": "347672ef-6069-4eb0-d5a3-7bdcb5d621b3"
      },
      "outputs": [
        {
          "output_type": "stream",
          "name": "stdout",
          "text": [
            "[LightGBM] [Info] Auto-choosing col-wise multi-threading, the overhead of testing was 0.002270 seconds.\n",
            "You can set `force_col_wise=true` to remove the overhead.\n",
            "[LightGBM] [Info] Total Bins 1838\n",
            "[LightGBM] [Info] Number of data points in the train set: 16512, number of used features: 8\n",
            "[LightGBM] [Info] Start training from score 2.071947\n",
            "mse:  0.21484820209255617\n"
          ]
        }
      ],
      "source": [
        "import lightgbm as lgb\n",
        "\n",
        "lgb_r = lgb.LGBMRegressor(\n",
        "    n_estimators=100,\n",
        "    learning_rate=0.1,\n",
        "    max_depth=-1,\n",
        "    num_leaves=31,\n",
        "    subsample=1.0,\n",
        "    colsample_bytree=1.0,\n",
        "    random_state=42\n",
        ")\n",
        "lgb_r.fit(X_train, y_train)\n",
        "y_pred = lgb_r.predict(X_test)\n",
        "mse = mean_squared_error(y_test, y_pred)\n",
        "\n",
        "print(\"mse: \", mse)"
      ]
    },
    {
      "cell_type": "markdown",
      "metadata": {
        "id": "GgazRGPXbF6c"
      },
      "source": [
        "### Q3.6 데이터를 `xgboost`에 적합해 봅시다.\n",
        "\n",
        "파라미터는 자유롭게 설정해 봅시다"
      ]
    },
    {
      "cell_type": "code",
      "execution_count": 19,
      "metadata": {
        "id": "0UimLcQjbF6c",
        "colab": {
          "base_uri": "https://localhost:8080/"
        },
        "outputId": "659cd311-d7c4-4328-e106-bc2b7890705b"
      },
      "outputs": [
        {
          "output_type": "stream",
          "name": "stdout",
          "text": [
            "mse:  0.29522676196268116\n"
          ]
        }
      ],
      "source": [
        "import xgboost as xgb\n",
        "\n",
        "xgb_r = xgb.XGBRegressor(\n",
        "    n_estimators=100,\n",
        "    learning_rate=0.1,\n",
        "    max_depth=3,\n",
        "    subsample=1.0,\n",
        "    colsample_bytree=1.0,\n",
        "    random_state=42\n",
        ")\n",
        "xgb_r.fit(X_train, y_train)\n",
        "y_pred = xgb_r.predict(X_test)\n",
        "mse = mean_squared_error(y_test, y_pred)\n",
        "\n",
        "print(\"mse: \", mse)"
      ]
    },
    {
      "cell_type": "markdown",
      "metadata": {
        "id": "IhoYTWlLbF6c"
      },
      "source": [
        "### Q3.7 `RandomForestRegressor`의 feature importance를 시각화해봅시다.\n",
        "\n",
        "https://scikit-learn.org/stable/auto_examples/ensemble/plot_forest_importances.html\n",
        "\n",
        "위를 참고해보면서 Q2에서 적합한 random forest regressor의 feature importance를 시각화해 봅시다.\n",
        "\n",
        "중요한 feature 부터 내림차순으로 시각화해 봅시다."
      ]
    },
    {
      "cell_type": "code",
      "source": [
        "import numpy as np\n",
        "import matplotlib.pyplot as plt\n",
        "import pandas as pd\n",
        "from sklearn.ensemble import RandomForestRegressor\n",
        "\n",
        "# 1. 피처 중요도\n",
        "importances = rf_regressor.feature_importances_\n",
        "std = np.std([tree.feature_importances_ for tree in rf_regressor.estimators_], axis=0)\n",
        "\n",
        "# 2. 인덱스 정렬\n",
        "indices = np.argsort(importances)[::-1]\n",
        "feature_names = X_train.columns.tolist()\n",
        "\n",
        "# 3. 결과 출력 (중요한 feature 순)\n",
        "print(\"Feature ranking:\")\n",
        "for idx in indices:\n",
        "    print(f\"{feature_names[idx]}: {importances[idx]:.4f} ± {std[idx]:.4f}\")\n",
        "\n",
        "# 4. 그래프 시각화 (내림차순 정렬된 막대그래프)\n",
        "plt.figure(figsize=(10, 6))\n",
        "plt.title(\"Feature Importances (RandomForestRegressor)\")\n",
        "plt.bar(range(len(importances)), importances[indices], color=\"skyblue\", yerr=std[indices], align=\"center\")\n",
        "plt.xticks(range(len(importances)), [feature_names[i] for i in indices], rotation=90)\n",
        "plt.ylabel(\"Importance\")\n",
        "plt.tight_layout()\n",
        "plt.show()\n"
      ],
      "metadata": {
        "colab": {
          "base_uri": "https://localhost:8080/",
          "height": 680
        },
        "id": "b4zD7nlB-sML",
        "outputId": "89c01b81-98c4-451c-a4c0-5b6e6c23c470"
      },
      "execution_count": 21,
      "outputs": [
        {
          "output_type": "stream",
          "name": "stdout",
          "text": [
            "Feature ranking:\n",
            "MedInc: 0.5249 ± 0.0100\n",
            "AveOccup: 0.1384 ± 0.0060\n",
            "Latitude: 0.0889 ± 0.0110\n",
            "Longitude: 0.0886 ± 0.0098\n",
            "HouseAge: 0.0546 ± 0.0045\n",
            "AveRooms: 0.0443 ± 0.0100\n",
            "Population: 0.0306 ± 0.0032\n",
            "AveBedrms: 0.0296 ± 0.0034\n"
          ]
        },
        {
          "output_type": "display_data",
          "data": {
            "text/plain": [
              "<Figure size 1000x600 with 1 Axes>"
            ],
            "image/png": "[encoded data removed]"
          },
          "metadata": {}
        }
      ]
    },
    {
      "cell_type": "markdown",
      "metadata": {
        "id": "sALKtDkGcYOc"
      },
      "source": [
        "### (BONUS) 1. Boosting 모델 각각의 특징을 정리해보세요."
      ]
    },
    {
      "cell_type": "markdown",
      "metadata": {
        "id": "8QLz3MRK0snu"
      },
      "source": [
        "- adaptive Boosting ; 오분류된 샘플에 가중치를 주고, 최종 예측은 여러 약한 학습기의 가중합으로 결정. 노이즈와 이상치에 민감. 과적합에 비교적 강함.\n",
        "- Gradient Boosting ; 이전 모델의 잔차를 예측하는 새로운 모델을 순차적으로 학습. 경사하강법 아이디어 적용. 유연성 높고 성능 높음. 과적합 위험 + 속도 느림\n",
        "- XGBoost ; gbm의 개선버전. l1,l2 정규화 적용하여 과적합 방지. 결측값 자동 처리. early stopping. 다만 튜닝 까다로움\n",
        "- lightGBM ; xgboost의 느린 학습을 개선. 히스토그램 기반 학습 + 리프 중심 분할 전략 사용. 대규모 데이터에최적화. 더 깊은 트리 가능. 속도 매우 빠르지만 과적합 위험 큼. 소규모 데이터에는 안정성 낮음."
      ]
    },
    {
      "cell_type": "markdown",
      "metadata": {
        "id": "7yhnPlJr0snu"
      },
      "source": [
        "### (BONUS) 2. 모델 성능을 높이기 위하여 어떤 시도를 하면 좋을지 고민해보세요."
      ]
    },
    {
      "cell_type": "markdown",
      "metadata": {
        "id": "wjFaCjiG0snv"
      },
      "source": [
        "1. 새로운 파생 변수 생성하기\n",
        "2. 변수 변환 필요하다면 활용 (log, ratio)\n",
        "3. 피처 선택 / 차원축소 통해 노이즈 제거\n",
        "4. 결측치 처리 방법 변경\n",
        "5. 이상치 처리\n",
        "6. 스케일링\n",
        "- 하이퍼 파라미터 튜닝(grid search, optuna 등)\n",
        "- cross validation 활용하기\n",
        "- 과적합 방지를 위한 정규화/규제\n",
        "- feature importance 분석 후 덜 중요한 피처 제거\n",
        "- 모델 해석 도구 활용(shap)"
      ]
    }
  ],
  "metadata": {
    "colab": {
      "provenance": []
    },
    "kernelspec": {
      "display_name": "basicenv",
      "language": "python",
      "name": "python3"
    },
    "language_info": {
      "codemirror_mode": {
        "name": "ipython",
        "version": 3
      },
      "file_extension": ".py",
      "mimetype": "text/x-python",
      "name": "python",
      "nbconvert_exporter": "python",
      "pygments_lexer": "ipython3",
      "version": "3.12.6"
    }
  },
  "nbformat": 4,
  "nbformat_minor": 0
}