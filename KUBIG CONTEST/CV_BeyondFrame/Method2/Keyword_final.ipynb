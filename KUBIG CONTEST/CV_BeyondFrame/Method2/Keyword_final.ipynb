{
  "nbformat": 4,
  "nbformat_minor": 0,
  "metadata": {
    "colab": {
      "provenance": [],
      "gpuType": "T4"
    },
    "kernelspec": {
      "name": "python3",
      "display_name": "Python 3"
    },
    "language_info": {
      "name": "python"
    },
    "accelerator": "GPU"
  },
  "cells": [
    {
      "cell_type": "code",
      "source": [
        "%pip uninstall -y spacy thinc numpy cymem preshed srsly murmurhash catalogue\n",
        "\n",
        "%pip install -q numpy==1.26.4 spacy==3.7.4 thinc==8.2.2\n",
        "!python -m spacy download en_core_web_sm\n",
        "\n",
        "import os\n",
        "os.kill(os.getpid(), 9)"
      ],
      "metadata": {
        "colab": {
          "base_uri": "https://localhost:8080/"
        },
        "id": "Yrpn0v0c3fS2",
        "outputId": "2e68454e-4a1e-45b0-d043-c596cb67e6c3"
      },
      "execution_count": null,
      "outputs": [
        {
          "output_type": "stream",
          "name": "stdout",
          "text": [
            "Found existing installation: spacy 3.8.7\n",
            "Uninstalling spacy-3.8.7:\n",
            "  Successfully uninstalled spacy-3.8.7\n",
            "Found existing installation: thinc 8.3.6\n",
            "Uninstalling thinc-8.3.6:\n",
            "  Successfully uninstalled thinc-8.3.6\n",
            "Found existing installation: numpy 2.0.2\n",
            "Uninstalling numpy-2.0.2:\n",
            "  Successfully uninstalled numpy-2.0.2\n",
            "Found existing installation: cymem 2.0.11\n",
            "Uninstalling cymem-2.0.11:\n",
            "  Successfully uninstalled cymem-2.0.11\n",
            "Found existing installation: preshed 3.0.10\n",
            "Uninstalling preshed-3.0.10:\n",
            "  Successfully uninstalled preshed-3.0.10\n",
            "Found existing installation: srsly 2.5.1\n",
            "Uninstalling srsly-2.5.1:\n",
            "  Successfully uninstalled srsly-2.5.1\n",
            "Found existing installation: murmurhash 1.0.13\n",
            "Uninstalling murmurhash-1.0.13:\n",
            "  Successfully uninstalled murmurhash-1.0.13\n",
            "Found existing installation: catalogue 2.0.10\n",
            "Uninstalling catalogue-2.0.10:\n",
            "  Successfully uninstalled catalogue-2.0.10\n",
            "\u001b[2K     \u001b[90m━━━━━━━━━━━━━━━━━━━━━━━━━━━━━━━━━━━━━━━━\u001b[0m \u001b[32m61.0/61.0 kB\u001b[0m \u001b[31m4.4 MB/s\u001b[0m eta \u001b[36m0:00:00\u001b[0m\n",
            "\u001b[2K   \u001b[90m━━━━━━━━━━━━━━━━━━━━━━━━━━━━━━━━━━━━━━━━\u001b[0m \u001b[32m18.0/18.0 MB\u001b[0m \u001b[31m65.6 MB/s\u001b[0m eta \u001b[36m0:00:00\u001b[0m\n",
            "\u001b[2K   \u001b[90m━━━━━━━━━━━━━━━━━━━━━━━━━━━━━━━━━━━━━━━━\u001b[0m \u001b[32m6.5/6.5 MB\u001b[0m \u001b[31m95.2 MB/s\u001b[0m eta \u001b[36m0:00:00\u001b[0m\n",
            "\u001b[2K   \u001b[90m━━━━━━━━━━━━━━━━━━━━━━━━━━━━━━━━━━━━━━━━\u001b[0m \u001b[32m865.0/865.0 kB\u001b[0m \u001b[31m63.4 MB/s\u001b[0m eta \u001b[36m0:00:00\u001b[0m\n",
            "\u001b[2K   \u001b[90m━━━━━━━━━━━━━━━━━━━━━━━━━━━━━━━━━━━━━━━━\u001b[0m \u001b[32m10.2/10.2 MB\u001b[0m \u001b[31m140.8 MB/s\u001b[0m eta \u001b[36m0:00:00\u001b[0m\n",
            "\u001b[2K   \u001b[90m━━━━━━━━━━━━━━━━━━━━━━━━━━━━━━━━━━━━━━━━\u001b[0m \u001b[32m228.0/228.0 kB\u001b[0m \u001b[31m20.1 MB/s\u001b[0m eta \u001b[36m0:00:00\u001b[0m\n",
            "\u001b[2K   \u001b[90m━━━━━━━━━━━━━━━━━━━━━━━━━━━━━━━━━━━━━━━━\u001b[0m \u001b[32m128.9/128.9 kB\u001b[0m \u001b[31m13.8 MB/s\u001b[0m eta \u001b[36m0:00:00\u001b[0m\n",
            "\u001b[2K   \u001b[90m━━━━━━━━━━━━━━━━━━━━━━━━━━━━━━━━━━━━━━━━\u001b[0m \u001b[32m869.3/869.3 kB\u001b[0m \u001b[31m61.9 MB/s\u001b[0m eta \u001b[36m0:00:00\u001b[0m\n",
            "\u001b[2K   \u001b[90m━━━━━━━━━━━━━━━━━━━━━━━━━━━━━━━━━━━━━━━━\u001b[0m \u001b[32m57.0/57.0 kB\u001b[0m \u001b[31m5.4 MB/s\u001b[0m eta \u001b[36m0:00:00\u001b[0m\n",
            "\u001b[2K   \u001b[90m━━━━━━━━━━━━━━━━━━━━━━━━━━━━━━━━━━━━━━━━\u001b[0m \u001b[32m1.1/1.1 MB\u001b[0m \u001b[31m67.0 MB/s\u001b[0m eta \u001b[36m0:00:00\u001b[0m\n",
            "\u001b[2K   \u001b[90m━━━━━━━━━━━━━━━━━━━━━━━━━━━━━━━━━━━━━━━━\u001b[0m \u001b[32m46.0/46.0 kB\u001b[0m \u001b[31m4.5 MB/s\u001b[0m eta \u001b[36m0:00:00\u001b[0m\n",
            "\u001b[2K   \u001b[90m━━━━━━━━━━━━━━━━━━━━━━━━━━━━━━━━━━━━━━━━\u001b[0m \u001b[32m50.1/50.1 kB\u001b[0m \u001b[31m4.7 MB/s\u001b[0m eta \u001b[36m0:00:00\u001b[0m\n",
            "\u001b[2K   \u001b[90m━━━━━━━━━━━━━━━━━━━━━━━━━━━━━━━━━━━━━━━━\u001b[0m \u001b[32m45.0/45.0 kB\u001b[0m \u001b[31m4.1 MB/s\u001b[0m eta \u001b[36m0:00:00\u001b[0m\n",
            "\u001b[?25h"
          ]
        }
      ]
    },
    {
      "cell_type": "code",
      "source": [
        "import numpy, spacy\n",
        "print(\"NumPy:\", numpy.__version__)           # 1.26.4\n",
        "nlp = spacy.load(\"en_core_web_sm\")\n",
        "print(\"spaCy OK\")"
      ],
      "metadata": {
        "id": "6i9roRMk4T2-",
        "colab": {
          "base_uri": "https://localhost:8080/"
        },
        "outputId": "9bbd2d10-8956-4ea9-ee03-383615911860"
      },
      "execution_count": null,
      "outputs": [
        {
          "output_type": "stream",
          "name": "stdout",
          "text": [
            "NumPy: 1.26.4\n",
            "spaCy OK\n"
          ]
        }
      ]
    },
    {
      "cell_type": "code",
      "source": [
        "from google.colab import drive\n",
        "drive.mount('/content/drive')\n",
        "\n",
        "import json, time, uuid, re"
      ],
      "metadata": {
        "id": "Ut977BF82he4",
        "colab": {
          "base_uri": "https://localhost:8080/"
        },
        "outputId": "d2f1d38c-87d8-4bff-c94c-d12e871497c5"
      },
      "execution_count": null,
      "outputs": [
        {
          "output_type": "stream",
          "name": "stdout",
          "text": [
            "Mounted at /content/drive\n"
          ]
        }
      ]
    },
    {
      "cell_type": "code",
      "source": [
        "VISUAL_POS = {\"NOUN\", \"PROPN\", \"ADJ\"}  # nouns, proper nouns, adjectives\n",
        "STOP = set(\"\"\"\n",
        "background detail details thing things something anything nothing very really just much many\n",
        "\"\"\".split())\n",
        "\n",
        "# A small mood lexicon (expandable)\n",
        "MOOD_VOCAB = {\n",
        "    \"moody\",\"cinematic\",\"dreamy\",\"vintage\",\"nostalgic\",\"vibrant\",\"muted\",\"pastel\",\"surreal\",\n",
        "    \"dramatic\",\"high-contrast\",\"low-contrast\",\"gritty\",\"soft\",\"warm\",\"cool\",\"noir\",\"minimal\",\n",
        "    \"documentary\",\"film-like\",\"polaroid\",\"watercolor\",\"oil-painting\",\"sketch\",\"futuristic\"\n",
        "}\n",
        "\n",
        "# Words commonly useful in image prompts (expandable)\n",
        "VISUAL_HINTS = {\n",
        "    \"portrait\",\"landscape\",\"street\",\"night\",\"sunset\",\"dawn\",\"rain\",\"fog\",\"forest\",\"mountain\",\n",
        "    \"ocean\",\"city\",\"neon\",\"bokeh\",\"macro\",\"aerial\",\"long-exposure\",\"wide-angle\",\"studio\",\"candid\"\n",
        "}"
      ],
      "metadata": {
        "id": "-G08otjJ2uB-"
      },
      "execution_count": null,
      "outputs": []
    },
    {
      "cell_type": "code",
      "source": [
        "# ===== Extract function =====\n",
        "def extract_prompt(text: str, top_k_keywords: int = 12):\n",
        "    doc = nlp(text)\n",
        "\n",
        "    # base candidates: ADJ/NOUN/PROPN (visual words)\n",
        "    candidates = []\n",
        "    for tok in doc:\n",
        "        if tok.pos_ in VISUAL_POS and tok.is_alpha:\n",
        "            w = tok.lemma_.lower()\n",
        "            if len(w) >= 3 and w not in STOP:\n",
        "                candidates.append(w)\n",
        "\n",
        "    # boost words that are likely visual/mood hints\n",
        "    scored = {}\n",
        "    for w in candidates:\n",
        "        score = 1.0\n",
        "        if w in MOOD_VOCAB: score += 2.0\n",
        "        if w in VISUAL_HINTS: score += 1.5\n",
        "\n",
        "        # simple weight: adjectives get a tiny boost\n",
        "        score += 0.2 if w in MOOD_VOCAB else 0.0\n",
        "        scored[w] = scored.get(w, 0) + score\n",
        "\n",
        "    mood = [w for w in scored.keys() if w in MOOD_VOCAB]\n",
        "    mood = sorted(set(mood), key=lambda x: -scored[x])[:5]  # up to 5 moods\n",
        "\n",
        "    # pick top visual keywords (excluding mood terms to avoid duplication)\n",
        "    for m in mood:\n",
        "        scored.pop(m, None)\n",
        "    keywords = sorted(scored.keys(), key=lambda x: -scored[x])[:top_k_keywords]\n",
        "\n",
        "    # compose final prompt text (expandable)\n",
        "    mood_phrase = \", \".join(mood) if mood else \"cinematic\"\n",
        "    kw_phrase = \", \".join(keywords) if keywords else \"soft light, clean background\"\n",
        "    final_prompt = f\"{mood_phrase}, {kw_phrase}\"\n",
        "\n",
        "    return {\n",
        "        \"keywords\": keywords,\n",
        "        \"mood\": mood,\n",
        "        \"final_prompt\": final_prompt\n",
        "    }"
      ],
      "metadata": {
        "id": "ETGpxfr521KB"
      },
      "execution_count": null,
      "outputs": []
    },
    {
      "cell_type": "code",
      "source": [
        "# ===== sample diary text =====\n",
        "diary_text = \"\"\"\n",
        "The mountain peaks blushed with golden light as the sun set.\n",
        "The town below glowed warmly against the winter chill.\n",
        "In that moment, Banff felt like a storybook brought to life.\n",
        "\"\"\"\n",
        "\n",
        "result = extract_prompt(diary_text, top_k_keywords=12)\n",
        "result"
      ],
      "metadata": {
        "id": "Hc7Hq7Rv2-ch",
        "colab": {
          "base_uri": "https://localhost:8080/"
        },
        "outputId": "cdeca7c2-cfe9-4d7b-eb37-f22918ad6038"
      },
      "execution_count": null,
      "outputs": [
        {
          "output_type": "execute_result",
          "data": {
            "text/plain": [
              "{'keywords': ['mountain',\n",
              "  'peak',\n",
              "  'golden',\n",
              "  'light',\n",
              "  'sun',\n",
              "  'set',\n",
              "  'town',\n",
              "  'winter',\n",
              "  'chill',\n",
              "  'moment',\n",
              "  'banff',\n",
              "  'storybook'],\n",
              " 'mood': [],\n",
              " 'final_prompt': 'cinematic, mountain, peak, golden, light, sun, set, town, winter, chill, moment, banff, storybook'}"
            ]
          },
          "metadata": {},
          "execution_count": 33
        }
      ]
    },
    {
      "cell_type": "code",
      "source": [
        "# ===== Save to Google Drive (shared folder) =====\n",
        "SHARED_DIR = \"/content/drive/MyDrive/colab_shared/style_prompts\"\n",
        "import os\n",
        "os.makedirs(SHARED_DIR, exist_ok=True)\n",
        "\n",
        "uid = uuid.uuid4().hex[:8]\n",
        "timestamp = int(time.time())\n",
        "base = f\"prompt_{timestamp}_{uid}\"\n",
        "\n",
        "json_path = f\"{SHARED_DIR}/{base}.json\"\n",
        "with open(json_path, \"w\") as f:\n",
        "    json.dump(result, f, indent=2)\n",
        "\n",
        "txt_path = f\"{SHARED_DIR}/{base}.txt\"\n",
        "with open(txt_path, \"w\") as f:\n",
        "    f.write(result[\"final_prompt\"])\n",
        "\n",
        "print(\"Saved JSON:\", json_path)\n",
        "print(\"Saved TEXT:\", txt_path)\n",
        "print(\"Prompt:\", result[\"final_prompt\"])"
      ],
      "metadata": {
        "id": "XFNj47AX3CBA",
        "colab": {
          "base_uri": "https://localhost:8080/"
        },
        "outputId": "26f9068c-6d53-4ee7-e57a-205b7720f6aa"
      },
      "execution_count": null,
      "outputs": [
        {
          "output_type": "stream",
          "name": "stdout",
          "text": [
            "Saved JSON: /content/drive/MyDrive/colab_shared/style_prompts/prompt_1755856296_067a399d.json\n",
            "Saved TEXT: /content/drive/MyDrive/colab_shared/style_prompts/prompt_1755856296_067a399d.txt\n",
            "Prompt: cinematic, mountain, peak, golden, light, sun, set, town, winter, chill, moment, banff, storybook\n"
          ]
        }
      ]
    }
  ]
}